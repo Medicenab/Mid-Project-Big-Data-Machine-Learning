{
 "cells": [
  {
   "cell_type": "markdown",
   "id": "f831ef07",
   "metadata": {},
   "source": [
    "![](https://api.brandy.run/core/core-logo-wide)\n",
    "\n",
    "# Map, Filter, Reduce"
   ]
  },
  {
   "cell_type": "markdown",
   "id": "aaf61a02",
   "metadata": {},
   "source": [
    "## 1. Callback\n",
    "\n",
    "Hemos visto que un patrón muy utilizado en la programación funcional es el patrón callback, donde una función es pasada como argumento de una otra función.\n",
    "\n",
    "Existen 3 operaciones muy importantes que utilizan de ese patrón en una serie de lenguajes de programación y herramientas, incluso, por supuesto, en python.\n",
    "\n",
    "La estructura de la utilización de esas funciones es muy parecida, pero sus funcionalidades son muy diferentes.\n",
    "\n",
    "![](img/functions.png)"
   ]
  },
  {
   "cell_type": "markdown",
   "id": "d8b654fe",
   "metadata": {},
   "source": [
    "## 2. Map\n",
    "\n",
    "La primera de las 3 operaciones que veremos es el map. La función `map` recibe 2 parámetros: un array y otra función. La función se ejecutará con cada elemento del array como argumento (mapeo) y el array resultante será devuelto como resultado del map.\n",
    "\n",
    "![](img/map.png)"
   ]
  },
  {
   "cell_type": "code",
   "execution_count": 1,
   "id": "f06909fc",
   "metadata": {},
   "outputs": [],
   "source": [
    "import numpy as np"
   ]
  },
  {
   "cell_type": "code",
   "execution_count": 2,
   "id": "115dd8a3",
   "metadata": {},
   "outputs": [],
   "source": [
    "lst = np.random.randint(1,101, 30)"
   ]
  },
  {
   "cell_type": "code",
   "execution_count": 3,
   "id": "0e9adfc3",
   "metadata": {},
   "outputs": [
    {
     "data": {
      "text/plain": [
       "array([81, 54, 62,  1, 92, 10, 10, 58, 40, 39, 19,  8, 58, 41, 20, 13,  4,\n",
       "       85, 71, 40, 53,  2, 94, 54, 37, 38,  8, 55, 11, 12])"
      ]
     },
     "execution_count": 3,
     "metadata": {},
     "output_type": "execute_result"
    }
   ],
   "source": [
    "lst"
   ]
  },
  {
   "cell_type": "code",
   "execution_count": 4,
   "id": "213a93ed",
   "metadata": {},
   "outputs": [],
   "source": [
    "def mitad(a):\n",
    "    return a/2"
   ]
  },
  {
   "cell_type": "markdown",
   "id": "20dbff35",
   "metadata": {},
   "source": [
    "Como podemos ver, la función `map` devuelve un objeto del tipo `map`, que como podemos imaginar por la primera parte de la lección, es un objeto iterador. Si lo convertimos a una lista, podemos ver los resultados."
   ]
  },
  {
   "cell_type": "code",
   "execution_count": 5,
   "id": "61119d43",
   "metadata": {},
   "outputs": [
    {
     "data": {
      "text/plain": [
       "<map at 0x114038790>"
      ]
     },
     "execution_count": 5,
     "metadata": {},
     "output_type": "execute_result"
    }
   ],
   "source": [
    "map(mitad, lst)"
   ]
  },
  {
   "cell_type": "markdown",
   "id": "1b736908",
   "metadata": {},
   "source": [
    "Muy comunmente, para aprovechar de el patrón callback, usaremos la función map con una función lambda."
   ]
  },
  {
   "cell_type": "code",
   "execution_count": 6,
   "id": "fcf1bcc9",
   "metadata": {},
   "outputs": [
    {
     "data": {
      "text/plain": [
       "30"
      ]
     },
     "execution_count": 6,
     "metadata": {},
     "output_type": "execute_result"
    }
   ],
   "source": [
    "len(list(map(lambda x: x*2, lst)))"
   ]
  },
  {
   "cell_type": "code",
   "execution_count": 7,
   "id": "641df237",
   "metadata": {
    "scrolled": true
   },
   "outputs": [
    {
     "data": {
      "text/plain": [
       "[40.5,\n",
       " 27.0,\n",
       " 31.0,\n",
       " 0.5,\n",
       " 46.0,\n",
       " 5.0,\n",
       " 5.0,\n",
       " 29.0,\n",
       " 20.0,\n",
       " 19.5,\n",
       " 9.5,\n",
       " 4.0,\n",
       " 29.0,\n",
       " 20.5,\n",
       " 10.0,\n",
       " 6.5,\n",
       " 2.0,\n",
       " 42.5,\n",
       " 35.5,\n",
       " 20.0,\n",
       " 26.5,\n",
       " 1.0,\n",
       " 47.0,\n",
       " 27.0,\n",
       " 18.5,\n",
       " 19.0,\n",
       " 4.0,\n",
       " 27.5,\n",
       " 5.5,\n",
       " 6.0]"
      ]
     },
     "execution_count": 7,
     "metadata": {},
     "output_type": "execute_result"
    }
   ],
   "source": [
    "list(map(mitad, lst))"
   ]
  },
  {
   "cell_type": "markdown",
   "id": "ffdd2610",
   "metadata": {},
   "source": [
    "El mapping es equivalente a hacer lo mismo en un list comprehension, con la diferencia de que genera un objeto iterador en lugar de una lista."
   ]
  },
  {
   "cell_type": "markdown",
   "id": "5f180f04",
   "metadata": {},
   "source": [
    "## 3. Filter\n",
    "\n",
    "Igualmente, tenemos la función filter, que también tiene su equivalente en el formato list comprehension. Hay una particularidad de la función que le pasemos a filter: los outputs de esa función deben ser equivalentes a `True` y `False`. Al ejecutar esa función con cada elemento del array como input, los que se consideren `True` estarán presentes en el resultado final, mientras los considerados `False` no estarán.\n",
    "\n",
    "Como se trata de un filtrado, el array resultante tendrá longitud entre 0 y la longitud de el array original\n",
    "\n",
    "![](img/filter.png)"
   ]
  },
  {
   "cell_type": "code",
   "execution_count": 8,
   "id": "d20701bc",
   "metadata": {},
   "outputs": [
    {
     "data": {
      "text/plain": [
       "array([81, 54, 62,  1, 92, 10, 10, 58, 40, 39, 19,  8, 58, 41, 20, 13,  4,\n",
       "       85, 71, 40, 53,  2, 94, 54, 37, 38,  8, 55, 11, 12])"
      ]
     },
     "execution_count": 8,
     "metadata": {},
     "output_type": "execute_result"
    }
   ],
   "source": [
    "lst"
   ]
  },
  {
   "cell_type": "code",
   "execution_count": 9,
   "id": "af869c76",
   "metadata": {},
   "outputs": [
    {
     "data": {
      "text/plain": [
       "[81, 54, 39, 54, 12]"
      ]
     },
     "execution_count": 9,
     "metadata": {},
     "output_type": "execute_result"
    }
   ],
   "source": [
    "list(filter(lambda x: x%3 == 0, lst))"
   ]
  },
  {
   "cell_type": "code",
   "execution_count": 10,
   "id": "a781f70a",
   "metadata": {},
   "outputs": [
    {
     "data": {
      "text/plain": [
       "array([81, 54, 62,  1, 92, 10, 10, 58, 40, 39, 19,  8, 58, 41, 20, 13,  4,\n",
       "       85, 71, 40, 53,  2, 94, 54, 37, 38,  8, 55, 11, 12])"
      ]
     },
     "execution_count": 10,
     "metadata": {},
     "output_type": "execute_result"
    }
   ],
   "source": [
    "lst"
   ]
  },
  {
   "cell_type": "markdown",
   "id": "b6b0b0dd",
   "metadata": {},
   "source": [
    "Igualmente, la función filter devuelve un iterador."
   ]
  },
  {
   "cell_type": "code",
   "execution_count": 11,
   "id": "e96bd75c",
   "metadata": {},
   "outputs": [
    {
     "data": {
      "text/plain": [
       "<filter at 0x12f4e4550>"
      ]
     },
     "execution_count": 11,
     "metadata": {},
     "output_type": "execute_result"
    }
   ],
   "source": [
    "filter(lambda x: x%3 == 0, lst)"
   ]
  },
  {
   "cell_type": "markdown",
   "id": "7ec28555",
   "metadata": {},
   "source": [
    "## 4. Reduce\n",
    "\n",
    "La tercera de esas funciones que se aprovechan de el patrón callback es la función reduce, la más diferente entre las 3. En lugar de devolver un array, la función reduce devuelve un único valor.\n",
    "\n",
    "El proceso para calcular ese valor final es aplicar la función a los 2 primeros elementos del array. El resultado vuelve a passarse a la función, con el siguiente de los elementos, y así sucesivamente hasta llegar al último elemento y el resultado final.\n",
    "\n",
    "Por ese motivo, al contrário de las dos herramientas anteriores, la función que pasemos al `reduce` debe recibir 2 parámetros.\n",
    "\n",
    "![](img/reduce.png)"
   ]
  },
  {
   "cell_type": "code",
   "execution_count": 12,
   "id": "462c67bf",
   "metadata": {},
   "outputs": [],
   "source": [
    "from functools import reduce"
   ]
  },
  {
   "cell_type": "code",
   "execution_count": 13,
   "id": "e5029d32",
   "metadata": {},
   "outputs": [
    {
     "data": {
      "text/plain": [
       "94"
      ]
     },
     "execution_count": 13,
     "metadata": {},
     "output_type": "execute_result"
    }
   ],
   "source": [
    "reduce(lambda x,y:x if x>y else y, lst)"
   ]
  },
  {
   "cell_type": "code",
   "execution_count": 14,
   "id": "e72b128d",
   "metadata": {},
   "outputs": [
    {
     "data": {
      "text/plain": [
       "array([81, 54, 62,  1, 92, 10, 10, 58, 40, 39, 19,  8, 58, 41, 20, 13,  4,\n",
       "       85, 71, 40, 53,  2, 94, 54, 37, 38,  8, 55, 11, 12])"
      ]
     },
     "execution_count": 14,
     "metadata": {},
     "output_type": "execute_result"
    }
   ],
   "source": [
    "lst"
   ]
  },
  {
   "cell_type": "code",
   "execution_count": 15,
   "id": "8583cefe",
   "metadata": {},
   "outputs": [
    {
     "data": {
      "text/plain": [
       "94"
      ]
     },
     "execution_count": 15,
     "metadata": {},
     "output_type": "execute_result"
    }
   ],
   "source": [
    "max(lst)"
   ]
  },
  {
   "cell_type": "markdown",
   "id": "12bb76c0",
   "metadata": {},
   "source": [
    "Hay un tercer parámetro opcional que podemos utilizar en el `reduce`, que es el parámetro `initializer`. Caso queramos que el primer parámetro de la primera llamada a la función sea un otro valor que no el primer elemento del array."
   ]
  },
  {
   "cell_type": "code",
   "execution_count": 16,
   "id": "e93c92bd",
   "metadata": {},
   "outputs": [
    {
     "data": {
      "text/plain": [
       "99999"
      ]
     },
     "execution_count": 16,
     "metadata": {},
     "output_type": "execute_result"
    }
   ],
   "source": [
    "reduce(lambda x,y:x if x>y else y, lst, 99999)"
   ]
  },
  {
   "cell_type": "code",
   "execution_count": 17,
   "id": "5bba6241",
   "metadata": {},
   "outputs": [],
   "source": [
    "list(lst).insert(0,9999)"
   ]
  },
  {
   "cell_type": "code",
   "execution_count": 18,
   "id": "b8ce9e9d",
   "metadata": {},
   "outputs": [
    {
     "data": {
      "text/plain": [
       "array([81, 54, 62,  1, 92, 10, 10, 58, 40, 39, 19,  8, 58, 41, 20, 13,  4,\n",
       "       85, 71, 40, 53,  2, 94, 54, 37, 38,  8, 55, 11, 12])"
      ]
     },
     "execution_count": 18,
     "metadata": {},
     "output_type": "execute_result"
    }
   ],
   "source": [
    "lst"
   ]
  },
  {
   "cell_type": "code",
   "execution_count": 19,
   "id": "13837e1c",
   "metadata": {},
   "outputs": [],
   "source": [
    "lst = [i for i in lst]"
   ]
  },
  {
   "cell_type": "code",
   "execution_count": 20,
   "id": "525af853",
   "metadata": {},
   "outputs": [
    {
     "data": {
      "text/plain": [
       "94"
      ]
     },
     "execution_count": 20,
     "metadata": {},
     "output_type": "execute_result"
    }
   ],
   "source": [
    "reduce(lambda x,y:x if x>y else y, lst)"
   ]
  },
  {
   "cell_type": "code",
   "execution_count": 21,
   "id": "5d1a959f",
   "metadata": {},
   "outputs": [
    {
     "data": {
      "text/plain": [
       "'w'"
      ]
     },
     "execution_count": 21,
     "metadata": {},
     "output_type": "execute_result"
    }
   ],
   "source": [
    "reduce(lambda x,y:x if x>y else y,list(\"holasdoiwqdioauofalwkdijkalosiuaouosd\"))"
   ]
  }
 ],
 "metadata": {
  "kernelspec": {
   "display_name": "Python 3 (ipykernel)",
   "language": "python",
   "name": "python3"
  },
  "language_info": {
   "codemirror_mode": {
    "name": "ipython",
    "version": 3
   },
   "file_extension": ".py",
   "mimetype": "text/x-python",
   "name": "python",
   "nbconvert_exporter": "python",
   "pygments_lexer": "ipython3",
   "version": "3.9.7"
  },
  "toc": {
   "base_numbering": 1,
   "nav_menu": {},
   "number_sections": false,
   "sideBar": true,
   "skip_h1_title": true,
   "title_cell": "Table of Contents",
   "title_sidebar": "Contents",
   "toc_cell": true,
   "toc_position": {
    "height": "calc(100% - 180px)",
    "left": "10px",
    "top": "150px",
    "width": "288px"
   },
   "toc_section_display": true,
   "toc_window_display": true
  }
 },
 "nbformat": 4,
 "nbformat_minor": 5
}
