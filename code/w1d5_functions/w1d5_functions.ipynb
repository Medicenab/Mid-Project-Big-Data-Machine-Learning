{
 "cells": [
  {
   "cell_type": "markdown",
   "id": "19718906",
   "metadata": {},
   "source": [
    "![](https://api.brandy.run/core/core-logo-wide)\n",
    "## Que es una función?\n",
    "\n",
    "- Un bloque de código reutilizable \n",
    "- Cumple una acción/Resuelve un problema\n",
    "- Podemos definir funciones\n",
    "- Hay funciones `built-in` (que vienen por defecto en python)\n",
    "- Pueden recibir valores (argumentos)\n",
    "- Puede tener parámetros\n",
    "- ⚠️Devuelven valores (siempre? SÍ!!! Como mínimo None)\n",
    "- Las variables que defines dentro de una función solo puedes usarlas dentro de esa misma función (Scope Local)\n",
    "- Complejas (todavía, pero no por mucho)\n",
    "- ⚠️Las funciones tienen nombre (¿siempre?)\n",
    "- Se dice `llamar a una función` el hecho de ejecutarla.\n",
    "- Las funciones pueden llamar a si mismas (Recursividad)\n",
    "- Una función puede llamar a otra función.\n",
    "- Se pueden importar de otros ficheros, modulos, librerias\n",
    "- Modularizar el código\n",
    "- ABSTRACCIÓN ❤️‍🔥\n"
   ]
  },
  {
   "cell_type": "markdown",
   "id": "a1823b3e",
   "metadata": {},
   "source": [
    "### Importar funciones de otros archivos\n",
    "\n",
    "saludo es un archivo que se encuentra en esta misma carpeta y que contiene la funcion `saluda`, la cual recibe un parametro."
   ]
  },
  {
   "cell_type": "code",
   "execution_count": 1,
   "id": "392025f4",
   "metadata": {},
   "outputs": [],
   "source": [
    "from saludo import saluda"
   ]
  },
  {
   "cell_type": "code",
   "execution_count": 2,
   "id": "a920e1e9",
   "metadata": {},
   "outputs": [
    {
     "data": {
      "text/plain": [
       "'Hola Jose'"
      ]
     },
     "execution_count": 2,
     "metadata": {},
     "output_type": "execute_result"
    }
   ],
   "source": [
    "saluda(\"Jose\")"
   ]
  },
  {
   "cell_type": "markdown",
   "id": "6b218e5c",
   "metadata": {},
   "source": [
    "# La anatomia de una función (en python)"
   ]
  },
  {
   "cell_type": "code",
   "execution_count": 3,
   "id": "f7ad26c3-14ef-4fca-83e2-bab9b7b24adf",
   "metadata": {},
   "outputs": [],
   "source": [
    "def sumar(a,b):   # Firma de la funcion\n",
    "    pass      # Bloque de codigo"
   ]
  },
  {
   "cell_type": "markdown",
   "id": "d05b0dfc",
   "metadata": {},
   "source": [
    "En la firma de la función:\n",
    "- Definimos su nombre (como la vamos a llamar)\n",
    "- Definimos los parámetros de esa función"
   ]
  },
  {
   "cell_type": "code",
   "execution_count": 4,
   "id": "baa71dab-c769-4d67-a5ce-e3baa681b57a",
   "metadata": {},
   "outputs": [
    {
     "data": {
      "text/plain": [
       "<function __main__.sumar(a, b)>"
      ]
     },
     "execution_count": 4,
     "metadata": {},
     "output_type": "execute_result"
    }
   ],
   "source": [
    "sumar"
   ]
  },
  {
   "cell_type": "code",
   "execution_count": 5,
   "id": "53a51477-6d3d-4768-a1eb-5b30510d3771",
   "metadata": {},
   "outputs": [
    {
     "data": {
      "text/plain": [
       "function"
      ]
     },
     "execution_count": 5,
     "metadata": {},
     "output_type": "execute_result"
    }
   ],
   "source": [
    "type(sumar)"
   ]
  },
  {
   "cell_type": "code",
   "execution_count": 6,
   "id": "700f41c2-4f7c-4ce2-b704-0fdabef594bc",
   "metadata": {},
   "outputs": [
    {
     "name": "stdout",
     "output_type": "stream",
     "text": [
      "None\n"
     ]
    }
   ],
   "source": [
    "print(sumar(2,5))"
   ]
  },
  {
   "cell_type": "markdown",
   "id": "616be060",
   "metadata": {},
   "source": [
    "El proceso de definir una función es declarativo. No se ejecuta la función.\n",
    "\n",
    "La función solo se ejecuta cuando llamamos a ella."
   ]
  },
  {
   "cell_type": "code",
   "execution_count": 7,
   "id": "32948b2f-aba4-42d9-8bd6-42303fc6e4b8",
   "metadata": {},
   "outputs": [],
   "source": [
    "def sumar(a,b):\n",
    "    return a+b"
   ]
  },
  {
   "cell_type": "code",
   "execution_count": 8,
   "id": "c88d0785-4f96-4990-9a20-b06548478f14",
   "metadata": {},
   "outputs": [],
   "source": [
    "res = sumar(4,7)"
   ]
  },
  {
   "cell_type": "code",
   "execution_count": 9,
   "id": "e5fab059-c3a5-4955-9227-40cbd0f2c221",
   "metadata": {},
   "outputs": [
    {
     "name": "stdout",
     "output_type": "stream",
     "text": [
      "11\n"
     ]
    }
   ],
   "source": [
    "print(res)"
   ]
  },
  {
   "cell_type": "code",
   "execution_count": 10,
   "id": "5b9c4262-6870-41b3-9ce2-e07e3d179108",
   "metadata": {},
   "outputs": [],
   "source": [
    "def sumar(a,b):\n",
    "    return a+b"
   ]
  },
  {
   "cell_type": "code",
   "execution_count": 11,
   "id": "b2e0b845-7a0b-432c-9e27-eaf42d691212",
   "metadata": {},
   "outputs": [
    {
     "data": {
      "text/plain": [
       "11"
      ]
     },
     "execution_count": 11,
     "metadata": {},
     "output_type": "execute_result"
    }
   ],
   "source": [
    "sumar(4,7)"
   ]
  },
  {
   "cell_type": "markdown",
   "id": "233add57",
   "metadata": {},
   "source": [
    "> - En Python, las funciones son  un tipo de Objeto, (`First Class Object/Citizen`)\n",
    "> - Se pueden asignar a variables"
   ]
  },
  {
   "cell_type": "code",
   "execution_count": 12,
   "id": "4477545d-60fc-40dd-b5cf-6cf3bae0ad3d",
   "metadata": {},
   "outputs": [],
   "source": [
    "x = sumar"
   ]
  },
  {
   "cell_type": "code",
   "execution_count": 13,
   "id": "2ae2f99d-45a5-403e-ae3b-9dacecf6711e",
   "metadata": {},
   "outputs": [
    {
     "data": {
      "text/plain": [
       "10"
      ]
     },
     "execution_count": 13,
     "metadata": {},
     "output_type": "execute_result"
    }
   ],
   "source": [
    "sumar(4,6)"
   ]
  },
  {
   "cell_type": "code",
   "execution_count": 14,
   "id": "0040980b-9a3a-4e6c-a3b9-17badb702017",
   "metadata": {},
   "outputs": [
    {
     "data": {
      "text/plain": [
       "14"
      ]
     },
     "execution_count": 14,
     "metadata": {},
     "output_type": "execute_result"
    }
   ],
   "source": [
    "x(5,9)"
   ]
  },
  {
   "cell_type": "code",
   "execution_count": 15,
   "id": "aa0795fa-f49a-475a-9199-b322f2476936",
   "metadata": {},
   "outputs": [],
   "source": [
    "pintar = print"
   ]
  },
  {
   "cell_type": "code",
   "execution_count": 16,
   "id": "bc998b42-ae41-46c1-a66b-7ce8cb273ca3",
   "metadata": {},
   "outputs": [
    {
     "name": "stdout",
     "output_type": "stream",
     "text": [
      "Hola\n"
     ]
    }
   ],
   "source": [
    "pintar(\"Hola\")"
   ]
  },
  {
   "cell_type": "markdown",
   "id": "56f60ccb",
   "metadata": {},
   "source": [
    "## Parameters and Arguments"
   ]
  },
  {
   "cell_type": "code",
   "execution_count": 17,
   "id": "3ee982ef-2e82-4f2f-97f6-61f10c026173",
   "metadata": {},
   "outputs": [],
   "source": [
    "def suma(a,b):\n",
    "    return a+b"
   ]
  },
  {
   "cell_type": "code",
   "execution_count": 18,
   "id": "e553db3c-4b5f-424e-9b9e-3a3d8d53198f",
   "metadata": {},
   "outputs": [],
   "source": [
    "a = 5\n",
    "b = 6"
   ]
  },
  {
   "cell_type": "code",
   "execution_count": 19,
   "id": "3192cc91-adcd-4840-bdd8-abba34f2a060",
   "metadata": {},
   "outputs": [
    {
     "data": {
      "text/plain": [
       "11"
      ]
     },
     "execution_count": 19,
     "metadata": {},
     "output_type": "execute_result"
    }
   ],
   "source": [
    "suma(a,b)"
   ]
  },
  {
   "cell_type": "code",
   "execution_count": 20,
   "id": "349701d0-ce14-4abc-9f08-c44c42dcc2bb",
   "metadata": {},
   "outputs": [
    {
     "data": {
      "text/plain": [
       "8"
      ]
     },
     "execution_count": 20,
     "metadata": {},
     "output_type": "execute_result"
    }
   ],
   "source": [
    "suma(1,7)"
   ]
  },
  {
   "cell_type": "code",
   "execution_count": 21,
   "id": "524b43ec-a723-4af9-af5b-c6c904d6b601",
   "metadata": {},
   "outputs": [],
   "source": [
    "x, y = 90,18"
   ]
  },
  {
   "cell_type": "code",
   "execution_count": 22,
   "id": "8552ef2d-5877-4f3f-b25f-9f6adb68027d",
   "metadata": {},
   "outputs": [
    {
     "data": {
      "text/plain": [
       "18"
      ]
     },
     "execution_count": 22,
     "metadata": {},
     "output_type": "execute_result"
    }
   ],
   "source": [
    "y"
   ]
  },
  {
   "cell_type": "code",
   "execution_count": 23,
   "id": "ca35bad5-800f-4fb2-ae03-099570b433bf",
   "metadata": {},
   "outputs": [
    {
     "data": {
      "text/plain": [
       "108"
      ]
     },
     "execution_count": 23,
     "metadata": {},
     "output_type": "execute_result"
    }
   ],
   "source": [
    "suma(x,y)"
   ]
  },
  {
   "cell_type": "markdown",
   "id": "61c8c1c7",
   "metadata": {},
   "source": [
    "`El órden de los argumentos es IMPORTANTE.`"
   ]
  },
  {
   "cell_type": "code",
   "execution_count": 24,
   "id": "94d8549f-4022-4013-8beb-062e6b9a7efb",
   "metadata": {},
   "outputs": [],
   "source": [
    "def resta(a,b):\n",
    "    return a-b"
   ]
  },
  {
   "cell_type": "code",
   "execution_count": 25,
   "id": "1b846044-432d-40af-82a3-c382b655f491",
   "metadata": {},
   "outputs": [
    {
     "data": {
      "text/plain": [
       "-3"
      ]
     },
     "execution_count": 25,
     "metadata": {},
     "output_type": "execute_result"
    }
   ],
   "source": [
    "resta(1,4)"
   ]
  },
  {
   "cell_type": "code",
   "execution_count": 26,
   "id": "4c6c1a4e-a1cd-471d-bbd9-392b93961d9f",
   "metadata": {},
   "outputs": [
    {
     "data": {
      "text/plain": [
       "3"
      ]
     },
     "execution_count": 26,
     "metadata": {},
     "output_type": "execute_result"
    }
   ],
   "source": [
    "resta(4,1)"
   ]
  },
  {
   "cell_type": "markdown",
   "id": "aecbd338",
   "metadata": {},
   "source": [
    "## Positional vs Keyword\n",
    "\n",
    "Cuando llamamos a una función, hay 2 maneras de pasarle argumentos:\n",
    "\n",
    "- Posicionalmente, i.e:\n",
    "\n",
    "En el orden en que se pasen los argumentos se les asigna a los parámetros\n",
    "\n",
    "\n",
    "- Por la clave, i.e.:\n",
    "\n",
    "Nosotros definimos _explicitamente_ que valor queremos en cada parámetro (en este caso, el orden no importa)"
   ]
  },
  {
   "cell_type": "code",
   "execution_count": 27,
   "id": "de07e15c-cbfa-4104-a7d1-e726443e4f1d",
   "metadata": {},
   "outputs": [
    {
     "data": {
      "text/plain": [
       "60"
      ]
     },
     "execution_count": 27,
     "metadata": {},
     "output_type": "execute_result"
    }
   ],
   "source": [
    "resta(a=70, b=10)"
   ]
  },
  {
   "cell_type": "code",
   "execution_count": 28,
   "id": "d2c00e05-4080-44b0-a6e6-0a763787eea1",
   "metadata": {},
   "outputs": [
    {
     "data": {
      "text/plain": [
       "60"
      ]
     },
     "execution_count": 28,
     "metadata": {},
     "output_type": "execute_result"
    }
   ],
   "source": [
    "resta(b=10, a=70)"
   ]
  },
  {
   "cell_type": "code",
   "execution_count": 29,
   "id": "776ce97d-4ad1-49b1-9b6d-864fbedd548d",
   "metadata": {},
   "outputs": [],
   "source": [
    "resta?"
   ]
  },
  {
   "cell_type": "code",
   "execution_count": 30,
   "id": "b4c2cd8d-1561-457e-8fb4-6af7be9f9df8",
   "metadata": {},
   "outputs": [],
   "source": [
    "def resta(a,b):\n",
    "    '''\n",
    "    Esto realiza la resta de 2 numeros, a-b\n",
    "    '''\n",
    "    return a-b"
   ]
  },
  {
   "cell_type": "code",
   "execution_count": 31,
   "id": "77b976eb-2388-4f50-8d04-950101dbaf05",
   "metadata": {},
   "outputs": [],
   "source": [
    "def cartero(maria, carlos, antonio):\n",
    "    print(f\"Maria ha recibido la carta de {maria}\")\n",
    "    print(f\"Carlos ha recibido la carte de {carlos}\")\n",
    "    print(f\"Antonio ha recibido la carta de {antonio}\")"
   ]
  },
  {
   "cell_type": "markdown",
   "id": "d6328e57",
   "metadata": {},
   "source": [
    "En el pueblo tenemos el cartero más tonto del planeta:\n",
    "\n",
    "- Siempre entrega las cartas en el orden que les damos a él"
   ]
  },
  {
   "cell_type": "code",
   "execution_count": 32,
   "id": "f0f47197-9b14-4315-96fe-ef5819e52f06",
   "metadata": {},
   "outputs": [
    {
     "name": "stdout",
     "output_type": "stream",
     "text": [
      "Maria ha recibido la carta de Maria\n",
      "Carlos ha recibido la carte de Carlos\n",
      "Antonio ha recibido la carta de Antonio\n"
     ]
    }
   ],
   "source": [
    "cartero(\"Maria\", \"Carlos\", \"Antonio\")"
   ]
  },
  {
   "cell_type": "code",
   "execution_count": 33,
   "id": "f19d176b-b57b-4de4-bac0-0c2f32848562",
   "metadata": {},
   "outputs": [
    {
     "name": "stdout",
     "output_type": "stream",
     "text": [
      "Maria ha recibido la carta de Carlos\n",
      "Carlos ha recibido la carte de Antonio\n",
      "Antonio ha recibido la carta de Maria\n"
     ]
    }
   ],
   "source": [
    "cartero(\"Carlos\", \"Antonio\", \"Maria\")"
   ]
  },
  {
   "cell_type": "code",
   "execution_count": 34,
   "id": "5b88aef8-803d-471f-8a55-0a8bdcc1dc03",
   "metadata": {},
   "outputs": [
    {
     "name": "stdout",
     "output_type": "stream",
     "text": [
      "Maria ha recibido la carta de Maria\n",
      "Carlos ha recibido la carte de Carlos\n",
      "Antonio ha recibido la carta de Antonio\n"
     ]
    }
   ],
   "source": [
    "cartero(maria=\"Maria\", antonio=\"Antonio\", carlos=\"Carlos\")"
   ]
  },
  {
   "cell_type": "markdown",
   "id": "6edf65a3",
   "metadata": {},
   "source": [
    "## Podemos mezclar?\n",
    "\n",
    "- Los argumentos posicionales SIEMPRE antes de los Keyword\n",
    "\n",
    "- No se pueden saltar elementos posicionales"
   ]
  },
  {
   "cell_type": "code",
   "execution_count": 35,
   "id": "69c137d2-1408-4d13-bcf5-884e687c02a1",
   "metadata": {},
   "outputs": [
    {
     "name": "stdout",
     "output_type": "stream",
     "text": [
      "Maria ha recibido la carta de Maria\n",
      "Carlos ha recibido la carte de Carlos\n",
      "Antonio ha recibido la carta de Antonio\n"
     ]
    }
   ],
   "source": [
    "cartero(\"Maria\", antonio=\"Antonio\", carlos=\"Carlos\")"
   ]
  },
  {
   "cell_type": "code",
   "execution_count": 36,
   "id": "360f7f81-256f-48bc-bd5e-3da77537349a",
   "metadata": {},
   "outputs": [
    {
     "ename": "SyntaxError",
     "evalue": "positional argument follows keyword argument (719569719.py, line 1)",
     "output_type": "error",
     "traceback": [
      "\u001b[0;36m  File \u001b[0;32m\"/var/folders/gd/w3m3w_td6cldhkn58qwx7mtm0000gn/T/ipykernel_8437/719569719.py\"\u001b[0;36m, line \u001b[0;32m1\u001b[0m\n\u001b[0;31m    cartero(antonio=\"Antonio\", carlos=\"Carlos\", \"Maria\")\u001b[0m\n\u001b[0m                                                       ^\u001b[0m\n\u001b[0;31mSyntaxError\u001b[0m\u001b[0;31m:\u001b[0m positional argument follows keyword argument\n"
     ]
    }
   ],
   "source": [
    "cartero(antonio=\"Antonio\", carlos=\"Carlos\", \"Maria\")"
   ]
  },
  {
   "cell_type": "code",
   "execution_count": 37,
   "id": "6476f94e-81c1-40e8-976d-b395b17a5267",
   "metadata": {},
   "outputs": [
    {
     "ename": "SyntaxError",
     "evalue": "positional argument follows keyword argument (1783103303.py, line 1)",
     "output_type": "error",
     "traceback": [
      "\u001b[0;36m  File \u001b[0;32m\"/var/folders/gd/w3m3w_td6cldhkn58qwx7mtm0000gn/T/ipykernel_8437/1783103303.py\"\u001b[0;36m, line \u001b[0;32m1\u001b[0m\n\u001b[0;31m    cartero(maria=\"Maria\", \"Carlos\", \"Antonio\")\u001b[0m\n\u001b[0m                                              ^\u001b[0m\n\u001b[0;31mSyntaxError\u001b[0m\u001b[0;31m:\u001b[0m positional argument follows keyword argument\n"
     ]
    }
   ],
   "source": [
    "cartero(maria=\"Maria\", \"Carlos\", \"Antonio\")"
   ]
  },
  {
   "cell_type": "code",
   "execution_count": 38,
   "id": "2b9e3406-772e-496c-9859-81d69c276f59",
   "metadata": {},
   "outputs": [
    {
     "ename": "SyntaxError",
     "evalue": "positional argument follows keyword argument (2314055116.py, line 1)",
     "output_type": "error",
     "traceback": [
      "\u001b[0;36m  File \u001b[0;32m\"/var/folders/gd/w3m3w_td6cldhkn58qwx7mtm0000gn/T/ipykernel_8437/2314055116.py\"\u001b[0;36m, line \u001b[0;32m1\u001b[0m\n\u001b[0;31m    cartero(maria=\"Maria\", \"Carlos\", antonio=\"Antonio\")\u001b[0m\n\u001b[0m                                                      ^\u001b[0m\n\u001b[0;31mSyntaxError\u001b[0m\u001b[0;31m:\u001b[0m positional argument follows keyword argument\n"
     ]
    }
   ],
   "source": [
    "cartero(maria=\"Maria\", \"Carlos\", antonio=\"Antonio\")"
   ]
  },
  {
   "cell_type": "code",
   "execution_count": 39,
   "id": "f0a07648-5cc4-442f-b52d-f9c3ff1ba067",
   "metadata": {},
   "outputs": [
    {
     "ename": "TypeError",
     "evalue": "cartero() got multiple values for argument 'carlos'",
     "output_type": "error",
     "traceback": [
      "\u001b[0;31m---------------------------------------------------------------------------\u001b[0m",
      "\u001b[0;31mTypeError\u001b[0m                                 Traceback (most recent call last)",
      "\u001b[0;32m/var/folders/gd/w3m3w_td6cldhkn58qwx7mtm0000gn/T/ipykernel_8437/1729783490.py\u001b[0m in \u001b[0;36m<module>\u001b[0;34m\u001b[0m\n\u001b[0;32m----> 1\u001b[0;31m \u001b[0mcartero\u001b[0m\u001b[0;34m(\u001b[0m\u001b[0;34m\"Maria\"\u001b[0m\u001b[0;34m,\u001b[0m \u001b[0;34m\"Antonio\"\u001b[0m\u001b[0;34m,\u001b[0m \u001b[0mcarlos\u001b[0m\u001b[0;34m=\u001b[0m\u001b[0;34m\"Carlos\"\u001b[0m\u001b[0;34m)\u001b[0m\u001b[0;34m\u001b[0m\u001b[0;34m\u001b[0m\u001b[0m\n\u001b[0m",
      "\u001b[0;31mTypeError\u001b[0m: cartero() got multiple values for argument 'carlos'"
     ]
    }
   ],
   "source": [
    "cartero(\"Maria\", \"Antonio\", carlos=\"Carlos\")"
   ]
  },
  {
   "cell_type": "markdown",
   "id": "9b24011c",
   "metadata": {},
   "source": [
    "# Parámetros por defecto"
   ]
  },
  {
   "cell_type": "code",
   "execution_count": 40,
   "id": "5dec9343-ef5d-4171-b869-2ef1711b93fe",
   "metadata": {},
   "outputs": [],
   "source": [
    "def saluda(nombre, idioma=\"esp\"):\n",
    "    if idioma==\"esp\":\n",
    "        return f\"Hola {nombre}\"\n",
    "    else:\n",
    "        return f\"Hello {nombre}\""
   ]
  },
  {
   "cell_type": "code",
   "execution_count": 41,
   "id": "fca77dc1-9701-4819-944c-d911c6d2cfe3",
   "metadata": {},
   "outputs": [
    {
     "data": {
      "text/plain": [
       "'Hello Jose'"
      ]
     },
     "execution_count": 41,
     "metadata": {},
     "output_type": "execute_result"
    }
   ],
   "source": [
    "saluda(\"Jose\", \"asodiaud\")"
   ]
  },
  {
   "cell_type": "markdown",
   "id": "a3de85cd",
   "metadata": {},
   "source": [
    "> Los parámetros con valores por defecto siempre van después de los parámetros sin valores por defecto"
   ]
  },
  {
   "cell_type": "code",
   "execution_count": 42,
   "id": "2579ac86-b809-48f0-811e-d31ee5218c46",
   "metadata": {},
   "outputs": [
    {
     "ename": "SyntaxError",
     "evalue": "non-default argument follows default argument (880529957.py, line 1)",
     "output_type": "error",
     "traceback": [
      "\u001b[0;36m  File \u001b[0;32m\"/var/folders/gd/w3m3w_td6cldhkn58qwx7mtm0000gn/T/ipykernel_8437/880529957.py\"\u001b[0;36m, line \u001b[0;32m1\u001b[0m\n\u001b[0;31m    def saluda(nombre=\"Antonio\", idioma):\u001b[0m\n\u001b[0m                                       ^\u001b[0m\n\u001b[0;31mSyntaxError\u001b[0m\u001b[0;31m:\u001b[0m non-default argument follows default argument\n"
     ]
    }
   ],
   "source": [
    "def saluda(nombre=\"Antonio\", idioma):\n",
    "    if idioma==\"esp\":\n",
    "        return f\"Hola {nombre}\"\n",
    "    else:\n",
    "        return f\"Hello {nombre}\""
   ]
  },
  {
   "cell_type": "code",
   "execution_count": 43,
   "id": "5a9bdb29-2e9f-4792-9d5a-436339b35d7f",
   "metadata": {},
   "outputs": [
    {
     "ename": "TypeError",
     "evalue": "saluda() missing 1 required positional argument: 'nombre'",
     "output_type": "error",
     "traceback": [
      "\u001b[0;31m---------------------------------------------------------------------------\u001b[0m",
      "\u001b[0;31mTypeError\u001b[0m                                 Traceback (most recent call last)",
      "\u001b[0;32m/var/folders/gd/w3m3w_td6cldhkn58qwx7mtm0000gn/T/ipykernel_8437/3368692188.py\u001b[0m in \u001b[0;36m<module>\u001b[0;34m\u001b[0m\n\u001b[0;32m----> 1\u001b[0;31m \u001b[0msaluda\u001b[0m\u001b[0;34m(\u001b[0m\u001b[0;34m)\u001b[0m\u001b[0;34m\u001b[0m\u001b[0;34m\u001b[0m\u001b[0m\n\u001b[0m",
      "\u001b[0;31mTypeError\u001b[0m: saluda() missing 1 required positional argument: 'nombre'"
     ]
    }
   ],
   "source": [
    "saluda()"
   ]
  },
  {
   "cell_type": "markdown",
   "id": "5db44931",
   "metadata": {},
   "source": [
    "## Una función sin return\n",
    "\n",
    "- Las funciones sin return devuelven None"
   ]
  },
  {
   "cell_type": "code",
   "execution_count": 44,
   "id": "d2f4cf25-f79b-44df-a17d-2c9f629507b2",
   "metadata": {},
   "outputs": [],
   "source": [
    "def noNe(nombre):\n",
    "    f\"{nombre} hola\""
   ]
  },
  {
   "cell_type": "code",
   "execution_count": 45,
   "id": "d0167d59-282f-46b2-8deb-488a30eeaab2",
   "metadata": {},
   "outputs": [],
   "source": [
    "res = noNe(\"Jose\")"
   ]
  },
  {
   "cell_type": "code",
   "execution_count": 46,
   "id": "68d8ed5c-853d-494c-a074-2e8078efd418",
   "metadata": {},
   "outputs": [
    {
     "name": "stdout",
     "output_type": "stream",
     "text": [
      "None\n"
     ]
    }
   ],
   "source": [
    "print(res)"
   ]
  },
  {
   "cell_type": "markdown",
   "id": "ced8268d",
   "metadata": {},
   "source": [
    "# Print no es lo mismo que return\n",
    "\n",
    "- Print: pinta en la pantalla\n",
    "- Return: Devuelve resultado como objeto python"
   ]
  },
  {
   "cell_type": "code",
   "execution_count": 47,
   "id": "b6a56202-d9d1-4616-952f-694af84596ef",
   "metadata": {},
   "outputs": [],
   "source": [
    "def print_no_return(nombre):\n",
    "    print(nombre)"
   ]
  },
  {
   "cell_type": "code",
   "execution_count": 48,
   "id": "8a223295-7f7f-40bd-90d7-a3ac85867078",
   "metadata": {},
   "outputs": [
    {
     "name": "stdout",
     "output_type": "stream",
     "text": [
      "jose\n"
     ]
    }
   ],
   "source": [
    "res = print_no_return(\"jose\")"
   ]
  },
  {
   "cell_type": "code",
   "execution_count": 49,
   "id": "dd228369-b8d4-4d34-a1a2-6e03f525acdb",
   "metadata": {},
   "outputs": [
    {
     "name": "stdout",
     "output_type": "stream",
     "text": [
      "None\n"
     ]
    }
   ],
   "source": [
    "print(res)"
   ]
  },
  {
   "cell_type": "markdown",
   "id": "d2908962",
   "metadata": {},
   "source": [
    "## Scopes & Tipos de Funciones"
   ]
  },
  {
   "cell_type": "code",
   "execution_count": 50,
   "id": "e690099b-57e4-4087-b786-78576caf8243",
   "metadata": {},
   "outputs": [],
   "source": [
    "def func(args):\n",
    "    local_var = \"LOCAL\"\n",
    "    print(\"-\"*30)\n",
    "    print(f\"{local_var=}\")\n",
    "    print(f\"{args=}\")\n",
    "    print(f\"{global_var=}\")"
   ]
  },
  {
   "cell_type": "code",
   "execution_count": 51,
   "id": "50c17f77-102f-4f18-9d3f-202d1068a015",
   "metadata": {},
   "outputs": [
    {
     "name": "stdout",
     "output_type": "stream",
     "text": [
      "------------------------------\n",
      "local_var='LOCAL'\n",
      "args=56\n"
     ]
    },
    {
     "ename": "NameError",
     "evalue": "name 'global_var' is not defined",
     "output_type": "error",
     "traceback": [
      "\u001b[0;31m---------------------------------------------------------------------------\u001b[0m",
      "\u001b[0;31mNameError\u001b[0m                                 Traceback (most recent call last)",
      "\u001b[0;32m/var/folders/gd/w3m3w_td6cldhkn58qwx7mtm0000gn/T/ipykernel_8437/1156374915.py\u001b[0m in \u001b[0;36m<module>\u001b[0;34m\u001b[0m\n\u001b[0;32m----> 1\u001b[0;31m \u001b[0mfunc\u001b[0m\u001b[0;34m(\u001b[0m\u001b[0;36m56\u001b[0m\u001b[0;34m)\u001b[0m\u001b[0;34m\u001b[0m\u001b[0;34m\u001b[0m\u001b[0m\n\u001b[0m",
      "\u001b[0;32m/var/folders/gd/w3m3w_td6cldhkn58qwx7mtm0000gn/T/ipykernel_8437/112857000.py\u001b[0m in \u001b[0;36mfunc\u001b[0;34m(args)\u001b[0m\n\u001b[1;32m      4\u001b[0m     \u001b[0mprint\u001b[0m\u001b[0;34m(\u001b[0m\u001b[0;34mf\"{local_var=}\"\u001b[0m\u001b[0;34m)\u001b[0m\u001b[0;34m\u001b[0m\u001b[0;34m\u001b[0m\u001b[0m\n\u001b[1;32m      5\u001b[0m     \u001b[0mprint\u001b[0m\u001b[0;34m(\u001b[0m\u001b[0;34mf\"{args=}\"\u001b[0m\u001b[0;34m)\u001b[0m\u001b[0;34m\u001b[0m\u001b[0;34m\u001b[0m\u001b[0m\n\u001b[0;32m----> 6\u001b[0;31m     \u001b[0mprint\u001b[0m\u001b[0;34m(\u001b[0m\u001b[0;34mf\"{global_var=}\"\u001b[0m\u001b[0;34m)\u001b[0m\u001b[0;34m\u001b[0m\u001b[0;34m\u001b[0m\u001b[0m\n\u001b[0m",
      "\u001b[0;31mNameError\u001b[0m: name 'global_var' is not defined"
     ]
    }
   ],
   "source": [
    "func(56)"
   ]
  },
  {
   "cell_type": "code",
   "execution_count": 52,
   "id": "e32cdae0-f2dd-41de-9e29-39c5850a5e59",
   "metadata": {},
   "outputs": [],
   "source": [
    "global_var = \"GLOBAL\""
   ]
  },
  {
   "cell_type": "code",
   "execution_count": 53,
   "id": "75ff94ee-f6cb-4b5c-b49e-1d5daeee4a4f",
   "metadata": {},
   "outputs": [
    {
     "name": "stdout",
     "output_type": "stream",
     "text": [
      "------------------------------\n",
      "local_var='LOCAL'\n",
      "args=1000\n",
      "global_var='GLOBAL'\n"
     ]
    }
   ],
   "source": [
    "func(1000)"
   ]
  },
  {
   "cell_type": "code",
   "execution_count": 54,
   "id": "ee906969",
   "metadata": {},
   "outputs": [
    {
     "ename": "NameError",
     "evalue": "name 'local_var' is not defined",
     "output_type": "error",
     "traceback": [
      "\u001b[0;31m---------------------------------------------------------------------------\u001b[0m",
      "\u001b[0;31mNameError\u001b[0m                                 Traceback (most recent call last)",
      "\u001b[0;32m/var/folders/gd/w3m3w_td6cldhkn58qwx7mtm0000gn/T/ipykernel_8437/1445025415.py\u001b[0m in \u001b[0;36m<module>\u001b[0;34m\u001b[0m\n\u001b[0;32m----> 1\u001b[0;31m \u001b[0mprint\u001b[0m\u001b[0;34m(\u001b[0m\u001b[0mlocal_var\u001b[0m\u001b[0;34m)\u001b[0m\u001b[0;34m\u001b[0m\u001b[0;34m\u001b[0m\u001b[0m\n\u001b[0m",
      "\u001b[0;31mNameError\u001b[0m: name 'local_var' is not defined"
     ]
    }
   ],
   "source": [
    "print(local_var)"
   ]
  },
  {
   "cell_type": "code",
   "execution_count": 55,
   "id": "bc253cde-e0f5-4f6a-8c12-e0373e9035ce",
   "metadata": {},
   "outputs": [],
   "source": [
    "local_var = \"+\"*50"
   ]
  },
  {
   "cell_type": "code",
   "execution_count": 56,
   "id": "4ca10573-3696-49be-a251-816c53f6780e",
   "metadata": {},
   "outputs": [],
   "source": [
    "def func(args):\n",
    "    loca_var = \"LOCAL\"\n",
    "    print(\"-\"*30)\n",
    "    print(f\"{loca_var=}\")\n",
    "    print(f\"{args=}\")\n",
    "    print(f\"{global_var=}\")"
   ]
  },
  {
   "cell_type": "code",
   "execution_count": 57,
   "id": "72a7810e-8685-4468-9775-25d104a30194",
   "metadata": {},
   "outputs": [
    {
     "name": "stdout",
     "output_type": "stream",
     "text": [
      "------------------------------\n",
      "loca_var='LOCAL'\n",
      "args=1287\n",
      "global_var='GLOBAL'\n"
     ]
    }
   ],
   "source": [
    "func(1287)"
   ]
  },
  {
   "cell_type": "markdown",
   "id": "b9e49148",
   "metadata": {},
   "source": [
    "Aunque hayamos definido `local_var` como variable en el scope global, la variable local dentro de la funcion tienen prioridad sobre la variable del scope global."
   ]
  },
  {
   "cell_type": "markdown",
   "id": "0b10495d",
   "metadata": {},
   "source": [
    "### En función de el scope:\n",
    "\n",
    "#### Puras\n",
    "\n",
    "Aquellas funciones que no utilizan variables de scopes mayores que el suyo (variables globales), son las funciones cuyo resultado independe de el contexto\n",
    "\n",
    "\n",
    "#### Impuras\n",
    "\n",
    "Las funciones que dependen del contexto en que están, i.e.: dependen de variables globales."
   ]
  },
  {
   "cell_type": "code",
   "execution_count": 58,
   "id": "5419c7b3-9348-4dae-8be6-f934783252c1",
   "metadata": {},
   "outputs": [],
   "source": [
    "def suma_pura(a,b):\n",
    "    return a+b"
   ]
  },
  {
   "cell_type": "code",
   "execution_count": 59,
   "id": "359e68a1-3e1a-409e-bfa4-80cf79ca908e",
   "metadata": {},
   "outputs": [
    {
     "data": {
      "text/plain": [
       "9"
      ]
     },
     "execution_count": 59,
     "metadata": {},
     "output_type": "execute_result"
    }
   ],
   "source": [
    "suma_pura(6,3)"
   ]
  },
  {
   "cell_type": "code",
   "execution_count": 60,
   "id": "da97ed15-14f1-410c-88c6-b8b4b25240fb",
   "metadata": {},
   "outputs": [],
   "source": [
    "x = 5"
   ]
  },
  {
   "cell_type": "code",
   "execution_count": 61,
   "id": "48fb0aeb-6d72-44f8-bf6f-2c938d3fad39",
   "metadata": {},
   "outputs": [],
   "source": [
    "def suma_impura(a):\n",
    "    return a+x"
   ]
  },
  {
   "cell_type": "code",
   "execution_count": 62,
   "id": "6c70ea5e-6b51-4a6a-a488-0cd61c8128fa",
   "metadata": {},
   "outputs": [
    {
     "data": {
      "text/plain": [
       "12"
      ]
     },
     "execution_count": 62,
     "metadata": {},
     "output_type": "execute_result"
    }
   ],
   "source": [
    "suma_impura(7)"
   ]
  },
  {
   "cell_type": "markdown",
   "id": "c530fe58",
   "metadata": {},
   "source": [
    "### En función de la constancia de sus resultados\n",
    "\n",
    "#### Deterministas\n",
    "\n",
    "Siempre dan el mismo resultado para unos mismos argumentos\n",
    "\n",
    "#### No-deterministas\n",
    "\n",
    "Pueden tener resultados diferentes aunque llamadas con los mismos argumentos\n"
   ]
  },
  {
   "cell_type": "code",
   "execution_count": 63,
   "id": "9b2ceb2a-8d37-4ab5-9407-dc849b5feac5",
   "metadata": {},
   "outputs": [],
   "source": [
    "import numpy as np"
   ]
  },
  {
   "cell_type": "code",
   "execution_count": 64,
   "id": "6c23d37f-a77c-4b85-8e7d-d28d7d72a533",
   "metadata": {},
   "outputs": [],
   "source": [
    "z = 10\n",
    "def resta_determinista(a):\n",
    "    return a-z"
   ]
  },
  {
   "cell_type": "code",
   "execution_count": 65,
   "id": "7606dbff-d394-44dc-b911-821bdd2480db",
   "metadata": {},
   "outputs": [
    {
     "data": {
      "text/plain": [
       "0"
      ]
     },
     "execution_count": 65,
     "metadata": {},
     "output_type": "execute_result"
    }
   ],
   "source": [
    "resta_determinista(10)"
   ]
  },
  {
   "cell_type": "code",
   "execution_count": 67,
   "id": "f9f413d3-a174-4f15-b5af-d391c5aa0a09",
   "metadata": {},
   "outputs": [],
   "source": [
    "def resta_no_det(a):\n",
    "    return a-np.random.randint(10)"
   ]
  },
  {
   "cell_type": "code",
   "execution_count": 68,
   "id": "2a49816c",
   "metadata": {},
   "outputs": [
    {
     "data": {
      "text/plain": [
       "2"
      ]
     },
     "execution_count": 68,
     "metadata": {},
     "output_type": "execute_result"
    }
   ],
   "source": [
    "resta_no_det(10)"
   ]
  },
  {
   "cell_type": "markdown",
   "id": "ff3f3d4b",
   "metadata": {},
   "source": [
    "#### Recursividad\n",
    "\n",
    "La funcion se llama a sí misma. Tiene que tener una condición de parada para que no consuma todos los recursos del ordenador."
   ]
  },
  {
   "cell_type": "code",
   "execution_count": 69,
   "id": "62975735-f597-47be-848b-0b97fd2db1b2",
   "metadata": {},
   "outputs": [],
   "source": [
    "def suma_from_number_to_zero(number):\n",
    "    if number == 0:\n",
    "        return number\n",
    "    else:\n",
    "        return number + suma_from_number_to_zero(number-1)"
   ]
  },
  {
   "cell_type": "code",
   "execution_count": 70,
   "id": "7e0fe728-af60-4040-ad55-561afc7c5b9c",
   "metadata": {},
   "outputs": [
    {
     "data": {
      "text/plain": [
       "55"
      ]
     },
     "execution_count": 70,
     "metadata": {},
     "output_type": "execute_result"
    }
   ],
   "source": [
    "suma_from_number_to_zero(10)"
   ]
  },
  {
   "cell_type": "code",
   "execution_count": null,
   "id": "95f32f23",
   "metadata": {},
   "outputs": [],
   "source": []
  }
 ],
 "metadata": {
  "kernelspec": {
   "display_name": "Python 3.9.7 ('core')",
   "language": "python",
   "name": "python397jvsc74a57bd0aa1640d2ac6e0f3a2018707d4d149e59794b49be7abaea13b45183556f5674eb"
  },
  "language_info": {
   "codemirror_mode": {
    "name": "ipython",
    "version": 3
   },
   "file_extension": ".py",
   "mimetype": "text/x-python",
   "name": "python",
   "nbconvert_exporter": "python",
   "pygments_lexer": "ipython3",
   "version": "3.9.7"
  },
  "toc": {
   "base_numbering": 1,
   "nav_menu": {},
   "number_sections": true,
   "sideBar": true,
   "skip_h1_title": true,
   "title_cell": "Table of Contents",
   "title_sidebar": "Contents",
   "toc_cell": false,
   "toc_position": {},
   "toc_section_display": true,
   "toc_window_display": false
  }
 },
 "nbformat": 4,
 "nbformat_minor": 5
}
