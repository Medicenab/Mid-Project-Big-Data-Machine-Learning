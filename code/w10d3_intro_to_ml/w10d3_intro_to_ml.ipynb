{
 "cells": [
  {
   "cell_type": "markdown",
   "id": "2f7475b8",
   "metadata": {},
   "source": [
    "![](https://api.brandy.run/core/core-logo-wide)\n",
    "\n",
    "# Intro to Machine Learning"
   ]
  },
  {
   "cell_type": "markdown",
   "id": "3d555f0b",
   "metadata": {},
   "source": [
    "## What is Machine Learning?\n",
    "\n",
    "<img src=\"img/aimlnnd.png\" width=\"300\"/>\n",
    "\n",
    "### Artificial Intelligence\n",
    "Inteligencia artificial se refiere a cualquier tecnica que permite que un ordenador imite la inteligencia humana, desde el uso de la lógica con estructuras if..else hasta el uso de algoritmos de machine learning y redes neuronales.\n",
    "\n",
    "### Machine Learning\n",
    "Machine Learning es una parte de la inteligencia artificial en que el uso de tecnicas estadísticas y algoritmos que permiten que ordenadores aprendan con la experiencia.\n",
    "\n",
    "### Neural Networks\n",
    "Redes Neuronales se refieren a un conjunto específico de algoritmos y sistemas de computación basados en la estructura de las neuronas en un cérebro biológico.\n",
    "\n",
    "### Deep Learning\n",
    "Un subconjunto de ambos ML y NN, Deep Learning refierese a aquellas redes neuronales de mayor profundidad, i.e.: mayor número de capas.\n",
    "\n",
    "\n",
    "## ML definitions\n",
    "\n",
    "> \"Algorithms that improve automatically through experience.\"\n",
    "\n",
    ">\"Using data to anwer questions\"\n",
    "\n",
    ">\"A computer program is said to\n",
    "learn from experience E with\n",
    "respect to some class of tasks T\n",
    "and performance measure P if its\n",
    "performance at tasks in T, as\n",
    "measured by P, improves with\n",
    "experience E\"\n",
    ">- Tom Mitchell, 1997"
   ]
  },
  {
   "cell_type": "markdown",
   "id": "1904355d",
   "metadata": {},
   "source": [
    "## What does learning mean?\n",
    "\n",
    "- ¿Qué significa decir que una máquina es capaz de aprender?\n",
    "- ¿Y que es aprender?\n"
   ]
  },
  {
   "cell_type": "markdown",
   "id": "7e8f9715",
   "metadata": {},
   "source": [
    "<img src=\"img/pattern_1.png\"/>"
   ]
  },
  {
   "cell_type": "markdown",
   "id": "d2571084",
   "metadata": {},
   "source": [
    "<img src=\"img/pattern_2.png\"/>"
   ]
  },
  {
   "cell_type": "markdown",
   "id": "e6d5acec",
   "metadata": {},
   "source": [
    "<img src=\"img/pattern_3.png\"/>"
   ]
  },
  {
   "cell_type": "markdown",
   "id": "ac9da579",
   "metadata": {},
   "source": [
    "### Important Note #1\n",
    "- El reconocimiento de los patrones dependen de que hay suficientes datos para observarles"
   ]
  },
  {
   "cell_type": "markdown",
   "id": "ef76493f",
   "metadata": {},
   "source": [
    "## Pattern Recognition"
   ]
  },
  {
   "cell_type": "markdown",
   "id": "4a5fa3b0",
   "metadata": {},
   "source": [
    "<img src=\"img/cats_dogs.jpeg\"/>"
   ]
  },
  {
   "cell_type": "markdown",
   "id": "1e1e14ca",
   "metadata": {},
   "source": [
    "<img src=\"img/doggie.jpeg\" width=200 align=\"left\"/> <img src=\"img/doggie2.jpeg\" align=\"right\"/>"
   ]
  },
  {
   "cell_type": "markdown",
   "id": "20d098cc",
   "metadata": {},
   "source": [
    "### Important Note #2\n",
    "\n",
    "- También es importante la calidad de los datos (que sus features sean suficientemente discriminantes)"
   ]
  },
  {
   "cell_type": "markdown",
   "id": "d3441465",
   "metadata": {},
   "source": [
    "## How people learn vs how machines learn?\n",
    "- Humans: Analytic description (symbols)\n",
    "- Machine: Patterns and repetition\n",
    "\n",
    "\n",
    "### A couple of cool videos:\n",
    "\n",
    "- [OxfordSparks: What is Machine Learning](https://www.youtube.com/watch?v=f_uwKZIAeM0)\n",
    "- [CGP Grey: Teacher bot can't teach, teacher bot can test](https://www.youtube.com/watch?v=R9OHn5ZF4Uo)"
   ]
  },
  {
   "cell_type": "markdown",
   "id": "d8239813",
   "metadata": {},
   "source": [
    "# Types of Machine Learning\n",
    "\n",
    "![](img/typesofml_cross.png)\n",
    "\n",
    "> ### Cual es el error en el cartoon?\n",
    ">\n",
    "> Las maquinas `NO` aprenden descriptivamente, sino que por la identificación de patrones por la repetición de experimentos.\n",
    "\n",
    "![](img/typesofml_fixed.png)"
   ]
  },
  {
   "cell_type": "markdown",
   "id": "15a40911",
   "metadata": {},
   "source": [
    "> ### Supervised Learning\n",
    "> El modelo se entrena con datos para los cuales conocemos la característica que queremos predecir. E.g.: Entrenamos un modelo con fotos de perros y gatos identificados como tal. A essa identificación, la verdad que conocemos, se llama `Ground Truth` o `label`. Una vez entrenado el modelo, nuevos datos para los cuales el ground truth es desconocido, pueden recibir prediciones para ese valor.\n",
    ">\n",
    "> ### Unsupervised Learning\n",
    "> No hay `Ground Truth`, eso es, no sabemos en función de qué queremos buscar los patrones en esos datos. El modelo por si solo buscará patrones previamente desconocidos capaces de separar los data points en diferentes `clusters`. Como el patrón es previamente desconocido, será trabajo del data scientist encontrar una relación entre esos patrones y la características (features) de los data points.\n",
    ">\n",
    "> ### Semi-supervised Learning\n",
    "> Hay `Ground Truth` para parte de los datos y no la hay para lo demás. Esos algoritmos se empezaron a desarrollar devido al grande coste relacionado a la etiquetación (describir el ground truth) de los datos, que es un proceso de trabajo humano y más costoso que adquirir datos no-etiquetados. Una pequeña cantidad de datos etiquetados puede resultar en un gran avance en los modelos entrenados.\n",
    ">\n",
    "> ### Reinforcement Learning\n",
    "> No hay un `ground truth`. El objetivo de ese tipo de ML es que el ordenador adquira proficiencia en la realización de una tarea. Por lo cual cada una de sus acciones es valorada por una función de recompensas. El objetivo del modelo es adquirir la mayor cantidad posible de recompensas.\n",
    ">"
   ]
  },
  {
   "cell_type": "markdown",
   "id": "ae92334f",
   "metadata": {},
   "source": [
    "## Supervised Learning\n",
    "\n",
    "Empezando por los modelos de aprendizaje supervisado, lo primero que debemos hacer es separar los datos en 2 grupos relacionados:\n",
    "- Features\n",
    "- Ground Truth\n",
    "\n",
    "Las `features` son las características de nuestros datos. Cada feature puede ser de uno entre dos tipos:\n",
    "- Numéricas (contínuas)\n",
    "- Categóricas (discretas)\n",
    "\n",
    "Grande parte del trabajo de desarollar un buen modelo es saber trabajar bien sus features.\n",
    "\n",
    "El `Ground Truth` o `label` es la característica que deseamos predecir para los nuevos datos. Observando el GT descubriremos de que tipo es nuestro problema:\n",
    "\n",
    "- Classification\n",
    "    - Binary (Two-Class)\n",
    "    - Multi-class\n",
    "    - Multi-label\n",
    "- Regression"
   ]
  },
  {
   "cell_type": "markdown",
   "id": "e3919643",
   "metadata": {},
   "source": [
    "Son problemas de `clasificación` aquellos en que el ground truth es una variable categórica, con dos valores posibles mutuamente excluyentes (Binary), con más de dos valores posibles excluyentes (Multi-Class), o con valores no mutuamente excluyentes (Multi-Label)\n",
    "\n",
    "Por otro lado, la `regresión` es la acción de encontrar valores continuos para los diferentes data points."
   ]
  },
  {
   "cell_type": "markdown",
   "id": "266eef27",
   "metadata": {},
   "source": [
    "## Regression"
   ]
  },
  {
   "cell_type": "code",
   "execution_count": 1,
   "id": "3bcbc210",
   "metadata": {},
   "outputs": [],
   "source": [
    "import pandas as pd\n",
    "import numpy as np\n",
    "import matplotlib.pyplot as plt\n",
    "df = pd.read_csv(\"data/grades.csv\", index_col=0)"
   ]
  },
  {
   "cell_type": "code",
   "execution_count": 2,
   "id": "49acba8c-84eb-4aef-b454-b85d1ffd57dc",
   "metadata": {},
   "outputs": [
    {
     "data": {
      "text/plain": [
       "(100, 2)"
      ]
     },
     "execution_count": 2,
     "metadata": {},
     "output_type": "execute_result"
    }
   ],
   "source": [
    "df.shape"
   ]
  },
  {
   "cell_type": "code",
   "execution_count": 3,
   "id": "82667fe7",
   "metadata": {},
   "outputs": [
    {
     "data": {
      "text/html": [
       "<div>\n",
       "<style scoped>\n",
       "    .dataframe tbody tr th:only-of-type {\n",
       "        vertical-align: middle;\n",
       "    }\n",
       "\n",
       "    .dataframe tbody tr th {\n",
       "        vertical-align: top;\n",
       "    }\n",
       "\n",
       "    .dataframe thead th {\n",
       "        text-align: right;\n",
       "    }\n",
       "</style>\n",
       "<table border=\"1\" class=\"dataframe\">\n",
       "  <thead>\n",
       "    <tr style=\"text-align: right;\">\n",
       "      <th></th>\n",
       "      <th>study_time</th>\n",
       "      <th>grades</th>\n",
       "    </tr>\n",
       "  </thead>\n",
       "  <tbody>\n",
       "    <tr>\n",
       "      <th>0</th>\n",
       "      <td>865</td>\n",
       "      <td>95</td>\n",
       "    </tr>\n",
       "    <tr>\n",
       "      <th>1</th>\n",
       "      <td>4</td>\n",
       "      <td>12</td>\n",
       "    </tr>\n",
       "    <tr>\n",
       "      <th>2</th>\n",
       "      <td>305</td>\n",
       "      <td>35</td>\n",
       "    </tr>\n",
       "    <tr>\n",
       "      <th>3</th>\n",
       "      <td>437</td>\n",
       "      <td>56</td>\n",
       "    </tr>\n",
       "    <tr>\n",
       "      <th>4</th>\n",
       "      <td>682</td>\n",
       "      <td>86</td>\n",
       "    </tr>\n",
       "    <tr>\n",
       "      <th>...</th>\n",
       "      <td>...</td>\n",
       "      <td>...</td>\n",
       "    </tr>\n",
       "    <tr>\n",
       "      <th>95</th>\n",
       "      <td>252</td>\n",
       "      <td>66</td>\n",
       "    </tr>\n",
       "    <tr>\n",
       "      <th>96</th>\n",
       "      <td>49</td>\n",
       "      <td>21</td>\n",
       "    </tr>\n",
       "    <tr>\n",
       "      <th>97</th>\n",
       "      <td>792</td>\n",
       "      <td>97</td>\n",
       "    </tr>\n",
       "    <tr>\n",
       "      <th>98</th>\n",
       "      <td>310</td>\n",
       "      <td>46</td>\n",
       "    </tr>\n",
       "    <tr>\n",
       "      <th>99</th>\n",
       "      <td>934</td>\n",
       "      <td>89</td>\n",
       "    </tr>\n",
       "  </tbody>\n",
       "</table>\n",
       "<p>100 rows × 2 columns</p>\n",
       "</div>"
      ],
      "text/plain": [
       "    study_time  grades\n",
       "0          865      95\n",
       "1            4      12\n",
       "2          305      35\n",
       "3          437      56\n",
       "4          682      86\n",
       "..         ...     ...\n",
       "95         252      66\n",
       "96          49      21\n",
       "97         792      97\n",
       "98         310      46\n",
       "99         934      89\n",
       "\n",
       "[100 rows x 2 columns]"
      ]
     },
     "execution_count": 3,
     "metadata": {},
     "output_type": "execute_result"
    }
   ],
   "source": [
    "df"
   ]
  },
  {
   "cell_type": "code",
   "execution_count": 4,
   "id": "9fa6d906",
   "metadata": {},
   "outputs": [
    {
     "data": {
      "image/png": "[encoded data removed]",
      "text/plain": [
       "<Figure size 432x288 with 1 Axes>"
      ]
     },
     "metadata": {
      "needs_background": "light"
     },
     "output_type": "display_data"
    }
   ],
   "source": [
    "plt.scatter(df[\"study_time\"], df[\"grades\"])\n",
    "plt.xlabel(\"Study time\")\n",
    "plt.ylabel(\"Grade\");"
   ]
  },
  {
   "cell_type": "markdown",
   "id": "8ba76ee5",
   "metadata": {},
   "source": [
    "### Polynomial regression \n",
    "\n",
    "- Equation\n",
    "\n",
    "$ y = b + a_{1}x + a_{2}x^2 + \\cdots + a_{k}x^{k} + e $ \n",
    "\n",
    "- Matricial form\n",
    "\n",
    "$Ma=b$\n",
    "\n",
    "\n",
    "$\\begin{bmatrix} \\sum_{i=1}^{N} x_i^0 & \\sum_{i=1}^{N} x_i & \\cdots & \\sum_{i=1}^{N} x_i^k \\\\ \\sum_{i=1}^{N} x_i & \\sum_{i=1}^{N} x_i^2 & \\cdots & \\sum_{i=1}^{N} x_i^{k+1} \\\\ \\vdots & \\vdots & \\vdots & \\vdots \\\\ \\sum_{i=1}^{N} x_i^k & \\sum_{i=1}^{N} x_i^{k+1} & \\cdots & \\sum_{i=1}^{N} x_i^{2k} \\end{bmatrix} \\begin{bmatrix} a_0 \\\\ a_1 \\\\ \\vdots \\\\ a_k \\\\ \\end{bmatrix} = \\begin{bmatrix} \\sum_{i=1}^{N} x_i^0y_i \\\\ \\sum_{i=1}^{N} x_i y_i \\\\ \\vdots \\\\ \\sum_{i=1}^{N} x_i^k y_i \\\\ \\end{bmatrix}$\n",
    "\n"
   ]
  },
  {
   "cell_type": "code",
   "execution_count": 5,
   "id": "a464ac97",
   "metadata": {},
   "outputs": [],
   "source": [
    "def row(data,row_number,k):\n",
    "    return [sum([e**(row_number+i) for e in data])for i in range(k+1)]\n",
    "\n",
    "def matrix_m(data,k):\n",
    "    return np.array([row(data, i, k) for i in range(k+1)], dtype='float')"
   ]
  },
  {
   "cell_type": "code",
   "execution_count": 6,
   "id": "20d966d9",
   "metadata": {},
   "outputs": [],
   "source": [
    "def vector_b(x,y,k):\n",
    "    return np.array([sum((x**i)*y) for i in range(k+1)], dtype='float')"
   ]
  },
  {
   "cell_type": "code",
   "execution_count": 7,
   "id": "4a494775",
   "metadata": {},
   "outputs": [],
   "source": [
    "x = df[\"study_time\"]\n",
    "y = df[\"grades\"]"
   ]
  },
  {
   "cell_type": "code",
   "execution_count": 9,
   "id": "b17f79b0",
   "metadata": {},
   "outputs": [
    {
     "data": {
      "text/plain": [
       "0     865\n",
       "1       4\n",
       "2     305\n",
       "3     437\n",
       "4     682\n",
       "     ... \n",
       "95    252\n",
       "96     49\n",
       "97    792\n",
       "98    310\n",
       "99    934\n",
       "Name: study_time, Length: 100, dtype: int64"
      ]
     },
     "execution_count": 9,
     "metadata": {},
     "output_type": "execute_result"
    }
   ],
   "source": [
    "x"
   ]
  },
  {
   "cell_type": "code",
   "execution_count": 10,
   "id": "3168b0ae",
   "metadata": {},
   "outputs": [],
   "source": [
    "k = 1 # Polinomio grado 1 = recta\n",
    "M = matrix_m(x,k)\n",
    "b = vector_b(x,y,k)"
   ]
  },
  {
   "cell_type": "code",
   "execution_count": 11,
   "id": "6ac7eb11",
   "metadata": {},
   "outputs": [
    {
     "data": {
      "text/plain": [
       "array([[1.0000000e+02, 4.2854000e+04],\n",
       "       [4.2854000e+04, 2.6419576e+07]])"
      ]
     },
     "execution_count": 11,
     "metadata": {},
     "output_type": "execute_result"
    }
   ],
   "source": [
    "M"
   ]
  },
  {
   "cell_type": "code",
   "execution_count": 12,
   "id": "0004ec15",
   "metadata": {},
   "outputs": [
    {
     "data": {
      "text/plain": [
       "array([   4794., 2734078.])"
      ]
     },
     "execution_count": 12,
     "metadata": {},
     "output_type": "execute_result"
    }
   ],
   "source": [
    "b"
   ]
  },
  {
   "cell_type": "code",
   "execution_count": 13,
   "id": "cf0fa9ba",
   "metadata": {},
   "outputs": [],
   "source": [
    "a = np.linalg.solve(M, b)"
   ]
  },
  {
   "cell_type": "code",
   "execution_count": 14,
   "id": "909c06ed",
   "metadata": {},
   "outputs": [
    {
     "data": {
      "text/plain": [
       "array([11.78070718,  0.08437787])"
      ]
     },
     "execution_count": 14,
     "metadata": {},
     "output_type": "execute_result"
    }
   ],
   "source": [
    "a"
   ]
  },
  {
   "cell_type": "code",
   "execution_count": 16,
   "id": "be8f315d",
   "metadata": {},
   "outputs": [],
   "source": [
    "def predict(x,coef):\n",
    "    return sum([(x**i)*coef[i] for i in range(len(coef))])"
   ]
  },
  {
   "cell_type": "code",
   "execution_count": 17,
   "id": "e8c376ee",
   "metadata": {},
   "outputs": [
    {
     "data": {
      "text/plain": [
       "array([11.94946292, 12.78812782, 13.62679272, 14.46545762, 15.30412252])"
      ]
     },
     "execution_count": 17,
     "metadata": {},
     "output_type": "execute_result"
    }
   ],
   "source": [
    "x_ = np.linspace(x.min(), x.max(), 100)\n",
    "y_pred = predict(x_,a)\n",
    "y_pred[:5]"
   ]
  },
  {
   "cell_type": "code",
   "execution_count": 19,
   "id": "2003c7ee",
   "metadata": {},
   "outputs": [
    {
     "data": {
      "image/png": "[encoded data removed]",
      "text/plain": [
       "<Figure size 432x288 with 1 Axes>"
      ]
     },
     "metadata": {
      "needs_background": "light"
     },
     "output_type": "display_data"
    }
   ],
   "source": [
    "plt.scatter(df[\"study_time\"], df[\"grades\"])\n",
    "plt.xlabel(\"Study time\")\n",
    "plt.ylabel(\"Grade\")\n",
    "plt.plot(x_, y_pred, c=\"red\");"
   ]
  },
  {
   "cell_type": "code",
   "execution_count": 20,
   "id": "42e5b1aa",
   "metadata": {},
   "outputs": [
    {
     "data": {
      "text/plain": [
       "study_time    196\n",
       "grades         33\n",
       "Name: 27, dtype: int64"
      ]
     },
     "execution_count": 20,
     "metadata": {},
     "output_type": "execute_result"
    }
   ],
   "source": [
    "df.iloc[27]"
   ]
  },
  {
   "cell_type": "code",
   "execution_count": 21,
   "id": "0a170e5b",
   "metadata": {},
   "outputs": [
    {
     "data": {
      "text/plain": [
       "28.318769886565413"
      ]
     },
     "execution_count": 21,
     "metadata": {},
     "output_type": "execute_result"
    }
   ],
   "source": [
    "predict(196,a)"
   ]
  },
  {
   "cell_type": "code",
   "execution_count": 24,
   "id": "c924daff",
   "metadata": {},
   "outputs": [
    {
     "data": {
      "text/plain": [
       "4.681230113434587"
      ]
     },
     "execution_count": 24,
     "metadata": {},
     "output_type": "execute_result"
    }
   ],
   "source": [
    "abs(predict(196,a) - df.iloc[27][\"grades\"])\n",
    "# (Mean) Absolute Error"
   ]
  },
  {
   "cell_type": "code",
   "execution_count": 53,
   "id": "fdef9217",
   "metadata": {},
   "outputs": [],
   "source": [
    "coef = {}\n",
    "for k in [1,2,3,4,25]:\n",
    "    M = matrix_m(x,k)\n",
    "    b = vector_b(x,y,k)\n",
    "    coef[k] = np.linalg.solve(M,b)"
   ]
  },
  {
   "cell_type": "code",
   "execution_count": 54,
   "id": "eebae8bc",
   "metadata": {},
   "outputs": [
    {
     "data": {
      "text/plain": [
       "{1: array([11.78070718,  0.08437787]),\n",
       " 2: array([1.50331985e+01, 6.20474830e-02, 2.39101989e-05]),\n",
       " 3: array([ 1.66240350e+01,  4.06647505e-02,  8.02390902e-05, -3.87875097e-08]),\n",
       " 4: array([ 1.06650148e+01,  1.67092724e-01, -5.08724893e-04,  9.01207980e-07,\n",
       "        -4.79099517e-10]),\n",
       " 25: array([-4.47751102e+08,  1.00771935e+08, -3.81940767e+06,  5.88696698e+04,\n",
       "        -4.66127827e+02,  2.06020779e+00, -5.03341127e-03,  5.65332346e-06,\n",
       "         4.55458301e-10, -5.21312982e-12, -1.85612881e-15,  4.04300865e-18,\n",
       "         7.73540376e-21, -2.06129507e-24, -8.26537129e-27, -1.20477618e-29,\n",
       "         8.33883482e-33,  2.09306922e-35,  4.76149578e-39, -2.51970097e-41,\n",
       "        -1.20615069e-44,  1.70332187e-47,  1.52490077e-51,  1.51485684e-53,\n",
       "        -2.36121018e-56,  8.07358361e-60])}"
      ]
     },
     "execution_count": 54,
     "metadata": {},
     "output_type": "execute_result"
    }
   ],
   "source": [
    "coef"
   ]
  },
  {
   "cell_type": "code",
   "execution_count": 55,
   "id": "16d0b105",
   "metadata": {},
   "outputs": [
    {
     "data": {
      "image/png": "[encoded data removed]",
      "text/plain": [
       "<Figure size 864x864 with 1 Axes>"
      ]
     },
     "metadata": {
      "needs_background": "light"
     },
     "output_type": "display_data"
    }
   ],
   "source": [
    "plt.figure(figsize=(12,12))\n",
    "plt.scatter(df[\"study_time\"], df[\"grades\"])\n",
    "plt.xlabel(\"Study time\")\n",
    "plt.ylabel(\"Grade\")\n",
    "for k, a in coef.items():\n",
    "    y_pred = predict(x_, a)\n",
    "    plt.plot(x_, y_pred, label=k)\n",
    "plt.legend();"
   ]
  },
  {
   "cell_type": "markdown",
   "id": "51bc6159",
   "metadata": {},
   "source": [
    "## Regression Error"
   ]
  },
  {
   "cell_type": "code",
   "execution_count": 56,
   "id": "7b07489e",
   "metadata": {},
   "outputs": [],
   "source": [
    "from sklearn.metrics import mean_absolute_error as mae"
   ]
  },
  {
   "cell_type": "code",
   "execution_count": 57,
   "id": "6bfe2d3f",
   "metadata": {},
   "outputs": [
    {
     "data": {
      "text/html": [
       "<div>\n",
       "<style scoped>\n",
       "    .dataframe tbody tr th:only-of-type {\n",
       "        vertical-align: middle;\n",
       "    }\n",
       "\n",
       "    .dataframe tbody tr th {\n",
       "        vertical-align: top;\n",
       "    }\n",
       "\n",
       "    .dataframe thead th {\n",
       "        text-align: right;\n",
       "    }\n",
       "</style>\n",
       "<table border=\"1\" class=\"dataframe\">\n",
       "  <thead>\n",
       "    <tr style=\"text-align: right;\">\n",
       "      <th></th>\n",
       "      <th>study_time</th>\n",
       "      <th>grades</th>\n",
       "      <th>y_pred_1</th>\n",
       "      <th>y_pred_2</th>\n",
       "      <th>y_pred_3</th>\n",
       "      <th>y_pred_4</th>\n",
       "    </tr>\n",
       "  </thead>\n",
       "  <tbody>\n",
       "    <tr>\n",
       "      <th>0</th>\n",
       "      <td>865</td>\n",
       "      <td>95</td>\n",
       "      <td>84.767566</td>\n",
       "      <td>86.594480</td>\n",
       "      <td>86.732094</td>\n",
       "      <td>89.615137</td>\n",
       "    </tr>\n",
       "    <tr>\n",
       "      <th>1</th>\n",
       "      <td>4</td>\n",
       "      <td>12</td>\n",
       "      <td>12.118219</td>\n",
       "      <td>15.281771</td>\n",
       "      <td>16.787975</td>\n",
       "      <td>11.325304</td>\n",
       "    </tr>\n",
       "    <tr>\n",
       "      <th>2</th>\n",
       "      <td>305</td>\n",
       "      <td>35</td>\n",
       "      <td>37.515958</td>\n",
       "      <td>36.181927</td>\n",
       "      <td>35.390522</td>\n",
       "      <td>35.727839</td>\n",
       "    </tr>\n",
       "    <tr>\n",
       "      <th>3</th>\n",
       "      <td>437</td>\n",
       "      <td>56</td>\n",
       "      <td>48.653837</td>\n",
       "      <td>46.714055</td>\n",
       "      <td>46.480758</td>\n",
       "      <td>44.270412</td>\n",
       "    </tr>\n",
       "    <tr>\n",
       "      <th>4</th>\n",
       "      <td>682</td>\n",
       "      <td>86</td>\n",
       "      <td>69.326415</td>\n",
       "      <td>68.470789</td>\n",
       "      <td>69.374558</td>\n",
       "      <td>70.229845</td>\n",
       "    </tr>\n",
       "    <tr>\n",
       "      <th>...</th>\n",
       "      <td>...</td>\n",
       "      <td>...</td>\n",
       "      <td>...</td>\n",
       "      <td>...</td>\n",
       "      <td>...</td>\n",
       "      <td>...</td>\n",
       "    </tr>\n",
       "    <tr>\n",
       "      <th>95</th>\n",
       "      <td>252</td>\n",
       "      <td>66</td>\n",
       "      <td>33.043931</td>\n",
       "      <td>32.187557</td>\n",
       "      <td>31.346338</td>\n",
       "      <td>32.956262</td>\n",
       "    </tr>\n",
       "    <tr>\n",
       "      <th>96</th>\n",
       "      <td>49</td>\n",
       "      <td>21</td>\n",
       "      <td>15.915223</td>\n",
       "      <td>18.130934</td>\n",
       "      <td>18.804699</td>\n",
       "      <td>17.734374</td>\n",
       "    </tr>\n",
       "    <tr>\n",
       "      <th>97</th>\n",
       "      <td>792</td>\n",
       "      <td>97</td>\n",
       "      <td>78.607981</td>\n",
       "      <td>79.172812</td>\n",
       "      <td>79.892243</td>\n",
       "      <td>83.104980</td>\n",
       "    </tr>\n",
       "    <tr>\n",
       "      <th>98</th>\n",
       "      <td>310</td>\n",
       "      <td>46</td>\n",
       "      <td>37.937847</td>\n",
       "      <td>36.565688</td>\n",
       "      <td>35.785566</td>\n",
       "      <td>35.998599</td>\n",
       "    </tr>\n",
       "    <tr>\n",
       "      <th>99</th>\n",
       "      <td>934</td>\n",
       "      <td>89</td>\n",
       "      <td>90.589639</td>\n",
       "      <td>93.843753</td>\n",
       "      <td>92.998657</td>\n",
       "      <td>92.629974</td>\n",
       "    </tr>\n",
       "  </tbody>\n",
       "</table>\n",
       "<p>100 rows × 6 columns</p>\n",
       "</div>"
      ],
      "text/plain": [
       "    study_time  grades   y_pred_1   y_pred_2   y_pred_3   y_pred_4\n",
       "0          865      95  84.767566  86.594480  86.732094  89.615137\n",
       "1            4      12  12.118219  15.281771  16.787975  11.325304\n",
       "2          305      35  37.515958  36.181927  35.390522  35.727839\n",
       "3          437      56  48.653837  46.714055  46.480758  44.270412\n",
       "4          682      86  69.326415  68.470789  69.374558  70.229845\n",
       "..         ...     ...        ...        ...        ...        ...\n",
       "95         252      66  33.043931  32.187557  31.346338  32.956262\n",
       "96          49      21  15.915223  18.130934  18.804699  17.734374\n",
       "97         792      97  78.607981  79.172812  79.892243  83.104980\n",
       "98         310      46  37.937847  36.565688  35.785566  35.998599\n",
       "99         934      89  90.589639  93.843753  92.998657  92.629974\n",
       "\n",
       "[100 rows x 6 columns]"
      ]
     },
     "execution_count": 57,
     "metadata": {},
     "output_type": "execute_result"
    }
   ],
   "source": [
    "df"
   ]
  },
  {
   "cell_type": "code",
   "execution_count": 58,
   "id": "77699943",
   "metadata": {},
   "outputs": [],
   "source": [
    "for k, a in coef.items():\n",
    "    y_pred = predict(df[\"study_time\"], a)\n",
    "    df[f\"y_pred_{k}\"] = y_pred"
   ]
  },
  {
   "cell_type": "code",
   "execution_count": 60,
   "id": "0342a5f6",
   "metadata": {},
   "outputs": [
    {
     "data": {
      "text/html": [
       "<div>\n",
       "<style scoped>\n",
       "    .dataframe tbody tr th:only-of-type {\n",
       "        vertical-align: middle;\n",
       "    }\n",
       "\n",
       "    .dataframe tbody tr th {\n",
       "        vertical-align: top;\n",
       "    }\n",
       "\n",
       "    .dataframe thead th {\n",
       "        text-align: right;\n",
       "    }\n",
       "</style>\n",
       "<table border=\"1\" class=\"dataframe\">\n",
       "  <thead>\n",
       "    <tr style=\"text-align: right;\">\n",
       "      <th></th>\n",
       "      <th>study_time</th>\n",
       "      <th>grades</th>\n",
       "      <th>y_pred_1</th>\n",
       "      <th>y_pred_2</th>\n",
       "      <th>y_pred_3</th>\n",
       "      <th>y_pred_4</th>\n",
       "      <th>y_pred_25</th>\n",
       "    </tr>\n",
       "  </thead>\n",
       "  <tbody>\n",
       "    <tr>\n",
       "      <th>0</th>\n",
       "      <td>865</td>\n",
       "      <td>95</td>\n",
       "      <td>84.767566</td>\n",
       "      <td>86.594480</td>\n",
       "      <td>86.732094</td>\n",
       "      <td>89.615137</td>\n",
       "      <td>-1.373679e+15</td>\n",
       "    </tr>\n",
       "    <tr>\n",
       "      <th>1</th>\n",
       "      <td>4</td>\n",
       "      <td>12</td>\n",
       "      <td>12.118219</td>\n",
       "      <td>15.281771</td>\n",
       "      <td>16.787975</td>\n",
       "      <td>11.325304</td>\n",
       "      <td>-1.021235e+08</td>\n",
       "    </tr>\n",
       "    <tr>\n",
       "      <th>2</th>\n",
       "      <td>305</td>\n",
       "      <td>35</td>\n",
       "      <td>37.515958</td>\n",
       "      <td>36.181927</td>\n",
       "      <td>35.390522</td>\n",
       "      <td>35.727839</td>\n",
       "      <td>8.580540e+10</td>\n",
       "    </tr>\n",
       "    <tr>\n",
       "      <th>3</th>\n",
       "      <td>437</td>\n",
       "      <td>56</td>\n",
       "      <td>48.653837</td>\n",
       "      <td>46.714055</td>\n",
       "      <td>46.480758</td>\n",
       "      <td>44.270412</td>\n",
       "      <td>2.212834e+12</td>\n",
       "    </tr>\n",
       "    <tr>\n",
       "      <th>4</th>\n",
       "      <td>682</td>\n",
       "      <td>86</td>\n",
       "      <td>69.326415</td>\n",
       "      <td>68.470789</td>\n",
       "      <td>69.374558</td>\n",
       "      <td>70.229845</td>\n",
       "      <td>-3.155653e+14</td>\n",
       "    </tr>\n",
       "    <tr>\n",
       "      <th>...</th>\n",
       "      <td>...</td>\n",
       "      <td>...</td>\n",
       "      <td>...</td>\n",
       "      <td>...</td>\n",
       "      <td>...</td>\n",
       "      <td>...</td>\n",
       "      <td>...</td>\n",
       "    </tr>\n",
       "    <tr>\n",
       "      <th>95</th>\n",
       "      <td>252</td>\n",
       "      <td>66</td>\n",
       "      <td>33.043931</td>\n",
       "      <td>32.187557</td>\n",
       "      <td>31.346338</td>\n",
       "      <td>32.956262</td>\n",
       "      <td>1.320234e+10</td>\n",
       "    </tr>\n",
       "    <tr>\n",
       "      <th>96</th>\n",
       "      <td>49</td>\n",
       "      <td>21</td>\n",
       "      <td>15.915223</td>\n",
       "      <td>18.130934</td>\n",
       "      <td>18.804699</td>\n",
       "      <td>17.734374</td>\n",
       "      <td>7.462909e+07</td>\n",
       "    </tr>\n",
       "    <tr>\n",
       "      <th>97</th>\n",
       "      <td>792</td>\n",
       "      <td>97</td>\n",
       "      <td>78.607981</td>\n",
       "      <td>79.172812</td>\n",
       "      <td>79.892243</td>\n",
       "      <td>83.104980</td>\n",
       "      <td>-7.988246e+14</td>\n",
       "    </tr>\n",
       "    <tr>\n",
       "      <th>98</th>\n",
       "      <td>310</td>\n",
       "      <td>46</td>\n",
       "      <td>37.937847</td>\n",
       "      <td>36.565688</td>\n",
       "      <td>35.785566</td>\n",
       "      <td>35.998599</td>\n",
       "      <td>9.595912e+10</td>\n",
       "    </tr>\n",
       "    <tr>\n",
       "      <th>99</th>\n",
       "      <td>934</td>\n",
       "      <td>89</td>\n",
       "      <td>90.589639</td>\n",
       "      <td>93.843753</td>\n",
       "      <td>92.998657</td>\n",
       "      <td>92.629974</td>\n",
       "      <td>-2.227516e+15</td>\n",
       "    </tr>\n",
       "  </tbody>\n",
       "</table>\n",
       "<p>100 rows × 7 columns</p>\n",
       "</div>"
      ],
      "text/plain": [
       "    study_time  grades   y_pred_1   y_pred_2   y_pred_3   y_pred_4  \\\n",
       "0          865      95  84.767566  86.594480  86.732094  89.615137   \n",
       "1            4      12  12.118219  15.281771  16.787975  11.325304   \n",
       "2          305      35  37.515958  36.181927  35.390522  35.727839   \n",
       "3          437      56  48.653837  46.714055  46.480758  44.270412   \n",
       "4          682      86  69.326415  68.470789  69.374558  70.229845   \n",
       "..         ...     ...        ...        ...        ...        ...   \n",
       "95         252      66  33.043931  32.187557  31.346338  32.956262   \n",
       "96          49      21  15.915223  18.130934  18.804699  17.734374   \n",
       "97         792      97  78.607981  79.172812  79.892243  83.104980   \n",
       "98         310      46  37.937847  36.565688  35.785566  35.998599   \n",
       "99         934      89  90.589639  93.843753  92.998657  92.629974   \n",
       "\n",
       "       y_pred_25  \n",
       "0  -1.373679e+15  \n",
       "1  -1.021235e+08  \n",
       "2   8.580540e+10  \n",
       "3   2.212834e+12  \n",
       "4  -3.155653e+14  \n",
       "..           ...  \n",
       "95  1.320234e+10  \n",
       "96  7.462909e+07  \n",
       "97 -7.988246e+14  \n",
       "98  9.595912e+10  \n",
       "99 -2.227516e+15  \n",
       "\n",
       "[100 rows x 7 columns]"
      ]
     },
     "execution_count": 60,
     "metadata": {},
     "output_type": "execute_result"
    }
   ],
   "source": [
    "df"
   ]
  },
  {
   "cell_type": "code",
   "execution_count": 61,
   "id": "73df4d57",
   "metadata": {},
   "outputs": [
    {
     "data": {
      "text/plain": [
       "11.402698299019335"
      ]
     },
     "execution_count": 61,
     "metadata": {},
     "output_type": "execute_result"
    }
   ],
   "source": [
    "mae(df[\"grades\"],df[\"y_pred_1\"])"
   ]
  },
  {
   "cell_type": "code",
   "execution_count": 62,
   "id": "d9133d7a",
   "metadata": {},
   "outputs": [
    {
     "data": {
      "text/plain": [
       "11.3666537669717"
      ]
     },
     "execution_count": 62,
     "metadata": {},
     "output_type": "execute_result"
    }
   ],
   "source": [
    "mae(df[\"grades\"],df[\"y_pred_2\"])"
   ]
  },
  {
   "cell_type": "code",
   "execution_count": 63,
   "id": "78a51750",
   "metadata": {},
   "outputs": [
    {
     "data": {
      "text/plain": [
       "316456196033614.8"
      ]
     },
     "execution_count": 63,
     "metadata": {},
     "output_type": "execute_result"
    }
   ],
   "source": [
    "mae(df[\"grades\"],df[\"y_pred_25\"])"
   ]
  },
  {
   "cell_type": "code",
   "execution_count": 47,
   "id": "b895eb3f",
   "metadata": {},
   "outputs": [],
   "source": [
    "errors = df.drop(columns=['y_pred_2', 'y_pred_3', 'y_pred_4'])"
   ]
  },
  {
   "cell_type": "code",
   "execution_count": 48,
   "id": "f44f2e78",
   "metadata": {},
   "outputs": [
    {
     "data": {
      "text/html": [
       "<div>\n",
       "<style scoped>\n",
       "    .dataframe tbody tr th:only-of-type {\n",
       "        vertical-align: middle;\n",
       "    }\n",
       "\n",
       "    .dataframe tbody tr th {\n",
       "        vertical-align: top;\n",
       "    }\n",
       "\n",
       "    .dataframe thead th {\n",
       "        text-align: right;\n",
       "    }\n",
       "</style>\n",
       "<table border=\"1\" class=\"dataframe\">\n",
       "  <thead>\n",
       "    <tr style=\"text-align: right;\">\n",
       "      <th></th>\n",
       "      <th>study_time</th>\n",
       "      <th>grades</th>\n",
       "      <th>y_pred_1</th>\n",
       "      <th>AE</th>\n",
       "    </tr>\n",
       "  </thead>\n",
       "  <tbody>\n",
       "    <tr>\n",
       "      <th>0</th>\n",
       "      <td>865</td>\n",
       "      <td>95</td>\n",
       "      <td>84.767566</td>\n",
       "      <td>10.232434</td>\n",
       "    </tr>\n",
       "    <tr>\n",
       "      <th>1</th>\n",
       "      <td>4</td>\n",
       "      <td>12</td>\n",
       "      <td>12.118219</td>\n",
       "      <td>0.118219</td>\n",
       "    </tr>\n",
       "    <tr>\n",
       "      <th>2</th>\n",
       "      <td>305</td>\n",
       "      <td>35</td>\n",
       "      <td>37.515958</td>\n",
       "      <td>2.515958</td>\n",
       "    </tr>\n",
       "    <tr>\n",
       "      <th>3</th>\n",
       "      <td>437</td>\n",
       "      <td>56</td>\n",
       "      <td>48.653837</td>\n",
       "      <td>7.346163</td>\n",
       "    </tr>\n",
       "    <tr>\n",
       "      <th>4</th>\n",
       "      <td>682</td>\n",
       "      <td>86</td>\n",
       "      <td>69.326415</td>\n",
       "      <td>16.673585</td>\n",
       "    </tr>\n",
       "    <tr>\n",
       "      <th>...</th>\n",
       "      <td>...</td>\n",
       "      <td>...</td>\n",
       "      <td>...</td>\n",
       "      <td>...</td>\n",
       "    </tr>\n",
       "    <tr>\n",
       "      <th>95</th>\n",
       "      <td>252</td>\n",
       "      <td>66</td>\n",
       "      <td>33.043931</td>\n",
       "      <td>32.956069</td>\n",
       "    </tr>\n",
       "    <tr>\n",
       "      <th>96</th>\n",
       "      <td>49</td>\n",
       "      <td>21</td>\n",
       "      <td>15.915223</td>\n",
       "      <td>5.084777</td>\n",
       "    </tr>\n",
       "    <tr>\n",
       "      <th>97</th>\n",
       "      <td>792</td>\n",
       "      <td>97</td>\n",
       "      <td>78.607981</td>\n",
       "      <td>18.392019</td>\n",
       "    </tr>\n",
       "    <tr>\n",
       "      <th>98</th>\n",
       "      <td>310</td>\n",
       "      <td>46</td>\n",
       "      <td>37.937847</td>\n",
       "      <td>8.062153</td>\n",
       "    </tr>\n",
       "    <tr>\n",
       "      <th>99</th>\n",
       "      <td>934</td>\n",
       "      <td>89</td>\n",
       "      <td>90.589639</td>\n",
       "      <td>1.589639</td>\n",
       "    </tr>\n",
       "  </tbody>\n",
       "</table>\n",
       "<p>100 rows × 4 columns</p>\n",
       "</div>"
      ],
      "text/plain": [
       "    study_time  grades   y_pred_1         AE\n",
       "0          865      95  84.767566  10.232434\n",
       "1            4      12  12.118219   0.118219\n",
       "2          305      35  37.515958   2.515958\n",
       "3          437      56  48.653837   7.346163\n",
       "4          682      86  69.326415  16.673585\n",
       "..         ...     ...        ...        ...\n",
       "95         252      66  33.043931  32.956069\n",
       "96          49      21  15.915223   5.084777\n",
       "97         792      97  78.607981  18.392019\n",
       "98         310      46  37.937847   8.062153\n",
       "99         934      89  90.589639   1.589639\n",
       "\n",
       "[100 rows x 4 columns]"
      ]
     },
     "execution_count": 48,
     "metadata": {},
     "output_type": "execute_result"
    }
   ],
   "source": [
    "errors[\"AE\"] = (errors[\"y_pred_1\"] - errors[\"grades\"]).abs()\n",
    "errors"
   ]
  },
  {
   "cell_type": "code",
   "execution_count": 49,
   "id": "b2f137e2",
   "metadata": {},
   "outputs": [
    {
     "data": {
      "text/plain": [
       "11.402698299019335"
      ]
     },
     "execution_count": 49,
     "metadata": {},
     "output_type": "execute_result"
    }
   ],
   "source": [
    "errors[\"AE\"].mean()"
   ]
  },
  {
   "cell_type": "code",
   "execution_count": 50,
   "id": "7fa30d56",
   "metadata": {},
   "outputs": [
    {
     "data": {
      "text/html": [
       "<div>\n",
       "<style scoped>\n",
       "    .dataframe tbody tr th:only-of-type {\n",
       "        vertical-align: middle;\n",
       "    }\n",
       "\n",
       "    .dataframe tbody tr th {\n",
       "        vertical-align: top;\n",
       "    }\n",
       "\n",
       "    .dataframe thead th {\n",
       "        text-align: right;\n",
       "    }\n",
       "</style>\n",
       "<table border=\"1\" class=\"dataframe\">\n",
       "  <thead>\n",
       "    <tr style=\"text-align: right;\">\n",
       "      <th></th>\n",
       "      <th>study_time</th>\n",
       "      <th>grades</th>\n",
       "      <th>y_pred_1</th>\n",
       "      <th>AE</th>\n",
       "      <th>SE</th>\n",
       "    </tr>\n",
       "  </thead>\n",
       "  <tbody>\n",
       "    <tr>\n",
       "      <th>0</th>\n",
       "      <td>865</td>\n",
       "      <td>95</td>\n",
       "      <td>84.767566</td>\n",
       "      <td>10.232434</td>\n",
       "      <td>104.702715</td>\n",
       "    </tr>\n",
       "    <tr>\n",
       "      <th>1</th>\n",
       "      <td>4</td>\n",
       "      <td>12</td>\n",
       "      <td>12.118219</td>\n",
       "      <td>0.118219</td>\n",
       "      <td>0.013976</td>\n",
       "    </tr>\n",
       "    <tr>\n",
       "      <th>2</th>\n",
       "      <td>305</td>\n",
       "      <td>35</td>\n",
       "      <td>37.515958</td>\n",
       "      <td>2.515958</td>\n",
       "      <td>6.330044</td>\n",
       "    </tr>\n",
       "    <tr>\n",
       "      <th>3</th>\n",
       "      <td>437</td>\n",
       "      <td>56</td>\n",
       "      <td>48.653837</td>\n",
       "      <td>7.346163</td>\n",
       "      <td>53.966114</td>\n",
       "    </tr>\n",
       "    <tr>\n",
       "      <th>4</th>\n",
       "      <td>682</td>\n",
       "      <td>86</td>\n",
       "      <td>69.326415</td>\n",
       "      <td>16.673585</td>\n",
       "      <td>278.008431</td>\n",
       "    </tr>\n",
       "    <tr>\n",
       "      <th>...</th>\n",
       "      <td>...</td>\n",
       "      <td>...</td>\n",
       "      <td>...</td>\n",
       "      <td>...</td>\n",
       "      <td>...</td>\n",
       "    </tr>\n",
       "    <tr>\n",
       "      <th>95</th>\n",
       "      <td>252</td>\n",
       "      <td>66</td>\n",
       "      <td>33.043931</td>\n",
       "      <td>32.956069</td>\n",
       "      <td>1086.102506</td>\n",
       "    </tr>\n",
       "    <tr>\n",
       "      <th>96</th>\n",
       "      <td>49</td>\n",
       "      <td>21</td>\n",
       "      <td>15.915223</td>\n",
       "      <td>5.084777</td>\n",
       "      <td>25.854959</td>\n",
       "    </tr>\n",
       "    <tr>\n",
       "      <th>97</th>\n",
       "      <td>792</td>\n",
       "      <td>97</td>\n",
       "      <td>78.607981</td>\n",
       "      <td>18.392019</td>\n",
       "      <td>338.266364</td>\n",
       "    </tr>\n",
       "    <tr>\n",
       "      <th>98</th>\n",
       "      <td>310</td>\n",
       "      <td>46</td>\n",
       "      <td>37.937847</td>\n",
       "      <td>8.062153</td>\n",
       "      <td>64.998308</td>\n",
       "    </tr>\n",
       "    <tr>\n",
       "      <th>99</th>\n",
       "      <td>934</td>\n",
       "      <td>89</td>\n",
       "      <td>90.589639</td>\n",
       "      <td>1.589639</td>\n",
       "      <td>2.526951</td>\n",
       "    </tr>\n",
       "  </tbody>\n",
       "</table>\n",
       "<p>100 rows × 5 columns</p>\n",
       "</div>"
      ],
      "text/plain": [
       "    study_time  grades   y_pred_1         AE           SE\n",
       "0          865      95  84.767566  10.232434   104.702715\n",
       "1            4      12  12.118219   0.118219     0.013976\n",
       "2          305      35  37.515958   2.515958     6.330044\n",
       "3          437      56  48.653837   7.346163    53.966114\n",
       "4          682      86  69.326415  16.673585   278.008431\n",
       "..         ...     ...        ...        ...          ...\n",
       "95         252      66  33.043931  32.956069  1086.102506\n",
       "96          49      21  15.915223   5.084777    25.854959\n",
       "97         792      97  78.607981  18.392019   338.266364\n",
       "98         310      46  37.937847   8.062153    64.998308\n",
       "99         934      89  90.589639   1.589639     2.526951\n",
       "\n",
       "[100 rows x 5 columns]"
      ]
     },
     "execution_count": 50,
     "metadata": {},
     "output_type": "execute_result"
    }
   ],
   "source": [
    "errors[\"SE\"] = errors[\"AE\"]**2\n",
    "errors"
   ]
  },
  {
   "cell_type": "code",
   "execution_count": 51,
   "id": "c9431645",
   "metadata": {},
   "outputs": [
    {
     "data": {
      "text/plain": [
       "189.31609105092303"
      ]
     },
     "execution_count": 51,
     "metadata": {},
     "output_type": "execute_result"
    }
   ],
   "source": [
    "errors[\"SE\"].mean()"
   ]
  },
  {
   "cell_type": "code",
   "execution_count": 52,
   "id": "d3cd1080",
   "metadata": {},
   "outputs": [
    {
     "data": {
      "text/plain": [
       "13.759218402617318"
      ]
     },
     "execution_count": 52,
     "metadata": {},
     "output_type": "execute_result"
    }
   ],
   "source": [
    "# RMSE ROOT Mean Squared Error\n",
    "errors[\"SE\"].mean()**.5"
   ]
  },
  {
   "cell_type": "code",
   "execution_count": 64,
   "id": "509b4652",
   "metadata": {},
   "outputs": [],
   "source": [
    "from sklearn.metrics import mean_squared_error as mse"
   ]
  },
  {
   "cell_type": "code",
   "execution_count": 65,
   "id": "0ade5c7a",
   "metadata": {},
   "outputs": [
    {
     "data": {
      "text/plain": [
       "189.31609105092303"
      ]
     },
     "execution_count": 65,
     "metadata": {},
     "output_type": "execute_result"
    }
   ],
   "source": [
    "mse(df[\"grades\"],df[\"y_pred_1\"])"
   ]
  },
  {
   "cell_type": "markdown",
   "id": "70fc7ea0-e017-4524-b80c-c6c7e9334026",
   "metadata": {},
   "source": [
    "# Another example of regression\n",
    "\n",
    "\n",
    "$$y=.5x^2+x+2$$\n",
    "\n",
    "$$n= $$\n"
   ]
  },
  {
   "cell_type": "code",
   "execution_count": 68,
   "id": "cc267509",
   "metadata": {},
   "outputs": [
    {
     "data": {
      "image/png": "[encoded data removed]",
      "text/plain": [
       "<Figure size 432x288 with 1 Axes>"
      ]
     },
     "metadata": {
      "needs_background": "light"
     },
     "output_type": "display_data"
    }
   ],
   "source": [
    "n_points = 100\n",
    "x = np.linspace(-3,3, n_points)\n",
    "\n",
    "noise = np.random.normal(0,1,n_points)\n",
    "data_y =  .5*x**2 + x + 2 + noise\n",
    "\n",
    "plt.scatter(x,data_y);"
   ]
  },
  {
   "cell_type": "code",
   "execution_count": 69,
   "id": "a6de98a9",
   "metadata": {},
   "outputs": [],
   "source": [
    "y_pred = {}\n",
    "for k in [1,2,4,25,300]:\n",
    "    M = matrix_m(x,k)\n",
    "    b = vector_b(x, data_y, k)\n",
    "    coef = np.linalg.solve(M,b)\n",
    "    y_pred[k] = predict(x, coef)"
   ]
  },
  {
   "cell_type": "code",
   "execution_count": 70,
   "id": "4293fb01",
   "metadata": {},
   "outputs": [
    {
     "data": {
      "text/html": [
       "<div>\n",
       "<style scoped>\n",
       "    .dataframe tbody tr th:only-of-type {\n",
       "        vertical-align: middle;\n",
       "    }\n",
       "\n",
       "    .dataframe tbody tr th {\n",
       "        vertical-align: top;\n",
       "    }\n",
       "\n",
       "    .dataframe thead th {\n",
       "        text-align: right;\n",
       "    }\n",
       "</style>\n",
       "<table border=\"1\" class=\"dataframe\">\n",
       "  <thead>\n",
       "    <tr style=\"text-align: right;\">\n",
       "      <th></th>\n",
       "      <th>error</th>\n",
       "    </tr>\n",
       "  </thead>\n",
       "  <tbody>\n",
       "    <tr>\n",
       "      <th>1</th>\n",
       "      <td>1.790241</td>\n",
       "    </tr>\n",
       "    <tr>\n",
       "      <th>2</th>\n",
       "      <td>1.063640</td>\n",
       "    </tr>\n",
       "    <tr>\n",
       "      <th>4</th>\n",
       "      <td>1.040214</td>\n",
       "    </tr>\n",
       "    <tr>\n",
       "      <th>25</th>\n",
       "      <td>0.936088</td>\n",
       "    </tr>\n",
       "    <tr>\n",
       "      <th>300</th>\n",
       "      <td>0.864381</td>\n",
       "    </tr>\n",
       "  </tbody>\n",
       "</table>\n",
       "</div>"
      ],
      "text/plain": [
       "        error\n",
       "1    1.790241\n",
       "2    1.063640\n",
       "4    1.040214\n",
       "25   0.936088\n",
       "300  0.864381"
      ]
     },
     "execution_count": 70,
     "metadata": {},
     "output_type": "execute_result"
    }
   ],
   "source": [
    "pd.DataFrame({\"error\":{k:mse(data_y,y_pred[k])**.5 for k in y_pred.keys()}})"
   ]
  },
  {
   "cell_type": "code",
   "execution_count": 72,
   "id": "be121b65",
   "metadata": {},
   "outputs": [
    {
     "data": {
      "image/png": "[encoded data removed]",
      "text/plain": [
       "<Figure size 864x864 with 1 Axes>"
      ]
     },
     "metadata": {
      "needs_background": "light"
     },
     "output_type": "display_data"
    }
   ],
   "source": [
    "plt.figure(figsize=(12,12))\n",
    "plt.scatter(x,data_y, c=\"lightblue\")\n",
    "for k,y in y_pred.items():\n",
    "    plt.plot(x,y, label=k)\n",
    "plt.legend();"
   ]
  },
  {
   "cell_type": "code",
   "execution_count": 73,
   "id": "62b9225b",
   "metadata": {},
   "outputs": [],
   "source": [
    "y = {}\n",
    "x_ = np.linspace(-3,3,200)\n",
    "for k in [1,2,25,300]:\n",
    "    M = matrix_m(x,k)\n",
    "    b = vector_b(x, data_y, k)\n",
    "    coef = np.linalg.solve(M,b)\n",
    "    y[k] = predict(x_, coef)"
   ]
  },
  {
   "cell_type": "code",
   "execution_count": 74,
   "id": "ed807dd5",
   "metadata": {},
   "outputs": [
    {
     "data": {
      "image/png": "[encoded data removed]",
      "text/plain": [
       "<Figure size 1296x504 with 1 Axes>"
      ]
     },
     "metadata": {
      "needs_background": "light"
     },
     "output_type": "display_data"
    }
   ],
   "source": [
    "plt.figure(figsize=(18,7))\n",
    "plt.scatter(x,data_y, c=\"lightblue\")\n",
    "for k,y_ in y.items():\n",
    "    plt.plot(x_,y_, label=k)\n",
    "plt.legend()\n",
    "plt.ylim([-2,12]);"
   ]
  },
  {
   "cell_type": "markdown",
   "id": "ed4eb314",
   "metadata": {},
   "source": [
    "## Underfitting, Overfitting\n",
    "\n",
    "![](img/fitting.png)"
   ]
  },
  {
   "cell_type": "markdown",
   "id": "5146f08a",
   "metadata": {},
   "source": [
    "## Train Test Split"
   ]
  },
  {
   "cell_type": "code",
   "execution_count": 75,
   "id": "b355550c",
   "metadata": {},
   "outputs": [
    {
     "name": "stdout",
     "output_type": "stream",
     "text": [
      "100 100\n"
     ]
    }
   ],
   "source": [
    "print(len(x), len(data_y))"
   ]
  },
  {
   "cell_type": "code",
   "execution_count": 79,
   "id": "2227d951",
   "metadata": {},
   "outputs": [],
   "source": [
    "from sklearn.model_selection import train_test_split\n",
    "\n",
    "X_train, X_test, y_train, y_test = train_test_split(x,data_y)"
   ]
  },
  {
   "cell_type": "code",
   "execution_count": 80,
   "id": "ae608e54",
   "metadata": {},
   "outputs": [
    {
     "data": {
      "text/plain": [
       "(75,)"
      ]
     },
     "execution_count": 80,
     "metadata": {},
     "output_type": "execute_result"
    }
   ],
   "source": [
    "X_train.shape"
   ]
  },
  {
   "cell_type": "code",
   "execution_count": 81,
   "id": "d2b8369e",
   "metadata": {},
   "outputs": [
    {
     "data": {
      "text/plain": [
       "(25,)"
      ]
     },
     "execution_count": 81,
     "metadata": {},
     "output_type": "execute_result"
    }
   ],
   "source": [
    "X_test.shape"
   ]
  },
  {
   "cell_type": "code",
   "execution_count": 82,
   "id": "1920a697",
   "metadata": {},
   "outputs": [],
   "source": [
    "coef = {}\n",
    "for k in [1,2,25,300]:\n",
    "    M = matrix_m(X_train, k)\n",
    "    b = vector_b(X_train, y_train, k)\n",
    "    coef[k] = np.linalg.solve(M,b)"
   ]
  },
  {
   "cell_type": "code",
   "execution_count": 83,
   "id": "f60265da",
   "metadata": {},
   "outputs": [],
   "source": [
    "y_pred_train = {}\n",
    "y_pred_test = {}\n",
    "for k,a in coef.items():\n",
    "    y_pred_train[k] = predict(X_train,a)\n",
    "    y_pred_test[k] = predict(X_test,a)"
   ]
  },
  {
   "cell_type": "code",
   "execution_count": 84,
   "id": "6bc9b0c7",
   "metadata": {},
   "outputs": [],
   "source": [
    "errors = pd.DataFrame({\n",
    "    \"train_rmse\":{\n",
    "        k:mse(y_train,y_pred_train[k])**.5 for k in y_pred_train.keys()\n",
    "    },\n",
    "    \"test_rmse\":{\n",
    "        k:mse(y_test,y_pred_test[k])**.5 for k in y_pred_test.keys()\n",
    "    }\n",
    "})"
   ]
  },
  {
   "cell_type": "code",
   "execution_count": 85,
   "id": "81c3882c",
   "metadata": {},
   "outputs": [
    {
     "data": {
      "text/html": [
       "<div>\n",
       "<style scoped>\n",
       "    .dataframe tbody tr th:only-of-type {\n",
       "        vertical-align: middle;\n",
       "    }\n",
       "\n",
       "    .dataframe tbody tr th {\n",
       "        vertical-align: top;\n",
       "    }\n",
       "\n",
       "    .dataframe thead th {\n",
       "        text-align: right;\n",
       "    }\n",
       "</style>\n",
       "<table border=\"1\" class=\"dataframe\">\n",
       "  <thead>\n",
       "    <tr style=\"text-align: right;\">\n",
       "      <th></th>\n",
       "      <th>train_rmse</th>\n",
       "      <th>test_rmse</th>\n",
       "    </tr>\n",
       "  </thead>\n",
       "  <tbody>\n",
       "    <tr>\n",
       "      <th>1</th>\n",
       "      <td>1.824390</td>\n",
       "      <td>1.733522e+00</td>\n",
       "    </tr>\n",
       "    <tr>\n",
       "      <th>2</th>\n",
       "      <td>1.056921</td>\n",
       "      <td>1.105677e+00</td>\n",
       "    </tr>\n",
       "    <tr>\n",
       "      <th>25</th>\n",
       "      <td>0.913532</td>\n",
       "      <td>4.628229e+00</td>\n",
       "    </tr>\n",
       "    <tr>\n",
       "      <th>300</th>\n",
       "      <td>0.928798</td>\n",
       "      <td>8.796643e+06</td>\n",
       "    </tr>\n",
       "  </tbody>\n",
       "</table>\n",
       "</div>"
      ],
      "text/plain": [
       "     train_rmse     test_rmse\n",
       "1      1.824390  1.733522e+00\n",
       "2      1.056921  1.105677e+00\n",
       "25     0.913532  4.628229e+00\n",
       "300    0.928798  8.796643e+06"
      ]
     },
     "execution_count": 85,
     "metadata": {},
     "output_type": "execute_result"
    }
   ],
   "source": [
    "errors"
   ]
  },
  {
   "cell_type": "code",
   "execution_count": null,
   "id": "9d0cca21",
   "metadata": {},
   "outputs": [],
   "source": []
  }
 ],
 "metadata": {
  "kernelspec": {
   "display_name": "Python 3 (ipykernel)",
   "language": "python",
   "name": "python3"
  },
  "language_info": {
   "codemirror_mode": {
    "name": "ipython",
    "version": 3
   },
   "file_extension": ".py",
   "mimetype": "text/x-python",
   "name": "python",
   "nbconvert_exporter": "python",
   "pygments_lexer": "ipython3",
   "version": "3.9.7"
  },
  "toc": {
   "base_numbering": 1,
   "nav_menu": {},
   "number_sections": false,
   "sideBar": true,
   "skip_h1_title": false,
   "title_cell": "Table of Contents",
   "title_sidebar": "Contents",
   "toc_cell": false,
   "toc_position": {
    "height": "calc(100% - 180px)",
    "left": "10px",
    "top": "150px",
    "width": "288px"
   },
   "toc_section_display": true,
   "toc_window_display": false
  }
 },
 "nbformat": 4,
 "nbformat_minor": 5
}
