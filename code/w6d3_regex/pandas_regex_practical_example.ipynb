{
 "cells": [
  {
   "cell_type": "markdown",
   "metadata": {},
   "source": [
    "![](https://api.brandy.run/core/core-logo-wide)\n",
    "\n",
    "# Pandas and Regex practical example"
   ]
  },
  {
   "cell_type": "markdown",
   "metadata": {},
   "source": [
    "En ese ejercício haremos una simulación. \n",
    "\n",
    "Tienes una reunión con tu jefe esa tarde, pero al verificar el dataset por la mañana, hay un problema, ¡nada está en su sítio!"
   ]
  },
  {
   "cell_type": "code",
   "execution_count": 1,
   "metadata": {},
   "outputs": [
    {
     "data": {
      "text/html": [
       "<div>\n",
       "<style scoped>\n",
       "    .dataframe tbody tr th:only-of-type {\n",
       "        vertical-align: middle;\n",
       "    }\n",
       "\n",
       "    .dataframe tbody tr th {\n",
       "        vertical-align: top;\n",
       "    }\n",
       "\n",
       "    .dataframe thead th {\n",
       "        text-align: right;\n",
       "    }\n",
       "</style>\n",
       "<table border=\"1\" class=\"dataframe\">\n",
       "  <thead>\n",
       "    <tr style=\"text-align: right;\">\n",
       "      <th></th>\n",
       "      <th>name phone email date contract_value creditcard country postalcode address Cameron Sanders +049 106-232065 In@consequatdolorvitae.co.uk Nov 18</th>\n",
       "      <th>2018 €1968</th>\n",
       "      <th>40 5109-0814-0029-5373 Spain 17716 6396 Orci St. Paki Andrews +92 757-624220 sed.tortor.Integer@amet.org Nov 5</th>\n",
       "      <th>2019 €1436</th>\n",
       "      <th>12 5193 1959 4162 5216 Spain 85485 669-6354 Orci Ave Alice Henderson +058 588-402901 Phasellus@vitaesodalesnisi.co.uk Mar 9</th>\n",
       "      <th>2020 €1454</th>\n",
       "      <th>20 5582.3641.9791.9751 Austria 4964 1696 Ac St. Jamalia Johnston +080 954-388350 turpis.nec@elitafeugiat.net Sep 30</th>\n",
       "      <th>2019 €1979</th>\n",
       "      <th>49 5398 2093 5064 8545 Netherlands 7683 XL Ap #958-9660 Dis Rd. Erica Meloni +044 143-705707 pede@risusQuisquelibero.net Sep 24</th>\n",
       "      <th>2019 €1532</th>\n",
       "      <th>...</th>\n",
       "      <th>20 5573-3754-4110-1229 Germany 60983 Ap #411-6393 Neque Ave Ina Pope +66 710-695422 ipsum.leo@etnetus.org Jun 25</th>\n",
       "      <th>2019 €1411</th>\n",
       "      <th>14 5494.4294.5676.1991 Turkey 56481 100-3143 Sem Av. Pierre Huet +59 780-534428 Duis@massanon.edu Feb 12</th>\n",
       "      <th>2020 €1204</th>\n",
       "      <th>66 5464.3195.6239.7366 France 56606 9836 Proin St. Fuller Wong +066 630-613976 arcu.Sed@pharetrafelis.edu Feb 16</th>\n",
       "      <th>2019 €1964</th>\n",
       "      <th>41 5173.8314.8364.7499 Poland 70-698 4283 Proin Avenue Inga Perez +077 335-699540 lectus.ante@dolordolortempus.edu Apr 13</th>\n",
       "      <th>2020 €1416</th>\n",
       "      <th>76 5259 5489 5154 6089 Spain 91092 P.O. Box 788</th>\n",
       "      <th>5453 Enim. St.</th>\n",
       "    </tr>\n",
       "  </thead>\n",
       "  <tbody>\n",
       "  </tbody>\n",
       "</table>\n",
       "<p>0 rows × 490 columns</p>\n",
       "</div>"
      ],
      "text/plain": [
       "Empty DataFrame\n",
       "Columns: [name phone email date contract_value creditcard country postalcode address Cameron Sanders +049 106-232065 In@consequatdolorvitae.co.uk Nov 18,  2018 €1968, 40 5109-0814-0029-5373 Spain 17716 6396 Orci St. Paki Andrews +92 757-624220 sed.tortor.Integer@amet.org Nov 5,  2019 €1436, 12 5193 1959 4162 5216 Spain 85485 669-6354 Orci Ave Alice Henderson +058 588-402901 Phasellus@vitaesodalesnisi.co.uk Mar 9,  2020 €1454, 20 5582.3641.9791.9751 Austria 4964 1696 Ac St. Jamalia Johnston +080 954-388350 turpis.nec@elitafeugiat.net Sep 30,  2019 €1979, 49 5398 2093 5064 8545 Netherlands 7683 XL Ap #958-9660 Dis Rd. Erica Meloni +044 143-705707 pede@risusQuisquelibero.net Sep 24,  2019 €1532, 00 5186 5977 9103 6189 Italy 31046 P.O. Box 271,  1072 Cursus Rd. Hunter Cardenas +042 741-154469 dolor@quis.edu Jul 31,  2020 €1950, 98 5406 4489 0949 9550 United Kingdom C57 2AU 473-2340 Nec Road Anders Bodin +21 119-216844 elit.Aliquam@quistristique.edu Jul 28,  2019 €1763, 38 5511-2605-5014-4845 Sweden 51381 Ap #633-7988 Viverra. St. Karen Chaney +28 655-231748 neque.Morbi.quis@ultriciesadipiscingenim.edu Dec 23,  2018 €1110, 88 5210-8750-6225-4958 Poland 98-144 P.O. Box 733,  6841 Sollicitudin Avenue Ciaran Coleman +009 622-410394 felis.adipiscing.fringilla@facilisis.org Sep 8,  2020 €1199, 90 5508-1717-8235-1477 Austria 5467 P.O. Box 919,  7186 Lectus St. Lily Riviere +048 649-684450 Aenean.egestas.hendrerit@felis.org Aug 15,  2020 €1647, 42 5328-8248-4037-2137 France 67753 Ap #449-9891 Eu,  Street Xaviera Bowen +31 245-397063 sit.amet@maurissit.ca Dec 13,  2019 €1973, 10 5219-8535-9406-4212 Poland 93-445 P.O. Box 907,  4551 Fusce Avenue Samuel Olivieri +033 579-762372 aliquam.arcu@est.co.uk Mar 25,  2019 €1791, 29 5207.5369.2539.2998 Italy 52829 4444 Sed Road Zoe Leroy +95 928-808665 massa@erat.edu Mar 7,  2020 €1640, 89 5210 4758 4547 0615 France 37131 2939 Proin Av. Tatum Middleton +57 791-170967 molestie.arcu.Sed@sitametante.ca Sep 29,  2020 €1415, 83 5410 9173 9811 1391 Belgium 9177 107-2524 Ultricies Ave Sara Bodin +047 305-584900 dictum.Phasellus@lorem.edu Nov 28,  2018 €1013, 09 5253-9920-3166-5145 Sweden 60341 Ap #632-9384 Mauris Avenue Zorita May +17 137-396561 lectus@velitPellentesqueultricies.edu Mar 7,  2020 €1644, 52 5366 9991 8319 2251 Spain 43428 1765 Sed,  Rd. Fitzgerald Davenport +61 604-618037 non@risusquis.com Jul 1,  2020 €1210, 59 5342-8921-5819-0872 Belgium 8062 Ap #711-4012 Eleifend,  St. Nicoletta Rizzo +000 938-458939 lectus.justo@dignissimtemporarcu.co.uk Mar 10,  2020 €1586, 93 5482.7407.5774.5465 Italy 28122 Ap #322-5087 Vitae Road Lana Hahn +009 569-284963 cursus.Integer@accumsan.com Mar 2,  2020 €1140, 46 5286 4021 6930 6158 Poland 43-576 P.O. Box 701,  5874 Auctor,  Rd. Adria Bean +81 358-950542 lobortis.Class@Seddictum.org May 8,  2019 €1777, 45 5285 4548 0100 2555 Austria 2511 Ap #106-488 Ut,  Avenue Sybill Ford +098 286-136669 nec@luctus.co.uk Feb 19,  2019 €1311, 02 5593-7776-8533-9587 Belgium 9321 7398 Nunc Ave Andrew Huff +092 164-186530 magnis@vel.org Sep 7,  2020 €1001, 89 5522 6026 6399 6529 Poland 10-646 5226 Ligula St. Patricia Payne +029 212-403496 condimentum@sitametlorem.co.uk Apr 16,  2020 €1619, 58 5251-2773-9482-8494 Turkey 37999 719-8148 Augue Av. Alexandre Picard +65 502-598783 orci.lacus@facilisisvitae.org Jul 20,  2020 €1921, 60 5322-6769-9179-0814 France 88641 9081 Nisi. Rd. Patience Craig +098 853-074347 lacus@Proinvelit.com Apr 23,  2020 €1231, 89 5441.3698.1914.8136 Spain 97197 7707 Tellus. Av. Isabelle Sloan +072 882-869148 elit@Maurisvelturpis.org Apr 9,  2020 €1973, 53 5351 2640 8962 0930 Germany 28275 362-8631 Ridiculus St. Catarina Persson +69 734-790277 non@Sed.co.uk Mar 2,  2020 €1646, 26 5520 3159 9755 0084 Sweden 71962 964-444 Metus. Road Emerson Wood +085 273-686992 at.sem@nequesedsem.com Mar 30,  2019 €1342, 47 5318 7884 1873 8189 Turkey 38182 Ap #447-2191 Vulputate Av. Bo Foster +063 802-495571 auctor.Mauris.vel@nisi.net May 5,  2020 €1019, 28 5594-7892-1907-9620 Poland 74-538 P.O. Box 948,  512 Orci Rd. Ulysses Sweet +045 231-841494 velit.Sed@eu.com Mar 8,  2020 €1278, 98 5414 1878 5249 1194 United Kingdom Y2 9XY 844-8211 Volutpat Rd. Deirdre Brewer +077 873-495443 at@dui.net Feb 11,  2019 €1886, 56 5569.6978.0245.0911 Austria 6541 P.O. Box 684,  969 Consequat Rd. Thibault Carpentier +022 697-102966 facilisis@Donecegestas.ca Jun 14,  2019 €1199, 43 5215-4498-0784-4088 France 18808 5872 Non,  Ave Maris Burch +33 283-176983 purus@nuncestmollis.net Jul 20,  2019 €1422, 38 5333.7078.2614.4948 Spain 57837 P.O. Box 230,  8298 Sit Street Baxter Erickson +095 473-788101 sem.magna.nec@scelerisqueneque.net Feb 26,  2020 €1396, 98 5364 8660 1440 0504 Belgium 3811 5753 Curabitur Avenue Eleanor Mcintyre +71 956-829107 et@leo.co.uk Apr 10,  2020 €1185, 44 5291.3642.3438.5844 Netherlands 8062 NQ P.O. Box 307,  839 Lobortis Street Aileen Valenzuela +39 366-613317 Sed@feugiattelluslorem.co.uk Jul 2,  2020 €1293, 63 5166 3426 0790 8832 Belgium 6397 Ap #991-4556 Mauris St. Ezra Hale +26 787-220082 eget.metus.eu@purus.net Oct 18,  2019 €1249, 18 5212.9780.3117.2224 Netherlands 9561 GN P.O. Box 768,  8023 Dis St. Valentin Lemaire +047 359-580998 vulputate@inconsequat.ca Sep 5,  2019 €1631, 05 5191.4503.3487.5981 France 05923 P.O. Box 278,  6329 Lacus,  Rd. Marco Di Stefano +92 714-200407 nec.urna@euduiCum.org Jul 28,  2019 €1988, 09 5358.2822.8951.4672 Italy 86032 3076 Metus Ave Jesse Bullock +16 558-431159 semper.auctor.Mauris@ante.edu Dec 4,  2018 €1032, 34 5555 5356 1604 8255 Spain 49761 P.O. Box 259,  7992 Lectus Avenue Cleo Hatfield +91 496-008012 orci@Aeneaneget.com Nov 23, ...]\n",
       "Index: []\n",
       "\n",
       "[0 rows x 490 columns]"
      ]
     },
     "execution_count": 1,
     "metadata": {},
     "output_type": "execute_result"
    }
   ],
   "source": [
    "# loading dataframe\n",
    "import pandas as pd\n",
    "df = pd.read_csv('db.csv')\n",
    "df"
   ]
  },
  {
   "cell_type": "markdown",
   "metadata": {},
   "source": [
    "El $becário$ ha cometido un error y la base de datos está corrompida. No hay cópia de seguridad...\n",
    "Por suerte sabes `regex`! Vamos utilizarlos para recuperar la máxima cantidad posible de datos del fichero corrompido. \n",
    "\n",
    "Usa `re.findall` sobre el string abajo y escribe patrones para intentar recuperar lo máximo de datos posibles. Las columnas originales del dataset son: \n",
    "- name \n",
    "- phone \n",
    "- email \n",
    "- date \n",
    "- contract_value \n",
    "- creditcard \n",
    "- country \n",
    "- postalcode \n",
    "- address"
   ]
  },
  {
   "cell_type": "code",
   "execution_count": 2,
   "metadata": {},
   "outputs": [],
   "source": [
    "import re"
   ]
  },
  {
   "cell_type": "code",
   "execution_count": 3,
   "metadata": {},
   "outputs": [
    {
     "name": "stdout",
     "output_type": "stream",
     "text": [
      "name phone email date contract_value creditcard country postalcode address Cameron Sanders +049 106-232065 In@consequatdolorvitae.co.uk Nov 18, 2018 €1968,40 5109-0814-0029-5373 Spain 17716 6396 Orci St. Paki Andrews +92 757-624220 sed.tortor.Integer@amet.org Nov 5, 2019 €1436,12 5193 1959 4162 5216 Spain 85485 669-6354 Orci Ave Alice Henderson +058 588-402901 Phasellus@vitaesodalesnisi.co.uk Mar 9, 2020 €1454,20 5582.3641.9791.9751 Austria 4964 1696 Ac St. Jamalia Johnston +080 954-388350 turpis.nec@elitafeugiat.net Sep 30, 2019 €1979,49 5398 2093 5064 8545 Netherlands 7683 XL Ap #958-9660 Di\n"
     ]
    }
   ],
   "source": [
    "with open('db.csv') as file:\n",
    "    csv = file.read()\n",
    "print(csv[:600])"
   ]
  },
  {
   "cell_type": "markdown",
   "metadata": {},
   "source": [
    "name phone email date contract_value creditcard country postalcode address \n",
    "Cameron Sanders +049 106-232065 In@consequatdolorvitae.co.uk Nov 18, 2018 €1968,40 5109-0814-0029-5373 Spain 17716 6396 Orci St. \n",
    "Paki Andrews +92 757-624220 sed.tortor.Integer@amet.org Nov 5, 2019 €1436,12 5193 1959 4162 5216 Spain 85485 669-6354 Orci Ave \n",
    "Alice Henderson +058 588-402901 Phasellus@vitaesodalesnisi.co.uk Mar 9, 2020 €1454,20 5582.3641.9791.9751 Austria 4964 1696 Ac St. \n",
    "Jamalia Johnston +080 954-388350 turpis.nec@elitafeugiat.net Sep 30, 2019 €1979,49 5398 2093 5064 8545 Netherlands 7683 XL Ap #958-9660 \n",
    "Di...."
   ]
  },
  {
   "cell_type": "code",
   "execution_count": 55,
   "metadata": {},
   "outputs": [
    {
     "data": {
      "text/plain": [
       "200"
      ]
     },
     "execution_count": 55,
     "metadata": {},
     "output_type": "execute_result"
    }
   ],
   "source": [
    "#name\n",
    "pattern = \"[A-Z][a-z]*\\s[A-Z][a-z]*\\s\\+\"\n",
    "names = re.findall(pattern, csv)\n",
    "names = [n[:-2] for n in names]\n",
    "len(names)"
   ]
  },
  {
   "cell_type": "code",
   "execution_count": 14,
   "metadata": {},
   "outputs": [
    {
     "data": {
      "text/plain": [
       "200"
      ]
     },
     "execution_count": 14,
     "metadata": {},
     "output_type": "execute_result"
    }
   ],
   "source": [
    "#phone\n",
    "pattern = \"\\+\\d{2,3}\\s\\d{3}\\-\\d{6}\"\n",
    "#pattern = \"\\+[^A-z]*\"\n",
    "telephones = re.findall(pattern, csv)\n",
    "# telephones = [t[:-1] for t in telephones]\n",
    "len(telephones)"
   ]
  },
  {
   "cell_type": "code",
   "execution_count": 17,
   "metadata": {},
   "outputs": [
    {
     "data": {
      "text/plain": [
       "200"
      ]
     },
     "execution_count": 17,
     "metadata": {},
     "output_type": "execute_result"
    }
   ],
   "source": [
    "#email\n",
    "pattern = \"\\S+@\\S+\"\n",
    "mail = re.findall(pattern,csv)\n",
    "len(mail)"
   ]
  },
  {
   "cell_type": "code",
   "execution_count": 20,
   "metadata": {},
   "outputs": [
    {
     "data": {
      "text/plain": [
       "200"
      ]
     },
     "execution_count": 20,
     "metadata": {},
     "output_type": "execute_result"
    }
   ],
   "source": [
    "#date\n",
    "pattern = \"[A-Za-z]{3}\\s\\d{1,2},\\s\\d{4}\"\n",
    "dates = re.findall(pattern, csv)\n",
    "len(dates)"
   ]
  },
  {
   "cell_type": "code",
   "execution_count": 24,
   "metadata": {
    "scrolled": true
   },
   "outputs": [
    {
     "data": {
      "text/plain": [
       "200"
      ]
     },
     "execution_count": 24,
     "metadata": {},
     "output_type": "execute_result"
    }
   ],
   "source": [
    "#contract_value\n",
    "pattern = \"€\\d+,\\d{2}\"\n",
    "values = re.findall(pattern,csv)\n",
    "len(values)"
   ]
  },
  {
   "cell_type": "code",
   "execution_count": 29,
   "metadata": {},
   "outputs": [
    {
     "data": {
      "text/plain": [
       "200"
      ]
     },
     "execution_count": 29,
     "metadata": {},
     "output_type": "execute_result"
    }
   ],
   "source": [
    "#creditcard\n",
    "pattern = \"\\d{4}\\D\\d{4}\\D\\d{4}\\D\\d{4}\"\n",
    "cc = re.findall(pattern,csv)\n",
    "len(cc)"
   ]
  },
  {
   "cell_type": "code",
   "execution_count": 50,
   "metadata": {},
   "outputs": [
    {
     "data": {
      "text/plain": [
       "200"
      ]
     },
     "execution_count": 50,
     "metadata": {},
     "output_type": "execute_result"
    }
   ],
   "source": [
    "#country\n",
    "pattern = \"\\d{4}\\D\\d{4}\\D\\d{4}\\D\\d{4}\\s[A-z\\s]+\"\n",
    "country = re.findall(pattern,csv)\n",
    "country = [re.sub(\"\\d{4}\\D\\d{4}\\D\\d{4}\\D\\d{4}\\s\", \"\", c) for c in country]\n",
    "country = [re.sub(\"\\s[A-z]*$\", \"\", c) for c in country]\n",
    "len(country)"
   ]
  },
  {
   "cell_type": "code",
   "execution_count": 64,
   "metadata": {},
   "outputs": [
    {
     "data": {
      "text/plain": [
       "200"
      ]
     },
     "execution_count": 64,
     "metadata": {},
     "output_type": "execute_result"
    }
   ],
   "source": [
    "name_pattern = \"|\".join(names)\n",
    "country_pattern = \"|\".join(country)\n",
    "res = re.split(name_pattern,csv)[1:]\n",
    "address = [re.split(country_pattern,r)[-1][1:] for r in res]\n",
    "len(address)"
   ]
  },
  {
   "cell_type": "code",
   "execution_count": 67,
   "metadata": {},
   "outputs": [
    {
     "data": {
      "text/plain": [
       "['17716 6396 Orci St. ',\n",
       " '85485 669-6354 Orci Ave ',\n",
       " '4964 1696 Ac St. ',\n",
       " '7683 XL Ap #958-9660 Dis Rd. ',\n",
       " '31046 P.O. Box 271, 1072 Cursus Rd. ']"
      ]
     },
     "execution_count": 67,
     "metadata": {},
     "output_type": "execute_result"
    }
   ],
   "source": [
    "address[:5]"
   ]
  },
  {
   "cell_type": "code",
   "execution_count": 66,
   "metadata": {},
   "outputs": [],
   "source": [
    "import pandas as pd"
   ]
  },
  {
   "cell_type": "code",
   "execution_count": 71,
   "metadata": {},
   "outputs": [],
   "source": [
    "df = pd.DataFrame({\n",
    "    \"name\":names,\n",
    "    \"phone\":telephones,\n",
    "    \"email\":mail,\n",
    "    \"date\":dates,\n",
    "    \"contract_value\":values,\n",
    "    \"creditcard\":cc,\n",
    "    \"country\":country,\n",
    "    \"address\":address\n",
    "})"
   ]
  },
  {
   "cell_type": "code",
   "execution_count": 73,
   "metadata": {},
   "outputs": [
    {
     "data": {
      "text/html": [
       "<div>\n",
       "<style scoped>\n",
       "    .dataframe tbody tr th:only-of-type {\n",
       "        vertical-align: middle;\n",
       "    }\n",
       "\n",
       "    .dataframe tbody tr th {\n",
       "        vertical-align: top;\n",
       "    }\n",
       "\n",
       "    .dataframe thead th {\n",
       "        text-align: right;\n",
       "    }\n",
       "</style>\n",
       "<table border=\"1\" class=\"dataframe\">\n",
       "  <thead>\n",
       "    <tr style=\"text-align: right;\">\n",
       "      <th></th>\n",
       "      <th>name</th>\n",
       "      <th>phone</th>\n",
       "      <th>email</th>\n",
       "      <th>date</th>\n",
       "      <th>contract_value</th>\n",
       "      <th>creditcard</th>\n",
       "      <th>country</th>\n",
       "      <th>address</th>\n",
       "    </tr>\n",
       "  </thead>\n",
       "  <tbody>\n",
       "    <tr>\n",
       "      <th>0</th>\n",
       "      <td>Cameron Sanders</td>\n",
       "      <td>+049 106-232065</td>\n",
       "      <td>In@consequatdolorvitae.co.uk</td>\n",
       "      <td>Nov 18, 2018</td>\n",
       "      <td>€1968,40</td>\n",
       "      <td>5109-0814-0029-5373</td>\n",
       "      <td>Spain</td>\n",
       "      <td>17716 6396 Orci St.</td>\n",
       "    </tr>\n",
       "    <tr>\n",
       "      <th>1</th>\n",
       "      <td>Paki Andrews</td>\n",
       "      <td>+92 757-624220</td>\n",
       "      <td>sed.tortor.Integer@amet.org</td>\n",
       "      <td>Nov 5, 2019</td>\n",
       "      <td>€1436,12</td>\n",
       "      <td>5193 1959 4162 5216</td>\n",
       "      <td>Spain</td>\n",
       "      <td>85485 669-6354 Orci Ave</td>\n",
       "    </tr>\n",
       "    <tr>\n",
       "      <th>2</th>\n",
       "      <td>Alice Henderson</td>\n",
       "      <td>+058 588-402901</td>\n",
       "      <td>Phasellus@vitaesodalesnisi.co.uk</td>\n",
       "      <td>Mar 9, 2020</td>\n",
       "      <td>€1454,20</td>\n",
       "      <td>5582.3641.9791.9751</td>\n",
       "      <td>Austria</td>\n",
       "      <td>4964 1696 Ac St.</td>\n",
       "    </tr>\n",
       "    <tr>\n",
       "      <th>3</th>\n",
       "      <td>Jamalia Johnston</td>\n",
       "      <td>+080 954-388350</td>\n",
       "      <td>turpis.nec@elitafeugiat.net</td>\n",
       "      <td>Sep 30, 2019</td>\n",
       "      <td>€1979,49</td>\n",
       "      <td>5398 2093 5064 8545</td>\n",
       "      <td>Netherlands</td>\n",
       "      <td>7683 XL Ap #958-9660 Dis Rd.</td>\n",
       "    </tr>\n",
       "    <tr>\n",
       "      <th>4</th>\n",
       "      <td>Erica Meloni</td>\n",
       "      <td>+044 143-705707</td>\n",
       "      <td>pede@risusQuisquelibero.net</td>\n",
       "      <td>Sep 24, 2019</td>\n",
       "      <td>€1532,00</td>\n",
       "      <td>5186 5977 9103 6189</td>\n",
       "      <td>Italy</td>\n",
       "      <td>31046 P.O. Box 271, 1072 Cursus Rd.</td>\n",
       "    </tr>\n",
       "  </tbody>\n",
       "</table>\n",
       "</div>"
      ],
      "text/plain": [
       "               name             phone                             email  \\\n",
       "0   Cameron Sanders  +049 106-232065       In@consequatdolorvitae.co.uk   \n",
       "1      Paki Andrews   +92 757-624220        sed.tortor.Integer@amet.org   \n",
       "2   Alice Henderson  +058 588-402901   Phasellus@vitaesodalesnisi.co.uk   \n",
       "3  Jamalia Johnston  +080 954-388350        turpis.nec@elitafeugiat.net   \n",
       "4      Erica Meloni  +044 143-705707        pede@risusQuisquelibero.net   \n",
       "\n",
       "           date contract_value           creditcard      country  \\\n",
       "0  Nov 18, 2018       €1968,40  5109-0814-0029-5373        Spain   \n",
       "1   Nov 5, 2019       €1436,12  5193 1959 4162 5216        Spain   \n",
       "2   Mar 9, 2020       €1454,20  5582.3641.9791.9751      Austria   \n",
       "3  Sep 30, 2019       €1979,49  5398 2093 5064 8545  Netherlands   \n",
       "4  Sep 24, 2019       €1532,00  5186 5977 9103 6189        Italy   \n",
       "\n",
       "                                address  \n",
       "0                  17716 6396 Orci St.   \n",
       "1              85485 669-6354 Orci Ave   \n",
       "2                     4964 1696 Ac St.   \n",
       "3         7683 XL Ap #958-9660 Dis Rd.   \n",
       "4  31046 P.O. Box 271, 1072 Cursus Rd.   "
      ]
     },
     "execution_count": 73,
     "metadata": {},
     "output_type": "execute_result"
    }
   ],
   "source": [
    "df.head()"
   ]
  },
  {
   "cell_type": "code",
   "execution_count": 74,
   "metadata": {},
   "outputs": [],
   "source": [
    "df.to_csv(\"recovered_data.csv\")"
   ]
  },
  {
   "cell_type": "code",
   "execution_count": null,
   "metadata": {},
   "outputs": [],
   "source": []
  }
 ],
 "metadata": {
  "kernelspec": {
   "display_name": "Python 3 (ipykernel)",
   "language": "python",
   "name": "python3"
  },
  "language_info": {
   "codemirror_mode": {
    "name": "ipython",
    "version": 3
   },
   "file_extension": ".py",
   "mimetype": "text/x-python",
   "name": "python",
   "nbconvert_exporter": "python",
   "pygments_lexer": "ipython3",
   "version": "3.9.7"
  },
  "toc": {
   "base_numbering": 1,
   "nav_menu": {},
   "number_sections": false,
   "sideBar": true,
   "skip_h1_title": true,
   "title_cell": "Table of Contents",
   "title_sidebar": "Contents",
   "toc_cell": false,
   "toc_position": {},
   "toc_section_display": true,
   "toc_window_display": false
  }
 },
 "nbformat": 4,
 "nbformat_minor": 2
}
