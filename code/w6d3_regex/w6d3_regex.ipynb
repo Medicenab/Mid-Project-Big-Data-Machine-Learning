{
 "cells": [
  {
   "cell_type": "markdown",
   "id": "d1da4998",
   "metadata": {},
   "source": [
    "![](https://api.brandy.run/core/core-logo-wide)\n",
    "\n",
    "# REGEX\n",
    "\n",
    "Las expresiones regulares son una forma de describir patrones para hacer busquedas, verificar datos, y muchas otras cosas que se puedan hacer con strings."
   ]
  },
  {
   "cell_type": "code",
   "execution_count": 6,
   "id": "f8dace12",
   "metadata": {},
   "outputs": [],
   "source": [
    "import re"
   ]
  },
  {
   "cell_type": "code",
   "execution_count": 7,
   "id": "f9bcf1b2",
   "metadata": {},
   "outputs": [],
   "source": [
    "texto = \"Tres tristes tigres comen trigo en un trigal\""
   ]
  },
  {
   "cell_type": "code",
   "execution_count": 8,
   "id": "13a9a682",
   "metadata": {},
   "outputs": [
    {
     "data": {
      "text/plain": [
       "True"
      ]
     },
     "execution_count": 8,
     "metadata": {},
     "output_type": "execute_result"
    }
   ],
   "source": [
    "\"tigres\" in texto"
   ]
  },
  {
   "cell_type": "code",
   "execution_count": 9,
   "id": "0743c1e6",
   "metadata": {},
   "outputs": [
    {
     "data": {
      "text/plain": [
       "False"
      ]
     },
     "execution_count": 9,
     "metadata": {},
     "output_type": "execute_result"
    }
   ],
   "source": [
    "texto.startswith(\"tr\")"
   ]
  },
  {
   "cell_type": "code",
   "execution_count": 10,
   "id": "4d4ab4ec",
   "metadata": {},
   "outputs": [
    {
     "data": {
      "text/plain": [
       "['tristes', 'tigres', 'trigo', 'trigal']"
      ]
     },
     "execution_count": 10,
     "metadata": {},
     "output_type": "execute_result"
    }
   ],
   "source": [
    "res = []\n",
    "for word in texto.split():\n",
    "    if word[0] == 't':\n",
    "        res.append(word)\n",
    "res"
   ]
  },
  {
   "cell_type": "code",
   "execution_count": 15,
   "id": "7173569c",
   "metadata": {},
   "outputs": [
    {
     "data": {
      "text/plain": [
       "['tristes', 'tigres', 'trigo', 'trigal']"
      ]
     },
     "execution_count": 15,
     "metadata": {},
     "output_type": "execute_result"
    }
   ],
   "source": [
    "patron = \"t\\w*\\S\"\n",
    "re.findall(patron, texto)"
   ]
  },
  {
   "cell_type": "markdown",
   "id": "ea3b07be",
   "metadata": {},
   "source": [
    "## re methods"
   ]
  },
  {
   "cell_type": "code",
   "execution_count": 16,
   "id": "cc042bd2",
   "metadata": {},
   "outputs": [
    {
     "data": {
      "text/plain": [
       "['compile',\n",
       " 'copyreg',\n",
       " 'enum',\n",
       " 'error',\n",
       " 'escape',\n",
       " 'findall',\n",
       " 'finditer',\n",
       " 'fullmatch',\n",
       " 'functools',\n",
       " 'match',\n",
       " 'purge',\n",
       " 'search',\n",
       " 'split',\n",
       " 'sre_compile',\n",
       " 'sre_parse',\n",
       " 'sub',\n",
       " 'subn',\n",
       " 'template']"
      ]
     },
     "execution_count": 16,
     "metadata": {},
     "output_type": "execute_result"
    }
   ],
   "source": [
    "[att for att in dir(re) if not(att.startswith(\"_\") or att[0].isupper())]"
   ]
  },
  {
   "cell_type": "code",
   "execution_count": 18,
   "id": "6d796b1b",
   "metadata": {},
   "outputs": [
    {
     "data": {
      "text/plain": [
       "'Tres tristes tigres comen trigo en un trigal'"
      ]
     },
     "execution_count": 18,
     "metadata": {},
     "output_type": "execute_result"
    }
   ],
   "source": [
    "texto"
   ]
  },
  {
   "cell_type": "code",
   "execution_count": 20,
   "id": "5634965b",
   "metadata": {},
   "outputs": [
    {
     "name": "stdout",
     "output_type": "stream",
     "text": [
      "t\\w*\\S\n"
     ]
    }
   ],
   "source": [
    "# findall -> Devuelve todas las coincidencias con el patron indicado\n",
    "print(patron)"
   ]
  },
  {
   "cell_type": "code",
   "execution_count": 19,
   "id": "f19ac4e7",
   "metadata": {},
   "outputs": [
    {
     "data": {
      "text/plain": [
       "['tristes', 'tigres', 'trigo', 'trigal']"
      ]
     },
     "execution_count": 19,
     "metadata": {},
     "output_type": "execute_result"
    }
   ],
   "source": [
    "re.findall(patron, texto)"
   ]
  },
  {
   "cell_type": "code",
   "execution_count": 23,
   "id": "30d02e9f",
   "metadata": {},
   "outputs": [
    {
     "data": {
      "text/plain": [
       "<re.Match object; span=(0, 44), match='Tres tristes tigres comen trigo en un trigal'>"
      ]
     },
     "execution_count": 23,
     "metadata": {},
     "output_type": "execute_result"
    }
   ],
   "source": [
    "# fullmatch -> Comprueba si la totalidad del texto coincide con el patron\n",
    "re.fullmatch(\"Tres tristes tigres comen trigo en un trigal\", texto)"
   ]
  },
  {
   "cell_type": "code",
   "execution_count": 27,
   "id": "ebc1996e",
   "metadata": {},
   "outputs": [
    {
     "data": {
      "text/plain": [
       "<re.Match object; span=(0, 19), match='Tres tristes tigres'>"
      ]
     },
     "execution_count": 27,
     "metadata": {},
     "output_type": "execute_result"
    }
   ],
   "source": [
    "# match -> Comprueba si el patron coincide con el principio del texto\n",
    "re.match(\"Tres tristes tigres\", texto)"
   ]
  },
  {
   "cell_type": "code",
   "execution_count": 28,
   "id": "97c40d26",
   "metadata": {},
   "outputs": [
    {
     "data": {
      "text/plain": [
       "<re.Match object; span=(5, 7), match='tr'>"
      ]
     },
     "execution_count": 28,
     "metadata": {},
     "output_type": "execute_result"
    }
   ],
   "source": [
    "# search -> Busca la parte del texto en la que coincide el patron. Muestra la primera coincidencia\n",
    "re.search(\"tr\", texto)"
   ]
  },
  {
   "cell_type": "markdown",
   "id": "41349755",
   "metadata": {},
   "source": [
    "## Literals\n",
    "\n",
    "La primera cosa que podemos buscar con regex son palabras o strings tal cual les hemos escrito. Para eso, simplemente tenemos que escribir aquello que deseamos buscar. "
   ]
  },
  {
   "cell_type": "code",
   "execution_count": 31,
   "id": "ac0073b9",
   "metadata": {},
   "outputs": [],
   "source": [
    "strings = [\"Regex\", \"regex\", \"REGEX\", \"REGEX 101\"]"
   ]
  },
  {
   "cell_type": "code",
   "execution_count": 32,
   "id": "e5118bdc",
   "metadata": {},
   "outputs": [
    {
     "data": {
      "text/plain": [
       "[False, True, False, False]"
      ]
     },
     "execution_count": 32,
     "metadata": {},
     "output_type": "execute_result"
    }
   ],
   "source": [
    "patron = \"regex\"\n",
    "[bool(re.findall(patron, word)) for word in strings]"
   ]
  },
  {
   "cell_type": "code",
   "execution_count": 34,
   "id": "fbbb2249",
   "metadata": {},
   "outputs": [
    {
     "data": {
      "text/plain": [
       "[False, True, False, False]"
      ]
     },
     "execution_count": 34,
     "metadata": {},
     "output_type": "execute_result"
    }
   ],
   "source": [
    "res = []\n",
    "for word in strings:\n",
    "    res.append(word == \"regex\")\n",
    "res"
   ]
  },
  {
   "cell_type": "markdown",
   "id": "37ac19a0",
   "metadata": {},
   "source": [
    "## Alternation\n",
    "\n",
    "Si queremos buscar entre algunas opciones, podemos separarlas con el caracter `|` para que se haga match con una u otra."
   ]
  },
  {
   "cell_type": "code",
   "execution_count": 52,
   "id": "c3180aa0",
   "metadata": {},
   "outputs": [],
   "source": [
    "strings = [\"Regex\", \"regex\", \"REGEX\", \"REGEX 101\"]"
   ]
  },
  {
   "cell_type": "code",
   "execution_count": 53,
   "id": "c2e1cf6d",
   "metadata": {},
   "outputs": [],
   "source": [
    "patron = \"regex|REGEX\""
   ]
  },
  {
   "cell_type": "code",
   "execution_count": 54,
   "id": "17cae64e",
   "metadata": {},
   "outputs": [
    {
     "data": {
      "text/plain": [
       "[False, True, True, False]"
      ]
     },
     "execution_count": 54,
     "metadata": {},
     "output_type": "execute_result"
    }
   ],
   "source": [
    "[bool(re.fullmatch(patron, word)) for word in strings]"
   ]
  },
  {
   "cell_type": "markdown",
   "id": "0b445d86",
   "metadata": {},
   "source": [
    "## Quantifying\n",
    "\n",
    "Si queremos buscar un patron que se puede repetir, podemos usar algunos modificadores para los patrones:\n",
    "\n",
    "> ### `?`\n",
    "> Busca la existencia o no existencia de un patrón, eso es, el patrón se repitr cero o una vez\n",
    "\n",
    "$0 \\rightarrow 1$"
   ]
  },
  {
   "cell_type": "code",
   "execution_count": 55,
   "id": "d88840f9",
   "metadata": {},
   "outputs": [],
   "source": [
    "strings = [\"REGEX\", \"REGEX1\", \"REGEX2\", \"REGEX3\", \"REGEX33\", \"rREGEX23\", \"rEGEX\"]"
   ]
  },
  {
   "cell_type": "code",
   "execution_count": 56,
   "id": "17aa3439",
   "metadata": {},
   "outputs": [],
   "source": [
    "patron = \"REGEX3?\"   #  == REGEX|REGEX3"
   ]
  },
  {
   "cell_type": "code",
   "execution_count": 57,
   "id": "6f045f27",
   "metadata": {},
   "outputs": [
    {
     "data": {
      "text/plain": [
       "[True, False, False, True, False, False, False]"
      ]
     },
     "execution_count": 57,
     "metadata": {},
     "output_type": "execute_result"
    }
   ],
   "source": [
    "[bool(re.fullmatch(patron, word)) for word in strings]"
   ]
  },
  {
   "cell_type": "markdown",
   "id": "4a53c2c6",
   "metadata": {},
   "source": [
    "> ### `*`\n",
    "> Busca la existencia (en qualquer cantidad) o no existencia de un patrón, eso es, el patrón se repitr cero o quantas veces sea\n",
    "\n",
    "$0 \\rightarrow \t\\infty$"
   ]
  },
  {
   "cell_type": "code",
   "execution_count": 58,
   "id": "dcb3cb9d",
   "metadata": {},
   "outputs": [],
   "source": [
    "strings = [\"regx\", \"regex\", \"regeex\", \"regeeex\", \"reegeex\",\"reegegegegex\"]"
   ]
  },
  {
   "cell_type": "code",
   "execution_count": 59,
   "id": "79c242ef",
   "metadata": {},
   "outputs": [],
   "source": [
    "patron = \"rege*x\""
   ]
  },
  {
   "cell_type": "code",
   "execution_count": 60,
   "id": "2cde71bd",
   "metadata": {},
   "outputs": [
    {
     "data": {
      "text/plain": [
       "[True, True, True, True, False, False]"
      ]
     },
     "execution_count": 60,
     "metadata": {},
     "output_type": "execute_result"
    }
   ],
   "source": [
    "[bool(re.fullmatch(patron, word)) for word in strings]"
   ]
  },
  {
   "cell_type": "code",
   "execution_count": 61,
   "id": "ba9c0703",
   "metadata": {},
   "outputs": [],
   "source": [
    "strings = [\"\", \"9\", \"99\", \"19\", \"1999\"]"
   ]
  },
  {
   "cell_type": "code",
   "execution_count": 62,
   "id": "aaa88462",
   "metadata": {},
   "outputs": [],
   "source": [
    "patron = \"1?9*\""
   ]
  },
  {
   "cell_type": "code",
   "execution_count": 63,
   "id": "f997c11d",
   "metadata": {},
   "outputs": [
    {
     "data": {
      "text/plain": [
       "[True, True, True, True, True]"
      ]
     },
     "execution_count": 63,
     "metadata": {},
     "output_type": "execute_result"
    }
   ],
   "source": [
    "[bool(re.fullmatch(patron, word)) for word in strings]"
   ]
  },
  {
   "cell_type": "markdown",
   "id": "6ae9211b",
   "metadata": {},
   "source": [
    "> ### `+`\n",
    "> Busca una o más repeticiones de un caracter, pero por lo menos una.\n",
    "\n",
    "$1 \\rightarrow \t\\infty$"
   ]
  },
  {
   "cell_type": "code",
   "execution_count": 64,
   "id": "c27a94f8",
   "metadata": {},
   "outputs": [],
   "source": [
    "strings = [\"banana\", \"baaaanaaaanaaaa\", \"baaaannanna\", \"bananaaaaaa\", \"bnn\"]"
   ]
  },
  {
   "cell_type": "code",
   "execution_count": 65,
   "id": "294acdc2",
   "metadata": {},
   "outputs": [],
   "source": [
    "patron = \"ba+na+na+\""
   ]
  },
  {
   "cell_type": "code",
   "execution_count": 66,
   "id": "7ad0fb89",
   "metadata": {},
   "outputs": [
    {
     "data": {
      "text/plain": [
       "[True, True, False, True, False]"
      ]
     },
     "execution_count": 66,
     "metadata": {},
     "output_type": "execute_result"
    }
   ],
   "source": [
    "[bool(re.fullmatch(patron, word)) for word in strings]"
   ]
  },
  {
   "cell_type": "markdown",
   "id": "f495546b",
   "metadata": {},
   "source": [
    "> ### `{}`\n",
    "> Además de los modificadores especificados antes, podemos especificar la cantidad de repeticiones que queremos usando el modificador `{min,max}`"
   ]
  },
  {
   "cell_type": "code",
   "execution_count": 69,
   "id": "7be89482",
   "metadata": {},
   "outputs": [],
   "source": [
    "strings = [\"x\"*1,\"x\"*2,\"x\"*3,\"x\"*4,\"x\"*5,\"x\"*6]"
   ]
  },
  {
   "cell_type": "code",
   "execution_count": 70,
   "id": "ebf38385",
   "metadata": {},
   "outputs": [],
   "source": [
    "patron = \"x{2,4}\""
   ]
  },
  {
   "cell_type": "code",
   "execution_count": 71,
   "id": "5edd750c",
   "metadata": {},
   "outputs": [
    {
     "data": {
      "text/plain": [
       "[False, True, True, True, False, False]"
      ]
     },
     "execution_count": 71,
     "metadata": {},
     "output_type": "execute_result"
    }
   ],
   "source": [
    "[bool(re.fullmatch(patron, word)) for word in strings]"
   ]
  },
  {
   "cell_type": "markdown",
   "id": "583ef480",
   "metadata": {},
   "source": [
    "### Grouping\n",
    "\n",
    "Los modificadores tal cual se aplican al ultimo caracter anterior a ellos, pero no obstante, podemos querer aplicarles a un grupo de caracteres. En ese caso, devemos agruparles con `()`"
   ]
  },
  {
   "cell_type": "code",
   "execution_count": 72,
   "id": "6ec27dd0",
   "metadata": {},
   "outputs": [],
   "source": [
    "strings = [\"REG\", \"REGEX\", \"REGEXEX\", \"REGEXEXEXEX\", \"REGEX_EX_EX_EX\", \"REGEX_EXEXEX\"]"
   ]
  },
  {
   "cell_type": "code",
   "execution_count": 76,
   "id": "78a9777d",
   "metadata": {},
   "outputs": [],
   "source": [
    "patron = \"REG(EX_?)*\""
   ]
  },
  {
   "cell_type": "code",
   "execution_count": 77,
   "id": "49044b8a",
   "metadata": {},
   "outputs": [
    {
     "data": {
      "text/plain": [
       "[True, True, True, True, True, True]"
      ]
     },
     "execution_count": 77,
     "metadata": {},
     "output_type": "execute_result"
    }
   ],
   "source": [
    "[bool(re.fullmatch(patron, word)) for word in strings]"
   ]
  },
  {
   "cell_type": "code",
   "execution_count": 79,
   "id": "4f39ee61",
   "metadata": {},
   "outputs": [],
   "source": [
    "strings = [\"parapípedo\", \"paralepípedo\", \"paralelepípedo\", \"paralelelepípedo\", \"paralelelelelelepípedo\"]"
   ]
  },
  {
   "cell_type": "code",
   "execution_count": 80,
   "id": "bc7e798e",
   "metadata": {},
   "outputs": [],
   "source": [
    "patron = \"para(le)?pípedo\""
   ]
  },
  {
   "cell_type": "code",
   "execution_count": 81,
   "id": "413bae2d",
   "metadata": {},
   "outputs": [
    {
     "data": {
      "text/plain": [
       "[True, True, False, False, False]"
      ]
     },
     "execution_count": 81,
     "metadata": {},
     "output_type": "execute_result"
    }
   ],
   "source": [
    "[bool(re.fullmatch(patron, word)) for word in strings]"
   ]
  },
  {
   "cell_type": "markdown",
   "id": "c17e72d3",
   "metadata": {},
   "source": [
    "Los modificadores también pueden ser parte del grupo"
   ]
  },
  {
   "cell_type": "code",
   "execution_count": 88,
   "id": "5b72a4c3",
   "metadata": {},
   "outputs": [],
   "source": [
    "strings = [\"1991\", \"1999\", \"1199\", \"1111\", \"1919\"]"
   ]
  },
  {
   "cell_type": "code",
   "execution_count": 89,
   "id": "14d819ff",
   "metadata": {},
   "outputs": [],
   "source": [
    "patron = \"(1?9)*\""
   ]
  },
  {
   "cell_type": "code",
   "execution_count": 90,
   "id": "e8d00cb3",
   "metadata": {},
   "outputs": [
    {
     "data": {
      "text/plain": [
       "[False, True, False, False, True]"
      ]
     },
     "execution_count": 90,
     "metadata": {},
     "output_type": "execute_result"
    }
   ],
   "source": [
    "[bool(re.fullmatch(patron, word)) for word in strings]"
   ]
  },
  {
   "cell_type": "markdown",
   "id": "2062516e",
   "metadata": {},
   "source": [
    "## Character Sets\n",
    "\n",
    "Si queremos definir una série de caracteres posibles en una posición, podemos usar `[]`.\n",
    "\n",
    "Si deseamos excluir esos caracteres, usamos `^`.\n",
    "\n",
    "E para definir rangos de digitos o letras, lo hacemos de la siguiente forma `[a-f][0-9][1-3]`"
   ]
  },
  {
   "cell_type": "code",
   "execution_count": 92,
   "id": "4337a2e5",
   "metadata": {},
   "outputs": [],
   "source": [
    "strings = [\"alumno\",\"alumna\",\"alumnoa\"]"
   ]
  },
  {
   "cell_type": "code",
   "execution_count": 93,
   "id": "da4c1fd9",
   "metadata": {},
   "outputs": [],
   "source": [
    "patron = \"alumn[a-z]?\""
   ]
  },
  {
   "cell_type": "code",
   "execution_count": 94,
   "id": "ceaf30bd",
   "metadata": {},
   "outputs": [
    {
     "data": {
      "text/plain": [
       "[True, True, False]"
      ]
     },
     "execution_count": 94,
     "metadata": {},
     "output_type": "execute_result"
    }
   ],
   "source": [
    "[bool(re.fullmatch(patron, word)) for word in strings]"
   ]
  },
  {
   "cell_type": "code",
   "execution_count": 95,
   "id": "6fd2bcc0",
   "metadata": {},
   "outputs": [],
   "source": [
    "strings = [\"Core\", \"CORE\", \"core\", \"COre\", \"coRE\"]"
   ]
  },
  {
   "cell_type": "code",
   "execution_count": 96,
   "id": "519c3102",
   "metadata": {},
   "outputs": [],
   "source": [
    "patron = \"[Cc][Oo][Rr][Ee]\""
   ]
  },
  {
   "cell_type": "code",
   "execution_count": 97,
   "id": "a0815f1f",
   "metadata": {},
   "outputs": [
    {
     "data": {
      "text/plain": [
       "[True, True, True, True, True]"
      ]
     },
     "execution_count": 97,
     "metadata": {},
     "output_type": "execute_result"
    }
   ],
   "source": [
    "[bool(re.fullmatch(patron, word)) for word in strings]"
   ]
  },
  {
   "cell_type": "code",
   "execution_count": 98,
   "id": "0608783b",
   "metadata": {},
   "outputs": [],
   "source": [
    "strings = list(\"abcdefghijklmnopqrstuvwxyz\")"
   ]
  },
  {
   "cell_type": "code",
   "execution_count": 101,
   "id": "e1e2a2d7",
   "metadata": {},
   "outputs": [
    {
     "data": {
      "text/plain": [
       "[(True, 'a'),\n",
       " (True, 'b'),\n",
       " (True, 'c'),\n",
       " (True, 'd'),\n",
       " (True, 'e'),\n",
       " (True, 'f'),\n",
       " (True, 'g'),\n",
       " (True, 'h'),\n",
       " (True, 'i'),\n",
       " (True, 'j'),\n",
       " (True, 'k'),\n",
       " (True, 'l'),\n",
       " (False, 'm'),\n",
       " (False, 'n'),\n",
       " (False, 'o'),\n",
       " (False, 'p'),\n",
       " (False, 'q'),\n",
       " (False, 'r'),\n",
       " (False, 's'),\n",
       " (False, 't'),\n",
       " (False, 'u'),\n",
       " (False, 'v'),\n",
       " (False, 'w'),\n",
       " (False, 'x'),\n",
       " (False, 'y'),\n",
       " (False, 'z')]"
      ]
     },
     "execution_count": 101,
     "metadata": {},
     "output_type": "execute_result"
    }
   ],
   "source": [
    "patron = \"[a-l]*\"\n",
    "[(bool(re.fullmatch(patron, word)), word) for word in strings]"
   ]
  },
  {
   "cell_type": "markdown",
   "id": "3f55580a",
   "metadata": {},
   "source": [
    "## Wildcard\n",
    "Si queremos buscar un caracter cualquiera, podemos usar el `.`, que significa cualquier caracter."
   ]
  },
  {
   "cell_type": "code",
   "execution_count": 102,
   "id": "7fd2de2b",
   "metadata": {},
   "outputs": [],
   "source": [
    "strings = [\"CORE\", \"C0RE\", \"C_RE\", \"CoRE\", \"C RE\", \"COOORE\"]"
   ]
  },
  {
   "cell_type": "code",
   "execution_count": 103,
   "id": "7bd4f2d4",
   "metadata": {},
   "outputs": [],
   "source": [
    "patron = \"C.RE\""
   ]
  },
  {
   "cell_type": "code",
   "execution_count": 104,
   "id": "619803cf",
   "metadata": {},
   "outputs": [
    {
     "data": {
      "text/plain": [
       "[True, True, True, True, True, False]"
      ]
     },
     "execution_count": 104,
     "metadata": {},
     "output_type": "execute_result"
    }
   ],
   "source": [
    "[bool(re.fullmatch(patron, word)) for word in strings]"
   ]
  },
  {
   "cell_type": "code",
   "execution_count": 106,
   "id": "c30ed9bc",
   "metadata": {},
   "outputs": [
    {
     "data": {
      "text/plain": [
       "[True]"
      ]
     },
     "execution_count": 106,
     "metadata": {},
     "output_type": "execute_result"
    }
   ],
   "source": [
    "patron = \".*\"\n",
    "[bool(re.fullmatch(patron, word)) for word in [\"123897qwd98uj3984cy238r7catwer8xqwhra87wrt8xweryu\"]]"
   ]
  },
  {
   "cell_type": "markdown",
   "id": "c8b5af46",
   "metadata": {},
   "source": [
    "## Escaping special characters\n",
    "\n",
    "Hemos visto que algunos caracteres tienen un significado especial. Si queremos buscar por literalmente uno de los siguientes `. { } ( ) [ ] ? *` y demás caracteres con significado especial, debemos usar el signo `\\` antes del caracter cujo significado especial queremos escapar."
   ]
  },
  {
   "cell_type": "code",
   "execution_count": 118,
   "id": "5037a2a0",
   "metadata": {},
   "outputs": [],
   "source": [
    "strings = [\"hola\", \"hola.\", \"hola?\", \"hola!\", \"adios?\"]"
   ]
  },
  {
   "cell_type": "code",
   "execution_count": 119,
   "id": "3c4e85e8",
   "metadata": {},
   "outputs": [],
   "source": [
    "patron = \"h.*\\?\""
   ]
  },
  {
   "cell_type": "code",
   "execution_count": 120,
   "id": "b2c40952",
   "metadata": {},
   "outputs": [
    {
     "data": {
      "text/plain": [
       "[False, False, True, False, False]"
      ]
     },
     "execution_count": 120,
     "metadata": {},
     "output_type": "execute_result"
    }
   ],
   "source": [
    "[bool(re.fullmatch(patron, word)) for word in strings]"
   ]
  },
  {
   "cell_type": "code",
   "execution_count": 121,
   "id": "108540d9",
   "metadata": {},
   "outputs": [],
   "source": [
    "strings = [\".\",\"9999.\",\"999.999\",\"987....\",\"7654.abc\",\"._.._\"]"
   ]
  },
  {
   "cell_type": "code",
   "execution_count": 124,
   "id": "bb7db734",
   "metadata": {},
   "outputs": [],
   "source": [
    "patron = \"[0-9]{4}\\.([0-9]?[a-z]?){3}\""
   ]
  },
  {
   "cell_type": "code",
   "execution_count": 125,
   "id": "6e6d34a4",
   "metadata": {},
   "outputs": [
    {
     "data": {
      "text/plain": [
       "[False, True, False, False, True, False]"
      ]
     },
     "execution_count": 125,
     "metadata": {},
     "output_type": "execute_result"
    }
   ],
   "source": [
    "[bool(re.fullmatch(patron, word)) for word in strings]"
   ]
  },
  {
   "cell_type": "markdown",
   "id": "4894be09",
   "metadata": {},
   "source": [
    "## Character Classes\n",
    "\n",
    "> ### `\\w`\n",
    "> Es cualquier caracter considerado `word character`. Es equivalente a `[a-zA-Z0-9_]`. Si usamos en su lugar la mayúscula estamos excluyendo cualquiera de esos characteres. `\\W`\n",
    "> ### `\\d`\n",
    "> Corresponde a los dígitos `[0-9]`. La mayúscula también es la negación de ellos\n",
    "> ### `\\s`\n",
    "> Con `\\s` indicamos los espacios o, con `\\S` el no-espacio."
   ]
  },
  {
   "cell_type": "code",
   "execution_count": 134,
   "id": "e8c05cf1",
   "metadata": {},
   "outputs": [],
   "source": [
    "strings = [\"adfadfADFADF\", \"\", \"98547938457\", \"dasfgaafjaikdsfa\", \"ksdlfj8adf8as88\",\"⁉️\"]"
   ]
  },
  {
   "cell_type": "code",
   "execution_count": 137,
   "id": "6d8e7c3e",
   "metadata": {},
   "outputs": [],
   "source": [
    "patron = \"\\w+\""
   ]
  },
  {
   "cell_type": "code",
   "execution_count": 138,
   "id": "8e08d0b6",
   "metadata": {},
   "outputs": [
    {
     "data": {
      "text/plain": [
       "[True, False, True, True, True, False]"
      ]
     },
     "execution_count": 138,
     "metadata": {},
     "output_type": "execute_result"
    }
   ],
   "source": [
    "[bool(re.fullmatch(patron, word)) for word in strings]"
   ]
  },
  {
   "cell_type": "code",
   "execution_count": 140,
   "id": "abfa30fd",
   "metadata": {},
   "outputs": [],
   "source": [
    "strings = [\"675998844\",\"675 998844\",\"675 99 88 44\",\"675-99-88-44\",\"675.99.88.44\",\"675-99 88 44\"]"
   ]
  },
  {
   "cell_type": "code",
   "execution_count": 145,
   "id": "dd86c932",
   "metadata": {},
   "outputs": [],
   "source": [
    "patron = \"\\d+\""
   ]
  },
  {
   "cell_type": "code",
   "execution_count": 146,
   "id": "89e45ad9",
   "metadata": {},
   "outputs": [
    {
     "data": {
      "text/plain": [
       "[True, False, False, False, False, False]"
      ]
     },
     "execution_count": 146,
     "metadata": {},
     "output_type": "execute_result"
    }
   ],
   "source": [
    "[bool(re.fullmatch(patron, word)) for word in strings]"
   ]
  },
  {
   "cell_type": "code",
   "execution_count": 157,
   "id": "62495aee",
   "metadata": {},
   "outputs": [],
   "source": [
    "strings = [\"   \", \" \", \"hola \", \"___\", \"...\"]"
   ]
  },
  {
   "cell_type": "code",
   "execution_count": 158,
   "id": "438f532a",
   "metadata": {},
   "outputs": [],
   "source": [
    "patron = \"\\s*\\w*\""
   ]
  },
  {
   "cell_type": "code",
   "execution_count": 159,
   "id": "cff641cf",
   "metadata": {},
   "outputs": [
    {
     "data": {
      "text/plain": [
       "[True, True, False, True, False]"
      ]
     },
     "execution_count": 159,
     "metadata": {},
     "output_type": "execute_result"
    }
   ],
   "source": [
    "[bool(re.fullmatch(patron, word)) for word in strings]"
   ]
  },
  {
   "cell_type": "markdown",
   "id": "b62c8d27",
   "metadata": {},
   "source": [
    "## Anchors\n",
    "\n",
    "Aunque no tenga sentido al utilizar `re.fullmatch`, pues estamos probando el string como un todo, nos pueden ser útiles en otras situaciones los caracteres para indicar el inicio o el final del match, respectivamente `^` y `$`."
   ]
  },
  {
   "cell_type": "code",
   "execution_count": 160,
   "id": "4abf9d88",
   "metadata": {},
   "outputs": [],
   "source": [
    "string = \"\"\"\n",
    "Maria: Hola\n",
    "Pedro: Hola Maria, ¿que haces?\n",
    "Maria: Estoy estudiando REGEX\n",
    "Pedro: ¿Que es eso?\n",
    "Maria: Por ahora creo que es cuando el gato anda sobre el teclado: \\w\\s$*.{6,}(...)+^\\w\\W9999?\"\"\""
   ]
  },
  {
   "cell_type": "code",
   "execution_count": 166,
   "id": "2e31e510",
   "metadata": {},
   "outputs": [],
   "source": [
    "patron = \"^Maria\""
   ]
  },
  {
   "cell_type": "code",
   "execution_count": 167,
   "id": "64192261",
   "metadata": {},
   "outputs": [
    {
     "data": {
      "text/plain": [
       "'\\n'"
      ]
     },
     "execution_count": 167,
     "metadata": {},
     "output_type": "execute_result"
    }
   ],
   "source": [
    "string[0]"
   ]
  },
  {
   "cell_type": "code",
   "execution_count": 169,
   "id": "fc246a39",
   "metadata": {},
   "outputs": [
    {
     "data": {
      "text/plain": [
       "['Maria', 'Maria', 'Maria']"
      ]
     },
     "execution_count": 169,
     "metadata": {},
     "output_type": "execute_result"
    }
   ],
   "source": [
    "re.findall(patron, string, re.MULTILINE)"
   ]
  },
  {
   "cell_type": "code",
   "execution_count": 170,
   "id": "8232fd9e",
   "metadata": {},
   "outputs": [],
   "source": [
    "patron = \"^Maria.*\""
   ]
  },
  {
   "cell_type": "code",
   "execution_count": 171,
   "id": "0e09a7a9",
   "metadata": {},
   "outputs": [
    {
     "data": {
      "text/plain": [
       "['Maria: Hola',\n",
       " 'Maria: Estoy estudiando REGEX',\n",
       " 'Maria: Por ahora creo que es cuando el gato anda sobre el teclado: \\\\w\\\\s$*.{6,}(...)+^\\\\w\\\\W9999?']"
      ]
     },
     "execution_count": 171,
     "metadata": {},
     "output_type": "execute_result"
    }
   ],
   "source": [
    "re.findall(patron, string, re.MULTILINE)"
   ]
  },
  {
   "cell_type": "code",
   "execution_count": 173,
   "id": "5a45eccc",
   "metadata": {},
   "outputs": [],
   "source": [
    "patron = \".*\\?$\""
   ]
  },
  {
   "cell_type": "code",
   "execution_count": 174,
   "id": "d23b4185",
   "metadata": {},
   "outputs": [
    {
     "data": {
      "text/plain": [
       "['Pedro: Hola Maria, ¿que haces?',\n",
       " 'Pedro: ¿Que es eso?',\n",
       " 'Maria: Por ahora creo que es cuando el gato anda sobre el teclado: \\\\w\\\\s$*.{6,}(...)+^\\\\w\\\\W9999?']"
      ]
     },
     "execution_count": 174,
     "metadata": {},
     "output_type": "execute_result"
    }
   ],
   "source": [
    "re.findall(patron, string, re.MULTILINE)"
   ]
  },
  {
   "cell_type": "markdown",
   "id": "1bf45e24",
   "metadata": {},
   "source": [
    "# Paginas de ayuda"
   ]
  },
  {
   "cell_type": "markdown",
   "id": "c9d99d94",
   "metadata": {},
   "source": [
    "[Regex101](https://regex101.com/): Podeis insertar un texto y comprobar, mediante expresiones regulares, el resultado que se obtiene. Ademas, hay una pequeña ayuda en la parte inferior derecha sobre las diferentes opciones que se pueden utilizar\n",
    "\n",
    "[Regexr](https://regexr.com/): Similar a la pagina anterior. Ademas, te marca en el texto aquellas palabras o partes del texto que coinciden con el patron regex. Desglosa el patron en cada una de las partes que lo componen e indica que hace cada parte"
   ]
  }
 ],
 "metadata": {
  "kernelspec": {
   "display_name": "Python 3 (ipykernel)",
   "language": "python",
   "name": "python3"
  },
  "language_info": {
   "codemirror_mode": {
    "name": "ipython",
    "version": 3
   },
   "file_extension": ".py",
   "mimetype": "text/x-python",
   "name": "python",
   "nbconvert_exporter": "python",
   "pygments_lexer": "ipython3",
   "version": "3.9.7"
  },
  "toc": {
   "base_numbering": 1,
   "nav_menu": {},
   "number_sections": false,
   "sideBar": true,
   "skip_h1_title": true,
   "title_cell": "Table of Contents",
   "title_sidebar": "Contents",
   "toc_cell": true,
   "toc_position": {
    "height": "calc(100% - 180px)",
    "left": "10px",
    "top": "150px",
    "width": "338.391px"
   },
   "toc_section_display": true,
   "toc_window_display": false
  }
 },
 "nbformat": 4,
 "nbformat_minor": 5
}
