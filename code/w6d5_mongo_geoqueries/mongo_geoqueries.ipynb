{
 "cells": [
  {
   "cell_type": "markdown",
   "id": "8e452a95",
   "metadata": {},
   "source": [
    "![](https://api.brandy.run/core/core-logo-wide)\n",
    "\n",
    "# Mongo Geoqueries\n",
    "\n",
    "Una de las grandes ventajas de tener una base de datos en MongoDB es la facilidade con la cual interactuar con datos geo espaciales. Para eso, utilizaremos un formato standard para esos datos, el [geoJSON](https://geojson.org)\n",
    "\n",
    "```json\n",
    "{\n",
    "  \"type\": \"Feature\",\n",
    "  \"geometry\": {\n",
    "    \"type\": \"Point\",\n",
    "    \"coordinates\": [125.6, 10.1]\n",
    "  },\n",
    "  \"properties\": {\n",
    "    \"name\": \"Dinagat Islands\"\n",
    "  }\n",
    "}\n",
    "```\n",
    "\n",
    "`NOTE: En las coordenadas debemos asegurarnas que esté en el siguiente orden: [longitude, latitude]`"
   ]
  },
  {
   "cell_type": "markdown",
   "id": "ffc445c7",
   "metadata": {},
   "source": [
    "## Preparing data\n",
    "\n",
    "Vamos ver los datos geograficos que tenemos en nuestro dataset y tenerles en el patrón geoJSON."
   ]
  },
  {
   "cell_type": "code",
   "execution_count": 1,
   "id": "1c22c206",
   "metadata": {},
   "outputs": [
    {
     "data": {
      "text/plain": [
       "True"
      ]
     },
     "execution_count": 1,
     "metadata": {},
     "output_type": "execute_result"
    }
   ],
   "source": [
    "from pymongo import MongoClient\n",
    "import os\n",
    "from dotenv import load_dotenv\n",
    "load_dotenv()"
   ]
  },
  {
   "cell_type": "code",
   "execution_count": 2,
   "id": "ae553b7b",
   "metadata": {},
   "outputs": [],
   "source": [
    "url = os.getenv(\"url\")"
   ]
  },
  {
   "cell_type": "code",
   "execution_count": 3,
   "id": "17992f14",
   "metadata": {},
   "outputs": [],
   "source": [
    "client = MongoClient(url)"
   ]
  },
  {
   "cell_type": "code",
   "execution_count": 4,
   "id": "3d5a500d",
   "metadata": {},
   "outputs": [
    {
     "data": {
      "text/plain": [
       "MongoClient(host=['core-bdml-shard-00-02.zr1wc.mongodb.net:27017', 'core-bdml-shard-00-01.zr1wc.mongodb.net:27017', 'core-bdml-shard-00-00.zr1wc.mongodb.net:27017'], document_class=dict, tz_aware=False, connect=True, authsource='admin', replicaset='atlas-p4t5f9-shard-0', ssl=True)"
      ]
     },
     "execution_count": 4,
     "metadata": {},
     "output_type": "execute_result"
    }
   ],
   "source": [
    "client"
   ]
  },
  {
   "cell_type": "code",
   "execution_count": 5,
   "id": "41e8adc4",
   "metadata": {},
   "outputs": [],
   "source": [
    "db = client.get_database(\"core-bdml\")"
   ]
  },
  {
   "cell_type": "code",
   "execution_count": 6,
   "id": "347c4811",
   "metadata": {},
   "outputs": [],
   "source": [
    "companies = db.companies"
   ]
  },
  {
   "cell_type": "code",
   "execution_count": 7,
   "id": "863ea41b",
   "metadata": {},
   "outputs": [
    {
     "data": {
      "text/plain": [
       "Collection(Database(MongoClient(host=['core-bdml-shard-00-02.zr1wc.mongodb.net:27017', 'core-bdml-shard-00-01.zr1wc.mongodb.net:27017', 'core-bdml-shard-00-00.zr1wc.mongodb.net:27017'], document_class=dict, tz_aware=False, connect=True, authsource='admin', replicaset='atlas-p4t5f9-shard-0', ssl=True), 'core-bdml'), 'companies')"
      ]
     },
     "execution_count": 7,
     "metadata": {},
     "output_type": "execute_result"
    }
   ],
   "source": [
    "companies"
   ]
  },
  {
   "cell_type": "code",
   "execution_count": 9,
   "id": "b687251f",
   "metadata": {},
   "outputs": [
    {
     "ename": "StopIteration",
     "evalue": "",
     "output_type": "error",
     "traceback": [
      "\u001b[0;31m---------------------------------------------------------------------------\u001b[0m",
      "\u001b[0;31mStopIteration\u001b[0m                             Traceback (most recent call last)",
      "\u001b[0;32m/var/folders/gd/w3m3w_td6cldhkn58qwx7mtm0000gn/T/ipykernel_4619/3275622389.py\u001b[0m in \u001b[0;36m<module>\u001b[0;34m\u001b[0m\n\u001b[0;32m----> 1\u001b[0;31m \u001b[0mnext\u001b[0m\u001b[0;34m(\u001b[0m\u001b[0mcompanies\u001b[0m\u001b[0;34m.\u001b[0m\u001b[0mfind\u001b[0m\u001b[0;34m(\u001b[0m\u001b[0;34m{\u001b[0m\u001b[0;34m}\u001b[0m\u001b[0;34m)\u001b[0m\u001b[0;34m)\u001b[0m\u001b[0;34m\u001b[0m\u001b[0;34m\u001b[0m\u001b[0m\n\u001b[0m",
      "\u001b[0;32m~/miniconda3/envs/core/lib/python3.9/site-packages/pymongo/cursor.py\u001b[0m in \u001b[0;36mnext\u001b[0;34m(self)\u001b[0m\n\u001b[1;32m   1244\u001b[0m                 \u001b[0;32mreturn\u001b[0m \u001b[0mself\u001b[0m\u001b[0;34m.\u001b[0m\u001b[0m__data\u001b[0m\u001b[0;34m.\u001b[0m\u001b[0mpopleft\u001b[0m\u001b[0;34m(\u001b[0m\u001b[0;34m)\u001b[0m\u001b[0;34m\u001b[0m\u001b[0;34m\u001b[0m\u001b[0m\n\u001b[1;32m   1245\u001b[0m         \u001b[0;32melse\u001b[0m\u001b[0;34m:\u001b[0m\u001b[0;34m\u001b[0m\u001b[0;34m\u001b[0m\u001b[0m\n\u001b[0;32m-> 1246\u001b[0;31m             \u001b[0;32mraise\u001b[0m \u001b[0mStopIteration\u001b[0m\u001b[0;34m\u001b[0m\u001b[0;34m\u001b[0m\u001b[0m\n\u001b[0m\u001b[1;32m   1247\u001b[0m \u001b[0;34m\u001b[0m\u001b[0m\n\u001b[1;32m   1248\u001b[0m     \u001b[0m__next__\u001b[0m \u001b[0;34m=\u001b[0m \u001b[0mnext\u001b[0m\u001b[0;34m\u001b[0m\u001b[0;34m\u001b[0m\u001b[0m\n",
      "\u001b[0;31mStopIteration\u001b[0m: "
     ]
    }
   ],
   "source": [
    "next(companies.find({}))"
   ]
  },
  {
   "cell_type": "markdown",
   "id": "2aab6111",
   "metadata": {},
   "source": [
    "## Insert data"
   ]
  },
  {
   "cell_type": "code",
   "execution_count": 12,
   "id": "fdd3d29c",
   "metadata": {},
   "outputs": [],
   "source": [
    "import json"
   ]
  },
  {
   "cell_type": "code",
   "execution_count": 15,
   "id": "7cfc5185",
   "metadata": {},
   "outputs": [],
   "source": [
    "data = []\n",
    "with open(\"../../data/companies.json\", \"r\") as file:\n",
    "    for line in file.readlines():\n",
    "        comp = json.loads(line)\n",
    "        comp.pop(\"_id\")\n",
    "        data.append(comp)"
   ]
  },
  {
   "cell_type": "code",
   "execution_count": 16,
   "id": "7ae4ecb0",
   "metadata": {},
   "outputs": [
    {
     "data": {
      "text/plain": [
       "18801"
      ]
     },
     "execution_count": 16,
     "metadata": {},
     "output_type": "execute_result"
    }
   ],
   "source": [
    "len(data)"
   ]
  },
  {
   "cell_type": "code",
   "execution_count": 18,
   "id": "0262b10a",
   "metadata": {},
   "outputs": [
    {
     "data": {
      "text/plain": [
       "{'name': 'Wetpaint',\n",
       " 'permalink': 'abc2',\n",
       " 'crunchbase_url': 'http://www.crunchbase.com/company/wetpaint',\n",
       " 'homepage_url': 'http://wetpaint-inc.com',\n",
       " 'blog_url': 'http://digitalquarters.net/',\n",
       " 'blog_feed_url': 'http://digitalquarters.net/feed/',\n",
       " 'twitter_username': 'BachelrWetpaint',\n",
       " 'category_code': 'web',\n",
       " 'number_of_employees': 47,\n",
       " 'founded_year': 2005,\n",
       " 'founded_month': 10,\n",
       " 'founded_day': 17,\n",
       " 'deadpooled_year': 1,\n",
       " 'tag_list': 'wiki, seattle, elowitz, media-industry, media-platform, social-distribution-system',\n",
       " 'alias_list': '',\n",
       " 'email_address': 'info@wetpaint.com',\n",
       " 'phone_number': '206.859.6300',\n",
       " 'description': 'Technology Platform Company',\n",
       " 'created_at': {'$date': 1180075887000},\n",
       " 'updated_at': 'Sun Dec 08 07:15:44 UTC 2013',\n",
       " 'overview': '<p>Wetpaint is a technology platform company that uses its proprietary state-of-the-art technology and expertise in social media to build and monetize audiences for digital publishers. Wetpaint’s own online property, Wetpaint Entertainment, an entertainment news site that attracts more than 12 million unique visitors monthly and has over 2 million Facebook fans, is a proof point to the company’s success in building and engaging audiences. Media companies can license Wetpaint’s platform which includes a dynamic playbook tailored to their individual needs and comprehensive training. Founded by Internet pioneer Ben Elowitz, and with offices in New York and Seattle, Wetpaint is backed by Accel Partners, the investors behind Facebook.</p>',\n",
       " 'image': {'available_sizes': [[[150, 75],\n",
       "    'assets/images/resized/0000/3604/3604v14-max-150x150.jpg'],\n",
       "   [[250, 125], 'assets/images/resized/0000/3604/3604v14-max-250x250.jpg'],\n",
       "   [[450, 225], 'assets/images/resized/0000/3604/3604v14-max-450x450.jpg']]},\n",
       " 'products': [{'name': 'Wikison Wetpaint', 'permalink': 'wetpaint-wiki'},\n",
       "  {'name': 'Wetpaint Social Distribution System',\n",
       "   'permalink': 'wetpaint-social-distribution-system'}],\n",
       " 'relationships': [{'is_past': False,\n",
       "   'title': 'Co-Founder and VP, Social and Audience Development',\n",
       "   'person': {'first_name': 'Michael',\n",
       "    'last_name': 'Howell',\n",
       "    'permalink': 'michael-howell'}},\n",
       "  {'is_past': False,\n",
       "   'title': 'Co-Founder/CEO/Board of Directors',\n",
       "   'person': {'first_name': 'Ben',\n",
       "    'last_name': 'Elowitz',\n",
       "    'permalink': 'ben-elowitz'}},\n",
       "  {'is_past': False,\n",
       "   'title': 'COO/Board of Directors',\n",
       "   'person': {'first_name': 'Rob',\n",
       "    'last_name': 'Grady',\n",
       "    'permalink': 'rob-grady'}},\n",
       "  {'is_past': False,\n",
       "   'title': 'SVP, Strategy and Business Development',\n",
       "   'person': {'first_name': 'Chris',\n",
       "    'last_name': 'Kollas',\n",
       "    'permalink': 'chris-kollas'}},\n",
       "  {'is_past': False,\n",
       "   'title': 'Board',\n",
       "   'person': {'first_name': 'Theresia',\n",
       "    'last_name': 'Ranzetta',\n",
       "    'permalink': 'theresia-ranzetta'}},\n",
       "  {'is_past': False,\n",
       "   'title': 'Board Member',\n",
       "   'person': {'first_name': 'Gus',\n",
       "    'last_name': 'Tai',\n",
       "    'permalink': 'gus-tai'}},\n",
       "  {'is_past': False,\n",
       "   'title': 'Board',\n",
       "   'person': {'first_name': 'Len',\n",
       "    'last_name': 'Jordan',\n",
       "    'permalink': 'len-jordan'}},\n",
       "  {'is_past': False,\n",
       "   'title': 'Head of Technology and Product',\n",
       "   'person': {'first_name': 'Alex',\n",
       "    'last_name': 'Weinstein',\n",
       "    'permalink': 'alex-weinstein'}},\n",
       "  {'is_past': True,\n",
       "   'title': 'CFO',\n",
       "   'person': {'first_name': 'Bert',\n",
       "    'last_name': 'Hogue',\n",
       "    'permalink': 'bert-hogue'}},\n",
       "  {'is_past': True,\n",
       "   'title': 'CFO/ CRO',\n",
       "   'person': {'first_name': 'Brian',\n",
       "    'last_name': 'Watkins',\n",
       "    'permalink': 'brian-watkins'}},\n",
       "  {'is_past': True,\n",
       "   'title': 'Senior Vice President, Marketing',\n",
       "   'person': {'first_name': 'Rob',\n",
       "    'last_name': 'Grady',\n",
       "    'permalink': 'rob-grady'}},\n",
       "  {'is_past': True,\n",
       "   'title': 'VP, Technology and Product',\n",
       "   'person': {'first_name': 'Werner',\n",
       "    'last_name': 'Koepf',\n",
       "    'permalink': 'werner-koepf'}},\n",
       "  {'is_past': True,\n",
       "   'title': 'VP Marketing',\n",
       "   'person': {'first_name': 'Kevin',\n",
       "    'last_name': 'Flaherty',\n",
       "    'permalink': 'kevin-flaherty'}},\n",
       "  {'is_past': True,\n",
       "   'title': 'VP User Experience',\n",
       "   'person': {'first_name': 'Alex',\n",
       "    'last_name': 'Berg',\n",
       "    'permalink': 'alex-berg'}},\n",
       "  {'is_past': True,\n",
       "   'title': 'VP Engineering',\n",
       "   'person': {'first_name': 'Steve',\n",
       "    'last_name': 'McQuade',\n",
       "    'permalink': 'steve-mcquade'}},\n",
       "  {'is_past': True,\n",
       "   'title': 'Executive Editor',\n",
       "   'person': {'first_name': 'Susan',\n",
       "    'last_name': 'Mulcahy',\n",
       "    'permalink': 'susan-mulcahy'}},\n",
       "  {'is_past': True,\n",
       "   'title': 'VP Business Development',\n",
       "   'person': {'first_name': 'Chris',\n",
       "    'last_name': 'Kollas',\n",
       "    'permalink': 'chris-kollas'}}],\n",
       " 'competitions': [{'competitor': {'name': 'Wikia', 'permalink': 'wikia'}},\n",
       "  {'competitor': {'name': 'JotSpot', 'permalink': 'jotspot'}},\n",
       "  {'competitor': {'name': 'Socialtext', 'permalink': 'socialtext'}},\n",
       "  {'competitor': {'name': 'Ning by Glam Media', 'permalink': 'ning'}},\n",
       "  {'competitor': {'name': 'Soceeo', 'permalink': 'soceeo'}},\n",
       "  {'competitor': {'name': 'Yola', 'permalink': 'yola'}},\n",
       "  {'competitor': {'name': 'SocialGO', 'permalink': 'socialgo'}},\n",
       "  {'competitor': {'name': 'IslamNor', 'permalink': 'islamnor'}}],\n",
       " 'providerships': [],\n",
       " 'total_money_raised': '$39.8M',\n",
       " 'funding_rounds': [{'id': 888,\n",
       "   'round_code': 'a',\n",
       "   'source_url': 'http://seattlepi.nwsource.com/business/246734_wiki02.html',\n",
       "   'source_description': '',\n",
       "   'raised_amount': 5250000,\n",
       "   'raised_currency_code': 'USD',\n",
       "   'funded_year': 2005,\n",
       "   'funded_month': 10,\n",
       "   'funded_day': 1,\n",
       "   'investments': [{'company': None,\n",
       "     'financial_org': {'name': 'Frazier Technology Ventures',\n",
       "      'permalink': 'frazier-technology-ventures'},\n",
       "     'person': None},\n",
       "    {'company': None,\n",
       "     'financial_org': {'name': 'Trinity Ventures',\n",
       "      'permalink': 'trinity-ventures'},\n",
       "     'person': None}]},\n",
       "  {'id': 889,\n",
       "   'round_code': 'b',\n",
       "   'source_url': 'http://pulse2.com/2007/01/09/wiki-builder-website-wetpaint-welcomes-95m-funding/',\n",
       "   'source_description': '',\n",
       "   'raised_amount': 9500000,\n",
       "   'raised_currency_code': 'USD',\n",
       "   'funded_year': 2007,\n",
       "   'funded_month': 1,\n",
       "   'funded_day': 1,\n",
       "   'investments': [{'company': None,\n",
       "     'financial_org': {'name': 'Accel Partners',\n",
       "      'permalink': 'accel-partners'},\n",
       "     'person': None},\n",
       "    {'company': None,\n",
       "     'financial_org': {'name': 'Frazier Technology Ventures',\n",
       "      'permalink': 'frazier-technology-ventures'},\n",
       "     'person': None},\n",
       "    {'company': None,\n",
       "     'financial_org': {'name': 'Trinity Ventures',\n",
       "      'permalink': 'trinity-ventures'},\n",
       "     'person': None}]},\n",
       "  {'id': 2312,\n",
       "   'round_code': 'c',\n",
       "   'source_url': 'http://www.accel.com/news/news_one_up.php?news_id=185',\n",
       "   'source_description': 'Accel',\n",
       "   'raised_amount': 25000000,\n",
       "   'raised_currency_code': 'USD',\n",
       "   'funded_year': 2008,\n",
       "   'funded_month': 5,\n",
       "   'funded_day': 19,\n",
       "   'investments': [{'company': None,\n",
       "     'financial_org': {'name': 'DAG Ventures', 'permalink': 'dag-ventures'},\n",
       "     'person': None},\n",
       "    {'company': None,\n",
       "     'financial_org': {'name': 'Accel Partners',\n",
       "      'permalink': 'accel-partners'},\n",
       "     'person': None},\n",
       "    {'company': None,\n",
       "     'financial_org': {'name': 'Trinity Ventures',\n",
       "      'permalink': 'trinity-ventures'},\n",
       "     'person': None},\n",
       "    {'company': None,\n",
       "     'financial_org': {'name': 'Frazier Technology Ventures',\n",
       "      'permalink': 'frazier-technology-ventures'},\n",
       "     'person': None}]}],\n",
       " 'investments': [],\n",
       " 'acquisition': {'price_amount': 30000000,\n",
       "  'price_currency_code': 'USD',\n",
       "  'term_code': 'cash_and_stock',\n",
       "  'source_url': 'http://allthingsd.com/20131216/viggle-tries-to-bulk-up-its-social-tv-business-by-buying-wetpaint/?mod=atdtweet',\n",
       "  'source_description': ' Viggle Tries to Bulk Up Its Social TV Business by Buying Wetpaint',\n",
       "  'acquired_year': 2013,\n",
       "  'acquired_month': 12,\n",
       "  'acquired_day': 16,\n",
       "  'acquiring_company': {'name': 'Viggle', 'permalink': 'viggle'}},\n",
       " 'acquisitions': [],\n",
       " 'offices': [{'description': '',\n",
       "   'address1': '710 - 2nd Avenue',\n",
       "   'address2': 'Suite 1100',\n",
       "   'zip_code': '98104',\n",
       "   'city': 'Seattle',\n",
       "   'state_code': 'WA',\n",
       "   'country_code': 'USA',\n",
       "   'latitude': 47.603122,\n",
       "   'longitude': -122.333253},\n",
       "  {'description': '',\n",
       "   'address1': '270 Lafayette Street',\n",
       "   'address2': 'Suite 505',\n",
       "   'zip_code': '10012',\n",
       "   'city': 'New York',\n",
       "   'state_code': 'NY',\n",
       "   'country_code': 'USA',\n",
       "   'latitude': 40.7237306,\n",
       "   'longitude': -73.9964312}],\n",
       " 'milestones': [{'id': 5869,\n",
       "   'description': \"Wetpaint named in Lead411's Hottest Seattle Companies list\",\n",
       "   'stoned_year': 2010,\n",
       "   'stoned_month': 6,\n",
       "   'stoned_day': 8,\n",
       "   'source_url': 'http://www.lead411.com/seattle-companies.html',\n",
       "   'source_text': None,\n",
       "   'source_description': 'LEAD411 LAUNCHES \"HOTTEST SEATTLE COMPANIES\" AWARDS',\n",
       "   'stoneable_type': 'Company',\n",
       "   'stoned_value': None,\n",
       "   'stoned_value_type': None,\n",
       "   'stoned_acquirer': None,\n",
       "   'stoneable': {'name': 'Wetpaint', 'permalink': 'wetpaint'}},\n",
       "  {'id': 8702,\n",
       "   'description': 'Site-Builder Wetpaint Makes One For Itself, Using the Demand Media Playbook',\n",
       "   'stoned_year': 2010,\n",
       "   'stoned_month': 9,\n",
       "   'stoned_day': 6,\n",
       "   'source_url': 'http://mediamemo.allthingsd.com/20100906/site-builder-wetpaint-makes-one-for-itself-using-the-demand-media-playbook/',\n",
       "   'source_text': None,\n",
       "   'source_description': 'All Things D',\n",
       "   'stoneable_type': 'Company',\n",
       "   'stoned_value': None,\n",
       "   'stoned_value_type': None,\n",
       "   'stoned_acquirer': None,\n",
       "   'stoneable': {'name': 'Wetpaint', 'permalink': 'wetpaint'}}],\n",
       " 'video_embeds': [],\n",
       " 'screenshots': [{'available_sizes': [[[150, 86],\n",
       "     'assets/images/resized/0016/0929/160929v2-max-150x150.png'],\n",
       "    [[250, 143], 'assets/images/resized/0016/0929/160929v2-max-250x250.png'],\n",
       "    [[450, 258], 'assets/images/resized/0016/0929/160929v2-max-450x450.png']],\n",
       "   'attribution': None}],\n",
       " 'external_links': [{'external_url': 'http://www.geekwire.com/2011/rewind-ben-elowitz-wetpaint-ceo-building-type-media-company',\n",
       "   'title': 'GeekWire interview: Rewind - Ben Elowitz, Wetpaint CEO, on building a new type of media company'},\n",
       "  {'external_url': 'http://techcrunch.com/2012/06/17/search-and-social-how-two-will-soon-become-one/',\n",
       "   'title': 'Guest post by CEO Ben Elowitz in TechCrunch'},\n",
       "  {'external_url': 'http://allthingsd.com/20120516/what-to-expect-when-facebook-is-expecting-five-predictions-for-facebooks-first-public-year/',\n",
       "   'title': 'Guest post by CEO Ben Elowitz in AllThingsD'},\n",
       "  {'external_url': 'http://adage.com/article/digitalnext/facebook-biggest-player-advertising-s-540-billion-world/235708/',\n",
       "   'title': 'Guest post by CEO Ben Elowitz in AdAge'},\n",
       "  {'external_url': 'http://www.businessinsider.com/facebook-captures-14-percent-of-our-online-attention-but-only-4-percent-of-ad-spending-online-2012-6',\n",
       "   'title': 'Guest post by CEO Ben Elowitz in Business Insider'},\n",
       "  {'external_url': 'http://allfacebook.com/wetpaint-media-data_b75963',\n",
       "   'title': 'AllFacebook coverage of Wetpaint'},\n",
       "  {'external_url': 'http://adage.com/article/digital/celeb-site-wetpaint-shows-media-profit-facebook/237828/',\n",
       "   'title': 'Profile of Wetpaint in Ad Age'},\n",
       "  {'external_url': 'http://allthingsd.com/20121018/how-to-boost-your-facebook-traffic-tips-and-tricks-from-wetpaint/',\n",
       "   'title': 'Interview with Wetpaint CEO Ben Elowitz in All Things D'},\n",
       "  {'external_url': 'http://www.xconomy.com/seattle/2012/10/19/wetpaint-starts-licensing-its-facebook-based-media-distribution-tech/',\n",
       "   'title': 'Profile of Wetpaint in Xconomy'}],\n",
       " 'partners': []}"
      ]
     },
     "execution_count": 18,
     "metadata": {},
     "output_type": "execute_result"
    }
   ],
   "source": [
    "data[0]"
   ]
  },
  {
   "cell_type": "code",
   "execution_count": 19,
   "id": "6250875c",
   "metadata": {},
   "outputs": [
    {
     "data": {
      "text/plain": [
       "<pymongo.results.InsertManyResult at 0x112d04ec0>"
      ]
     },
     "execution_count": 19,
     "metadata": {},
     "output_type": "execute_result"
    }
   ],
   "source": [
    "companies.insert_many(data)"
   ]
  },
  {
   "cell_type": "code",
   "execution_count": 20,
   "id": "16699776",
   "metadata": {},
   "outputs": [
    {
     "data": {
      "text/plain": [
       "{'_id': ObjectId('6275617c63d5059b473c119e'),\n",
       " 'name': 'Wetpaint',\n",
       " 'permalink': 'abc2',\n",
       " 'crunchbase_url': 'http://www.crunchbase.com/company/wetpaint',\n",
       " 'homepage_url': 'http://wetpaint-inc.com',\n",
       " 'blog_url': 'http://digitalquarters.net/',\n",
       " 'blog_feed_url': 'http://digitalquarters.net/feed/',\n",
       " 'twitter_username': 'BachelrWetpaint',\n",
       " 'category_code': 'web',\n",
       " 'number_of_employees': 47,\n",
       " 'founded_year': 2005,\n",
       " 'founded_month': 10,\n",
       " 'founded_day': 17,\n",
       " 'deadpooled_year': 1,\n",
       " 'tag_list': 'wiki, seattle, elowitz, media-industry, media-platform, social-distribution-system',\n",
       " 'alias_list': '',\n",
       " 'email_address': 'info@wetpaint.com',\n",
       " 'phone_number': '206.859.6300',\n",
       " 'description': 'Technology Platform Company',\n",
       " 'created_at': {'$date': 1180075887000},\n",
       " 'updated_at': 'Sun Dec 08 07:15:44 UTC 2013',\n",
       " 'overview': '<p>Wetpaint is a technology platform company that uses its proprietary state-of-the-art technology and expertise in social media to build and monetize audiences for digital publishers. Wetpaint’s own online property, Wetpaint Entertainment, an entertainment news site that attracts more than 12 million unique visitors monthly and has over 2 million Facebook fans, is a proof point to the company’s success in building and engaging audiences. Media companies can license Wetpaint’s platform which includes a dynamic playbook tailored to their individual needs and comprehensive training. Founded by Internet pioneer Ben Elowitz, and with offices in New York and Seattle, Wetpaint is backed by Accel Partners, the investors behind Facebook.</p>',\n",
       " 'image': {'available_sizes': [[[150, 75],\n",
       "    'assets/images/resized/0000/3604/3604v14-max-150x150.jpg'],\n",
       "   [[250, 125], 'assets/images/resized/0000/3604/3604v14-max-250x250.jpg'],\n",
       "   [[450, 225], 'assets/images/resized/0000/3604/3604v14-max-450x450.jpg']]},\n",
       " 'products': [{'name': 'Wikison Wetpaint', 'permalink': 'wetpaint-wiki'},\n",
       "  {'name': 'Wetpaint Social Distribution System',\n",
       "   'permalink': 'wetpaint-social-distribution-system'}],\n",
       " 'relationships': [{'is_past': False,\n",
       "   'title': 'Co-Founder and VP, Social and Audience Development',\n",
       "   'person': {'first_name': 'Michael',\n",
       "    'last_name': 'Howell',\n",
       "    'permalink': 'michael-howell'}},\n",
       "  {'is_past': False,\n",
       "   'title': 'Co-Founder/CEO/Board of Directors',\n",
       "   'person': {'first_name': 'Ben',\n",
       "    'last_name': 'Elowitz',\n",
       "    'permalink': 'ben-elowitz'}},\n",
       "  {'is_past': False,\n",
       "   'title': 'COO/Board of Directors',\n",
       "   'person': {'first_name': 'Rob',\n",
       "    'last_name': 'Grady',\n",
       "    'permalink': 'rob-grady'}},\n",
       "  {'is_past': False,\n",
       "   'title': 'SVP, Strategy and Business Development',\n",
       "   'person': {'first_name': 'Chris',\n",
       "    'last_name': 'Kollas',\n",
       "    'permalink': 'chris-kollas'}},\n",
       "  {'is_past': False,\n",
       "   'title': 'Board',\n",
       "   'person': {'first_name': 'Theresia',\n",
       "    'last_name': 'Ranzetta',\n",
       "    'permalink': 'theresia-ranzetta'}},\n",
       "  {'is_past': False,\n",
       "   'title': 'Board Member',\n",
       "   'person': {'first_name': 'Gus',\n",
       "    'last_name': 'Tai',\n",
       "    'permalink': 'gus-tai'}},\n",
       "  {'is_past': False,\n",
       "   'title': 'Board',\n",
       "   'person': {'first_name': 'Len',\n",
       "    'last_name': 'Jordan',\n",
       "    'permalink': 'len-jordan'}},\n",
       "  {'is_past': False,\n",
       "   'title': 'Head of Technology and Product',\n",
       "   'person': {'first_name': 'Alex',\n",
       "    'last_name': 'Weinstein',\n",
       "    'permalink': 'alex-weinstein'}},\n",
       "  {'is_past': True,\n",
       "   'title': 'CFO',\n",
       "   'person': {'first_name': 'Bert',\n",
       "    'last_name': 'Hogue',\n",
       "    'permalink': 'bert-hogue'}},\n",
       "  {'is_past': True,\n",
       "   'title': 'CFO/ CRO',\n",
       "   'person': {'first_name': 'Brian',\n",
       "    'last_name': 'Watkins',\n",
       "    'permalink': 'brian-watkins'}},\n",
       "  {'is_past': True,\n",
       "   'title': 'Senior Vice President, Marketing',\n",
       "   'person': {'first_name': 'Rob',\n",
       "    'last_name': 'Grady',\n",
       "    'permalink': 'rob-grady'}},\n",
       "  {'is_past': True,\n",
       "   'title': 'VP, Technology and Product',\n",
       "   'person': {'first_name': 'Werner',\n",
       "    'last_name': 'Koepf',\n",
       "    'permalink': 'werner-koepf'}},\n",
       "  {'is_past': True,\n",
       "   'title': 'VP Marketing',\n",
       "   'person': {'first_name': 'Kevin',\n",
       "    'last_name': 'Flaherty',\n",
       "    'permalink': 'kevin-flaherty'}},\n",
       "  {'is_past': True,\n",
       "   'title': 'VP User Experience',\n",
       "   'person': {'first_name': 'Alex',\n",
       "    'last_name': 'Berg',\n",
       "    'permalink': 'alex-berg'}},\n",
       "  {'is_past': True,\n",
       "   'title': 'VP Engineering',\n",
       "   'person': {'first_name': 'Steve',\n",
       "    'last_name': 'McQuade',\n",
       "    'permalink': 'steve-mcquade'}},\n",
       "  {'is_past': True,\n",
       "   'title': 'Executive Editor',\n",
       "   'person': {'first_name': 'Susan',\n",
       "    'last_name': 'Mulcahy',\n",
       "    'permalink': 'susan-mulcahy'}},\n",
       "  {'is_past': True,\n",
       "   'title': 'VP Business Development',\n",
       "   'person': {'first_name': 'Chris',\n",
       "    'last_name': 'Kollas',\n",
       "    'permalink': 'chris-kollas'}}],\n",
       " 'competitions': [{'competitor': {'name': 'Wikia', 'permalink': 'wikia'}},\n",
       "  {'competitor': {'name': 'JotSpot', 'permalink': 'jotspot'}},\n",
       "  {'competitor': {'name': 'Socialtext', 'permalink': 'socialtext'}},\n",
       "  {'competitor': {'name': 'Ning by Glam Media', 'permalink': 'ning'}},\n",
       "  {'competitor': {'name': 'Soceeo', 'permalink': 'soceeo'}},\n",
       "  {'competitor': {'name': 'Yola', 'permalink': 'yola'}},\n",
       "  {'competitor': {'name': 'SocialGO', 'permalink': 'socialgo'}},\n",
       "  {'competitor': {'name': 'IslamNor', 'permalink': 'islamnor'}}],\n",
       " 'providerships': [],\n",
       " 'total_money_raised': '$39.8M',\n",
       " 'funding_rounds': [{'id': 888,\n",
       "   'round_code': 'a',\n",
       "   'source_url': 'http://seattlepi.nwsource.com/business/246734_wiki02.html',\n",
       "   'source_description': '',\n",
       "   'raised_amount': 5250000,\n",
       "   'raised_currency_code': 'USD',\n",
       "   'funded_year': 2005,\n",
       "   'funded_month': 10,\n",
       "   'funded_day': 1,\n",
       "   'investments': [{'company': None,\n",
       "     'financial_org': {'name': 'Frazier Technology Ventures',\n",
       "      'permalink': 'frazier-technology-ventures'},\n",
       "     'person': None},\n",
       "    {'company': None,\n",
       "     'financial_org': {'name': 'Trinity Ventures',\n",
       "      'permalink': 'trinity-ventures'},\n",
       "     'person': None}]},\n",
       "  {'id': 889,\n",
       "   'round_code': 'b',\n",
       "   'source_url': 'http://pulse2.com/2007/01/09/wiki-builder-website-wetpaint-welcomes-95m-funding/',\n",
       "   'source_description': '',\n",
       "   'raised_amount': 9500000,\n",
       "   'raised_currency_code': 'USD',\n",
       "   'funded_year': 2007,\n",
       "   'funded_month': 1,\n",
       "   'funded_day': 1,\n",
       "   'investments': [{'company': None,\n",
       "     'financial_org': {'name': 'Accel Partners',\n",
       "      'permalink': 'accel-partners'},\n",
       "     'person': None},\n",
       "    {'company': None,\n",
       "     'financial_org': {'name': 'Frazier Technology Ventures',\n",
       "      'permalink': 'frazier-technology-ventures'},\n",
       "     'person': None},\n",
       "    {'company': None,\n",
       "     'financial_org': {'name': 'Trinity Ventures',\n",
       "      'permalink': 'trinity-ventures'},\n",
       "     'person': None}]},\n",
       "  {'id': 2312,\n",
       "   'round_code': 'c',\n",
       "   'source_url': 'http://www.accel.com/news/news_one_up.php?news_id=185',\n",
       "   'source_description': 'Accel',\n",
       "   'raised_amount': 25000000,\n",
       "   'raised_currency_code': 'USD',\n",
       "   'funded_year': 2008,\n",
       "   'funded_month': 5,\n",
       "   'funded_day': 19,\n",
       "   'investments': [{'company': None,\n",
       "     'financial_org': {'name': 'DAG Ventures', 'permalink': 'dag-ventures'},\n",
       "     'person': None},\n",
       "    {'company': None,\n",
       "     'financial_org': {'name': 'Accel Partners',\n",
       "      'permalink': 'accel-partners'},\n",
       "     'person': None},\n",
       "    {'company': None,\n",
       "     'financial_org': {'name': 'Trinity Ventures',\n",
       "      'permalink': 'trinity-ventures'},\n",
       "     'person': None},\n",
       "    {'company': None,\n",
       "     'financial_org': {'name': 'Frazier Technology Ventures',\n",
       "      'permalink': 'frazier-technology-ventures'},\n",
       "     'person': None}]}],\n",
       " 'investments': [],\n",
       " 'acquisition': {'price_amount': 30000000,\n",
       "  'price_currency_code': 'USD',\n",
       "  'term_code': 'cash_and_stock',\n",
       "  'source_url': 'http://allthingsd.com/20131216/viggle-tries-to-bulk-up-its-social-tv-business-by-buying-wetpaint/?mod=atdtweet',\n",
       "  'source_description': ' Viggle Tries to Bulk Up Its Social TV Business by Buying Wetpaint',\n",
       "  'acquired_year': 2013,\n",
       "  'acquired_month': 12,\n",
       "  'acquired_day': 16,\n",
       "  'acquiring_company': {'name': 'Viggle', 'permalink': 'viggle'}},\n",
       " 'acquisitions': [],\n",
       " 'offices': [{'description': '',\n",
       "   'address1': '710 - 2nd Avenue',\n",
       "   'address2': 'Suite 1100',\n",
       "   'zip_code': '98104',\n",
       "   'city': 'Seattle',\n",
       "   'state_code': 'WA',\n",
       "   'country_code': 'USA',\n",
       "   'latitude': 47.603122,\n",
       "   'longitude': -122.333253},\n",
       "  {'description': '',\n",
       "   'address1': '270 Lafayette Street',\n",
       "   'address2': 'Suite 505',\n",
       "   'zip_code': '10012',\n",
       "   'city': 'New York',\n",
       "   'state_code': 'NY',\n",
       "   'country_code': 'USA',\n",
       "   'latitude': 40.7237306,\n",
       "   'longitude': -73.9964312}],\n",
       " 'milestones': [{'id': 5869,\n",
       "   'description': \"Wetpaint named in Lead411's Hottest Seattle Companies list\",\n",
       "   'stoned_year': 2010,\n",
       "   'stoned_month': 6,\n",
       "   'stoned_day': 8,\n",
       "   'source_url': 'http://www.lead411.com/seattle-companies.html',\n",
       "   'source_text': None,\n",
       "   'source_description': 'LEAD411 LAUNCHES \"HOTTEST SEATTLE COMPANIES\" AWARDS',\n",
       "   'stoneable_type': 'Company',\n",
       "   'stoned_value': None,\n",
       "   'stoned_value_type': None,\n",
       "   'stoned_acquirer': None,\n",
       "   'stoneable': {'name': 'Wetpaint', 'permalink': 'wetpaint'}},\n",
       "  {'id': 8702,\n",
       "   'description': 'Site-Builder Wetpaint Makes One For Itself, Using the Demand Media Playbook',\n",
       "   'stoned_year': 2010,\n",
       "   'stoned_month': 9,\n",
       "   'stoned_day': 6,\n",
       "   'source_url': 'http://mediamemo.allthingsd.com/20100906/site-builder-wetpaint-makes-one-for-itself-using-the-demand-media-playbook/',\n",
       "   'source_text': None,\n",
       "   'source_description': 'All Things D',\n",
       "   'stoneable_type': 'Company',\n",
       "   'stoned_value': None,\n",
       "   'stoned_value_type': None,\n",
       "   'stoned_acquirer': None,\n",
       "   'stoneable': {'name': 'Wetpaint', 'permalink': 'wetpaint'}}],\n",
       " 'video_embeds': [],\n",
       " 'screenshots': [{'available_sizes': [[[150, 86],\n",
       "     'assets/images/resized/0016/0929/160929v2-max-150x150.png'],\n",
       "    [[250, 143], 'assets/images/resized/0016/0929/160929v2-max-250x250.png'],\n",
       "    [[450, 258], 'assets/images/resized/0016/0929/160929v2-max-450x450.png']],\n",
       "   'attribution': None}],\n",
       " 'external_links': [{'external_url': 'http://www.geekwire.com/2011/rewind-ben-elowitz-wetpaint-ceo-building-type-media-company',\n",
       "   'title': 'GeekWire interview: Rewind - Ben Elowitz, Wetpaint CEO, on building a new type of media company'},\n",
       "  {'external_url': 'http://techcrunch.com/2012/06/17/search-and-social-how-two-will-soon-become-one/',\n",
       "   'title': 'Guest post by CEO Ben Elowitz in TechCrunch'},\n",
       "  {'external_url': 'http://allthingsd.com/20120516/what-to-expect-when-facebook-is-expecting-five-predictions-for-facebooks-first-public-year/',\n",
       "   'title': 'Guest post by CEO Ben Elowitz in AllThingsD'},\n",
       "  {'external_url': 'http://adage.com/article/digitalnext/facebook-biggest-player-advertising-s-540-billion-world/235708/',\n",
       "   'title': 'Guest post by CEO Ben Elowitz in AdAge'},\n",
       "  {'external_url': 'http://www.businessinsider.com/facebook-captures-14-percent-of-our-online-attention-but-only-4-percent-of-ad-spending-online-2012-6',\n",
       "   'title': 'Guest post by CEO Ben Elowitz in Business Insider'},\n",
       "  {'external_url': 'http://allfacebook.com/wetpaint-media-data_b75963',\n",
       "   'title': 'AllFacebook coverage of Wetpaint'},\n",
       "  {'external_url': 'http://adage.com/article/digital/celeb-site-wetpaint-shows-media-profit-facebook/237828/',\n",
       "   'title': 'Profile of Wetpaint in Ad Age'},\n",
       "  {'external_url': 'http://allthingsd.com/20121018/how-to-boost-your-facebook-traffic-tips-and-tricks-from-wetpaint/',\n",
       "   'title': 'Interview with Wetpaint CEO Ben Elowitz in All Things D'},\n",
       "  {'external_url': 'http://www.xconomy.com/seattle/2012/10/19/wetpaint-starts-licensing-its-facebook-based-media-distribution-tech/',\n",
       "   'title': 'Profile of Wetpaint in Xconomy'}],\n",
       " 'partners': []}"
      ]
     },
     "execution_count": 20,
     "metadata": {},
     "output_type": "execute_result"
    }
   ],
   "source": [
    "next(companies.find({}))"
   ]
  },
  {
   "cell_type": "code",
   "execution_count": 23,
   "id": "bfaac44a",
   "metadata": {},
   "outputs": [
    {
     "data": {
      "text/plain": [
       "[{'description': '',\n",
       "  'address1': '710 - 2nd Avenue',\n",
       "  'address2': 'Suite 1100',\n",
       "  'zip_code': '98104',\n",
       "  'city': 'Seattle',\n",
       "  'state_code': 'WA',\n",
       "  'country_code': 'USA',\n",
       "  'latitude': 47.603122,\n",
       "  'longitude': -122.333253},\n",
       " {'description': '',\n",
       "  'address1': '270 Lafayette Street',\n",
       "  'address2': 'Suite 505',\n",
       "  'zip_code': '10012',\n",
       "  'city': 'New York',\n",
       "  'state_code': 'NY',\n",
       "  'country_code': 'USA',\n",
       "  'latitude': 40.7237306,\n",
       "  'longitude': -73.9964312}]"
      ]
     },
     "execution_count": 23,
     "metadata": {},
     "output_type": "execute_result"
    }
   ],
   "source": [
    "data[0][\"offices\"]"
   ]
  },
  {
   "cell_type": "markdown",
   "id": "fba48613",
   "metadata": {},
   "source": [
    "## $unwind\n",
    "\n",
    "Para poder crear un index geográfico e poder hacer queries geoespaciales, tenemos que no solo tener los datos en formato geoJSON, pero también que las diferentes oficinas estén en diferentes documentos. Para eso tendremos que hacer una query del tipo [aggregation](https://pymongo.readthedocs.io/en/stable/examples/aggregation.html) y usar el operador `$unwind`."
   ]
  },
  {
   "cell_type": "code",
   "execution_count": 24,
   "id": "ad3bcde9",
   "metadata": {},
   "outputs": [],
   "source": [
    "pipeline = [\n",
    "    {\"$match\": {\"offices.longitude\": {\"$ne\":None}, \"offices.latitude\": {\"$ne\":None}}},\n",
    "    {\"$unwind\": \"$offices\"},\n",
    "    {\"$project\": {\"_id\":0}}\n",
    "]"
   ]
  },
  {
   "cell_type": "code",
   "execution_count": 25,
   "id": "1e6dc38f",
   "metadata": {},
   "outputs": [],
   "source": [
    "geo_companies = list(companies.aggregate(pipeline))"
   ]
  },
  {
   "cell_type": "code",
   "execution_count": 32,
   "id": "9ff19fb8",
   "metadata": {},
   "outputs": [
    {
     "data": {
      "text/plain": [
       "9708"
      ]
     },
     "execution_count": 32,
     "metadata": {},
     "output_type": "execute_result"
    }
   ],
   "source": [
    "len(geo_companies)"
   ]
  },
  {
   "cell_type": "code",
   "execution_count": 28,
   "id": "720477b5",
   "metadata": {},
   "outputs": [
    {
     "data": {
      "text/plain": [
       "{'description': '',\n",
       " 'address1': '710 - 2nd Avenue',\n",
       " 'address2': 'Suite 1100',\n",
       " 'zip_code': '98104',\n",
       " 'city': 'Seattle',\n",
       " 'state_code': 'WA',\n",
       " 'country_code': 'USA',\n",
       " 'latitude': 47.603122,\n",
       " 'longitude': -122.333253}"
      ]
     },
     "execution_count": 28,
     "metadata": {},
     "output_type": "execute_result"
    }
   ],
   "source": [
    "geo_companies[0][\"offices\"]"
   ]
  },
  {
   "cell_type": "code",
   "execution_count": 29,
   "id": "bb73ca4e",
   "metadata": {},
   "outputs": [
    {
     "data": {
      "text/plain": [
       "{'description': '',\n",
       " 'address1': '270 Lafayette Street',\n",
       " 'address2': 'Suite 505',\n",
       " 'zip_code': '10012',\n",
       " 'city': 'New York',\n",
       " 'state_code': 'NY',\n",
       " 'country_code': 'USA',\n",
       " 'latitude': 40.7237306,\n",
       " 'longitude': -73.9964312}"
      ]
     },
     "execution_count": 29,
     "metadata": {},
     "output_type": "execute_result"
    }
   ],
   "source": [
    "geo_companies[1][\"offices\"]"
   ]
  },
  {
   "cell_type": "markdown",
   "id": "3199edb9",
   "metadata": {},
   "source": [
    "## Create new dataset with geoJSON data"
   ]
  },
  {
   "cell_type": "code",
   "execution_count": null,
   "id": "21c43b60",
   "metadata": {},
   "outputs": [],
   "source": [
    "q = {\n",
    "    \"type\":\"Point\",\n",
    "    \"coordinates\": [\"longitude\", \"latitude\"]\n",
    "}"
   ]
  },
  {
   "cell_type": "code",
   "execution_count": 33,
   "id": "bf5ad4a9",
   "metadata": {},
   "outputs": [
    {
     "data": {
      "text/plain": [
       "9708"
      ]
     },
     "execution_count": 33,
     "metadata": {},
     "output_type": "execute_result"
    }
   ],
   "source": [
    "len(geo_companies)"
   ]
  },
  {
   "cell_type": "code",
   "execution_count": 34,
   "id": "695b5a9e",
   "metadata": {},
   "outputs": [],
   "source": [
    "data = []\n",
    "for gc in geo_companies:\n",
    "    gc[\"location\"] = {\n",
    "        \"type\":\"Point\",\n",
    "        \"coordinates\": [gc[\"offices\"][\"longitude\"], gc[\"offices\"][\"latitude\"]]\n",
    "    }\n",
    "    data.append(gc)"
   ]
  },
  {
   "cell_type": "code",
   "execution_count": 37,
   "id": "d4b1c90f",
   "metadata": {},
   "outputs": [
    {
     "data": {
      "text/plain": [
       "9708"
      ]
     },
     "execution_count": 37,
     "metadata": {},
     "output_type": "execute_result"
    }
   ],
   "source": [
    "len(data)"
   ]
  },
  {
   "cell_type": "code",
   "execution_count": 38,
   "id": "a6ca98df",
   "metadata": {},
   "outputs": [],
   "source": [
    "geo_companies = db.geo_companies"
   ]
  },
  {
   "cell_type": "code",
   "execution_count": 39,
   "id": "a53dfc7a",
   "metadata": {},
   "outputs": [
    {
     "data": {
      "text/plain": [
       "<pymongo.results.InsertManyResult at 0x1247e6600>"
      ]
     },
     "execution_count": 39,
     "metadata": {},
     "output_type": "execute_result"
    }
   ],
   "source": [
    "geo_companies.insert_many(data)"
   ]
  },
  {
   "cell_type": "markdown",
   "id": "dc4647cc",
   "metadata": {},
   "source": [
    "## Create geoIndex\n",
    "\n",
    "Ahora que ya tenemos los datos en el formato correcto, debemos crear un nuevo index, el index geoespacial. Eso es lo que permite a mongo considerar ue cada documento pertenece a un punto sobre el globo y podremos hacer geoqueries.\n",
    "\n",
    "Para crear el index, en la pestaña correspondiente de Mongo Compass, debemos selecionar el atributo `geometry` y definir el index como del tipo `2d sphere`.\n",
    "\n",
    "![](img/geo_index.png)"
   ]
  },
  {
   "cell_type": "markdown",
   "id": "9b9245e4",
   "metadata": {},
   "source": [
    "## GeoQueries\n",
    "\n",
    "Ahora ya está todo listo para que empecemos a realizar [Geospatial Queries](https://docs.mongodb.com/manual/geospatial-queries/), donde filtraremos los datos por su posición en el globo."
   ]
  },
  {
   "cell_type": "code",
   "execution_count": 40,
   "id": "b53c0c3b",
   "metadata": {},
   "outputs": [],
   "source": [
    "madrid = {\n",
    "    \"type\":\"Point\",\n",
    "    \"coordinates\": [-3.7038, 40.4168]\n",
    "}"
   ]
  },
  {
   "cell_type": "code",
   "execution_count": 41,
   "id": "13fa7723",
   "metadata": {},
   "outputs": [],
   "source": [
    "q = {\n",
    "    \"location\":{\n",
    "        \"$near\":{\n",
    "            \"$geometry\":madrid,\n",
    "            \"$maxDistance\": 10_000 # en metros\n",
    "            # \"$minDistance\": 100 metros\n",
    "        }\n",
    "    }\n",
    "}"
   ]
  },
  {
   "cell_type": "code",
   "execution_count": 42,
   "id": "e41e082f",
   "metadata": {},
   "outputs": [],
   "source": [
    "res = list(geo_companies.find(q))"
   ]
  },
  {
   "cell_type": "code",
   "execution_count": 43,
   "id": "864a6f7b",
   "metadata": {},
   "outputs": [
    {
     "data": {
      "text/plain": [
       "43"
      ]
     },
     "execution_count": 43,
     "metadata": {},
     "output_type": "execute_result"
    }
   ],
   "source": [
    "len(res)"
   ]
  },
  {
   "cell_type": "code",
   "execution_count": 44,
   "id": "7edeb682",
   "metadata": {},
   "outputs": [
    {
     "data": {
      "text/plain": [
       "{'_id': ObjectId('627564cd63d5059b473c619f'),\n",
       " 'name': 'Swotti',\n",
       " 'permalink': 'swotti',\n",
       " 'crunchbase_url': 'http://www.crunchbase.com/company/swotti',\n",
       " 'homepage_url': 'http://swotti.com',\n",
       " 'blog_url': '',\n",
       " 'blog_feed_url': '',\n",
       " 'twitter_username': '',\n",
       " 'category_code': 'public_relations',\n",
       " 'number_of_employees': None,\n",
       " 'founded_year': None,\n",
       " 'founded_month': None,\n",
       " 'founded_day': None,\n",
       " 'deadpooled_year': None,\n",
       " 'deadpooled_month': None,\n",
       " 'deadpooled_day': None,\n",
       " 'deadpooled_url': None,\n",
       " 'tag_list': 'semanticsearch, productreviews, opinions',\n",
       " 'alias_list': '',\n",
       " 'email_address': '',\n",
       " 'phone_number': '',\n",
       " 'description': 'semantic search engine',\n",
       " 'created_at': 'Sat Mar 22 16:23:49 UTC 2008',\n",
       " 'updated_at': 'Mon Dec 16 07:22:13 UTC 2013',\n",
       " 'overview': '<p><a href=\"http://swotti.com\" title=\"Swotti\" rel=\"nofollow\">Swotti</a> is a semantic search engine that helps consumers gather product reviews, opinions, and articles.  The site indexes over 3 million reviews, good and bad.  After searching, Swotti returns a number of visuals that allow the user to easily evaluate the collective opinion on their product in question.</p>',\n",
       " 'image': {'available_sizes': [[[150, 47],\n",
       "    'assets/images/resized/0001/6241/16241v3-max-150x150.png'],\n",
       "   [[208, 66], 'assets/images/resized/0001/6241/16241v3-max-250x250.png'],\n",
       "   [[208, 66], 'assets/images/resized/0001/6241/16241v3-max-450x450.png']],\n",
       "  'attribution': None},\n",
       " 'products': [{'name': 'Swotti', 'permalink': 'swotti'}],\n",
       " 'relationships': [],\n",
       " 'competitions': [{'competitor': {'name': 'ProductWiki',\n",
       "    'permalink': 'productwiki'}},\n",
       "  {'competitor': {'name': 'SmartRatings', 'permalink': 'smartratings'}}],\n",
       " 'providerships': [],\n",
       " 'total_money_raised': '$0',\n",
       " 'funding_rounds': [],\n",
       " 'investments': [],\n",
       " 'acquisition': None,\n",
       " 'acquisitions': [],\n",
       " 'offices': {'description': None,\n",
       "  'address1': '',\n",
       "  'address2': '',\n",
       "  'zip_code': '',\n",
       "  'city': 'Madrid',\n",
       "  'state_code': None,\n",
       "  'country_code': 'ESP',\n",
       "  'latitude': 40.416741,\n",
       "  'longitude': -3.70325},\n",
       " 'milestones': [],\n",
       " 'ipo': None,\n",
       " 'video_embeds': [],\n",
       " 'screenshots': [{'available_sizes': [[[150, 109],\n",
       "     'assets/images/resized/0037/6723/376723v1-max-150x150.png'],\n",
       "    [[250, 181], 'assets/images/resized/0037/6723/376723v1-max-250x250.png'],\n",
       "    [[275, 200], 'assets/images/resized/0037/6723/376723v1-max-450x450.png']],\n",
       "   'attribution': None}],\n",
       " 'external_links': [],\n",
       " 'partners': [],\n",
       " 'location': {'type': 'Point', 'coordinates': [-3.70325, 40.416741]}}"
      ]
     },
     "execution_count": 44,
     "metadata": {},
     "output_type": "execute_result"
    }
   ],
   "source": [
    "res[0]"
   ]
  },
  {
   "cell_type": "code",
   "execution_count": 45,
   "id": "4e0815ce",
   "metadata": {},
   "outputs": [],
   "source": [
    "with open(\"../../data/spain-provinces.geojson\", \"r\") as file:\n",
    "    data = json.loads(file.read())"
   ]
  },
  {
   "cell_type": "code",
   "execution_count": 48,
   "id": "6a27ecd3",
   "metadata": {},
   "outputs": [
    {
     "data": {
      "text/plain": [
       "dict_keys(['type', 'geometry', 'properties'])"
      ]
     },
     "execution_count": 48,
     "metadata": {},
     "output_type": "execute_result"
    }
   ],
   "source": [
    "data[0].keys()"
   ]
  },
  {
   "cell_type": "code",
   "execution_count": 51,
   "id": "dba701ea",
   "metadata": {},
   "outputs": [
    {
     "data": {
      "text/plain": [
       "{'cod_prov': '07',\n",
       " 'name': 'Illes Balears',\n",
       " 'cod_ccaa': '03',\n",
       " 'cartodb_id': 7,\n",
       " 'created_at': '2014-09-30T00:00:00Z',\n",
       " 'updated_at': '2014-12-25T01:56:10Z'}"
      ]
     },
     "execution_count": 51,
     "metadata": {},
     "output_type": "execute_result"
    }
   ],
   "source": [
    "data[0][\"properties\"]"
   ]
  },
  {
   "cell_type": "code",
   "execution_count": 53,
   "id": "7a605d9b",
   "metadata": {},
   "outputs": [],
   "source": [
    "list_provincias = [d[\"properties\"][\"name\"] for d in data]"
   ]
  },
  {
   "cell_type": "code",
   "execution_count": 74,
   "id": "e5e566ef",
   "metadata": {},
   "outputs": [
    {
     "data": {
      "text/plain": [
       "['Illes Balears',\n",
       " 'Asturias',\n",
       " 'A Coruña',\n",
       " 'Girona',\n",
       " 'Las Palmas',\n",
       " 'Pontevedra',\n",
       " 'Santa Cruz De Tenerife',\n",
       " 'Cantabria',\n",
       " 'Málaga',\n",
       " 'Almería',\n",
       " 'Murcia',\n",
       " 'Albacete',\n",
       " 'Ávila',\n",
       " 'Araba/Álava',\n",
       " 'Badajoz',\n",
       " 'Alacant/Alicante',\n",
       " 'Ourense',\n",
       " 'Barcelona',\n",
       " 'Burgos',\n",
       " 'Cáceres',\n",
       " 'Cádiz',\n",
       " 'Castelló/Castellón',\n",
       " 'Ciudad Real',\n",
       " 'Jaén',\n",
       " 'Córdoba',\n",
       " 'Cuenca',\n",
       " 'Granada',\n",
       " 'Guadalajara',\n",
       " 'Gipuzkoa/Guipúzcoa',\n",
       " 'Huelva',\n",
       " 'Huesca',\n",
       " 'León',\n",
       " 'Lleida',\n",
       " 'La Rioja',\n",
       " 'Soria',\n",
       " 'Navarra',\n",
       " 'Ceuta',\n",
       " 'Lugo',\n",
       " 'Madrid',\n",
       " 'Palencia',\n",
       " 'Salamanca',\n",
       " 'Segovia',\n",
       " 'Sevilla',\n",
       " 'Toledo',\n",
       " 'Tarragona',\n",
       " 'Teruel',\n",
       " 'València/Valencia',\n",
       " 'Valladolid',\n",
       " 'Bizkaia/Vizcaya',\n",
       " 'Zamora',\n",
       " 'Zaragoza',\n",
       " 'Melilla']"
      ]
     },
     "execution_count": 74,
     "metadata": {},
     "output_type": "execute_result"
    }
   ],
   "source": [
    "list_provincias"
   ]
  },
  {
   "cell_type": "code",
   "execution_count": 86,
   "id": "7b38ef30",
   "metadata": {},
   "outputs": [
    {
     "data": {
      "text/plain": [
       "25"
      ]
     },
     "execution_count": 86,
     "metadata": {},
     "output_type": "execute_result"
    }
   ],
   "source": [
    "list_provincias.index(\"Cuenca\")"
   ]
  },
  {
   "cell_type": "code",
   "execution_count": 87,
   "id": "d1649369",
   "metadata": {},
   "outputs": [],
   "source": [
    "coordenadas = data[25][\"geometry\"][\"coordinates\"]"
   ]
  },
  {
   "cell_type": "code",
   "execution_count": 88,
   "id": "2d848af7",
   "metadata": {},
   "outputs": [
    {
     "data": {
      "text/plain": [
       "[[[[-2.152111, 40.657693],\n",
       "   [-2.091202, 40.646365],\n",
       "   [-2.035798, 40.601566],\n",
       "   [-1.985527, 40.585434],\n",
       "   [-1.965905, 40.59198],\n",
       "   [-1.964457, 40.611525],\n",
       "   [-1.923422, 40.59188],\n",
       "   [-1.909467, 40.541652],\n",
       "   [-1.882003, 40.518823],\n",
       "   [-1.853285, 40.423679],\n",
       "   [-1.836725, 40.427657],\n",
       "   [-1.811888, 40.400107],\n",
       "   [-1.777769, 40.391878],\n",
       "   [-1.697677, 40.321292],\n",
       "   [-1.72946, 40.302908],\n",
       "   [-1.719274, 40.277102],\n",
       "   [-1.690346, 40.30966],\n",
       "   [-1.540483, 40.190804],\n",
       "   [-1.510902, 40.203715],\n",
       "   [-1.474416, 40.185042],\n",
       "   [-1.439208, 40.197014],\n",
       "   [-1.456213, 40.130954],\n",
       "   [-1.407597, 40.101404],\n",
       "   [-1.420286, 40.093514],\n",
       "   [-1.37686, 40.016499],\n",
       "   [-1.249456, 39.995103],\n",
       "   [-1.165188, 40.010096],\n",
       "   [-1.142395, 39.971841],\n",
       "   [-1.208184, 39.943806],\n",
       "   [-1.200044, 39.858706],\n",
       "   [-1.215004, 39.808774],\n",
       "   [-1.275409, 39.738641],\n",
       "   [-1.261995, 39.698907],\n",
       "   [-1.307852, 39.670817],\n",
       "   [-1.368535, 39.689615],\n",
       "   [-1.417932, 39.654936],\n",
       "   [-1.461796, 39.576906],\n",
       "   [-1.520665, 39.549965],\n",
       "   [-1.502602, 39.545616],\n",
       "   [-1.499153, 39.50045],\n",
       "   [-1.512454, 39.496269],\n",
       "   [-1.513391, 39.458268],\n",
       "   [-1.528916, 39.4546],\n",
       "   [-1.52085, 39.431522],\n",
       "   [-1.49665, 39.42932],\n",
       "   [-1.505175, 39.417996],\n",
       "   [-1.739281, 39.32116],\n",
       "   [-1.769853, 39.280508],\n",
       "   [-1.887077, 39.30479],\n",
       "   [-1.989799, 39.29368],\n",
       "   [-2.028431, 39.336808],\n",
       "   [-2.020331, 39.351824],\n",
       "   [-2.095625, 39.359425],\n",
       "   [-2.050963, 39.266677],\n",
       "   [-2.168681, 39.281074],\n",
       "   [-2.288677, 39.226661],\n",
       "   [-2.321191, 39.283739],\n",
       "   [-2.34989, 39.278542],\n",
       "   [-2.374077, 39.232784],\n",
       "   [-2.511046, 39.342153],\n",
       "   [-2.548777, 39.323455],\n",
       "   [-2.619258, 39.340143],\n",
       "   [-2.634971, 39.326759],\n",
       "   [-2.742252, 39.318153],\n",
       "   [-2.776032, 39.394761],\n",
       "   [-2.793153, 39.39774],\n",
       "   [-2.83057, 39.355117],\n",
       "   [-2.882377, 39.350883],\n",
       "   [-2.896559, 39.366774],\n",
       "   [-2.870163, 39.391112],\n",
       "   [-2.932287, 39.453852],\n",
       "   [-2.925514, 39.601798],\n",
       "   [-2.908233, 39.642332],\n",
       "   [-2.997748, 39.718866],\n",
       "   [-3.076292, 39.855707],\n",
       "   [-3.127227, 39.874683],\n",
       "   [-3.097059, 39.933467],\n",
       "   [-3.096597, 39.98694],\n",
       "   [-3.142566, 39.984965],\n",
       "   [-3.165497, 40.028199],\n",
       "   [-3.161579, 40.064928],\n",
       "   [-3.11819, 40.061429],\n",
       "   [-3.060707, 40.090564],\n",
       "   [-3.056194, 40.113743],\n",
       "   [-3.097374, 40.154352],\n",
       "   [-3.063767, 40.168251],\n",
       "   [-3.015966, 40.152708],\n",
       "   [-3.021071, 40.187493],\n",
       "   [-3.005071, 40.209118],\n",
       "   [-2.911484, 40.157083],\n",
       "   [-2.873738, 40.173574],\n",
       "   [-2.863125, 40.200112],\n",
       "   [-2.821531, 40.205182],\n",
       "   [-2.802631, 40.264026],\n",
       "   [-2.816966, 40.364024],\n",
       "   [-2.779515, 40.44533],\n",
       "   [-2.76007, 40.441993],\n",
       "   [-2.760023, 40.412335],\n",
       "   [-2.7229, 40.397117],\n",
       "   [-2.717431, 40.419825],\n",
       "   [-2.685129, 40.398002],\n",
       "   [-2.70345, 40.425375],\n",
       "   [-2.673158, 40.448609],\n",
       "   [-2.663845, 40.436051],\n",
       "   [-2.586236, 40.450259],\n",
       "   [-2.515465, 40.424281],\n",
       "   [-2.504534, 40.448649],\n",
       "   [-2.544453, 40.474633],\n",
       "   [-2.528726, 40.498381],\n",
       "   [-2.546266, 40.518956],\n",
       "   [-2.527235, 40.544275],\n",
       "   [-2.49597, 40.50881],\n",
       "   [-2.426745, 40.540748],\n",
       "   [-2.411821, 40.525628],\n",
       "   [-2.380004, 40.543587],\n",
       "   [-2.417282, 40.583447],\n",
       "   [-2.399514, 40.613509],\n",
       "   [-2.359031, 40.596841],\n",
       "   [-2.343439, 40.569384],\n",
       "   [-2.29766, 40.572845],\n",
       "   [-2.286042, 40.592223],\n",
       "   [-2.294245, 40.624651],\n",
       "   [-2.274601, 40.644754],\n",
       "   [-2.213815, 40.619176],\n",
       "   [-2.169249, 40.630233],\n",
       "   [-2.152111, 40.657693]]]]"
      ]
     },
     "execution_count": 88,
     "metadata": {},
     "output_type": "execute_result"
    }
   ],
   "source": [
    "coordenadas"
   ]
  },
  {
   "cell_type": "code",
   "execution_count": 89,
   "id": "98a31e9a",
   "metadata": {},
   "outputs": [],
   "source": [
    "import numpy as np\n",
    "import matplotlib.pyplot as plt"
   ]
  },
  {
   "cell_type": "code",
   "execution_count": 90,
   "id": "bf248e0e",
   "metadata": {},
   "outputs": [],
   "source": [
    "coordenadas = np.array(coordenadas)"
   ]
  },
  {
   "cell_type": "code",
   "execution_count": 91,
   "id": "b00866ca",
   "metadata": {},
   "outputs": [
    {
     "data": {
      "text/plain": [
       "(1, 1, 126, 2)"
      ]
     },
     "execution_count": 91,
     "metadata": {},
     "output_type": "execute_result"
    }
   ],
   "source": [
    "coordenadas.shape"
   ]
  },
  {
   "cell_type": "code",
   "execution_count": 93,
   "id": "0c64610b",
   "metadata": {},
   "outputs": [],
   "source": [
    "x,y = coordenadas[0,0,:,0], coordenadas[0,0,:,1]"
   ]
  },
  {
   "cell_type": "code",
   "execution_count": 95,
   "id": "60d1567f",
   "metadata": {},
   "outputs": [
    {
     "data": {
      "text/plain": [
       "[<matplotlib.lines.Line2D at 0x119eb1a60>]"
      ]
     },
     "execution_count": 95,
     "metadata": {},
     "output_type": "execute_result"
    },
    {
     "data": {
      "image/png": "[encoded data removed]",
      "text/plain": [
       "<Figure size 432x288 with 1 Axes>"
      ]
     },
     "metadata": {
      "needs_background": "light"
     },
     "output_type": "display_data"
    }
   ],
   "source": [
    "plt.plot(x,y)"
   ]
  },
  {
   "cell_type": "code",
   "execution_count": 101,
   "id": "53ba7be7",
   "metadata": {},
   "outputs": [],
   "source": [
    "res = []\n",
    "for provincia in data:\n",
    "    q = {\n",
    "        \"location\":{\n",
    "            \"$geoWithin\":{\n",
    "                \"$geometry\":provincia[\"geometry\"]\n",
    "            }\n",
    "        }\n",
    "    }\n",
    "    try:\n",
    "        resultado = geo_companies.find(q)\n",
    "        res.append((provincia[\"properties\"][\"name\"], len(list(resultado))))\n",
    "    except:\n",
    "        res.append((provincia[\"properties\"][\"name\"], \"Error\"))"
   ]
  },
  {
   "cell_type": "code",
   "execution_count": 102,
   "id": "97556bb6",
   "metadata": {},
   "outputs": [
    {
     "data": {
      "text/plain": [
       "[('Illes Balears', 0),\n",
       " ('Asturias', 3),\n",
       " ('A Coruña', 4),\n",
       " ('Girona', 1),\n",
       " ('Las Palmas', 'Error'),\n",
       " ('Pontevedra', 1),\n",
       " ('Santa Cruz De Tenerife', 0),\n",
       " ('Cantabria', 1),\n",
       " ('Málaga', 4),\n",
       " ('Almería', 0),\n",
       " ('Murcia', 1),\n",
       " ('Albacete', 0),\n",
       " ('Ávila', 0),\n",
       " ('Araba/Álava', 0),\n",
       " ('Badajoz', 0),\n",
       " ('Alacant/Alicante', 2),\n",
       " ('Ourense', 0),\n",
       " ('Barcelona', 34),\n",
       " ('Burgos', 0),\n",
       " ('Cáceres', 0),\n",
       " ('Cádiz', 0),\n",
       " ('Castelló/Castellón', 0),\n",
       " ('Ciudad Real', 0),\n",
       " ('Jaén', 0),\n",
       " ('Córdoba', 1),\n",
       " ('Cuenca', 0),\n",
       " ('Granada', 0),\n",
       " ('Guadalajara', 0),\n",
       " ('Gipuzkoa/Guipúzcoa', 1),\n",
       " ('Huelva', 0),\n",
       " ('Huesca', 0),\n",
       " ('León', 0),\n",
       " ('Lleida', 0),\n",
       " ('La Rioja', 1),\n",
       " ('Soria', 0),\n",
       " ('Navarra', 0),\n",
       " ('Ceuta', 0),\n",
       " ('Lugo', 0),\n",
       " ('Madrid', 53),\n",
       " ('Palencia', 0),\n",
       " ('Salamanca', 0),\n",
       " ('Segovia', 0),\n",
       " ('Sevilla', 2),\n",
       " ('Toledo', 1),\n",
       " ('Tarragona', 0),\n",
       " ('Teruel', 1),\n",
       " ('València/Valencia', 5),\n",
       " ('Valladolid', 0),\n",
       " ('Bizkaia/Vizcaya', 1),\n",
       " ('Zamora', 0),\n",
       " ('Zaragoza', 3),\n",
       " ('Melilla', 0)]"
      ]
     },
     "execution_count": 102,
     "metadata": {},
     "output_type": "execute_result"
    }
   ],
   "source": [
    "res"
   ]
  },
  {
   "cell_type": "code",
   "execution_count": null,
   "id": "e120820d",
   "metadata": {},
   "outputs": [],
   "source": []
  }
 ],
 "metadata": {
  "kernelspec": {
   "display_name": "Python 3 (ipykernel)",
   "language": "python",
   "name": "python3"
  },
  "language_info": {
   "codemirror_mode": {
    "name": "ipython",
    "version": 3
   },
   "file_extension": ".py",
   "mimetype": "text/x-python",
   "name": "python",
   "nbconvert_exporter": "python",
   "pygments_lexer": "ipython3",
   "version": "3.9.7"
  },
  "toc": {
   "base_numbering": 1,
   "nav_menu": {},
   "number_sections": false,
   "sideBar": true,
   "skip_h1_title": true,
   "title_cell": "Table of Contents",
   "title_sidebar": "Contents",
   "toc_cell": true,
   "toc_position": {
    "height": "calc(100% - 180px)",
    "left": "10px",
    "top": "150px",
    "width": "261.818px"
   },
   "toc_section_display": true,
   "toc_window_display": false
  }
 },
 "nbformat": 4,
 "nbformat_minor": 5
}
