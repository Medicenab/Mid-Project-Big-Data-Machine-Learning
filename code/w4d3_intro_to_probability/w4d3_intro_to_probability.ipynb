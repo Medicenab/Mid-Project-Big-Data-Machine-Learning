{
 "cells": [
  {
   "cell_type": "markdown",
   "metadata": {},
   "source": [
    "![](https://api.brandy.run/core/core-logo-wide)\n",
    "\n",
    "\n",
    "\n",
    "En 1814, Pierre-Simon Laplace escribe:\n",
    "\n",
    "> Probability theory is nothing but common sense reduced to calculation. ... [Probability] is thus simply a fraction  \n",
    "> whose numerator is the number of favorable cases and whose denominator is the number of all the cases possible ... > > when nothing leads us to expect that any one of these cases should occur more than any other."
   ]
  },
  {
   "cell_type": "markdown",
   "metadata": {},
   "source": [
    "## Probabilidad: Vocabulario\n",
    "\n",
    "- **[Experimento aleatorio](https://es.wikipedia.org/wiki/Experimento_aleatorio)**: A single occurrence with an outcome that is uncertain until we observe it. For example, rolling a single die.\n",
    "\n",
    "\n",
    "- **[Resultado/Outcome](https://en.wikipedia.org/wiki/Outcome_(probability%29)**: El posible resultado de un experimento. Lo que Laplace llama \"case\". Por ejemplo: 4.\n",
    "\n",
    "\n",
    "- **[Espacio Muestral](https://es.wikipedia.org/wiki/Espacio_muestral)**: consiste en el conjunto de todos los posibles resultados de un experimento aleatorio, junto con una estructura sobre el mismo. Por ejemplo, {1, 2, 3, 4, 5, 6}.\n",
    "\n",
    "\n",
    "- **[Evento Aleatorio](https://es.wikipedia.org/wiki/Evento_aleatorio)**: Es un subconjunto de un espacio muestral, es decir, un conjunto de posibles resultados que se pueden dar en un posible pero muy lejano experimento aleatorio. Por ejemplo, el evento \"tirar un dado y que salga par\" es el conjunto de resultados {2, 4, 6}.\n",
    "\n",
    "\n",
    "\n",
    "- **[Probabilidad](https://es.wikipedia.org/wiki/Teor%C3%ADa_de_la_probabilidad)**: Como dijo Laplace, la probabilidad de un evento con respecto a un espacio muestral es el \"número de casos favorables\" (resultados del espacio muestral que están en el evento) dividido por el \"número de todos los casos\" en el espacio muestral ( asumiendo que \"nada nos lleva a esperar que cualquiera de estos casos ocurra más que cualquier otro\"). Dado que se trata de una fracción propiamente dicha, la probabilidad siempre será un número entre 0 (que representa un evento imposible) y 1 (que representa un cierto evento). **Por ejemplo, la probabilidad de tirar un dado y que salga par es 3/6 = 1/2.**\n",
    "\n",
    "\n",
    "## Probabilidad y análisis estadístico: Lanzar un dado\n",
    "\n",
    "`P` es probabilidad. El siguiente código implementa la cita de Laplace directamente: La probabilidad es, por lo tanto, simplemente una fracción cuyo numerador es el número de casos favorables y cuyo denominador es el número de todos los casos posibles."
   ]
  },
  {
   "cell_type": "code",
   "execution_count": 1,
   "metadata": {},
   "outputs": [],
   "source": [
    "from fractions import Fraction"
   ]
  },
  {
   "cell_type": "code",
   "execution_count": 2,
   "metadata": {},
   "outputs": [
    {
     "data": {
      "text/plain": [
       "0.16666666666666666"
      ]
     },
     "execution_count": 2,
     "metadata": {},
     "output_type": "execute_result"
    }
   ],
   "source": [
    "len({2})/len({1,2,3,4,5,6})"
   ]
  },
  {
   "cell_type": "code",
   "execution_count": 3,
   "metadata": {},
   "outputs": [
    {
     "data": {
      "text/plain": [
       "0.16666666666666666"
      ]
     },
     "execution_count": 3,
     "metadata": {},
     "output_type": "execute_result"
    }
   ],
   "source": [
    "1/6"
   ]
  },
  {
   "cell_type": "code",
   "execution_count": 4,
   "metadata": {},
   "outputs": [],
   "source": [
    "def P(evento, espacio_muestral):\n",
    "    return Fraction(casos(favorable(evento, espacio_muestral)), \n",
    "                     casos(espacio_muestral))\n",
    "\n",
    "favorable = set.intersection\n",
    "casos = len"
   ]
  },
  {
   "cell_type": "code",
   "execution_count": 5,
   "metadata": {},
   "outputs": [
    {
     "data": {
      "text/plain": [
       "Fraction(1, 3)"
      ]
     },
     "execution_count": 5,
     "metadata": {},
     "output_type": "execute_result"
    }
   ],
   "source": [
    "P({2,3},{1,2,3,4,5,6})"
   ]
  },
  {
   "cell_type": "code",
   "execution_count": 6,
   "metadata": {},
   "outputs": [
    {
     "data": {
      "text/plain": [
       "Fraction(0, 1)"
      ]
     },
     "execution_count": 6,
     "metadata": {},
     "output_type": "execute_result"
    }
   ],
   "source": [
    "P({7},{1,2,3,4,5,6})"
   ]
  },
  {
   "cell_type": "code",
   "execution_count": 7,
   "metadata": {},
   "outputs": [
    {
     "data": {
      "text/plain": [
       "Fraction(2, 3)"
      ]
     },
     "execution_count": 7,
     "metadata": {},
     "output_type": "execute_result"
    }
   ],
   "source": [
    "P({1,2,3,4}, {1,2,3,4,5,6})"
   ]
  },
  {
   "cell_type": "code",
   "execution_count": 8,
   "metadata": {},
   "outputs": [],
   "source": [
    "espacio_muestra = {1,2,3,4,5,6}"
   ]
  },
  {
   "cell_type": "code",
   "execution_count": 9,
   "metadata": {},
   "outputs": [],
   "source": [
    "six = {6}\n",
    "two = {2}"
   ]
  },
  {
   "cell_type": "code",
   "execution_count": 10,
   "metadata": {},
   "outputs": [
    {
     "data": {
      "text/plain": [
       "{2, 6}"
      ]
     },
     "execution_count": 10,
     "metadata": {},
     "output_type": "execute_result"
    }
   ],
   "source": [
    "six | two"
   ]
  },
  {
   "cell_type": "code",
   "execution_count": 11,
   "metadata": {},
   "outputs": [
    {
     "data": {
      "text/plain": [
       "0.16666666666666666"
      ]
     },
     "execution_count": 11,
     "metadata": {},
     "output_type": "execute_result"
    }
   ],
   "source": [
    "len(six & espacio_muestra)/len(espacio_muestra)"
   ]
  },
  {
   "cell_type": "markdown",
   "metadata": {},
   "source": [
    "Es bueno confirmar lo que ya sabíamos. Podemos explorar algunos otros eventos:"
   ]
  },
  {
   "cell_type": "code",
   "execution_count": 12,
   "metadata": {},
   "outputs": [],
   "source": [
    "primo = {2,3,5,7,11,13}\n",
    "impares = {1,3,5,7,9,11,13}"
   ]
  },
  {
   "cell_type": "code",
   "execution_count": 13,
   "metadata": {},
   "outputs": [
    {
     "data": {
      "text/plain": [
       "Fraction(1, 2)"
      ]
     },
     "execution_count": 13,
     "metadata": {},
     "output_type": "execute_result"
    }
   ],
   "source": [
    "P(primo, espacio_muestra)"
   ]
  },
  {
   "cell_type": "code",
   "execution_count": 14,
   "metadata": {},
   "outputs": [
    {
     "data": {
      "text/plain": [
       "Fraction(1, 2)"
      ]
     },
     "execution_count": 14,
     "metadata": {},
     "output_type": "execute_result"
    }
   ],
   "source": [
    "P(impares, espacio_muestra)"
   ]
  },
  {
   "cell_type": "code",
   "execution_count": 15,
   "metadata": {},
   "outputs": [
    {
     "data": {
      "text/plain": [
       "Fraction(1, 3)"
      ]
     },
     "execution_count": 15,
     "metadata": {},
     "output_type": "execute_result"
    }
   ],
   "source": [
    "P(primo&impares, espacio_muestra)"
   ]
  },
  {
   "cell_type": "code",
   "execution_count": 16,
   "metadata": {},
   "outputs": [
    {
     "data": {
      "text/plain": [
       "Fraction(1, 3)"
      ]
     },
     "execution_count": 16,
     "metadata": {},
     "output_type": "execute_result"
    }
   ],
   "source": [
    "P({3,5}, espacio_muestra)"
   ]
  },
  {
   "cell_type": "code",
   "execution_count": 17,
   "metadata": {},
   "outputs": [
    {
     "data": {
      "text/plain": [
       "Fraction(2, 3)"
      ]
     },
     "execution_count": 17,
     "metadata": {},
     "output_type": "execute_result"
    }
   ],
   "source": [
    "P(primo|impares, espacio_muestra)"
   ]
  },
  {
   "cell_type": "code",
   "execution_count": 18,
   "metadata": {},
   "outputs": [
    {
     "data": {
      "text/plain": [
       "Fraction(2, 3)"
      ]
     },
     "execution_count": 18,
     "metadata": {},
     "output_type": "execute_result"
    }
   ],
   "source": [
    "P({1,2,3,5},espacio_muestra)"
   ]
  },
  {
   "cell_type": "markdown",
   "metadata": {},
   "source": [
    "# Problemas con cartas\n",
    "\n",
    "Considera repartir una mano de cinco cartas. Una carta individual tiene un rango y un palo, como 'J ♥' para la Jota de Corazones, y una baraja tiene 52 cartas:"
   ]
  },
  {
   "cell_type": "code",
   "execution_count": 19,
   "metadata": {},
   "outputs": [],
   "source": [
    "suits = '♥♠♦♣'\n",
    "ranks = 'A23456789TJQK'"
   ]
  },
  {
   "cell_type": "code",
   "execution_count": 20,
   "metadata": {},
   "outputs": [],
   "source": [
    "baraja = [numero+palo for numero in ranks for palo in suits]"
   ]
  },
  {
   "cell_type": "code",
   "execution_count": 21,
   "metadata": {},
   "outputs": [
    {
     "data": {
      "text/plain": [
       "52"
      ]
     },
     "execution_count": 21,
     "metadata": {},
     "output_type": "execute_result"
    }
   ],
   "source": [
    "len(baraja)"
   ]
  },
  {
   "cell_type": "code",
   "execution_count": 22,
   "metadata": {},
   "outputs": [
    {
     "data": {
      "text/plain": [
       "['A♥',\n",
       " 'A♠',\n",
       " 'A♦',\n",
       " 'A♣',\n",
       " '2♥',\n",
       " '2♠',\n",
       " '2♦',\n",
       " '2♣',\n",
       " '3♥',\n",
       " '3♠',\n",
       " '3♦',\n",
       " '3♣',\n",
       " '4♥',\n",
       " '4♠',\n",
       " '4♦',\n",
       " '4♣',\n",
       " '5♥',\n",
       " '5♠',\n",
       " '5♦',\n",
       " '5♣',\n",
       " '6♥',\n",
       " '6♠',\n",
       " '6♦',\n",
       " '6♣',\n",
       " '7♥',\n",
       " '7♠',\n",
       " '7♦',\n",
       " '7♣',\n",
       " '8♥',\n",
       " '8♠',\n",
       " '8♦',\n",
       " '8♣',\n",
       " '9♥',\n",
       " '9♠',\n",
       " '9♦',\n",
       " '9♣',\n",
       " 'T♥',\n",
       " 'T♠',\n",
       " 'T♦',\n",
       " 'T♣',\n",
       " 'J♥',\n",
       " 'J♠',\n",
       " 'J♦',\n",
       " 'J♣',\n",
       " 'Q♥',\n",
       " 'Q♠',\n",
       " 'Q♦',\n",
       " 'Q♣',\n",
       " 'K♥',\n",
       " 'K♠',\n",
       " 'K♦',\n",
       " 'K♣']"
      ]
     },
     "execution_count": 22,
     "metadata": {},
     "output_type": "execute_result"
    }
   ],
   "source": [
    "baraja"
   ]
  },
  {
   "cell_type": "code",
   "execution_count": 23,
   "metadata": {},
   "outputs": [
    {
     "data": {
      "text/plain": [
       "Fraction(1, 13)"
      ]
     },
     "execution_count": 23,
     "metadata": {},
     "output_type": "execute_result"
    }
   ],
   "source": [
    "P({\"A♥\",\"A♣\",\"A♦\",\"A♠\"}, baraja)"
   ]
  },
  {
   "cell_type": "code",
   "execution_count": 24,
   "metadata": {},
   "outputs": [
    {
     "data": {
      "text/plain": [
       "0.07692307692307693"
      ]
     },
     "execution_count": 24,
     "metadata": {},
     "output_type": "execute_result"
    }
   ],
   "source": [
    "4/52"
   ]
  },
  {
   "cell_type": "code",
   "execution_count": 25,
   "metadata": {},
   "outputs": [
    {
     "data": {
      "text/plain": [
       "0.07692307692307693"
      ]
     },
     "execution_count": 25,
     "metadata": {},
     "output_type": "execute_result"
    }
   ],
   "source": [
    "1/13"
   ]
  },
  {
   "cell_type": "markdown",
   "metadata": {},
   "source": [
    "Ahora quiero definir Manos como el espacio muestral de todas las combinaciones de 5 cartas del mazo. La función itertools.combinations hace la mayor parte del trabajo; Luego concatenamos cada combinación en una cadena separada por espacios:"
   ]
  },
  {
   "cell_type": "code",
   "execution_count": 26,
   "metadata": {},
   "outputs": [],
   "source": [
    "from itertools import combinations"
   ]
  },
  {
   "cell_type": "code",
   "execution_count": 27,
   "metadata": {},
   "outputs": [],
   "source": [
    "def combinacion(baraja, n):\n",
    "    return set(map(\" \".join,combinations(baraja, n)))"
   ]
  },
  {
   "cell_type": "code",
   "execution_count": 28,
   "metadata": {},
   "outputs": [],
   "source": [
    "espacio_muestral_baraja = combinacion(baraja, 4)"
   ]
  },
  {
   "cell_type": "code",
   "execution_count": 29,
   "metadata": {},
   "outputs": [
    {
     "data": {
      "text/plain": [
       "270725"
      ]
     },
     "execution_count": 29,
     "metadata": {},
     "output_type": "execute_result"
    }
   ],
   "source": [
    "len(espacio_muestral_baraja)"
   ]
  },
  {
   "cell_type": "markdown",
   "metadata": {},
   "source": [
    "Hay demasiadas manos para mirarlas todas, pero podemos tomar una muestra aleatoria:"
   ]
  },
  {
   "cell_type": "code",
   "execution_count": 30,
   "metadata": {},
   "outputs": [],
   "source": [
    "import random"
   ]
  },
  {
   "cell_type": "code",
   "execution_count": 31,
   "metadata": {},
   "outputs": [
    {
     "name": "stderr",
     "output_type": "stream",
     "text": [
      "/var/folders/gd/w3m3w_td6cldhkn58qwx7mtm0000gn/T/ipykernel_5377/38829117.py:1: DeprecationWarning: Sampling from a set deprecated\n",
      "since Python 3.9 and will be removed in a subsequent version.\n",
      "  random.sample(espacio_muestral_baraja, 10)\n"
     ]
    },
    {
     "data": {
      "text/plain": [
       "['6♠ 8♠ 9♦ J♠',\n",
       " '2♥ 5♠ T♥ K♥',\n",
       " '8♠ T♠ J♠ Q♣',\n",
       " 'A♦ 9♠ Q♦ K♥',\n",
       " '3♥ 3♦ 9♠ K♦',\n",
       " 'A♠ 6♠ Q♣ K♥',\n",
       " '7♣ 9♣ J♦ K♦',\n",
       " '3♠ 5♣ T♠ T♣',\n",
       " 'A♥ 3♥ T♥ Q♠',\n",
       " 'A♣ 6♠ 9♣ Q♣']"
      ]
     },
     "execution_count": 31,
     "metadata": {},
     "output_type": "execute_result"
    }
   ],
   "source": [
    "random.sample(espacio_muestral_baraja, 10)"
   ]
  },
  {
   "cell_type": "code",
   "execution_count": 32,
   "metadata": {},
   "outputs": [],
   "source": [
    "ases = {\"A♥ 2♠ 3♦ 4♣\"}"
   ]
  },
  {
   "cell_type": "code",
   "execution_count": 33,
   "metadata": {},
   "outputs": [
    {
     "data": {
      "text/plain": [
       "Fraction(1, 270725)"
      ]
     },
     "execution_count": 33,
     "metadata": {},
     "output_type": "execute_result"
    }
   ],
   "source": [
    "P(ases, espacio_muestral_baraja)"
   ]
  },
  {
   "cell_type": "markdown",
   "metadata": {},
   "source": [
    "Para esta probabilidad, el orden de las cartas importa. El evento (`ases`) implica que estamos sacando primero el `A♥`, despues el `2♠`, el `3♦` y, por ultimo el `4♣`. Estas cartas en cualquier otro orden son consideradas otra mano totalmente distinta."
   ]
  },
  {
   "cell_type": "markdown",
   "metadata": {},
   "source": [
    "Ahora podemos responder preguntas como la probabilidad de que nos repartan color (5 cartas del mismo palo):"
   ]
  },
  {
   "cell_type": "code",
   "execution_count": 34,
   "metadata": {},
   "outputs": [],
   "source": [
    "same_pale = {mano for mano in espacio_muestral_baraja for palo in suits if mano.count(palo)==4}"
   ]
  },
  {
   "cell_type": "code",
   "execution_count": 35,
   "metadata": {},
   "outputs": [
    {
     "data": {
      "text/plain": [
       "2860"
      ]
     },
     "execution_count": 35,
     "metadata": {},
     "output_type": "execute_result"
    }
   ],
   "source": [
    "len(same_pale)"
   ]
  },
  {
   "cell_type": "code",
   "execution_count": 36,
   "metadata": {},
   "outputs": [
    {
     "data": {
      "text/plain": [
       "Fraction(44, 4165)"
      ]
     },
     "execution_count": 36,
     "metadata": {},
     "output_type": "execute_result"
    }
   ],
   "source": [
    "P(same_pale, espacio_muestral_baraja)"
   ]
  },
  {
   "cell_type": "markdown",
   "metadata": {},
   "source": [
    "O la probabilidad de cuatro iguales:"
   ]
  },
  {
   "cell_type": "code",
   "execution_count": 37,
   "metadata": {},
   "outputs": [],
   "source": [
    "same_number = {mano for mano in espacio_muestral_baraja for number in ranks if mano.count(number)==4}"
   ]
  },
  {
   "cell_type": "code",
   "execution_count": 38,
   "metadata": {},
   "outputs": [],
   "source": [
    "#same_number = {mano for mano in espacio_muestral_baraja if any(mano.count(number)==4 for number in ranks)}"
   ]
  },
  {
   "cell_type": "code",
   "execution_count": 39,
   "metadata": {},
   "outputs": [
    {
     "data": {
      "text/plain": [
       "13"
      ]
     },
     "execution_count": 39,
     "metadata": {},
     "output_type": "execute_result"
    }
   ],
   "source": [
    "len(same_number)"
   ]
  },
  {
   "cell_type": "code",
   "execution_count": 40,
   "metadata": {},
   "outputs": [
    {
     "data": {
      "text/plain": [
       "{'2♥ 2♠ 2♦ 2♣',\n",
       " '3♥ 3♠ 3♦ 3♣',\n",
       " '4♥ 4♠ 4♦ 4♣',\n",
       " '5♥ 5♠ 5♦ 5♣',\n",
       " '6♥ 6♠ 6♦ 6♣',\n",
       " '7♥ 7♠ 7♦ 7♣',\n",
       " '8♥ 8♠ 8♦ 8♣',\n",
       " '9♥ 9♠ 9♦ 9♣',\n",
       " 'A♥ A♠ A♦ A♣',\n",
       " 'J♥ J♠ J♦ J♣',\n",
       " 'K♥ K♠ K♦ K♣',\n",
       " 'Q♥ Q♠ Q♦ Q♣',\n",
       " 'T♥ T♠ T♦ T♣'}"
      ]
     },
     "execution_count": 40,
     "metadata": {},
     "output_type": "execute_result"
    }
   ],
   "source": [
    "same_number"
   ]
  },
  {
   "cell_type": "markdown",
   "metadata": {},
   "source": [
    "# Problemas con urnas\n",
    "\n",
    "Alrededor de 1700, Jacob Bernoulli escribió sobre la sacar bolas de colores de una urna en su tratado histórico Ars Conjectandi, y desde entonces, las explicaciones de la probabilidad se han basado en problemas de urna.\n",
    "\n",
    "\n",
    "Por ejemplo, aquí hay un problema de tres partes adaptado de mathforum.org:\n",
    "\n",
    "Una urna contiene 6 bolas azules, 9 rojas y 8 blancas. Seleccionamos seis bolas al azar. ¿Cuál es la probabilidad de cada uno de estos resultados?\n",
    "\n",
    "- Todas las bolas son rojas.\n",
    "- 3 son azules, 1 es rojo y 2 son blancos,.\n",
    "- Exactamente 4 bolas son blancas.\n",
    "\n",
    "Empezaremos definiendo el contenido de la urna. Un conjunto no puede contener varios objetos que sean iguales entre sí, así que llamaré a las bolas azules 'B1' a 'B6', en lugar de intentar tener 6 bolas, todas llamadas 'B':"
   ]
  },
  {
   "cell_type": "code",
   "execution_count": 41,
   "metadata": {},
   "outputs": [],
   "source": [
    "def balls(color, number):\n",
    "    return {color+str(n) for n in range(1,number+1)}"
   ]
  },
  {
   "cell_type": "code",
   "execution_count": 42,
   "metadata": {},
   "outputs": [
    {
     "data": {
      "text/plain": [
       "{'R1', 'R2', 'R3', 'R4', 'R5', 'R6'}"
      ]
     },
     "execution_count": 42,
     "metadata": {},
     "output_type": "execute_result"
    }
   ],
   "source": [
    "balls(\"R\",6)"
   ]
  },
  {
   "cell_type": "code",
   "execution_count": 43,
   "metadata": {},
   "outputs": [],
   "source": [
    "urna = balls(\"A\",6) | balls(\"R\",9) | balls(\"W\",8)"
   ]
  },
  {
   "cell_type": "code",
   "execution_count": 44,
   "metadata": {},
   "outputs": [
    {
     "data": {
      "text/plain": [
       "{'A1',\n",
       " 'A2',\n",
       " 'A3',\n",
       " 'A4',\n",
       " 'A5',\n",
       " 'A6',\n",
       " 'R1',\n",
       " 'R2',\n",
       " 'R3',\n",
       " 'R4',\n",
       " 'R5',\n",
       " 'R6',\n",
       " 'R7',\n",
       " 'R8',\n",
       " 'R9',\n",
       " 'W1',\n",
       " 'W2',\n",
       " 'W3',\n",
       " 'W4',\n",
       " 'W5',\n",
       " 'W6',\n",
       " 'W7',\n",
       " 'W8'}"
      ]
     },
     "execution_count": 44,
     "metadata": {},
     "output_type": "execute_result"
    }
   ],
   "source": [
    "urna"
   ]
  },
  {
   "cell_type": "code",
   "execution_count": 45,
   "metadata": {},
   "outputs": [
    {
     "data": {
      "text/plain": [
       "23"
      ]
     },
     "execution_count": 45,
     "metadata": {},
     "output_type": "execute_result"
    }
   ],
   "source": [
    "len(urna)"
   ]
  },
  {
   "cell_type": "markdown",
   "metadata": {},
   "source": [
    "Ahora podemos definir el espacio muestral, U6, como el conjunto de todas las combinaciones de 6 bolas:"
   ]
  },
  {
   "cell_type": "code",
   "execution_count": 46,
   "metadata": {},
   "outputs": [
    {
     "data": {
      "text/plain": [
       "100947"
      ]
     },
     "execution_count": 46,
     "metadata": {},
     "output_type": "execute_result"
    }
   ],
   "source": [
    "urna_comb_six = combinacion(urna, 6)\n",
    "len(urna_comb_six)"
   ]
  },
  {
   "cell_type": "code",
   "execution_count": 47,
   "metadata": {},
   "outputs": [
    {
     "name": "stderr",
     "output_type": "stream",
     "text": [
      "/var/folders/gd/w3m3w_td6cldhkn58qwx7mtm0000gn/T/ipykernel_5377/1821762125.py:1: DeprecationWarning: Sampling from a set deprecated\n",
      "since Python 3.9 and will be removed in a subsequent version.\n",
      "  random.sample(urna_comb_six,10)\n"
     ]
    },
    {
     "data": {
      "text/plain": [
       "['W8 R1 A1 R7 A3 A5',\n",
       " 'R2 R1 W5 A3 W1 W6',\n",
       " 'R9 A4 W3 R4 W5 R8',\n",
       " 'A4 R1 W6 R3 W7 A5',\n",
       " 'A4 R8 W6 W7 A6 A5',\n",
       " 'W8 A4 R2 R1 A1 W2',\n",
       " 'W3 R1 W4 R8 W2 A6',\n",
       " 'R5 W3 A1 R7 W4 R3',\n",
       " 'R5 A2 R8 A3 W6 R6',\n",
       " 'R5 A2 R8 W6 R3 W2']"
      ]
     },
     "execution_count": 47,
     "metadata": {},
     "output_type": "execute_result"
    }
   ],
   "source": [
    "random.sample(urna_comb_six,10)"
   ]
  },
  {
   "cell_type": "code",
   "execution_count": 48,
   "metadata": {},
   "outputs": [],
   "source": [
    "six_r = {bola for bola in urna_comb_six if bola.count(\"R\")==6}"
   ]
  },
  {
   "cell_type": "code",
   "execution_count": 49,
   "metadata": {},
   "outputs": [
    {
     "data": {
      "text/plain": [
       "84"
      ]
     },
     "execution_count": 49,
     "metadata": {},
     "output_type": "execute_result"
    }
   ],
   "source": [
    "len(six_r)"
   ]
  },
  {
   "cell_type": "code",
   "execution_count": 50,
   "metadata": {},
   "outputs": [],
   "source": [
    "def select(color, numero, espacio_muestral=urna_comb_six):\n",
    "    return {bola for bola in espacio_muestral if bola.count(color)==numero}"
   ]
  },
  {
   "cell_type": "code",
   "execution_count": 51,
   "metadata": {},
   "outputs": [
    {
     "data": {
      "text/plain": [
       "84"
      ]
     },
     "execution_count": 51,
     "metadata": {},
     "output_type": "execute_result"
    }
   ],
   "source": [
    "len(select(\"R\", 6))"
   ]
  },
  {
   "cell_type": "code",
   "execution_count": 52,
   "metadata": {},
   "outputs": [
    {
     "data": {
      "text/plain": [
       "Fraction(4, 4807)"
      ]
     },
     "execution_count": 52,
     "metadata": {},
     "output_type": "execute_result"
    }
   ],
   "source": [
    "# Todas las bolas son rojas\n",
    "six_r = select(\"R\", 6)\n",
    "P(six_r, urna_comb_six)"
   ]
  },
  {
   "cell_type": "code",
   "execution_count": 53,
   "metadata": {},
   "outputs": [],
   "source": [
    "# 3 son azules, 1 es roja y 2 son blancas\n",
    "three_A_one_R_two_W = select(\"A\",3) & select(\"R\",1) & select(\"W\",2)"
   ]
  },
  {
   "cell_type": "code",
   "execution_count": 54,
   "metadata": {},
   "outputs": [
    {
     "data": {
      "text/plain": [
       "5040"
      ]
     },
     "execution_count": 54,
     "metadata": {},
     "output_type": "execute_result"
    }
   ],
   "source": [
    "len(three_A_one_R_two_W)"
   ]
  },
  {
   "cell_type": "code",
   "execution_count": 55,
   "metadata": {},
   "outputs": [
    {
     "data": {
      "text/plain": [
       "Fraction(240, 4807)"
      ]
     },
     "execution_count": 55,
     "metadata": {},
     "output_type": "execute_result"
    }
   ],
   "source": [
    "P(three_A_one_R_two_W, urna_comb_six)"
   ]
  },
  {
   "cell_type": "code",
   "execution_count": 56,
   "metadata": {},
   "outputs": [
    {
     "data": {
      "text/plain": [
       "Fraction(350, 4807)"
      ]
     },
     "execution_count": 56,
     "metadata": {},
     "output_type": "execute_result"
    }
   ],
   "source": [
    "# Exactamente 4 bolas son blancas\n",
    "P(select(\"W\",4), urna_comb_six)"
   ]
  },
  {
   "cell_type": "markdown",
   "metadata": {},
   "source": [
    "## Problemas de urna usando aritmética"
   ]
  },
  {
   "cell_type": "markdown",
   "metadata": {},
   "source": [
    "Verifiquemos estos cálculos usando aritmética básica, en lugar de un conteo exhaustivo. Primero, ¿de cuántas formas puedo elegir 6 de 9 bolas rojas? Podría ser cualquiera de los 9 para la primera bola, cualquiera de los 8 restantes para la segunda, y así sucesivamente hasta cualquiera de los 4 restantes para la sexta y última bola. \n",
    "\n",
    "Pero no nos importa el orden de las seis bolas, así que divida ese producto por el número de permutaciones de 6 cosas, ¡que es 6 !, ¡dándonos 9 × 8 × 7 × 6 × 5 × 4/6! = 84. \n",
    "\n",
    "En general, el número de formas de elegir c de n elementos es:\n",
    "\n",
    "$$\n",
    "{C_n}^c = \\frac{n!}{(n-c)!c!}\n",
    "$$\n",
    "\n",
    "(n elige c) = n! / ((n - c)! × c!)\n",
    "\n",
    "Podemos traducir eso a código:"
   ]
  },
  {
   "cell_type": "code",
   "execution_count": 57,
   "metadata": {},
   "outputs": [],
   "source": [
    "from math import factorial"
   ]
  },
  {
   "cell_type": "code",
   "execution_count": 58,
   "metadata": {},
   "outputs": [],
   "source": [
    "def choose(n, c):\n",
    "    \"Número de casos de escoger `c` elementos de una lista de `n` elementos\"\n",
    "    return factorial(n) // (factorial(n-c) * factorial(c))"
   ]
  },
  {
   "cell_type": "markdown",
   "metadata": {},
   "source": [
    "Ahora podemos verificar las respuestas a los tres problemas. (Dado que P calcula una razón y Choose calcula un recuento, multiplico el lado izquierdo por N, la longitud del espacio muestral, para que ambos lados sean recuentos)."
   ]
  },
  {
   "cell_type": "code",
   "execution_count": 59,
   "metadata": {},
   "outputs": [
    {
     "data": {
      "text/plain": [
       "100947"
      ]
     },
     "execution_count": 59,
     "metadata": {},
     "output_type": "execute_result"
    }
   ],
   "source": [
    "# Escoger 6 bolas de la urna que contiene 9 bolas rojas, 8 blancas y 6 azules (espacio muestral)\n",
    "choose(9+8+6, 6)"
   ]
  },
  {
   "cell_type": "code",
   "execution_count": 60,
   "metadata": {},
   "outputs": [
    {
     "data": {
      "text/plain": [
       "Fraction(4, 4807)"
      ]
     },
     "execution_count": 60,
     "metadata": {},
     "output_type": "execute_result"
    }
   ],
   "source": [
    "# Coger 6 bolas rojas de las 9 que hay\n",
    "Fraction(choose(9, 6), choose(23,6))"
   ]
  },
  {
   "cell_type": "code",
   "execution_count": 61,
   "metadata": {},
   "outputs": [
    {
     "data": {
      "text/plain": [
       "Fraction(4, 4807)"
      ]
     },
     "execution_count": 61,
     "metadata": {},
     "output_type": "execute_result"
    }
   ],
   "source": [
    "P(select(\"R\",6), urna_comb_six)"
   ]
  },
  {
   "cell_type": "code",
   "execution_count": 62,
   "metadata": {},
   "outputs": [
    {
     "data": {
      "text/plain": [
       "Fraction(240, 4807)"
      ]
     },
     "execution_count": 62,
     "metadata": {},
     "output_type": "execute_result"
    }
   ],
   "source": [
    "# 3 son azules, 1 es roja y 2 son blancas\n",
    "Fraction((choose(6,3)*choose(9,1)*choose(8,2)),choose(23,6))"
   ]
  },
  {
   "cell_type": "code",
   "execution_count": 63,
   "metadata": {},
   "outputs": [
    {
     "data": {
      "text/plain": [
       "Fraction(240, 4807)"
      ]
     },
     "execution_count": 63,
     "metadata": {},
     "output_type": "execute_result"
    }
   ],
   "source": [
    "P(select(\"A\",3)&select(\"R\",1)&select(\"W\",2), urna_comb_six)"
   ]
  },
  {
   "cell_type": "code",
   "execution_count": 64,
   "metadata": {},
   "outputs": [
    {
     "data": {
      "text/plain": [
       "Fraction(350, 4807)"
      ]
     },
     "execution_count": 64,
     "metadata": {},
     "output_type": "execute_result"
    }
   ],
   "source": [
    "# Exactamente 4 bolas son blancas (debemos quitar de la urna las bolas blancas una vez hemos escogido 4)\n",
    "Fraction((choose(8,4)*choose(23-8,2)),choose(23,6))"
   ]
  },
  {
   "cell_type": "code",
   "execution_count": 65,
   "metadata": {},
   "outputs": [
    {
     "data": {
      "text/plain": [
       "Fraction(350, 4807)"
      ]
     },
     "execution_count": 65,
     "metadata": {},
     "output_type": "execute_result"
    }
   ],
   "source": [
    "P(select(\"W\",4),urna_comb_six)"
   ]
  },
  {
   "cell_type": "code",
   "execution_count": null,
   "metadata": {},
   "outputs": [],
   "source": []
  }
 ],
 "metadata": {
  "kernelspec": {
   "display_name": "Python 3 (ipykernel)",
   "language": "python",
   "name": "python3"
  },
  "language_info": {
   "codemirror_mode": {
    "name": "ipython",
    "version": 3
   },
   "file_extension": ".py",
   "mimetype": "text/x-python",
   "name": "python",
   "nbconvert_exporter": "python",
   "pygments_lexer": "ipython3",
   "version": "3.9.7"
  },
  "toc": {
   "base_numbering": 1,
   "nav_menu": {},
   "number_sections": false,
   "sideBar": true,
   "skip_h1_title": false,
   "title_cell": "Table of Contents",
   "title_sidebar": "Contents",
   "toc_cell": false,
   "toc_position": {
    "height": "calc(100% - 180px)",
    "left": "10px",
    "top": "150px",
    "width": "288px"
   },
   "toc_section_display": true,
   "toc_window_display": false
  }
 },
 "nbformat": 4,
 "nbformat_minor": 4
}
