{
 "cells": [
  {
   "cell_type": "markdown",
   "id": "79157b48",
   "metadata": {},
   "source": [
    "![](https://api.brandy.run/core/core-logo-wide)\n",
    "\n",
    "# Probability Distribution"
   ]
  },
  {
   "cell_type": "code",
   "execution_count": 1,
   "id": "ff807999",
   "metadata": {},
   "outputs": [],
   "source": [
    "from matplotlib import pyplot as plt\n",
    "import numpy as np"
   ]
  },
  {
   "cell_type": "markdown",
   "id": "a17a3df2",
   "metadata": {},
   "source": [
    "## 1 Discrete vs Continuous\n",
    "\n",
    "Cuando vamos estudiar la manera como se distribuye la probabilidad de una determinada variable aleatória y lo queremos ajustar a una determinada distribución, necesitamos saber si esa distribución será discreta o contínua.\n",
    "\n",
    "- Discreto\n",
    "\n",
    "Eventos aleatórios discretos son aquellos en que los posibles resultados de un experimento se representan por un numero `finito` de posibilidades en el espacio muestral. i.e.: No es posible que el resultado sea cualquiera, hay una cantidad limitada de posibilidades.\n",
    "\n",
    "Ejemplos: Resultado de tiradas de dados, monedas, cartas de baraja, colores, cantidad de personas, localidades, volumen de la tele, etc.\n",
    "\n",
    "- Contínuo\n",
    "\n",
    "Se dicen contínuos aquellos valores que pueden ocupar cualquer número real dentro de un intervalo. Esos valores siempre son numericos y tenemos una cantidad infinita de posibles valores en espacio muestral, pues todo un intervalo está contenido en el.\n",
    "\n",
    "Ejemplos: Temperatura, velocidad, potencia electrica, euros, etc."
   ]
  },
  {
   "cell_type": "markdown",
   "id": "264022bb",
   "metadata": {},
   "source": [
    "## 2 Discrete probability distributions\n",
    "\n",
    "Si una variable aleatória `X` es discreta, podemos decir que esa variable seguirá una distribución discreta de probabilidades, dentre las cuales habrá una série de distribuciones posibles.\n",
    "\n",
    "Para calcular las probabilidades en las diferentes distribuciones, usaremos una libreria de python dedicada a herramientas científicas, llamada [Scipy](https://docs.scipy.org/doc/scipy/reference/)."
   ]
  },
  {
   "cell_type": "markdown",
   "id": "4d68c55a",
   "metadata": {},
   "source": [
    "### 2.1 Bernoulli Distribution\n",
    "\n",
    "La distribución de [Bernoulli](https://en.wikipedia.org/wiki/Bernoulli_distribution) es una manera de representar un único experimento de un evento aleatório que solo posée 2 posibles resultados, e.g.: Una única tirada de una moneda.\n",
    "\n",
    "- Dos posibles resultados\n",
    "    - $\\text{espacio muestral} = \\Omega = \\{p,q\\} $\n",
    "    - $q = p'$\n",
    "    - $P(q) = 1 - P(p)$\n",
    "- Un único experimento\n",
    "\n",
    "\n",
    "\n",
    "#### Single coin toss"
   ]
  },
  {
   "cell_type": "code",
   "execution_count": 2,
   "id": "9f23adb2",
   "metadata": {},
   "outputs": [],
   "source": [
    "from scipy.stats import bernoulli\n",
    "# doc: https://docs.scipy.org/doc/scipy/reference/generated/scipy.stats.bernoulli.html"
   ]
  },
  {
   "cell_type": "code",
   "execution_count": 3,
   "id": "cd8c613a",
   "metadata": {},
   "outputs": [],
   "source": [
    "p_c = 0.5\n",
    "b = bernoulli.rvs(p_c, size=2)"
   ]
  },
  {
   "cell_type": "code",
   "execution_count": 4,
   "id": "3208e6dd",
   "metadata": {},
   "outputs": [
    {
     "data": {
      "text/plain": [
       "array([0, 1])"
      ]
     },
     "execution_count": 4,
     "metadata": {},
     "output_type": "execute_result"
    }
   ],
   "source": [
    "b"
   ]
  },
  {
   "cell_type": "code",
   "execution_count": 5,
   "id": "f717dd14",
   "metadata": {},
   "outputs": [
    {
     "data": {
      "text/plain": [
       "(array([1., 0., 0., 0., 0., 0., 0., 0., 0., 1.]),\n",
       " array([0. , 0.1, 0.2, 0.3, 0.4, 0.5, 0.6, 0.7, 0.8, 0.9, 1. ]),\n",
       " <BarContainer object of 10 artists>)"
      ]
     },
     "execution_count": 5,
     "metadata": {},
     "output_type": "execute_result"
    },
    {
     "data": {
      "image/png": "[encoded data removed]",
      "text/plain": [
       "<Figure size 432x288 with 1 Axes>"
      ]
     },
     "metadata": {
      "needs_background": "light"
     },
     "output_type": "display_data"
    }
   ],
   "source": [
    "plt.hist(b)"
   ]
  },
  {
   "cell_type": "code",
   "execution_count": 6,
   "id": "0a5d3601",
   "metadata": {},
   "outputs": [
    {
     "data": {
      "text/plain": [
       "[0.5, 0.5]"
      ]
     },
     "execution_count": 6,
     "metadata": {},
     "output_type": "execute_result"
    }
   ],
   "source": [
    "[list(b).count(i)/2 for i in [0,1]]"
   ]
  },
  {
   "cell_type": "markdown",
   "id": "db653534",
   "metadata": {},
   "source": [
    "#### Getting a 4 on a single die\n",
    "\n",
    "Consideramos p la probabilidad de obtener un 4, por lo tanto q será la proababilidade de `no` obtener un 4: \n",
    "$$\n",
    "\\begin{cases}\n",
    "p = \\frac{1}{6} \\\\\n",
    "q = \\frac{5}{6}\n",
    "\\end{cases}\n",
    "$$"
   ]
  },
  {
   "cell_type": "code",
   "execution_count": 7,
   "id": "b5c3b964",
   "metadata": {},
   "outputs": [],
   "source": [
    "p_4 = 1/6\n",
    "b = bernoulli.rvs(p_4, size=10_000)"
   ]
  },
  {
   "cell_type": "code",
   "execution_count": 8,
   "id": "85973561",
   "metadata": {},
   "outputs": [
    {
     "data": {
      "text/plain": [
       "array([0, 0, 0, 0, 0, 1, 0, 0, 0, 0, 0, 0, 1, 1, 0, 0, 0, 0, 0, 0, 1, 0,\n",
       "       0, 1, 0, 0, 0, 0, 0, 1, 0, 0, 0, 0, 0, 1, 0, 0, 1, 1, 0, 1, 0, 0,\n",
       "       0, 0, 0, 0, 0, 0, 1, 1, 0, 0, 0, 0, 0, 0, 1, 0, 0, 0, 0, 0, 0, 0,\n",
       "       0, 0, 0, 1, 0, 0, 0, 0, 0, 0, 1, 0, 0, 0, 0, 0, 1, 0, 0, 0, 0, 0,\n",
       "       0, 0, 0, 0, 0, 1, 0, 0, 0, 1, 0, 0])"
      ]
     },
     "execution_count": 8,
     "metadata": {},
     "output_type": "execute_result"
    }
   ],
   "source": [
    "b[:100]"
   ]
  },
  {
   "cell_type": "code",
   "execution_count": 9,
   "id": "ad28b6a0",
   "metadata": {},
   "outputs": [
    {
     "data": {
      "text/plain": [
       "(array([8342.,    0.,    0.,    0.,    0.,    0.,    0.,    0.,    0.,\n",
       "        1658.]),\n",
       " array([0. , 0.1, 0.2, 0.3, 0.4, 0.5, 0.6, 0.7, 0.8, 0.9, 1. ]),\n",
       " <BarContainer object of 10 artists>)"
      ]
     },
     "execution_count": 9,
     "metadata": {},
     "output_type": "execute_result"
    },
    {
     "data": {
      "image/png": "[encoded data removed]",
      "text/plain": [
       "<Figure size 432x288 with 1 Axes>"
      ]
     },
     "metadata": {
      "needs_background": "light"
     },
     "output_type": "display_data"
    }
   ],
   "source": [
    "plt.hist(b)"
   ]
  },
  {
   "cell_type": "markdown",
   "id": "738edede",
   "metadata": {},
   "source": [
    "### 2.2 Binomial Distribution\n",
    "\n",
    "La [distribución binomial](https://en.wikipedia.org/wiki/Binomial_distribution) es lo que obtenemos si repetimos el experimento de la distribución de Bernoulli `n` veces y consideramos solo los exitos.\n",
    "\n",
    "- Experimento $X$ tiene 2 posibles resultados\n",
    "- Probabilidad de `k` exitos en `n` experimentos.\n",
    "\n",
    "\n",
    "$P(X=k) = {n\\choose k}p^k(1-p)^{n-k}$\n",
    "\n",
    "#### Getting heads in 10 coin tosses"
   ]
  },
  {
   "cell_type": "code",
   "execution_count": 10,
   "id": "bb062b59",
   "metadata": {},
   "outputs": [],
   "source": [
    "from scipy.stats import binom\n",
    "# doc: https://docs.scipy.org/doc/scipy/reference/generated/scipy.stats.binom.html"
   ]
  },
  {
   "cell_type": "code",
   "execution_count": 11,
   "id": "f20d7a06",
   "metadata": {},
   "outputs": [],
   "source": [
    "n = 10\n",
    "p = 0.5\n",
    "b = binom.rvs(n, p, size=10_000)"
   ]
  },
  {
   "cell_type": "code",
   "execution_count": 12,
   "id": "039f62f3",
   "metadata": {},
   "outputs": [
    {
     "data": {
      "text/plain": [
       "array([ 4,  6,  1,  2,  4,  7,  6,  6,  5,  6,  4,  7,  3,  7,  6,  4,  5,\n",
       "       10,  3,  7,  3,  4,  7,  4,  5,  5,  4,  7,  5,  4,  4,  3,  7,  6,\n",
       "        6,  4,  4,  5,  5,  2,  6,  5,  6,  5,  4,  4,  2,  4,  6,  7,  4,\n",
       "        7,  5,  2,  5,  6,  4,  5,  4,  4,  5,  6,  5,  6,  6,  4,  5,  5,\n",
       "        5,  5,  6,  6,  6,  5,  6,  5,  4,  5,  8,  4,  7,  2,  4,  5,  6,\n",
       "        3,  6,  5,  8,  5,  5,  4,  4,  4,  5,  5,  9,  4,  4,  5])"
      ]
     },
     "execution_count": 12,
     "metadata": {},
     "output_type": "execute_result"
    }
   ],
   "source": [
    "b[:100]"
   ]
  },
  {
   "cell_type": "code",
   "execution_count": 13,
   "id": "6df36b83",
   "metadata": {},
   "outputs": [
    {
     "data": {
      "text/plain": [
       "(array([  12.,   94.,  457., 1181., 1984., 2505., 2064., 1145.,  445.,\n",
       "         113.]),\n",
       " array([ 0.,  1.,  2.,  3.,  4.,  5.,  6.,  7.,  8.,  9., 10.]),\n",
       " <BarContainer object of 10 artists>)"
      ]
     },
     "execution_count": 13,
     "metadata": {},
     "output_type": "execute_result"
    },
    {
     "data": {
      "image/png": "[encoded data removed]",
      "text/plain": [
       "<Figure size 432x288 with 1 Axes>"
      ]
     },
     "metadata": {
      "needs_background": "light"
     },
     "output_type": "display_data"
    }
   ],
   "source": [
    "plt.hist(b)"
   ]
  },
  {
   "cell_type": "code",
   "execution_count": 14,
   "id": "ed12ecd0",
   "metadata": {},
   "outputs": [
    {
     "data": {
      "text/plain": [
       "['[0] 0.0012',\n",
       " '[1] 0.0094',\n",
       " '[2] 0.0457',\n",
       " '[3] 0.1181',\n",
       " '[4] 0.1984',\n",
       " '[5] 0.2505',\n",
       " '[6] 0.2064',\n",
       " '[7] 0.1145',\n",
       " '[8] 0.0445',\n",
       " '[9] 0.0104',\n",
       " '[10] 0.0009']"
      ]
     },
     "execution_count": 14,
     "metadata": {},
     "output_type": "execute_result"
    }
   ],
   "source": [
    "[f\"[{i}] {list(b).count(i)/10_000}\" for i in range(0,11)]"
   ]
  },
  {
   "cell_type": "markdown",
   "id": "70bfca47",
   "metadata": {},
   "source": [
    "### 2.3 Probability Mass Function\n",
    "\n",
    "La [PMF](https://en.wikipedia.org/wiki/Probability_mass_function) es la función que describe la probabilidad de que una determinada variable discreta sea exactamente de un valor. \n",
    "\n",
    "En ese caso, la probabilidad de que el numero de caras sea exactamente 4 o 5 o 6.\n",
    "\n",
    "#### Exactly 5 heads in 10 tosses"
   ]
  },
  {
   "cell_type": "code",
   "execution_count": 15,
   "id": "252e0916",
   "metadata": {},
   "outputs": [],
   "source": [
    "k = 5\n",
    "n = 10\n",
    "p = .5"
   ]
  },
  {
   "cell_type": "code",
   "execution_count": 16,
   "id": "b76ae57d",
   "metadata": {},
   "outputs": [],
   "source": [
    "pmf = binom.pmf(k,n,p)"
   ]
  },
  {
   "cell_type": "code",
   "execution_count": 17,
   "id": "7c58d0d0",
   "metadata": {},
   "outputs": [
    {
     "data": {
      "text/plain": [
       "24.609375000000004"
      ]
     },
     "execution_count": 17,
     "metadata": {},
     "output_type": "execute_result"
    }
   ],
   "source": [
    "pmf*100"
   ]
  },
  {
   "cell_type": "code",
   "execution_count": 18,
   "id": "3f13521a",
   "metadata": {},
   "outputs": [
    {
     "data": {
      "text/plain": [
       "[1, 2, 3, 4, 1, 2, 3, 4, 1, 2, 3, 4, 1, 2, 3, 4, 1, 2, 3, 4]"
      ]
     },
     "execution_count": 18,
     "metadata": {},
     "output_type": "execute_result"
    }
   ],
   "source": [
    "[1,2,3,4]*5"
   ]
  },
  {
   "cell_type": "code",
   "execution_count": 19,
   "id": "a0a110c9",
   "metadata": {},
   "outputs": [
    {
     "data": {
      "text/plain": [
       "array([ 5, 10, 15, 20])"
      ]
     },
     "execution_count": 19,
     "metadata": {},
     "output_type": "execute_result"
    }
   ],
   "source": [
    "np.array([1,2,3,4])*5"
   ]
  },
  {
   "cell_type": "code",
   "execution_count": 20,
   "id": "fbb41aed",
   "metadata": {},
   "outputs": [
    {
     "data": {
      "text/plain": [
       "array([ 0,  1,  2,  3,  4,  5,  6,  7,  8,  9, 10])"
      ]
     },
     "execution_count": 20,
     "metadata": {},
     "output_type": "execute_result"
    }
   ],
   "source": [
    "np.arange(11)"
   ]
  },
  {
   "cell_type": "code",
   "execution_count": 21,
   "id": "3aa39fdf",
   "metadata": {},
   "outputs": [
    {
     "ename": "TypeError",
     "evalue": "unsupported operand type(s) for *: 'range' and 'int'",
     "output_type": "error",
     "traceback": [
      "\u001b[0;31m---------------------------------------------------------------------------\u001b[0m",
      "\u001b[0;31mTypeError\u001b[0m                                 Traceback (most recent call last)",
      "\u001b[0;32m/var/folders/gd/w3m3w_td6cldhkn58qwx7mtm0000gn/T/ipykernel_6451/1383458831.py\u001b[0m in \u001b[0;36m<module>\u001b[0;34m\u001b[0m\n\u001b[0;32m----> 1\u001b[0;31m \u001b[0mrange\u001b[0m\u001b[0;34m(\u001b[0m\u001b[0;36m10\u001b[0m\u001b[0;34m)\u001b[0m\u001b[0;34m*\u001b[0m\u001b[0;36m5\u001b[0m\u001b[0;34m\u001b[0m\u001b[0;34m\u001b[0m\u001b[0m\n\u001b[0m",
      "\u001b[0;31mTypeError\u001b[0m: unsupported operand type(s) for *: 'range' and 'int'"
     ]
    }
   ],
   "source": [
    "range(10)*5"
   ]
  },
  {
   "cell_type": "code",
   "execution_count": 22,
   "id": "7ea1fd46",
   "metadata": {},
   "outputs": [],
   "source": [
    "k = np.arange(0,11)\n",
    "n = 10\n",
    "p = .5"
   ]
  },
  {
   "cell_type": "code",
   "execution_count": 23,
   "id": "cb10b5b7",
   "metadata": {},
   "outputs": [],
   "source": [
    "pmf = binom.pmf(k,n,p)"
   ]
  },
  {
   "cell_type": "code",
   "execution_count": 24,
   "id": "365588fa",
   "metadata": {},
   "outputs": [
    {
     "data": {
      "text/plain": [
       "array([0.00097656, 0.00976563, 0.04394531, 0.1171875 , 0.20507812,\n",
       "       0.24609375, 0.20507812, 0.1171875 , 0.04394531, 0.00976563,\n",
       "       0.00097656])"
      ]
     },
     "execution_count": 24,
     "metadata": {},
     "output_type": "execute_result"
    }
   ],
   "source": [
    "pmf"
   ]
  },
  {
   "cell_type": "code",
   "execution_count": 25,
   "id": "1bec12e1",
   "metadata": {},
   "outputs": [
    {
     "data": {
      "text/plain": [
       "<BarContainer object of 11 artists>"
      ]
     },
     "execution_count": 25,
     "metadata": {},
     "output_type": "execute_result"
    },
    {
     "data": {
      "image/png": "[encoded data removed]",
      "text/plain": [
       "<Figure size 432x288 with 1 Axes>"
      ]
     },
     "metadata": {
      "needs_background": "light"
     },
     "output_type": "display_data"
    }
   ],
   "source": [
    "plt.bar(range(11),pmf)"
   ]
  },
  {
   "cell_type": "markdown",
   "id": "1a822d96",
   "metadata": {},
   "source": [
    "### 2.4 Cummulative Distribution Function\n",
    "\n",
    "Mientras la PMF nos da la probabilidade de que la variable sea exactamente de un valor, la [CDF](https://en.wikipedia.org/wiki/Cumulative_distribution_function) describe cumulativamente la probabilidade de entre 0 y k exitos. e.g.: Hasta k (5, 6, 7, etc) caras en 10 tiradas de moneda.\n",
    "\n",
    "#### CDF of heads in 10 coin tosses"
   ]
  },
  {
   "cell_type": "code",
   "execution_count": 26,
   "id": "4c7ba1d8",
   "metadata": {},
   "outputs": [],
   "source": [
    "k = 5\n",
    "n = 10\n",
    "p = .5"
   ]
  },
  {
   "cell_type": "code",
   "execution_count": 27,
   "id": "61b23f8a",
   "metadata": {},
   "outputs": [],
   "source": [
    "cdf = binom.cdf(k, n, p)"
   ]
  },
  {
   "cell_type": "code",
   "execution_count": 28,
   "id": "dd32b30a",
   "metadata": {},
   "outputs": [
    {
     "data": {
      "text/plain": [
       "0.623046875"
      ]
     },
     "execution_count": 28,
     "metadata": {},
     "output_type": "execute_result"
    }
   ],
   "source": [
    "cdf"
   ]
  },
  {
   "cell_type": "code",
   "execution_count": 29,
   "id": "4ecb7708",
   "metadata": {},
   "outputs": [],
   "source": [
    "k = np.arange(11)\n",
    "n = 10\n",
    "p = .5"
   ]
  },
  {
   "cell_type": "code",
   "execution_count": 30,
   "id": "603de402",
   "metadata": {},
   "outputs": [],
   "source": [
    "b = binom.cdf(k,n,p)"
   ]
  },
  {
   "cell_type": "code",
   "execution_count": 31,
   "id": "7849ee38",
   "metadata": {},
   "outputs": [
    {
     "data": {
      "text/plain": [
       "array([9.76562500e-04, 1.07421875e-02, 5.46875000e-02, 1.71875000e-01,\n",
       "       3.76953125e-01, 6.23046875e-01, 8.28125000e-01, 9.45312500e-01,\n",
       "       9.89257812e-01, 9.99023438e-01, 1.00000000e+00])"
      ]
     },
     "execution_count": 31,
     "metadata": {},
     "output_type": "execute_result"
    }
   ],
   "source": [
    "b"
   ]
  },
  {
   "cell_type": "code",
   "execution_count": 32,
   "id": "f03aafba",
   "metadata": {},
   "outputs": [
    {
     "data": {
      "text/plain": [
       "<BarContainer object of 11 artists>"
      ]
     },
     "execution_count": 32,
     "metadata": {},
     "output_type": "execute_result"
    },
    {
     "data": {
      "image/png": "[encoded data removed]",
      "text/plain": [
       "<Figure size 432x288 with 1 Axes>"
      ]
     },
     "metadata": {
      "needs_background": "light"
     },
     "output_type": "display_data"
    }
   ],
   "source": [
    "plt.bar(range(11), b)"
   ]
  },
  {
   "cell_type": "markdown",
   "id": "5064e605",
   "metadata": {},
   "source": [
    "La CDF siempre tende al valor 1, pues se suman las probabilidades de todos los posibles resultados."
   ]
  },
  {
   "cell_type": "markdown",
   "id": "479baa57",
   "metadata": {},
   "source": [
    "### 2.5 Poisson distribution\n",
    "\n",
    "La [distribución de Poisson](https://en.wikipedia.org/wiki/Poisson_distribution) describe la probabilidad de cuantas veces un evento puede ocurrir en un determinado intervalo de tiempo o espacio, e.g.: ¿cuantos peces se pescan en un año?, cantidad de acidentes de coche en una semana, ¿cuantos rayos cayen en una determinada zona en un año?, etc.\n",
    "\n",
    "Se calcula la distribución de Poisson en función de un parámetro $\\lambda$, la media teórica de ocurrencias de ese evento.\n",
    "\n",
    "#### Car crashes in Madrid in a year"
   ]
  },
  {
   "cell_type": "code",
   "execution_count": 33,
   "id": "956fcd81",
   "metadata": {},
   "outputs": [],
   "source": [
    "from scipy.stats import poisson\n",
    "# doc: https://docs.scipy.org/doc/scipy/reference/generated/scipy.stats.poisson.html"
   ]
  },
  {
   "cell_type": "code",
   "execution_count": 34,
   "id": "9825c782",
   "metadata": {},
   "outputs": [
    {
     "data": {
      "text/plain": [
       "2.758904109589041"
      ]
     },
     "execution_count": 34,
     "metadata": {},
     "output_type": "execute_result"
    }
   ],
   "source": [
    "# 1007 fatal accidents in 2019\n",
    "media = 1007/365\n",
    "media"
   ]
  },
  {
   "cell_type": "code",
   "execution_count": 35,
   "id": "d2e5202b",
   "metadata": {},
   "outputs": [
    {
     "data": {
      "text/plain": [
       "0.2411384059290738"
      ]
     },
     "execution_count": 35,
     "metadata": {},
     "output_type": "execute_result"
    }
   ],
   "source": [
    "poiss = poisson.pmf(2, media)\n",
    "poiss"
   ]
  },
  {
   "cell_type": "code",
   "execution_count": 36,
   "id": "03e76844",
   "metadata": {},
   "outputs": [],
   "source": [
    "k = np.arange(0,15)\n",
    "poiss = poisson.pmf(k, media)"
   ]
  },
  {
   "cell_type": "code",
   "execution_count": 37,
   "id": "27637de2",
   "metadata": {},
   "outputs": [
    {
     "data": {
      "text/plain": [
       "array([6.33611672e-02, 1.74807385e-01, 2.41138406e-01, 2.21759246e-01,\n",
       "       1.52953124e-01, 8.43966005e-02, 3.88070213e-02, 1.52949787e-02,\n",
       "       5.27467243e-03, 1.61692394e-03, 4.46093810e-04, 1.11884550e-04,\n",
       "       2.57232287e-05, 5.45907086e-06, 1.07578950e-06])"
      ]
     },
     "execution_count": 37,
     "metadata": {},
     "output_type": "execute_result"
    }
   ],
   "source": [
    "poiss"
   ]
  },
  {
   "cell_type": "code",
   "execution_count": 38,
   "id": "538fd85b",
   "metadata": {},
   "outputs": [
    {
     "data": {
      "text/plain": [
       "<BarContainer object of 15 artists>"
      ]
     },
     "execution_count": 38,
     "metadata": {},
     "output_type": "execute_result"
    },
    {
     "data": {
      "image/png": "[encoded data removed]",
      "text/plain": [
       "<Figure size 432x288 with 1 Axes>"
      ]
     },
     "metadata": {
      "needs_background": "light"
     },
     "output_type": "display_data"
    }
   ],
   "source": [
    "plt.bar(range(0,15), poiss)"
   ]
  },
  {
   "cell_type": "code",
   "execution_count": 39,
   "id": "f3f20e85",
   "metadata": {},
   "outputs": [
    {
     "data": {
      "text/plain": [
       "<BarContainer object of 15 artists>"
      ]
     },
     "execution_count": 39,
     "metadata": {},
     "output_type": "execute_result"
    },
    {
     "data": {
      "image/png": "[encoded data removed]",
      "text/plain": [
       "<Figure size 432x288 with 1 Axes>"
      ]
     },
     "metadata": {
      "needs_background": "light"
     },
     "output_type": "display_data"
    }
   ],
   "source": [
    "cdf = poisson.cdf(k, media)\n",
    "plt.bar(range(15), cdf)"
   ]
  },
  {
   "cell_type": "code",
   "execution_count": 40,
   "id": "f131c696",
   "metadata": {},
   "outputs": [
    {
     "data": {
      "text/plain": [
       "1.0"
      ]
     },
     "execution_count": 40,
     "metadata": {},
     "output_type": "execute_result"
    }
   ],
   "source": [
    "poisson.cdf(np.inf, media)"
   ]
  },
  {
   "cell_type": "markdown",
   "id": "948e6f71",
   "metadata": {},
   "source": [
    "## 3 Continuous probability distribution\n",
    "\n",
    "En las distribuciones continuas, en lugar de PMF (Probability Mass Function), utilizamos [PDF(Probability Density Function)](https://en.wikipedia.org/wiki/Probability_density_function)"
   ]
  },
  {
   "cell_type": "markdown",
   "id": "ad5b69ca",
   "metadata": {},
   "source": [
    "### 3.1 Uniform distribution\n",
    "\n",
    "Una [distribución uniforme](https://en.wikipedia.org/wiki/Continuous_uniform_distribution) describe una probabilidad uniforme para cualquier valor en el intervalo \\[a,b\\]."
   ]
  },
  {
   "cell_type": "code",
   "execution_count": 41,
   "id": "1da03302",
   "metadata": {},
   "outputs": [],
   "source": [
    "from scipy.stats import uniform\n",
    "# doc: https://docs.scipy.org/doc/scipy/reference/generated/scipy.stats.uniform.html"
   ]
  },
  {
   "cell_type": "code",
   "execution_count": 42,
   "id": "9311e8bc",
   "metadata": {},
   "outputs": [],
   "source": [
    "datos = np.linspace(0,20, 10_00)\n",
    "inicio = 5\n",
    "final = 14\n",
    "uniforme = uniform.pdf(datos, inicio, final-inicio)"
   ]
  },
  {
   "cell_type": "code",
   "execution_count": 43,
   "id": "d0009df2",
   "metadata": {},
   "outputs": [
    {
     "data": {
      "text/plain": [
       "array([0.        , 0.02002002, 0.04004004, 0.06006006, 0.08008008,\n",
       "       0.1001001 , 0.12012012, 0.14014014, 0.16016016, 0.18018018,\n",
       "       0.2002002 , 0.22022022, 0.24024024, 0.26026026, 0.28028028,\n",
       "       0.3003003 , 0.32032032, 0.34034034, 0.36036036, 0.38038038,\n",
       "       0.4004004 , 0.42042042, 0.44044044, 0.46046046, 0.48048048,\n",
       "       0.5005005 , 0.52052052, 0.54054054, 0.56056056, 0.58058058,\n",
       "       0.6006006 , 0.62062062, 0.64064064, 0.66066066, 0.68068068,\n",
       "       0.7007007 , 0.72072072, 0.74074074, 0.76076076, 0.78078078,\n",
       "       0.8008008 , 0.82082082, 0.84084084, 0.86086086, 0.88088088,\n",
       "       0.9009009 , 0.92092092, 0.94094094, 0.96096096, 0.98098098,\n",
       "       1.001001  , 1.02102102, 1.04104104, 1.06106106, 1.08108108,\n",
       "       1.1011011 , 1.12112112, 1.14114114, 1.16116116, 1.18118118,\n",
       "       1.2012012 , 1.22122122, 1.24124124, 1.26126126, 1.28128128,\n",
       "       1.3013013 , 1.32132132, 1.34134134, 1.36136136, 1.38138138,\n",
       "       1.4014014 , 1.42142142, 1.44144144, 1.46146146, 1.48148148,\n",
       "       1.5015015 , 1.52152152, 1.54154154, 1.56156156, 1.58158158,\n",
       "       1.6016016 , 1.62162162, 1.64164164, 1.66166166, 1.68168168,\n",
       "       1.7017017 , 1.72172172, 1.74174174, 1.76176176, 1.78178178,\n",
       "       1.8018018 , 1.82182182, 1.84184184, 1.86186186, 1.88188188,\n",
       "       1.9019019 , 1.92192192, 1.94194194, 1.96196196, 1.98198198])"
      ]
     },
     "execution_count": 43,
     "metadata": {},
     "output_type": "execute_result"
    }
   ],
   "source": [
    "datos[:100]"
   ]
  },
  {
   "cell_type": "code",
   "execution_count": 44,
   "id": "f3fc4ccd",
   "metadata": {},
   "outputs": [
    {
     "data": {
      "text/plain": [
       "array([0., 0., 0., 0., 0., 0., 0., 0., 0., 0., 0., 0., 0., 0., 0., 0., 0.,\n",
       "       0., 0., 0., 0., 0., 0., 0., 0., 0., 0., 0., 0., 0., 0., 0., 0., 0.,\n",
       "       0., 0., 0., 0., 0., 0., 0., 0., 0., 0., 0., 0., 0., 0., 0., 0., 0.,\n",
       "       0., 0., 0., 0., 0., 0., 0., 0., 0., 0., 0., 0., 0., 0., 0., 0., 0.,\n",
       "       0., 0., 0., 0., 0., 0., 0., 0., 0., 0., 0., 0., 0., 0., 0., 0., 0.,\n",
       "       0., 0., 0., 0., 0., 0., 0., 0., 0., 0., 0., 0., 0., 0., 0.])"
      ]
     },
     "execution_count": 44,
     "metadata": {},
     "output_type": "execute_result"
    }
   ],
   "source": [
    "uniforme[:100]"
   ]
  },
  {
   "cell_type": "code",
   "execution_count": 45,
   "id": "60b1bb5b",
   "metadata": {},
   "outputs": [
    {
     "data": {
      "text/plain": [
       "<BarContainer object of 1000 artists>"
      ]
     },
     "execution_count": 45,
     "metadata": {},
     "output_type": "execute_result"
    },
    {
     "data": {
      "image/png": "[encoded data removed]",
      "text/plain": [
       "<Figure size 432x288 with 1 Axes>"
      ]
     },
     "metadata": {
      "needs_background": "light"
     },
     "output_type": "display_data"
    }
   ],
   "source": [
    "plt.bar(datos, uniforme)"
   ]
  },
  {
   "cell_type": "markdown",
   "id": "eaa41fb7",
   "metadata": {},
   "source": [
    "### 3.2 Exponential distribution\n",
    "\n",
    "La [distribución exponencial](https://en.wikipedia.org/wiki/Exponential_distribution) se usa para modelar la probabilidad de el tiempo para la ocurrencia de un evento. Por ejemplo, cuantos segundos para un primer gol en un partido, cuanto tiempo de espera en una cola, etc."
   ]
  },
  {
   "cell_type": "code",
   "execution_count": 46,
   "id": "9d9bb83e",
   "metadata": {},
   "outputs": [],
   "source": [
    "from scipy.stats import expon\n",
    "# doc: https://docs.scipy.org/doc/scipy/reference/generated/scipy.stats.expon.html"
   ]
  },
  {
   "cell_type": "code",
   "execution_count": 47,
   "id": "547295c2",
   "metadata": {},
   "outputs": [],
   "source": [
    "from math import pi\n",
    "datos = np.linspace(0,20, 10_000)\n",
    "media = pi"
   ]
  },
  {
   "cell_type": "code",
   "execution_count": 48,
   "id": "e8db2038",
   "metadata": {},
   "outputs": [],
   "source": [
    "expo = expon.pdf(datos, scale=media)"
   ]
  },
  {
   "cell_type": "code",
   "execution_count": 49,
   "id": "978f1853",
   "metadata": {},
   "outputs": [
    {
     "data": {
      "text/plain": [
       "<BarContainer object of 10000 artists>"
      ]
     },
     "execution_count": 49,
     "metadata": {},
     "output_type": "execute_result"
    },
    {
     "data": {
      "image/png": "[encoded data removed]",
      "text/plain": [
       "<Figure size 432x288 with 1 Axes>"
      ]
     },
     "metadata": {
      "needs_background": "light"
     },
     "output_type": "display_data"
    }
   ],
   "source": [
    "plt.bar(datos,expo)"
   ]
  },
  {
   "cell_type": "code",
   "execution_count": 50,
   "id": "4eaea93c",
   "metadata": {},
   "outputs": [],
   "source": [
    "cdf = expon.cdf(datos, scale=media)"
   ]
  },
  {
   "cell_type": "code",
   "execution_count": 51,
   "id": "00625862",
   "metadata": {},
   "outputs": [
    {
     "data": {
      "text/plain": [
       "<BarContainer object of 10000 artists>"
      ]
     },
     "execution_count": 51,
     "metadata": {},
     "output_type": "execute_result"
    },
    {
     "data": {
      "image/png": "[encoded data removed]",
      "text/plain": [
       "<Figure size 432x288 with 1 Axes>"
      ]
     },
     "metadata": {
      "needs_background": "light"
     },
     "output_type": "display_data"
    }
   ],
   "source": [
    "plt.bar(datos, cdf)"
   ]
  },
  {
   "cell_type": "markdown",
   "id": "13042602",
   "metadata": {},
   "source": [
    "### 3.3 Normal distribution\n",
    "También conocida como [distribución Gaussiana](https://en.wikipedia.org/wiki/Normal_distribution), la distribución normal es una de las más importantes en la estadística, en parte por el `teorema central del limite` y muy usada en el estudio de variables aleatórias del mundo real."
   ]
  },
  {
   "cell_type": "code",
   "execution_count": 52,
   "id": "e370fd02",
   "metadata": {},
   "outputs": [],
   "source": [
    "from scipy.stats import norm\n",
    "# doc: https://docs.scipy.org/doc/scipy/reference/generated/scipy.stats.norm.html"
   ]
  },
  {
   "cell_type": "code",
   "execution_count": 53,
   "id": "3e058df2",
   "metadata": {},
   "outputs": [],
   "source": [
    "datos = np.linspace(-4, 4, 10_000)\n",
    "normal = norm.pdf(datos)"
   ]
  },
  {
   "cell_type": "code",
   "execution_count": 54,
   "id": "553aef64",
   "metadata": {},
   "outputs": [
    {
     "data": {
      "text/plain": [
       "<BarContainer object of 10000 artists>"
      ]
     },
     "execution_count": 54,
     "metadata": {},
     "output_type": "execute_result"
    },
    {
     "data": {
      "image/png": "[encoded data removed]",
      "text/plain": [
       "<Figure size 432x288 with 1 Axes>"
      ]
     },
     "metadata": {
      "needs_background": "light"
     },
     "output_type": "display_data"
    }
   ],
   "source": [
    "plt.bar(datos, normal)"
   ]
  },
  {
   "cell_type": "code",
   "execution_count": 55,
   "id": "2ae594f7",
   "metadata": {},
   "outputs": [
    {
     "data": {
      "text/plain": [
       "0.06664492057835994"
      ]
     },
     "execution_count": 55,
     "metadata": {},
     "output_type": "execute_result"
    }
   ],
   "source": [
    "altura = 171\n",
    "media =168\n",
    "stdev = 5\n",
    "norm.pdf(171, loc=media, scale=stdev)"
   ]
  },
  {
   "cell_type": "code",
   "execution_count": 56,
   "id": "97bdb222",
   "metadata": {},
   "outputs": [
    {
     "data": {
      "text/plain": [
       "[<matplotlib.lines.Line2D at 0x1475eca90>]"
      ]
     },
     "execution_count": 56,
     "metadata": {},
     "output_type": "execute_result"
    },
    {
     "data": {
      "image/png": "[encoded data removed]",
      "text/plain": [
       "<Figure size 432x288 with 1 Axes>"
      ]
     },
     "metadata": {
      "needs_background": "light"
     },
     "output_type": "display_data"
    }
   ],
   "source": [
    "altura = np.linspace(140, 200, 10_000)\n",
    "media =168\n",
    "stdev = 5\n",
    "pdf = norm.pdf(altura, loc=media, scale=stdev)\n",
    "plt.plot(altura, pdf)"
   ]
  },
  {
   "cell_type": "code",
   "execution_count": 57,
   "id": "97ef1d4b",
   "metadata": {},
   "outputs": [
    {
     "data": {
      "text/plain": [
       "6.664492057835994"
      ]
     },
     "execution_count": 57,
     "metadata": {},
     "output_type": "execute_result"
    }
   ],
   "source": [
    "norm.pdf(171, loc=media, scale=stdev)*100"
   ]
  },
  {
   "cell_type": "code",
   "execution_count": null,
   "id": "fb1bf1fb",
   "metadata": {},
   "outputs": [],
   "source": []
  }
 ],
 "metadata": {
  "kernelspec": {
   "display_name": "Python 3 (ipykernel)",
   "language": "python",
   "name": "python3"
  },
  "language_info": {
   "codemirror_mode": {
    "name": "ipython",
    "version": 3
   },
   "file_extension": ".py",
   "mimetype": "text/x-python",
   "name": "python",
   "nbconvert_exporter": "python",
   "pygments_lexer": "ipython3",
   "version": "3.9.7"
  },
  "toc": {
   "base_numbering": 1,
   "nav_menu": {},
   "number_sections": false,
   "sideBar": true,
   "skip_h1_title": true,
   "title_cell": "Table of Contents",
   "title_sidebar": "Contents",
   "toc_cell": true,
   "toc_position": {},
   "toc_section_display": true,
   "toc_window_display": false
  }
 },
 "nbformat": 4,
 "nbformat_minor": 5
}
