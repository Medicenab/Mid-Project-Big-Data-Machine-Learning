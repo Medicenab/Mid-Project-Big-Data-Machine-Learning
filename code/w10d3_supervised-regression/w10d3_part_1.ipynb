{
 "cells": [
  {
   "cell_type": "markdown",
   "id": "e4bb535a",
   "metadata": {},
   "source": [
    "![](https://api.brandy.run/core/core-logo-wide)\n",
    "\n",
    "# Supervised Learning: Regression"
   ]
  },
  {
   "cell_type": "code",
   "execution_count": 1,
   "id": "f0920b98",
   "metadata": {},
   "outputs": [],
   "source": [
    "import pandas as pd\n",
    "import matplotlib.pyplot as plt\n",
    "from matplotlib import patches\n",
    "import numpy as np\n",
    "import seaborn as sns"
   ]
  },
  {
   "cell_type": "code",
   "execution_count": 2,
   "id": "7cd0b2e0",
   "metadata": {},
   "outputs": [],
   "source": [
    "# To hide warnings on the jupyter\n",
    "# import warnings\n",
    "# warnings.filterwarnings('ignore')"
   ]
  },
  {
   "cell_type": "code",
   "execution_count": 3,
   "id": "7485ce49",
   "metadata": {},
   "outputs": [],
   "source": [
    "df = pd.read_csv(\"data/fish.csv\")"
   ]
  },
  {
   "cell_type": "code",
   "execution_count": 4,
   "id": "901cbfe7",
   "metadata": {},
   "outputs": [],
   "source": [
    "df = df[df[\"Weight\"]>0]"
   ]
  },
  {
   "cell_type": "code",
   "execution_count": 5,
   "id": "4dfeec68",
   "metadata": {},
   "outputs": [
    {
     "data": {
      "text/html": [
       "<div>\n",
       "<style scoped>\n",
       "    .dataframe tbody tr th:only-of-type {\n",
       "        vertical-align: middle;\n",
       "    }\n",
       "\n",
       "    .dataframe tbody tr th {\n",
       "        vertical-align: top;\n",
       "    }\n",
       "\n",
       "    .dataframe thead th {\n",
       "        text-align: right;\n",
       "    }\n",
       "</style>\n",
       "<table border=\"1\" class=\"dataframe\">\n",
       "  <thead>\n",
       "    <tr style=\"text-align: right;\">\n",
       "      <th></th>\n",
       "      <th>Species</th>\n",
       "      <th>Weight</th>\n",
       "      <th>Length1</th>\n",
       "      <th>Length2</th>\n",
       "      <th>Length3</th>\n",
       "      <th>Height</th>\n",
       "      <th>Width</th>\n",
       "    </tr>\n",
       "  </thead>\n",
       "  <tbody>\n",
       "    <tr>\n",
       "      <th>0</th>\n",
       "      <td>Bream</td>\n",
       "      <td>242.0</td>\n",
       "      <td>23.2</td>\n",
       "      <td>25.4</td>\n",
       "      <td>30.0</td>\n",
       "      <td>11.5200</td>\n",
       "      <td>4.0200</td>\n",
       "    </tr>\n",
       "    <tr>\n",
       "      <th>1</th>\n",
       "      <td>Bream</td>\n",
       "      <td>290.0</td>\n",
       "      <td>24.0</td>\n",
       "      <td>26.3</td>\n",
       "      <td>31.2</td>\n",
       "      <td>12.4800</td>\n",
       "      <td>4.3056</td>\n",
       "    </tr>\n",
       "    <tr>\n",
       "      <th>2</th>\n",
       "      <td>Bream</td>\n",
       "      <td>340.0</td>\n",
       "      <td>23.9</td>\n",
       "      <td>26.5</td>\n",
       "      <td>31.1</td>\n",
       "      <td>12.3778</td>\n",
       "      <td>4.6961</td>\n",
       "    </tr>\n",
       "    <tr>\n",
       "      <th>3</th>\n",
       "      <td>Bream</td>\n",
       "      <td>363.0</td>\n",
       "      <td>26.3</td>\n",
       "      <td>29.0</td>\n",
       "      <td>33.5</td>\n",
       "      <td>12.7300</td>\n",
       "      <td>4.4555</td>\n",
       "    </tr>\n",
       "    <tr>\n",
       "      <th>4</th>\n",
       "      <td>Bream</td>\n",
       "      <td>430.0</td>\n",
       "      <td>26.5</td>\n",
       "      <td>29.0</td>\n",
       "      <td>34.0</td>\n",
       "      <td>12.4440</td>\n",
       "      <td>5.1340</td>\n",
       "    </tr>\n",
       "  </tbody>\n",
       "</table>\n",
       "</div>"
      ],
      "text/plain": [
       "  Species  Weight  Length1  Length2  Length3   Height   Width\n",
       "0   Bream   242.0     23.2     25.4     30.0  11.5200  4.0200\n",
       "1   Bream   290.0     24.0     26.3     31.2  12.4800  4.3056\n",
       "2   Bream   340.0     23.9     26.5     31.1  12.3778  4.6961\n",
       "3   Bream   363.0     26.3     29.0     33.5  12.7300  4.4555\n",
       "4   Bream   430.0     26.5     29.0     34.0  12.4440  5.1340"
      ]
     },
     "execution_count": 5,
     "metadata": {},
     "output_type": "execute_result"
    }
   ],
   "source": [
    "df.head()"
   ]
  },
  {
   "cell_type": "code",
   "execution_count": 6,
   "id": "81145354",
   "metadata": {},
   "outputs": [
    {
     "data": {
      "text/plain": [
       "(158, 7)"
      ]
     },
     "execution_count": 6,
     "metadata": {},
     "output_type": "execute_result"
    }
   ],
   "source": [
    "df.shape"
   ]
  },
  {
   "cell_type": "code",
   "execution_count": 8,
   "id": "5f76abb5-046e-4002-a97a-f900b32e8486",
   "metadata": {},
   "outputs": [
    {
     "data": {
      "text/plain": [
       "Perch        56\n",
       "Bream        35\n",
       "Roach        19\n",
       "Pike         17\n",
       "Smelt        14\n",
       "Parkki       11\n",
       "Whitefish     6\n",
       "Name: Species, dtype: int64"
      ]
     },
     "execution_count": 8,
     "metadata": {},
     "output_type": "execute_result"
    }
   ],
   "source": [
    "df[\"Species\"].value_counts()"
   ]
  },
  {
   "cell_type": "code",
   "execution_count": 16,
   "id": "200fdffb",
   "metadata": {},
   "outputs": [],
   "source": [
    "y = df[\"Weight\"]\n",
    "X = df.drop(columns=[\"Weight\"])"
   ]
  },
  {
   "cell_type": "code",
   "execution_count": 17,
   "id": "e15df246",
   "metadata": {},
   "outputs": [
    {
     "data": {
      "text/plain": [
       "array(['Bream', 'Roach', 'Whitefish', 'Parkki', 'Perch', 'Pike', 'Smelt'],\n",
       "      dtype=object)"
      ]
     },
     "execution_count": 17,
     "metadata": {},
     "output_type": "execute_result"
    }
   ],
   "source": [
    "X[\"Species\"].unique()"
   ]
  },
  {
   "cell_type": "code",
   "execution_count": 18,
   "id": "42a1983b-3029-423b-bc75-4a4cdb783735",
   "metadata": {},
   "outputs": [
    {
     "data": {
      "text/plain": [
       "0      242.0\n",
       "1      290.0\n",
       "2      340.0\n",
       "3      363.0\n",
       "4      430.0\n",
       "       ...  \n",
       "154     12.2\n",
       "155     13.4\n",
       "156     12.2\n",
       "157     19.7\n",
       "158     19.9\n",
       "Name: Weight, Length: 158, dtype: float64"
      ]
     },
     "execution_count": 18,
     "metadata": {},
     "output_type": "execute_result"
    }
   ],
   "source": [
    "y"
   ]
  },
  {
   "cell_type": "code",
   "execution_count": 19,
   "id": "54f3ba10-656c-40da-8cf2-3b8dff51de93",
   "metadata": {},
   "outputs": [
    {
     "data": {
      "text/html": [
       "<div>\n",
       "<style scoped>\n",
       "    .dataframe tbody tr th:only-of-type {\n",
       "        vertical-align: middle;\n",
       "    }\n",
       "\n",
       "    .dataframe tbody tr th {\n",
       "        vertical-align: top;\n",
       "    }\n",
       "\n",
       "    .dataframe thead th {\n",
       "        text-align: right;\n",
       "    }\n",
       "</style>\n",
       "<table border=\"1\" class=\"dataframe\">\n",
       "  <thead>\n",
       "    <tr style=\"text-align: right;\">\n",
       "      <th></th>\n",
       "      <th>Species</th>\n",
       "      <th>Length1</th>\n",
       "      <th>Length2</th>\n",
       "      <th>Length3</th>\n",
       "      <th>Height</th>\n",
       "      <th>Width</th>\n",
       "    </tr>\n",
       "  </thead>\n",
       "  <tbody>\n",
       "    <tr>\n",
       "      <th>0</th>\n",
       "      <td>Bream</td>\n",
       "      <td>23.2</td>\n",
       "      <td>25.4</td>\n",
       "      <td>30.0</td>\n",
       "      <td>11.5200</td>\n",
       "      <td>4.0200</td>\n",
       "    </tr>\n",
       "    <tr>\n",
       "      <th>1</th>\n",
       "      <td>Bream</td>\n",
       "      <td>24.0</td>\n",
       "      <td>26.3</td>\n",
       "      <td>31.2</td>\n",
       "      <td>12.4800</td>\n",
       "      <td>4.3056</td>\n",
       "    </tr>\n",
       "    <tr>\n",
       "      <th>2</th>\n",
       "      <td>Bream</td>\n",
       "      <td>23.9</td>\n",
       "      <td>26.5</td>\n",
       "      <td>31.1</td>\n",
       "      <td>12.3778</td>\n",
       "      <td>4.6961</td>\n",
       "    </tr>\n",
       "    <tr>\n",
       "      <th>3</th>\n",
       "      <td>Bream</td>\n",
       "      <td>26.3</td>\n",
       "      <td>29.0</td>\n",
       "      <td>33.5</td>\n",
       "      <td>12.7300</td>\n",
       "      <td>4.4555</td>\n",
       "    </tr>\n",
       "    <tr>\n",
       "      <th>4</th>\n",
       "      <td>Bream</td>\n",
       "      <td>26.5</td>\n",
       "      <td>29.0</td>\n",
       "      <td>34.0</td>\n",
       "      <td>12.4440</td>\n",
       "      <td>5.1340</td>\n",
       "    </tr>\n",
       "    <tr>\n",
       "      <th>...</th>\n",
       "      <td>...</td>\n",
       "      <td>...</td>\n",
       "      <td>...</td>\n",
       "      <td>...</td>\n",
       "      <td>...</td>\n",
       "      <td>...</td>\n",
       "    </tr>\n",
       "    <tr>\n",
       "      <th>154</th>\n",
       "      <td>Smelt</td>\n",
       "      <td>11.5</td>\n",
       "      <td>12.2</td>\n",
       "      <td>13.4</td>\n",
       "      <td>2.0904</td>\n",
       "      <td>1.3936</td>\n",
       "    </tr>\n",
       "    <tr>\n",
       "      <th>155</th>\n",
       "      <td>Smelt</td>\n",
       "      <td>11.7</td>\n",
       "      <td>12.4</td>\n",
       "      <td>13.5</td>\n",
       "      <td>2.4300</td>\n",
       "      <td>1.2690</td>\n",
       "    </tr>\n",
       "    <tr>\n",
       "      <th>156</th>\n",
       "      <td>Smelt</td>\n",
       "      <td>12.1</td>\n",
       "      <td>13.0</td>\n",
       "      <td>13.8</td>\n",
       "      <td>2.2770</td>\n",
       "      <td>1.2558</td>\n",
       "    </tr>\n",
       "    <tr>\n",
       "      <th>157</th>\n",
       "      <td>Smelt</td>\n",
       "      <td>13.2</td>\n",
       "      <td>14.3</td>\n",
       "      <td>15.2</td>\n",
       "      <td>2.8728</td>\n",
       "      <td>2.0672</td>\n",
       "    </tr>\n",
       "    <tr>\n",
       "      <th>158</th>\n",
       "      <td>Smelt</td>\n",
       "      <td>13.8</td>\n",
       "      <td>15.0</td>\n",
       "      <td>16.2</td>\n",
       "      <td>2.9322</td>\n",
       "      <td>1.8792</td>\n",
       "    </tr>\n",
       "  </tbody>\n",
       "</table>\n",
       "<p>158 rows × 6 columns</p>\n",
       "</div>"
      ],
      "text/plain": [
       "    Species  Length1  Length2  Length3   Height   Width\n",
       "0     Bream     23.2     25.4     30.0  11.5200  4.0200\n",
       "1     Bream     24.0     26.3     31.2  12.4800  4.3056\n",
       "2     Bream     23.9     26.5     31.1  12.3778  4.6961\n",
       "3     Bream     26.3     29.0     33.5  12.7300  4.4555\n",
       "4     Bream     26.5     29.0     34.0  12.4440  5.1340\n",
       "..      ...      ...      ...      ...      ...     ...\n",
       "154   Smelt     11.5     12.2     13.4   2.0904  1.3936\n",
       "155   Smelt     11.7     12.4     13.5   2.4300  1.2690\n",
       "156   Smelt     12.1     13.0     13.8   2.2770  1.2558\n",
       "157   Smelt     13.2     14.3     15.2   2.8728  2.0672\n",
       "158   Smelt     13.8     15.0     16.2   2.9322  1.8792\n",
       "\n",
       "[158 rows x 6 columns]"
      ]
     },
     "execution_count": 19,
     "metadata": {},
     "output_type": "execute_result"
    }
   ],
   "source": [
    "X"
   ]
  },
  {
   "cell_type": "markdown",
   "id": "5f4dd153",
   "metadata": {},
   "source": [
    "## Train Test Split\n",
    "\n",
    "Como visto en la lección anterior, la división de los datos en train y test es una buena herramienta para evitar el overfitting."
   ]
  },
  {
   "cell_type": "code",
   "execution_count": 20,
   "id": "de478b19",
   "metadata": {},
   "outputs": [],
   "source": [
    "from sklearn.model_selection import train_test_split"
   ]
  },
  {
   "cell_type": "code",
   "execution_count": 21,
   "id": "c40d5a77",
   "metadata": {},
   "outputs": [],
   "source": [
    "X_train, X_test, y_train, y_test = train_test_split(X,y, train_size=0.8)"
   ]
  },
  {
   "cell_type": "code",
   "execution_count": 22,
   "id": "145e79df",
   "metadata": {},
   "outputs": [
    {
     "data": {
      "text/plain": [
       "((126, 6), (32, 6), (126,), (32,))"
      ]
     },
     "execution_count": 22,
     "metadata": {},
     "output_type": "execute_result"
    }
   ],
   "source": [
    "X_train.shape, X_test.shape, y_train.shape, y_test.shape"
   ]
  },
  {
   "cell_type": "code",
   "execution_count": 23,
   "id": "33c01a84",
   "metadata": {},
   "outputs": [
    {
     "data": {
      "text/html": [
       "<div>\n",
       "<style scoped>\n",
       "    .dataframe tbody tr th:only-of-type {\n",
       "        vertical-align: middle;\n",
       "    }\n",
       "\n",
       "    .dataframe tbody tr th {\n",
       "        vertical-align: top;\n",
       "    }\n",
       "\n",
       "    .dataframe thead th {\n",
       "        text-align: right;\n",
       "    }\n",
       "</style>\n",
       "<table border=\"1\" class=\"dataframe\">\n",
       "  <thead>\n",
       "    <tr style=\"text-align: right;\">\n",
       "      <th></th>\n",
       "      <th>Species</th>\n",
       "      <th>Length1</th>\n",
       "      <th>Length2</th>\n",
       "      <th>Length3</th>\n",
       "      <th>Height</th>\n",
       "      <th>Width</th>\n",
       "    </tr>\n",
       "  </thead>\n",
       "  <tbody>\n",
       "    <tr>\n",
       "      <th>156</th>\n",
       "      <td>Smelt</td>\n",
       "      <td>12.1</td>\n",
       "      <td>13.0</td>\n",
       "      <td>13.8</td>\n",
       "      <td>2.2770</td>\n",
       "      <td>1.2558</td>\n",
       "    </tr>\n",
       "    <tr>\n",
       "      <th>126</th>\n",
       "      <td>Perch</td>\n",
       "      <td>40.2</td>\n",
       "      <td>43.5</td>\n",
       "      <td>46.0</td>\n",
       "      <td>12.6040</td>\n",
       "      <td>8.1420</td>\n",
       "    </tr>\n",
       "    <tr>\n",
       "      <th>23</th>\n",
       "      <td>Bream</td>\n",
       "      <td>31.8</td>\n",
       "      <td>35.0</td>\n",
       "      <td>40.6</td>\n",
       "      <td>15.4686</td>\n",
       "      <td>6.1306</td>\n",
       "    </tr>\n",
       "    <tr>\n",
       "      <th>75</th>\n",
       "      <td>Perch</td>\n",
       "      <td>15.0</td>\n",
       "      <td>16.2</td>\n",
       "      <td>17.2</td>\n",
       "      <td>4.5924</td>\n",
       "      <td>2.6316</td>\n",
       "    </tr>\n",
       "    <tr>\n",
       "      <th>18</th>\n",
       "      <td>Bream</td>\n",
       "      <td>30.9</td>\n",
       "      <td>33.5</td>\n",
       "      <td>38.6</td>\n",
       "      <td>15.6330</td>\n",
       "      <td>5.1338</td>\n",
       "    </tr>\n",
       "    <tr>\n",
       "      <th>...</th>\n",
       "      <td>...</td>\n",
       "      <td>...</td>\n",
       "      <td>...</td>\n",
       "      <td>...</td>\n",
       "      <td>...</td>\n",
       "      <td>...</td>\n",
       "    </tr>\n",
       "    <tr>\n",
       "      <th>8</th>\n",
       "      <td>Bream</td>\n",
       "      <td>27.6</td>\n",
       "      <td>30.0</td>\n",
       "      <td>35.1</td>\n",
       "      <td>14.0049</td>\n",
       "      <td>4.8438</td>\n",
       "    </tr>\n",
       "    <tr>\n",
       "      <th>15</th>\n",
       "      <td>Bream</td>\n",
       "      <td>29.4</td>\n",
       "      <td>32.0</td>\n",
       "      <td>37.2</td>\n",
       "      <td>15.4380</td>\n",
       "      <td>5.5800</td>\n",
       "    </tr>\n",
       "    <tr>\n",
       "      <th>144</th>\n",
       "      <td>Pike</td>\n",
       "      <td>59.0</td>\n",
       "      <td>63.4</td>\n",
       "      <td>68.0</td>\n",
       "      <td>10.8120</td>\n",
       "      <td>7.4800</td>\n",
       "    </tr>\n",
       "    <tr>\n",
       "      <th>148</th>\n",
       "      <td>Smelt</td>\n",
       "      <td>10.4</td>\n",
       "      <td>11.0</td>\n",
       "      <td>12.0</td>\n",
       "      <td>2.1960</td>\n",
       "      <td>1.3800</td>\n",
       "    </tr>\n",
       "    <tr>\n",
       "      <th>37</th>\n",
       "      <td>Roach</td>\n",
       "      <td>17.5</td>\n",
       "      <td>18.8</td>\n",
       "      <td>21.2</td>\n",
       "      <td>5.5756</td>\n",
       "      <td>2.9044</td>\n",
       "    </tr>\n",
       "  </tbody>\n",
       "</table>\n",
       "<p>126 rows × 6 columns</p>\n",
       "</div>"
      ],
      "text/plain": [
       "    Species  Length1  Length2  Length3   Height   Width\n",
       "156   Smelt     12.1     13.0     13.8   2.2770  1.2558\n",
       "126   Perch     40.2     43.5     46.0  12.6040  8.1420\n",
       "23    Bream     31.8     35.0     40.6  15.4686  6.1306\n",
       "75    Perch     15.0     16.2     17.2   4.5924  2.6316\n",
       "18    Bream     30.9     33.5     38.6  15.6330  5.1338\n",
       "..      ...      ...      ...      ...      ...     ...\n",
       "8     Bream     27.6     30.0     35.1  14.0049  4.8438\n",
       "15    Bream     29.4     32.0     37.2  15.4380  5.5800\n",
       "144    Pike     59.0     63.4     68.0  10.8120  7.4800\n",
       "148   Smelt     10.4     11.0     12.0   2.1960  1.3800\n",
       "37    Roach     17.5     18.8     21.2   5.5756  2.9044\n",
       "\n",
       "[126 rows x 6 columns]"
      ]
     },
     "execution_count": 23,
     "metadata": {},
     "output_type": "execute_result"
    }
   ],
   "source": [
    "X_train"
   ]
  },
  {
   "cell_type": "code",
   "execution_count": 24,
   "id": "12a96735",
   "metadata": {},
   "outputs": [
    {
     "data": {
      "text/plain": [
       "156      12.2\n",
       "126    1000.0\n",
       "23      680.0\n",
       "75       51.5\n",
       "18      610.0\n",
       "        ...  \n",
       "8       450.0\n",
       "15      600.0\n",
       "144    1650.0\n",
       "148       9.7\n",
       "37       78.0\n",
       "Name: Weight, Length: 126, dtype: float64"
      ]
     },
     "execution_count": 24,
     "metadata": {},
     "output_type": "execute_result"
    }
   ],
   "source": [
    "y_train"
   ]
  },
  {
   "cell_type": "markdown",
   "id": "11bcff9f",
   "metadata": {},
   "source": [
    "## How to deal with Categorical data?\n",
    "\n",
    "> ### Choose a Strategy\n",
    "> #### LabelEncoding <a class=\"tocSkip\">\n",
    "> Una posible estratégia para las variables categóricas es convertirlas a clases numericas ordinales, por ejemplo asignando valores entre 0 y `n_classes - 1`. "
   ]
  },
  {
   "cell_type": "code",
   "execution_count": 25,
   "id": "8a3c2749",
   "metadata": {},
   "outputs": [],
   "source": [
    "from sklearn.preprocessing import LabelEncoder"
   ]
  },
  {
   "cell_type": "code",
   "execution_count": 26,
   "id": "2f325d2d",
   "metadata": {},
   "outputs": [],
   "source": [
    "enc = LabelEncoder()"
   ]
  },
  {
   "cell_type": "code",
   "execution_count": 27,
   "id": "4e199676",
   "metadata": {},
   "outputs": [
    {
     "data": {
      "text/plain": [
       "LabelEncoder()"
      ]
     },
     "execution_count": 27,
     "metadata": {},
     "output_type": "execute_result"
    }
   ],
   "source": [
    "# .fit para generar la relación categoria -> numero\n",
    "enc.fit(X_train[\"Species\"])"
   ]
  },
  {
   "cell_type": "code",
   "execution_count": 32,
   "id": "b21b548a-b921-4790-9775-f832bcddc659",
   "metadata": {},
   "outputs": [
    {
     "data": {
      "text/plain": [
       "156    Smelt\n",
       "126    Perch\n",
       "23     Bream\n",
       "75     Perch\n",
       "18     Bream\n",
       "       ...  \n",
       "8      Bream\n",
       "15     Bream\n",
       "144     Pike\n",
       "148    Smelt\n",
       "37     Roach\n",
       "Name: Species, Length: 126, dtype: object"
      ]
     },
     "execution_count": 32,
     "metadata": {},
     "output_type": "execute_result"
    }
   ],
   "source": [
    "X_train[\"Species\"]"
   ]
  },
  {
   "cell_type": "code",
   "execution_count": 29,
   "id": "d3c9fb5a",
   "metadata": {},
   "outputs": [
    {
     "data": {
      "text/plain": [
       "array(['Bream', 'Parkki', 'Perch', 'Pike', 'Roach', 'Smelt', 'Whitefish'],\n",
       "      dtype=object)"
      ]
     },
     "execution_count": 29,
     "metadata": {},
     "output_type": "execute_result"
    }
   ],
   "source": [
    "enc.classes_"
   ]
  },
  {
   "cell_type": "code",
   "execution_count": 33,
   "id": "24122c8f",
   "metadata": {},
   "outputs": [],
   "source": [
    "X_train[\"Species_\"] = enc.transform(X_train[\"Species\"])"
   ]
  },
  {
   "cell_type": "code",
   "execution_count": 34,
   "id": "f794d19a-487f-4f51-a896-05924ec101ea",
   "metadata": {},
   "outputs": [
    {
     "data": {
      "text/plain": [
       "pandas.core.series.Series"
      ]
     },
     "execution_count": 34,
     "metadata": {},
     "output_type": "execute_result"
    }
   ],
   "source": [
    "type(X_train[\"Species_\"])"
   ]
  },
  {
   "cell_type": "code",
   "execution_count": 35,
   "id": "76b86bb1-6b70-43ce-a66b-7b34cc4097e7",
   "metadata": {},
   "outputs": [
    {
     "data": {
      "text/html": [
       "<div>\n",
       "<style scoped>\n",
       "    .dataframe tbody tr th:only-of-type {\n",
       "        vertical-align: middle;\n",
       "    }\n",
       "\n",
       "    .dataframe tbody tr th {\n",
       "        vertical-align: top;\n",
       "    }\n",
       "\n",
       "    .dataframe thead th {\n",
       "        text-align: right;\n",
       "    }\n",
       "</style>\n",
       "<table border=\"1\" class=\"dataframe\">\n",
       "  <thead>\n",
       "    <tr style=\"text-align: right;\">\n",
       "      <th></th>\n",
       "      <th>Species</th>\n",
       "      <th>Length1</th>\n",
       "      <th>Length2</th>\n",
       "      <th>Length3</th>\n",
       "      <th>Height</th>\n",
       "      <th>Width</th>\n",
       "      <th>Species_</th>\n",
       "    </tr>\n",
       "  </thead>\n",
       "  <tbody>\n",
       "    <tr>\n",
       "      <th>156</th>\n",
       "      <td>Smelt</td>\n",
       "      <td>12.1</td>\n",
       "      <td>13.0</td>\n",
       "      <td>13.8</td>\n",
       "      <td>2.2770</td>\n",
       "      <td>1.2558</td>\n",
       "      <td>5</td>\n",
       "    </tr>\n",
       "    <tr>\n",
       "      <th>126</th>\n",
       "      <td>Perch</td>\n",
       "      <td>40.2</td>\n",
       "      <td>43.5</td>\n",
       "      <td>46.0</td>\n",
       "      <td>12.6040</td>\n",
       "      <td>8.1420</td>\n",
       "      <td>2</td>\n",
       "    </tr>\n",
       "    <tr>\n",
       "      <th>23</th>\n",
       "      <td>Bream</td>\n",
       "      <td>31.8</td>\n",
       "      <td>35.0</td>\n",
       "      <td>40.6</td>\n",
       "      <td>15.4686</td>\n",
       "      <td>6.1306</td>\n",
       "      <td>0</td>\n",
       "    </tr>\n",
       "    <tr>\n",
       "      <th>75</th>\n",
       "      <td>Perch</td>\n",
       "      <td>15.0</td>\n",
       "      <td>16.2</td>\n",
       "      <td>17.2</td>\n",
       "      <td>4.5924</td>\n",
       "      <td>2.6316</td>\n",
       "      <td>2</td>\n",
       "    </tr>\n",
       "    <tr>\n",
       "      <th>18</th>\n",
       "      <td>Bream</td>\n",
       "      <td>30.9</td>\n",
       "      <td>33.5</td>\n",
       "      <td>38.6</td>\n",
       "      <td>15.6330</td>\n",
       "      <td>5.1338</td>\n",
       "      <td>0</td>\n",
       "    </tr>\n",
       "    <tr>\n",
       "      <th>...</th>\n",
       "      <td>...</td>\n",
       "      <td>...</td>\n",
       "      <td>...</td>\n",
       "      <td>...</td>\n",
       "      <td>...</td>\n",
       "      <td>...</td>\n",
       "      <td>...</td>\n",
       "    </tr>\n",
       "    <tr>\n",
       "      <th>8</th>\n",
       "      <td>Bream</td>\n",
       "      <td>27.6</td>\n",
       "      <td>30.0</td>\n",
       "      <td>35.1</td>\n",
       "      <td>14.0049</td>\n",
       "      <td>4.8438</td>\n",
       "      <td>0</td>\n",
       "    </tr>\n",
       "    <tr>\n",
       "      <th>15</th>\n",
       "      <td>Bream</td>\n",
       "      <td>29.4</td>\n",
       "      <td>32.0</td>\n",
       "      <td>37.2</td>\n",
       "      <td>15.4380</td>\n",
       "      <td>5.5800</td>\n",
       "      <td>0</td>\n",
       "    </tr>\n",
       "    <tr>\n",
       "      <th>144</th>\n",
       "      <td>Pike</td>\n",
       "      <td>59.0</td>\n",
       "      <td>63.4</td>\n",
       "      <td>68.0</td>\n",
       "      <td>10.8120</td>\n",
       "      <td>7.4800</td>\n",
       "      <td>3</td>\n",
       "    </tr>\n",
       "    <tr>\n",
       "      <th>148</th>\n",
       "      <td>Smelt</td>\n",
       "      <td>10.4</td>\n",
       "      <td>11.0</td>\n",
       "      <td>12.0</td>\n",
       "      <td>2.1960</td>\n",
       "      <td>1.3800</td>\n",
       "      <td>5</td>\n",
       "    </tr>\n",
       "    <tr>\n",
       "      <th>37</th>\n",
       "      <td>Roach</td>\n",
       "      <td>17.5</td>\n",
       "      <td>18.8</td>\n",
       "      <td>21.2</td>\n",
       "      <td>5.5756</td>\n",
       "      <td>2.9044</td>\n",
       "      <td>4</td>\n",
       "    </tr>\n",
       "  </tbody>\n",
       "</table>\n",
       "<p>126 rows × 7 columns</p>\n",
       "</div>"
      ],
      "text/plain": [
       "    Species  Length1  Length2  Length3   Height   Width  Species_\n",
       "156   Smelt     12.1     13.0     13.8   2.2770  1.2558         5\n",
       "126   Perch     40.2     43.5     46.0  12.6040  8.1420         2\n",
       "23    Bream     31.8     35.0     40.6  15.4686  6.1306         0\n",
       "75    Perch     15.0     16.2     17.2   4.5924  2.6316         2\n",
       "18    Bream     30.9     33.5     38.6  15.6330  5.1338         0\n",
       "..      ...      ...      ...      ...      ...     ...       ...\n",
       "8     Bream     27.6     30.0     35.1  14.0049  4.8438         0\n",
       "15    Bream     29.4     32.0     37.2  15.4380  5.5800         0\n",
       "144    Pike     59.0     63.4     68.0  10.8120  7.4800         3\n",
       "148   Smelt     10.4     11.0     12.0   2.1960  1.3800         5\n",
       "37    Roach     17.5     18.8     21.2   5.5756  2.9044         4\n",
       "\n",
       "[126 rows x 7 columns]"
      ]
     },
     "execution_count": 35,
     "metadata": {},
     "output_type": "execute_result"
    }
   ],
   "source": [
    "X_train"
   ]
  },
  {
   "cell_type": "code",
   "execution_count": 36,
   "id": "b48f5683",
   "metadata": {},
   "outputs": [
    {
     "data": {
      "text/html": [
       "<div>\n",
       "<style scoped>\n",
       "    .dataframe tbody tr th:only-of-type {\n",
       "        vertical-align: middle;\n",
       "    }\n",
       "\n",
       "    .dataframe tbody tr th {\n",
       "        vertical-align: top;\n",
       "    }\n",
       "\n",
       "    .dataframe thead th {\n",
       "        text-align: right;\n",
       "    }\n",
       "</style>\n",
       "<table border=\"1\" class=\"dataframe\">\n",
       "  <thead>\n",
       "    <tr style=\"text-align: right;\">\n",
       "      <th></th>\n",
       "      <th>Species</th>\n",
       "      <th>Species_</th>\n",
       "    </tr>\n",
       "  </thead>\n",
       "  <tbody>\n",
       "    <tr>\n",
       "      <th>156</th>\n",
       "      <td>Smelt</td>\n",
       "      <td>5</td>\n",
       "    </tr>\n",
       "    <tr>\n",
       "      <th>126</th>\n",
       "      <td>Perch</td>\n",
       "      <td>2</td>\n",
       "    </tr>\n",
       "    <tr>\n",
       "      <th>23</th>\n",
       "      <td>Bream</td>\n",
       "      <td>0</td>\n",
       "    </tr>\n",
       "    <tr>\n",
       "      <th>75</th>\n",
       "      <td>Perch</td>\n",
       "      <td>2</td>\n",
       "    </tr>\n",
       "    <tr>\n",
       "      <th>18</th>\n",
       "      <td>Bream</td>\n",
       "      <td>0</td>\n",
       "    </tr>\n",
       "    <tr>\n",
       "      <th>...</th>\n",
       "      <td>...</td>\n",
       "      <td>...</td>\n",
       "    </tr>\n",
       "    <tr>\n",
       "      <th>8</th>\n",
       "      <td>Bream</td>\n",
       "      <td>0</td>\n",
       "    </tr>\n",
       "    <tr>\n",
       "      <th>15</th>\n",
       "      <td>Bream</td>\n",
       "      <td>0</td>\n",
       "    </tr>\n",
       "    <tr>\n",
       "      <th>144</th>\n",
       "      <td>Pike</td>\n",
       "      <td>3</td>\n",
       "    </tr>\n",
       "    <tr>\n",
       "      <th>148</th>\n",
       "      <td>Smelt</td>\n",
       "      <td>5</td>\n",
       "    </tr>\n",
       "    <tr>\n",
       "      <th>37</th>\n",
       "      <td>Roach</td>\n",
       "      <td>4</td>\n",
       "    </tr>\n",
       "  </tbody>\n",
       "</table>\n",
       "<p>126 rows × 2 columns</p>\n",
       "</div>"
      ],
      "text/plain": [
       "    Species  Species_\n",
       "156   Smelt         5\n",
       "126   Perch         2\n",
       "23    Bream         0\n",
       "75    Perch         2\n",
       "18    Bream         0\n",
       "..      ...       ...\n",
       "8     Bream         0\n",
       "15    Bream         0\n",
       "144    Pike         3\n",
       "148   Smelt         5\n",
       "37    Roach         4\n",
       "\n",
       "[126 rows x 2 columns]"
      ]
     },
     "execution_count": 36,
     "metadata": {},
     "output_type": "execute_result"
    }
   ],
   "source": [
    "X_train[[\"Species\",\"Species_\"]]"
   ]
  },
  {
   "cell_type": "code",
   "execution_count": null,
   "id": "e01e6941-186f-4a75-bb4d-f5517df483d7",
   "metadata": {},
   "outputs": [],
   "source": [
    "LabelEncoder().fit_transform(X_train[\"Species\"])"
   ]
  },
  {
   "cell_type": "markdown",
   "id": "eee6f555",
   "metadata": {},
   "source": [
    "### Important! <a class=\"tocSkip\">\n",
    "    \n",
    "Cuando utilicemos una herramienta como el `LabelEncoder`, debemos utilizar la misma instáncia de esa herramienta en ambos X_train y X_test. El motivo es que al llamar el método `.fit`, estamos configurando parámetros en ese objeto. \n",
    "    \n",
    "Si no utilizaramos el mismo Encoder, no poderíamos asegurarnos que la misma clase tendría la misma etiqueta (numero)."
   ]
  },
  {
   "cell_type": "code",
   "execution_count": 37,
   "id": "9448220e",
   "metadata": {},
   "outputs": [
    {
     "data": {
      "text/plain": [
       "array([0, 4, 3, 2, 2, 0, 0, 2, 0, 2, 6, 2, 2, 2, 2, 4, 5, 4, 1, 3, 3, 2,\n",
       "       2, 2, 6, 4, 2, 2, 3, 0, 2, 4])"
      ]
     },
     "execution_count": 37,
     "metadata": {},
     "output_type": "execute_result"
    }
   ],
   "source": [
    "enc.transform(X_test[\"Species\"])"
   ]
  },
  {
   "cell_type": "markdown",
   "id": "84cba48b",
   "metadata": {},
   "source": [
    "### Problems with LabelEncoding <a class=\"tocSkip\">\n",
    "    \n",
    "Hay entretanto un problema con esa transformación. Al asignar valores ordenados, estabelecemos que las diferentes clases están distribuidas en ese orden."
   ]
  },
  {
   "cell_type": "code",
   "execution_count": 38,
   "id": "a98f5376",
   "metadata": {},
   "outputs": [
    {
     "data": {
      "image/png": "[encoded data removed]",
      "text/plain": [
       "<Figure size 720x108 with 1 Axes>"
      ]
     },
     "metadata": {
      "needs_background": "light"
     },
     "output_type": "display_data"
    }
   ],
   "source": [
    "scale = plt.figure(figsize=(10,1.5))\n",
    "for i,txt in enumerate(enc.classes_):\n",
    "    plt.text(i,.05,txt, rotation=\"vertical\", ha='right')\n",
    "    plt.axvline(i,.4,.6, color=\"red\")\n",
    "plt.xlim(-1,7)\n",
    "plt.ylim(-.2,.2)\n",
    "plt.axis('off')\n",
    "plt.arrow(-1, 0, 8, 0, length_includes_head=True, head_width=.05, head_length=.5, color=\"k\");"
   ]
  },
  {
   "cell_type": "markdown",
   "id": "ec244c73",
   "metadata": {},
   "source": [
    "Como muchos algoritmos se basean en la geometria y la distribución de los data points en el espacio, esa información de como se distribuyen las clases le pasa información que no es correcta. Por ejemplo, que `Bream` se asemeja más a `Parkki` que `Whitefish` en el caso de los pescados."
   ]
  },
  {
   "cell_type": "code",
   "execution_count": 39,
   "id": "6bc5c57c",
   "metadata": {},
   "outputs": [
    {
     "data": {
      "image/png": "[encoded data removed]",
      "text/plain": [
       "<Figure size 720x108 with 1 Axes>"
      ]
     },
     "execution_count": 39,
     "metadata": {},
     "output_type": "execute_result"
    }
   ],
   "source": [
    "style = \"Simple, tail_width=0.5, head_width=4, head_length=8\"\n",
    "colors= [\"purple\",\"orange\"]\n",
    "conn = [\"arc3,rad=-.5\",\"arc3,rad=.15\"]\n",
    "arrows = [patches.FancyArrowPatch((0, 0), (x, 0),connectionstyle=conn[i], \n",
    "                                  arrowstyle=style, color=colors[i]) for i,x in enumerate([1,6])]\n",
    "[scale.gca().add_patch(a) for a in arrows]\n",
    "scale"
   ]
  },
  {
   "cell_type": "code",
   "execution_count": 40,
   "id": "694dd2a7",
   "metadata": {},
   "outputs": [],
   "source": [
    "le = LabelEncoder()"
   ]
  },
  {
   "cell_type": "code",
   "execution_count": 41,
   "id": "e895598e",
   "metadata": {},
   "outputs": [],
   "source": [
    "classes = [\"Pequeño\", \"Medio\", \"Grande\", \"Extra Grande\", \"Extra Pequeño\"]"
   ]
  },
  {
   "cell_type": "code",
   "execution_count": 42,
   "id": "58ba32f6",
   "metadata": {},
   "outputs": [
    {
     "data": {
      "text/plain": [
       "array([4, 3, 2, 0, 1])"
      ]
     },
     "execution_count": 42,
     "metadata": {},
     "output_type": "execute_result"
    }
   ],
   "source": [
    "le.fit_transform(classes)"
   ]
  },
  {
   "cell_type": "code",
   "execution_count": 43,
   "id": "c5650c52",
   "metadata": {},
   "outputs": [
    {
     "data": {
      "text/plain": [
       "array(['Extra Grande', 'Extra Pequeño', 'Grande', 'Medio', 'Pequeño'],\n",
       "      dtype='<U13')"
      ]
     },
     "execution_count": 43,
     "metadata": {},
     "output_type": "execute_result"
    }
   ],
   "source": [
    "le.classes_"
   ]
  },
  {
   "cell_type": "code",
   "execution_count": 44,
   "id": "32aa3aa2",
   "metadata": {},
   "outputs": [],
   "source": [
    "le = LabelEncoder()"
   ]
  },
  {
   "cell_type": "code",
   "execution_count": 45,
   "id": "93e5bb2c",
   "metadata": {},
   "outputs": [],
   "source": [
    "classes = [\"Extra Pequeño\", \"Pequeño\", \"Medio\", \"Grande\", \"Extra Grande\"]"
   ]
  },
  {
   "cell_type": "code",
   "execution_count": 46,
   "id": "1836281e",
   "metadata": {},
   "outputs": [],
   "source": [
    "le.classes_ = classes"
   ]
  },
  {
   "cell_type": "code",
   "execution_count": 47,
   "id": "9b0d7ea5",
   "metadata": {},
   "outputs": [
    {
     "data": {
      "text/plain": [
       "['Extra Pequeño', 'Pequeño', 'Medio', 'Grande', 'Extra Grande']"
      ]
     },
     "execution_count": 47,
     "metadata": {},
     "output_type": "execute_result"
    }
   ],
   "source": [
    "le.classes_"
   ]
  },
  {
   "cell_type": "code",
   "execution_count": 48,
   "id": "ab8850f9",
   "metadata": {},
   "outputs": [
    {
     "data": {
      "text/plain": [
       "array([0, 1, 2, 3, 4])"
      ]
     },
     "execution_count": 48,
     "metadata": {},
     "output_type": "execute_result"
    }
   ],
   "source": [
    "le.transform(classes)"
   ]
  },
  {
   "cell_type": "markdown",
   "id": "393bca6a",
   "metadata": {},
   "source": [
    "Mientras el LabelEncoding puede ser una alternativa cuando las categorias pueden ser ordenadas `Malo, Medio, Bueno`, `XS, S, M, L, XL`, eso no será siempre el caso. Para eso, tenemos otra herramienta, el `OneHotEncoding`. \n",
    "\n",
    "> #### OneHotEncoding <a class=\"tocSkip\">\n",
    "> En ese caso, cada una de las posibles clases se tornará una columna nueva en el dataframe y se asignaran valores `0` y `1` segun aquella fila (o data point) sea de esa clase o no. A las variables que se codifican de esa manera, también se las llama `dummy variables`."
   ]
  },
  {
   "cell_type": "code",
   "execution_count": 49,
   "id": "a8c495ba",
   "metadata": {},
   "outputs": [
    {
     "data": {
      "text/html": [
       "<div>\n",
       "<style scoped>\n",
       "    .dataframe tbody tr th:only-of-type {\n",
       "        vertical-align: middle;\n",
       "    }\n",
       "\n",
       "    .dataframe tbody tr th {\n",
       "        vertical-align: top;\n",
       "    }\n",
       "\n",
       "    .dataframe thead th {\n",
       "        text-align: right;\n",
       "    }\n",
       "</style>\n",
       "<table border=\"1\" class=\"dataframe\">\n",
       "  <thead>\n",
       "    <tr style=\"text-align: right;\">\n",
       "      <th></th>\n",
       "      <th>letter</th>\n",
       "    </tr>\n",
       "  </thead>\n",
       "  <tbody>\n",
       "    <tr>\n",
       "      <th>0</th>\n",
       "      <td>a</td>\n",
       "    </tr>\n",
       "    <tr>\n",
       "      <th>1</th>\n",
       "      <td>b</td>\n",
       "    </tr>\n",
       "    <tr>\n",
       "      <th>2</th>\n",
       "      <td>c</td>\n",
       "    </tr>\n",
       "  </tbody>\n",
       "</table>\n",
       "</div>"
      ],
      "text/plain": [
       "  letter\n",
       "0      a\n",
       "1      b\n",
       "2      c"
      ]
     },
     "execution_count": 49,
     "metadata": {},
     "output_type": "execute_result"
    }
   ],
   "source": [
    "abc = pd.DataFrame([\"a\",\"b\",\"c\"], columns=[\"letter\"])\n",
    "abc"
   ]
  },
  {
   "cell_type": "code",
   "execution_count": 50,
   "id": "01fac17a",
   "metadata": {},
   "outputs": [
    {
     "data": {
      "text/html": [
       "<div>\n",
       "<style scoped>\n",
       "    .dataframe tbody tr th:only-of-type {\n",
       "        vertical-align: middle;\n",
       "    }\n",
       "\n",
       "    .dataframe tbody tr th {\n",
       "        vertical-align: top;\n",
       "    }\n",
       "\n",
       "    .dataframe thead th {\n",
       "        text-align: right;\n",
       "    }\n",
       "</style>\n",
       "<table border=\"1\" class=\"dataframe\">\n",
       "  <thead>\n",
       "    <tr style=\"text-align: right;\">\n",
       "      <th></th>\n",
       "      <th>letter</th>\n",
       "      <th>letter_a</th>\n",
       "      <th>letter_b</th>\n",
       "      <th>letter_c</th>\n",
       "    </tr>\n",
       "  </thead>\n",
       "  <tbody>\n",
       "    <tr>\n",
       "      <th>0</th>\n",
       "      <td>a</td>\n",
       "      <td>1</td>\n",
       "      <td>0</td>\n",
       "      <td>0</td>\n",
       "    </tr>\n",
       "    <tr>\n",
       "      <th>1</th>\n",
       "      <td>b</td>\n",
       "      <td>0</td>\n",
       "      <td>1</td>\n",
       "      <td>0</td>\n",
       "    </tr>\n",
       "    <tr>\n",
       "      <th>2</th>\n",
       "      <td>c</td>\n",
       "      <td>0</td>\n",
       "      <td>0</td>\n",
       "      <td>1</td>\n",
       "    </tr>\n",
       "  </tbody>\n",
       "</table>\n",
       "</div>"
      ],
      "text/plain": [
       "  letter  letter_a  letter_b  letter_c\n",
       "0      a         1         0         0\n",
       "1      b         0         1         0\n",
       "2      c         0         0         1"
      ]
     },
     "execution_count": 50,
     "metadata": {},
     "output_type": "execute_result"
    }
   ],
   "source": [
    "abc.join(pd.get_dummies(abc))"
   ]
  },
  {
   "cell_type": "markdown",
   "id": "e4c767be",
   "metadata": {},
   "source": [
    "Al tratar cada variable separadamente y de manera binaria, dejamos de tener el problema del orden de las clases."
   ]
  },
  {
   "cell_type": "code",
   "execution_count": 51,
   "id": "293c5218",
   "metadata": {},
   "outputs": [],
   "source": [
    "X_train = X_train.drop(columns=[\"Species_\"])"
   ]
  },
  {
   "cell_type": "code",
   "execution_count": 52,
   "id": "42e73a00",
   "metadata": {},
   "outputs": [
    {
     "data": {
      "text/html": [
       "<div>\n",
       "<style scoped>\n",
       "    .dataframe tbody tr th:only-of-type {\n",
       "        vertical-align: middle;\n",
       "    }\n",
       "\n",
       "    .dataframe tbody tr th {\n",
       "        vertical-align: top;\n",
       "    }\n",
       "\n",
       "    .dataframe thead th {\n",
       "        text-align: right;\n",
       "    }\n",
       "</style>\n",
       "<table border=\"1\" class=\"dataframe\">\n",
       "  <thead>\n",
       "    <tr style=\"text-align: right;\">\n",
       "      <th></th>\n",
       "      <th>Species</th>\n",
       "      <th>Length1</th>\n",
       "      <th>Length2</th>\n",
       "      <th>Length3</th>\n",
       "      <th>Height</th>\n",
       "      <th>Width</th>\n",
       "    </tr>\n",
       "  </thead>\n",
       "  <tbody>\n",
       "    <tr>\n",
       "      <th>156</th>\n",
       "      <td>Smelt</td>\n",
       "      <td>12.1</td>\n",
       "      <td>13.0</td>\n",
       "      <td>13.8</td>\n",
       "      <td>2.2770</td>\n",
       "      <td>1.2558</td>\n",
       "    </tr>\n",
       "    <tr>\n",
       "      <th>126</th>\n",
       "      <td>Perch</td>\n",
       "      <td>40.2</td>\n",
       "      <td>43.5</td>\n",
       "      <td>46.0</td>\n",
       "      <td>12.6040</td>\n",
       "      <td>8.1420</td>\n",
       "    </tr>\n",
       "    <tr>\n",
       "      <th>23</th>\n",
       "      <td>Bream</td>\n",
       "      <td>31.8</td>\n",
       "      <td>35.0</td>\n",
       "      <td>40.6</td>\n",
       "      <td>15.4686</td>\n",
       "      <td>6.1306</td>\n",
       "    </tr>\n",
       "    <tr>\n",
       "      <th>75</th>\n",
       "      <td>Perch</td>\n",
       "      <td>15.0</td>\n",
       "      <td>16.2</td>\n",
       "      <td>17.2</td>\n",
       "      <td>4.5924</td>\n",
       "      <td>2.6316</td>\n",
       "    </tr>\n",
       "    <tr>\n",
       "      <th>18</th>\n",
       "      <td>Bream</td>\n",
       "      <td>30.9</td>\n",
       "      <td>33.5</td>\n",
       "      <td>38.6</td>\n",
       "      <td>15.6330</td>\n",
       "      <td>5.1338</td>\n",
       "    </tr>\n",
       "    <tr>\n",
       "      <th>...</th>\n",
       "      <td>...</td>\n",
       "      <td>...</td>\n",
       "      <td>...</td>\n",
       "      <td>...</td>\n",
       "      <td>...</td>\n",
       "      <td>...</td>\n",
       "    </tr>\n",
       "    <tr>\n",
       "      <th>8</th>\n",
       "      <td>Bream</td>\n",
       "      <td>27.6</td>\n",
       "      <td>30.0</td>\n",
       "      <td>35.1</td>\n",
       "      <td>14.0049</td>\n",
       "      <td>4.8438</td>\n",
       "    </tr>\n",
       "    <tr>\n",
       "      <th>15</th>\n",
       "      <td>Bream</td>\n",
       "      <td>29.4</td>\n",
       "      <td>32.0</td>\n",
       "      <td>37.2</td>\n",
       "      <td>15.4380</td>\n",
       "      <td>5.5800</td>\n",
       "    </tr>\n",
       "    <tr>\n",
       "      <th>144</th>\n",
       "      <td>Pike</td>\n",
       "      <td>59.0</td>\n",
       "      <td>63.4</td>\n",
       "      <td>68.0</td>\n",
       "      <td>10.8120</td>\n",
       "      <td>7.4800</td>\n",
       "    </tr>\n",
       "    <tr>\n",
       "      <th>148</th>\n",
       "      <td>Smelt</td>\n",
       "      <td>10.4</td>\n",
       "      <td>11.0</td>\n",
       "      <td>12.0</td>\n",
       "      <td>2.1960</td>\n",
       "      <td>1.3800</td>\n",
       "    </tr>\n",
       "    <tr>\n",
       "      <th>37</th>\n",
       "      <td>Roach</td>\n",
       "      <td>17.5</td>\n",
       "      <td>18.8</td>\n",
       "      <td>21.2</td>\n",
       "      <td>5.5756</td>\n",
       "      <td>2.9044</td>\n",
       "    </tr>\n",
       "  </tbody>\n",
       "</table>\n",
       "<p>126 rows × 6 columns</p>\n",
       "</div>"
      ],
      "text/plain": [
       "    Species  Length1  Length2  Length3   Height   Width\n",
       "156   Smelt     12.1     13.0     13.8   2.2770  1.2558\n",
       "126   Perch     40.2     43.5     46.0  12.6040  8.1420\n",
       "23    Bream     31.8     35.0     40.6  15.4686  6.1306\n",
       "75    Perch     15.0     16.2     17.2   4.5924  2.6316\n",
       "18    Bream     30.9     33.5     38.6  15.6330  5.1338\n",
       "..      ...      ...      ...      ...      ...     ...\n",
       "8     Bream     27.6     30.0     35.1  14.0049  4.8438\n",
       "15    Bream     29.4     32.0     37.2  15.4380  5.5800\n",
       "144    Pike     59.0     63.4     68.0  10.8120  7.4800\n",
       "148   Smelt     10.4     11.0     12.0   2.1960  1.3800\n",
       "37    Roach     17.5     18.8     21.2   5.5756  2.9044\n",
       "\n",
       "[126 rows x 6 columns]"
      ]
     },
     "execution_count": 52,
     "metadata": {},
     "output_type": "execute_result"
    }
   ],
   "source": [
    "X_train"
   ]
  },
  {
   "cell_type": "code",
   "execution_count": 57,
   "id": "5aecce6c",
   "metadata": {},
   "outputs": [],
   "source": [
    "X_train = pd.get_dummies(X_train, prefix=\"\", prefix_sep=\"\")"
   ]
  },
  {
   "cell_type": "code",
   "execution_count": 58,
   "id": "a45caf20",
   "metadata": {},
   "outputs": [
    {
     "data": {
      "text/html": [
       "<div>\n",
       "<style scoped>\n",
       "    .dataframe tbody tr th:only-of-type {\n",
       "        vertical-align: middle;\n",
       "    }\n",
       "\n",
       "    .dataframe tbody tr th {\n",
       "        vertical-align: top;\n",
       "    }\n",
       "\n",
       "    .dataframe thead th {\n",
       "        text-align: right;\n",
       "    }\n",
       "</style>\n",
       "<table border=\"1\" class=\"dataframe\">\n",
       "  <thead>\n",
       "    <tr style=\"text-align: right;\">\n",
       "      <th></th>\n",
       "      <th>Length1</th>\n",
       "      <th>Length2</th>\n",
       "      <th>Length3</th>\n",
       "      <th>Height</th>\n",
       "      <th>Width</th>\n",
       "      <th>Bream</th>\n",
       "      <th>Parkki</th>\n",
       "      <th>Perch</th>\n",
       "      <th>Pike</th>\n",
       "      <th>Roach</th>\n",
       "      <th>Smelt</th>\n",
       "      <th>Whitefish</th>\n",
       "    </tr>\n",
       "  </thead>\n",
       "  <tbody>\n",
       "    <tr>\n",
       "      <th>156</th>\n",
       "      <td>12.1</td>\n",
       "      <td>13.0</td>\n",
       "      <td>13.8</td>\n",
       "      <td>2.2770</td>\n",
       "      <td>1.2558</td>\n",
       "      <td>0</td>\n",
       "      <td>0</td>\n",
       "      <td>0</td>\n",
       "      <td>0</td>\n",
       "      <td>0</td>\n",
       "      <td>1</td>\n",
       "      <td>0</td>\n",
       "    </tr>\n",
       "    <tr>\n",
       "      <th>126</th>\n",
       "      <td>40.2</td>\n",
       "      <td>43.5</td>\n",
       "      <td>46.0</td>\n",
       "      <td>12.6040</td>\n",
       "      <td>8.1420</td>\n",
       "      <td>0</td>\n",
       "      <td>0</td>\n",
       "      <td>1</td>\n",
       "      <td>0</td>\n",
       "      <td>0</td>\n",
       "      <td>0</td>\n",
       "      <td>0</td>\n",
       "    </tr>\n",
       "    <tr>\n",
       "      <th>23</th>\n",
       "      <td>31.8</td>\n",
       "      <td>35.0</td>\n",
       "      <td>40.6</td>\n",
       "      <td>15.4686</td>\n",
       "      <td>6.1306</td>\n",
       "      <td>1</td>\n",
       "      <td>0</td>\n",
       "      <td>0</td>\n",
       "      <td>0</td>\n",
       "      <td>0</td>\n",
       "      <td>0</td>\n",
       "      <td>0</td>\n",
       "    </tr>\n",
       "    <tr>\n",
       "      <th>75</th>\n",
       "      <td>15.0</td>\n",
       "      <td>16.2</td>\n",
       "      <td>17.2</td>\n",
       "      <td>4.5924</td>\n",
       "      <td>2.6316</td>\n",
       "      <td>0</td>\n",
       "      <td>0</td>\n",
       "      <td>1</td>\n",
       "      <td>0</td>\n",
       "      <td>0</td>\n",
       "      <td>0</td>\n",
       "      <td>0</td>\n",
       "    </tr>\n",
       "    <tr>\n",
       "      <th>18</th>\n",
       "      <td>30.9</td>\n",
       "      <td>33.5</td>\n",
       "      <td>38.6</td>\n",
       "      <td>15.6330</td>\n",
       "      <td>5.1338</td>\n",
       "      <td>1</td>\n",
       "      <td>0</td>\n",
       "      <td>0</td>\n",
       "      <td>0</td>\n",
       "      <td>0</td>\n",
       "      <td>0</td>\n",
       "      <td>0</td>\n",
       "    </tr>\n",
       "  </tbody>\n",
       "</table>\n",
       "</div>"
      ],
      "text/plain": [
       "     Length1  Length2  Length3   Height   Width  Bream  Parkki  Perch  Pike  \\\n",
       "156     12.1     13.0     13.8   2.2770  1.2558      0       0      0     0   \n",
       "126     40.2     43.5     46.0  12.6040  8.1420      0       0      1     0   \n",
       "23      31.8     35.0     40.6  15.4686  6.1306      1       0      0     0   \n",
       "75      15.0     16.2     17.2   4.5924  2.6316      0       0      1     0   \n",
       "18      30.9     33.5     38.6  15.6330  5.1338      1       0      0     0   \n",
       "\n",
       "     Roach  Smelt  Whitefish  \n",
       "156      0      1          0  \n",
       "126      0      0          0  \n",
       "23       0      0          0  \n",
       "75       0      0          0  \n",
       "18       0      0          0  "
      ]
     },
     "execution_count": 58,
     "metadata": {},
     "output_type": "execute_result"
    }
   ],
   "source": [
    "X_train.head()"
   ]
  },
  {
   "cell_type": "code",
   "execution_count": 59,
   "id": "7f4fdc05",
   "metadata": {},
   "outputs": [
    {
     "data": {
      "text/plain": [
       "(126, 12)"
      ]
     },
     "execution_count": 59,
     "metadata": {},
     "output_type": "execute_result"
    }
   ],
   "source": [
    "X_train.shape"
   ]
  },
  {
   "cell_type": "code",
   "execution_count": 60,
   "id": "95e06a09",
   "metadata": {},
   "outputs": [],
   "source": [
    "# With scikit-learn\n",
    "from sklearn.preprocessing import OneHotEncoder\n",
    "ohe = OneHotEncoder()"
   ]
  },
  {
   "cell_type": "code",
   "execution_count": 62,
   "id": "abbe3ca4",
   "metadata": {},
   "outputs": [],
   "source": [
    "X_train, X_test, y_train, y_test = train_test_split(X,y)"
   ]
  },
  {
   "cell_type": "code",
   "execution_count": 65,
   "id": "2df54ae7",
   "metadata": {},
   "outputs": [
    {
     "data": {
      "text/plain": [
       "49      Roach\n",
       "6       Bream\n",
       "9       Bream\n",
       "69     Parkki\n",
       "151     Smelt\n",
       "        ...  \n",
       "75      Perch\n",
       "14      Bream\n",
       "156     Smelt\n",
       "18      Bream\n",
       "52      Roach\n",
       "Name: Species, Length: 118, dtype: object"
      ]
     },
     "execution_count": 65,
     "metadata": {},
     "output_type": "execute_result"
    }
   ],
   "source": [
    "X_train[\"Species\"]"
   ]
  },
  {
   "cell_type": "code",
   "execution_count": 64,
   "id": "71b32ce6",
   "metadata": {},
   "outputs": [
    {
     "data": {
      "text/plain": [
       "pandas.core.frame.DataFrame"
      ]
     },
     "execution_count": 64,
     "metadata": {},
     "output_type": "execute_result"
    }
   ],
   "source": [
    "type(X_train[[\"Species\"]])"
   ]
  },
  {
   "cell_type": "code",
   "execution_count": 66,
   "id": "e06974f6",
   "metadata": {},
   "outputs": [
    {
     "data": {
      "text/plain": [
       "OneHotEncoder()"
      ]
     },
     "execution_count": 66,
     "metadata": {},
     "output_type": "execute_result"
    }
   ],
   "source": [
    "ohe.fit(X_train[[\"Species\"]])"
   ]
  },
  {
   "cell_type": "code",
   "execution_count": 67,
   "id": "8ee8489a",
   "metadata": {},
   "outputs": [
    {
     "data": {
      "text/plain": [
       "[array(['Bream', 'Parkki', 'Perch', 'Pike', 'Roach', 'Smelt', 'Whitefish'],\n",
       "       dtype=object)]"
      ]
     },
     "execution_count": 67,
     "metadata": {},
     "output_type": "execute_result"
    }
   ],
   "source": [
    "ohe.categories_"
   ]
  },
  {
   "cell_type": "code",
   "execution_count": 68,
   "id": "905c7942",
   "metadata": {},
   "outputs": [],
   "source": [
    "encoded_species_train = ohe.transform(X_train[[\"Species\"]])"
   ]
  },
  {
   "cell_type": "code",
   "execution_count": 69,
   "id": "05b5b87f",
   "metadata": {},
   "outputs": [
    {
     "data": {
      "text/plain": [
       "<118x7 sparse matrix of type '<class 'numpy.float64'>'\n",
       "\twith 118 stored elements in Compressed Sparse Row format>"
      ]
     },
     "execution_count": 69,
     "metadata": {},
     "output_type": "execute_result"
    }
   ],
   "source": [
    "encoded_species_train"
   ]
  },
  {
   "cell_type": "code",
   "execution_count": 71,
   "id": "e851cb0b",
   "metadata": {},
   "outputs": [
    {
     "data": {
      "text/html": [
       "<div>\n",
       "<style scoped>\n",
       "    .dataframe tbody tr th:only-of-type {\n",
       "        vertical-align: middle;\n",
       "    }\n",
       "\n",
       "    .dataframe tbody tr th {\n",
       "        vertical-align: top;\n",
       "    }\n",
       "\n",
       "    .dataframe thead th {\n",
       "        text-align: right;\n",
       "    }\n",
       "</style>\n",
       "<table border=\"1\" class=\"dataframe\">\n",
       "  <thead>\n",
       "    <tr style=\"text-align: right;\">\n",
       "      <th></th>\n",
       "      <th>Species</th>\n",
       "      <th>Length1</th>\n",
       "      <th>Length2</th>\n",
       "      <th>Length3</th>\n",
       "      <th>Height</th>\n",
       "      <th>Width</th>\n",
       "    </tr>\n",
       "  </thead>\n",
       "  <tbody>\n",
       "    <tr>\n",
       "      <th>49</th>\n",
       "      <td>Roach</td>\n",
       "      <td>22.0</td>\n",
       "      <td>23.4</td>\n",
       "      <td>26.7</td>\n",
       "      <td>6.9153</td>\n",
       "      <td>3.6312</td>\n",
       "    </tr>\n",
       "    <tr>\n",
       "      <th>6</th>\n",
       "      <td>Bream</td>\n",
       "      <td>26.8</td>\n",
       "      <td>29.7</td>\n",
       "      <td>34.5</td>\n",
       "      <td>14.1795</td>\n",
       "      <td>5.2785</td>\n",
       "    </tr>\n",
       "    <tr>\n",
       "      <th>9</th>\n",
       "      <td>Bream</td>\n",
       "      <td>28.5</td>\n",
       "      <td>30.7</td>\n",
       "      <td>36.2</td>\n",
       "      <td>14.2266</td>\n",
       "      <td>4.9594</td>\n",
       "    </tr>\n",
       "    <tr>\n",
       "      <th>69</th>\n",
       "      <td>Parkki</td>\n",
       "      <td>21.2</td>\n",
       "      <td>23.0</td>\n",
       "      <td>25.8</td>\n",
       "      <td>10.3458</td>\n",
       "      <td>3.6636</td>\n",
       "    </tr>\n",
       "    <tr>\n",
       "      <th>151</th>\n",
       "      <td>Smelt</td>\n",
       "      <td>11.3</td>\n",
       "      <td>11.8</td>\n",
       "      <td>13.1</td>\n",
       "      <td>2.2139</td>\n",
       "      <td>1.2838</td>\n",
       "    </tr>\n",
       "    <tr>\n",
       "      <th>...</th>\n",
       "      <td>...</td>\n",
       "      <td>...</td>\n",
       "      <td>...</td>\n",
       "      <td>...</td>\n",
       "      <td>...</td>\n",
       "      <td>...</td>\n",
       "    </tr>\n",
       "    <tr>\n",
       "      <th>75</th>\n",
       "      <td>Perch</td>\n",
       "      <td>15.0</td>\n",
       "      <td>16.2</td>\n",
       "      <td>17.2</td>\n",
       "      <td>4.5924</td>\n",
       "      <td>2.6316</td>\n",
       "    </tr>\n",
       "    <tr>\n",
       "      <th>14</th>\n",
       "      <td>Bream</td>\n",
       "      <td>29.4</td>\n",
       "      <td>32.0</td>\n",
       "      <td>37.2</td>\n",
       "      <td>14.9544</td>\n",
       "      <td>5.1708</td>\n",
       "    </tr>\n",
       "    <tr>\n",
       "      <th>156</th>\n",
       "      <td>Smelt</td>\n",
       "      <td>12.1</td>\n",
       "      <td>13.0</td>\n",
       "      <td>13.8</td>\n",
       "      <td>2.2770</td>\n",
       "      <td>1.2558</td>\n",
       "    </tr>\n",
       "    <tr>\n",
       "      <th>18</th>\n",
       "      <td>Bream</td>\n",
       "      <td>30.9</td>\n",
       "      <td>33.5</td>\n",
       "      <td>38.6</td>\n",
       "      <td>15.6330</td>\n",
       "      <td>5.1338</td>\n",
       "    </tr>\n",
       "    <tr>\n",
       "      <th>52</th>\n",
       "      <td>Roach</td>\n",
       "      <td>24.0</td>\n",
       "      <td>26.0</td>\n",
       "      <td>29.2</td>\n",
       "      <td>8.8768</td>\n",
       "      <td>4.4968</td>\n",
       "    </tr>\n",
       "  </tbody>\n",
       "</table>\n",
       "<p>118 rows × 6 columns</p>\n",
       "</div>"
      ],
      "text/plain": [
       "    Species  Length1  Length2  Length3   Height   Width\n",
       "49    Roach     22.0     23.4     26.7   6.9153  3.6312\n",
       "6     Bream     26.8     29.7     34.5  14.1795  5.2785\n",
       "9     Bream     28.5     30.7     36.2  14.2266  4.9594\n",
       "69   Parkki     21.2     23.0     25.8  10.3458  3.6636\n",
       "151   Smelt     11.3     11.8     13.1   2.2139  1.2838\n",
       "..      ...      ...      ...      ...      ...     ...\n",
       "75    Perch     15.0     16.2     17.2   4.5924  2.6316\n",
       "14    Bream     29.4     32.0     37.2  14.9544  5.1708\n",
       "156   Smelt     12.1     13.0     13.8   2.2770  1.2558\n",
       "18    Bream     30.9     33.5     38.6  15.6330  5.1338\n",
       "52    Roach     24.0     26.0     29.2   8.8768  4.4968\n",
       "\n",
       "[118 rows x 6 columns]"
      ]
     },
     "execution_count": 71,
     "metadata": {},
     "output_type": "execute_result"
    }
   ],
   "source": [
    "X_train"
   ]
  },
  {
   "cell_type": "code",
   "execution_count": 70,
   "id": "972b43d3",
   "metadata": {},
   "outputs": [
    {
     "data": {
      "text/plain": [
       "matrix([[0., 0., 0., 0., 1., 0., 0.],\n",
       "        [1., 0., 0., 0., 0., 0., 0.],\n",
       "        [1., 0., 0., 0., 0., 0., 0.],\n",
       "        [0., 1., 0., 0., 0., 0., 0.],\n",
       "        [0., 0., 0., 0., 0., 1., 0.],\n",
       "        [0., 0., 1., 0., 0., 0., 0.],\n",
       "        [0., 0., 0., 1., 0., 0., 0.],\n",
       "        [0., 1., 0., 0., 0., 0., 0.],\n",
       "        [0., 0., 1., 0., 0., 0., 0.],\n",
       "        [0., 0., 1., 0., 0., 0., 0.]])"
      ]
     },
     "execution_count": 70,
     "metadata": {},
     "output_type": "execute_result"
    }
   ],
   "source": [
    "encoded_species_train.todense()[:10]"
   ]
  },
  {
   "cell_type": "code",
   "execution_count": 72,
   "id": "9c02523a",
   "metadata": {},
   "outputs": [
    {
     "data": {
      "text/html": [
       "<div>\n",
       "<style scoped>\n",
       "    .dataframe tbody tr th:only-of-type {\n",
       "        vertical-align: middle;\n",
       "    }\n",
       "\n",
       "    .dataframe tbody tr th {\n",
       "        vertical-align: top;\n",
       "    }\n",
       "\n",
       "    .dataframe thead th {\n",
       "        text-align: right;\n",
       "    }\n",
       "</style>\n",
       "<table border=\"1\" class=\"dataframe\">\n",
       "  <thead>\n",
       "    <tr style=\"text-align: right;\">\n",
       "      <th></th>\n",
       "      <th>Species</th>\n",
       "      <th>Length1</th>\n",
       "      <th>Length2</th>\n",
       "      <th>Length3</th>\n",
       "      <th>Height</th>\n",
       "      <th>Width</th>\n",
       "      <th>0</th>\n",
       "      <th>1</th>\n",
       "      <th>2</th>\n",
       "      <th>3</th>\n",
       "      <th>4</th>\n",
       "      <th>5</th>\n",
       "      <th>6</th>\n",
       "    </tr>\n",
       "  </thead>\n",
       "  <tbody>\n",
       "    <tr>\n",
       "      <th>49</th>\n",
       "      <td>Roach</td>\n",
       "      <td>22.0</td>\n",
       "      <td>23.4</td>\n",
       "      <td>26.7</td>\n",
       "      <td>6.9153</td>\n",
       "      <td>3.6312</td>\n",
       "      <td>0.0</td>\n",
       "      <td>0.0</td>\n",
       "      <td>0.0</td>\n",
       "      <td>0.0</td>\n",
       "      <td>1.0</td>\n",
       "      <td>0.0</td>\n",
       "      <td>0.0</td>\n",
       "    </tr>\n",
       "    <tr>\n",
       "      <th>6</th>\n",
       "      <td>Bream</td>\n",
       "      <td>26.8</td>\n",
       "      <td>29.7</td>\n",
       "      <td>34.5</td>\n",
       "      <td>14.1795</td>\n",
       "      <td>5.2785</td>\n",
       "      <td>1.0</td>\n",
       "      <td>0.0</td>\n",
       "      <td>0.0</td>\n",
       "      <td>0.0</td>\n",
       "      <td>0.0</td>\n",
       "      <td>0.0</td>\n",
       "      <td>0.0</td>\n",
       "    </tr>\n",
       "    <tr>\n",
       "      <th>9</th>\n",
       "      <td>Bream</td>\n",
       "      <td>28.5</td>\n",
       "      <td>30.7</td>\n",
       "      <td>36.2</td>\n",
       "      <td>14.2266</td>\n",
       "      <td>4.9594</td>\n",
       "      <td>1.0</td>\n",
       "      <td>0.0</td>\n",
       "      <td>0.0</td>\n",
       "      <td>0.0</td>\n",
       "      <td>0.0</td>\n",
       "      <td>0.0</td>\n",
       "      <td>0.0</td>\n",
       "    </tr>\n",
       "    <tr>\n",
       "      <th>69</th>\n",
       "      <td>Parkki</td>\n",
       "      <td>21.2</td>\n",
       "      <td>23.0</td>\n",
       "      <td>25.8</td>\n",
       "      <td>10.3458</td>\n",
       "      <td>3.6636</td>\n",
       "      <td>0.0</td>\n",
       "      <td>1.0</td>\n",
       "      <td>0.0</td>\n",
       "      <td>0.0</td>\n",
       "      <td>0.0</td>\n",
       "      <td>0.0</td>\n",
       "      <td>0.0</td>\n",
       "    </tr>\n",
       "    <tr>\n",
       "      <th>151</th>\n",
       "      <td>Smelt</td>\n",
       "      <td>11.3</td>\n",
       "      <td>11.8</td>\n",
       "      <td>13.1</td>\n",
       "      <td>2.2139</td>\n",
       "      <td>1.2838</td>\n",
       "      <td>0.0</td>\n",
       "      <td>0.0</td>\n",
       "      <td>0.0</td>\n",
       "      <td>0.0</td>\n",
       "      <td>0.0</td>\n",
       "      <td>1.0</td>\n",
       "      <td>0.0</td>\n",
       "    </tr>\n",
       "    <tr>\n",
       "      <th>...</th>\n",
       "      <td>...</td>\n",
       "      <td>...</td>\n",
       "      <td>...</td>\n",
       "      <td>...</td>\n",
       "      <td>...</td>\n",
       "      <td>...</td>\n",
       "      <td>...</td>\n",
       "      <td>...</td>\n",
       "      <td>...</td>\n",
       "      <td>...</td>\n",
       "      <td>...</td>\n",
       "      <td>...</td>\n",
       "      <td>...</td>\n",
       "    </tr>\n",
       "    <tr>\n",
       "      <th>75</th>\n",
       "      <td>Perch</td>\n",
       "      <td>15.0</td>\n",
       "      <td>16.2</td>\n",
       "      <td>17.2</td>\n",
       "      <td>4.5924</td>\n",
       "      <td>2.6316</td>\n",
       "      <td>0.0</td>\n",
       "      <td>0.0</td>\n",
       "      <td>1.0</td>\n",
       "      <td>0.0</td>\n",
       "      <td>0.0</td>\n",
       "      <td>0.0</td>\n",
       "      <td>0.0</td>\n",
       "    </tr>\n",
       "    <tr>\n",
       "      <th>14</th>\n",
       "      <td>Bream</td>\n",
       "      <td>29.4</td>\n",
       "      <td>32.0</td>\n",
       "      <td>37.2</td>\n",
       "      <td>14.9544</td>\n",
       "      <td>5.1708</td>\n",
       "      <td>1.0</td>\n",
       "      <td>0.0</td>\n",
       "      <td>0.0</td>\n",
       "      <td>0.0</td>\n",
       "      <td>0.0</td>\n",
       "      <td>0.0</td>\n",
       "      <td>0.0</td>\n",
       "    </tr>\n",
       "    <tr>\n",
       "      <th>156</th>\n",
       "      <td>Smelt</td>\n",
       "      <td>12.1</td>\n",
       "      <td>13.0</td>\n",
       "      <td>13.8</td>\n",
       "      <td>2.2770</td>\n",
       "      <td>1.2558</td>\n",
       "      <td>0.0</td>\n",
       "      <td>0.0</td>\n",
       "      <td>0.0</td>\n",
       "      <td>0.0</td>\n",
       "      <td>0.0</td>\n",
       "      <td>1.0</td>\n",
       "      <td>0.0</td>\n",
       "    </tr>\n",
       "    <tr>\n",
       "      <th>18</th>\n",
       "      <td>Bream</td>\n",
       "      <td>30.9</td>\n",
       "      <td>33.5</td>\n",
       "      <td>38.6</td>\n",
       "      <td>15.6330</td>\n",
       "      <td>5.1338</td>\n",
       "      <td>1.0</td>\n",
       "      <td>0.0</td>\n",
       "      <td>0.0</td>\n",
       "      <td>0.0</td>\n",
       "      <td>0.0</td>\n",
       "      <td>0.0</td>\n",
       "      <td>0.0</td>\n",
       "    </tr>\n",
       "    <tr>\n",
       "      <th>52</th>\n",
       "      <td>Roach</td>\n",
       "      <td>24.0</td>\n",
       "      <td>26.0</td>\n",
       "      <td>29.2</td>\n",
       "      <td>8.8768</td>\n",
       "      <td>4.4968</td>\n",
       "      <td>0.0</td>\n",
       "      <td>0.0</td>\n",
       "      <td>0.0</td>\n",
       "      <td>0.0</td>\n",
       "      <td>1.0</td>\n",
       "      <td>0.0</td>\n",
       "      <td>0.0</td>\n",
       "    </tr>\n",
       "  </tbody>\n",
       "</table>\n",
       "<p>118 rows × 13 columns</p>\n",
       "</div>"
      ],
      "text/plain": [
       "    Species  Length1  Length2  Length3   Height   Width    0    1    2    3  \\\n",
       "49    Roach     22.0     23.4     26.7   6.9153  3.6312  0.0  0.0  0.0  0.0   \n",
       "6     Bream     26.8     29.7     34.5  14.1795  5.2785  1.0  0.0  0.0  0.0   \n",
       "9     Bream     28.5     30.7     36.2  14.2266  4.9594  1.0  0.0  0.0  0.0   \n",
       "69   Parkki     21.2     23.0     25.8  10.3458  3.6636  0.0  1.0  0.0  0.0   \n",
       "151   Smelt     11.3     11.8     13.1   2.2139  1.2838  0.0  0.0  0.0  0.0   \n",
       "..      ...      ...      ...      ...      ...     ...  ...  ...  ...  ...   \n",
       "75    Perch     15.0     16.2     17.2   4.5924  2.6316  0.0  0.0  1.0  0.0   \n",
       "14    Bream     29.4     32.0     37.2  14.9544  5.1708  1.0  0.0  0.0  0.0   \n",
       "156   Smelt     12.1     13.0     13.8   2.2770  1.2558  0.0  0.0  0.0  0.0   \n",
       "18    Bream     30.9     33.5     38.6  15.6330  5.1338  1.0  0.0  0.0  0.0   \n",
       "52    Roach     24.0     26.0     29.2   8.8768  4.4968  0.0  0.0  0.0  0.0   \n",
       "\n",
       "       4    5    6  \n",
       "49   1.0  0.0  0.0  \n",
       "6    0.0  0.0  0.0  \n",
       "9    0.0  0.0  0.0  \n",
       "69   0.0  0.0  0.0  \n",
       "151  0.0  1.0  0.0  \n",
       "..   ...  ...  ...  \n",
       "75   0.0  0.0  0.0  \n",
       "14   0.0  0.0  0.0  \n",
       "156  0.0  1.0  0.0  \n",
       "18   0.0  0.0  0.0  \n",
       "52   1.0  0.0  0.0  \n",
       "\n",
       "[118 rows x 13 columns]"
      ]
     },
     "execution_count": 72,
     "metadata": {},
     "output_type": "execute_result"
    }
   ],
   "source": [
    "encoded_species_train = pd.DataFrame(encoded_species_train.todense(), index=X_train.index)\n",
    "pd.concat([X_train, encoded_species_train], axis=1)"
   ]
  },
  {
   "cell_type": "code",
   "execution_count": 73,
   "id": "fe95efda",
   "metadata": {},
   "outputs": [
    {
     "data": {
      "text/html": [
       "<div>\n",
       "<style scoped>\n",
       "    .dataframe tbody tr th:only-of-type {\n",
       "        vertical-align: middle;\n",
       "    }\n",
       "\n",
       "    .dataframe tbody tr th {\n",
       "        vertical-align: top;\n",
       "    }\n",
       "\n",
       "    .dataframe thead th {\n",
       "        text-align: right;\n",
       "    }\n",
       "</style>\n",
       "<table border=\"1\" class=\"dataframe\">\n",
       "  <thead>\n",
       "    <tr style=\"text-align: right;\">\n",
       "      <th></th>\n",
       "      <th>Species</th>\n",
       "      <th>Length1</th>\n",
       "      <th>Length2</th>\n",
       "      <th>Length3</th>\n",
       "      <th>Height</th>\n",
       "      <th>Width</th>\n",
       "      <th>0</th>\n",
       "      <th>1</th>\n",
       "      <th>2</th>\n",
       "      <th>3</th>\n",
       "      <th>4</th>\n",
       "      <th>5</th>\n",
       "      <th>6</th>\n",
       "    </tr>\n",
       "  </thead>\n",
       "  <tbody>\n",
       "    <tr>\n",
       "      <th>103</th>\n",
       "      <td>Perch</td>\n",
       "      <td>25.4</td>\n",
       "      <td>27.5</td>\n",
       "      <td>28.9</td>\n",
       "      <td>7.1672</td>\n",
       "      <td>4.3350</td>\n",
       "      <td>0.0</td>\n",
       "      <td>0.0</td>\n",
       "      <td>1.0</td>\n",
       "      <td>0.0</td>\n",
       "      <td>0.0</td>\n",
       "      <td>0.0</td>\n",
       "      <td>0.0</td>\n",
       "    </tr>\n",
       "    <tr>\n",
       "      <th>71</th>\n",
       "      <td>Parkki</td>\n",
       "      <td>24.0</td>\n",
       "      <td>26.0</td>\n",
       "      <td>29.0</td>\n",
       "      <td>11.3680</td>\n",
       "      <td>4.2340</td>\n",
       "      <td>0.0</td>\n",
       "      <td>1.0</td>\n",
       "      <td>0.0</td>\n",
       "      <td>0.0</td>\n",
       "      <td>0.0</td>\n",
       "      <td>0.0</td>\n",
       "      <td>0.0</td>\n",
       "    </tr>\n",
       "    <tr>\n",
       "      <th>60</th>\n",
       "      <td>Whitefish</td>\n",
       "      <td>37.3</td>\n",
       "      <td>40.0</td>\n",
       "      <td>43.5</td>\n",
       "      <td>12.3540</td>\n",
       "      <td>6.5250</td>\n",
       "      <td>0.0</td>\n",
       "      <td>0.0</td>\n",
       "      <td>0.0</td>\n",
       "      <td>0.0</td>\n",
       "      <td>0.0</td>\n",
       "      <td>0.0</td>\n",
       "      <td>1.0</td>\n",
       "    </tr>\n",
       "    <tr>\n",
       "      <th>11</th>\n",
       "      <td>Bream</td>\n",
       "      <td>28.7</td>\n",
       "      <td>31.0</td>\n",
       "      <td>36.2</td>\n",
       "      <td>14.3714</td>\n",
       "      <td>4.8146</td>\n",
       "      <td>1.0</td>\n",
       "      <td>0.0</td>\n",
       "      <td>0.0</td>\n",
       "      <td>0.0</td>\n",
       "      <td>0.0</td>\n",
       "      <td>0.0</td>\n",
       "      <td>0.0</td>\n",
       "    </tr>\n",
       "    <tr>\n",
       "      <th>132</th>\n",
       "      <td>Pike</td>\n",
       "      <td>35.5</td>\n",
       "      <td>38.0</td>\n",
       "      <td>40.5</td>\n",
       "      <td>7.2900</td>\n",
       "      <td>4.5765</td>\n",
       "      <td>0.0</td>\n",
       "      <td>0.0</td>\n",
       "      <td>0.0</td>\n",
       "      <td>1.0</td>\n",
       "      <td>0.0</td>\n",
       "      <td>0.0</td>\n",
       "      <td>0.0</td>\n",
       "    </tr>\n",
       "  </tbody>\n",
       "</table>\n",
       "</div>"
      ],
      "text/plain": [
       "       Species  Length1  Length2  Length3   Height   Width    0    1    2  \\\n",
       "103      Perch     25.4     27.5     28.9   7.1672  4.3350  0.0  0.0  1.0   \n",
       "71      Parkki     24.0     26.0     29.0  11.3680  4.2340  0.0  1.0  0.0   \n",
       "60   Whitefish     37.3     40.0     43.5  12.3540  6.5250  0.0  0.0  0.0   \n",
       "11       Bream     28.7     31.0     36.2  14.3714  4.8146  1.0  0.0  0.0   \n",
       "132       Pike     35.5     38.0     40.5   7.2900  4.5765  0.0  0.0  0.0   \n",
       "\n",
       "       3    4    5    6  \n",
       "103  0.0  0.0  0.0  0.0  \n",
       "71   0.0  0.0  0.0  0.0  \n",
       "60   0.0  0.0  0.0  1.0  \n",
       "11   0.0  0.0  0.0  0.0  \n",
       "132  1.0  0.0  0.0  0.0  "
      ]
     },
     "execution_count": 73,
     "metadata": {},
     "output_type": "execute_result"
    }
   ],
   "source": [
    "species_ohe_test = ohe.transform(X_test[[\"Species\"]]).todense()\n",
    "species_ohe_test = pd.DataFrame(species_ohe_test, index=X_test.index)\n",
    "pd.concat([X_test, species_ohe_test], axis=1).head()"
   ]
  },
  {
   "cell_type": "code",
   "execution_count": 74,
   "id": "50ce84f7",
   "metadata": {},
   "outputs": [
    {
     "data": {
      "text/html": [
       "<div>\n",
       "<style scoped>\n",
       "    .dataframe tbody tr th:only-of-type {\n",
       "        vertical-align: middle;\n",
       "    }\n",
       "\n",
       "    .dataframe tbody tr th {\n",
       "        vertical-align: top;\n",
       "    }\n",
       "\n",
       "    .dataframe thead th {\n",
       "        text-align: right;\n",
       "    }\n",
       "</style>\n",
       "<table border=\"1\" class=\"dataframe\">\n",
       "  <thead>\n",
       "    <tr style=\"text-align: right;\">\n",
       "      <th></th>\n",
       "      <th>Length1</th>\n",
       "      <th>Length2</th>\n",
       "      <th>Length3</th>\n",
       "      <th>Height</th>\n",
       "      <th>Width</th>\n",
       "      <th>Species_Bream</th>\n",
       "      <th>Species_Parkki</th>\n",
       "      <th>Species_Perch</th>\n",
       "      <th>Species_Pike</th>\n",
       "      <th>Species_Whitefish</th>\n",
       "    </tr>\n",
       "  </thead>\n",
       "  <tbody>\n",
       "    <tr>\n",
       "      <th>103</th>\n",
       "      <td>25.4</td>\n",
       "      <td>27.5</td>\n",
       "      <td>28.9</td>\n",
       "      <td>7.1672</td>\n",
       "      <td>4.3350</td>\n",
       "      <td>0</td>\n",
       "      <td>0</td>\n",
       "      <td>1</td>\n",
       "      <td>0</td>\n",
       "      <td>0</td>\n",
       "    </tr>\n",
       "    <tr>\n",
       "      <th>71</th>\n",
       "      <td>24.0</td>\n",
       "      <td>26.0</td>\n",
       "      <td>29.0</td>\n",
       "      <td>11.3680</td>\n",
       "      <td>4.2340</td>\n",
       "      <td>0</td>\n",
       "      <td>1</td>\n",
       "      <td>0</td>\n",
       "      <td>0</td>\n",
       "      <td>0</td>\n",
       "    </tr>\n",
       "    <tr>\n",
       "      <th>60</th>\n",
       "      <td>37.3</td>\n",
       "      <td>40.0</td>\n",
       "      <td>43.5</td>\n",
       "      <td>12.3540</td>\n",
       "      <td>6.5250</td>\n",
       "      <td>0</td>\n",
       "      <td>0</td>\n",
       "      <td>0</td>\n",
       "      <td>0</td>\n",
       "      <td>1</td>\n",
       "    </tr>\n",
       "    <tr>\n",
       "      <th>11</th>\n",
       "      <td>28.7</td>\n",
       "      <td>31.0</td>\n",
       "      <td>36.2</td>\n",
       "      <td>14.3714</td>\n",
       "      <td>4.8146</td>\n",
       "      <td>1</td>\n",
       "      <td>0</td>\n",
       "      <td>0</td>\n",
       "      <td>0</td>\n",
       "      <td>0</td>\n",
       "    </tr>\n",
       "    <tr>\n",
       "      <th>132</th>\n",
       "      <td>35.5</td>\n",
       "      <td>38.0</td>\n",
       "      <td>40.5</td>\n",
       "      <td>7.2900</td>\n",
       "      <td>4.5765</td>\n",
       "      <td>0</td>\n",
       "      <td>0</td>\n",
       "      <td>0</td>\n",
       "      <td>1</td>\n",
       "      <td>0</td>\n",
       "    </tr>\n",
       "  </tbody>\n",
       "</table>\n",
       "</div>"
      ],
      "text/plain": [
       "     Length1  Length2  Length3   Height   Width  Species_Bream  \\\n",
       "103     25.4     27.5     28.9   7.1672  4.3350              0   \n",
       "71      24.0     26.0     29.0  11.3680  4.2340              0   \n",
       "60      37.3     40.0     43.5  12.3540  6.5250              0   \n",
       "11      28.7     31.0     36.2  14.3714  4.8146              1   \n",
       "132     35.5     38.0     40.5   7.2900  4.5765              0   \n",
       "\n",
       "     Species_Parkki  Species_Perch  Species_Pike  Species_Whitefish  \n",
       "103               0              1             0                  0  \n",
       "71                1              0             0                  0  \n",
       "60                0              0             0                  1  \n",
       "11                0              0             0                  0  \n",
       "132               0              0             1                  0  "
      ]
     },
     "execution_count": 74,
     "metadata": {},
     "output_type": "execute_result"
    }
   ],
   "source": [
    "pd.get_dummies(X_test.iloc[:5])"
   ]
  },
  {
   "cell_type": "code",
   "execution_count": 75,
   "id": "764cba0f",
   "metadata": {},
   "outputs": [
    {
     "data": {
      "text/plain": [
       "matrix([[0., 0., 1., 0., 0., 0., 0.],\n",
       "        [0., 1., 0., 0., 0., 0., 0.],\n",
       "        [0., 0., 0., 0., 0., 0., 1.],\n",
       "        [1., 0., 0., 0., 0., 0., 0.],\n",
       "        [0., 0., 0., 1., 0., 0., 0.]])"
      ]
     },
     "execution_count": 75,
     "metadata": {},
     "output_type": "execute_result"
    }
   ],
   "source": [
    "ohe.transform(X_test.iloc[:5][[\"Species\"]]).todense()"
   ]
  },
  {
   "cell_type": "code",
   "execution_count": 76,
   "id": "eb351f03",
   "metadata": {},
   "outputs": [],
   "source": [
    "species = X_test.iloc[:5][\"Species\"]\n",
    "cat = ['Bream', 'Parkki', 'Perch', 'Pike', 'Roach', 'Smelt', 'Whitefish']\n",
    "species = species.astype(pd.CategoricalDtype(categories=cat))"
   ]
  },
  {
   "cell_type": "code",
   "execution_count": 77,
   "id": "7ba9e90d",
   "metadata": {},
   "outputs": [
    {
     "data": {
      "text/html": [
       "<div>\n",
       "<style scoped>\n",
       "    .dataframe tbody tr th:only-of-type {\n",
       "        vertical-align: middle;\n",
       "    }\n",
       "\n",
       "    .dataframe tbody tr th {\n",
       "        vertical-align: top;\n",
       "    }\n",
       "\n",
       "    .dataframe thead th {\n",
       "        text-align: right;\n",
       "    }\n",
       "</style>\n",
       "<table border=\"1\" class=\"dataframe\">\n",
       "  <thead>\n",
       "    <tr style=\"text-align: right;\">\n",
       "      <th></th>\n",
       "      <th>Bream</th>\n",
       "      <th>Parkki</th>\n",
       "      <th>Perch</th>\n",
       "      <th>Pike</th>\n",
       "      <th>Roach</th>\n",
       "      <th>Smelt</th>\n",
       "      <th>Whitefish</th>\n",
       "    </tr>\n",
       "  </thead>\n",
       "  <tbody>\n",
       "    <tr>\n",
       "      <th>103</th>\n",
       "      <td>0</td>\n",
       "      <td>0</td>\n",
       "      <td>1</td>\n",
       "      <td>0</td>\n",
       "      <td>0</td>\n",
       "      <td>0</td>\n",
       "      <td>0</td>\n",
       "    </tr>\n",
       "    <tr>\n",
       "      <th>71</th>\n",
       "      <td>0</td>\n",
       "      <td>1</td>\n",
       "      <td>0</td>\n",
       "      <td>0</td>\n",
       "      <td>0</td>\n",
       "      <td>0</td>\n",
       "      <td>0</td>\n",
       "    </tr>\n",
       "    <tr>\n",
       "      <th>60</th>\n",
       "      <td>0</td>\n",
       "      <td>0</td>\n",
       "      <td>0</td>\n",
       "      <td>0</td>\n",
       "      <td>0</td>\n",
       "      <td>0</td>\n",
       "      <td>1</td>\n",
       "    </tr>\n",
       "    <tr>\n",
       "      <th>11</th>\n",
       "      <td>1</td>\n",
       "      <td>0</td>\n",
       "      <td>0</td>\n",
       "      <td>0</td>\n",
       "      <td>0</td>\n",
       "      <td>0</td>\n",
       "      <td>0</td>\n",
       "    </tr>\n",
       "    <tr>\n",
       "      <th>132</th>\n",
       "      <td>0</td>\n",
       "      <td>0</td>\n",
       "      <td>0</td>\n",
       "      <td>1</td>\n",
       "      <td>0</td>\n",
       "      <td>0</td>\n",
       "      <td>0</td>\n",
       "    </tr>\n",
       "  </tbody>\n",
       "</table>\n",
       "</div>"
      ],
      "text/plain": [
       "     Bream  Parkki  Perch  Pike  Roach  Smelt  Whitefish\n",
       "103      0       0      1     0      0      0          0\n",
       "71       0       1      0     0      0      0          0\n",
       "60       0       0      0     0      0      0          1\n",
       "11       1       0      0     0      0      0          0\n",
       "132      0       0      0     1      0      0          0"
      ]
     },
     "execution_count": 77,
     "metadata": {},
     "output_type": "execute_result"
    }
   ],
   "source": [
    "pd.get_dummies(species)"
   ]
  },
  {
   "cell_type": "markdown",
   "id": "15467dc2",
   "metadata": {},
   "source": [
    "### Important! <a class=\"tocSkip\">\n",
    "    \n",
    "Como en el encoder anterior, con el OneHotEncoder también es importante utilizar la misma instancia del encoder.\n",
    "\n",
    "Seguiremos el ejemplo, utilizando `pd.get_dummies`."
   ]
  },
  {
   "cell_type": "code",
   "execution_count": 78,
   "id": "a87ad53a",
   "metadata": {},
   "outputs": [],
   "source": [
    "X_dummies = pd.get_dummies(X, columns=[\"Species\"])"
   ]
  },
  {
   "cell_type": "code",
   "execution_count": 79,
   "id": "b3f693e4-ab05-453b-babc-8498046d2003",
   "metadata": {},
   "outputs": [
    {
     "data": {
      "text/html": [
       "<div>\n",
       "<style scoped>\n",
       "    .dataframe tbody tr th:only-of-type {\n",
       "        vertical-align: middle;\n",
       "    }\n",
       "\n",
       "    .dataframe tbody tr th {\n",
       "        vertical-align: top;\n",
       "    }\n",
       "\n",
       "    .dataframe thead th {\n",
       "        text-align: right;\n",
       "    }\n",
       "</style>\n",
       "<table border=\"1\" class=\"dataframe\">\n",
       "  <thead>\n",
       "    <tr style=\"text-align: right;\">\n",
       "      <th></th>\n",
       "      <th>Length1</th>\n",
       "      <th>Length2</th>\n",
       "      <th>Length3</th>\n",
       "      <th>Height</th>\n",
       "      <th>Width</th>\n",
       "      <th>Species_Bream</th>\n",
       "      <th>Species_Parkki</th>\n",
       "      <th>Species_Perch</th>\n",
       "      <th>Species_Pike</th>\n",
       "      <th>Species_Roach</th>\n",
       "      <th>Species_Smelt</th>\n",
       "      <th>Species_Whitefish</th>\n",
       "    </tr>\n",
       "  </thead>\n",
       "  <tbody>\n",
       "    <tr>\n",
       "      <th>0</th>\n",
       "      <td>23.2</td>\n",
       "      <td>25.4</td>\n",
       "      <td>30.0</td>\n",
       "      <td>11.5200</td>\n",
       "      <td>4.0200</td>\n",
       "      <td>1</td>\n",
       "      <td>0</td>\n",
       "      <td>0</td>\n",
       "      <td>0</td>\n",
       "      <td>0</td>\n",
       "      <td>0</td>\n",
       "      <td>0</td>\n",
       "    </tr>\n",
       "    <tr>\n",
       "      <th>1</th>\n",
       "      <td>24.0</td>\n",
       "      <td>26.3</td>\n",
       "      <td>31.2</td>\n",
       "      <td>12.4800</td>\n",
       "      <td>4.3056</td>\n",
       "      <td>1</td>\n",
       "      <td>0</td>\n",
       "      <td>0</td>\n",
       "      <td>0</td>\n",
       "      <td>0</td>\n",
       "      <td>0</td>\n",
       "      <td>0</td>\n",
       "    </tr>\n",
       "    <tr>\n",
       "      <th>2</th>\n",
       "      <td>23.9</td>\n",
       "      <td>26.5</td>\n",
       "      <td>31.1</td>\n",
       "      <td>12.3778</td>\n",
       "      <td>4.6961</td>\n",
       "      <td>1</td>\n",
       "      <td>0</td>\n",
       "      <td>0</td>\n",
       "      <td>0</td>\n",
       "      <td>0</td>\n",
       "      <td>0</td>\n",
       "      <td>0</td>\n",
       "    </tr>\n",
       "    <tr>\n",
       "      <th>3</th>\n",
       "      <td>26.3</td>\n",
       "      <td>29.0</td>\n",
       "      <td>33.5</td>\n",
       "      <td>12.7300</td>\n",
       "      <td>4.4555</td>\n",
       "      <td>1</td>\n",
       "      <td>0</td>\n",
       "      <td>0</td>\n",
       "      <td>0</td>\n",
       "      <td>0</td>\n",
       "      <td>0</td>\n",
       "      <td>0</td>\n",
       "    </tr>\n",
       "    <tr>\n",
       "      <th>4</th>\n",
       "      <td>26.5</td>\n",
       "      <td>29.0</td>\n",
       "      <td>34.0</td>\n",
       "      <td>12.4440</td>\n",
       "      <td>5.1340</td>\n",
       "      <td>1</td>\n",
       "      <td>0</td>\n",
       "      <td>0</td>\n",
       "      <td>0</td>\n",
       "      <td>0</td>\n",
       "      <td>0</td>\n",
       "      <td>0</td>\n",
       "    </tr>\n",
       "    <tr>\n",
       "      <th>...</th>\n",
       "      <td>...</td>\n",
       "      <td>...</td>\n",
       "      <td>...</td>\n",
       "      <td>...</td>\n",
       "      <td>...</td>\n",
       "      <td>...</td>\n",
       "      <td>...</td>\n",
       "      <td>...</td>\n",
       "      <td>...</td>\n",
       "      <td>...</td>\n",
       "      <td>...</td>\n",
       "      <td>...</td>\n",
       "    </tr>\n",
       "    <tr>\n",
       "      <th>154</th>\n",
       "      <td>11.5</td>\n",
       "      <td>12.2</td>\n",
       "      <td>13.4</td>\n",
       "      <td>2.0904</td>\n",
       "      <td>1.3936</td>\n",
       "      <td>0</td>\n",
       "      <td>0</td>\n",
       "      <td>0</td>\n",
       "      <td>0</td>\n",
       "      <td>0</td>\n",
       "      <td>1</td>\n",
       "      <td>0</td>\n",
       "    </tr>\n",
       "    <tr>\n",
       "      <th>155</th>\n",
       "      <td>11.7</td>\n",
       "      <td>12.4</td>\n",
       "      <td>13.5</td>\n",
       "      <td>2.4300</td>\n",
       "      <td>1.2690</td>\n",
       "      <td>0</td>\n",
       "      <td>0</td>\n",
       "      <td>0</td>\n",
       "      <td>0</td>\n",
       "      <td>0</td>\n",
       "      <td>1</td>\n",
       "      <td>0</td>\n",
       "    </tr>\n",
       "    <tr>\n",
       "      <th>156</th>\n",
       "      <td>12.1</td>\n",
       "      <td>13.0</td>\n",
       "      <td>13.8</td>\n",
       "      <td>2.2770</td>\n",
       "      <td>1.2558</td>\n",
       "      <td>0</td>\n",
       "      <td>0</td>\n",
       "      <td>0</td>\n",
       "      <td>0</td>\n",
       "      <td>0</td>\n",
       "      <td>1</td>\n",
       "      <td>0</td>\n",
       "    </tr>\n",
       "    <tr>\n",
       "      <th>157</th>\n",
       "      <td>13.2</td>\n",
       "      <td>14.3</td>\n",
       "      <td>15.2</td>\n",
       "      <td>2.8728</td>\n",
       "      <td>2.0672</td>\n",
       "      <td>0</td>\n",
       "      <td>0</td>\n",
       "      <td>0</td>\n",
       "      <td>0</td>\n",
       "      <td>0</td>\n",
       "      <td>1</td>\n",
       "      <td>0</td>\n",
       "    </tr>\n",
       "    <tr>\n",
       "      <th>158</th>\n",
       "      <td>13.8</td>\n",
       "      <td>15.0</td>\n",
       "      <td>16.2</td>\n",
       "      <td>2.9322</td>\n",
       "      <td>1.8792</td>\n",
       "      <td>0</td>\n",
       "      <td>0</td>\n",
       "      <td>0</td>\n",
       "      <td>0</td>\n",
       "      <td>0</td>\n",
       "      <td>1</td>\n",
       "      <td>0</td>\n",
       "    </tr>\n",
       "  </tbody>\n",
       "</table>\n",
       "<p>158 rows × 12 columns</p>\n",
       "</div>"
      ],
      "text/plain": [
       "     Length1  Length2  Length3   Height   Width  Species_Bream  \\\n",
       "0       23.2     25.4     30.0  11.5200  4.0200              1   \n",
       "1       24.0     26.3     31.2  12.4800  4.3056              1   \n",
       "2       23.9     26.5     31.1  12.3778  4.6961              1   \n",
       "3       26.3     29.0     33.5  12.7300  4.4555              1   \n",
       "4       26.5     29.0     34.0  12.4440  5.1340              1   \n",
       "..       ...      ...      ...      ...     ...            ...   \n",
       "154     11.5     12.2     13.4   2.0904  1.3936              0   \n",
       "155     11.7     12.4     13.5   2.4300  1.2690              0   \n",
       "156     12.1     13.0     13.8   2.2770  1.2558              0   \n",
       "157     13.2     14.3     15.2   2.8728  2.0672              0   \n",
       "158     13.8     15.0     16.2   2.9322  1.8792              0   \n",
       "\n",
       "     Species_Parkki  Species_Perch  Species_Pike  Species_Roach  \\\n",
       "0                 0              0             0              0   \n",
       "1                 0              0             0              0   \n",
       "2                 0              0             0              0   \n",
       "3                 0              0             0              0   \n",
       "4                 0              0             0              0   \n",
       "..              ...            ...           ...            ...   \n",
       "154               0              0             0              0   \n",
       "155               0              0             0              0   \n",
       "156               0              0             0              0   \n",
       "157               0              0             0              0   \n",
       "158               0              0             0              0   \n",
       "\n",
       "     Species_Smelt  Species_Whitefish  \n",
       "0                0                  0  \n",
       "1                0                  0  \n",
       "2                0                  0  \n",
       "3                0                  0  \n",
       "4                0                  0  \n",
       "..             ...                ...  \n",
       "154              1                  0  \n",
       "155              1                  0  \n",
       "156              1                  0  \n",
       "157              1                  0  \n",
       "158              1                  0  \n",
       "\n",
       "[158 rows x 12 columns]"
      ]
     },
     "execution_count": 79,
     "metadata": {},
     "output_type": "execute_result"
    }
   ],
   "source": [
    "X_dummies"
   ]
  },
  {
   "cell_type": "code",
   "execution_count": 85,
   "id": "781f00e5",
   "metadata": {},
   "outputs": [],
   "source": [
    "X_train, X_test, y_train, y_test = train_test_split(X_dummies, y)"
   ]
  },
  {
   "cell_type": "code",
   "execution_count": 86,
   "id": "e38f0057-2be9-407a-824c-8e57017212ee",
   "metadata": {},
   "outputs": [
    {
     "data": {
      "text/plain": [
       "(118, 12)"
      ]
     },
     "execution_count": 86,
     "metadata": {},
     "output_type": "execute_result"
    }
   ],
   "source": [
    "X_train.shape"
   ]
  },
  {
   "cell_type": "code",
   "execution_count": 90,
   "id": "1d017d75-b0da-49ef-8ef0-6e6e32364a28",
   "metadata": {},
   "outputs": [
    {
     "data": {
      "text/plain": [
       "134     456.0\n",
       "135     510.0\n",
       "125    1100.0\n",
       "5       450.0\n",
       "130     300.0\n",
       "Name: Weight, dtype: float64"
      ]
     },
     "execution_count": 90,
     "metadata": {},
     "output_type": "execute_result"
    }
   ],
   "source": [
    "y_test[:5]"
   ]
  },
  {
   "cell_type": "code",
   "execution_count": 91,
   "id": "78e89a3a",
   "metadata": {},
   "outputs": [],
   "source": [
    "from sklearn.metrics import mean_squared_error as mse\n",
    "from sklearn.linear_model import LinearRegression"
   ]
  },
  {
   "cell_type": "code",
   "execution_count": 92,
   "id": "ebd0e32f",
   "metadata": {},
   "outputs": [],
   "source": [
    "lr = LinearRegression()"
   ]
  },
  {
   "cell_type": "code",
   "execution_count": 93,
   "id": "99035361",
   "metadata": {},
   "outputs": [
    {
     "data": {
      "text/plain": [
       "LinearRegression()"
      ]
     },
     "execution_count": 93,
     "metadata": {},
     "output_type": "execute_result"
    }
   ],
   "source": [
    "lr.fit(X_train, y_train)"
   ]
  },
  {
   "cell_type": "code",
   "execution_count": 94,
   "id": "c6e83a42",
   "metadata": {},
   "outputs": [
    {
     "data": {
      "text/plain": [
       "array([ -70.1305346 ,   67.40526148,   28.85423363,   17.22513994,\n",
       "         11.48217768, -157.50467767,   45.80152753,   31.09095285,\n",
       "       -200.91885488,   -9.95820719,  343.74872119,  -52.25946183])"
      ]
     },
     "execution_count": 94,
     "metadata": {},
     "output_type": "execute_result"
    }
   ],
   "source": [
    "lr.coef_"
   ]
  },
  {
   "cell_type": "code",
   "execution_count": 95,
   "id": "e1026e3e",
   "metadata": {},
   "outputs": [
    {
     "data": {
      "text/html": [
       "<div>\n",
       "<style scoped>\n",
       "    .dataframe tbody tr th:only-of-type {\n",
       "        vertical-align: middle;\n",
       "    }\n",
       "\n",
       "    .dataframe tbody tr th {\n",
       "        vertical-align: top;\n",
       "    }\n",
       "\n",
       "    .dataframe thead th {\n",
       "        text-align: right;\n",
       "    }\n",
       "</style>\n",
       "<table border=\"1\" class=\"dataframe\">\n",
       "  <thead>\n",
       "    <tr style=\"text-align: right;\">\n",
       "      <th></th>\n",
       "      <th>Length1</th>\n",
       "      <th>Length2</th>\n",
       "      <th>Length3</th>\n",
       "      <th>Height</th>\n",
       "      <th>Width</th>\n",
       "      <th>Species_Bream</th>\n",
       "      <th>Species_Parkki</th>\n",
       "      <th>Species_Perch</th>\n",
       "      <th>Species_Pike</th>\n",
       "      <th>Species_Roach</th>\n",
       "      <th>Species_Smelt</th>\n",
       "      <th>Species_Whitefish</th>\n",
       "    </tr>\n",
       "  </thead>\n",
       "  <tbody>\n",
       "    <tr>\n",
       "      <th>134</th>\n",
       "      <td>40.0</td>\n",
       "      <td>42.5</td>\n",
       "      <td>45.5</td>\n",
       "      <td>7.2800</td>\n",
       "      <td>4.3225</td>\n",
       "      <td>0</td>\n",
       "      <td>0</td>\n",
       "      <td>0</td>\n",
       "      <td>1</td>\n",
       "      <td>0</td>\n",
       "      <td>0</td>\n",
       "      <td>0</td>\n",
       "    </tr>\n",
       "    <tr>\n",
       "      <th>135</th>\n",
       "      <td>40.0</td>\n",
       "      <td>42.5</td>\n",
       "      <td>45.5</td>\n",
       "      <td>6.8250</td>\n",
       "      <td>4.4590</td>\n",
       "      <td>0</td>\n",
       "      <td>0</td>\n",
       "      <td>0</td>\n",
       "      <td>1</td>\n",
       "      <td>0</td>\n",
       "      <td>0</td>\n",
       "      <td>0</td>\n",
       "    </tr>\n",
       "    <tr>\n",
       "      <th>125</th>\n",
       "      <td>40.1</td>\n",
       "      <td>43.0</td>\n",
       "      <td>45.5</td>\n",
       "      <td>12.5125</td>\n",
       "      <td>7.4165</td>\n",
       "      <td>0</td>\n",
       "      <td>0</td>\n",
       "      <td>1</td>\n",
       "      <td>0</td>\n",
       "      <td>0</td>\n",
       "      <td>0</td>\n",
       "      <td>0</td>\n",
       "    </tr>\n",
       "    <tr>\n",
       "      <th>5</th>\n",
       "      <td>26.8</td>\n",
       "      <td>29.7</td>\n",
       "      <td>34.7</td>\n",
       "      <td>13.6024</td>\n",
       "      <td>4.9274</td>\n",
       "      <td>1</td>\n",
       "      <td>0</td>\n",
       "      <td>0</td>\n",
       "      <td>0</td>\n",
       "      <td>0</td>\n",
       "      <td>0</td>\n",
       "      <td>0</td>\n",
       "    </tr>\n",
       "    <tr>\n",
       "      <th>130</th>\n",
       "      <td>32.7</td>\n",
       "      <td>35.0</td>\n",
       "      <td>38.8</td>\n",
       "      <td>5.9364</td>\n",
       "      <td>4.3844</td>\n",
       "      <td>0</td>\n",
       "      <td>0</td>\n",
       "      <td>0</td>\n",
       "      <td>1</td>\n",
       "      <td>0</td>\n",
       "      <td>0</td>\n",
       "      <td>0</td>\n",
       "    </tr>\n",
       "    <tr>\n",
       "      <th>60</th>\n",
       "      <td>37.3</td>\n",
       "      <td>40.0</td>\n",
       "      <td>43.5</td>\n",
       "      <td>12.3540</td>\n",
       "      <td>6.5250</td>\n",
       "      <td>0</td>\n",
       "      <td>0</td>\n",
       "      <td>0</td>\n",
       "      <td>0</td>\n",
       "      <td>0</td>\n",
       "      <td>0</td>\n",
       "      <td>1</td>\n",
       "    </tr>\n",
       "    <tr>\n",
       "      <th>0</th>\n",
       "      <td>23.2</td>\n",
       "      <td>25.4</td>\n",
       "      <td>30.0</td>\n",
       "      <td>11.5200</td>\n",
       "      <td>4.0200</td>\n",
       "      <td>1</td>\n",
       "      <td>0</td>\n",
       "      <td>0</td>\n",
       "      <td>0</td>\n",
       "      <td>0</td>\n",
       "      <td>0</td>\n",
       "      <td>0</td>\n",
       "    </tr>\n",
       "    <tr>\n",
       "      <th>45</th>\n",
       "      <td>20.5</td>\n",
       "      <td>22.5</td>\n",
       "      <td>25.3</td>\n",
       "      <td>7.0334</td>\n",
       "      <td>3.8203</td>\n",
       "      <td>0</td>\n",
       "      <td>0</td>\n",
       "      <td>0</td>\n",
       "      <td>0</td>\n",
       "      <td>1</td>\n",
       "      <td>0</td>\n",
       "      <td>0</td>\n",
       "    </tr>\n",
       "    <tr>\n",
       "      <th>154</th>\n",
       "      <td>11.5</td>\n",
       "      <td>12.2</td>\n",
       "      <td>13.4</td>\n",
       "      <td>2.0904</td>\n",
       "      <td>1.3936</td>\n",
       "      <td>0</td>\n",
       "      <td>0</td>\n",
       "      <td>0</td>\n",
       "      <td>0</td>\n",
       "      <td>0</td>\n",
       "      <td>1</td>\n",
       "      <td>0</td>\n",
       "    </tr>\n",
       "    <tr>\n",
       "      <th>17</th>\n",
       "      <td>30.4</td>\n",
       "      <td>33.0</td>\n",
       "      <td>38.5</td>\n",
       "      <td>14.9380</td>\n",
       "      <td>5.1975</td>\n",
       "      <td>1</td>\n",
       "      <td>0</td>\n",
       "      <td>0</td>\n",
       "      <td>0</td>\n",
       "      <td>0</td>\n",
       "      <td>0</td>\n",
       "      <td>0</td>\n",
       "    </tr>\n",
       "    <tr>\n",
       "      <th>120</th>\n",
       "      <td>37.0</td>\n",
       "      <td>40.0</td>\n",
       "      <td>42.5</td>\n",
       "      <td>11.7300</td>\n",
       "      <td>7.2250</td>\n",
       "      <td>0</td>\n",
       "      <td>0</td>\n",
       "      <td>1</td>\n",
       "      <td>0</td>\n",
       "      <td>0</td>\n",
       "      <td>0</td>\n",
       "      <td>0</td>\n",
       "    </tr>\n",
       "    <tr>\n",
       "      <th>122</th>\n",
       "      <td>37.1</td>\n",
       "      <td>40.0</td>\n",
       "      <td>42.5</td>\n",
       "      <td>11.1350</td>\n",
       "      <td>6.6300</td>\n",
       "      <td>0</td>\n",
       "      <td>0</td>\n",
       "      <td>1</td>\n",
       "      <td>0</td>\n",
       "      <td>0</td>\n",
       "      <td>0</td>\n",
       "      <td>0</td>\n",
       "    </tr>\n",
       "    <tr>\n",
       "      <th>80</th>\n",
       "      <td>17.8</td>\n",
       "      <td>19.6</td>\n",
       "      <td>20.8</td>\n",
       "      <td>5.1376</td>\n",
       "      <td>3.0368</td>\n",
       "      <td>0</td>\n",
       "      <td>0</td>\n",
       "      <td>1</td>\n",
       "      <td>0</td>\n",
       "      <td>0</td>\n",
       "      <td>0</td>\n",
       "      <td>0</td>\n",
       "    </tr>\n",
       "    <tr>\n",
       "      <th>102</th>\n",
       "      <td>25.2</td>\n",
       "      <td>27.3</td>\n",
       "      <td>28.7</td>\n",
       "      <td>8.3230</td>\n",
       "      <td>5.1373</td>\n",
       "      <td>0</td>\n",
       "      <td>0</td>\n",
       "      <td>1</td>\n",
       "      <td>0</td>\n",
       "      <td>0</td>\n",
       "      <td>0</td>\n",
       "      <td>0</td>\n",
       "    </tr>\n",
       "    <tr>\n",
       "      <th>149</th>\n",
       "      <td>10.7</td>\n",
       "      <td>11.2</td>\n",
       "      <td>12.4</td>\n",
       "      <td>2.0832</td>\n",
       "      <td>1.2772</td>\n",
       "      <td>0</td>\n",
       "      <td>0</td>\n",
       "      <td>0</td>\n",
       "      <td>0</td>\n",
       "      <td>0</td>\n",
       "      <td>1</td>\n",
       "      <td>0</td>\n",
       "    </tr>\n",
       "    <tr>\n",
       "      <th>28</th>\n",
       "      <td>32.8</td>\n",
       "      <td>36.0</td>\n",
       "      <td>41.6</td>\n",
       "      <td>16.8896</td>\n",
       "      <td>6.1984</td>\n",
       "      <td>1</td>\n",
       "      <td>0</td>\n",
       "      <td>0</td>\n",
       "      <td>0</td>\n",
       "      <td>0</td>\n",
       "      <td>0</td>\n",
       "      <td>0</td>\n",
       "    </tr>\n",
       "    <tr>\n",
       "      <th>52</th>\n",
       "      <td>24.0</td>\n",
       "      <td>26.0</td>\n",
       "      <td>29.2</td>\n",
       "      <td>8.8768</td>\n",
       "      <td>4.4968</td>\n",
       "      <td>0</td>\n",
       "      <td>0</td>\n",
       "      <td>0</td>\n",
       "      <td>0</td>\n",
       "      <td>1</td>\n",
       "      <td>0</td>\n",
       "      <td>0</td>\n",
       "    </tr>\n",
       "    <tr>\n",
       "      <th>12</th>\n",
       "      <td>29.1</td>\n",
       "      <td>31.5</td>\n",
       "      <td>36.4</td>\n",
       "      <td>13.7592</td>\n",
       "      <td>4.3680</td>\n",
       "      <td>1</td>\n",
       "      <td>0</td>\n",
       "      <td>0</td>\n",
       "      <td>0</td>\n",
       "      <td>0</td>\n",
       "      <td>0</td>\n",
       "      <td>0</td>\n",
       "    </tr>\n",
       "    <tr>\n",
       "      <th>128</th>\n",
       "      <td>30.0</td>\n",
       "      <td>32.3</td>\n",
       "      <td>34.8</td>\n",
       "      <td>5.5680</td>\n",
       "      <td>3.3756</td>\n",
       "      <td>0</td>\n",
       "      <td>0</td>\n",
       "      <td>0</td>\n",
       "      <td>1</td>\n",
       "      <td>0</td>\n",
       "      <td>0</td>\n",
       "      <td>0</td>\n",
       "    </tr>\n",
       "    <tr>\n",
       "      <th>39</th>\n",
       "      <td>18.6</td>\n",
       "      <td>20.0</td>\n",
       "      <td>22.2</td>\n",
       "      <td>6.2160</td>\n",
       "      <td>3.5742</td>\n",
       "      <td>0</td>\n",
       "      <td>0</td>\n",
       "      <td>0</td>\n",
       "      <td>0</td>\n",
       "      <td>1</td>\n",
       "      <td>0</td>\n",
       "      <td>0</td>\n",
       "    </tr>\n",
       "    <tr>\n",
       "      <th>51</th>\n",
       "      <td>23.6</td>\n",
       "      <td>25.2</td>\n",
       "      <td>27.9</td>\n",
       "      <td>7.0866</td>\n",
       "      <td>3.9060</td>\n",
       "      <td>0</td>\n",
       "      <td>0</td>\n",
       "      <td>0</td>\n",
       "      <td>0</td>\n",
       "      <td>1</td>\n",
       "      <td>0</td>\n",
       "      <td>0</td>\n",
       "    </tr>\n",
       "    <tr>\n",
       "      <th>38</th>\n",
       "      <td>18.2</td>\n",
       "      <td>19.8</td>\n",
       "      <td>22.2</td>\n",
       "      <td>5.6166</td>\n",
       "      <td>3.1746</td>\n",
       "      <td>0</td>\n",
       "      <td>0</td>\n",
       "      <td>0</td>\n",
       "      <td>0</td>\n",
       "      <td>1</td>\n",
       "      <td>0</td>\n",
       "      <td>0</td>\n",
       "    </tr>\n",
       "    <tr>\n",
       "      <th>34</th>\n",
       "      <td>38.0</td>\n",
       "      <td>41.0</td>\n",
       "      <td>46.5</td>\n",
       "      <td>17.6235</td>\n",
       "      <td>6.3705</td>\n",
       "      <td>1</td>\n",
       "      <td>0</td>\n",
       "      <td>0</td>\n",
       "      <td>0</td>\n",
       "      <td>0</td>\n",
       "      <td>0</td>\n",
       "      <td>0</td>\n",
       "    </tr>\n",
       "    <tr>\n",
       "      <th>71</th>\n",
       "      <td>24.0</td>\n",
       "      <td>26.0</td>\n",
       "      <td>29.0</td>\n",
       "      <td>11.3680</td>\n",
       "      <td>4.2340</td>\n",
       "      <td>0</td>\n",
       "      <td>1</td>\n",
       "      <td>0</td>\n",
       "      <td>0</td>\n",
       "      <td>0</td>\n",
       "      <td>0</td>\n",
       "      <td>0</td>\n",
       "    </tr>\n",
       "    <tr>\n",
       "      <th>158</th>\n",
       "      <td>13.8</td>\n",
       "      <td>15.0</td>\n",
       "      <td>16.2</td>\n",
       "      <td>2.9322</td>\n",
       "      <td>1.8792</td>\n",
       "      <td>0</td>\n",
       "      <td>0</td>\n",
       "      <td>0</td>\n",
       "      <td>0</td>\n",
       "      <td>0</td>\n",
       "      <td>1</td>\n",
       "      <td>0</td>\n",
       "    </tr>\n",
       "    <tr>\n",
       "      <th>68</th>\n",
       "      <td>19.8</td>\n",
       "      <td>21.5</td>\n",
       "      <td>24.1</td>\n",
       "      <td>9.7364</td>\n",
       "      <td>3.1571</td>\n",
       "      <td>0</td>\n",
       "      <td>1</td>\n",
       "      <td>0</td>\n",
       "      <td>0</td>\n",
       "      <td>0</td>\n",
       "      <td>0</td>\n",
       "      <td>0</td>\n",
       "    </tr>\n",
       "    <tr>\n",
       "      <th>142</th>\n",
       "      <td>56.0</td>\n",
       "      <td>60.0</td>\n",
       "      <td>64.0</td>\n",
       "      <td>9.6000</td>\n",
       "      <td>6.1440</td>\n",
       "      <td>0</td>\n",
       "      <td>0</td>\n",
       "      <td>0</td>\n",
       "      <td>1</td>\n",
       "      <td>0</td>\n",
       "      <td>0</td>\n",
       "      <td>0</td>\n",
       "    </tr>\n",
       "    <tr>\n",
       "      <th>101</th>\n",
       "      <td>25.0</td>\n",
       "      <td>26.5</td>\n",
       "      <td>28.0</td>\n",
       "      <td>7.1680</td>\n",
       "      <td>4.1440</td>\n",
       "      <td>0</td>\n",
       "      <td>0</td>\n",
       "      <td>1</td>\n",
       "      <td>0</td>\n",
       "      <td>0</td>\n",
       "      <td>0</td>\n",
       "      <td>0</td>\n",
       "    </tr>\n",
       "    <tr>\n",
       "      <th>9</th>\n",
       "      <td>28.5</td>\n",
       "      <td>30.7</td>\n",
       "      <td>36.2</td>\n",
       "      <td>14.2266</td>\n",
       "      <td>4.9594</td>\n",
       "      <td>1</td>\n",
       "      <td>0</td>\n",
       "      <td>0</td>\n",
       "      <td>0</td>\n",
       "      <td>0</td>\n",
       "      <td>0</td>\n",
       "      <td>0</td>\n",
       "    </tr>\n",
       "    <tr>\n",
       "      <th>2</th>\n",
       "      <td>23.9</td>\n",
       "      <td>26.5</td>\n",
       "      <td>31.1</td>\n",
       "      <td>12.3778</td>\n",
       "      <td>4.6961</td>\n",
       "      <td>1</td>\n",
       "      <td>0</td>\n",
       "      <td>0</td>\n",
       "      <td>0</td>\n",
       "      <td>0</td>\n",
       "      <td>0</td>\n",
       "      <td>0</td>\n",
       "    </tr>\n",
       "    <tr>\n",
       "      <th>104</th>\n",
       "      <td>25.4</td>\n",
       "      <td>27.5</td>\n",
       "      <td>28.9</td>\n",
       "      <td>7.0516</td>\n",
       "      <td>4.3350</td>\n",
       "      <td>0</td>\n",
       "      <td>0</td>\n",
       "      <td>1</td>\n",
       "      <td>0</td>\n",
       "      <td>0</td>\n",
       "      <td>0</td>\n",
       "      <td>0</td>\n",
       "    </tr>\n",
       "    <tr>\n",
       "      <th>87</th>\n",
       "      <td>20.0</td>\n",
       "      <td>22.0</td>\n",
       "      <td>23.5</td>\n",
       "      <td>5.6400</td>\n",
       "      <td>3.5250</td>\n",
       "      <td>0</td>\n",
       "      <td>0</td>\n",
       "      <td>1</td>\n",
       "      <td>0</td>\n",
       "      <td>0</td>\n",
       "      <td>0</td>\n",
       "      <td>0</td>\n",
       "    </tr>\n",
       "    <tr>\n",
       "      <th>152</th>\n",
       "      <td>11.3</td>\n",
       "      <td>11.8</td>\n",
       "      <td>13.1</td>\n",
       "      <td>2.2139</td>\n",
       "      <td>1.1659</td>\n",
       "      <td>0</td>\n",
       "      <td>0</td>\n",
       "      <td>0</td>\n",
       "      <td>0</td>\n",
       "      <td>0</td>\n",
       "      <td>1</td>\n",
       "      <td>0</td>\n",
       "    </tr>\n",
       "    <tr>\n",
       "      <th>54</th>\n",
       "      <td>29.5</td>\n",
       "      <td>31.7</td>\n",
       "      <td>35.0</td>\n",
       "      <td>9.4850</td>\n",
       "      <td>5.3550</td>\n",
       "      <td>0</td>\n",
       "      <td>0</td>\n",
       "      <td>0</td>\n",
       "      <td>0</td>\n",
       "      <td>1</td>\n",
       "      <td>0</td>\n",
       "      <td>0</td>\n",
       "    </tr>\n",
       "    <tr>\n",
       "      <th>138</th>\n",
       "      <td>43.2</td>\n",
       "      <td>46.0</td>\n",
       "      <td>48.7</td>\n",
       "      <td>7.7920</td>\n",
       "      <td>4.8700</td>\n",
       "      <td>0</td>\n",
       "      <td>0</td>\n",
       "      <td>0</td>\n",
       "      <td>1</td>\n",
       "      <td>0</td>\n",
       "      <td>0</td>\n",
       "      <td>0</td>\n",
       "    </tr>\n",
       "    <tr>\n",
       "      <th>35</th>\n",
       "      <td>12.9</td>\n",
       "      <td>14.1</td>\n",
       "      <td>16.2</td>\n",
       "      <td>4.1472</td>\n",
       "      <td>2.2680</td>\n",
       "      <td>0</td>\n",
       "      <td>0</td>\n",
       "      <td>0</td>\n",
       "      <td>0</td>\n",
       "      <td>1</td>\n",
       "      <td>0</td>\n",
       "      <td>0</td>\n",
       "    </tr>\n",
       "    <tr>\n",
       "      <th>141</th>\n",
       "      <td>52.0</td>\n",
       "      <td>56.0</td>\n",
       "      <td>59.7</td>\n",
       "      <td>10.6863</td>\n",
       "      <td>6.9849</td>\n",
       "      <td>0</td>\n",
       "      <td>0</td>\n",
       "      <td>0</td>\n",
       "      <td>1</td>\n",
       "      <td>0</td>\n",
       "      <td>0</td>\n",
       "      <td>0</td>\n",
       "    </tr>\n",
       "    <tr>\n",
       "      <th>25</th>\n",
       "      <td>31.8</td>\n",
       "      <td>35.0</td>\n",
       "      <td>40.9</td>\n",
       "      <td>16.3600</td>\n",
       "      <td>6.0532</td>\n",
       "      <td>1</td>\n",
       "      <td>0</td>\n",
       "      <td>0</td>\n",
       "      <td>0</td>\n",
       "      <td>0</td>\n",
       "      <td>0</td>\n",
       "      <td>0</td>\n",
       "    </tr>\n",
       "    <tr>\n",
       "      <th>124</th>\n",
       "      <td>39.8</td>\n",
       "      <td>43.0</td>\n",
       "      <td>45.2</td>\n",
       "      <td>11.9328</td>\n",
       "      <td>7.2772</td>\n",
       "      <td>0</td>\n",
       "      <td>0</td>\n",
       "      <td>1</td>\n",
       "      <td>0</td>\n",
       "      <td>0</td>\n",
       "      <td>0</td>\n",
       "      <td>0</td>\n",
       "    </tr>\n",
       "    <tr>\n",
       "      <th>70</th>\n",
       "      <td>23.0</td>\n",
       "      <td>25.0</td>\n",
       "      <td>28.0</td>\n",
       "      <td>11.0880</td>\n",
       "      <td>4.1440</td>\n",
       "      <td>0</td>\n",
       "      <td>1</td>\n",
       "      <td>0</td>\n",
       "      <td>0</td>\n",
       "      <td>0</td>\n",
       "      <td>0</td>\n",
       "      <td>0</td>\n",
       "    </tr>\n",
       "  </tbody>\n",
       "</table>\n",
       "</div>"
      ],
      "text/plain": [
       "     Length1  Length2  Length3   Height   Width  Species_Bream  \\\n",
       "134     40.0     42.5     45.5   7.2800  4.3225              0   \n",
       "135     40.0     42.5     45.5   6.8250  4.4590              0   \n",
       "125     40.1     43.0     45.5  12.5125  7.4165              0   \n",
       "5       26.8     29.7     34.7  13.6024  4.9274              1   \n",
       "130     32.7     35.0     38.8   5.9364  4.3844              0   \n",
       "60      37.3     40.0     43.5  12.3540  6.5250              0   \n",
       "0       23.2     25.4     30.0  11.5200  4.0200              1   \n",
       "45      20.5     22.5     25.3   7.0334  3.8203              0   \n",
       "154     11.5     12.2     13.4   2.0904  1.3936              0   \n",
       "17      30.4     33.0     38.5  14.9380  5.1975              1   \n",
       "120     37.0     40.0     42.5  11.7300  7.2250              0   \n",
       "122     37.1     40.0     42.5  11.1350  6.6300              0   \n",
       "80      17.8     19.6     20.8   5.1376  3.0368              0   \n",
       "102     25.2     27.3     28.7   8.3230  5.1373              0   \n",
       "149     10.7     11.2     12.4   2.0832  1.2772              0   \n",
       "28      32.8     36.0     41.6  16.8896  6.1984              1   \n",
       "52      24.0     26.0     29.2   8.8768  4.4968              0   \n",
       "12      29.1     31.5     36.4  13.7592  4.3680              1   \n",
       "128     30.0     32.3     34.8   5.5680  3.3756              0   \n",
       "39      18.6     20.0     22.2   6.2160  3.5742              0   \n",
       "51      23.6     25.2     27.9   7.0866  3.9060              0   \n",
       "38      18.2     19.8     22.2   5.6166  3.1746              0   \n",
       "34      38.0     41.0     46.5  17.6235  6.3705              1   \n",
       "71      24.0     26.0     29.0  11.3680  4.2340              0   \n",
       "158     13.8     15.0     16.2   2.9322  1.8792              0   \n",
       "68      19.8     21.5     24.1   9.7364  3.1571              0   \n",
       "142     56.0     60.0     64.0   9.6000  6.1440              0   \n",
       "101     25.0     26.5     28.0   7.1680  4.1440              0   \n",
       "9       28.5     30.7     36.2  14.2266  4.9594              1   \n",
       "2       23.9     26.5     31.1  12.3778  4.6961              1   \n",
       "104     25.4     27.5     28.9   7.0516  4.3350              0   \n",
       "87      20.0     22.0     23.5   5.6400  3.5250              0   \n",
       "152     11.3     11.8     13.1   2.2139  1.1659              0   \n",
       "54      29.5     31.7     35.0   9.4850  5.3550              0   \n",
       "138     43.2     46.0     48.7   7.7920  4.8700              0   \n",
       "35      12.9     14.1     16.2   4.1472  2.2680              0   \n",
       "141     52.0     56.0     59.7  10.6863  6.9849              0   \n",
       "25      31.8     35.0     40.9  16.3600  6.0532              1   \n",
       "124     39.8     43.0     45.2  11.9328  7.2772              0   \n",
       "70      23.0     25.0     28.0  11.0880  4.1440              0   \n",
       "\n",
       "     Species_Parkki  Species_Perch  Species_Pike  Species_Roach  \\\n",
       "134               0              0             1              0   \n",
       "135               0              0             1              0   \n",
       "125               0              1             0              0   \n",
       "5                 0              0             0              0   \n",
       "130               0              0             1              0   \n",
       "60                0              0             0              0   \n",
       "0                 0              0             0              0   \n",
       "45                0              0             0              1   \n",
       "154               0              0             0              0   \n",
       "17                0              0             0              0   \n",
       "120               0              1             0              0   \n",
       "122               0              1             0              0   \n",
       "80                0              1             0              0   \n",
       "102               0              1             0              0   \n",
       "149               0              0             0              0   \n",
       "28                0              0             0              0   \n",
       "52                0              0             0              1   \n",
       "12                0              0             0              0   \n",
       "128               0              0             1              0   \n",
       "39                0              0             0              1   \n",
       "51                0              0             0              1   \n",
       "38                0              0             0              1   \n",
       "34                0              0             0              0   \n",
       "71                1              0             0              0   \n",
       "158               0              0             0              0   \n",
       "68                1              0             0              0   \n",
       "142               0              0             1              0   \n",
       "101               0              1             0              0   \n",
       "9                 0              0             0              0   \n",
       "2                 0              0             0              0   \n",
       "104               0              1             0              0   \n",
       "87                0              1             0              0   \n",
       "152               0              0             0              0   \n",
       "54                0              0             0              1   \n",
       "138               0              0             1              0   \n",
       "35                0              0             0              1   \n",
       "141               0              0             1              0   \n",
       "25                0              0             0              0   \n",
       "124               0              1             0              0   \n",
       "70                1              0             0              0   \n",
       "\n",
       "     Species_Smelt  Species_Whitefish  \n",
       "134              0                  0  \n",
       "135              0                  0  \n",
       "125              0                  0  \n",
       "5                0                  0  \n",
       "130              0                  0  \n",
       "60               0                  1  \n",
       "0                0                  0  \n",
       "45               0                  0  \n",
       "154              1                  0  \n",
       "17               0                  0  \n",
       "120              0                  0  \n",
       "122              0                  0  \n",
       "80               0                  0  \n",
       "102              0                  0  \n",
       "149              1                  0  \n",
       "28               0                  0  \n",
       "52               0                  0  \n",
       "12               0                  0  \n",
       "128              0                  0  \n",
       "39               0                  0  \n",
       "51               0                  0  \n",
       "38               0                  0  \n",
       "34               0                  0  \n",
       "71               0                  0  \n",
       "158              1                  0  \n",
       "68               0                  0  \n",
       "142              0                  0  \n",
       "101              0                  0  \n",
       "9                0                  0  \n",
       "2                0                  0  \n",
       "104              0                  0  \n",
       "87               0                  0  \n",
       "152              1                  0  \n",
       "54               0                  0  \n",
       "138              0                  0  \n",
       "35               0                  0  \n",
       "141              0                  0  \n",
       "25               0                  0  \n",
       "124              0                  0  \n",
       "70               0                  0  "
      ]
     },
     "execution_count": 95,
     "metadata": {},
     "output_type": "execute_result"
    }
   ],
   "source": [
    "X_test"
   ]
  },
  {
   "cell_type": "code",
   "execution_count": 96,
   "id": "03495a05",
   "metadata": {},
   "outputs": [
    {
     "data": {
      "text/plain": [
       "array([ 580.31540233,  574.04528091,  964.67118983,  490.88936014,\n",
       "        370.97252724,  804.79547425,  271.61320282,  197.84665661,\n",
       "         32.08115561,  596.61011937,  877.61985272,  853.52594528,\n",
       "         61.27724392,  368.26752196,   -9.53445831,  765.06983978,\n",
       "        340.36022803,  496.24857015,  244.98486774,   56.22780108,\n",
       "        239.35761286,   55.88593554,  893.42072504,  430.24286835,\n",
       "        160.38338063,  239.61199674, 1232.49935813,  276.87117243,\n",
       "        493.47342529,  350.9460986 ,  342.38111998,  160.92863561,\n",
       "         10.00170078,  526.53716823,  699.25541834, -165.47798623,\n",
       "       1147.69427872,  736.80750305,  965.46919915,  398.25747266])"
      ]
     },
     "execution_count": 96,
     "metadata": {},
     "output_type": "execute_result"
    }
   ],
   "source": [
    "lr.predict(X_test)"
   ]
  },
  {
   "cell_type": "code",
   "execution_count": 97,
   "id": "91ac4b9e-b8af-4e6e-97cb-1720bc9b5072",
   "metadata": {},
   "outputs": [
    {
     "data": {
      "text/plain": [
       "(40, 12)"
      ]
     },
     "execution_count": 97,
     "metadata": {},
     "output_type": "execute_result"
    }
   ],
   "source": [
    "X_test.shape"
   ]
  },
  {
   "cell_type": "code",
   "execution_count": 98,
   "id": "c467c0e8-fc4b-46c3-bbae-4d0dbddf6c29",
   "metadata": {},
   "outputs": [
    {
     "name": "stdout",
     "output_type": "stream",
     "text": [
      "[[40.     42.5    45.5     7.28    4.3225  0.      0.      0.      1.\n",
      "   0.      0.      0.    ]]\n"
     ]
    },
    {
     "name": "stderr",
     "output_type": "stream",
     "text": [
      "/Users/core_school/miniconda3/envs/core/lib/python3.9/site-packages/sklearn/base.py:450: UserWarning: X does not have valid feature names, but LinearRegression was fitted with feature names\n",
      "  warnings.warn(\n"
     ]
    },
    {
     "data": {
      "text/plain": [
       "array([580.31540233])"
      ]
     },
     "execution_count": 98,
     "metadata": {},
     "output_type": "execute_result"
    }
   ],
   "source": [
    "unknown_datapoint = np.array([X_test.iloc[0]])\n",
    "print(unknown_datapoint)\n",
    "lr.predict(unknown_datapoint)"
   ]
  },
  {
   "cell_type": "code",
   "execution_count": 100,
   "id": "48d68529",
   "metadata": {},
   "outputs": [],
   "source": [
    "# RMSE\n",
    "rmse_train = mse(y_train, lr.predict(X_train))**.5\n",
    "rmse_test = mse(y_test, lr.predict(X_test))**.5"
   ]
  },
  {
   "cell_type": "code",
   "execution_count": 101,
   "id": "3c4ddc1c",
   "metadata": {},
   "outputs": [
    {
     "data": {
      "text/html": [
       "<div>\n",
       "<style scoped>\n",
       "    .dataframe tbody tr th:only-of-type {\n",
       "        vertical-align: middle;\n",
       "    }\n",
       "\n",
       "    .dataframe tbody tr th {\n",
       "        vertical-align: top;\n",
       "    }\n",
       "\n",
       "    .dataframe thead th {\n",
       "        text-align: right;\n",
       "    }\n",
       "</style>\n",
       "<table border=\"1\" class=\"dataframe\">\n",
       "  <thead>\n",
       "    <tr style=\"text-align: right;\">\n",
       "      <th></th>\n",
       "      <th>error_train</th>\n",
       "      <th>error_test</th>\n",
       "    </tr>\n",
       "  </thead>\n",
       "  <tbody>\n",
       "    <tr>\n",
       "      <th>0</th>\n",
       "      <td>88.074476</td>\n",
       "      <td>103.039708</td>\n",
       "    </tr>\n",
       "  </tbody>\n",
       "</table>\n",
       "</div>"
      ],
      "text/plain": [
       "   error_train  error_test\n",
       "0    88.074476  103.039708"
      ]
     },
     "execution_count": 101,
     "metadata": {},
     "output_type": "execute_result"
    }
   ],
   "source": [
    "pd.DataFrame({\n",
    "    \"error_train\":[rmse_train],\n",
    "    \"error_test\":[rmse_test]\n",
    "})"
   ]
  },
  {
   "cell_type": "code",
   "execution_count": 102,
   "id": "ce3094dd",
   "metadata": {},
   "outputs": [
    {
     "data": {
      "text/html": [
       "<div>\n",
       "<style scoped>\n",
       "    .dataframe tbody tr th:only-of-type {\n",
       "        vertical-align: middle;\n",
       "    }\n",
       "\n",
       "    .dataframe tbody tr th {\n",
       "        vertical-align: top;\n",
       "    }\n",
       "\n",
       "    .dataframe thead th {\n",
       "        text-align: right;\n",
       "    }\n",
       "</style>\n",
       "<table border=\"1\" class=\"dataframe\">\n",
       "  <thead>\n",
       "    <tr style=\"text-align: right;\">\n",
       "      <th></th>\n",
       "      <th>0</th>\n",
       "    </tr>\n",
       "  </thead>\n",
       "  <tbody>\n",
       "    <tr>\n",
       "      <th>error_test</th>\n",
       "      <td>103.039708</td>\n",
       "    </tr>\n",
       "    <tr>\n",
       "      <th>error_train</th>\n",
       "      <td>88.074476</td>\n",
       "    </tr>\n",
       "  </tbody>\n",
       "</table>\n",
       "</div>"
      ],
      "text/plain": [
       "                      0\n",
       "error_test   103.039708\n",
       "error_train   88.074476"
      ]
     },
     "execution_count": 102,
     "metadata": {},
     "output_type": "execute_result"
    }
   ],
   "source": [
    "pd.DataFrame({0:{\n",
    "    \"error_train\":rmse_train,\n",
    "    \"error_test\":rmse_test\n",
    "}})"
   ]
  },
  {
   "cell_type": "markdown",
   "id": "bff18c58",
   "metadata": {},
   "source": [
    "## Checking our results\n",
    "\n",
    "### Parity Plot\n",
    "\n",
    "Además de las metricas de los errores, hay otras herramientas que nos pueden ayudar a visualizar el comportamiento de nuestros modelos. Por ejemplo, podemos hacer una grafica comparando predicciones (`y_pred`) y ground truth (`y`). Además, una recta diagonal nos ayuda a identificar los puntos de mayor error. Un modelo perfecto representaria esa própria diagonal."
   ]
  },
  {
   "cell_type": "code",
   "execution_count": 103,
   "id": "912226d9",
   "metadata": {},
   "outputs": [],
   "source": [
    "y_pred_train = lr.predict(X_train)"
   ]
  },
  {
   "cell_type": "code",
   "execution_count": 104,
   "id": "be96f523",
   "metadata": {},
   "outputs": [],
   "source": [
    "maxi = max([y_pred_train.max(), y_train.max()])\n",
    "mini = min([y_pred_train.min(), y_train.min()])"
   ]
  },
  {
   "cell_type": "code",
   "execution_count": 105,
   "id": "07a0a17a",
   "metadata": {},
   "outputs": [
    {
     "data": {
      "image/png": "[encoded data removed]",
      "text/plain": [
       "<Figure size 432x432 with 1 Axes>"
      ]
     },
     "metadata": {
      "needs_background": "light"
     },
     "output_type": "display_data"
    }
   ],
   "source": [
    "# Los parity plots se ven mejor cuando son cuadrados\n",
    "plt.figure(figsize=(6,6))\n",
    "plt.scatter(y_train, y_pred_train)\n",
    "plt.plot([mini,maxi],[mini,maxi], color=\"red\")\n",
    "plt.xlabel(\"Ground Truth\")\n",
    "plt.ylabel(\"Prediction\");"
   ]
  },
  {
   "cell_type": "markdown",
   "id": "674bdb33",
   "metadata": {},
   "source": [
    "### Loss function\n",
    "Otra manera interesante de valorar los resultados de nuestro modelo és la función de perdida, la manera como el error varia en función de algún parámetro. Para eso, necesitamos utilizar un modelo que tenga algún parámetro."
   ]
  },
  {
   "cell_type": "code",
   "execution_count": null,
   "id": "0ef89eed",
   "metadata": {},
   "outputs": [],
   "source": [
    "# Usando Sklearn, la regresión polinomial es una regresión lineal en que incluimos features polinomicas.\n",
    "from sklearn.preprocessing import PolynomialFeatures\n",
    "from sklearn.pipeline import Pipeline"
   ]
  },
  {
   "cell_type": "markdown",
   "id": "4ab60142",
   "metadata": {},
   "source": [
    "#### What does adding Polynomial features mean?"
   ]
  },
  {
   "cell_type": "code",
   "execution_count": null,
   "id": "4e6f80c5-d4ab-479c-851e-c0596b665634",
   "metadata": {},
   "outputs": [],
   "source": [
    "X1 = np.linspace(0,5,20)\n",
    "Y = X1**2 +2\n",
    "Y_INV = np.sqrt(Y-2)\n",
    "plt.plot(X1,Y, color=\"red\")\n",
    "plt.plot(X1,Y_INV, color=\"blue\")\n",
    "plt.legend([\"Polydata\",\"Lineal\"])"
   ]
  },
  {
   "cell_type": "code",
   "execution_count": null,
   "id": "99c6ef40-bd7f-44f8-a8e4-815397eab534",
   "metadata": {},
   "outputs": [],
   "source": [
    "Y"
   ]
  },
  {
   "cell_type": "code",
   "execution_count": null,
   "id": "49755365",
   "metadata": {},
   "outputs": [],
   "source": [
    "pf = PolynomialFeatures(degree=2)"
   ]
  },
  {
   "cell_type": "code",
   "execution_count": null,
   "id": "3e96ba1f",
   "metadata": {},
   "outputs": [],
   "source": [
    "X_train.shape"
   ]
  },
  {
   "cell_type": "code",
   "execution_count": null,
   "id": "5ad38d16",
   "metadata": {},
   "outputs": [],
   "source": [
    "Z = pf.fit_transform(X_train)"
   ]
  },
  {
   "cell_type": "code",
   "execution_count": null,
   "id": "6e509a35",
   "metadata": {},
   "outputs": [],
   "source": [
    "X_train"
   ]
  },
  {
   "cell_type": "code",
   "execution_count": null,
   "id": "724b8990-344a-438f-82c5-d22eac13eeed",
   "metadata": {
    "scrolled": true
   },
   "outputs": [],
   "source": [
    "pd.DataFrame(Z).iloc[:, 10:20]"
   ]
  },
  {
   "cell_type": "code",
   "execution_count": null,
   "id": "102310fc-b499-4df1-9c4b-59ee204edb09",
   "metadata": {},
   "outputs": [],
   "source": [
    "X_train"
   ]
  },
  {
   "cell_type": "markdown",
   "id": "fec2ec53",
   "metadata": {},
   "source": [
    "Podemos ver en el ejemplo arriba, que hay más `features` (columnas) en el resultado de la transformación. Podemos pensar en la ecuación de un polinomio como en la de una recta, pero que en lugar de tener apenas la variable $x$, tenemos también sus potencias `x^2, x^3, etc`.\n",
    "\n",
    "#### Line Equation <a class=\"tocSkip\"/>\n",
    "- Recta de 2 dimensiones (recta sobre un plano)\n",
    "> $y = mx + b$\n",
    "\n"
   ]
  },
  {
   "cell_type": "code",
   "execution_count": null,
   "id": "8deb70ae",
   "metadata": {},
   "outputs": [],
   "source": [
    "x = np.linspace(-100,100,200)\n",
    "line = lambda m,b,x : m*x + b\n",
    "y_ = line(3,5,x)\n",
    "plt.plot(x,y_)"
   ]
  },
  {
   "cell_type": "code",
   "execution_count": null,
   "id": "186e1d52-6f05-4815-b09d-26616cec91c6",
   "metadata": {},
   "outputs": [],
   "source": []
  },
  {
   "cell_type": "markdown",
   "id": "82840c8b",
   "metadata": {},
   "source": [
    "#### Polynomial Equation <a class=\"tocSkip\"/>\n",
    "- Polinomio de 2 dimensiones (sobre un plano)\n",
    "\n",
    "Como vamos añadir las features polinomicas ($x^2,x^3,x^4,...,x^n$), debemos decidir cual es el valor máximo n de las potencias en nuestro polinomio. Ese valor representa el `grado` de nuestro polinomio.\n",
    "- Grado 2\n",
    "$$y = m_2x^2 + mx + b $$\n",
    "\n",
    "Mejor representado como:\n",
    "\n",
    "$$f(x) = \\alpha_2 x^2 + \\alpha_1 x^1 + \\alpha_0 x^0$$\n",
    "\n",
    "O de forma universal como\n",
    "\n",
    "$$f(x) = \\sum_{i=k}^{0} m_{i}x^i$$"
   ]
  },
  {
   "cell_type": "code",
   "execution_count": null,
   "id": "48382a97",
   "metadata": {},
   "outputs": [],
   "source": [
    "poly_features = lambda deg, x: [x**i for i in range(0,deg+1)][::-1]\n",
    "poly_features(4,2)"
   ]
  },
  {
   "cell_type": "code",
   "execution_count": null,
   "id": "7b2e2ffd",
   "metadata": {},
   "outputs": [],
   "source": [
    "polynomial = lambda coef, poly_x: sum([alpha*x for alpha,x in zip(coef,poly_x)])"
   ]
  },
  {
   "cell_type": "code",
   "execution_count": null,
   "id": "4964c66e",
   "metadata": {},
   "outputs": [],
   "source": [
    "coef = [3,5]\n",
    "x = np.linspace(-100,100,200)\n",
    "y_ = polynomial(coef,poly_features(1,x))"
   ]
  },
  {
   "cell_type": "code",
   "execution_count": null,
   "id": "181b935b",
   "metadata": {},
   "outputs": [],
   "source": [
    "plt.plot(x,y_)"
   ]
  },
  {
   "cell_type": "code",
   "execution_count": null,
   "id": "93a20569",
   "metadata": {},
   "outputs": [],
   "source": [
    "# Polinomio de grado 2 = Parábola\n",
    "coef = [3,0,0]\n",
    "y_ = polynomial(coef, poly_features(2,x))\n",
    "plt.plot(x,y_)"
   ]
  },
  {
   "cell_type": "markdown",
   "id": "3e37fcbb",
   "metadata": {},
   "source": [
    "De esa manera, podemos combinar diferentes polinomios de diferentes ordenes para componer curvas más complejas que pueden representar mejor los datos que queremos modelar en una regresión."
   ]
  },
  {
   "cell_type": "code",
   "execution_count": null,
   "id": "3732d697",
   "metadata": {},
   "outputs": [],
   "source": [
    "coef = [ [5e-8,0,0,0,0] , [0,0,-4e-4,0,0] , [0,0,0,1e-2,0] , [5e-8,0,-4e-4,1e-2,0] ]\n",
    "names = [ \"4_degree\" , \"2_degree\" , \"1_degree\" , \"sum\" ]\n",
    "plt.figure(figsize=(12,3))\n",
    "for i in range(4):\n",
    "    plt.subplot(1,4,i+1)\n",
    "    y_ = polynomial(coef[i], poly_features(4,x))\n",
    "    plt.title(names[i])\n",
    "    plt.plot(x,y_)"
   ]
  },
  {
   "cell_type": "markdown",
   "id": "c55c2458",
   "metadata": {},
   "source": [
    "### More dimensions <a class=\"tocSkip\"/>\n",
    "\n",
    "En el ejemplo arriba, vemos esa composición con apenas 2 dimensiones, pero también es lo mismo para más dimensiones!\n",
    "\n",
    "## Polynomial Regression of different degrees"
   ]
  },
  {
   "cell_type": "code",
   "execution_count": null,
   "id": "70817b06",
   "metadata": {},
   "outputs": [],
   "source": [
    "error_train = []\n",
    "error_test = []\n",
    "\n",
    "degrees = range(1,11)\n",
    "\n",
    "for deg in degrees:\n",
    "    # Step1: From original features, generate polynomial ones both in train and test datasets\n",
    "    pf = PolynomialFeatures(degree=deg)\n",
    "    X_train_poly = pf.fit_transform(X_train)\n",
    "    X_test_poly = pf.transform(X_test)\n",
    "    \n",
    "    # Step2: Train the model\n",
    "    lr = LinearRegression()\n",
    "    lr.fit(X_train_poly, y_train)\n",
    "    \n",
    "    # Step3: Measure the results (RMSE)\n",
    "    error_train.append(mse(y_train, lr.predict(X_train_poly))**.5)\n",
    "    error_test.append(mse(y_test, lr.predict(X_test_poly))**.5)"
   ]
  },
  {
   "cell_type": "code",
   "execution_count": null,
   "id": "0ef2d7f1-5433-438c-9b5d-6a3e017bd26a",
   "metadata": {},
   "outputs": [],
   "source": [
    "error_train"
   ]
  },
  {
   "cell_type": "code",
   "execution_count": null,
   "id": "a45f31df",
   "metadata": {},
   "outputs": [],
   "source": [
    "errors = []\n",
    "degrees = range(1,10)\n",
    "\n",
    "\n",
    "def get_pipeline(**hyperparms):\n",
    "    print(f\"Configured pipeline with hyperparams {hyperparms}\")\n",
    "    degree = hyperparms[\"degree\"]\n",
    "    \n",
    "    lr = LinearRegression()\n",
    "    model = Pipeline([\n",
    "        (\"poly_features\", PolynomialFeatures(degree=degree)),\n",
    "        (\"linear\", lr)\n",
    "    ])\n",
    "    return model, lr\n",
    "    \n",
    "def metrics(X_train,X_test,y_train,y_test):\n",
    "    train_rmse = mse(y_train, model.predict(X_train))**.5\n",
    "    test_rmse = mse(y_test, model.predict(X_test))**.5\n",
    "\n",
    "    return {\"train_mse\":train_rmse, \"test_mse\":test_rmse}\n",
    "\n",
    "for deg in degrees:\n",
    "    model,lr = get_pipeline(degree=deg)\n",
    "    model.fit(X_train,y_train)\n",
    "    print(f\"\\tNumber of training features -> {lr.n_features_in_}\")\n",
    "    errors.append(metrics(X_train,X_test,y_train,y_test))\n",
    "\n"
   ]
  },
  {
   "cell_type": "code",
   "execution_count": null,
   "id": "ecb9e528",
   "metadata": {},
   "outputs": [],
   "source": [
    "errors"
   ]
  },
  {
   "cell_type": "code",
   "execution_count": null,
   "id": "8845d755",
   "metadata": {},
   "outputs": [],
   "source": [
    "df = pd.DataFrame(errors)\n",
    "#plt.plot(degrees, df[\"train_mse\"], label=\"train\")\n",
    "#plt.plot(degrees, df[\"test_mse\"], label=\"test\")\n",
    "#plt.title(\"Loss Function\")\n",
    "#plt.yscale(\"log\")\n",
    "#plt.legend();\n",
    "\n",
    "sns.lineplot(data=df)\n",
    "plt.yscale(\"log\")"
   ]
  },
  {
   "cell_type": "markdown",
   "id": "c1144f74",
   "metadata": {},
   "source": [
    "## What causes the Error?\n",
    "Si intentaramos encontrar una formula genérica para cualquier modelo, encontraríamos lo siguiente:\n",
    "\n",
    "$$\n",
    "ŷ = f(x) + ε\n",
    "$$\n",
    "\n",
    "Donde el valor `ε` representa el error del modelo. Por su parte, ese error podríamos decompor en tres partes:\n",
    "\n",
    "$$\n",
    "ε = (Bias[ f(x) ])² + Var[ f(x) ] + σ²\n",
    "$$\n",
    "\n",
    "- Bias\n",
    "- Variance\n",
    "- Irreductible Error \n",
    "\n",
    "Entendamos cada uno de eses puntos:\n",
    "\n",
    "### Irreductible Error\n",
    "Esa parte del error es aquella que no podemos reducir alterando el modelo, sea un problema del proceso de recogida de datos, variación natural de las cosas, etc. Al final ese error se debe al fato de que `ningun modelo es perfecto`.\n",
    "\n",
    "### Bias and Variance\n",
    "El Bias y la Varianza representan dos características que pueden afectar los resultados de nuestro modelo. Podemos verlo con una analogia:\n",
    "\n",
    "<img src=\"img/bias_variance.png\">"
   ]
  },
  {
   "cell_type": "markdown",
   "id": "b23e3592",
   "metadata": {},
   "source": [
    "### What is the catch? <a class=\"tocSkip\">\n",
    "    \n",
    "- No se pueden calcular los verdaderos valores para los errores de Bias y Variance\n",
    "- Bias y Variance están en una balanza, bajar uno significa subir el otro.\n",
    "    \n",
    "![](img/tradeoff.png)"
   ]
  },
  {
   "cell_type": "markdown",
   "id": "be3479ef",
   "metadata": {},
   "source": [
    "### Consequences <a class=\"tocSkip\">\n",
    "    \n",
    "- `High Bias`: Underfit model\n",
    "- `High Variance`: Overfit model\n",
    "\n",
    "## Regularization\n",
    "\n",
    "Como visto anteriormente, el Bias y la Varianza resultan en problemas distintos en nuestro modelo. A princípio, el Bias es un problema de mas fácil solución, pues significa que necesitamos más complexidad en nuestro modelo. \n",
    "    \n",
    "Para evitar el overfit, hay una herramienta muy interessante, que es la `Regularización`. Especificamente las regularizaciones L1 y L2.\n",
    "\n",
    "- Podéis encontrar una descripción detallada de las regularizaciones L1 y L2 en [ese artículo](https://arunm8489.medium.com/an-overview-on-regularization-f2a878507eae)"
   ]
  },
  {
   "cell_type": "markdown",
   "id": "136fa5c4",
   "metadata": {},
   "source": [
    "### L1 Lasso\n",
    "\n",
    "La regularización del tipo LASSO (`Least Absolute Shrinkage And Selection Operator`) es una técnica en que se añade una penalización a la suma de los valores de los coeficientes, por lo cual se bajan los valores de los coeficientes, incluso a cero, evitando una grande varianza.\n",
    "\n",
    "Sus características, sengún el artículo mencionado:\n",
    "\n",
    "- L1 penalizes sum of absolute value of weights.\n",
    "- L1 has a sparse solution\n",
    "- L1 generates model that are simple and interpretable but cannot learn complex patterns\n",
    "- L1 is robust to outliers"
   ]
  },
  {
   "cell_type": "markdown",
   "id": "5804fca3",
   "metadata": {},
   "source": [
    "### L2 Ridge\n",
    "\n",
    "- L2 regularization penalizes sum of square weights.\n",
    "- L2 has a non sparse solution\n",
    "- L2 regularization is able to learn complex data patterns\n",
    "- L2 has no feature selection\n",
    "- L2 is not robust to outliers"
   ]
  },
  {
   "cell_type": "code",
   "execution_count": null,
   "id": "4e8a1f3f",
   "metadata": {},
   "outputs": [],
   "source": [
    "from sklearn.linear_model import Lasso, Ridge"
   ]
  },
  {
   "cell_type": "code",
   "execution_count": null,
   "id": "e734bc64",
   "metadata": {},
   "outputs": [],
   "source": [
    "# Alpha ==0 -> LinearRegression\n",
    "errors = pd.DataFrame()\n",
    "\n",
    "alphas = list(range(11)) + [50, 100]\n",
    "coef_lasso = {}\n",
    "coef_ridge = {}\n",
    "for alpha in alphas:\n",
    "    # Lasso\n",
    "    lasso = Lasso(alpha=alpha, max_iter=10000)\n",
    "    lasso.fit(X_train, y_train)\n",
    "    lasso_train = mse(y_train, lasso.predict(X_train))**.5\n",
    "    lasso_test = mse(y_test, lasso.predict(X_test))**.5\n",
    "    coef_lasso[alpha] = lasso.coef_\n",
    "    \n",
    "    \n",
    "    \n",
    "    # Ridge\n",
    "    ridge = Ridge(alpha=alpha, max_iter=10000)\n",
    "    ridge.fit(X_train, y_train)\n",
    "    ridge_train = mse(y_train, ridge.predict(X_train))**.5\n",
    "    ridge_test = mse(y_test, ridge.predict(X_test))**.5\n",
    "    coef_ridge[alpha] = ridge.coef_\n",
    "    \n",
    "    errors = errors.append(pd.Series({\n",
    "        \"Lasso_train\": lasso_train,\n",
    "        \"Lasso_test\": lasso_test,\n",
    "        \"Ridge_train\": ridge_train,\n",
    "        \"Ridge_test\": ridge_test,\n",
    "    }, name=alpha))"
   ]
  },
  {
   "cell_type": "code",
   "execution_count": null,
   "id": "a1b8e6ea",
   "metadata": {},
   "outputs": [],
   "source": [
    "errors"
   ]
  },
  {
   "cell_type": "code",
   "execution_count": null,
   "id": "d16e2207",
   "metadata": {},
   "outputs": [],
   "source": [
    "coef_lasso[5]"
   ]
  },
  {
   "cell_type": "code",
   "execution_count": null,
   "id": "7d4c272d",
   "metadata": {},
   "outputs": [],
   "source": [
    "coef_ridge[5]"
   ]
  },
  {
   "cell_type": "code",
   "execution_count": null,
   "id": "594f075a",
   "metadata": {},
   "outputs": [],
   "source": [
    "errors = pd.DataFrame()\n",
    "alphas = [*range(11),50,100]\n",
    "coef_lasso = {}\n",
    "coef_ridge = {}\n",
    "for alpha in alphas:\n",
    "    #LASSO\n",
    "    lasso = Pipeline([\n",
    "        (\"poly\",PolynomialFeatures(degree=5)),\n",
    "        (\"Lasso\",Lasso(alpha=alpha,max_iter=10000))\n",
    "    ])\n",
    "    lasso.fit(X_train,y_train)\n",
    "    lasso_train = mse(y_train,lasso.predict(X_train))\n",
    "    lasso_test = mse(y_test,lasso.predict(X_test))\n",
    "    coef_lasso[alpha] = lasso.steps[1][1].coef_\n",
    "    \n",
    "    #Ridge\n",
    "    ridge = Pipeline([\n",
    "        (\"poly\",PolynomialFeatures(degree=5)),\n",
    "        (\"ridge\",Ridge(alpha=alpha,max_iter=100000))\n",
    "         ])\n",
    "    ridge.fit(X_train,y_train)\n",
    "    ridge_train = mse(y_train,ridge.predict(X_train))\n",
    "    ridge_test = mse(y_test,ridge.predict(X_test))\n",
    "    coef_ridge[alpha] = ridge.steps[1][1].coef_\n",
    "    \n",
    "    errors = errors.append(pd.Series({\n",
    "        \"LASSO_train\":lasso_train**.5,\n",
    "        \"LASSO_test\":lasso_test**.5,\n",
    "        \"Ridge_train\":ridge_train**.5,\n",
    "        \"Ridge_test\":ridge_test**.5\n",
    "    },name=alpha))\n",
    "errors"
   ]
  },
  {
   "cell_type": "code",
   "execution_count": null,
   "id": "84be96c1",
   "metadata": {},
   "outputs": [],
   "source": [
    "errors = pd.DataFrame()\n",
    "coef_lasso = {}\n",
    "for deg in [1,2,3]:\n",
    "    for alpha in [1,2,3,100]:\n",
    "        #LASSO\n",
    "        print(f\"deg: {deg}\\nalpha: {alpha}\")\n",
    "        lasso = Pipeline([\n",
    "            (\"poly\",PolynomialFeatures(degree=deg)),\n",
    "            (\"Lasso\",Lasso(alpha=alpha,max_iter=10000))\n",
    "        ])\n",
    "        lasso.fit(X_train,y_train)\n",
    "        lasso_train = mse(y_train,lasso.predict(X_train))\n",
    "        lasso_test = mse(y_test,lasso.predict(X_test))\n",
    "        coef_lasso[alpha] = lasso.steps[1][1].coef_\n",
    "\n",
    "        errors = errors.append(pd.Series({\n",
    "            \"LASSO_train\":lasso_train**.5,\n",
    "            \"LASSO_test\":lasso_test**.5,\n",
    "            \"degree\":deg\n",
    "        },name=alpha))\n",
    "errors"
   ]
  },
  {
   "cell_type": "code",
   "execution_count": null,
   "id": "450bd196",
   "metadata": {},
   "outputs": [],
   "source": [
    "errors.sort_values([\"LASSO_test\", \"LASSO_train\"])"
   ]
  },
  {
   "cell_type": "code",
   "execution_count": null,
   "id": "6570415a",
   "metadata": {},
   "outputs": [],
   "source": [
    "model = Pipeline([\n",
    "            (\"poly\",PolynomialFeatures(degree=3)),\n",
    "            (\"Lasso\",Lasso(alpha=1,max_iter=10000))\n",
    "        ])\n",
    "model.fit(X_train, y_train)"
   ]
  },
  {
   "cell_type": "code",
   "execution_count": null,
   "id": "5001837a",
   "metadata": {},
   "outputs": [],
   "source": [
    "y_pred_train = model.predict(X_train)\n",
    "y_pred_test = model.predict(X_test)"
   ]
  },
  {
   "cell_type": "code",
   "execution_count": null,
   "id": "e8d8b411",
   "metadata": {},
   "outputs": [],
   "source": [
    "plt.figure(figsize=(6,6))\n",
    "plt.scatter(y_train, y_pred_train)\n",
    "plt.plot([mini,maxi],[mini,maxi], color=\"red\")\n",
    "plt.xlabel(\"Ground Truth\")\n",
    "plt.ylabel(\"Prediction\");"
   ]
  },
  {
   "cell_type": "code",
   "execution_count": null,
   "id": "4076e449",
   "metadata": {},
   "outputs": [],
   "source": [
    "plt.figure(figsize=(6,6))\n",
    "plt.scatter(y_test, y_pred_test)\n",
    "plt.plot([mini,maxi],[mini,maxi], color=\"red\")\n",
    "plt.xlabel(\"Ground Truth\")\n",
    "plt.ylabel(\"Prediction\");"
   ]
  },
  {
   "cell_type": "code",
   "execution_count": null,
   "id": "213d74a1",
   "metadata": {},
   "outputs": [],
   "source": [
    "PolynomialFeatures(degree=3).fit_transform(X_train).shape"
   ]
  },
  {
   "cell_type": "code",
   "execution_count": null,
   "id": "da8572cc",
   "metadata": {},
   "outputs": [],
   "source": [
    "sum([1 for i in model.steps[1][1].coef_ if i !=0])"
   ]
  },
  {
   "cell_type": "markdown",
   "id": "9ccf0210",
   "metadata": {},
   "source": [
    "## Correlation, or, when it's ok to loose data\n",
    "\n",
    "La correlación es un valor entre -1 y 1 que representa cuanto la variación de dos variables se afectan mutuamente. Si tenemos dos features con muy alta correlación (independiente de la señal), esas features nos están diciendo basicamente la misma información, i.e.: son redundantes. En ese caso es posible retirar alguna de ellas sin mucho prejuicio a los resultados."
   ]
  },
  {
   "cell_type": "code",
   "execution_count": null,
   "id": "68e675d3-f69e-4913-85fb-78f01465b561",
   "metadata": {},
   "outputs": [],
   "source": [
    "points = 1000\n",
    "x = np.linspace(1,10,points)\n",
    "y1 = 2*x +3\n",
    "\n",
    "noise =  np.random.random(points)*20\n",
    "y2 = 2.8*x +3 + noise\n",
    "\n",
    "plt.plot(x,y1, color=\"red\")\n",
    "plt.plot(x,y2, color=\"blue\")\n",
    "\n",
    "pd.DataFrame({\n",
    "    \"y1\":y1,\n",
    "    \"y2\":y2\n",
    "}).corr()"
   ]
  },
  {
   "cell_type": "code",
   "execution_count": null,
   "id": "abf242e7",
   "metadata": {},
   "outputs": [],
   "source": [
    "plt.figure(figsize=(10,8))\n",
    "sns.heatmap(pd.concat([X_dummies,y], axis=1).corr(), annot=True)"
   ]
  },
  {
   "cell_type": "code",
   "execution_count": null,
   "id": "fe2c9d4a",
   "metadata": {},
   "outputs": [],
   "source": [
    "X_train, X_test, y_train, y_test= train_test_split(X_dummies.drop(columns=[\"Length1\",\"Length2\"]), y, random_state=42)"
   ]
  },
  {
   "cell_type": "code",
   "execution_count": null,
   "id": "1de78793",
   "metadata": {},
   "outputs": [],
   "source": [
    "model = Pipeline([\n",
    "            (\"poly\",PolynomialFeatures(degree=3)),\n",
    "            (\"Lasso\",Lasso(alpha=1,max_iter=10000))\n",
    "        ])\n",
    "model.fit(X_train, y_train)\n",
    "y_pred_train = model.predict(X_train)\n",
    "y_pred_test = model.predict(X_test)"
   ]
  },
  {
   "cell_type": "code",
   "execution_count": null,
   "id": "a1e6d41a",
   "metadata": {},
   "outputs": [],
   "source": [
    "mse(y_train, y_pred_train)**.5"
   ]
  },
  {
   "cell_type": "code",
   "execution_count": null,
   "id": "fbce12b6",
   "metadata": {},
   "outputs": [],
   "source": [
    "mse(y_test, y_pred_test)**.5"
   ]
  },
  {
   "cell_type": "code",
   "execution_count": null,
   "id": "caa57b65",
   "metadata": {},
   "outputs": [],
   "source": [
    "PolynomialFeatures(degree=3).fit_transform(X_train).shape"
   ]
  },
  {
   "cell_type": "markdown",
   "id": "8e062ebb",
   "metadata": {},
   "source": [
    "### Important! <a class=\"tocSkip\">\n",
    "    \n",
    "Como podemos ver, el modelo, después de la retirada de las features `Length1` y `Length2`, nos dá resultados similares. No es una buena estratégia en ese caso especificamente, donde tenemos un dataset pequeño y pocas features. En el momento en que la excesividad de features nos produce un mayor coste de recursos, puede merecer la pena remover features de alta correlación"
   ]
  },
  {
   "cell_type": "markdown",
   "id": "75bee0b6",
   "metadata": {},
   "source": [
    "## How variables relate\n",
    "\n",
    "Además de la correlación entre las variables, podemos mirar graficamente la relación entre ellas. Eso nos puede permitir identificar áreas de disperción y relaciones no lineales. 😉"
   ]
  },
  {
   "cell_type": "code",
   "execution_count": null,
   "id": "b6afe238",
   "metadata": {},
   "outputs": [],
   "source": [
    "sns.pairplot(pd.concat([X_dummies, y], axis=1))"
   ]
  },
  {
   "cell_type": "markdown",
   "id": "b8c61318",
   "metadata": {},
   "source": [
    "## Trying different models"
   ]
  },
  {
   "cell_type": "code",
   "execution_count": null,
   "id": "bf18dd4e",
   "metadata": {},
   "outputs": [],
   "source": [
    "from sklearn.svm import SVR\n",
    "from sklearn.linear_model import SGDRegressor\n",
    "from sklearn.ensemble import RandomForestRegressor"
   ]
  },
  {
   "cell_type": "code",
   "execution_count": null,
   "id": "b617239c",
   "metadata": {},
   "outputs": [],
   "source": [
    "models = {\n",
    "    \"LinearRegression\":LinearRegression(),\n",
    "    \"Poly_2\":Pipeline([(\"poly_features\",PolynomialFeatures(degree=2)),\n",
    "                       (\"linear_regression\", LinearRegression())]),\n",
    "    \"Poly_3\":Pipeline([(\"poly_features\",PolynomialFeatures(degree=3)),\n",
    "                       (\"linear_regression\", LinearRegression())]),\n",
    "    \"Poly_4\":Pipeline([(\"poly_features\",PolynomialFeatures(degree=4)),\n",
    "                       (\"linear_regression\", LinearRegression())]),\n",
    "    \"Lasso\":Lasso(alpha=1),\n",
    "    \"Ridge\":Ridge(alpha=1),\n",
    "    \"Support Vector Machine\":SVR(),\n",
    "    \"SGD\":SGDRegressor(max_iter=10000),\n",
    "    \"Random Forrest\": RandomForestRegressor(),\n",
    "    \"Polynomial_dg_2_Lasso\":Pipeline([('poly', PolynomialFeatures(degree=3)),\n",
    "                                      (\"lasso\",Lasso(alpha=10))]),\n",
    "}"
   ]
  },
  {
   "cell_type": "code",
   "execution_count": null,
   "id": "8fd645e7",
   "metadata": {},
   "outputs": [],
   "source": [
    "results_train = {}\n",
    "results_test = {}\n",
    "\n",
    "for name, model in models.items():\n",
    "    print(f\"Training {name}\")\n",
    "    model.fit(X_train, y_train)\n",
    "    results_train[name] = mse(y_train, model.predict(X_train))**.5\n",
    "    results_test[name] = mse(y_test, model.predict(X_test))**.5"
   ]
  },
  {
   "cell_type": "code",
   "execution_count": null,
   "id": "74de7b20",
   "metadata": {},
   "outputs": [],
   "source": [
    "results_train"
   ]
  },
  {
   "cell_type": "code",
   "execution_count": null,
   "id": "4965c539",
   "metadata": {},
   "outputs": [],
   "source": [
    "results_test"
   ]
  },
  {
   "cell_type": "code",
   "execution_count": null,
   "id": "15c4f0f9",
   "metadata": {},
   "outputs": [],
   "source": [
    "pd.set_option('display.float_format', lambda x: '%.2f' % x)\n",
    "pd.DataFrame({\n",
    "    \"Train\":results_train,\n",
    "    \"Test\":results_test\n",
    "})"
   ]
  },
  {
   "cell_type": "code",
   "execution_count": null,
   "id": "622c5984",
   "metadata": {},
   "outputs": [],
   "source": [
    "pd.reset_option('display.float_format')"
   ]
  },
  {
   "cell_type": "markdown",
   "id": "a473872e",
   "metadata": {},
   "source": [
    "## K-folds Cross Validation\n",
    "\n",
    "¿Cómo podemos asegurarnos que los resultados que obtuvimos son validos realmente y no solo casualidad de esa división del Train Test Split?\n",
    "\n",
    "![](img/kfold.png)"
   ]
  },
  {
   "cell_type": "code",
   "execution_count": null,
   "id": "04333a64",
   "metadata": {},
   "outputs": [],
   "source": [
    "from sklearn.model_selection import KFold"
   ]
  },
  {
   "cell_type": "code",
   "execution_count": null,
   "id": "9b33871f",
   "metadata": {},
   "outputs": [],
   "source": [
    "knfolds = KFold(n_splits=5)\n",
    "data_gen = knfolds.split(X_dummies,y)"
   ]
  },
  {
   "cell_type": "code",
   "execution_count": null,
   "id": "018ad546",
   "metadata": {},
   "outputs": [],
   "source": [
    "data_gen"
   ]
  },
  {
   "cell_type": "code",
   "execution_count": null,
   "id": "7c726450",
   "metadata": {},
   "outputs": [],
   "source": [
    "for train, test in data_gen:\n",
    "    print(train),\n",
    "    print(test)\n",
    "    break"
   ]
  },
  {
   "cell_type": "code",
   "execution_count": null,
   "id": "d80aa087",
   "metadata": {},
   "outputs": [],
   "source": [
    "next(data_gen)"
   ]
  },
  {
   "cell_type": "code",
   "execution_count": null,
   "id": "d93f6955",
   "metadata": {},
   "outputs": [],
   "source": [
    "models = {\n",
    "    \"LinearRegression\":LinearRegression(),\n",
    "    \"Poly_2\":Pipeline([(\"poly_features\",PolynomialFeatures(degree=2)),\n",
    "                       (\"linear_regression\", LinearRegression())]),\n",
    "    \"Poly_3\":Pipeline([(\"poly_features\",PolynomialFeatures(degree=3)),\n",
    "                       (\"linear_regression\", LinearRegression())]),\n",
    "    \"Poly_4\":Pipeline([(\"poly_features\",PolynomialFeatures(degree=4)),\n",
    "                       (\"linear_regression\", LinearRegression())]),\n",
    "    \"Lasso\":Lasso(alpha=1),\n",
    "    \"Ridge\":Ridge(alpha=1),\n",
    "    \"Support Vector Machine\":SVR(kernel=\"linear\"),\n",
    "    \"SGD\":SGDRegressor(),\n",
    "    \"Random Forrest\": RandomForestRegressor(),\n",
    "    \"Polynomial_dg_2_Lasso\":Pipeline([('poly', PolynomialFeatures(degree=3)),\n",
    "                                      (\"lasso\",Lasso(alpha=1))]),\n",
    "}"
   ]
  },
  {
   "cell_type": "code",
   "execution_count": null,
   "id": "05740e16",
   "metadata": {},
   "outputs": [],
   "source": [
    "cross_validation = {}\n",
    "\n",
    "for name, model in models.items():\n",
    "    kfolds = KFold(n_splits=5, shuffle=True)\n",
    "    results = []\n",
    "    for train_id, test_id in  kfolds.split(X_dummies, y):\n",
    "        model.fit(X_dummies.iloc[train_id], y.iloc[train_id])\n",
    "        results.append({\n",
    "            \"train\": mse(y.iloc[train_id], model.predict(X_dummies.iloc[train_id]))**.5,\n",
    "            \"test\":  mse(y.iloc[test_id], model.predict(X_dummies.iloc[test_id]))**.5\n",
    "        })\n",
    "    cross_validation[name] = results"
   ]
  },
  {
   "cell_type": "code",
   "execution_count": null,
   "id": "59f425d7",
   "metadata": {},
   "outputs": [],
   "source": [
    "cross_validation"
   ]
  },
  {
   "cell_type": "code",
   "execution_count": null,
   "id": "a1a4a7f3",
   "metadata": {},
   "outputs": [],
   "source": [
    "def get_means(lst):\n",
    "    keys = set([k for ks in lst for k in ks.keys()])\n",
    "    means = {}\n",
    "    for k in keys:\n",
    "        values = [dic[k] for dic in lst]\n",
    "        means[k] = sum(values)/len(values)\n",
    "    return means\n",
    "get_means(cross_validation[\"LinearRegression\"])"
   ]
  },
  {
   "cell_type": "code",
   "execution_count": null,
   "id": "7def920f",
   "metadata": {},
   "outputs": [],
   "source": [
    "pd.set_option('display.float_format', lambda x: '%.2f' % x)\n",
    "pd.DataFrame({k:get_means(v) for k,v in cross_validation.items()}).T"
   ]
  },
  {
   "cell_type": "code",
   "execution_count": null,
   "id": "b1fbf433",
   "metadata": {},
   "outputs": [],
   "source": [
    "pd.reset_option('display.float_format')"
   ]
  },
  {
   "cell_type": "code",
   "execution_count": null,
   "id": "638a1de8",
   "metadata": {},
   "outputs": [],
   "source": [
    "df.describe()"
   ]
  },
  {
   "cell_type": "code",
   "execution_count": null,
   "id": "995ba912",
   "metadata": {},
   "outputs": [],
   "source": []
  }
 ],
 "metadata": {
  "kernelspec": {
   "display_name": "Python 3 (ipykernel)",
   "language": "python",
   "name": "python3"
  },
  "language_info": {
   "codemirror_mode": {
    "name": "ipython",
    "version": 3
   },
   "file_extension": ".py",
   "mimetype": "text/x-python",
   "name": "python",
   "nbconvert_exporter": "python",
   "pygments_lexer": "ipython3",
   "version": "3.9.7"
  },
  "toc": {
   "base_numbering": 1,
   "nav_menu": {},
   "number_sections": true,
   "sideBar": true,
   "skip_h1_title": true,
   "title_cell": "Table of Contents",
   "title_sidebar": "Contents",
   "toc_cell": false,
   "toc_position": {
    "height": "559px",
    "left": "133px",
    "top": "170px",
    "width": "212px"
   },
   "toc_section_display": true,
   "toc_window_display": false
  }
 },
 "nbformat": 4,
 "nbformat_minor": 5
}
