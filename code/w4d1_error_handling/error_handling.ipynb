{
 "cells": [
  {
   "cell_type": "markdown",
   "id": "9dccd618",
   "metadata": {},
   "source": [
    "![](https://api.brandy.run/core/core-logo-wide)\n",
    "\n",
    "# Error Handling\n",
    "\n",
    "![](img/errors.jpeg)\n",
    "\n",
    "Vivimos en una constante batalla contra los errores, ese es el día a día de cualquier programador. Frustrantes como puedan ser en algunos momentos, los errores son parte del oficio. \n",
    "En esa lección nos profundizaremos en el tema de los errores y el manejo de ellos. "
   ]
  },
  {
   "cell_type": "markdown",
   "id": "b3c15995",
   "metadata": {},
   "source": [
    "## 1 Types of errors\n",
    "\n",
    "Antes de hablar de los diferentes tipos de errores específicos en python, debemos definir que hay dos categorías de errores con los cuales podemos encontrarnos.\n",
    "\n",
    "- Bug\n",
    "- Excepción\n",
    "\n",
    "Los bugs son `errores de código`, los errores en que hay algo mal en lo que hemos escrito. Nos falta un paréntesis, hay una tabulación mala, mezclamos tipos de datos incompatíbles, intentamos hacer operaciones imposíbles, etc. La única solución para ese tipo de error es revisar los `tracebacks`, los mensajes de error, y arreglar nuestro código, o no hemos previsto una determinada circunstáncia. No es el tipo de error al qual nos referimos en esa lección.\n",
    "\n",
    "Las excepciones, o `errores de ejecución`, condiciones anómalas que requieren algún tipo especial de procesado. El intuito del `Error Handling` no es arreglar un bug, sino manejar una excepción que pueda venir a pasar para evitar la interrupción de un programa. Eso puede incluir una falla externa, como un problema de conexión o un servicio que se haya caído, un problema de recursos o memória, un mal input, etc."
   ]
  },
  {
   "cell_type": "markdown",
   "id": "d8ec843b",
   "metadata": {},
   "source": [
    "## 2 Error types in Python\n",
    "\n",
    "Cuando nos enfrentamos con un error en Python, tenemos una suerte que no se comparte con otros lenguajes de programación que es una documentación inmediata y altamente precisa de que ha pasado. (Thank you Python Devs)\n",
    "\n",
    "Una de las primeras cosas que vemos es el `nombre` de el error, o mejor dicho, su tipo.\n",
    "\n",
    "`NameError`, `SyntaxError`, `ValueError`, `TypeError`, etc. son solo algunos de los diferentes [tipos de errores](https://docs.python.org/3/library/exceptions.html) con los cuales podemos encontrarnos en Python. "
   ]
  },
  {
   "cell_type": "code",
   "execution_count": 1,
   "id": "44a5a7a6",
   "metadata": {},
   "outputs": [],
   "source": [
    "def div(a,b):\n",
    "    return a/b"
   ]
  },
  {
   "cell_type": "code",
   "execution_count": 4,
   "id": "0f728cad",
   "metadata": {},
   "outputs": [
    {
     "name": "stdout",
     "output_type": "stream",
     "text": [
      "-0.1 -10\n",
      "-0.1111111111111111 -9\n",
      "-0.125 -8\n",
      "-0.14285714285714285 -7\n",
      "-0.16666666666666666 -6\n",
      "-0.2 -5\n",
      "-0.25 -4\n",
      "-0.3333333333333333 -3\n",
      "-0.5 -2\n",
      "-1.0 -1\n"
     ]
    },
    {
     "ename": "ZeroDivisionError",
     "evalue": "division by zero",
     "output_type": "error",
     "traceback": [
      "\u001b[0;31m---------------------------------------------------------------------------\u001b[0m",
      "\u001b[0;31mZeroDivisionError\u001b[0m                         Traceback (most recent call last)",
      "\u001b[0;32m/var/folders/gd/w3m3w_td6cldhkn58qwx7mtm0000gn/T/ipykernel_6893/399050722.py\u001b[0m in \u001b[0;36m<module>\u001b[0;34m\u001b[0m\n\u001b[1;32m      1\u001b[0m \u001b[0;32mfor\u001b[0m \u001b[0mnum\u001b[0m \u001b[0;32min\u001b[0m \u001b[0mrange\u001b[0m\u001b[0;34m(\u001b[0m\u001b[0;34m-\u001b[0m\u001b[0;36m10\u001b[0m\u001b[0;34m,\u001b[0m \u001b[0;36m10\u001b[0m\u001b[0;34m)\u001b[0m\u001b[0;34m:\u001b[0m\u001b[0;34m\u001b[0m\u001b[0;34m\u001b[0m\u001b[0m\n\u001b[0;32m----> 2\u001b[0;31m     \u001b[0mprint\u001b[0m\u001b[0;34m(\u001b[0m\u001b[0mdiv\u001b[0m\u001b[0;34m(\u001b[0m\u001b[0;36m1\u001b[0m\u001b[0;34m,\u001b[0m\u001b[0mnum\u001b[0m\u001b[0;34m)\u001b[0m\u001b[0;34m,\u001b[0m \u001b[0mnum\u001b[0m\u001b[0;34m)\u001b[0m\u001b[0;34m\u001b[0m\u001b[0;34m\u001b[0m\u001b[0m\n\u001b[0m",
      "\u001b[0;32m/var/folders/gd/w3m3w_td6cldhkn58qwx7mtm0000gn/T/ipykernel_6893/3173384365.py\u001b[0m in \u001b[0;36mdiv\u001b[0;34m(a, b)\u001b[0m\n\u001b[1;32m      1\u001b[0m \u001b[0;32mdef\u001b[0m \u001b[0mdiv\u001b[0m\u001b[0;34m(\u001b[0m\u001b[0ma\u001b[0m\u001b[0;34m,\u001b[0m\u001b[0mb\u001b[0m\u001b[0;34m)\u001b[0m\u001b[0;34m:\u001b[0m\u001b[0;34m\u001b[0m\u001b[0;34m\u001b[0m\u001b[0m\n\u001b[0;32m----> 2\u001b[0;31m     \u001b[0;32mreturn\u001b[0m \u001b[0ma\u001b[0m\u001b[0;34m/\u001b[0m\u001b[0mb\u001b[0m\u001b[0;34m\u001b[0m\u001b[0;34m\u001b[0m\u001b[0m\n\u001b[0m",
      "\u001b[0;31mZeroDivisionError\u001b[0m: division by zero"
     ]
    }
   ],
   "source": [
    "for num in range(-10, 10):\n",
    "    print(div(1,num), num)"
   ]
  },
  {
   "cell_type": "code",
   "execution_count": 5,
   "id": "a553e3d0",
   "metadata": {},
   "outputs": [
    {
     "ename": "ZeroDivisionError",
     "evalue": "division by zero",
     "output_type": "error",
     "traceback": [
      "\u001b[0;31m---------------------------------------------------------------------------\u001b[0m",
      "\u001b[0;31mZeroDivisionError\u001b[0m                         Traceback (most recent call last)",
      "\u001b[0;32m/var/folders/gd/w3m3w_td6cldhkn58qwx7mtm0000gn/T/ipykernel_6893/2354412189.py\u001b[0m in \u001b[0;36m<module>\u001b[0;34m\u001b[0m\n\u001b[0;32m----> 1\u001b[0;31m \u001b[0;36m1\u001b[0m\u001b[0;34m/\u001b[0m\u001b[0;36m0\u001b[0m\u001b[0;34m\u001b[0m\u001b[0;34m\u001b[0m\u001b[0m\n\u001b[0m",
      "\u001b[0;31mZeroDivisionError\u001b[0m: division by zero"
     ]
    }
   ],
   "source": [
    "1/0"
   ]
  },
  {
   "cell_type": "code",
   "execution_count": 6,
   "id": "09a281c2",
   "metadata": {},
   "outputs": [
    {
     "ename": "TypeError",
     "evalue": "unsupported operand type(s) for /: 'int' and 'str'",
     "output_type": "error",
     "traceback": [
      "\u001b[0;31m---------------------------------------------------------------------------\u001b[0m",
      "\u001b[0;31mTypeError\u001b[0m                                 Traceback (most recent call last)",
      "\u001b[0;32m/var/folders/gd/w3m3w_td6cldhkn58qwx7mtm0000gn/T/ipykernel_6893/522360567.py\u001b[0m in \u001b[0;36m<module>\u001b[0;34m\u001b[0m\n\u001b[0;32m----> 1\u001b[0;31m \u001b[0;36m1\u001b[0m\u001b[0;34m/\u001b[0m\u001b[0;34m\"1\"\u001b[0m\u001b[0;34m\u001b[0m\u001b[0;34m\u001b[0m\u001b[0m\n\u001b[0m",
      "\u001b[0;31mTypeError\u001b[0m: unsupported operand type(s) for /: 'int' and 'str'"
     ]
    }
   ],
   "source": [
    "1/\"1\""
   ]
  },
  {
   "cell_type": "code",
   "execution_count": 7,
   "id": "b8a2f3a7",
   "metadata": {},
   "outputs": [
    {
     "ename": "TypeError",
     "evalue": "unsupported operand type(s) for /: 'str' and 'int'",
     "output_type": "error",
     "traceback": [
      "\u001b[0;31m---------------------------------------------------------------------------\u001b[0m",
      "\u001b[0;31mTypeError\u001b[0m                                 Traceback (most recent call last)",
      "\u001b[0;32m/var/folders/gd/w3m3w_td6cldhkn58qwx7mtm0000gn/T/ipykernel_6893/4093520145.py\u001b[0m in \u001b[0;36m<module>\u001b[0;34m\u001b[0m\n\u001b[0;32m----> 1\u001b[0;31m \u001b[0;34m\"1\"\u001b[0m\u001b[0;34m/\u001b[0m\u001b[0;36m1\u001b[0m\u001b[0;34m\u001b[0m\u001b[0;34m\u001b[0m\u001b[0m\n\u001b[0m",
      "\u001b[0;31mTypeError\u001b[0m: unsupported operand type(s) for /: 'str' and 'int'"
     ]
    }
   ],
   "source": [
    "\"1\"/1"
   ]
  },
  {
   "cell_type": "code",
   "execution_count": 8,
   "id": "2f219395",
   "metadata": {},
   "outputs": [
    {
     "ename": "NameError",
     "evalue": "name 'no_variable' is not defined",
     "output_type": "error",
     "traceback": [
      "\u001b[0;31m---------------------------------------------------------------------------\u001b[0m",
      "\u001b[0;31mNameError\u001b[0m                                 Traceback (most recent call last)",
      "\u001b[0;32m/var/folders/gd/w3m3w_td6cldhkn58qwx7mtm0000gn/T/ipykernel_6893/3812101108.py\u001b[0m in \u001b[0;36m<module>\u001b[0;34m\u001b[0m\n\u001b[0;32m----> 1\u001b[0;31m \u001b[0mno_variable\u001b[0m\u001b[0;34m/\u001b[0m\u001b[0;36m1\u001b[0m\u001b[0;34m\u001b[0m\u001b[0;34m\u001b[0m\u001b[0m\n\u001b[0m",
      "\u001b[0;31mNameError\u001b[0m: name 'no_variable' is not defined"
     ]
    }
   ],
   "source": [
    "no_variable/1"
   ]
  },
  {
   "cell_type": "code",
   "execution_count": 9,
   "id": "08bf5ddb",
   "metadata": {},
   "outputs": [],
   "source": [
    "import numpy as np"
   ]
  },
  {
   "cell_type": "code",
   "execution_count": 11,
   "id": "ec85e2e6",
   "metadata": {},
   "outputs": [
    {
     "ename": "TypeError",
     "evalue": "cannot perform reduce with flexible type",
     "output_type": "error",
     "traceback": [
      "\u001b[0;31m---------------------------------------------------------------------------\u001b[0m",
      "\u001b[0;31mTypeError\u001b[0m                                 Traceback (most recent call last)",
      "\u001b[0;32m/var/folders/gd/w3m3w_td6cldhkn58qwx7mtm0000gn/T/ipykernel_6893/3118964266.py\u001b[0m in \u001b[0;36m<module>\u001b[0;34m\u001b[0m\n\u001b[1;32m      1\u001b[0m \u001b[0ma\u001b[0m \u001b[0;34m=\u001b[0m \u001b[0;34m[\u001b[0m\u001b[0;36m1\u001b[0m\u001b[0;34m,\u001b[0m\u001b[0;36m2\u001b[0m\u001b[0;34m,\u001b[0m\u001b[0;36m3\u001b[0m\u001b[0;34m,\u001b[0m\u001b[0;36m4\u001b[0m\u001b[0;34m,\u001b[0m\u001b[0;34m\"hola\"\u001b[0m\u001b[0;34m]\u001b[0m\u001b[0;34m\u001b[0m\u001b[0;34m\u001b[0m\u001b[0m\n\u001b[0;32m----> 2\u001b[0;31m \u001b[0mnp\u001b[0m\u001b[0;34m.\u001b[0m\u001b[0msum\u001b[0m\u001b[0;34m(\u001b[0m\u001b[0ma\u001b[0m\u001b[0;34m)\u001b[0m\u001b[0;34m\u001b[0m\u001b[0;34m\u001b[0m\u001b[0m\n\u001b[0m",
      "\u001b[0;32m<__array_function__ internals>\u001b[0m in \u001b[0;36msum\u001b[0;34m(*args, **kwargs)\u001b[0m\n",
      "\u001b[0;32m~/miniconda3/envs/core/lib/python3.9/site-packages/numpy/core/fromnumeric.py\u001b[0m in \u001b[0;36msum\u001b[0;34m(a, axis, dtype, out, keepdims, initial, where)\u001b[0m\n\u001b[1;32m   2257\u001b[0m         \u001b[0;32mreturn\u001b[0m \u001b[0mres\u001b[0m\u001b[0;34m\u001b[0m\u001b[0;34m\u001b[0m\u001b[0m\n\u001b[1;32m   2258\u001b[0m \u001b[0;34m\u001b[0m\u001b[0m\n\u001b[0;32m-> 2259\u001b[0;31m     return _wrapreduction(a, np.add, 'sum', axis, dtype, out, keepdims=keepdims,\n\u001b[0m\u001b[1;32m   2260\u001b[0m                           initial=initial, where=where)\n\u001b[1;32m   2261\u001b[0m \u001b[0;34m\u001b[0m\u001b[0m\n",
      "\u001b[0;32m~/miniconda3/envs/core/lib/python3.9/site-packages/numpy/core/fromnumeric.py\u001b[0m in \u001b[0;36m_wrapreduction\u001b[0;34m(obj, ufunc, method, axis, dtype, out, **kwargs)\u001b[0m\n\u001b[1;32m     84\u001b[0m                 \u001b[0;32mreturn\u001b[0m \u001b[0mreduction\u001b[0m\u001b[0;34m(\u001b[0m\u001b[0maxis\u001b[0m\u001b[0;34m=\u001b[0m\u001b[0maxis\u001b[0m\u001b[0;34m,\u001b[0m \u001b[0mout\u001b[0m\u001b[0;34m=\u001b[0m\u001b[0mout\u001b[0m\u001b[0;34m,\u001b[0m \u001b[0;34m**\u001b[0m\u001b[0mpasskwargs\u001b[0m\u001b[0;34m)\u001b[0m\u001b[0;34m\u001b[0m\u001b[0;34m\u001b[0m\u001b[0m\n\u001b[1;32m     85\u001b[0m \u001b[0;34m\u001b[0m\u001b[0m\n\u001b[0;32m---> 86\u001b[0;31m     \u001b[0;32mreturn\u001b[0m \u001b[0mufunc\u001b[0m\u001b[0;34m.\u001b[0m\u001b[0mreduce\u001b[0m\u001b[0;34m(\u001b[0m\u001b[0mobj\u001b[0m\u001b[0;34m,\u001b[0m \u001b[0maxis\u001b[0m\u001b[0;34m,\u001b[0m \u001b[0mdtype\u001b[0m\u001b[0;34m,\u001b[0m \u001b[0mout\u001b[0m\u001b[0;34m,\u001b[0m \u001b[0;34m**\u001b[0m\u001b[0mpasskwargs\u001b[0m\u001b[0;34m)\u001b[0m\u001b[0;34m\u001b[0m\u001b[0;34m\u001b[0m\u001b[0m\n\u001b[0m\u001b[1;32m     87\u001b[0m \u001b[0;34m\u001b[0m\u001b[0m\n\u001b[1;32m     88\u001b[0m \u001b[0;34m\u001b[0m\u001b[0m\n",
      "\u001b[0;31mTypeError\u001b[0m: cannot perform reduce with flexible type"
     ]
    }
   ],
   "source": [
    "a = [1,2,3,4,\"hola\"]\n",
    "np.sum(a)"
   ]
  },
  {
   "cell_type": "markdown",
   "id": "844e8666",
   "metadata": {},
   "source": [
    "No te creas entretanto que hay un limite para los errores que pueden pasar...\n",
    "\n",
    "Se pueden crear errores próprios. 🥸\n",
    "\n",
    "A ese punto ya sabéis por donde vamos, ¡a crear más clases! Pues los diferentes tipos de errores en Python son diferentes clases, todas derivadas de la clase `Exception`. "
   ]
  },
  {
   "cell_type": "code",
   "execution_count": 12,
   "id": "5f728376",
   "metadata": {},
   "outputs": [],
   "source": [
    "class MyError(Exception):\n",
    "    pass"
   ]
  },
  {
   "cell_type": "markdown",
   "id": "7d203443",
   "metadata": {},
   "source": [
    "## 3 Raising and Exception\n",
    "Los tipos errores se ejecutan de una manera particular, con la palabra `raise`. Se dice que eso `lanza` (`throws`) un error."
   ]
  },
  {
   "cell_type": "code",
   "execution_count": 13,
   "id": "1b4d8272",
   "metadata": {},
   "outputs": [
    {
     "ename": "MyError",
     "evalue": "Esto es una prueba de errores",
     "output_type": "error",
     "traceback": [
      "\u001b[0;31m---------------------------------------------------------------------------\u001b[0m",
      "\u001b[0;31mMyError\u001b[0m                                   Traceback (most recent call last)",
      "\u001b[0;32m/var/folders/gd/w3m3w_td6cldhkn58qwx7mtm0000gn/T/ipykernel_6893/1462453046.py\u001b[0m in \u001b[0;36m<module>\u001b[0;34m\u001b[0m\n\u001b[0;32m----> 1\u001b[0;31m \u001b[0;32mraise\u001b[0m \u001b[0mMyError\u001b[0m\u001b[0;34m(\u001b[0m\u001b[0;34m\"Esto es una prueba de errores\"\u001b[0m\u001b[0;34m)\u001b[0m\u001b[0;34m\u001b[0m\u001b[0;34m\u001b[0m\u001b[0m\n\u001b[0m",
      "\u001b[0;31mMyError\u001b[0m: Esto es una prueba de errores"
     ]
    }
   ],
   "source": [
    "raise MyError(\"Esto es una prueba de errores\")"
   ]
  },
  {
   "cell_type": "code",
   "execution_count": 14,
   "id": "9f13a7e5",
   "metadata": {},
   "outputs": [],
   "source": [
    "class MellamoPepe_algunas_veces(Exception):\n",
    "    def __init__(self, nombre=\"jose\"):\n",
    "        self.name = nombre\n",
    "    def __str__(self):\n",
    "        return self.name"
   ]
  },
  {
   "cell_type": "code",
   "execution_count": 15,
   "id": "4d7b262d",
   "metadata": {},
   "outputs": [
    {
     "ename": "MellamoPepe_algunas_veces",
     "evalue": "Antonio",
     "output_type": "error",
     "traceback": [
      "\u001b[0;31m---------------------------------------------------------------------------\u001b[0m",
      "\u001b[0;31mMellamoPepe_algunas_veces\u001b[0m                 Traceback (most recent call last)",
      "\u001b[0;32m/var/folders/gd/w3m3w_td6cldhkn58qwx7mtm0000gn/T/ipykernel_6893/3733887419.py\u001b[0m in \u001b[0;36m<module>\u001b[0;34m\u001b[0m\n\u001b[0;32m----> 1\u001b[0;31m \u001b[0;32mraise\u001b[0m \u001b[0mMellamoPepe_algunas_veces\u001b[0m\u001b[0;34m(\u001b[0m\u001b[0;34m\"Antonio\"\u001b[0m\u001b[0;34m)\u001b[0m\u001b[0;34m\u001b[0m\u001b[0;34m\u001b[0m\u001b[0m\n\u001b[0m",
      "\u001b[0;31mMellamoPepe_algunas_veces\u001b[0m: Antonio"
     ]
    }
   ],
   "source": [
    "raise MellamoPepe_algunas_veces(\"Antonio\")"
   ]
  },
  {
   "cell_type": "code",
   "execution_count": 16,
   "id": "2399c2b0",
   "metadata": {},
   "outputs": [
    {
     "name": "stdout",
     "output_type": "stream",
     "text": [
      "-0.1\n",
      "-0.1111111111111111\n",
      "-0.125\n",
      "-0.14285714285714285\n",
      "-0.16666666666666666\n",
      "-0.2\n",
      "-0.25\n",
      "-0.3333333333333333\n",
      "-0.5\n",
      "-1.0\n"
     ]
    },
    {
     "ename": "ZeroDivisionError",
     "evalue": "division by zero",
     "output_type": "error",
     "traceback": [
      "\u001b[0;31m---------------------------------------------------------------------------\u001b[0m",
      "\u001b[0;31mZeroDivisionError\u001b[0m                         Traceback (most recent call last)",
      "\u001b[0;32m/var/folders/gd/w3m3w_td6cldhkn58qwx7mtm0000gn/T/ipykernel_6893/2098326479.py\u001b[0m in \u001b[0;36m<module>\u001b[0;34m\u001b[0m\n\u001b[1;32m      1\u001b[0m \u001b[0;32mfor\u001b[0m \u001b[0mi\u001b[0m \u001b[0;32min\u001b[0m \u001b[0mrange\u001b[0m\u001b[0;34m(\u001b[0m\u001b[0;34m-\u001b[0m\u001b[0;36m10\u001b[0m\u001b[0;34m,\u001b[0m\u001b[0;36m10\u001b[0m\u001b[0;34m)\u001b[0m\u001b[0;34m:\u001b[0m\u001b[0;34m\u001b[0m\u001b[0;34m\u001b[0m\u001b[0m\n\u001b[0;32m----> 2\u001b[0;31m     \u001b[0mprint\u001b[0m\u001b[0;34m(\u001b[0m\u001b[0mdiv\u001b[0m\u001b[0;34m(\u001b[0m\u001b[0;36m1\u001b[0m\u001b[0;34m,\u001b[0m\u001b[0mi\u001b[0m\u001b[0;34m)\u001b[0m\u001b[0;34m)\u001b[0m\u001b[0;34m\u001b[0m\u001b[0;34m\u001b[0m\u001b[0m\n\u001b[0m",
      "\u001b[0;32m/var/folders/gd/w3m3w_td6cldhkn58qwx7mtm0000gn/T/ipykernel_6893/3173384365.py\u001b[0m in \u001b[0;36mdiv\u001b[0;34m(a, b)\u001b[0m\n\u001b[1;32m      1\u001b[0m \u001b[0;32mdef\u001b[0m \u001b[0mdiv\u001b[0m\u001b[0;34m(\u001b[0m\u001b[0ma\u001b[0m\u001b[0;34m,\u001b[0m\u001b[0mb\u001b[0m\u001b[0;34m)\u001b[0m\u001b[0;34m:\u001b[0m\u001b[0;34m\u001b[0m\u001b[0;34m\u001b[0m\u001b[0m\n\u001b[0;32m----> 2\u001b[0;31m     \u001b[0;32mreturn\u001b[0m \u001b[0ma\u001b[0m\u001b[0;34m/\u001b[0m\u001b[0mb\u001b[0m\u001b[0;34m\u001b[0m\u001b[0;34m\u001b[0m\u001b[0m\n\u001b[0m",
      "\u001b[0;31mZeroDivisionError\u001b[0m: division by zero"
     ]
    }
   ],
   "source": [
    "for i in range(-10,10):\n",
    "    print(div(1,i))"
   ]
  },
  {
   "cell_type": "markdown",
   "id": "06f3da0d",
   "metadata": {},
   "source": [
    "Pero en general no se \"lanzan\" errores por sí, sino que en alguna determinada condición."
   ]
  },
  {
   "cell_type": "code",
   "execution_count": 17,
   "id": "7fff93f3",
   "metadata": {},
   "outputs": [],
   "source": [
    "def suma(a,b):\n",
    "    return a+b"
   ]
  },
  {
   "cell_type": "code",
   "execution_count": 18,
   "id": "1c50017d",
   "metadata": {},
   "outputs": [
    {
     "data": {
      "text/plain": [
       "3"
      ]
     },
     "execution_count": 18,
     "metadata": {},
     "output_type": "execute_result"
    }
   ],
   "source": [
    "suma(1,2)"
   ]
  },
  {
   "cell_type": "code",
   "execution_count": 19,
   "id": "4f9da042",
   "metadata": {},
   "outputs": [
    {
     "data": {
      "text/plain": [
       "'HoolaAdios'"
      ]
     },
     "execution_count": 19,
     "metadata": {},
     "output_type": "execute_result"
    }
   ],
   "source": [
    "suma(\"Hoola\",\"Adios\")"
   ]
  },
  {
   "cell_type": "code",
   "execution_count": 27,
   "id": "64b4cd98",
   "metadata": {},
   "outputs": [],
   "source": [
    "def suma(a,b):\n",
    "    if type(a) != int:\n",
    "        raise TypeError(f\"El tipo de la variable a debe ser int, no {type(a)}: {a}\")\n",
    "    if not isinstance(b, int):\n",
    "        raise TypeError(f\"El tipo de la variable b debe ser int, no {type(b)}, {b}\")\n",
    "    return a+b"
   ]
  },
  {
   "cell_type": "code",
   "execution_count": 30,
   "id": "df80444f",
   "metadata": {},
   "outputs": [
    {
     "name": "stdout",
     "output_type": "stream",
     "text": [
      "Introduce el valor de a:hola\n",
      "Introduce el valor de b:6\n"
     ]
    },
    {
     "ename": "TypeError",
     "evalue": "El tipo de la variable a debe ser int, no <class 'str'>: hola",
     "output_type": "error",
     "traceback": [
      "\u001b[0;31m---------------------------------------------------------------------------\u001b[0m",
      "\u001b[0;31mTypeError\u001b[0m                                 Traceback (most recent call last)",
      "\u001b[0;32m/var/folders/gd/w3m3w_td6cldhkn58qwx7mtm0000gn/T/ipykernel_6893/4033066022.py\u001b[0m in \u001b[0;36m<module>\u001b[0;34m\u001b[0m\n\u001b[1;32m      1\u001b[0m \u001b[0ma\u001b[0m \u001b[0;34m=\u001b[0m \u001b[0minput\u001b[0m\u001b[0;34m(\u001b[0m\u001b[0;34m\"Introduce el valor de a:\"\u001b[0m\u001b[0;34m)\u001b[0m\u001b[0;34m\u001b[0m\u001b[0;34m\u001b[0m\u001b[0m\n\u001b[1;32m      2\u001b[0m \u001b[0mb\u001b[0m \u001b[0;34m=\u001b[0m \u001b[0minput\u001b[0m\u001b[0;34m(\u001b[0m\u001b[0;34m\"Introduce el valor de b:\"\u001b[0m\u001b[0;34m)\u001b[0m\u001b[0;34m\u001b[0m\u001b[0;34m\u001b[0m\u001b[0m\n\u001b[0;32m----> 3\u001b[0;31m \u001b[0msuma\u001b[0m\u001b[0;34m(\u001b[0m\u001b[0ma\u001b[0m\u001b[0;34m,\u001b[0m\u001b[0mb\u001b[0m\u001b[0;34m)\u001b[0m\u001b[0;34m\u001b[0m\u001b[0;34m\u001b[0m\u001b[0m\n\u001b[0m",
      "\u001b[0;32m/var/folders/gd/w3m3w_td6cldhkn58qwx7mtm0000gn/T/ipykernel_6893/2665412020.py\u001b[0m in \u001b[0;36msuma\u001b[0;34m(a, b)\u001b[0m\n\u001b[1;32m      1\u001b[0m \u001b[0;32mdef\u001b[0m \u001b[0msuma\u001b[0m\u001b[0;34m(\u001b[0m\u001b[0ma\u001b[0m\u001b[0;34m,\u001b[0m\u001b[0mb\u001b[0m\u001b[0;34m)\u001b[0m\u001b[0;34m:\u001b[0m\u001b[0;34m\u001b[0m\u001b[0;34m\u001b[0m\u001b[0m\n\u001b[1;32m      2\u001b[0m     \u001b[0;32mif\u001b[0m \u001b[0mtype\u001b[0m\u001b[0;34m(\u001b[0m\u001b[0ma\u001b[0m\u001b[0;34m)\u001b[0m \u001b[0;34m!=\u001b[0m \u001b[0mint\u001b[0m\u001b[0;34m:\u001b[0m\u001b[0;34m\u001b[0m\u001b[0;34m\u001b[0m\u001b[0m\n\u001b[0;32m----> 3\u001b[0;31m         \u001b[0;32mraise\u001b[0m \u001b[0mTypeError\u001b[0m\u001b[0;34m(\u001b[0m\u001b[0;34mf\"El tipo de la variable a debe ser int, no {type(a)}: {a}\"\u001b[0m\u001b[0;34m)\u001b[0m\u001b[0;34m\u001b[0m\u001b[0;34m\u001b[0m\u001b[0m\n\u001b[0m\u001b[1;32m      4\u001b[0m     \u001b[0;32mif\u001b[0m \u001b[0;32mnot\u001b[0m \u001b[0misinstance\u001b[0m\u001b[0;34m(\u001b[0m\u001b[0mb\u001b[0m\u001b[0;34m,\u001b[0m \u001b[0mint\u001b[0m\u001b[0;34m)\u001b[0m\u001b[0;34m:\u001b[0m\u001b[0;34m\u001b[0m\u001b[0;34m\u001b[0m\u001b[0m\n\u001b[1;32m      5\u001b[0m         \u001b[0;32mraise\u001b[0m \u001b[0mTypeError\u001b[0m\u001b[0;34m(\u001b[0m\u001b[0;34mf\"El tipo de la variable b debe ser int, no {type(b)}, {b}\"\u001b[0m\u001b[0;34m)\u001b[0m\u001b[0;34m\u001b[0m\u001b[0;34m\u001b[0m\u001b[0m\n",
      "\u001b[0;31mTypeError\u001b[0m: El tipo de la variable a debe ser int, no <class 'str'>: hola"
     ]
    }
   ],
   "source": [
    "a = input(\"Introduce el valor de a:\")\n",
    "b = input(\"Introduce el valor de b:\")\n",
    "suma(a,b)"
   ]
  },
  {
   "cell_type": "code",
   "execution_count": 29,
   "id": "a556e98f",
   "metadata": {},
   "outputs": [
    {
     "ename": "TypeError",
     "evalue": "El tipo de la variable a debe ser int, no <class 'str'>: hola",
     "output_type": "error",
     "traceback": [
      "\u001b[0;31m---------------------------------------------------------------------------\u001b[0m",
      "\u001b[0;31mTypeError\u001b[0m                                 Traceback (most recent call last)",
      "\u001b[0;32m/var/folders/gd/w3m3w_td6cldhkn58qwx7mtm0000gn/T/ipykernel_6893/1793295398.py\u001b[0m in \u001b[0;36m<module>\u001b[0;34m\u001b[0m\n\u001b[0;32m----> 1\u001b[0;31m \u001b[0msuma\u001b[0m\u001b[0;34m(\u001b[0m\u001b[0;34m\"hola\"\u001b[0m\u001b[0;34m,\u001b[0m\u001b[0;36m5\u001b[0m\u001b[0;34m)\u001b[0m\u001b[0;34m\u001b[0m\u001b[0;34m\u001b[0m\u001b[0m\n\u001b[0m",
      "\u001b[0;32m/var/folders/gd/w3m3w_td6cldhkn58qwx7mtm0000gn/T/ipykernel_6893/2665412020.py\u001b[0m in \u001b[0;36msuma\u001b[0;34m(a, b)\u001b[0m\n\u001b[1;32m      1\u001b[0m \u001b[0;32mdef\u001b[0m \u001b[0msuma\u001b[0m\u001b[0;34m(\u001b[0m\u001b[0ma\u001b[0m\u001b[0;34m,\u001b[0m\u001b[0mb\u001b[0m\u001b[0;34m)\u001b[0m\u001b[0;34m:\u001b[0m\u001b[0;34m\u001b[0m\u001b[0;34m\u001b[0m\u001b[0m\n\u001b[1;32m      2\u001b[0m     \u001b[0;32mif\u001b[0m \u001b[0mtype\u001b[0m\u001b[0;34m(\u001b[0m\u001b[0ma\u001b[0m\u001b[0;34m)\u001b[0m \u001b[0;34m!=\u001b[0m \u001b[0mint\u001b[0m\u001b[0;34m:\u001b[0m\u001b[0;34m\u001b[0m\u001b[0;34m\u001b[0m\u001b[0m\n\u001b[0;32m----> 3\u001b[0;31m         \u001b[0;32mraise\u001b[0m \u001b[0mTypeError\u001b[0m\u001b[0;34m(\u001b[0m\u001b[0;34mf\"El tipo de la variable a debe ser int, no {type(a)}: {a}\"\u001b[0m\u001b[0;34m)\u001b[0m\u001b[0;34m\u001b[0m\u001b[0;34m\u001b[0m\u001b[0m\n\u001b[0m\u001b[1;32m      4\u001b[0m     \u001b[0;32mif\u001b[0m \u001b[0;32mnot\u001b[0m \u001b[0misinstance\u001b[0m\u001b[0;34m(\u001b[0m\u001b[0mb\u001b[0m\u001b[0;34m,\u001b[0m \u001b[0mint\u001b[0m\u001b[0;34m)\u001b[0m\u001b[0;34m:\u001b[0m\u001b[0;34m\u001b[0m\u001b[0;34m\u001b[0m\u001b[0m\n\u001b[1;32m      5\u001b[0m         \u001b[0;32mraise\u001b[0m \u001b[0mTypeError\u001b[0m\u001b[0;34m(\u001b[0m\u001b[0;34mf\"El tipo de la variable b debe ser int, no {type(b)}, {b}\"\u001b[0m\u001b[0;34m)\u001b[0m\u001b[0;34m\u001b[0m\u001b[0;34m\u001b[0m\u001b[0m\n",
      "\u001b[0;31mTypeError\u001b[0m: El tipo de la variable a debe ser int, no <class 'str'>: hola"
     ]
    }
   ],
   "source": [
    "suma(\"hola\",5)"
   ]
  },
  {
   "cell_type": "code",
   "execution_count": 26,
   "id": "f07aaa76",
   "metadata": {},
   "outputs": [
    {
     "ename": "TypeError",
     "evalue": "El tipo de la variable b debe ser int, no <class 'str'>",
     "output_type": "error",
     "traceback": [
      "\u001b[0;31m---------------------------------------------------------------------------\u001b[0m",
      "\u001b[0;31mTypeError\u001b[0m                                 Traceback (most recent call last)",
      "\u001b[0;32m/var/folders/gd/w3m3w_td6cldhkn58qwx7mtm0000gn/T/ipykernel_6893/419686888.py\u001b[0m in \u001b[0;36m<module>\u001b[0;34m\u001b[0m\n\u001b[0;32m----> 1\u001b[0;31m \u001b[0msuma\u001b[0m\u001b[0;34m(\u001b[0m\u001b[0;36m13\u001b[0m\u001b[0;34m,\u001b[0m\u001b[0;34m\"b\"\u001b[0m\u001b[0;34m)\u001b[0m\u001b[0;34m\u001b[0m\u001b[0;34m\u001b[0m\u001b[0m\n\u001b[0m",
      "\u001b[0;32m/var/folders/gd/w3m3w_td6cldhkn58qwx7mtm0000gn/T/ipykernel_6893/735267144.py\u001b[0m in \u001b[0;36msuma\u001b[0;34m(a, b)\u001b[0m\n\u001b[1;32m      3\u001b[0m         \u001b[0;32mraise\u001b[0m \u001b[0mTypeError\u001b[0m\u001b[0;34m(\u001b[0m\u001b[0;34mf\"El tipo de la variable a debe ser int, no {type(a)}\"\u001b[0m\u001b[0;34m)\u001b[0m\u001b[0;34m\u001b[0m\u001b[0;34m\u001b[0m\u001b[0m\n\u001b[1;32m      4\u001b[0m     \u001b[0;32mif\u001b[0m \u001b[0;32mnot\u001b[0m \u001b[0misinstance\u001b[0m\u001b[0;34m(\u001b[0m\u001b[0mb\u001b[0m\u001b[0;34m,\u001b[0m \u001b[0mint\u001b[0m\u001b[0;34m)\u001b[0m\u001b[0;34m:\u001b[0m\u001b[0;34m\u001b[0m\u001b[0;34m\u001b[0m\u001b[0m\n\u001b[0;32m----> 5\u001b[0;31m         \u001b[0;32mraise\u001b[0m \u001b[0mTypeError\u001b[0m\u001b[0;34m(\u001b[0m\u001b[0;34mf\"El tipo de la variable b debe ser int, no {type(b)}\"\u001b[0m\u001b[0;34m)\u001b[0m\u001b[0;34m\u001b[0m\u001b[0;34m\u001b[0m\u001b[0m\n\u001b[0m\u001b[1;32m      6\u001b[0m     \u001b[0;32mreturn\u001b[0m \u001b[0ma\u001b[0m\u001b[0;34m+\u001b[0m\u001b[0mb\u001b[0m\u001b[0;34m\u001b[0m\u001b[0;34m\u001b[0m\u001b[0m\n",
      "\u001b[0;31mTypeError\u001b[0m: El tipo de la variable b debe ser int, no <class 'str'>"
     ]
    }
   ],
   "source": [
    "suma(13,\"b\")"
   ]
  },
  {
   "cell_type": "code",
   "execution_count": null,
   "id": "d1812cc2",
   "metadata": {},
   "outputs": [],
   "source": [
    "# try...except..."
   ]
  },
  {
   "cell_type": "code",
   "execution_count": 32,
   "id": "a3df6914",
   "metadata": {},
   "outputs": [
    {
     "name": "stdout",
     "output_type": "stream",
     "text": [
      "-0.1\n",
      "-0.1111111111111111\n",
      "-0.125\n",
      "-0.14285714285714285\n",
      "-0.16666666666666666\n",
      "-0.2\n",
      "-0.25\n",
      "-0.3333333333333333\n",
      "-0.5\n",
      "-1.0\n",
      "Has intentado dividir por 0, eso no se puede\n",
      "1.0\n",
      "0.5\n",
      "0.3333333333333333\n",
      "0.25\n",
      "0.2\n",
      "0.16666666666666666\n",
      "0.14285714285714285\n",
      "0.125\n",
      "0.1111111111111111\n"
     ]
    }
   ],
   "source": [
    "for i in range(-10,10):\n",
    "    try:\n",
    "        print(div(1,i))\n",
    "    except:\n",
    "        print(\"Has intentado dividir por 0, eso no se puede\")"
   ]
  },
  {
   "cell_type": "code",
   "execution_count": 33,
   "id": "54dedb8f",
   "metadata": {},
   "outputs": [],
   "source": [
    "def div(a,b):\n",
    "    try:\n",
    "        return a/b\n",
    "    except:\n",
    "        return \"Has intentado hacer una division imposible\""
   ]
  },
  {
   "cell_type": "code",
   "execution_count": 34,
   "id": "b420e1ab",
   "metadata": {},
   "outputs": [
    {
     "name": "stdout",
     "output_type": "stream",
     "text": [
      "-0.1\n",
      "-0.1111111111111111\n",
      "-0.125\n",
      "-0.14285714285714285\n",
      "-0.16666666666666666\n",
      "-0.2\n",
      "-0.25\n",
      "-0.3333333333333333\n",
      "-0.5\n",
      "-1.0\n",
      "Has intentado hacer una division imposible\n",
      "1.0\n",
      "0.5\n",
      "0.3333333333333333\n",
      "0.25\n",
      "0.2\n",
      "0.16666666666666666\n",
      "0.14285714285714285\n",
      "0.125\n",
      "0.1111111111111111\n"
     ]
    }
   ],
   "source": [
    "for i in range(-10,10):\n",
    "    print(div(1,i))"
   ]
  },
  {
   "cell_type": "code",
   "execution_count": 63,
   "id": "a2fe91e2",
   "metadata": {},
   "outputs": [],
   "source": [
    "db = [\"Rodrigo\", \"Iñigo\", \"Abraham\", \"Alvaro\"]\n",
    "\n",
    "\n",
    "class NotFound(Exception):\n",
    "    def __init__(self, name):\n",
    "        self.name = name\n",
    "        adding_to_db(self.name, db)\n",
    "        \n",
    "    def __str__(self):\n",
    "        return f\"{self.name} not in database. Added the person to the database\"\n",
    "\n",
    "def adding_to_db(name, db):\n",
    "    db.append(name)\n",
    "    print(\"-\"*20)\n",
    "    print(f\"Added {name} to database\")\n",
    "    print(\"-\"*20)\n",
    "\n",
    "def connection(name):\n",
    "    if name not in db:\n",
    "        raise NotFound(name)\n",
    "        print(\"Despues de raise\")\n",
    "    else:\n",
    "        return \"Todo correcto\""
   ]
  },
  {
   "cell_type": "code",
   "execution_count": 64,
   "id": "ffe38e6d",
   "metadata": {
    "scrolled": false
   },
   "outputs": [
    {
     "name": "stdout",
     "output_type": "stream",
     "text": [
      "--------------------\n",
      "Added Ignacio to database\n",
      "--------------------\n"
     ]
    },
    {
     "ename": "NotFound",
     "evalue": "Ignacio not in database. Added the person to the database",
     "output_type": "error",
     "traceback": [
      "\u001b[0;31m---------------------------------------------------------------------------\u001b[0m",
      "\u001b[0;31mNotFound\u001b[0m                                  Traceback (most recent call last)",
      "\u001b[0;32m/var/folders/gd/w3m3w_td6cldhkn58qwx7mtm0000gn/T/ipykernel_6893/3787982852.py\u001b[0m in \u001b[0;36m<module>\u001b[0;34m\u001b[0m\n\u001b[0;32m----> 1\u001b[0;31m \u001b[0mconnection\u001b[0m\u001b[0;34m(\u001b[0m\u001b[0;34m\"Ignacio\"\u001b[0m\u001b[0;34m)\u001b[0m\u001b[0;34m\u001b[0m\u001b[0;34m\u001b[0m\u001b[0m\n\u001b[0m",
      "\u001b[0;32m/var/folders/gd/w3m3w_td6cldhkn58qwx7mtm0000gn/T/ipykernel_6893/3290795365.py\u001b[0m in \u001b[0;36mconnection\u001b[0;34m(name)\u001b[0m\n\u001b[1;32m     18\u001b[0m \u001b[0;32mdef\u001b[0m \u001b[0mconnection\u001b[0m\u001b[0;34m(\u001b[0m\u001b[0mname\u001b[0m\u001b[0;34m)\u001b[0m\u001b[0;34m:\u001b[0m\u001b[0;34m\u001b[0m\u001b[0;34m\u001b[0m\u001b[0m\n\u001b[1;32m     19\u001b[0m     \u001b[0;32mif\u001b[0m \u001b[0mname\u001b[0m \u001b[0;32mnot\u001b[0m \u001b[0;32min\u001b[0m \u001b[0mdb\u001b[0m\u001b[0;34m:\u001b[0m\u001b[0;34m\u001b[0m\u001b[0;34m\u001b[0m\u001b[0m\n\u001b[0;32m---> 20\u001b[0;31m         \u001b[0;32mraise\u001b[0m \u001b[0mNotFound\u001b[0m\u001b[0;34m(\u001b[0m\u001b[0mname\u001b[0m\u001b[0;34m)\u001b[0m\u001b[0;34m\u001b[0m\u001b[0;34m\u001b[0m\u001b[0m\n\u001b[0m\u001b[1;32m     21\u001b[0m         \u001b[0mprint\u001b[0m\u001b[0;34m(\u001b[0m\u001b[0;34m\"Despues de raise\"\u001b[0m\u001b[0;34m)\u001b[0m\u001b[0;34m\u001b[0m\u001b[0;34m\u001b[0m\u001b[0m\n\u001b[1;32m     22\u001b[0m     \u001b[0;32melse\u001b[0m\u001b[0;34m:\u001b[0m\u001b[0;34m\u001b[0m\u001b[0;34m\u001b[0m\u001b[0m\n",
      "\u001b[0;31mNotFound\u001b[0m: Ignacio not in database. Added the person to the database"
     ]
    }
   ],
   "source": [
    "connection(\"Ignacio\")"
   ]
  },
  {
   "cell_type": "code",
   "execution_count": 65,
   "id": "cea92dbf",
   "metadata": {},
   "outputs": [
    {
     "data": {
      "text/plain": [
       "['Rodrigo', 'Iñigo', 'Abraham', 'Alvaro', 'Ignacio']"
      ]
     },
     "execution_count": 65,
     "metadata": {},
     "output_type": "execute_result"
    }
   ],
   "source": [
    "db"
   ]
  },
  {
   "cell_type": "code",
   "execution_count": 66,
   "id": "c326ac5e",
   "metadata": {},
   "outputs": [
    {
     "name": "stdout",
     "output_type": "stream",
     "text": [
      "Antes de la division\n",
      "Ha ocurrido un error\n"
     ]
    }
   ],
   "source": [
    "try:\n",
    "    print(\"Antes de la division\")\n",
    "    1/0\n",
    "    print(\"Despue de la division\")\n",
    "except:\n",
    "    print(\"Ha ocurrido un error\")"
   ]
  },
  {
   "cell_type": "markdown",
   "id": "b029735b",
   "metadata": {},
   "source": [
    "## 4 Assertion Errors\n",
    "\n",
    "Una otra manera de lanzar un error en python es con la palabra `assert`. Ese statement sirve para que verifiquemos que una condición se cumple. Si no se cumple, lanza la excepción. Eso impide que un programa se ejecute en circunstáncias inapropriadas."
   ]
  },
  {
   "cell_type": "code",
   "execution_count": 69,
   "id": "86e4037e",
   "metadata": {},
   "outputs": [
    {
     "ename": "AssertionError",
     "evalue": "Has intentado hacer algo imposible",
     "output_type": "error",
     "traceback": [
      "\u001b[0;31m---------------------------------------------------------------------------\u001b[0m",
      "\u001b[0;31mAssertionError\u001b[0m                            Traceback (most recent call last)",
      "\u001b[0;32m/var/folders/gd/w3m3w_td6cldhkn58qwx7mtm0000gn/T/ipykernel_6893/462943795.py\u001b[0m in \u001b[0;36m<module>\u001b[0;34m\u001b[0m\n\u001b[0;32m----> 1\u001b[0;31m \u001b[0;32massert\u001b[0m \u001b[0;36m2\u001b[0m\u001b[0;34m/\u001b[0m\u001b[0;36m2\u001b[0m\u001b[0;34m!=\u001b[0m\u001b[0;36m1\u001b[0m\u001b[0;34m,\u001b[0m \u001b[0;34m\"Has intentado hacer algo imposible\"\u001b[0m\u001b[0;34m\u001b[0m\u001b[0;34m\u001b[0m\u001b[0m\n\u001b[0m",
      "\u001b[0;31mAssertionError\u001b[0m: Has intentado hacer algo imposible"
     ]
    }
   ],
   "source": [
    "assert 2/2!=1, \"Has intentado hacer algo imposible\""
   ]
  },
  {
   "cell_type": "code",
   "execution_count": 72,
   "id": "305a2b13",
   "metadata": {},
   "outputs": [
    {
     "name": "stdout",
     "output_type": "stream",
     "text": [
      "-10\n",
      "-9\n",
      "-8\n",
      "-7\n",
      "-6\n",
      "-5\n",
      "-4\n",
      "-3\n",
      "-2\n",
      "-1\n",
      "0\n"
     ]
    },
    {
     "ename": "AssertionError",
     "evalue": "0 es 0",
     "output_type": "error",
     "traceback": [
      "\u001b[0;31m---------------------------------------------------------------------------\u001b[0m",
      "\u001b[0;31mAssertionError\u001b[0m                            Traceback (most recent call last)",
      "\u001b[0;32m/var/folders/gd/w3m3w_td6cldhkn58qwx7mtm0000gn/T/ipykernel_6893/275085302.py\u001b[0m in \u001b[0;36m<module>\u001b[0;34m\u001b[0m\n\u001b[1;32m      1\u001b[0m \u001b[0;32mfor\u001b[0m \u001b[0mnum\u001b[0m \u001b[0;32min\u001b[0m \u001b[0mrange\u001b[0m\u001b[0;34m(\u001b[0m\u001b[0;34m-\u001b[0m\u001b[0;36m10\u001b[0m\u001b[0;34m,\u001b[0m\u001b[0;36m10\u001b[0m\u001b[0;34m)\u001b[0m\u001b[0;34m:\u001b[0m\u001b[0;34m\u001b[0m\u001b[0;34m\u001b[0m\u001b[0m\n\u001b[1;32m      2\u001b[0m     \u001b[0mprint\u001b[0m\u001b[0;34m(\u001b[0m\u001b[0mnum\u001b[0m\u001b[0;34m)\u001b[0m\u001b[0;34m\u001b[0m\u001b[0;34m\u001b[0m\u001b[0m\n\u001b[0;32m----> 3\u001b[0;31m     \u001b[0;32massert\u001b[0m \u001b[0mnum\u001b[0m\u001b[0;34m!=\u001b[0m\u001b[0;36m0\u001b[0m\u001b[0;34m,\u001b[0m \u001b[0;34mf\"{num} es 0\"\u001b[0m\u001b[0;34m\u001b[0m\u001b[0;34m\u001b[0m\u001b[0m\n\u001b[0m",
      "\u001b[0;31mAssertionError\u001b[0m: 0 es 0"
     ]
    }
   ],
   "source": [
    "for num in range(-10,10):\n",
    "    print(num)\n",
    "    assert num!=0, f\"{num} es 0\""
   ]
  },
  {
   "cell_type": "markdown",
   "id": "cfc4682d",
   "metadata": {},
   "source": [
    "## 5 Capturing Exceptions\n",
    "\n",
    "Como hemos visto, siempre que un error es lanzado, la ejecución del programa es interrumpida. Para poder gestionar los errores podemos utilizar una estructura de sintáxis para capturar un error y ejecutar un plan alternativo. \n",
    "\n",
    "Esa estructura es el `try...except`. Similarmente a los bloques if...else, el try...except direccionará la ejecución del programa, pero esa decisión no se hace sobre una condición.\n",
    "\n",
    "Siempre se ejecutará el bloque `try`. En el caso de que no haya ningún error, el programa saltará el bloque `except` y seguirá normalmente.\n",
    "\n",
    "Caso contrário, cuando ocurra un error en la ejecución del bloque `try`, la ejecución de ese bloque parará y el programa empezará el bloque `except`."
   ]
  },
  {
   "cell_type": "code",
   "execution_count": 73,
   "id": "d6b62aef",
   "metadata": {},
   "outputs": [
    {
     "ename": "ZeroDivisionError",
     "evalue": "division by zero",
     "output_type": "error",
     "traceback": [
      "\u001b[0;31m---------------------------------------------------------------------------\u001b[0m",
      "\u001b[0;31mZeroDivisionError\u001b[0m                         Traceback (most recent call last)",
      "\u001b[0;32m/var/folders/gd/w3m3w_td6cldhkn58qwx7mtm0000gn/T/ipykernel_6893/2354412189.py\u001b[0m in \u001b[0;36m<module>\u001b[0;34m\u001b[0m\n\u001b[0;32m----> 1\u001b[0;31m \u001b[0;36m1\u001b[0m\u001b[0;34m/\u001b[0m\u001b[0;36m0\u001b[0m\u001b[0;34m\u001b[0m\u001b[0;34m\u001b[0m\u001b[0m\n\u001b[0m",
      "\u001b[0;31mZeroDivisionError\u001b[0m: division by zero"
     ]
    }
   ],
   "source": [
    "1/0"
   ]
  },
  {
   "cell_type": "code",
   "execution_count": 74,
   "id": "b98e5db9",
   "metadata": {},
   "outputs": [
    {
     "ename": "TypeError",
     "evalue": "unsupported operand type(s) for /: 'int' and 'str'",
     "output_type": "error",
     "traceback": [
      "\u001b[0;31m---------------------------------------------------------------------------\u001b[0m",
      "\u001b[0;31mTypeError\u001b[0m                                 Traceback (most recent call last)",
      "\u001b[0;32m/var/folders/gd/w3m3w_td6cldhkn58qwx7mtm0000gn/T/ipykernel_6893/3701674598.py\u001b[0m in \u001b[0;36m<module>\u001b[0;34m\u001b[0m\n\u001b[0;32m----> 1\u001b[0;31m \u001b[0;36m1\u001b[0m\u001b[0;34m/\u001b[0m\u001b[0;34m\"Hola\"\u001b[0m\u001b[0;34m\u001b[0m\u001b[0;34m\u001b[0m\u001b[0m\n\u001b[0m",
      "\u001b[0;31mTypeError\u001b[0m: unsupported operand type(s) for /: 'int' and 'str'"
     ]
    }
   ],
   "source": [
    "1/\"Hola\""
   ]
  },
  {
   "cell_type": "code",
   "execution_count": 86,
   "id": "5a4d807b",
   "metadata": {},
   "outputs": [],
   "source": [
    "def div(a,b):\n",
    "    try:\n",
    "        return a/b\n",
    "    except TypeError as te:\n",
    "        return f\"{b} no es un numero\"\n",
    "    except ZeroDivisionError as ze:\n",
    "        return 0"
   ]
  },
  {
   "cell_type": "code",
   "execution_count": 84,
   "id": "76a539c1",
   "metadata": {},
   "outputs": [
    {
     "name": "stdout",
     "output_type": "stream",
     "text": [
      "1.0\n",
      "0.5\n",
      "0.3333333333333333\n",
      "0.25\n",
      "Hola no es un numero\n",
      "0\n"
     ]
    }
   ],
   "source": [
    "for i in [1,2,3,4,\"Hola\",0]:\n",
    "    print(div(1,i))"
   ]
  },
  {
   "cell_type": "markdown",
   "id": "90100ae6",
   "metadata": {},
   "source": [
    "Cuando no indicamos la excepcion a tratar en la parte de `except`, estamos tratando cualquier tipo de excepcion que pueda ocurrir. Basicamente, estamos capturando la excepcion `Exception`, clase padre de todas las excepciones."
   ]
  },
  {
   "cell_type": "code",
   "execution_count": 85,
   "id": "3bededa5",
   "metadata": {},
   "outputs": [],
   "source": [
    "try:\n",
    "    pass\n",
    "except Exception as e:\n",
    "    pass"
   ]
  },
  {
   "cell_type": "code",
   "execution_count": null,
   "id": "d2fec6ff",
   "metadata": {},
   "outputs": [],
   "source": [
    "try:\n",
    "    pass\n",
    "except:\n",
    "    pass"
   ]
  },
  {
   "cell_type": "code",
   "execution_count": 88,
   "id": "6b5d2995",
   "metadata": {},
   "outputs": [
    {
     "ename": "TypeError",
     "evalue": "unsupported operand type(s) for /: 'int' and 'str'",
     "output_type": "error",
     "traceback": [
      "\u001b[0;31m---------------------------------------------------------------------------\u001b[0m",
      "\u001b[0;31mTypeError\u001b[0m                                 Traceback (most recent call last)",
      "\u001b[0;32m/var/folders/gd/w3m3w_td6cldhkn58qwx7mtm0000gn/T/ipykernel_6893/653020856.py\u001b[0m in \u001b[0;36m<module>\u001b[0;34m\u001b[0m\n\u001b[0;32m----> 1\u001b[0;31m \u001b[0;36m1\u001b[0m\u001b[0;34m/\u001b[0m\u001b[0;34m\"a\"\u001b[0m\u001b[0;34m\u001b[0m\u001b[0;34m\u001b[0m\u001b[0m\n\u001b[0m",
      "\u001b[0;31mTypeError\u001b[0m: unsupported operand type(s) for /: 'int' and 'str'"
     ]
    }
   ],
   "source": [
    "1/\"a\""
   ]
  },
  {
   "cell_type": "code",
   "execution_count": 89,
   "id": "01192f27",
   "metadata": {},
   "outputs": [
    {
     "name": "stdout",
     "output_type": "stream",
     "text": [
      "division by zero\n",
      "['__cause__', '__class__', '__context__', '__delattr__', '__dict__', '__dir__', '__doc__', '__eq__', '__format__', '__ge__', '__getattribute__', '__gt__', '__hash__', '__init__', '__init_subclass__', '__le__', '__lt__', '__ne__', '__new__', '__reduce__', '__reduce_ex__', '__repr__', '__setattr__', '__setstate__', '__sizeof__', '__str__', '__subclasshook__', '__suppress_context__', '__traceback__', 'args', 'with_traceback']\n",
      "<class 'ZeroDivisionError'>\n"
     ]
    }
   ],
   "source": [
    "n = 0\n",
    "try:\n",
    "    1/n\n",
    "except Exception as e:\n",
    "    print(e)\n",
    "    print(dir(e))\n",
    "    print(type(e))"
   ]
  },
  {
   "cell_type": "markdown",
   "id": "65b9e4a4",
   "metadata": {},
   "source": [
    "### 5.1 Catching specific exceptions\n",
    "\n",
    "En el caso de que haya un error, usamos el bloque except para proponer una ejecución alternativa. Pero podemos también en ese momento capturar ese error. Eso permite, dentre otras cosas, mantener un log (registro) de los errores."
   ]
  },
  {
   "cell_type": "code",
   "execution_count": 90,
   "id": "7d50884e",
   "metadata": {},
   "outputs": [],
   "source": [
    "def div(a,b):\n",
    "    try:\n",
    "        return a/b\n",
    "    except:\n",
    "        return float(a)/float(b)"
   ]
  },
  {
   "cell_type": "code",
   "execution_count": 93,
   "id": "534e88e4",
   "metadata": {},
   "outputs": [
    {
     "data": {
      "text/plain": [
       "0.14285714285714285"
      ]
     },
     "execution_count": 93,
     "metadata": {},
     "output_type": "execute_result"
    }
   ],
   "source": [
    "div(1,\"7\")"
   ]
  },
  {
   "cell_type": "code",
   "execution_count": 94,
   "id": "ba51edb7",
   "metadata": {},
   "outputs": [
    {
     "ename": "ValueError",
     "evalue": "could not convert string to float: 'hola'",
     "output_type": "error",
     "traceback": [
      "\u001b[0;31m---------------------------------------------------------------------------\u001b[0m",
      "\u001b[0;31mTypeError\u001b[0m                                 Traceback (most recent call last)",
      "\u001b[0;32m/var/folders/gd/w3m3w_td6cldhkn58qwx7mtm0000gn/T/ipykernel_6893/2754724394.py\u001b[0m in \u001b[0;36mdiv\u001b[0;34m(a, b)\u001b[0m\n\u001b[1;32m      2\u001b[0m     \u001b[0;32mtry\u001b[0m\u001b[0;34m:\u001b[0m\u001b[0;34m\u001b[0m\u001b[0;34m\u001b[0m\u001b[0m\n\u001b[0;32m----> 3\u001b[0;31m         \u001b[0;32mreturn\u001b[0m \u001b[0ma\u001b[0m\u001b[0;34m/\u001b[0m\u001b[0mb\u001b[0m\u001b[0;34m\u001b[0m\u001b[0;34m\u001b[0m\u001b[0m\n\u001b[0m\u001b[1;32m      4\u001b[0m     \u001b[0;32mexcept\u001b[0m\u001b[0;34m:\u001b[0m\u001b[0;34m\u001b[0m\u001b[0;34m\u001b[0m\u001b[0m\n",
      "\u001b[0;31mTypeError\u001b[0m: unsupported operand type(s) for /: 'str' and 'int'",
      "\nDuring handling of the above exception, another exception occurred:\n",
      "\u001b[0;31mValueError\u001b[0m                                Traceback (most recent call last)",
      "\u001b[0;32m/var/folders/gd/w3m3w_td6cldhkn58qwx7mtm0000gn/T/ipykernel_6893/2611694685.py\u001b[0m in \u001b[0;36m<module>\u001b[0;34m\u001b[0m\n\u001b[0;32m----> 1\u001b[0;31m \u001b[0mdiv\u001b[0m\u001b[0;34m(\u001b[0m\u001b[0;34m\"hola\"\u001b[0m\u001b[0;34m,\u001b[0m\u001b[0;36m1\u001b[0m\u001b[0;34m)\u001b[0m\u001b[0;34m\u001b[0m\u001b[0;34m\u001b[0m\u001b[0m\n\u001b[0m",
      "\u001b[0;32m/var/folders/gd/w3m3w_td6cldhkn58qwx7mtm0000gn/T/ipykernel_6893/2754724394.py\u001b[0m in \u001b[0;36mdiv\u001b[0;34m(a, b)\u001b[0m\n\u001b[1;32m      3\u001b[0m         \u001b[0;32mreturn\u001b[0m \u001b[0ma\u001b[0m\u001b[0;34m/\u001b[0m\u001b[0mb\u001b[0m\u001b[0;34m\u001b[0m\u001b[0;34m\u001b[0m\u001b[0m\n\u001b[1;32m      4\u001b[0m     \u001b[0;32mexcept\u001b[0m\u001b[0;34m:\u001b[0m\u001b[0;34m\u001b[0m\u001b[0;34m\u001b[0m\u001b[0m\n\u001b[0;32m----> 5\u001b[0;31m         \u001b[0;32mreturn\u001b[0m \u001b[0mfloat\u001b[0m\u001b[0;34m(\u001b[0m\u001b[0ma\u001b[0m\u001b[0;34m)\u001b[0m\u001b[0;34m/\u001b[0m\u001b[0mfloat\u001b[0m\u001b[0;34m(\u001b[0m\u001b[0mb\u001b[0m\u001b[0;34m)\u001b[0m\u001b[0;34m\u001b[0m\u001b[0;34m\u001b[0m\u001b[0m\n\u001b[0m",
      "\u001b[0;31mValueError\u001b[0m: could not convert string to float: 'hola'"
     ]
    }
   ],
   "source": [
    "div(\"hola\",1)"
   ]
  },
  {
   "cell_type": "code",
   "execution_count": 95,
   "id": "c53c8e8d",
   "metadata": {},
   "outputs": [],
   "source": [
    "def div(a,b):\n",
    "    try:\n",
    "        return a/b\n",
    "    except:\n",
    "        try:\n",
    "            return float(a)/float(b)\n",
    "        except:\n",
    "            return \"Todo ha fallado estrepitosamente\""
   ]
  },
  {
   "cell_type": "code",
   "execution_count": 96,
   "id": "f0c67c51",
   "metadata": {},
   "outputs": [
    {
     "data": {
      "text/plain": [
       "'Todo ha fallado estrepitosamente'"
      ]
     },
     "execution_count": 96,
     "metadata": {},
     "output_type": "execute_result"
    }
   ],
   "source": [
    "div(\"hola\",1)"
   ]
  },
  {
   "cell_type": "code",
   "execution_count": 112,
   "id": "d8adbb11",
   "metadata": {},
   "outputs": [],
   "source": [
    "input_data = [1,\"Hola\",2.3, \"8\"]\n",
    "log = []\n",
    "output = []\n",
    "\n",
    "def pow_2(value):\n",
    "    try:\n",
    "        output.append(float(value)**2)\n",
    "        return float(value)**2\n",
    "    except Exception as e:\n",
    "        output.append(\"ERROR\")\n",
    "        log.append((e.__str__(),type(e) ,f\"Se ha producido en el parametro {value}\"))"
   ]
  },
  {
   "cell_type": "code",
   "execution_count": 113,
   "id": "61a86695",
   "metadata": {},
   "outputs": [],
   "source": [
    "for el in input_data:\n",
    "    pow_2(el)"
   ]
  },
  {
   "cell_type": "code",
   "execution_count": 114,
   "id": "b45e8f1e",
   "metadata": {},
   "outputs": [
    {
     "data": {
      "text/plain": [
       "[1.0, 'ERROR', 5.289999999999999, 64.0]"
      ]
     },
     "execution_count": 114,
     "metadata": {},
     "output_type": "execute_result"
    }
   ],
   "source": [
    "output"
   ]
  },
  {
   "cell_type": "code",
   "execution_count": 115,
   "id": "c8c59be1",
   "metadata": {},
   "outputs": [
    {
     "data": {
      "text/plain": [
       "[(\"could not convert string to float: 'Hola'\",\n",
       "  ValueError,\n",
       "  'Se ha producido en el parametro Hola')]"
      ]
     },
     "execution_count": 115,
     "metadata": {},
     "output_type": "execute_result"
    }
   ],
   "source": [
    "log"
   ]
  },
  {
   "cell_type": "code",
   "execution_count": 138,
   "id": "341e2cda",
   "metadata": {},
   "outputs": [],
   "source": [
    "input_data = [1,\"Hola\",2.3, \"8\", print, 7j]\n",
    "log = []\n",
    "output = []\n",
    "\n",
    "def pow_2(value):\n",
    "    try:\n",
    "        output.append(float(value)**2)\n",
    "        return float(value)**2\n",
    "    except TypeError as te:\n",
    "        output.append(\"Imposible realizar la operacion\")\n",
    "        log.append((te.__str__(),type(te) ,f\"Se ha producido en el parametro {value}\"))\n",
    "    except ValueError as ve:\n",
    "        output.append(value*2)\n",
    "        return value*2\n",
    "        #log.append((ve.__str__(),type(ve) ,f\"Se ha producido en el parametro {value}\"))\n",
    "    except Exception as e:\n",
    "        output.append(\"ERROR\")\n",
    "        log.append((e.__str__(),type(e) ,f\"Se ha producido en el parametro {value}\"))"
   ]
  },
  {
   "cell_type": "code",
   "execution_count": 139,
   "id": "8375b26b",
   "metadata": {},
   "outputs": [],
   "source": [
    "for el in input_data:\n",
    "    pow_2(el)"
   ]
  },
  {
   "cell_type": "code",
   "execution_count": 140,
   "id": "cbe1fbac",
   "metadata": {},
   "outputs": [
    {
     "data": {
      "text/plain": [
       "[(\"float() argument must be a string or a number, not 'builtin_function_or_method'\",\n",
       "  TypeError,\n",
       "  'Se ha producido en el parametro <built-in function print>'),\n",
       " (\"can't convert complex to float\",\n",
       "  TypeError,\n",
       "  'Se ha producido en el parametro 7j')]"
      ]
     },
     "execution_count": 140,
     "metadata": {},
     "output_type": "execute_result"
    }
   ],
   "source": [
    "log"
   ]
  },
  {
   "cell_type": "code",
   "execution_count": 137,
   "id": "745a4b84",
   "metadata": {},
   "outputs": [
    {
     "data": {
      "text/plain": [
       "[1.0,\n",
       " 'HolaHola',\n",
       " 5.289999999999999,\n",
       " 64.0,\n",
       " 'Imposible realizar la operacion',\n",
       " 'Imposible realizar la operacion']"
      ]
     },
     "execution_count": 137,
     "metadata": {},
     "output_type": "execute_result"
    }
   ],
   "source": [
    "output"
   ]
  },
  {
   "cell_type": "markdown",
   "id": "de8a6274",
   "metadata": {},
   "source": [
    "## 6 More Structures\n",
    "\n",
    "Además del try y la posibilidad de tener multiples except, hay 2 más estructuras de flujo de control disponíbles para el error handling en python. Ellas son el `else` y el `finally`. \n",
    "\n",
    "> ## `else` <a class=\"tocSkip\"/>\n",
    "> El codigo contenido en el `else` solo se ejecutará en caso de que no haya una excepción en el try.\n",
    "\n",
    "> ## `finally` <a class=\"tocSkip\"/>\n",
    "> La clausula `finally` permite escribir un bloc de codigo que se ejecutará en cualquier circunstáncia, aunque haya ocurrido un error en el except o else.\n",
    "\n",
    "![](img/flow.png)"
   ]
  },
  {
   "cell_type": "code",
   "execution_count": 141,
   "id": "36688d16",
   "metadata": {},
   "outputs": [],
   "source": [
    "n = 0"
   ]
  },
  {
   "cell_type": "code",
   "execution_count": 142,
   "id": "738ea7aa",
   "metadata": {},
   "outputs": [
    {
     "name": "stdout",
     "output_type": "stream",
     "text": [
      "Try\n",
      "Else\n",
      "Finally\n"
     ]
    }
   ],
   "source": [
    "try:\n",
    "    print(\"Try\")\n",
    "except:\n",
    "    print(\"Except\")\n",
    "else:\n",
    "    print(\"Else\")\n",
    "finally:\n",
    "    print(\"Finally\")"
   ]
  },
  {
   "cell_type": "code",
   "execution_count": 145,
   "id": "e0164235",
   "metadata": {},
   "outputs": [],
   "source": [
    "def funcion():\n",
    "    try:\n",
    "        a = 19\n",
    "        return 10\n",
    "    except:\n",
    "        return 10\n",
    "    else:\n",
    "        return 9\n",
    "    finally:\n",
    "        return a+10"
   ]
  },
  {
   "cell_type": "code",
   "execution_count": 146,
   "id": "d0eb77fa",
   "metadata": {},
   "outputs": [
    {
     "data": {
      "text/plain": [
       "29"
      ]
     },
     "execution_count": 146,
     "metadata": {},
     "output_type": "execute_result"
    }
   ],
   "source": [
    "funcion()"
   ]
  },
  {
   "cell_type": "code",
   "execution_count": 160,
   "id": "bffd83d1",
   "metadata": {},
   "outputs": [],
   "source": [
    "def try_except():\n",
    "    try:\n",
    "        yield 1/0\n",
    "    except:\n",
    "        yield \"Mal\"\n",
    "    else:\n",
    "        yield \"Else\"\n",
    "    finally:\n",
    "        yield \"Finally\"\n",
    "        try:\n",
    "            yield 1/0\n",
    "        except:\n",
    "            yield \"No\""
   ]
  },
  {
   "cell_type": "code",
   "execution_count": 161,
   "id": "565013ba",
   "metadata": {},
   "outputs": [],
   "source": [
    "it = try_except()"
   ]
  },
  {
   "cell_type": "code",
   "execution_count": 165,
   "id": "af13bede",
   "metadata": {},
   "outputs": [
    {
     "ename": "StopIteration",
     "evalue": "",
     "output_type": "error",
     "traceback": [
      "\u001b[0;31m---------------------------------------------------------------------------\u001b[0m",
      "\u001b[0;31mStopIteration\u001b[0m                             Traceback (most recent call last)",
      "\u001b[0;32m/var/folders/gd/w3m3w_td6cldhkn58qwx7mtm0000gn/T/ipykernel_6893/600241529.py\u001b[0m in \u001b[0;36m<module>\u001b[0;34m\u001b[0m\n\u001b[0;32m----> 1\u001b[0;31m \u001b[0mnext\u001b[0m\u001b[0;34m(\u001b[0m\u001b[0mit\u001b[0m\u001b[0;34m)\u001b[0m\u001b[0;34m\u001b[0m\u001b[0;34m\u001b[0m\u001b[0m\n\u001b[0m",
      "\u001b[0;31mStopIteration\u001b[0m: "
     ]
    }
   ],
   "source": [
    "next(it)"
   ]
  },
  {
   "cell_type": "markdown",
   "id": "301a24c6",
   "metadata": {},
   "source": [
    "## 7 Sentry\n",
    "\n",
    "Cuando escalamos nuestro proyecto o llevamos un proyecto a producción, será importante mantener control sobre todo lo que pasa parael mantenimiento y mejoras de nuestro software. Las Excepciones serán esenciales para eso. Mejor todavía cuando lo combinamos con otras herramientas como [Sentry.io](https://sentry.io/) para registro de los errores. Podemos acceder a ese servicio por la pagina web de Sentry y su libreria.\n",
    "\n",
    "Hay un ejemplo de su utilización en `w4d1_sentry.py`.\n",
    "\n",
    "La ejecución de ese script automaticamente genera las siguientes issues en Sentry:\n",
    "\n",
    "![](img/sentry.png)\n",
    "\n",
    "Hay una serie de servicios y aplicaciones similares a sentry, algunos de ellos son:\n",
    "\n",
    "- Instabug\n",
    "- Rollbar\n",
    "- Raygun\n",
    "- LogRocket\n",
    "- Bugsee\n",
    "- Crashlytics\n",
    "- etc.."
   ]
  },
  {
   "cell_type": "code",
   "execution_count": null,
   "id": "fd3c4e00",
   "metadata": {},
   "outputs": [],
   "source": []
  }
 ],
 "metadata": {
  "kernelspec": {
   "display_name": "Python 3 (ipykernel)",
   "language": "python",
   "name": "python3"
  },
  "language_info": {
   "codemirror_mode": {
    "name": "ipython",
    "version": 3
   },
   "file_extension": ".py",
   "mimetype": "text/x-python",
   "name": "python",
   "nbconvert_exporter": "python",
   "pygments_lexer": "ipython3",
   "version": "3.9.7"
  },
  "toc": {
   "base_numbering": 1,
   "nav_menu": {},
   "number_sections": false,
   "sideBar": true,
   "skip_h1_title": true,
   "title_cell": "Table of Contents",
   "title_sidebar": "Contents",
   "toc_cell": true,
   "toc_position": {
    "height": "calc(100% - 180px)",
    "left": "10px",
    "top": "150px",
    "width": "288px"
   },
   "toc_section_display": true,
   "toc_window_display": false
  }
 },
 "nbformat": 4,
 "nbformat_minor": 5
}
