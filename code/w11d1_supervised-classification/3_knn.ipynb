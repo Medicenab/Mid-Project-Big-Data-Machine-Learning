{
 "cells": [
  {
   "cell_type": "markdown",
   "id": "889cfdf1-abe4-4d51-9c04-eff11246801d",
   "metadata": {},
   "source": [
    "![](https://api.brandy.run/core/core-logo-wide)\n",
    "\n",
    "# Supervised Learning: KNN\n",
    "\n",
    "- K Nearest Neighbors"
   ]
  },
  {
   "cell_type": "code",
   "execution_count": 1,
   "id": "0e3da22d-687c-47bc-b9e8-96f72a2dea27",
   "metadata": {},
   "outputs": [
    {
     "name": "stdout",
     "output_type": "stream",
     "text": [
      "[(5, 1.0, array([5, 4, 1])), (6, 1.4142135623730951, array([5, 3, 1])), (4, 2.8284271247461903, array([6, 6, 0]))]\n",
      "[1, 1, 0] 1\n"
     ]
    },
    {
     "data": {
      "image/png": "[encoded data removed]",
      "text/plain": [
       "<Figure size 432x288 with 1 Axes>"
      ]
     },
     "metadata": {
      "needs_background": "light"
     },
     "output_type": "display_data"
    }
   ],
   "source": [
    "import matplotlib.pyplot as plt\n",
    "import numpy as np\n",
    "import math\n",
    "from collections import Counter\n",
    "\n",
    "X = np.array([\n",
    "    [0,0,0],\n",
    "    [1,2,0],\n",
    "    [4,10,1],\n",
    "    [8,1,1],\n",
    "    [6,6,0],\n",
    "    [5,4,1],\n",
    "    [5,3,1]\n",
    "])\n",
    "\n",
    "x = X[:,0]\n",
    "y = X[:,1]\n",
    "cl = X[:,2]\n",
    "color = np.where(cl == 0, \"red\", \"blue\")\n",
    "          \n",
    "\n",
    "plt.scatter(x,y, c = color)\n",
    "plt.xlabel(\"F1\")\n",
    "plt.ylabel(\"F2\")\n",
    "\n",
    "m = [4,4]\n",
    "plt.scatter(m[0],m[1],color=\"black\")\n",
    "\n",
    "# https://towardsdatascience.com/9-distance-measures-in-data-science-918109d069fa\n",
    "def euclidean(x,y):\n",
    "    return math.sqrt((x[0]-y[0])**2 + (x[1]-y[1])**2)\n",
    "\n",
    "distances = [(i,euclidean(e,m),e) for i,e in enumerate(X)]\n",
    "\n",
    "\n",
    "#K primeros\n",
    "sorted_distances = sorted(distances, key=lambda e: e[1])\n",
    "#print(sorted_distances)\n",
    "\n",
    "K=3\n",
    "K_sorted_distances = sorted_distances[:K]\n",
    "\n",
    "print(K_sorted_distances)\n",
    "\n",
    "votes = [e[2][2] for e in K_sorted_distances]\n",
    "\n",
    "occurence_count = Counter(votes)\n",
    "result_class = occurence_count.most_common(1)[0][0]\n",
    "\n",
    "print(votes, result_class)"
   ]
  },
  {
   "cell_type": "code",
   "execution_count": 2,
   "id": "67a27ec3-5517-4811-8ee7-a6b8b02a9e11",
   "metadata": {},
   "outputs": [],
   "source": [
    "class KNN:\n",
    "    def __init__(self, k):\n",
    "        self.k = k\n",
    "    def fit(self, X, y):\n",
    "        self.X = X\n",
    "        self.y = y\n",
    "        return self\n",
    "    def predict(self,X):\n",
    "        return X.apply(self._predict, axis=1)\n",
    "    def _predict(self, x, k=None):\n",
    "        if k == None:\n",
    "            k = self.k\n",
    "        dist = [(i, self.euclidean_dist(a,x)) for i, a in self.X.iterrows()]\n",
    "        dist = sorted(dist, key=lambda x: x[1])\n",
    "        k_neighbors = [i[0] for i in dist[:k]]\n",
    "        pred = self.y.loc[k_neighbors].mode()\n",
    "        if pred.shape[0] > 1:\n",
    "            return self._predict(x,k=k-1)\n",
    "        return pred\n",
    "    def euclidean_dist(self,a,b):\n",
    "        return (sum(a-b)**2)**.5"
   ]
  },
  {
   "cell_type": "markdown",
   "id": "919d5284-fbcb-4804-9e5a-0cd030c6bfa2",
   "metadata": {},
   "source": [
    "## Porqué KNN?\n",
    "\n",
    "- Permite distribuir la computación de las distancias entre varios ordenadores (computación distribuida)\n",
    "\n",
    "EJ: Tenemos un dataset con 1M de datapoints y un cluster de 10 ordenadores. Cada ordenador calcula solo 100.000 distancias\n",
    "\n",
    "- Es un algoritmo que no tiene entrenamiento. Porque cada vez que queremos calcular la predición de un nuevo sample (hacer inferencia). Hay que recalcular las distancias de nuevo\n"
   ]
  },
  {
   "cell_type": "code",
   "execution_count": 3,
   "id": "ab83c23b-c5b0-406c-b7f1-58a6f4ced39e",
   "metadata": {},
   "outputs": [],
   "source": [
    "knn = KNN(3)"
   ]
  },
  {
   "cell_type": "code",
   "execution_count": 4,
   "id": "c62b39e4-eca1-4195-b2a9-735115dccd32",
   "metadata": {},
   "outputs": [],
   "source": [
    "from sklearn.datasets import fetch_openml\n",
    "from sklearn.model_selection import train_test_split\n",
    "\n",
    "X,y = fetch_openml(\"mnist_784\", return_X_y=True)\n",
    "sevens = y == \"7\"\n",
    "\n",
    "X_train, X_test, y_train, y_test = train_test_split(X,sevens)\n"
   ]
  },
  {
   "cell_type": "code",
   "execution_count": 5,
   "id": "ebc34eb7-c127-43b3-a5cf-36e8500f83a0",
   "metadata": {},
   "outputs": [
    {
     "data": {
      "text/plain": [
       "<__main__.KNN at 0x134cc2400>"
      ]
     },
     "execution_count": 5,
     "metadata": {},
     "output_type": "execute_result"
    }
   ],
   "source": [
    "knn.fit(X_train,y_train)"
   ]
  },
  {
   "cell_type": "markdown",
   "id": "81731a39-d1d1-48f7-b9fa-77971055dd0b",
   "metadata": {},
   "source": [
    "## KNN\n",
    "\n"
   ]
  },
  {
   "cell_type": "code",
   "execution_count": 6,
   "id": "620bd492-4da2-4e63-9fec-7507d9cb94a9",
   "metadata": {},
   "outputs": [
    {
     "data": {
      "text/html": [
       "<div>\n",
       "<style scoped>\n",
       "    .dataframe tbody tr th:only-of-type {\n",
       "        vertical-align: middle;\n",
       "    }\n",
       "\n",
       "    .dataframe tbody tr th {\n",
       "        vertical-align: top;\n",
       "    }\n",
       "\n",
       "    .dataframe thead th {\n",
       "        text-align: right;\n",
       "    }\n",
       "</style>\n",
       "<table border=\"1\" class=\"dataframe\">\n",
       "  <thead>\n",
       "    <tr style=\"text-align: right;\">\n",
       "      <th></th>\n",
       "      <th>0</th>\n",
       "    </tr>\n",
       "  </thead>\n",
       "  <tbody>\n",
       "    <tr>\n",
       "      <th>0</th>\n",
       "      <td>False</td>\n",
       "    </tr>\n",
       "    <tr>\n",
       "      <th>1</th>\n",
       "      <td>False</td>\n",
       "    </tr>\n",
       "    <tr>\n",
       "      <th>2</th>\n",
       "      <td>True</td>\n",
       "    </tr>\n",
       "    <tr>\n",
       "      <th>3</th>\n",
       "      <td>False</td>\n",
       "    </tr>\n",
       "    <tr>\n",
       "      <th>4</th>\n",
       "      <td>False</td>\n",
       "    </tr>\n",
       "  </tbody>\n",
       "</table>\n",
       "</div>"
      ],
      "text/plain": [
       "       0\n",
       "0  False\n",
       "1  False\n",
       "2   True\n",
       "3  False\n",
       "4  False"
      ]
     },
     "execution_count": 6,
     "metadata": {},
     "output_type": "execute_result"
    }
   ],
   "source": [
    "knn.predict(X.iloc[:5])"
   ]
  },
  {
   "cell_type": "code",
   "execution_count": 7,
   "id": "f6573042-180a-4b0c-8564-2f400345f11b",
   "metadata": {},
   "outputs": [
    {
     "data": {
      "image/png": "[encoded data removed]",
      "text/plain": [
       "<Figure size 864x576 with 5 Axes>"
      ]
     },
     "metadata": {
      "needs_background": "light"
     },
     "output_type": "display_data"
    }
   ],
   "source": [
    "plt.figure(figsize=(12,8))\n",
    "for i in range(5):\n",
    "    plt.subplot(1,5,i+1)\n",
    "    plt.imshow(X.iloc[i].values.reshape((28,28)), cmap=\"gray\")\n",
    "    plt.axis(\"off\")"
   ]
  },
  {
   "cell_type": "code",
   "execution_count": 8,
   "id": "9f2a39bd-90e1-4b56-b904-4736d034b25f",
   "metadata": {},
   "outputs": [],
   "source": [
    "# Using a smaller sample of data:\n",
    "\n",
    "X_samp, y_samp = X[:2000], y[:2000]\n",
    "sevens_samp = y_samp == \"7\"\n",
    "X_train, X_test, sevens_train, sevens_test =  train_test_split(X_samp, sevens_samp, random_state=42)"
   ]
  },
  {
   "cell_type": "code",
   "execution_count": 9,
   "id": "1f506e26-7467-41b5-94fb-a1b69ffddd0f",
   "metadata": {},
   "outputs": [
    {
     "data": {
      "text/plain": [
       "7    224\n",
       "1    220\n",
       "4    214\n",
       "9    210\n",
       "6    200\n",
       "2    198\n",
       "0    191\n",
       "3    191\n",
       "5    180\n",
       "8    172\n",
       "Name: class, dtype: int64"
      ]
     },
     "execution_count": 9,
     "metadata": {},
     "output_type": "execute_result"
    }
   ],
   "source": [
    "y_samp.value_counts()"
   ]
  },
  {
   "cell_type": "code",
   "execution_count": 10,
   "id": "99f3c207-3fc8-404c-87ab-2d38177d1b12",
   "metadata": {},
   "outputs": [
    {
     "data": {
      "text/plain": [
       "<__main__.KNN at 0x13e311c10>"
      ]
     },
     "execution_count": 10,
     "metadata": {},
     "output_type": "execute_result"
    }
   ],
   "source": [
    "knn = KNN(3)\n",
    "knn.fit(X_train,sevens_train)"
   ]
  },
  {
   "cell_type": "code",
   "execution_count": 11,
   "id": "1e9e9cdf-069f-40b6-aa4d-cf0412bf0b65",
   "metadata": {},
   "outputs": [],
   "source": [
    "y_pred = knn.predict(X_test)"
   ]
  },
  {
   "cell_type": "code",
   "execution_count": 13,
   "id": "d5c161f0",
   "metadata": {},
   "outputs": [],
   "source": [
    "from sklearn.metrics import accuracy_score, precision_score, recall_score,f1_score"
   ]
  },
  {
   "cell_type": "code",
   "execution_count": 14,
   "id": "33f5e1f1-07ae-4d02-90f1-484dfe261ade",
   "metadata": {},
   "outputs": [
    {
     "data": {
      "text/plain": [
       "0.858"
      ]
     },
     "execution_count": 14,
     "metadata": {},
     "output_type": "execute_result"
    }
   ],
   "source": [
    "accuracy_score(sevens_test,y_pred)"
   ]
  },
  {
   "cell_type": "code",
   "execution_count": 15,
   "id": "e9fcd607-1fe5-4600-853b-b01477685db0",
   "metadata": {},
   "outputs": [
    {
     "data": {
      "text/plain": [
       "0.13793103448275862"
      ]
     },
     "execution_count": 15,
     "metadata": {},
     "output_type": "execute_result"
    }
   ],
   "source": [
    "precision_score(sevens_test,y_pred)"
   ]
  },
  {
   "cell_type": "code",
   "execution_count": 16,
   "id": "1aeeeb17-97c1-499b-8664-686910b3b1ed",
   "metadata": {},
   "outputs": [
    {
     "data": {
      "text/plain": [
       "0.08"
      ]
     },
     "execution_count": 16,
     "metadata": {},
     "output_type": "execute_result"
    }
   ],
   "source": [
    "recall_score(sevens_test,y_pred)"
   ]
  },
  {
   "cell_type": "code",
   "execution_count": 17,
   "id": "6c4a75ba-5cdf-4c28-bbc5-4819715adbf1",
   "metadata": {},
   "outputs": [
    {
     "data": {
      "text/plain": [
       "0.10126582278481013"
      ]
     },
     "execution_count": 17,
     "metadata": {},
     "output_type": "execute_result"
    }
   ],
   "source": [
    "f1_score(sevens_test,y_pred)"
   ]
  },
  {
   "cell_type": "markdown",
   "id": "9b63dd1b-f55b-46b5-af32-19fe44f261c3",
   "metadata": {},
   "source": [
    "No obtuvimos un resultado muy bueno con ese modelo... 😕\n",
    "\n",
    "Pero, lo que tendríamos que considerar es que la distancia euclidea no es la unica que puede ser aplicada al KNN. \n",
    "\n",
    "Veamos la diferencia usando otra manera de calcular las distancias:"
   ]
  },
  {
   "cell_type": "code",
   "execution_count": 18,
   "id": "9928102d-a887-4312-9cf1-309d9b671222",
   "metadata": {},
   "outputs": [],
   "source": [
    "class KNN:\n",
    "    def __init__(self, k, distance=None):\n",
    "        self.k = k\n",
    "        if distance==None:\n",
    "            distance=self.euclidean_dist\n",
    "        self.distance = distance\n",
    "    def fit(self, X, y):\n",
    "        self.X = X\n",
    "        self.y = y\n",
    "        return self\n",
    "    def predict(self,X):\n",
    "        return X.apply(self._predict, axis=1)\n",
    "    def _predict(self, x, k=None):\n",
    "        if k == None:\n",
    "            k = self.k\n",
    "        dist = [(i, self.distance(a,x)) for i, a in self.X.iterrows()]\n",
    "        dist = sorted(dist, key=lambda x: x[1])\n",
    "        k_neighbors = [i[0] for i in dist[:k]]\n",
    "        pred = self.y.loc[k_neighbors].mode()\n",
    "        if pred.shape[0] > 1:\n",
    "            return self._predict(x,k=k-1)\n",
    "        return pred\n",
    "    def euclidean_dist(self,a,b):\n",
    "        return (sum(a-b)**2)**.5"
   ]
  },
  {
   "cell_type": "code",
   "execution_count": 19,
   "id": "a7caac99-78cd-484b-a8d1-5b1f42fabf3e",
   "metadata": {},
   "outputs": [
    {
     "data": {
      "text/plain": [
       "<__main__.KNN at 0x13fccee20>"
      ]
     },
     "execution_count": 19,
     "metadata": {},
     "output_type": "execute_result"
    }
   ],
   "source": [
    "from scipy.spatial.distance import minkowski\n",
    "knn = KNN(3, distance=minkowski)\n",
    "knn.fit(X_train,sevens_train)"
   ]
  },
  {
   "cell_type": "code",
   "execution_count": 20,
   "id": "03b89ead-a920-4422-8add-e515b17c613e",
   "metadata": {},
   "outputs": [],
   "source": [
    "y_pred = knn.predict(X_test)"
   ]
  },
  {
   "cell_type": "code",
   "execution_count": 21,
   "id": "45224a88-b24b-4182-bfd6-da3e08a6059f",
   "metadata": {},
   "outputs": [
    {
     "data": {
      "text/plain": [
       "0.978"
      ]
     },
     "execution_count": 21,
     "metadata": {},
     "output_type": "execute_result"
    }
   ],
   "source": [
    "accuracy_score(sevens_test,y_pred)"
   ]
  },
  {
   "cell_type": "code",
   "execution_count": 22,
   "id": "fa01fbe3-c940-45ae-97f0-c8ae9b62ae04",
   "metadata": {},
   "outputs": [
    {
     "data": {
      "text/plain": [
       "0.9148936170212766"
      ]
     },
     "execution_count": 22,
     "metadata": {},
     "output_type": "execute_result"
    }
   ],
   "source": [
    "precision_score(sevens_test,y_pred)"
   ]
  },
  {
   "cell_type": "code",
   "execution_count": 23,
   "id": "1298a535-a6af-432f-ab9f-baae74f2a65a",
   "metadata": {},
   "outputs": [
    {
     "data": {
      "text/plain": [
       "0.86"
      ]
     },
     "execution_count": 23,
     "metadata": {},
     "output_type": "execute_result"
    }
   ],
   "source": [
    "recall_score(sevens_test,y_pred)"
   ]
  },
  {
   "cell_type": "code",
   "execution_count": 24,
   "id": "eaf8912f-4fde-4bda-9cc2-2ee39e6d4ae6",
   "metadata": {},
   "outputs": [
    {
     "data": {
      "text/plain": [
       "0.8865979381443299"
      ]
     },
     "execution_count": 24,
     "metadata": {},
     "output_type": "execute_result"
    }
   ],
   "source": [
    "f1_score(sevens_test,y_pred)"
   ]
  },
  {
   "cell_type": "markdown",
   "id": "76c25ce9-b7f3-4e25-8222-fdf0e866175d",
   "metadata": {},
   "source": [
    "Vaya cambio! 😎"
   ]
  },
  {
   "cell_type": "markdown",
   "id": "4f05aa50-b82a-4da4-85b3-05a207beefc3",
   "metadata": {},
   "source": [
    "## Choosing K"
   ]
  },
  {
   "cell_type": "code",
   "execution_count": 25,
   "id": "97ab9dfe-a6f7-4f9f-ae2e-c500be82603b",
   "metadata": {},
   "outputs": [],
   "source": [
    "from sklearn.neighbors import KNeighborsClassifier"
   ]
  },
  {
   "cell_type": "code",
   "execution_count": 26,
   "id": "7aafe423-3d59-4e7d-8369-f8a5c83eb5a7",
   "metadata": {},
   "outputs": [],
   "source": [
    "k = range(3, 101)"
   ]
  },
  {
   "cell_type": "code",
   "execution_count": 27,
   "id": "bc04c837-978e-4cc3-b832-350b9aa96c91",
   "metadata": {},
   "outputs": [],
   "source": [
    "errors = []\n",
    "for k_neigh in k:\n",
    "    knn = KNeighborsClassifier(k_neigh)\n",
    "    knn.fit(X_train, sevens_train)\n",
    "    y_pred = knn.predict(X_test)\n",
    "    errors.append((y_pred != sevens_test).sum()/y_pred.shape[0])"
   ]
  },
  {
   "cell_type": "code",
   "execution_count": 28,
   "id": "0b757852-8e2c-4614-8721-ec193bc08fc1",
   "metadata": {},
   "outputs": [
    {
     "data": {
      "text/plain": [
       "[0.022,\n",
       " 0.022,\n",
       " 0.024,\n",
       " 0.02,\n",
       " 0.02,\n",
       " 0.024,\n",
       " 0.024,\n",
       " 0.026,\n",
       " 0.024,\n",
       " 0.024,\n",
       " 0.024,\n",
       " 0.026,\n",
       " 0.026,\n",
       " 0.026,\n",
       " 0.026,\n",
       " 0.028,\n",
       " 0.028,\n",
       " 0.03,\n",
       " 0.028,\n",
       " 0.028,\n",
       " 0.026,\n",
       " 0.028,\n",
       " 0.028,\n",
       " 0.03,\n",
       " 0.028,\n",
       " 0.028,\n",
       " 0.028,\n",
       " 0.028,\n",
       " 0.028,\n",
       " 0.028,\n",
       " 0.028,\n",
       " 0.03,\n",
       " 0.03,\n",
       " 0.03,\n",
       " 0.03,\n",
       " 0.032,\n",
       " 0.032,\n",
       " 0.034,\n",
       " 0.034,\n",
       " 0.034,\n",
       " 0.034,\n",
       " 0.034,\n",
       " 0.034,\n",
       " 0.034,\n",
       " 0.034,\n",
       " 0.034,\n",
       " 0.034,\n",
       " 0.034,\n",
       " 0.034,\n",
       " 0.036,\n",
       " 0.034,\n",
       " 0.036,\n",
       " 0.034,\n",
       " 0.034,\n",
       " 0.036,\n",
       " 0.038,\n",
       " 0.038,\n",
       " 0.036,\n",
       " 0.036,\n",
       " 0.036,\n",
       " 0.036,\n",
       " 0.036,\n",
       " 0.036,\n",
       " 0.034,\n",
       " 0.036,\n",
       " 0.038,\n",
       " 0.038,\n",
       " 0.038,\n",
       " 0.038,\n",
       " 0.038,\n",
       " 0.038,\n",
       " 0.038,\n",
       " 0.038,\n",
       " 0.038,\n",
       " 0.038,\n",
       " 0.038,\n",
       " 0.038,\n",
       " 0.038,\n",
       " 0.038,\n",
       " 0.038,\n",
       " 0.038,\n",
       " 0.038,\n",
       " 0.038,\n",
       " 0.04,\n",
       " 0.038,\n",
       " 0.04,\n",
       " 0.04,\n",
       " 0.042,\n",
       " 0.04,\n",
       " 0.042,\n",
       " 0.04,\n",
       " 0.044,\n",
       " 0.044,\n",
       " 0.044,\n",
       " 0.044,\n",
       " 0.046,\n",
       " 0.046,\n",
       " 0.046]"
      ]
     },
     "execution_count": 28,
     "metadata": {},
     "output_type": "execute_result"
    }
   ],
   "source": [
    "errors"
   ]
  },
  {
   "cell_type": "code",
   "execution_count": 29,
   "id": "e9c0165f-88cd-4ca0-9fa1-aab07377d42c",
   "metadata": {
    "jupyter": {
     "source_hidden": true
    },
    "tags": []
   },
   "outputs": [
    {
     "data": {
      "text/plain": [
       "[<matplotlib.lines.Line2D at 0x1a790e220>]"
      ]
     },
     "execution_count": 29,
     "metadata": {},
     "output_type": "execute_result"
    },
    {
     "data": {
      "image/png": "[encoded data removed]",
      "text/plain": [
       "<Figure size 432x288 with 1 Axes>"
      ]
     },
     "metadata": {
      "needs_background": "light"
     },
     "output_type": "display_data"
    }
   ],
   "source": [
    "plt.plot(k,errors)"
   ]
  },
  {
   "cell_type": "code",
   "execution_count": null,
   "id": "ed906a88",
   "metadata": {},
   "outputs": [],
   "source": []
  }
 ],
 "metadata": {
  "kernelspec": {
   "display_name": "Python 3 (ipykernel)",
   "language": "python",
   "name": "python3"
  },
  "language_info": {
   "codemirror_mode": {
    "name": "ipython",
    "version": 3
   },
   "file_extension": ".py",
   "mimetype": "text/x-python",
   "name": "python",
   "nbconvert_exporter": "python",
   "pygments_lexer": "ipython3",
   "version": "3.9.7"
  }
 },
 "nbformat": 4,
 "nbformat_minor": 5
}
