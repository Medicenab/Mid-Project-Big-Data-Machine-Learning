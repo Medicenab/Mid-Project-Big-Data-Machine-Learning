{
 "cells": [
  {
   "cell_type": "markdown",
   "id": "7fce4519-35f2-4e22-bd7e-7bb55705cca7",
   "metadata": {},
   "source": [
    "![](https://api.brandy.run/core/core-logo-wide)\n",
    "\n",
    "# Supervised Learning: Trying models"
   ]
  },
  {
   "cell_type": "code",
   "execution_count": 9,
   "id": "a4ed9b08-6e13-4008-add9-8aa36dca4a1e",
   "metadata": {},
   "outputs": [],
   "source": [
    "from sklearn.linear_model import SGDClassifier\n",
    "from sklearn.svm import SVC\n",
    "from sklearn.ensemble import RandomForestClassifier\n",
    "from sklearn.neighbors import KNeighborsClassifier\n",
    "from sklearn.metrics import accuracy_score, precision_score, recall_score,f1_score"
   ]
  },
  {
   "cell_type": "code",
   "execution_count": 21,
   "id": "45f58265-e7e5-4b63-b671-83fff98d0141",
   "metadata": {},
   "outputs": [],
   "source": [
    "models = {\n",
    "    \"SGD\":SGDClassifier(average=True),\n",
    "    \"KNN_3\":KNeighborsClassifier(3), # Sklearn uses minkowski by default\n",
    "    \"KNN_7\":KNeighborsClassifier(7),\n",
    "    \"SVC\":SVC(),\n",
    "    \"RandomForrest\":RandomForestClassifier()\n",
    "}"
   ]
  },
  {
   "cell_type": "code",
   "execution_count": 11,
   "id": "7a765e49-f7b8-43bd-b335-a68cd5d12c03",
   "metadata": {},
   "outputs": [],
   "source": [
    "from sklearn.datasets import fetch_openml\n",
    "X,y = fetch_openml(\"mnist_784\", return_X_y=True)"
   ]
  },
  {
   "cell_type": "code",
   "execution_count": 22,
   "id": "2d05ddaf-e11c-4b03-b34b-8eb3f5a202d7",
   "metadata": {},
   "outputs": [],
   "source": [
    "from sklearn.model_selection import train_test_split\n",
    "X_train, X_test, y_train, y_test = train_test_split(X,y, test_size=0.2)"
   ]
  },
  {
   "cell_type": "code",
   "execution_count": 32,
   "id": "ab8b0ba4-8631-477b-8232-cb3ccf13fe37",
   "metadata": {},
   "outputs": [
    {
     "name": "stdout",
     "output_type": "stream",
     "text": [
      "f1 SGD\n",
      "acc SGD\n",
      "precision SGD\n",
      "recall SGD\n"
     ]
    }
   ],
   "source": [
    "\n",
    "\n",
    "metric_fn = zip([\"f1\",\"acc\",\"precision\",\"recall\"],[f1_score,accuracy_score, precision_score, recall_score])\n",
    "\n",
    "\n",
    "results = {k:{} for k in [\"f1\",\"acc\",\"precision\",\"recall\"]}\n",
    "for name, model in models.items():\n",
    "    model.fit(X_train,y_train)\n",
    "    y_pred = model.predict(X_test)\n",
    "    for name_metric, metric in metric_fn:\n",
    "        print(name_metric, name)\n",
    "        if name_metric == \"acc\":\n",
    "            results[name_metric][name] = metric(y_test,y_pred)\n",
    "        else:\n",
    "            results[name_metric][name] = metric(y_test,y_pred, average=\"weighted\")"
   ]
  },
  {
   "cell_type": "code",
   "execution_count": 200,
   "id": "0ad769b5-d6ce-4da1-a2ce-10b9ecf7d527",
   "metadata": {},
   "outputs": [
    {
     "data": {
      "text/plain": [
       "{'f1': {'SGD': 0.8910891089108911,\n",
       "  'KNN_3': 0.8865979381443299,\n",
       "  'KNN_7': 0.8936170212765958,\n",
       "  'SVC': 0.9263157894736842,\n",
       "  'RandomForrest': 0.8505747126436781},\n",
       " 'acc': {'SGD': 0.978,\n",
       "  'KNN_3': 0.978,\n",
       "  'KNN_7': 0.98,\n",
       "  'SVC': 0.986,\n",
       "  'RandomForrest': 0.974},\n",
       " 'precision': {'SGD': 0.8823529411764706,\n",
       "  'KNN_3': 0.9148936170212766,\n",
       "  'KNN_7': 0.9545454545454546,\n",
       "  'SVC': 0.9777777777777777,\n",
       "  'RandomForrest': 1.0},\n",
       " 'recall': {'SGD': 0.9,\n",
       "  'KNN_3': 0.86,\n",
       "  'KNN_7': 0.84,\n",
       "  'SVC': 0.88,\n",
       "  'RandomForrest': 0.74}}"
      ]
     },
     "execution_count": 200,
     "metadata": {},
     "output_type": "execute_result"
    }
   ],
   "source": [
    "results"
   ]
  }
 ],
 "metadata": {
  "kernelspec": {
   "display_name": "Python 3 (ipykernel)",
   "language": "python",
   "name": "python3"
  },
  "language_info": {
   "codemirror_mode": {
    "name": "ipython",
    "version": 3
   },
   "file_extension": ".py",
   "mimetype": "text/x-python",
   "name": "python",
   "nbconvert_exporter": "python",
   "pygments_lexer": "ipython3",
   "version": "3.9.7"
  }
 },
 "nbformat": 4,
 "nbformat_minor": 5
}
