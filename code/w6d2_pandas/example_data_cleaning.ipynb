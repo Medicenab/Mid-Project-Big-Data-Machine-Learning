{
 "cells": [
  {
   "cell_type": "markdown",
   "id": "fc916b4c",
   "metadata": {},
   "source": [
    "![](https://api.brandy.run/core/core-logo-wide)\n",
    "\n",
    "# Data Cleaning\n",
    "\n",
    "Para poder realizar un análisis sobre un conjunto de datos o modelarle con algun algoritmo de Machine Learning, es importante que tengamos nuestros lo más limpios y organizados posibles. Eso no solo nos dará más claridad sobre la información que esos datos transmiten, sino que también permitirá obtener mejores resultados en nuestros modelos, incluso con algoritmos más sencillos.\n",
    "\n",
    "El mejor paso para mejores modelos es tener mejores datos, más que utilizar algorimos más elaborados."
   ]
  },
  {
   "cell_type": "markdown",
   "id": "79d0f413",
   "metadata": {},
   "source": [
    "## Common Problems\n",
    "\n",
    "Lo primero de todo es que necesitamos identificar los problemas que enfrentaremos en un determinado dataset. Para eso, exploraremos nuestros datos utilizando diferentes herramientas para identificar los problemas más evidentes.\n",
    "\n",
    "Aunque no podamos generalizarm pues cada dataset tendrás sus particularidades y sus próprios problemas, hay algunas procedimientos recorrentes que nos pueden servir de guias para esa investigación.\n",
    "\n",
    "> ### Remove Unwanted observations\n",
    "> Ambas la calidad y cantidad de datos son importantes para un mejor análisis o modelaje, por lo que debemos evitar descartar datos. Pero hay determinados datos que no queremos que estén en nuestro conjunto de datos finales, pues no favorecen y pueden incluso dañar nuestro trabajo. Eso datos pueden ser:\n",
    "> #### - Duplicados\n",
    "> Sea porque hayamos combinado datos de diferentes fuentes, hayamos colectado los datos de manera automatica (web scraping) o lo hayamos recibido así, los datos duplicados no nos dan información relevante, pues nos dicen dos veces exactamente lo mismo.\n",
    "> #### - Datos Irrelevantes\n",
    "> Puede ser que alguno o algunos de los datos presentes en nuestro dataset no estén relacionados con la materia de nuestro estudio. Por ejemplo: datos sobre melanomas si estamos estudiando el cancer de mama; datos de Francia si estamos modelando datos climáticos en la Península Ibérica; etc. A veces podemos separar esos datos antes de seguir con el proceso de limpieza, pero en otros casos hay que arreglar otros problemas antes de poder identificarles.\n",
    ">\n",
    "> ### Fix Structural Errors\n",
    "> Sea en la própria colecta, en la transferencia, mantenimiento, o cualquier otra parte de la vida de esos datos desde su nacimiento hasta llegar a nosotros, pueden surgir problemas estructurales en el dataset. En general, eso es un problema más recorrente en las variables categóricas, como `typos` o insconsistencia en las etiquetas utilizadas, eso es, dos nombres diferentes para representar la misma cosa. Si en una columna describiendo tipos de materiales encontramos los siguientes terminos: \"asfalto\", \"Asfalto\", \"ASFALTO\", \"asphalt\", \"betún\", \"Hormigón asfáltico\", etc. En realidad todos ellos se refieren a la misma cosa, por lo cual deberíamos padronizarles. \n",
    ">\n",
    "> ### Filter Unwanted Outliers\n",
    "> Nuestro reto en esa parte del proceso es identificar y saber valorar cuales outliers son prejudiciales al trabajo. Como dicho anteriormente, debemos ser reluctantes en descartar datos sin un motivo muy concreto.\n",
    ">\n",
    "> ### Handle Missing Data\n",
    "> Quizás ese sea el mayor problema de los data scientists y que no tienen ningún consenso sobre la mejor manera de lidar con ellos, pero efectivamente no podemos simplemente ignorar los datos nulos que existan en un dataset. Las dos técnicas más comunes en ese aspecto son `eliminar los nulos`, que contradice el paradigma de que es mejor tener más datos, y `imputar valores para los nulos`, que contradice el deseo por la calidad, pues los datos que imputamos no son reales. Ese es el paradoxo del data cleaning.\n",
    "\n",
    "En esa lección focaremos en los 2 primeros procedimientos arriba. En otra clase nos profundizaremos en los otros dos."
   ]
  },
  {
   "cell_type": "markdown",
   "id": "5f99f1cf",
   "metadata": {},
   "source": [
    "## Exploring the Data"
   ]
  },
  {
   "cell_type": "code",
   "execution_count": 2,
   "id": "667cb5a6",
   "metadata": {},
   "outputs": [],
   "source": [
    "import pandas as pd\n",
    "\n",
    "df = pd.read_csv(\"../../../data/monster_com-job_sample.csv\")"
   ]
  },
  {
   "cell_type": "code",
   "execution_count": 4,
   "id": "1657f004",
   "metadata": {},
   "outputs": [
    {
     "data": {
      "text/html": [
       "<div>\n",
       "<style scoped>\n",
       "    .dataframe tbody tr th:only-of-type {\n",
       "        vertical-align: middle;\n",
       "    }\n",
       "\n",
       "    .dataframe tbody tr th {\n",
       "        vertical-align: top;\n",
       "    }\n",
       "\n",
       "    .dataframe thead th {\n",
       "        text-align: right;\n",
       "    }\n",
       "</style>\n",
       "<table border=\"1\" class=\"dataframe\">\n",
       "  <thead>\n",
       "    <tr style=\"text-align: right;\">\n",
       "      <th></th>\n",
       "      <th>country</th>\n",
       "      <th>country_code</th>\n",
       "      <th>date_added</th>\n",
       "      <th>has_expired</th>\n",
       "      <th>job_board</th>\n",
       "      <th>job_description</th>\n",
       "      <th>job_title</th>\n",
       "      <th>job_type</th>\n",
       "      <th>location</th>\n",
       "      <th>organization</th>\n",
       "      <th>page_url</th>\n",
       "      <th>salary</th>\n",
       "      <th>sector</th>\n",
       "      <th>uniq_id</th>\n",
       "    </tr>\n",
       "  </thead>\n",
       "  <tbody>\n",
       "    <tr>\n",
       "      <th>0</th>\n",
       "      <td>United States of America</td>\n",
       "      <td>US</td>\n",
       "      <td>NaN</td>\n",
       "      <td>No</td>\n",
       "      <td>jobs.monster.com</td>\n",
       "      <td>TeamSoft is seeing an IT Support Specialist to...</td>\n",
       "      <td>IT Support Technician Job in Madison</td>\n",
       "      <td>Full Time Employee</td>\n",
       "      <td>Madison, WI 53702</td>\n",
       "      <td>NaN</td>\n",
       "      <td>http://jobview.monster.com/it-support-technici...</td>\n",
       "      <td>NaN</td>\n",
       "      <td>IT/Software Development</td>\n",
       "      <td>11d599f229a80023d2f40e7c52cd941e</td>\n",
       "    </tr>\n",
       "    <tr>\n",
       "      <th>1</th>\n",
       "      <td>United States of America</td>\n",
       "      <td>US</td>\n",
       "      <td>NaN</td>\n",
       "      <td>No</td>\n",
       "      <td>jobs.monster.com</td>\n",
       "      <td>The Wisconsin State Journal is seeking a flexi...</td>\n",
       "      <td>Business Reporter/Editor Job in Madison</td>\n",
       "      <td>Full Time</td>\n",
       "      <td>Madison, WI 53708</td>\n",
       "      <td>Printing and Publishing</td>\n",
       "      <td>http://jobview.monster.com/business-reporter-e...</td>\n",
       "      <td>NaN</td>\n",
       "      <td>NaN</td>\n",
       "      <td>e4cbb126dabf22159aff90223243ff2a</td>\n",
       "    </tr>\n",
       "    <tr>\n",
       "      <th>2</th>\n",
       "      <td>United States of America</td>\n",
       "      <td>US</td>\n",
       "      <td>NaN</td>\n",
       "      <td>No</td>\n",
       "      <td>jobs.monster.com</td>\n",
       "      <td>Report this job About the Job DePuy Synthes Co...</td>\n",
       "      <td>Johnson &amp; Johnson Family of Companies Job Appl...</td>\n",
       "      <td>Full Time, Employee</td>\n",
       "      <td>DePuy Synthes Companies is a member of Johnson...</td>\n",
       "      <td>Personal and Household Services</td>\n",
       "      <td>http://jobview.monster.com/senior-training-lea...</td>\n",
       "      <td>NaN</td>\n",
       "      <td>NaN</td>\n",
       "      <td>839106b353877fa3d896ffb9c1fe01c0</td>\n",
       "    </tr>\n",
       "    <tr>\n",
       "      <th>3</th>\n",
       "      <td>United States of America</td>\n",
       "      <td>US</td>\n",
       "      <td>NaN</td>\n",
       "      <td>No</td>\n",
       "      <td>jobs.monster.com</td>\n",
       "      <td>Why Join Altec? If you’re considering a career...</td>\n",
       "      <td>Engineer - Quality Job in Dixon</td>\n",
       "      <td>Full Time</td>\n",
       "      <td>Dixon, CA</td>\n",
       "      <td>Altec Industries</td>\n",
       "      <td>http://jobview.monster.com/engineer-quality-jo...</td>\n",
       "      <td>NaN</td>\n",
       "      <td>Experienced (Non-Manager)</td>\n",
       "      <td>58435fcab804439efdcaa7ecca0fd783</td>\n",
       "    </tr>\n",
       "    <tr>\n",
       "      <th>4</th>\n",
       "      <td>United States of America</td>\n",
       "      <td>US</td>\n",
       "      <td>NaN</td>\n",
       "      <td>No</td>\n",
       "      <td>jobs.monster.com</td>\n",
       "      <td>Position ID#  76162 # Positions  1 State  CT C...</td>\n",
       "      <td>Shift Supervisor - Part-Time Job in Camphill</td>\n",
       "      <td>Full Time Employee</td>\n",
       "      <td>Camphill, PA</td>\n",
       "      <td>Retail</td>\n",
       "      <td>http://jobview.monster.com/shift-supervisor-pa...</td>\n",
       "      <td>NaN</td>\n",
       "      <td>Project/Program Management</td>\n",
       "      <td>64d0272dc8496abfd9523a8df63c184c</td>\n",
       "    </tr>\n",
       "    <tr>\n",
       "      <th>5</th>\n",
       "      <td>United States of America</td>\n",
       "      <td>US</td>\n",
       "      <td>NaN</td>\n",
       "      <td>No</td>\n",
       "      <td>jobs.monster.com</td>\n",
       "      <td>Job Description Job #:  720298Apex Systems has...</td>\n",
       "      <td>Construction PM - Charlottesville Job in Charl...</td>\n",
       "      <td>Full Time Employee</td>\n",
       "      <td>Charlottesville, VA</td>\n",
       "      <td>Computer/IT Services</td>\n",
       "      <td>http://jobview.monster.com/construction-pm-cha...</td>\n",
       "      <td>NaN</td>\n",
       "      <td>Experienced (Non-Manager)</td>\n",
       "      <td>1e2637cb5f7a2c4615a99a26c0566c66</td>\n",
       "    </tr>\n",
       "    <tr>\n",
       "      <th>6</th>\n",
       "      <td>United States of America</td>\n",
       "      <td>US</td>\n",
       "      <td>NaN</td>\n",
       "      <td>No</td>\n",
       "      <td>jobs.monster.com</td>\n",
       "      <td>Report this job About the Job Based in San Fra...</td>\n",
       "      <td>CyberCoders Job Application for Principal QA E...</td>\n",
       "      <td>Full Time, Employee</td>\n",
       "      <td>Contact name Tony Zerio</td>\n",
       "      <td>Computer Software</td>\n",
       "      <td>http://jobview.monster.com/principal-qa-engine...</td>\n",
       "      <td>NaN</td>\n",
       "      <td>NaN</td>\n",
       "      <td>455802d725fde67293970ab3953b1d39</td>\n",
       "    </tr>\n",
       "    <tr>\n",
       "      <th>7</th>\n",
       "      <td>United States of America</td>\n",
       "      <td>US</td>\n",
       "      <td>NaN</td>\n",
       "      <td>No</td>\n",
       "      <td>jobs.monster.com</td>\n",
       "      <td>RESPONSIBILITIES:Kforce has a client seeking a...</td>\n",
       "      <td>Mailroom Clerk Job in Austin</td>\n",
       "      <td>Full Time Employee</td>\n",
       "      <td>Austin, TX 73301</td>\n",
       "      <td>NaN</td>\n",
       "      <td>http://jobview.monster.com/mailroom-clerk-job-...</td>\n",
       "      <td>NaN</td>\n",
       "      <td>Experienced (Non-Manager)</td>\n",
       "      <td>549a0541e4452ecd155efc032aaa72d7</td>\n",
       "    </tr>\n",
       "    <tr>\n",
       "      <th>8</th>\n",
       "      <td>United States of America</td>\n",
       "      <td>US</td>\n",
       "      <td>NaN</td>\n",
       "      <td>No</td>\n",
       "      <td>jobs.monster.com</td>\n",
       "      <td>Part-Time, 4:30 pm - 9:30 pm, Mon - Fri Brookd...</td>\n",
       "      <td>Housekeeper Job in Austin</td>\n",
       "      <td>Part Time Employee</td>\n",
       "      <td>Austin, TX 78746</td>\n",
       "      <td>Hotels and Lodging Personal and Household Serv...</td>\n",
       "      <td>http://jobview.monster.com/housekeeper-job-aus...</td>\n",
       "      <td>NaN</td>\n",
       "      <td>Customer Support/Client Care</td>\n",
       "      <td>a6a2b5e825b8ce1c3b517adb2497c5ed</td>\n",
       "    </tr>\n",
       "    <tr>\n",
       "      <th>9</th>\n",
       "      <td>United States of America</td>\n",
       "      <td>US</td>\n",
       "      <td>NaN</td>\n",
       "      <td>No</td>\n",
       "      <td>jobs.monster.com</td>\n",
       "      <td>Insituform Technologies, LLC, an Aegion compan...</td>\n",
       "      <td>Video Data Management /Transportation Technici...</td>\n",
       "      <td>NaN</td>\n",
       "      <td>Chesterfield, MO</td>\n",
       "      <td>NaN</td>\n",
       "      <td>http://jobview.monster.com/video-data-manageme...</td>\n",
       "      <td>NaN</td>\n",
       "      <td>NaN</td>\n",
       "      <td>73a9ba2b706e02628fa22ca1357174b1</td>\n",
       "    </tr>\n",
       "  </tbody>\n",
       "</table>\n",
       "</div>"
      ],
      "text/plain": [
       "                    country country_code date_added has_expired  \\\n",
       "0  United States of America           US        NaN          No   \n",
       "1  United States of America           US        NaN          No   \n",
       "2  United States of America           US        NaN          No   \n",
       "3  United States of America           US        NaN          No   \n",
       "4  United States of America           US        NaN          No   \n",
       "5  United States of America           US        NaN          No   \n",
       "6  United States of America           US        NaN          No   \n",
       "7  United States of America           US        NaN          No   \n",
       "8  United States of America           US        NaN          No   \n",
       "9  United States of America           US        NaN          No   \n",
       "\n",
       "          job_board                                    job_description  \\\n",
       "0  jobs.monster.com  TeamSoft is seeing an IT Support Specialist to...   \n",
       "1  jobs.monster.com  The Wisconsin State Journal is seeking a flexi...   \n",
       "2  jobs.monster.com  Report this job About the Job DePuy Synthes Co...   \n",
       "3  jobs.monster.com  Why Join Altec? If you’re considering a career...   \n",
       "4  jobs.monster.com  Position ID#  76162 # Positions  1 State  CT C...   \n",
       "5  jobs.monster.com  Job Description Job #:  720298Apex Systems has...   \n",
       "6  jobs.monster.com  Report this job About the Job Based in San Fra...   \n",
       "7  jobs.monster.com  RESPONSIBILITIES:Kforce has a client seeking a...   \n",
       "8  jobs.monster.com  Part-Time, 4:30 pm - 9:30 pm, Mon - Fri Brookd...   \n",
       "9  jobs.monster.com  Insituform Technologies, LLC, an Aegion compan...   \n",
       "\n",
       "                                           job_title             job_type  \\\n",
       "0               IT Support Technician Job in Madison   Full Time Employee   \n",
       "1            Business Reporter/Editor Job in Madison            Full Time   \n",
       "2  Johnson & Johnson Family of Companies Job Appl...  Full Time, Employee   \n",
       "3                    Engineer - Quality Job in Dixon            Full Time   \n",
       "4       Shift Supervisor - Part-Time Job in Camphill   Full Time Employee   \n",
       "5  Construction PM - Charlottesville Job in Charl...   Full Time Employee   \n",
       "6  CyberCoders Job Application for Principal QA E...  Full Time, Employee   \n",
       "7                       Mailroom Clerk Job in Austin   Full Time Employee   \n",
       "8                          Housekeeper Job in Austin   Part Time Employee   \n",
       "9  Video Data Management /Transportation Technici...                  NaN   \n",
       "\n",
       "                                            location  \\\n",
       "0                                  Madison, WI 53702   \n",
       "1                                  Madison, WI 53708   \n",
       "2  DePuy Synthes Companies is a member of Johnson...   \n",
       "3                                          Dixon, CA   \n",
       "4                                       Camphill, PA   \n",
       "5                                Charlottesville, VA   \n",
       "6                            Contact name Tony Zerio   \n",
       "7                                   Austin, TX 73301   \n",
       "8                                   Austin, TX 78746   \n",
       "9                                   Chesterfield, MO   \n",
       "\n",
       "                                        organization  \\\n",
       "0                                                NaN   \n",
       "1                            Printing and Publishing   \n",
       "2                    Personal and Household Services   \n",
       "3                                   Altec Industries   \n",
       "4                                             Retail   \n",
       "5                               Computer/IT Services   \n",
       "6                                  Computer Software   \n",
       "7                                                NaN   \n",
       "8  Hotels and Lodging Personal and Household Serv...   \n",
       "9                                                NaN   \n",
       "\n",
       "                                            page_url salary  \\\n",
       "0  http://jobview.monster.com/it-support-technici...    NaN   \n",
       "1  http://jobview.monster.com/business-reporter-e...    NaN   \n",
       "2  http://jobview.monster.com/senior-training-lea...    NaN   \n",
       "3  http://jobview.monster.com/engineer-quality-jo...    NaN   \n",
       "4  http://jobview.monster.com/shift-supervisor-pa...    NaN   \n",
       "5  http://jobview.monster.com/construction-pm-cha...    NaN   \n",
       "6  http://jobview.monster.com/principal-qa-engine...    NaN   \n",
       "7  http://jobview.monster.com/mailroom-clerk-job-...    NaN   \n",
       "8  http://jobview.monster.com/housekeeper-job-aus...    NaN   \n",
       "9  http://jobview.monster.com/video-data-manageme...    NaN   \n",
       "\n",
       "                         sector                           uniq_id  \n",
       "0       IT/Software Development  11d599f229a80023d2f40e7c52cd941e  \n",
       "1                           NaN  e4cbb126dabf22159aff90223243ff2a  \n",
       "2                           NaN  839106b353877fa3d896ffb9c1fe01c0  \n",
       "3     Experienced (Non-Manager)  58435fcab804439efdcaa7ecca0fd783  \n",
       "4    Project/Program Management  64d0272dc8496abfd9523a8df63c184c  \n",
       "5     Experienced (Non-Manager)  1e2637cb5f7a2c4615a99a26c0566c66  \n",
       "6                           NaN  455802d725fde67293970ab3953b1d39  \n",
       "7     Experienced (Non-Manager)  549a0541e4452ecd155efc032aaa72d7  \n",
       "8  Customer Support/Client Care  a6a2b5e825b8ce1c3b517adb2497c5ed  \n",
       "9                           NaN  73a9ba2b706e02628fa22ca1357174b1  "
      ]
     },
     "execution_count": 4,
     "metadata": {},
     "output_type": "execute_result"
    }
   ],
   "source": [
    "df.head(10)"
   ]
  },
  {
   "cell_type": "markdown",
   "id": "734dd77a",
   "metadata": {},
   "source": [
    "### How big is our dataset?"
   ]
  },
  {
   "cell_type": "code",
   "execution_count": 5,
   "id": "ba562cde",
   "metadata": {},
   "outputs": [
    {
     "data": {
      "text/plain": [
       "(22000, 14)"
      ]
     },
     "execution_count": 5,
     "metadata": {},
     "output_type": "execute_result"
    }
   ],
   "source": [
    "df.shape"
   ]
  },
  {
   "cell_type": "code",
   "execution_count": 9,
   "id": "3fd60bce",
   "metadata": {},
   "outputs": [
    {
     "data": {
      "text/plain": [
       "Index(['country', 'country_code', 'date_added', 'has_expired', 'job_board',\n",
       "       'job_description', 'job_title', 'job_type', 'location', 'organization',\n",
       "       'page_url', 'salary', 'sector', 'uniq_id'],\n",
       "      dtype='object')"
      ]
     },
     "execution_count": 9,
     "metadata": {},
     "output_type": "execute_result"
    }
   ],
   "source": [
    "df.columns"
   ]
  },
  {
   "cell_type": "code",
   "execution_count": 16,
   "id": "035dbcd7",
   "metadata": {},
   "outputs": [
    {
     "data": {
      "text/plain": [
       "1169"
      ]
     },
     "execution_count": 16,
     "metadata": {},
     "output_type": "execute_result"
    }
   ],
   "source": [
    "df.duplicated(subset=['country', 'country_code', 'job_board',\n",
    "       'job_description', 'job_title', 'job_type', 'location', 'organization',\n",
    "       'salary', 'sector']).sum()"
   ]
  },
  {
   "cell_type": "code",
   "execution_count": 17,
   "id": "f7d1136e",
   "metadata": {},
   "outputs": [
    {
     "data": {
      "text/html": [
       "<div>\n",
       "<style scoped>\n",
       "    .dataframe tbody tr th:only-of-type {\n",
       "        vertical-align: middle;\n",
       "    }\n",
       "\n",
       "    .dataframe tbody tr th {\n",
       "        vertical-align: top;\n",
       "    }\n",
       "\n",
       "    .dataframe thead th {\n",
       "        text-align: right;\n",
       "    }\n",
       "</style>\n",
       "<table border=\"1\" class=\"dataframe\">\n",
       "  <thead>\n",
       "    <tr style=\"text-align: right;\">\n",
       "      <th></th>\n",
       "      <th>country</th>\n",
       "      <th>country_code</th>\n",
       "      <th>date_added</th>\n",
       "      <th>has_expired</th>\n",
       "      <th>job_board</th>\n",
       "      <th>job_description</th>\n",
       "      <th>job_title</th>\n",
       "      <th>job_type</th>\n",
       "      <th>location</th>\n",
       "      <th>organization</th>\n",
       "      <th>page_url</th>\n",
       "      <th>salary</th>\n",
       "      <th>sector</th>\n",
       "      <th>uniq_id</th>\n",
       "    </tr>\n",
       "  </thead>\n",
       "  <tbody>\n",
       "    <tr>\n",
       "      <th>2629</th>\n",
       "      <td>United States of America</td>\n",
       "      <td>US</td>\n",
       "      <td>NaN</td>\n",
       "      <td>No</td>\n",
       "      <td>jobs.monster.com</td>\n",
       "      <td>Job Title #317 Chattanooga Co-Manager Auto req...</td>\n",
       "      <td># Chattanooga Co-Manager Job in Chattanooga</td>\n",
       "      <td>Full Time Employee</td>\n",
       "      <td>Chattanooga, TN 37421</td>\n",
       "      <td>Retail</td>\n",
       "      <td>http://jobview.monster.com/317-chattanooga-co-...</td>\n",
       "      <td>NaN</td>\n",
       "      <td>Retail</td>\n",
       "      <td>c5358d87106ef1a20a0a95a92795312b</td>\n",
       "    </tr>\n",
       "    <tr>\n",
       "      <th>15753</th>\n",
       "      <td>United States of America</td>\n",
       "      <td>US</td>\n",
       "      <td>NaN</td>\n",
       "      <td>No</td>\n",
       "      <td>jobs.monster.com</td>\n",
       "      <td>Job Title #317 Chattanooga Co-Manager Auto req...</td>\n",
       "      <td># Chattanooga Co-Manager Job in Chattanooga</td>\n",
       "      <td>Full Time Employee</td>\n",
       "      <td>Chattanooga, TN 37421</td>\n",
       "      <td>Retail</td>\n",
       "      <td>http://jobview.monster.com/317-chattanooga-co-...</td>\n",
       "      <td>NaN</td>\n",
       "      <td>Retail</td>\n",
       "      <td>4e38171ed13d286880936769afdc4e68</td>\n",
       "    </tr>\n",
       "    <tr>\n",
       "      <th>795</th>\n",
       "      <td>United States of America</td>\n",
       "      <td>US</td>\n",
       "      <td>NaN</td>\n",
       "      <td>No</td>\n",
       "      <td>jobs.monster.com</td>\n",
       "      <td>Job Title #720 Plano Retail Co-Manager Auto re...</td>\n",
       "      <td># Plano Retail Co-Manager Job in Plano</td>\n",
       "      <td>Full Time Employee</td>\n",
       "      <td>Plano, TX 75093</td>\n",
       "      <td>Retail</td>\n",
       "      <td>http://jobview.monster.com/720-plano-retail-co...</td>\n",
       "      <td>NaN</td>\n",
       "      <td>Retail</td>\n",
       "      <td>000d6b27ca3019e5a8c36e021fd6a188</td>\n",
       "    </tr>\n",
       "    <tr>\n",
       "      <th>11354</th>\n",
       "      <td>United States of America</td>\n",
       "      <td>US</td>\n",
       "      <td>NaN</td>\n",
       "      <td>No</td>\n",
       "      <td>jobs.monster.com</td>\n",
       "      <td>Job Title #720 Plano Retail Co-Manager Auto re...</td>\n",
       "      <td># Plano Retail Co-Manager Job in Plano</td>\n",
       "      <td>Full Time Employee</td>\n",
       "      <td>Plano, TX 75093</td>\n",
       "      <td>Retail</td>\n",
       "      <td>http://jobview.monster.com/720-plano-retail-co...</td>\n",
       "      <td>NaN</td>\n",
       "      <td>Retail</td>\n",
       "      <td>d8503658d538c95b28a0e437c7200955</td>\n",
       "    </tr>\n",
       "    <tr>\n",
       "      <th>3806</th>\n",
       "      <td>United States of America</td>\n",
       "      <td>US</td>\n",
       "      <td>NaN</td>\n",
       "      <td>No</td>\n",
       "      <td>jobs.monster.com</td>\n",
       "      <td>Is in need of an experienced RN supervisor wit...</td>\n",
       "      <td>./hr Experienced RN supervisor (Smithtown) Job...</td>\n",
       "      <td>Full Time</td>\n",
       "      <td>Smithtown, NY 11787</td>\n",
       "      <td>Healthcare Services</td>\n",
       "      <td>http://jobview.monster.com/40-00-hr-Experience...</td>\n",
       "      <td>40.00 - 40.00 $ /year</td>\n",
       "      <td>Manager (Manager/Supervisor of Staff)</td>\n",
       "      <td>2c594aad12dc6ae51125bff47d6c6e9a</td>\n",
       "    </tr>\n",
       "  </tbody>\n",
       "</table>\n",
       "</div>"
      ],
      "text/plain": [
       "                        country country_code date_added has_expired  \\\n",
       "2629   United States of America           US        NaN          No   \n",
       "15753  United States of America           US        NaN          No   \n",
       "795    United States of America           US        NaN          No   \n",
       "11354  United States of America           US        NaN          No   \n",
       "3806   United States of America           US        NaN          No   \n",
       "\n",
       "              job_board                                    job_description  \\\n",
       "2629   jobs.monster.com  Job Title #317 Chattanooga Co-Manager Auto req...   \n",
       "15753  jobs.monster.com  Job Title #317 Chattanooga Co-Manager Auto req...   \n",
       "795    jobs.monster.com  Job Title #720 Plano Retail Co-Manager Auto re...   \n",
       "11354  jobs.monster.com  Job Title #720 Plano Retail Co-Manager Auto re...   \n",
       "3806   jobs.monster.com  Is in need of an experienced RN supervisor wit...   \n",
       "\n",
       "                                               job_title            job_type  \\\n",
       "2629         # Chattanooga Co-Manager Job in Chattanooga  Full Time Employee   \n",
       "15753        # Chattanooga Co-Manager Job in Chattanooga  Full Time Employee   \n",
       "795               # Plano Retail Co-Manager Job in Plano  Full Time Employee   \n",
       "11354             # Plano Retail Co-Manager Job in Plano  Full Time Employee   \n",
       "3806   ./hr Experienced RN supervisor (Smithtown) Job...           Full Time   \n",
       "\n",
       "                    location         organization  \\\n",
       "2629   Chattanooga, TN 37421               Retail   \n",
       "15753  Chattanooga, TN 37421               Retail   \n",
       "795          Plano, TX 75093               Retail   \n",
       "11354        Plano, TX 75093               Retail   \n",
       "3806     Smithtown, NY 11787  Healthcare Services   \n",
       "\n",
       "                                                page_url  \\\n",
       "2629   http://jobview.monster.com/317-chattanooga-co-...   \n",
       "15753  http://jobview.monster.com/317-chattanooga-co-...   \n",
       "795    http://jobview.monster.com/720-plano-retail-co...   \n",
       "11354  http://jobview.monster.com/720-plano-retail-co...   \n",
       "3806   http://jobview.monster.com/40-00-hr-Experience...   \n",
       "\n",
       "                      salary                                 sector  \\\n",
       "2629                     NaN                                 Retail   \n",
       "15753                    NaN                                 Retail   \n",
       "795                      NaN                                 Retail   \n",
       "11354                    NaN                                 Retail   \n",
       "3806   40.00 - 40.00 $ /year  Manager (Manager/Supervisor of Staff)   \n",
       "\n",
       "                                uniq_id  \n",
       "2629   c5358d87106ef1a20a0a95a92795312b  \n",
       "15753  4e38171ed13d286880936769afdc4e68  \n",
       "795    000d6b27ca3019e5a8c36e021fd6a188  \n",
       "11354  d8503658d538c95b28a0e437c7200955  \n",
       "3806   2c594aad12dc6ae51125bff47d6c6e9a  "
      ]
     },
     "execution_count": 17,
     "metadata": {},
     "output_type": "execute_result"
    }
   ],
   "source": [
    "df[df.duplicated(subset=['job_title', 'job_type', 'location'], keep=False)].sort_values(by=['job_title', 'job_type', 'location']).head()"
   ]
  },
  {
   "cell_type": "code",
   "execution_count": 19,
   "id": "99380ec5",
   "metadata": {},
   "outputs": [],
   "source": [
    "df = df.drop_duplicates(subset=['country', 'country_code', 'job_board','job_description',\n",
    "                                'job_title', 'job_type', 'location', 'organization',\n",
    "                                'salary', 'sector'])"
   ]
  },
  {
   "cell_type": "markdown",
   "id": "4565ea45",
   "metadata": {},
   "source": [
    "### How many nulls are there?"
   ]
  },
  {
   "cell_type": "code",
   "execution_count": 21,
   "id": "516605a3",
   "metadata": {},
   "outputs": [
    {
     "data": {
      "text/plain": [
       "(20831, 14)"
      ]
     },
     "execution_count": 21,
     "metadata": {},
     "output_type": "execute_result"
    }
   ],
   "source": [
    "df.shape"
   ]
  },
  {
   "cell_type": "code",
   "execution_count": 20,
   "id": "cb3cd3dd",
   "metadata": {},
   "outputs": [
    {
     "data": {
      "text/plain": [
       "country                0\n",
       "country_code           0\n",
       "date_added         20713\n",
       "has_expired            0\n",
       "job_board              0\n",
       "job_description        0\n",
       "job_title              0\n",
       "job_type            1521\n",
       "location               0\n",
       "organization        6605\n",
       "page_url               0\n",
       "salary             17532\n",
       "sector              4923\n",
       "uniq_id                0\n",
       "dtype: int64"
      ]
     },
     "execution_count": 20,
     "metadata": {},
     "output_type": "execute_result"
    }
   ],
   "source": [
    "df.isna().sum()"
   ]
  },
  {
   "cell_type": "code",
   "execution_count": 23,
   "id": "f0eac1c0",
   "metadata": {},
   "outputs": [
    {
     "data": {
      "text/plain": [
       "country             0.000000\n",
       "country_code        0.000000\n",
       "date_added         99.433537\n",
       "has_expired         0.000000\n",
       "job_board           0.000000\n",
       "job_description     0.000000\n",
       "job_title           0.000000\n",
       "job_type            7.301618\n",
       "location            0.000000\n",
       "organization       31.707551\n",
       "page_url            0.000000\n",
       "salary             84.163026\n",
       "sector             23.633047\n",
       "uniq_id             0.000000\n",
       "dtype: float64"
      ]
     },
     "execution_count": 23,
     "metadata": {},
     "output_type": "execute_result"
    }
   ],
   "source": [
    "100*df.isna().sum()/df.shape[0]"
   ]
  },
  {
   "cell_type": "markdown",
   "id": "830f6dff",
   "metadata": {},
   "source": [
    "### What should we do if a feature (column) is almost all or majorly composed of nulls?\n",
    "\n",
    "No hay una respuesta definitiva. Debemos averiguar cual es la relevancia de esa feature, si hay posibilidad de recuperar esos datos por otra columna o alguna ontra fuente de datos, etc.\n",
    "\n",
    "En el caso de la columna `date_added` arriba que es casi 100% nula no parece que podríamos recuperar esos datos."
   ]
  },
  {
   "cell_type": "markdown",
   "id": "18094c79",
   "metadata": {},
   "source": [
    "### How are nulls distributed?"
   ]
  },
  {
   "cell_type": "code",
   "execution_count": 25,
   "id": "01271e42",
   "metadata": {},
   "outputs": [
    {
     "data": {
      "text/plain": [
       "<AxesSubplot:>"
      ]
     },
     "execution_count": 25,
     "metadata": {},
     "output_type": "execute_result"
    },
    {
     "data": {
      "image/png": "[encoded data removed]",
      "text/plain": [
       "<Figure size 432x288 with 2 Axes>"
      ]
     },
     "metadata": {
      "needs_background": "light"
     },
     "output_type": "display_data"
    }
   ],
   "source": [
    "import seaborn as sns\n",
    "\n",
    "sns.heatmap(df.isnull().sort_values(by=\"job_type\"))"
   ]
  },
  {
   "cell_type": "code",
   "execution_count": 26,
   "id": "3c1afd3a",
   "metadata": {},
   "outputs": [
    {
     "name": "stdout",
     "output_type": "stream",
     "text": [
      "<class 'pandas.core.frame.DataFrame'>\n",
      "Int64Index: 20831 entries, 0 to 21999\n",
      "Data columns (total 14 columns):\n",
      " #   Column           Non-Null Count  Dtype \n",
      "---  ------           --------------  ----- \n",
      " 0   country          20831 non-null  object\n",
      " 1   country_code     20831 non-null  object\n",
      " 2   date_added       118 non-null    object\n",
      " 3   has_expired      20831 non-null  object\n",
      " 4   job_board        20831 non-null  object\n",
      " 5   job_description  20831 non-null  object\n",
      " 6   job_title        20831 non-null  object\n",
      " 7   job_type         19310 non-null  object\n",
      " 8   location         20831 non-null  object\n",
      " 9   organization     14226 non-null  object\n",
      " 10  page_url         20831 non-null  object\n",
      " 11  salary           3299 non-null   object\n",
      " 12  sector           15908 non-null  object\n",
      " 13  uniq_id          20831 non-null  object\n",
      "dtypes: object(14)\n",
      "memory usage: 2.4+ MB\n"
     ]
    }
   ],
   "source": [
    "df.info()"
   ]
  },
  {
   "cell_type": "markdown",
   "id": "fe8bbffa",
   "metadata": {},
   "source": [
    "### A little more information"
   ]
  },
  {
   "cell_type": "code",
   "execution_count": 27,
   "id": "21d33b9f",
   "metadata": {},
   "outputs": [
    {
     "data": {
      "text/html": [
       "<div>\n",
       "<style scoped>\n",
       "    .dataframe tbody tr th:only-of-type {\n",
       "        vertical-align: middle;\n",
       "    }\n",
       "\n",
       "    .dataframe tbody tr th {\n",
       "        vertical-align: top;\n",
       "    }\n",
       "\n",
       "    .dataframe thead th {\n",
       "        text-align: right;\n",
       "    }\n",
       "</style>\n",
       "<table border=\"1\" class=\"dataframe\">\n",
       "  <thead>\n",
       "    <tr style=\"text-align: right;\">\n",
       "      <th></th>\n",
       "      <th>country</th>\n",
       "      <th>country_code</th>\n",
       "      <th>date_added</th>\n",
       "      <th>has_expired</th>\n",
       "      <th>job_board</th>\n",
       "      <th>job_description</th>\n",
       "      <th>job_title</th>\n",
       "      <th>job_type</th>\n",
       "      <th>location</th>\n",
       "      <th>organization</th>\n",
       "      <th>page_url</th>\n",
       "      <th>salary</th>\n",
       "      <th>sector</th>\n",
       "      <th>uniq_id</th>\n",
       "    </tr>\n",
       "  </thead>\n",
       "  <tbody>\n",
       "    <tr>\n",
       "      <th>count</th>\n",
       "      <td>20831</td>\n",
       "      <td>20831</td>\n",
       "      <td>118</td>\n",
       "      <td>20831</td>\n",
       "      <td>20831</td>\n",
       "      <td>20831</td>\n",
       "      <td>20831</td>\n",
       "      <td>19310</td>\n",
       "      <td>20831</td>\n",
       "      <td>14226</td>\n",
       "      <td>20831</td>\n",
       "      <td>3299</td>\n",
       "      <td>15908</td>\n",
       "      <td>20831</td>\n",
       "    </tr>\n",
       "    <tr>\n",
       "      <th>unique</th>\n",
       "      <td>1</td>\n",
       "      <td>1</td>\n",
       "      <td>77</td>\n",
       "      <td>1</td>\n",
       "      <td>1</td>\n",
       "      <td>18744</td>\n",
       "      <td>18759</td>\n",
       "      <td>39</td>\n",
       "      <td>8423</td>\n",
       "      <td>738</td>\n",
       "      <td>20831</td>\n",
       "      <td>1737</td>\n",
       "      <td>163</td>\n",
       "      <td>20831</td>\n",
       "    </tr>\n",
       "    <tr>\n",
       "      <th>top</th>\n",
       "      <td>United States of America</td>\n",
       "      <td>US</td>\n",
       "      <td>9/22/2016</td>\n",
       "      <td>No</td>\n",
       "      <td>jobs.monster.com</td>\n",
       "      <td>12N Horizontal Construction Engineers Job Desc...</td>\n",
       "      <td>Monster</td>\n",
       "      <td>Full Time</td>\n",
       "      <td>Dallas, TX</td>\n",
       "      <td>Healthcare Services</td>\n",
       "      <td>http://jobview.monster.com/it-support-technici...</td>\n",
       "      <td>40,000.00 - 100,000.00 $ /year</td>\n",
       "      <td>Experienced (Non-Manager)</td>\n",
       "      <td>11d599f229a80023d2f40e7c52cd941e</td>\n",
       "    </tr>\n",
       "    <tr>\n",
       "      <th>freq</th>\n",
       "      <td>20831</td>\n",
       "      <td>20831</td>\n",
       "      <td>4</td>\n",
       "      <td>20831</td>\n",
       "      <td>20831</td>\n",
       "      <td>104</td>\n",
       "      <td>300</td>\n",
       "      <td>6428</td>\n",
       "      <td>596</td>\n",
       "      <td>1776</td>\n",
       "      <td>1</td>\n",
       "      <td>50</td>\n",
       "      <td>4299</td>\n",
       "      <td>1</td>\n",
       "    </tr>\n",
       "  </tbody>\n",
       "</table>\n",
       "</div>"
      ],
      "text/plain": [
       "                         country country_code date_added has_expired  \\\n",
       "count                      20831        20831        118       20831   \n",
       "unique                         1            1         77           1   \n",
       "top     United States of America           US  9/22/2016          No   \n",
       "freq                       20831        20831          4       20831   \n",
       "\n",
       "               job_board                                    job_description  \\\n",
       "count              20831                                              20831   \n",
       "unique                 1                                              18744   \n",
       "top     jobs.monster.com  12N Horizontal Construction Engineers Job Desc...   \n",
       "freq               20831                                                104   \n",
       "\n",
       "       job_title   job_type    location         organization  \\\n",
       "count      20831      19310       20831                14226   \n",
       "unique     18759         39        8423                  738   \n",
       "top      Monster  Full Time  Dallas, TX  Healthcare Services   \n",
       "freq         300       6428         596                 1776   \n",
       "\n",
       "                                                 page_url  \\\n",
       "count                                               20831   \n",
       "unique                                              20831   \n",
       "top     http://jobview.monster.com/it-support-technici...   \n",
       "freq                                                    1   \n",
       "\n",
       "                                salary                     sector  \\\n",
       "count                             3299                      15908   \n",
       "unique                            1737                        163   \n",
       "top     40,000.00 - 100,000.00 $ /year  Experienced (Non-Manager)   \n",
       "freq                                50                       4299   \n",
       "\n",
       "                                 uniq_id  \n",
       "count                              20831  \n",
       "unique                             20831  \n",
       "top     11d599f229a80023d2f40e7c52cd941e  \n",
       "freq                                   1  "
      ]
     },
     "execution_count": 27,
     "metadata": {},
     "output_type": "execute_result"
    }
   ],
   "source": [
    "df.describe()"
   ]
  },
  {
   "cell_type": "markdown",
   "id": "0d357e6a",
   "metadata": {},
   "source": [
    "Las columnas `country`, `country_code`, `has_expired` y `job_board` no tienen nulos, pero tienen el mismo valor constante en todas las filas, por lo cual no nos dice ninguna información relevante. Para Machine Learning, no trarian ningún valor a nuestro modelo.\n",
    "\n",
    "Igualmente, podemos ver que tenemos 2 columnas que tampoco tienen nulos, pero tienen valores únicos en todas las filas. Una de ellas es un `id`, podemos hacer que esa columna sea el id de nuestro dataframe.\n",
    "\n",
    "Variables categóricas que solo posén valores únicos no añaden nada al modelo además de complejidad y ruido.\n",
    "Si fuera una variable numerica todo dependeria de las correlaciones.\n",
    "\n",
    "Para lo que si sería útil tener esas urls es para hacer `web scraping` (recogida de datos de páginas web) caso pudieramos extraer datos complementários de esas webs."
   ]
  },
  {
   "cell_type": "code",
   "execution_count": 29,
   "id": "990b982e",
   "metadata": {},
   "outputs": [],
   "source": [
    "df = df.drop(columns=['country', 'country_code', 'date_added', 'has_expired', 'job_board',\n",
    "                      'page_url'])"
   ]
  },
  {
   "cell_type": "code",
   "execution_count": 30,
   "id": "d3eaa8cf",
   "metadata": {},
   "outputs": [],
   "source": [
    "df = df.set_index(\"uniq_id\")"
   ]
  },
  {
   "cell_type": "code",
   "execution_count": 31,
   "id": "0fce8619",
   "metadata": {},
   "outputs": [
    {
     "data": {
      "text/html": [
       "<div>\n",
       "<style scoped>\n",
       "    .dataframe tbody tr th:only-of-type {\n",
       "        vertical-align: middle;\n",
       "    }\n",
       "\n",
       "    .dataframe tbody tr th {\n",
       "        vertical-align: top;\n",
       "    }\n",
       "\n",
       "    .dataframe thead th {\n",
       "        text-align: right;\n",
       "    }\n",
       "</style>\n",
       "<table border=\"1\" class=\"dataframe\">\n",
       "  <thead>\n",
       "    <tr style=\"text-align: right;\">\n",
       "      <th></th>\n",
       "      <th>job_description</th>\n",
       "      <th>job_title</th>\n",
       "      <th>job_type</th>\n",
       "      <th>location</th>\n",
       "      <th>organization</th>\n",
       "      <th>salary</th>\n",
       "      <th>sector</th>\n",
       "    </tr>\n",
       "    <tr>\n",
       "      <th>uniq_id</th>\n",
       "      <th></th>\n",
       "      <th></th>\n",
       "      <th></th>\n",
       "      <th></th>\n",
       "      <th></th>\n",
       "      <th></th>\n",
       "      <th></th>\n",
       "    </tr>\n",
       "  </thead>\n",
       "  <tbody>\n",
       "    <tr>\n",
       "      <th>11d599f229a80023d2f40e7c52cd941e</th>\n",
       "      <td>TeamSoft is seeing an IT Support Specialist to...</td>\n",
       "      <td>IT Support Technician Job in Madison</td>\n",
       "      <td>Full Time Employee</td>\n",
       "      <td>Madison, WI 53702</td>\n",
       "      <td>NaN</td>\n",
       "      <td>NaN</td>\n",
       "      <td>IT/Software Development</td>\n",
       "    </tr>\n",
       "    <tr>\n",
       "      <th>e4cbb126dabf22159aff90223243ff2a</th>\n",
       "      <td>The Wisconsin State Journal is seeking a flexi...</td>\n",
       "      <td>Business Reporter/Editor Job in Madison</td>\n",
       "      <td>Full Time</td>\n",
       "      <td>Madison, WI 53708</td>\n",
       "      <td>Printing and Publishing</td>\n",
       "      <td>NaN</td>\n",
       "      <td>NaN</td>\n",
       "    </tr>\n",
       "    <tr>\n",
       "      <th>839106b353877fa3d896ffb9c1fe01c0</th>\n",
       "      <td>Report this job About the Job DePuy Synthes Co...</td>\n",
       "      <td>Johnson &amp; Johnson Family of Companies Job Appl...</td>\n",
       "      <td>Full Time, Employee</td>\n",
       "      <td>DePuy Synthes Companies is a member of Johnson...</td>\n",
       "      <td>Personal and Household Services</td>\n",
       "      <td>NaN</td>\n",
       "      <td>NaN</td>\n",
       "    </tr>\n",
       "    <tr>\n",
       "      <th>58435fcab804439efdcaa7ecca0fd783</th>\n",
       "      <td>Why Join Altec? If you’re considering a career...</td>\n",
       "      <td>Engineer - Quality Job in Dixon</td>\n",
       "      <td>Full Time</td>\n",
       "      <td>Dixon, CA</td>\n",
       "      <td>Altec Industries</td>\n",
       "      <td>NaN</td>\n",
       "      <td>Experienced (Non-Manager)</td>\n",
       "    </tr>\n",
       "    <tr>\n",
       "      <th>64d0272dc8496abfd9523a8df63c184c</th>\n",
       "      <td>Position ID#  76162 # Positions  1 State  CT C...</td>\n",
       "      <td>Shift Supervisor - Part-Time Job in Camphill</td>\n",
       "      <td>Full Time Employee</td>\n",
       "      <td>Camphill, PA</td>\n",
       "      <td>Retail</td>\n",
       "      <td>NaN</td>\n",
       "      <td>Project/Program Management</td>\n",
       "    </tr>\n",
       "  </tbody>\n",
       "</table>\n",
       "</div>"
      ],
      "text/plain": [
       "                                                                    job_description  \\\n",
       "uniq_id                                                                               \n",
       "11d599f229a80023d2f40e7c52cd941e  TeamSoft is seeing an IT Support Specialist to...   \n",
       "e4cbb126dabf22159aff90223243ff2a  The Wisconsin State Journal is seeking a flexi...   \n",
       "839106b353877fa3d896ffb9c1fe01c0  Report this job About the Job DePuy Synthes Co...   \n",
       "58435fcab804439efdcaa7ecca0fd783  Why Join Altec? If you’re considering a career...   \n",
       "64d0272dc8496abfd9523a8df63c184c  Position ID#  76162 # Positions  1 State  CT C...   \n",
       "\n",
       "                                                                          job_title  \\\n",
       "uniq_id                                                                               \n",
       "11d599f229a80023d2f40e7c52cd941e               IT Support Technician Job in Madison   \n",
       "e4cbb126dabf22159aff90223243ff2a            Business Reporter/Editor Job in Madison   \n",
       "839106b353877fa3d896ffb9c1fe01c0  Johnson & Johnson Family of Companies Job Appl...   \n",
       "58435fcab804439efdcaa7ecca0fd783                    Engineer - Quality Job in Dixon   \n",
       "64d0272dc8496abfd9523a8df63c184c       Shift Supervisor - Part-Time Job in Camphill   \n",
       "\n",
       "                                             job_type  \\\n",
       "uniq_id                                                 \n",
       "11d599f229a80023d2f40e7c52cd941e   Full Time Employee   \n",
       "e4cbb126dabf22159aff90223243ff2a            Full Time   \n",
       "839106b353877fa3d896ffb9c1fe01c0  Full Time, Employee   \n",
       "58435fcab804439efdcaa7ecca0fd783            Full Time   \n",
       "64d0272dc8496abfd9523a8df63c184c   Full Time Employee   \n",
       "\n",
       "                                                                           location  \\\n",
       "uniq_id                                                                               \n",
       "11d599f229a80023d2f40e7c52cd941e                                  Madison, WI 53702   \n",
       "e4cbb126dabf22159aff90223243ff2a                                  Madison, WI 53708   \n",
       "839106b353877fa3d896ffb9c1fe01c0  DePuy Synthes Companies is a member of Johnson...   \n",
       "58435fcab804439efdcaa7ecca0fd783                                          Dixon, CA   \n",
       "64d0272dc8496abfd9523a8df63c184c                                       Camphill, PA   \n",
       "\n",
       "                                                     organization salary  \\\n",
       "uniq_id                                                                    \n",
       "11d599f229a80023d2f40e7c52cd941e                              NaN    NaN   \n",
       "e4cbb126dabf22159aff90223243ff2a          Printing and Publishing    NaN   \n",
       "839106b353877fa3d896ffb9c1fe01c0  Personal and Household Services    NaN   \n",
       "58435fcab804439efdcaa7ecca0fd783                 Altec Industries    NaN   \n",
       "64d0272dc8496abfd9523a8df63c184c                           Retail    NaN   \n",
       "\n",
       "                                                      sector  \n",
       "uniq_id                                                       \n",
       "11d599f229a80023d2f40e7c52cd941e     IT/Software Development  \n",
       "e4cbb126dabf22159aff90223243ff2a                         NaN  \n",
       "839106b353877fa3d896ffb9c1fe01c0                         NaN  \n",
       "58435fcab804439efdcaa7ecca0fd783   Experienced (Non-Manager)  \n",
       "64d0272dc8496abfd9523a8df63c184c  Project/Program Management  "
      ]
     },
     "execution_count": 31,
     "metadata": {},
     "output_type": "execute_result"
    }
   ],
   "source": [
    "df.head()"
   ]
  },
  {
   "cell_type": "markdown",
   "id": "6238ff5b",
   "metadata": {},
   "source": [
    "### Checking out the columns"
   ]
  },
  {
   "cell_type": "code",
   "execution_count": 32,
   "id": "cff16c0b",
   "metadata": {},
   "outputs": [
    {
     "data": {
      "text/html": [
       "<div>\n",
       "<style scoped>\n",
       "    .dataframe tbody tr th:only-of-type {\n",
       "        vertical-align: middle;\n",
       "    }\n",
       "\n",
       "    .dataframe tbody tr th {\n",
       "        vertical-align: top;\n",
       "    }\n",
       "\n",
       "    .dataframe thead th {\n",
       "        text-align: right;\n",
       "    }\n",
       "</style>\n",
       "<table border=\"1\" class=\"dataframe\">\n",
       "  <thead>\n",
       "    <tr style=\"text-align: right;\">\n",
       "      <th></th>\n",
       "      <th>job_description</th>\n",
       "      <th>job_title</th>\n",
       "      <th>job_type</th>\n",
       "      <th>location</th>\n",
       "      <th>organization</th>\n",
       "      <th>salary</th>\n",
       "      <th>sector</th>\n",
       "    </tr>\n",
       "  </thead>\n",
       "  <tbody>\n",
       "    <tr>\n",
       "      <th>count</th>\n",
       "      <td>20831</td>\n",
       "      <td>20831</td>\n",
       "      <td>19310</td>\n",
       "      <td>20831</td>\n",
       "      <td>14226</td>\n",
       "      <td>3299</td>\n",
       "      <td>15908</td>\n",
       "    </tr>\n",
       "    <tr>\n",
       "      <th>unique</th>\n",
       "      <td>18744</td>\n",
       "      <td>18759</td>\n",
       "      <td>39</td>\n",
       "      <td>8423</td>\n",
       "      <td>738</td>\n",
       "      <td>1737</td>\n",
       "      <td>163</td>\n",
       "    </tr>\n",
       "    <tr>\n",
       "      <th>top</th>\n",
       "      <td>12N Horizontal Construction Engineers Job Desc...</td>\n",
       "      <td>Monster</td>\n",
       "      <td>Full Time</td>\n",
       "      <td>Dallas, TX</td>\n",
       "      <td>Healthcare Services</td>\n",
       "      <td>40,000.00 - 100,000.00 $ /year</td>\n",
       "      <td>Experienced (Non-Manager)</td>\n",
       "    </tr>\n",
       "    <tr>\n",
       "      <th>freq</th>\n",
       "      <td>104</td>\n",
       "      <td>300</td>\n",
       "      <td>6428</td>\n",
       "      <td>596</td>\n",
       "      <td>1776</td>\n",
       "      <td>50</td>\n",
       "      <td>4299</td>\n",
       "    </tr>\n",
       "  </tbody>\n",
       "</table>\n",
       "</div>"
      ],
      "text/plain": [
       "                                          job_description job_title  \\\n",
       "count                                               20831     20831   \n",
       "unique                                              18744     18759   \n",
       "top     12N Horizontal Construction Engineers Job Desc...   Monster   \n",
       "freq                                                  104       300   \n",
       "\n",
       "         job_type    location         organization  \\\n",
       "count       19310       20831                14226   \n",
       "unique         39        8423                  738   \n",
       "top     Full Time  Dallas, TX  Healthcare Services   \n",
       "freq         6428         596                 1776   \n",
       "\n",
       "                                salary                     sector  \n",
       "count                             3299                      15908  \n",
       "unique                            1737                        163  \n",
       "top     40,000.00 - 100,000.00 $ /year  Experienced (Non-Manager)  \n",
       "freq                                50                       4299  "
      ]
     },
     "execution_count": 32,
     "metadata": {},
     "output_type": "execute_result"
    }
   ],
   "source": [
    "df.describe()"
   ]
  },
  {
   "cell_type": "code",
   "execution_count": 33,
   "id": "a1abaeaa",
   "metadata": {},
   "outputs": [
    {
     "data": {
      "text/plain": [
       "array(['Full Time Employee', 'Full Time', 'Full Time, Employee',\n",
       "       'Part Time Employee', nan, 'Full Time Temporary/Contract/Project',\n",
       "       'Full Time , Employee', 'Full Time, Temporary/Contract/Project',\n",
       "       'Employee', 'Part Time', 'Part Time, Employee', 'Full Time Intern',\n",
       "       'Temporary/Contract/Project', 'Full Time / Employee',\n",
       "       'Full Time , Temporary/Contract/Project',\n",
       "       'Part Time, Temporary/Contract/Project', 'Full Time/ Employee',\n",
       "       'Per Diem, Employee', 'Job Type Full Time Employee', 'Per Diem',\n",
       "       'Full Time\\xa0', 'Part Time Intern', 'Per Diem Employee',\n",
       "       'Part Time/ Temporary/Contract/Project',\n",
       "       'Part Time Temporary/Contract/Project', 'Exempt',\n",
       "       'Part Time , Temporary/Contract/Project', 'Full Time\\xa0 Employee',\n",
       "       'Part Time Seasonal', 'Part Time , Employee', 'Job Type Employee',\n",
       "       'Job Type Full Time Temporary/Contract/Project',\n",
       "       'Full Time / > Employee', 'Part Time\\xa0',\n",
       "       'Per Diem, Temporary/Contract/Project',\n",
       "       'Full Time / Temporary/Contract/Project', 'Part Time, Intern',\n",
       "       'Job Type Full Time', 'Part Time / Employee',\n",
       "       'Job Type Part Time Employee'], dtype=object)"
      ]
     },
     "execution_count": 33,
     "metadata": {},
     "output_type": "execute_result"
    }
   ],
   "source": [
    "df[\"job_type\"].unique()"
   ]
  },
  {
   "cell_type": "code",
   "execution_count": 36,
   "id": "a64d15db",
   "metadata": {},
   "outputs": [],
   "source": [
    "def extract(x,dic):\n",
    "    for k,v in dic.items():\n",
    "        if k.lower() in str(x).lower():\n",
    "            return v\n",
    "    return x"
   ]
  },
  {
   "cell_type": "code",
   "execution_count": 39,
   "id": "1aead4c5",
   "metadata": {},
   "outputs": [
    {
     "data": {
      "text/plain": [
       "Full                          18020\n",
       "Part                            891\n",
       "Temporary/Contract/Project      185\n",
       "Employee                        146\n",
       "Hourly                           66\n",
       "Exempt                            1\n",
       "Job Type Employee                 1\n",
       "Name: time, dtype: int64"
      ]
     },
     "execution_count": 39,
     "metadata": {},
     "output_type": "execute_result"
    }
   ],
   "source": [
    "df[\"time\"] = df[\"job_type\"].apply(extract, dic = {\"Full Time\":\"Full\", \"Part Time\":\"Part\", \"Per Diem\": \"Hourly\"})\n",
    "df[\"time\"].value_counts()"
   ]
  },
  {
   "cell_type": "code",
   "execution_count": 43,
   "id": "46bf294e",
   "metadata": {},
   "outputs": [],
   "source": [
    "df[\"contract\"] = df[\"job_type\"].apply(extract, dic = {\n",
    "                                                        \"Employee\":\"Employee\",\n",
    "                                                        \"Temporary\":\"Temp\",\n",
    "                                                        \"Contract\":\"Temp\",\n",
    "                                                        \"Project\":\"Temp\",\n",
    "                                                        \"Seasonal\":\"Temp\",\n",
    "                                                        \"Per Diem\":\"Temp\",\n",
    "                                                        \"Intern\":\"Intern\"\n",
    "                                                                })"
   ]
  },
  {
   "cell_type": "code",
   "execution_count": 44,
   "id": "a58055a8",
   "metadata": {},
   "outputs": [
    {
     "data": {
      "text/plain": [
       "Employee              10695\n",
       "Full Time              6428\n",
       "Temp                   1843\n",
       "Part Time               318\n",
       "Full Time                14\n",
       "Intern                    8\n",
       "Job Type Full Time        2\n",
       "Exempt                    1\n",
       "Part Time                 1\n",
       "Name: contract, dtype: int64"
      ]
     },
     "execution_count": 44,
     "metadata": {},
     "output_type": "execute_result"
    }
   ],
   "source": [
    "df[\"contract\"].value_counts()"
   ]
  },
  {
   "cell_type": "code",
   "execution_count": 50,
   "id": "8faf245c",
   "metadata": {},
   "outputs": [],
   "source": [
    "new = df[~df[\"time\"].isin([\"Full\",\"Part\",\"Hourly\"])][\"job_description\"].apply(extract, dic = {\"Full Time\":\"Full\", \n",
    "                                                                                        \"Part Time\":\"Part\", \n",
    "                                                                                        \"Per Diem\": \"Hourly\"})"
   ]
  },
  {
   "cell_type": "code",
   "execution_count": 55,
   "id": "86b2f9de",
   "metadata": {},
   "outputs": [],
   "source": [
    "new = new[new.isin([\"Full\",\"Part\",\"Hourly\"])]"
   ]
  },
  {
   "cell_type": "code",
   "execution_count": 56,
   "id": "b60bef2a",
   "metadata": {},
   "outputs": [
    {
     "data": {
      "text/plain": [
       "Full      128\n",
       "Part       28\n",
       "Hourly      2\n",
       "Name: job_description, dtype: int64"
      ]
     },
     "execution_count": 56,
     "metadata": {},
     "output_type": "execute_result"
    }
   ],
   "source": [
    "new.value_counts()"
   ]
  },
  {
   "cell_type": "code",
   "execution_count": 58,
   "id": "518fcc30",
   "metadata": {},
   "outputs": [
    {
     "data": {
      "text/plain": [
       "uniq_id\n",
       "2370aab27692f04cc251015c78207116                      Employee\n",
       "a758cc26350eff9cc7797e85fac4cac4                           NaN\n",
       "cbdf4f25981662c48188543bfb112838    Temporary/Contract/Project\n",
       "f1724ebc6f7a391fbd22cada3c0bc089                      Employee\n",
       "7ca9ad7e1f411c18908f537d246b9460                      Employee\n",
       "                                               ...            \n",
       "5433248524eb3f7242fad195c0b4d3ad                           NaN\n",
       "86121159c293fa98d62978b7017cabca                           NaN\n",
       "fbf1ae1cea49bcf96bb571a08043fd96                           NaN\n",
       "3b8fe78e102c1d5ae8bcf60f5ee8cb5c                      Employee\n",
       "255877c1180a5c6ce9ea49d8afd25317                           NaN\n",
       "Name: time, Length: 158, dtype: object"
      ]
     },
     "execution_count": 58,
     "metadata": {},
     "output_type": "execute_result"
    }
   ],
   "source": [
    "df.loc[new.index, \"time\"]"
   ]
  },
  {
   "cell_type": "code",
   "execution_count": 59,
   "id": "58d2196c",
   "metadata": {},
   "outputs": [],
   "source": [
    "df.loc[new.index, \"time\"]  = new"
   ]
  },
  {
   "cell_type": "code",
   "execution_count": 60,
   "id": "1ea2f9fb",
   "metadata": {},
   "outputs": [
    {
     "data": {
      "text/plain": [
       "Full                          18148\n",
       "Part                            919\n",
       "Temporary/Contract/Project      177\n",
       "Employee                        121\n",
       "Hourly                           68\n",
       "Exempt                            1\n",
       "Job Type Employee                 1\n",
       "Name: time, dtype: int64"
      ]
     },
     "execution_count": 60,
     "metadata": {},
     "output_type": "execute_result"
    }
   ],
   "source": [
    "df[\"time\"].value_counts()"
   ]
  },
  {
   "cell_type": "code",
   "execution_count": null,
   "id": "c682d689",
   "metadata": {},
   "outputs": [],
   "source": []
  }
 ],
 "metadata": {
  "kernelspec": {
   "display_name": "Python 3 (ipykernel)",
   "language": "python",
   "name": "python3"
  },
  "language_info": {
   "codemirror_mode": {
    "name": "ipython",
    "version": 3
   },
   "file_extension": ".py",
   "mimetype": "text/x-python",
   "name": "python",
   "nbconvert_exporter": "python",
   "pygments_lexer": "ipython3",
   "version": "3.9.7"
  },
  "toc": {
   "base_numbering": 1,
   "nav_menu": {},
   "number_sections": false,
   "sideBar": true,
   "skip_h1_title": true,
   "title_cell": "Table of Contents",
   "title_sidebar": "Contents",
   "toc_cell": true,
   "toc_position": {
    "height": "calc(100% - 180px)",
    "left": "10px",
    "top": "150px",
    "width": "338.391px"
   },
   "toc_section_display": true,
   "toc_window_display": false
  }
 },
 "nbformat": 4,
 "nbformat_minor": 5
}
