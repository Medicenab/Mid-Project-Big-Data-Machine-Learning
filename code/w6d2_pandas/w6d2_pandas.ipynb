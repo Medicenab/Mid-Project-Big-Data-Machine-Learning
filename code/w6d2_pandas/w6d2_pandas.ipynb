{
 "cells": [
  {
   "cell_type": "markdown",
   "id": "32b1a2f7",
   "metadata": {},
   "source": [
    "![](https://api.brandy.run/core/core-logo-wide)\n",
    "\n",
    "# Pandas\n",
    "\n",
    "En esa lección vamos profundizar nuestros conocimientos en [pandas](https://pandas.pydata.org/docs/reference/index.html), una de las librerías más populares de Python y de las más importantes para Data Analysts y Data Scientists.\n",
    "\n",
    "El propósito principal de pandas es la manipulación de datos, lo que esa librería permite hacer genialmente, sobretodo por las `estructuras de datos` que nos disponibiliza y su sintáxis practica con muchas posibilidades integradas.\n",
    "\n",
    "Si no tienes todavía pandas instalado, instalalo usando `conda install pandas`.\n",
    "\n",
    "\n",
    "![](img/pandas.png)"
   ]
  },
  {
   "cell_type": "code",
   "execution_count": 1,
   "id": "04e4fc56",
   "metadata": {},
   "outputs": [],
   "source": [
    "import pandas as pd"
   ]
  },
  {
   "cell_type": "markdown",
   "id": "5fe50ecb",
   "metadata": {},
   "source": [
    "# Building Blocks\n",
    "\n",
    "Las estructuras de datos elementares en pandas son dos: las Series y los DataFrames. \n",
    "\n",
    "## 1. Series\n",
    "\n",
    "Una serie de Pandas es un array unidimensional. Basicamente un vector o una lista. Su diferencia está en que las series contienen mucho más información y métodos que sus alternativas."
   ]
  },
  {
   "cell_type": "code",
   "execution_count": 11,
   "id": "20b30678",
   "metadata": {},
   "outputs": [],
   "source": [
    "serie = pd.Series([\"a\",\"b\",\"c\",\"ab\",\"ac\",\"bc\",\"cc\",[1,2,3]])"
   ]
  },
  {
   "cell_type": "code",
   "execution_count": 12,
   "id": "daf79c50",
   "metadata": {},
   "outputs": [
    {
     "data": {
      "text/plain": [
       "0            a\n",
       "1            b\n",
       "2            c\n",
       "3           ab\n",
       "4           ac\n",
       "5           bc\n",
       "6           cc\n",
       "7    [1, 2, 3]\n",
       "dtype: object"
      ]
     },
     "execution_count": 12,
     "metadata": {},
     "output_type": "execute_result"
    }
   ],
   "source": [
    "serie"
   ]
  },
  {
   "cell_type": "markdown",
   "id": "82de302d",
   "metadata": {},
   "source": [
    "### Indexing and Data Type\n",
    "\n",
    "Lo primero que podemos observar al ver la representación de la série es que ella contiene una anterior secuencia con los numeros de 0 a 3 y `dtype`.\n",
    "\n",
    "El dtype es un indicativo de los datos que están contenidos en un a série. Si todos los elementos son `int`, `float` o `bool` podremos ver esa indicación. Pero strings y series mixtas están identificadas como `object`.\n",
    "\n",
    "Los numeros se refieren a los indexes de los elementos de la série y podemos recuperar esos elementos tal cual fueran los de una lista."
   ]
  },
  {
   "cell_type": "code",
   "execution_count": 13,
   "id": "7ac514a7",
   "metadata": {},
   "outputs": [
    {
     "data": {
      "text/plain": [
       "'ac'"
      ]
     },
     "execution_count": 13,
     "metadata": {},
     "output_type": "execute_result"
    }
   ],
   "source": [
    "serie[4]"
   ]
  },
  {
   "cell_type": "markdown",
   "id": "31ed212f",
   "metadata": {},
   "source": [
    "Podemos pasarle intervalos de índices (slices)."
   ]
  },
  {
   "cell_type": "code",
   "execution_count": 14,
   "id": "94459210",
   "metadata": {},
   "outputs": [
    {
     "data": {
      "text/plain": [
       "1     b\n",
       "2     c\n",
       "3    ab\n",
       "4    ac\n",
       "dtype: object"
      ]
     },
     "execution_count": 14,
     "metadata": {},
     "output_type": "execute_result"
    }
   ],
   "source": [
    "serie[1:5]"
   ]
  },
  {
   "cell_type": "markdown",
   "id": "cb17534f",
   "metadata": {},
   "source": [
    "También utilizar un tercer parámetro step."
   ]
  },
  {
   "cell_type": "code",
   "execution_count": 15,
   "id": "641de4b4",
   "metadata": {},
   "outputs": [
    {
     "data": {
      "text/plain": [
       "7    [1, 2, 3]\n",
       "6           cc\n",
       "5           bc\n",
       "4           ac\n",
       "3           ab\n",
       "2            c\n",
       "1            b\n",
       "0            a\n",
       "dtype: object"
      ]
     },
     "execution_count": 15,
     "metadata": {},
     "output_type": "execute_result"
    }
   ],
   "source": [
    "serie[::-1]"
   ]
  },
  {
   "cell_type": "markdown",
   "id": "8e9ec169",
   "metadata": {},
   "source": [
    "Y diferentemente de las listas y otros contenedores, podemos pasarle una lista de índices y nos devolverá los elementos según los índices listados."
   ]
  },
  {
   "cell_type": "code",
   "execution_count": 16,
   "id": "29bfa3d4",
   "metadata": {},
   "outputs": [],
   "source": [
    "indices = [0,1,2,4,5]"
   ]
  },
  {
   "cell_type": "code",
   "execution_count": 17,
   "id": "5cddd45b",
   "metadata": {},
   "outputs": [
    {
     "data": {
      "text/plain": [
       "0     a\n",
       "1     b\n",
       "2     c\n",
       "4    ac\n",
       "5    bc\n",
       "dtype: object"
      ]
     },
     "execution_count": 17,
     "metadata": {},
     "output_type": "execute_result"
    }
   ],
   "source": [
    "serie[indices]"
   ]
  },
  {
   "cell_type": "code",
   "execution_count": 18,
   "id": "30fb212c",
   "metadata": {},
   "outputs": [
    {
     "data": {
      "text/plain": [
       "[1, 2, 3]"
      ]
     },
     "execution_count": 18,
     "metadata": {},
     "output_type": "execute_result"
    }
   ],
   "source": [
    "serie[7]"
   ]
  },
  {
   "cell_type": "code",
   "execution_count": 21,
   "id": "05004e73",
   "metadata": {},
   "outputs": [
    {
     "data": {
      "text/plain": [
       "0     a\n",
       "1     b\n",
       "2     c\n",
       "2     c\n",
       "3    ab\n",
       "1     b\n",
       "0     a\n",
       "4    ac\n",
       "3    ab\n",
       "1     b\n",
       "dtype: object"
      ]
     },
     "execution_count": 21,
     "metadata": {},
     "output_type": "execute_result"
    }
   ],
   "source": [
    "serie[[0,1,2,2,3,1,0,4,3,1]]"
   ]
  },
  {
   "cell_type": "markdown",
   "id": "153f1300",
   "metadata": {},
   "source": [
    "La información sobre los índices de una serie se guardan en el atributo `index`, así que podemos acceder a ellos con:"
   ]
  },
  {
   "cell_type": "code",
   "execution_count": 22,
   "id": "a66249ef",
   "metadata": {},
   "outputs": [
    {
     "data": {
      "text/plain": [
       "RangeIndex(start=0, stop=8, step=1)"
      ]
     },
     "execution_count": 22,
     "metadata": {},
     "output_type": "execute_result"
    }
   ],
   "source": [
    "serie.index"
   ]
  },
  {
   "cell_type": "code",
   "execution_count": 23,
   "id": "3c73afcc",
   "metadata": {},
   "outputs": [
    {
     "data": {
      "text/plain": [
       "0            a\n",
       "1            b\n",
       "2            c\n",
       "3           ab\n",
       "4           ac\n",
       "5           bc\n",
       "6           cc\n",
       "7    [1, 2, 3]\n",
       "dtype: object"
      ]
     },
     "execution_count": 23,
     "metadata": {},
     "output_type": "execute_result"
    }
   ],
   "source": [
    "serie"
   ]
  },
  {
   "cell_type": "markdown",
   "id": "7b96194f",
   "metadata": {},
   "source": [
    "`Podemos incluso alterar ese atributo.`"
   ]
  },
  {
   "cell_type": "code",
   "execution_count": 28,
   "id": "d68eeecd",
   "metadata": {},
   "outputs": [],
   "source": [
    "serie.index = pd.RangeIndex(start=1, stop=16, step=2)"
   ]
  },
  {
   "cell_type": "code",
   "execution_count": 29,
   "id": "8b373f6e",
   "metadata": {},
   "outputs": [
    {
     "data": {
      "text/plain": [
       "1             a\n",
       "3             b\n",
       "5             c\n",
       "7            ab\n",
       "9            ac\n",
       "11           bc\n",
       "13           cc\n",
       "15    [1, 2, 3]\n",
       "dtype: object"
      ]
     },
     "execution_count": 29,
     "metadata": {},
     "output_type": "execute_result"
    }
   ],
   "source": [
    "serie"
   ]
  },
  {
   "cell_type": "code",
   "execution_count": 30,
   "id": "9ab9ec29",
   "metadata": {},
   "outputs": [],
   "source": [
    "serie.index = range(9,1,-1)"
   ]
  },
  {
   "cell_type": "code",
   "execution_count": 31,
   "id": "daaa423d",
   "metadata": {},
   "outputs": [
    {
     "data": {
      "text/plain": [
       "9            a\n",
       "8            b\n",
       "7            c\n",
       "6           ab\n",
       "5           ac\n",
       "4           bc\n",
       "3           cc\n",
       "2    [1, 2, 3]\n",
       "dtype: object"
      ]
     },
     "execution_count": 31,
     "metadata": {},
     "output_type": "execute_result"
    }
   ],
   "source": [
    "serie"
   ]
  },
  {
   "cell_type": "code",
   "execution_count": 33,
   "id": "3a631c0a",
   "metadata": {},
   "outputs": [],
   "source": [
    "serie.index = [1,3,6,3,8,0,10,11]"
   ]
  },
  {
   "cell_type": "code",
   "execution_count": 34,
   "id": "6e1e7163",
   "metadata": {},
   "outputs": [
    {
     "data": {
      "text/plain": [
       "1             a\n",
       "3             b\n",
       "6             c\n",
       "3            ab\n",
       "8            ac\n",
       "0            bc\n",
       "10           cc\n",
       "11    [1, 2, 3]\n",
       "dtype: object"
      ]
     },
     "execution_count": 34,
     "metadata": {},
     "output_type": "execute_result"
    }
   ],
   "source": [
    "serie"
   ]
  },
  {
   "cell_type": "code",
   "execution_count": 35,
   "id": "95533f3c",
   "metadata": {},
   "outputs": [
    {
     "data": {
      "text/plain": [
       "3     b\n",
       "3    ab\n",
       "dtype: object"
      ]
     },
     "execution_count": 35,
     "metadata": {},
     "output_type": "execute_result"
    }
   ],
   "source": [
    "serie[3]"
   ]
  },
  {
   "cell_type": "markdown",
   "id": "d175de63",
   "metadata": {},
   "source": [
    "### Labels\n",
    "\n",
    "No nos limitamos entretanto a números. 🤔\n",
    "\n",
    "A los \"indices\" no numéricos, se suelen llamar `labels`."
   ]
  },
  {
   "cell_type": "code",
   "execution_count": 37,
   "id": "1f1df23f",
   "metadata": {},
   "outputs": [],
   "source": [
    "serie.index = [\"x\",\"y\",\"z\",\"w\",\"k\",\"l\",\"p\",\"j\"]"
   ]
  },
  {
   "cell_type": "code",
   "execution_count": 38,
   "id": "e951229e",
   "metadata": {},
   "outputs": [
    {
     "data": {
      "text/plain": [
       "x            a\n",
       "y            b\n",
       "z            c\n",
       "w           ab\n",
       "k           ac\n",
       "l           bc\n",
       "p           cc\n",
       "j    [1, 2, 3]\n",
       "dtype: object"
      ]
     },
     "execution_count": 38,
     "metadata": {},
     "output_type": "execute_result"
    }
   ],
   "source": [
    "serie"
   ]
  },
  {
   "cell_type": "markdown",
   "id": "8439e4eb",
   "metadata": {},
   "source": [
    "A partir de ese momento, la serie funciona como ambos una `lista` o un `dicionário`."
   ]
  },
  {
   "cell_type": "code",
   "execution_count": 39,
   "id": "a64f4cb5",
   "metadata": {},
   "outputs": [
    {
     "data": {
      "text/plain": [
       "'a'"
      ]
     },
     "execution_count": 39,
     "metadata": {},
     "output_type": "execute_result"
    }
   ],
   "source": [
    "serie[\"x\"]"
   ]
  },
  {
   "cell_type": "code",
   "execution_count": 40,
   "id": "99f0da4a",
   "metadata": {},
   "outputs": [
    {
     "data": {
      "text/plain": [
       "'a'"
      ]
     },
     "execution_count": 40,
     "metadata": {},
     "output_type": "execute_result"
    }
   ],
   "source": [
    "serie[0]"
   ]
  },
  {
   "cell_type": "markdown",
   "id": "dc6e81df",
   "metadata": {},
   "source": [
    "Eso podría generar un problema si tuvieramos unos labels numericos que no coinciden con los indices."
   ]
  },
  {
   "cell_type": "code",
   "execution_count": 46,
   "id": "f47c2a45",
   "metadata": {},
   "outputs": [],
   "source": [
    "serie.index = [1,2,3,4,5,6,7,8]"
   ]
  },
  {
   "cell_type": "code",
   "execution_count": 49,
   "id": "7d2d4932",
   "metadata": {},
   "outputs": [
    {
     "data": {
      "text/plain": [
       "1            a\n",
       "2            b\n",
       "3            c\n",
       "4           ab\n",
       "5           ac\n",
       "6           bc\n",
       "7           cc\n",
       "8    [1, 2, 3]\n",
       "dtype: object"
      ]
     },
     "execution_count": 49,
     "metadata": {},
     "output_type": "execute_result"
    }
   ],
   "source": [
    "serie"
   ]
  },
  {
   "cell_type": "code",
   "execution_count": 51,
   "id": "20aaf812",
   "metadata": {},
   "outputs": [
    {
     "data": {
      "text/plain": [
       "'a'"
      ]
     },
     "execution_count": 51,
     "metadata": {},
     "output_type": "execute_result"
    }
   ],
   "source": [
    "serie[1]"
   ]
  },
  {
   "cell_type": "markdown",
   "id": "f2b9e611",
   "metadata": {},
   "source": [
    "### .loc and .iloc\n",
    "\n",
    "Los label siempre tendrán prioridad sobre los indices en ese tipo de operación, pero podemos especificar si estamos utilizando los labels o los index con los métodos `loc` y `iloc`, donde `iloc` se refiere al index numerico, i.e.: la posición del elemento dentro de la serie, y `loc` al index no numerico, o los labels."
   ]
  },
  {
   "cell_type": "code",
   "execution_count": 54,
   "id": "6e47a444",
   "metadata": {},
   "outputs": [
    {
     "data": {
      "text/plain": [
       "'b'"
      ]
     },
     "execution_count": 54,
     "metadata": {},
     "output_type": "execute_result"
    }
   ],
   "source": [
    "serie.loc[2]"
   ]
  },
  {
   "cell_type": "code",
   "execution_count": 55,
   "id": "e368d309",
   "metadata": {},
   "outputs": [
    {
     "data": {
      "text/plain": [
       "'b'"
      ]
     },
     "execution_count": 55,
     "metadata": {},
     "output_type": "execute_result"
    }
   ],
   "source": [
    "serie.iloc[1]"
   ]
  },
  {
   "cell_type": "markdown",
   "id": "be0dcc4f",
   "metadata": {},
   "source": [
    "### Dict to Series\n",
    "Podemos también generar una serie a partir de un dicionário."
   ]
  },
  {
   "cell_type": "code",
   "execution_count": 60,
   "id": "7d510101",
   "metadata": {},
   "outputs": [],
   "source": [
    "serie_d = pd.Series({\"primero\":1238, \"segundo\":12, \"lo que _sea\": 12391827617923})"
   ]
  },
  {
   "cell_type": "code",
   "execution_count": 61,
   "id": "5ffb2092",
   "metadata": {},
   "outputs": [
    {
     "data": {
      "text/plain": [
       "primero                  1238\n",
       "segundo                    12\n",
       "lo que _sea    12391827617923\n",
       "dtype: int64"
      ]
     },
     "execution_count": 61,
     "metadata": {},
     "output_type": "execute_result"
    }
   ],
   "source": [
    "serie_d"
   ]
  },
  {
   "cell_type": "markdown",
   "id": "4d6c954c",
   "metadata": {},
   "source": [
    "### Methods, Operations and More\n",
    "Utilizando el proprio codigo python, podemos ver que hay una multitud de métodos y atributos disponíbles para las series. Vamos a ver algunas de las operaciones más comunes con ellas."
   ]
  },
  {
   "cell_type": "code",
   "execution_count": 63,
   "id": "11b341ad",
   "metadata": {},
   "outputs": [
    {
     "name": "stdout",
     "output_type": "stream",
     "text": [
      "['T', 'abs', 'add', 'add_prefix', 'add_suffix', 'agg', 'aggregate', 'align', 'all', 'any', 'append', 'apply', 'argmax', 'argmin', 'argsort', 'array', 'asfreq', 'asof', 'astype', 'at', 'at_time', 'attrs', 'autocorr', 'axes', 'backfill', 'between', 'between_time', 'bfill', 'bool', 'clip', 'combine', 'combine_first', 'compare', 'convert_dtypes', 'copy', 'corr', 'count', 'cov', 'cummax', 'cummin', 'cumprod', 'cumsum', 'describe', 'diff', 'div', 'divide', 'divmod', 'dot', 'drop', 'drop_duplicates', 'droplevel', 'dropna', 'dtype', 'dtypes', 'duplicated', 'empty', 'eq', 'equals', 'ewm', 'expanding', 'explode', 'factorize', 'ffill', 'fillna', 'filter', 'first', 'first_valid_index', 'flags', 'floordiv', 'ge', 'get', 'groupby', 'gt', 'hasnans', 'head', 'hist', 'iat', 'idxmax', 'idxmin', 'iloc', 'index', 'infer_objects', 'interpolate', 'is_monotonic', 'is_monotonic_decreasing', 'is_monotonic_increasing', 'is_unique', 'isin', 'isna', 'isnull', 'item', 'items', 'iteritems', 'keys', 'kurt', 'kurtosis', 'last', 'last_valid_index', 'le', 'loc', 'lt', 'mad', 'map', 'mask', 'max', 'mean', 'median', 'memory_usage', 'min', 'mod', 'mode', 'mul', 'multiply', 'name', 'nbytes', 'ndim', 'ne', 'nlargest', 'notna', 'notnull', 'nsmallest', 'nunique', 'pad', 'pct_change', 'pipe', 'plot', 'pop', 'pow', 'primero', 'prod', 'product', 'quantile', 'radd', 'rank', 'ravel', 'rdiv', 'rdivmod', 'reindex', 'reindex_like', 'rename', 'rename_axis', 'reorder_levels', 'repeat', 'replace', 'resample', 'reset_index', 'rfloordiv', 'rmod', 'rmul', 'rolling', 'round', 'rpow', 'rsub', 'rtruediv', 'sample', 'searchsorted', 'segundo', 'sem', 'set_axis', 'set_flags', 'shape', 'shift', 'size', 'skew', 'slice_shift', 'sort_index', 'sort_values', 'squeeze', 'std', 'sub', 'subtract', 'sum', 'swapaxes', 'swaplevel', 'tail', 'take', 'to_clipboard', 'to_csv', 'to_dict', 'to_excel', 'to_frame', 'to_hdf', 'to_json', 'to_latex', 'to_list', 'to_markdown', 'to_numpy', 'to_period', 'to_pickle', 'to_sql', 'to_string', 'to_timestamp', 'to_xarray', 'transform', 'transpose', 'truediv', 'truncate', 'tz_convert', 'tz_localize', 'unique', 'unstack', 'update', 'value_counts', 'values', 'var', 'view', 'where', 'xs']\n"
     ]
    }
   ],
   "source": [
    "print([att for att in dir(serie_d) if not att.startswith(\"_\")])"
   ]
  },
  {
   "cell_type": "code",
   "execution_count": 64,
   "id": "76f635b2",
   "metadata": {},
   "outputs": [
    {
     "data": {
      "text/plain": [
       "[12, 1238, 12391827617923]"
      ]
     },
     "execution_count": 64,
     "metadata": {},
     "output_type": "execute_result"
    }
   ],
   "source": [
    "sorted(serie_d)"
   ]
  },
  {
   "cell_type": "code",
   "execution_count": 66,
   "id": "64e8fb7e",
   "metadata": {},
   "outputs": [
    {
     "data": {
      "text/plain": [
       "lo que _sea    12391827617923\n",
       "primero                  1238\n",
       "segundo                    12\n",
       "dtype: int64"
      ]
     },
     "execution_count": 66,
     "metadata": {},
     "output_type": "execute_result"
    }
   ],
   "source": [
    "serie_d.sort_values(ascending=False)"
   ]
  },
  {
   "cell_type": "code",
   "execution_count": 67,
   "id": "d5d40fb5",
   "metadata": {},
   "outputs": [
    {
     "data": {
      "text/plain": [
       "primero                  1238\n",
       "segundo                    12\n",
       "lo que _sea    12391827617923\n",
       "dtype: int64"
      ]
     },
     "execution_count": 67,
     "metadata": {},
     "output_type": "execute_result"
    }
   ],
   "source": [
    "serie_d"
   ]
  },
  {
   "cell_type": "code",
   "execution_count": 68,
   "id": "b944b71a",
   "metadata": {},
   "outputs": [
    {
     "data": {
      "text/plain": [
       "primero                  1238\n",
       "segundo                    12\n",
       "lo que _sea    12391827617923\n",
       "Cuarto                   Hola\n",
       "dtype: object"
      ]
     },
     "execution_count": 68,
     "metadata": {},
     "output_type": "execute_result"
    }
   ],
   "source": [
    "serie_d.append(pd.Series({\"Cuarto\":\"Hola\"}))"
   ]
  },
  {
   "cell_type": "code",
   "execution_count": 69,
   "id": "ccc6fa11",
   "metadata": {},
   "outputs": [
    {
     "data": {
      "text/plain": [
       "primero                  1238\n",
       "segundo                    12\n",
       "lo que _sea    12391827617923\n",
       "dtype: int64"
      ]
     },
     "execution_count": 69,
     "metadata": {},
     "output_type": "execute_result"
    }
   ],
   "source": [
    "serie_d"
   ]
  },
  {
   "cell_type": "code",
   "execution_count": 77,
   "id": "e2bceaff",
   "metadata": {},
   "outputs": [],
   "source": [
    "index=[\"Giant Panda\",\"Wild Bactrian Camel\", \"Mountain Gorilla\", \"Tapanuli Orangutan\", \"Sumatran Tiger\", \"Sumatran Rhino\", \"Javan Rhino\", \"Spix's Macaw\", \"Vaquita\"]\n",
    "data=[1864,1400,800,800,400,85,68,58,30]"
   ]
  },
  {
   "cell_type": "code",
   "execution_count": 78,
   "id": "98b88948",
   "metadata": {},
   "outputs": [],
   "source": [
    "animales = pd.Series(name=\"Animales\", index=index, data=data)"
   ]
  },
  {
   "cell_type": "code",
   "execution_count": 79,
   "id": "5254850a",
   "metadata": {},
   "outputs": [
    {
     "data": {
      "text/plain": [
       "Giant Panda            1864\n",
       "Wild Bactrian Camel    1400\n",
       "Mountain Gorilla        800\n",
       "Tapanuli Orangutan      800\n",
       "Sumatran Tiger          400\n",
       "Sumatran Rhino           85\n",
       "Javan Rhino              68\n",
       "Spix's Macaw             58\n",
       "Vaquita                  30\n",
       "Name: Animales, dtype: int64"
      ]
     },
     "execution_count": 79,
     "metadata": {},
     "output_type": "execute_result"
    }
   ],
   "source": [
    "animales"
   ]
  },
  {
   "cell_type": "code",
   "execution_count": 81,
   "id": "c097b506",
   "metadata": {},
   "outputs": [
    {
     "data": {
      "text/plain": [
       "Giant Panda            1864\n",
       "Wild Bactrian Camel    1400\n",
       "Mountain Gorilla        800\n",
       "Tapanuli Orangutan      800\n",
       "Sumatran Tiger          400\n",
       "Sumatran Rhino           85\n",
       "Javan Rhino              68\n",
       "Spix's Macaw             58\n",
       "Vaquita                  30\n",
       "Gato                   1002\n",
       "dtype: int64"
      ]
     },
     "execution_count": 81,
     "metadata": {},
     "output_type": "execute_result"
    }
   ],
   "source": [
    "animales.append(pd.Series({\"Gato\":1002}))"
   ]
  },
  {
   "cell_type": "code",
   "execution_count": 82,
   "id": "d82afbd5",
   "metadata": {},
   "outputs": [
    {
     "data": {
      "text/plain": [
       "Giant Panda            1864\n",
       "Wild Bactrian Camel    1400\n",
       "Mountain Gorilla        800\n",
       "Tapanuli Orangutan      800\n",
       "Sumatran Tiger          400\n",
       "Sumatran Rhino           85\n",
       "Javan Rhino              68\n",
       "Spix's Macaw             58\n",
       "Vaquita                  30\n",
       "Name: Animales, dtype: int64"
      ]
     },
     "execution_count": 82,
     "metadata": {},
     "output_type": "execute_result"
    }
   ],
   "source": [
    "animales"
   ]
  },
  {
   "cell_type": "code",
   "execution_count": 83,
   "id": "4ed50391",
   "metadata": {},
   "outputs": [],
   "source": [
    "animales = animales.append(pd.Series({\"Gato\":1002}))"
   ]
  },
  {
   "cell_type": "code",
   "execution_count": 84,
   "id": "4c4a4c47",
   "metadata": {},
   "outputs": [
    {
     "data": {
      "text/plain": [
       "Giant Panda            1864\n",
       "Wild Bactrian Camel    1400\n",
       "Mountain Gorilla        800\n",
       "Tapanuli Orangutan      800\n",
       "Sumatran Tiger          400\n",
       "Sumatran Rhino           85\n",
       "Javan Rhino              68\n",
       "Spix's Macaw             58\n",
       "Vaquita                  30\n",
       "Gato                   1002\n",
       "dtype: int64"
      ]
     },
     "execution_count": 84,
     "metadata": {},
     "output_type": "execute_result"
    }
   ],
   "source": [
    "animales"
   ]
  },
  {
   "cell_type": "code",
   "execution_count": 87,
   "id": "ed0b2103",
   "metadata": {},
   "outputs": [],
   "source": [
    "animales.sort_values(ascending=False, inplace=True)"
   ]
  },
  {
   "cell_type": "code",
   "execution_count": 88,
   "id": "ed4fdd9b",
   "metadata": {},
   "outputs": [
    {
     "data": {
      "text/plain": [
       "Giant Panda            1864\n",
       "Wild Bactrian Camel    1400\n",
       "Gato                   1002\n",
       "Mountain Gorilla        800\n",
       "Tapanuli Orangutan      800\n",
       "Sumatran Tiger          400\n",
       "Sumatran Rhino           85\n",
       "Javan Rhino              68\n",
       "Spix's Macaw             58\n",
       "Vaquita                  30\n",
       "dtype: int64"
      ]
     },
     "execution_count": 88,
     "metadata": {},
     "output_type": "execute_result"
    }
   ],
   "source": [
    "animales"
   ]
  },
  {
   "cell_type": "code",
   "execution_count": 100,
   "id": "aabbf349",
   "metadata": {},
   "outputs": [],
   "source": [
    "out = animales.sort_values(ascending=True, inplace=True)"
   ]
  },
  {
   "cell_type": "code",
   "execution_count": 101,
   "id": "d10907eb",
   "metadata": {},
   "outputs": [],
   "source": [
    "out"
   ]
  },
  {
   "cell_type": "code",
   "execution_count": 102,
   "id": "3fb1fec3",
   "metadata": {},
   "outputs": [
    {
     "data": {
      "text/plain": [
       "Vaquita                  30\n",
       "Spix's Macaw             58\n",
       "Javan Rhino              68\n",
       "Sumatran Rhino           85\n",
       "Sumatran Tiger          400\n",
       "Mountain Gorilla        800\n",
       "Tapanuli Orangutan      800\n",
       "Gato                   1002\n",
       "Wild Bactrian Camel    1400\n",
       "Giant Panda            1864\n",
       "dtype: int64"
      ]
     },
     "execution_count": 102,
     "metadata": {},
     "output_type": "execute_result"
    }
   ],
   "source": [
    "animales"
   ]
  },
  {
   "cell_type": "code",
   "execution_count": 99,
   "id": "283a2060",
   "metadata": {},
   "outputs": [
    {
     "name": "stdout",
     "output_type": "stream",
     "text": [
      "Vaquita                  30\n",
      "Spix's Macaw             58\n",
      "Javan Rhino              68\n",
      "Sumatran Rhino           85\n",
      "Sumatran Tiger          400\n",
      "Mountain Gorilla        800\n",
      "Tapanuli Orangutan      800\n",
      "Gato                   1002\n",
      "Wild Bactrian Camel    1400\n",
      "Giant Panda            1864\n",
      "dtype: int64\n"
     ]
    }
   ],
   "source": [
    "print(out)"
   ]
  },
  {
   "cell_type": "markdown",
   "id": "0ceb7e17",
   "metadata": {},
   "source": [
    "### Operations\n",
    "Si los datos son compatibles, algunas operaciones se pueden ejecutar facilmente sobre cada elemento de la serie, similar a los `numpy.array`."
   ]
  },
  {
   "cell_type": "code",
   "execution_count": 103,
   "id": "d041eade",
   "metadata": {},
   "outputs": [],
   "source": [
    "import numpy as np"
   ]
  },
  {
   "cell_type": "code",
   "execution_count": 105,
   "id": "309828ea",
   "metadata": {},
   "outputs": [
    {
     "data": {
      "text/plain": [
       "array([ 50, 100, 150, 200, 250, 300])"
      ]
     },
     "execution_count": 105,
     "metadata": {},
     "output_type": "execute_result"
    }
   ],
   "source": [
    "np.array([1,2,3,4,5,6])*50"
   ]
  },
  {
   "cell_type": "code",
   "execution_count": 107,
   "id": "7bfb68ce",
   "metadata": {},
   "outputs": [
    {
     "data": {
      "text/plain": [
       "Vaquita                 0.30\n",
       "Spix's Macaw            0.58\n",
       "Javan Rhino             0.68\n",
       "Sumatran Rhino          0.85\n",
       "Sumatran Tiger          4.00\n",
       "Mountain Gorilla        8.00\n",
       "Tapanuli Orangutan      8.00\n",
       "Gato                   10.02\n",
       "Wild Bactrian Camel    14.00\n",
       "Giant Panda            18.64\n",
       "dtype: float64"
      ]
     },
     "execution_count": 107,
     "metadata": {},
     "output_type": "execute_result"
    }
   ],
   "source": [
    "animales/100"
   ]
  },
  {
   "cell_type": "code",
   "execution_count": 108,
   "id": "9aad73f3",
   "metadata": {},
   "outputs": [
    {
     "data": {
      "text/plain": [
       "Vaquita                  30\n",
       "Spix's Macaw             58\n",
       "Javan Rhino              68\n",
       "Sumatran Rhino           85\n",
       "Sumatran Tiger          400\n",
       "Mountain Gorilla        800\n",
       "Tapanuli Orangutan      800\n",
       "Gato                   1002\n",
       "Wild Bactrian Camel    1400\n",
       "Giant Panda            1864\n",
       "dtype: int64"
      ]
     },
     "execution_count": 108,
     "metadata": {},
     "output_type": "execute_result"
    }
   ],
   "source": [
    "animales"
   ]
  },
  {
   "cell_type": "code",
   "execution_count": 109,
   "id": "a68529a3",
   "metadata": {},
   "outputs": [],
   "source": [
    "prueba = animales"
   ]
  },
  {
   "cell_type": "code",
   "execution_count": 114,
   "id": "bc4d5477",
   "metadata": {},
   "outputs": [],
   "source": [
    "prueba = prueba.append(pd.Series({\"Perro\":\"Spain\"}))"
   ]
  },
  {
   "cell_type": "code",
   "execution_count": 117,
   "id": "1bbda365",
   "metadata": {},
   "outputs": [
    {
     "data": {
      "text/plain": [
       "Vaquita                                                             3000\n",
       "Spix's Macaw                                                        5800\n",
       "Javan Rhino                                                         6800\n",
       "Sumatran Rhino                                                      8500\n",
       "Sumatran Tiger                                                     40000\n",
       "Mountain Gorilla                                                   80000\n",
       "Tapanuli Orangutan                                                 80000\n",
       "Gato                                                              100200\n",
       "Wild Bactrian Camel                                               140000\n",
       "Giant Panda                                                       186400\n",
       "Perro                  SpainSpainSpainSpainSpainSpainSpainSpainSpainS...\n",
       "dtype: object"
      ]
     },
     "execution_count": 117,
     "metadata": {},
     "output_type": "execute_result"
    }
   ],
   "source": [
    "prueba*100"
   ]
  },
  {
   "cell_type": "markdown",
   "id": "42a4e01c",
   "metadata": {},
   "source": [
    "### .apply\n",
    "\n",
    "Pero cualquier función o operación es posible de ser ejecutada de esa manera, utilizando el método `apply`, que funciona de manera similar al método `map` y ejecuta esa función para cada uno de los elementos."
   ]
  },
  {
   "cell_type": "code",
   "execution_count": 119,
   "id": "1777fd20",
   "metadata": {},
   "outputs": [
    {
     "data": {
      "text/plain": [
       "Vaquita                 0.30\n",
       "Spix's Macaw            0.58\n",
       "Javan Rhino             0.68\n",
       "Sumatran Rhino          0.85\n",
       "Sumatran Tiger          4.00\n",
       "Mountain Gorilla        8.00\n",
       "Tapanuli Orangutan      8.00\n",
       "Gato                   10.02\n",
       "Wild Bactrian Camel    14.00\n",
       "Giant Panda            18.64\n",
       "dtype: float64"
      ]
     },
     "execution_count": 119,
     "metadata": {},
     "output_type": "execute_result"
    }
   ],
   "source": [
    "animales.apply(lambda x: x/100)"
   ]
  },
  {
   "cell_type": "code",
   "execution_count": 122,
   "id": "b7c7fdfb",
   "metadata": {},
   "outputs": [],
   "source": [
    "def decoracion(data,decoracion_1=\"🔥\", decoracion_2=\"❄️\"):\n",
    "    return f\"{decoracion_1} {data} {decoracion_2}\""
   ]
  },
  {
   "cell_type": "code",
   "execution_count": 123,
   "id": "185dc90c",
   "metadata": {},
   "outputs": [
    {
     "data": {
      "text/plain": [
       "'🔥 1 ❄️'"
      ]
     },
     "execution_count": 123,
     "metadata": {},
     "output_type": "execute_result"
    }
   ],
   "source": [
    "decoracion(1, \"🔥\",\"❄️\")"
   ]
  },
  {
   "cell_type": "code",
   "execution_count": 124,
   "id": "916b9480",
   "metadata": {},
   "outputs": [
    {
     "data": {
      "text/plain": [
       "Vaquita                  🔥 30 ❄️\n",
       "Spix's Macaw             🔥 58 ❄️\n",
       "Javan Rhino              🔥 68 ❄️\n",
       "Sumatran Rhino           🔥 85 ❄️\n",
       "Sumatran Tiger          🔥 400 ❄️\n",
       "Mountain Gorilla        🔥 800 ❄️\n",
       "Tapanuli Orangutan      🔥 800 ❄️\n",
       "Gato                   🔥 1002 ❄️\n",
       "Wild Bactrian Camel    🔥 1400 ❄️\n",
       "Giant Panda            🔥 1864 ❄️\n",
       "dtype: object"
      ]
     },
     "execution_count": 124,
     "metadata": {},
     "output_type": "execute_result"
    }
   ],
   "source": [
    "animales.apply(decoracion)"
   ]
  },
  {
   "cell_type": "markdown",
   "id": "c21ddfd8",
   "metadata": {},
   "source": [
    "#### With params (kwargs)\n",
    "\n",
    "Si la función que usaremos en el `apply` requiere algun otro parámetro, no hay problema. Podemos pasar ese parámetro al apply y él se encarga de pasarlo a nuestra función."
   ]
  },
  {
   "cell_type": "code",
   "execution_count": 125,
   "id": "0fc23dae",
   "metadata": {},
   "outputs": [
    {
     "data": {
      "text/plain": [
       "Vaquita                  💉 30 ❄️\n",
       "Spix's Macaw             💉 58 ❄️\n",
       "Javan Rhino              💉 68 ❄️\n",
       "Sumatran Rhino           💉 85 ❄️\n",
       "Sumatran Tiger          💉 400 ❄️\n",
       "Mountain Gorilla        💉 800 ❄️\n",
       "Tapanuli Orangutan      💉 800 ❄️\n",
       "Gato                   💉 1002 ❄️\n",
       "Wild Bactrian Camel    💉 1400 ❄️\n",
       "Giant Panda            💉 1864 ❄️\n",
       "dtype: object"
      ]
     },
     "execution_count": 125,
     "metadata": {},
     "output_type": "execute_result"
    }
   ],
   "source": [
    "animales.apply(decoracion, decoracion_1=\"💉\")"
   ]
  },
  {
   "cell_type": "code",
   "execution_count": 126,
   "id": "4fc28982",
   "metadata": {},
   "outputs": [
    {
     "data": {
      "text/plain": [
       "Vaquita                  💉 30 ⁉️\n",
       "Spix's Macaw             💉 58 ⁉️\n",
       "Javan Rhino              💉 68 ⁉️\n",
       "Sumatran Rhino           💉 85 ⁉️\n",
       "Sumatran Tiger          💉 400 ⁉️\n",
       "Mountain Gorilla        💉 800 ⁉️\n",
       "Tapanuli Orangutan      💉 800 ⁉️\n",
       "Gato                   💉 1002 ⁉️\n",
       "Wild Bactrian Camel    💉 1400 ⁉️\n",
       "Giant Panda            💉 1864 ⁉️\n",
       "dtype: object"
      ]
     },
     "execution_count": 126,
     "metadata": {},
     "output_type": "execute_result"
    }
   ],
   "source": [
    "animales.apply(decoracion, decoracion_1=\"💉\", decoracion_2=\"⁉️\")"
   ]
  },
  {
   "cell_type": "markdown",
   "id": "834938b5",
   "metadata": {},
   "source": [
    "### Iterate Series\n",
    "\n",
    "Podemos directamente iterar por una serie como si fuera un iterable cualquier. En ese caso estaremos iterando apenas por sus valores. Hay una herramienta muy interessante para eso que es el método `.iteritems`, que nos devuelve como una tupla el `index` y el `valor` para cada elemento de la série. "
   ]
  },
  {
   "cell_type": "code",
   "execution_count": 127,
   "id": "e502a1e2",
   "metadata": {},
   "outputs": [
    {
     "name": "stdout",
     "output_type": "stream",
     "text": [
      "30\n",
      "58\n",
      "68\n",
      "85\n",
      "400\n",
      "800\n",
      "800\n",
      "1002\n",
      "1400\n",
      "1864\n"
     ]
    }
   ],
   "source": [
    "for el in animales:\n",
    "    print(el)"
   ]
  },
  {
   "cell_type": "code",
   "execution_count": 129,
   "id": "fdd4b7c1",
   "metadata": {},
   "outputs": [
    {
     "data": {
      "text/plain": [
       "[('Vaquita', 30),\n",
       " (\"Spix's Macaw\", 58),\n",
       " ('Javan Rhino', 68),\n",
       " ('Sumatran Rhino', 85),\n",
       " ('Sumatran Tiger', 400),\n",
       " ('Mountain Gorilla', 800),\n",
       " ('Tapanuli Orangutan', 800),\n",
       " ('Gato', 1002),\n",
       " ('Wild Bactrian Camel', 1400),\n",
       " ('Giant Panda', 1864)]"
      ]
     },
     "execution_count": 129,
     "metadata": {},
     "output_type": "execute_result"
    }
   ],
   "source": [
    "list(animales.iteritems())"
   ]
  },
  {
   "cell_type": "code",
   "execution_count": 130,
   "id": "eef98cfd",
   "metadata": {},
   "outputs": [
    {
     "name": "stdout",
     "output_type": "stream",
     "text": [
      "Queda 30 ejemplares de Vaquita en todo el mundo*\n",
      "Queda 58 ejemplares de Spix's Macaw en todo el mundo*\n",
      "Queda 68 ejemplares de Javan Rhino en todo el mundo*\n",
      "Queda 85 ejemplares de Sumatran Rhino en todo el mundo*\n",
      "Queda 400 ejemplares de Sumatran Tiger en todo el mundo*\n",
      "Queda 800 ejemplares de Mountain Gorilla en todo el mundo*\n",
      "Queda 800 ejemplares de Tapanuli Orangutan en todo el mundo*\n",
      "Queda 1002 ejemplares de Gato en todo el mundo*\n",
      "Queda 1400 ejemplares de Wild Bactrian Camel en todo el mundo*\n",
      "Queda 1864 ejemplares de Giant Panda en todo el mundo*\n"
     ]
    }
   ],
   "source": [
    "for indice, value in animales.iteritems():\n",
    "    print(f\"Queda {value} ejemplares de {indice} en todo el mundo*\")"
   ]
  },
  {
   "cell_type": "markdown",
   "id": "66132888",
   "metadata": {},
   "source": [
    "### Comparisons and Boolean Series\n",
    "\n",
    "Cuando utilizamos un operador de comparación `(>, <, >=, <=, ==, !=, etc.)`, el resultado que obtemos en general es un booleano, o sea `True` o `False`, pero con las series es un poco diferente. En lugar de devolvernos un único valor del tipo bool, recibimos como respuesta una serie compuesta de `True` y `False`, según el resultado de la comparación con cada elemento. Y eso es una de las mejores y más eficaces utilidades de pandas."
   ]
  },
  {
   "cell_type": "code",
   "execution_count": 131,
   "id": "ee7453e0",
   "metadata": {},
   "outputs": [
    {
     "data": {
      "text/plain": [
       "Vaquita                False\n",
       "Spix's Macaw           False\n",
       "Javan Rhino            False\n",
       "Sumatran Rhino         False\n",
       "Sumatran Tiger         False\n",
       "Mountain Gorilla        True\n",
       "Tapanuli Orangutan      True\n",
       "Gato                    True\n",
       "Wild Bactrian Camel     True\n",
       "Giant Panda             True\n",
       "dtype: bool"
      ]
     },
     "execution_count": 131,
     "metadata": {},
     "output_type": "execute_result"
    }
   ],
   "source": [
    "animales > 500"
   ]
  },
  {
   "cell_type": "code",
   "execution_count": 132,
   "id": "c3e96384",
   "metadata": {},
   "outputs": [
    {
     "data": {
      "text/plain": [
       "Mountain Gorilla        800\n",
       "Tapanuli Orangutan      800\n",
       "Gato                   1002\n",
       "Wild Bactrian Camel    1400\n",
       "Giant Panda            1864\n",
       "dtype: int64"
      ]
     },
     "execution_count": 132,
     "metadata": {},
     "output_type": "execute_result"
    }
   ],
   "source": [
    "animales[animales > 500]"
   ]
  },
  {
   "cell_type": "code",
   "execution_count": 134,
   "id": "675e14ec",
   "metadata": {},
   "outputs": [
    {
     "data": {
      "text/plain": [
       "Vaquita                  30\n",
       "Spix's Macaw             58\n",
       "Javan Rhino              68\n",
       "Sumatran Rhino           85\n",
       "Sumatran Tiger          400\n",
       "Mountain Gorilla        800\n",
       "Tapanuli Orangutan      800\n",
       "Gato                   1002\n",
       "Wild Bactrian Camel    1400\n",
       "Giant Panda            1864\n",
       "dtype: int64"
      ]
     },
     "execution_count": 134,
     "metadata": {},
     "output_type": "execute_result"
    }
   ],
   "source": [
    "animales"
   ]
  },
  {
   "cell_type": "code",
   "execution_count": 133,
   "id": "abb41fdd",
   "metadata": {},
   "outputs": [
    {
     "data": {
      "text/plain": [
       "Vaquita               30\n",
       "Sumatran Rhino        85\n",
       "Sumatran Tiger       400\n",
       "Mountain Gorilla     800\n",
       "Giant Panda         1864\n",
       "dtype: int64"
      ]
     },
     "execution_count": 133,
     "metadata": {},
     "output_type": "execute_result"
    }
   ],
   "source": [
    "animales[[True, False, False, True, True, True, False, False, False, True]]"
   ]
  },
  {
   "cell_type": "markdown",
   "id": "921bcca5",
   "metadata": {},
   "source": [
    "### Filtering\n",
    "\n",
    "Una serie de booleanos como la que vemos arriba puede ser utilizada como un selector para las series (en el `loc`), efectivamente filtrando la seria segun cualquier condición que queramos."
   ]
  },
  {
   "cell_type": "code",
   "execution_count": 135,
   "id": "ed5e4ba7",
   "metadata": {},
   "outputs": [
    {
     "data": {
      "text/plain": [
       "Mountain Gorilla        800\n",
       "Tapanuli Orangutan      800\n",
       "Gato                   1002\n",
       "Wild Bactrian Camel    1400\n",
       "Giant Panda            1864\n",
       "dtype: int64"
      ]
     },
     "execution_count": 135,
     "metadata": {},
     "output_type": "execute_result"
    }
   ],
   "source": [
    "animales[animales >500]"
   ]
  },
  {
   "cell_type": "code",
   "execution_count": 136,
   "id": "ea99190d",
   "metadata": {},
   "outputs": [
    {
     "data": {
      "text/plain": [
       "Gato    1002\n",
       "dtype: int64"
      ]
     },
     "execution_count": 136,
     "metadata": {},
     "output_type": "execute_result"
    }
   ],
   "source": [
    "animales[animales==1002]"
   ]
  },
  {
   "cell_type": "code",
   "execution_count": 137,
   "id": "f0ddb426",
   "metadata": {},
   "outputs": [
    {
     "data": {
      "text/plain": [
       "Gato    1002\n",
       "dtype: int64"
      ]
     },
     "execution_count": 137,
     "metadata": {},
     "output_type": "execute_result"
    }
   ],
   "source": [
    "animales[animales.index == \"Gato\"]"
   ]
  },
  {
   "cell_type": "markdown",
   "id": "04e16d3d",
   "metadata": {},
   "source": [
    "### .str\n",
    "\n",
    "El atributo `.str` nos permite llamar a métodos de los strings para los elementos de las series. En el caso abajo, lo llamamos sobre el `index`, que también es un tipo de serie. 😉"
   ]
  },
  {
   "cell_type": "code",
   "execution_count": 141,
   "id": "b9bb1d90",
   "metadata": {},
   "outputs": [
    {
     "data": {
      "text/plain": [
       "'11'"
      ]
     },
     "execution_count": 141,
     "metadata": {},
     "output_type": "execute_result"
    }
   ],
   "source": [
    "str(11)"
   ]
  },
  {
   "cell_type": "code",
   "execution_count": 150,
   "id": "b2f072eb",
   "metadata": {},
   "outputs": [
    {
     "data": {
      "text/plain": [
       "Index(['VAQUITA', 'SPIX'S MACAW', 'JAVAN RHINO', 'SUMATRAN RHINO',\n",
       "       'SUMATRAN TIGER', 'MOUNTAIN GORILLA', 'TAPANULI ORANGUTAN', 'GATO',\n",
       "       'WILD BACTRIAN CAMEL', 'GIANT PANDA'],\n",
       "      dtype='object')"
      ]
     },
     "execution_count": 150,
     "metadata": {},
     "output_type": "execute_result"
    }
   ],
   "source": [
    "animales.index.str.upper()"
   ]
  },
  {
   "cell_type": "code",
   "execution_count": 153,
   "id": "dd20bd1a",
   "metadata": {},
   "outputs": [
    {
     "data": {
      "text/plain": [
       "Vaquita                  30\n",
       "Spix's Macaw             58\n",
       "Javan Rhino              68\n",
       "Sumatran Rhino           85\n",
       "Sumatran Tiger          400\n",
       "Mountain Gorilla        800\n",
       "Tapanuli Orangutan      800\n",
       "Gato                   1002\n",
       "Wild Bactrian Camel    1400\n",
       "Giant Panda            1864\n",
       "dtype: int64"
      ]
     },
     "execution_count": 153,
     "metadata": {},
     "output_type": "execute_result"
    }
   ],
   "source": [
    "animales"
   ]
  },
  {
   "cell_type": "code",
   "execution_count": 152,
   "id": "ab67f9ff",
   "metadata": {},
   "outputs": [
    {
     "ename": "AttributeError",
     "evalue": "Can only use .str accessor with string values!",
     "output_type": "error",
     "traceback": [
      "\u001b[0;31m---------------------------------------------------------------------------\u001b[0m",
      "\u001b[0;31mAttributeError\u001b[0m                            Traceback (most recent call last)",
      "\u001b[0;32m/var/folders/gd/w3m3w_td6cldhkn58qwx7mtm0000gn/T/ipykernel_4442/511551956.py\u001b[0m in \u001b[0;36m<module>\u001b[0;34m\u001b[0m\n\u001b[0;32m----> 1\u001b[0;31m \u001b[0manimales\u001b[0m\u001b[0;34m.\u001b[0m\u001b[0mstr\u001b[0m\u001b[0;34m\u001b[0m\u001b[0;34m\u001b[0m\u001b[0m\n\u001b[0m",
      "\u001b[0;32m~/miniconda3/envs/core/lib/python3.9/site-packages/pandas/core/generic.py\u001b[0m in \u001b[0;36m__getattr__\u001b[0;34m(self, name)\u001b[0m\n\u001b[1;32m   5485\u001b[0m         ):\n\u001b[1;32m   5486\u001b[0m             \u001b[0;32mreturn\u001b[0m \u001b[0mself\u001b[0m\u001b[0;34m[\u001b[0m\u001b[0mname\u001b[0m\u001b[0;34m]\u001b[0m\u001b[0;34m\u001b[0m\u001b[0;34m\u001b[0m\u001b[0m\n\u001b[0;32m-> 5487\u001b[0;31m         \u001b[0;32mreturn\u001b[0m \u001b[0mobject\u001b[0m\u001b[0;34m.\u001b[0m\u001b[0m__getattribute__\u001b[0m\u001b[0;34m(\u001b[0m\u001b[0mself\u001b[0m\u001b[0;34m,\u001b[0m \u001b[0mname\u001b[0m\u001b[0;34m)\u001b[0m\u001b[0;34m\u001b[0m\u001b[0;34m\u001b[0m\u001b[0m\n\u001b[0m\u001b[1;32m   5488\u001b[0m \u001b[0;34m\u001b[0m\u001b[0m\n\u001b[1;32m   5489\u001b[0m     \u001b[0;32mdef\u001b[0m \u001b[0m__setattr__\u001b[0m\u001b[0;34m(\u001b[0m\u001b[0mself\u001b[0m\u001b[0;34m,\u001b[0m \u001b[0mname\u001b[0m\u001b[0;34m:\u001b[0m \u001b[0mstr\u001b[0m\u001b[0;34m,\u001b[0m \u001b[0mvalue\u001b[0m\u001b[0;34m)\u001b[0m \u001b[0;34m->\u001b[0m \u001b[0;32mNone\u001b[0m\u001b[0;34m:\u001b[0m\u001b[0;34m\u001b[0m\u001b[0;34m\u001b[0m\u001b[0m\n",
      "\u001b[0;32m~/miniconda3/envs/core/lib/python3.9/site-packages/pandas/core/accessor.py\u001b[0m in \u001b[0;36m__get__\u001b[0;34m(self, obj, cls)\u001b[0m\n\u001b[1;32m    179\u001b[0m             \u001b[0;31m# we're accessing the attribute of the class, i.e., Dataset.geo\u001b[0m\u001b[0;34m\u001b[0m\u001b[0;34m\u001b[0m\u001b[0m\n\u001b[1;32m    180\u001b[0m             \u001b[0;32mreturn\u001b[0m \u001b[0mself\u001b[0m\u001b[0;34m.\u001b[0m\u001b[0m_accessor\u001b[0m\u001b[0;34m\u001b[0m\u001b[0;34m\u001b[0m\u001b[0m\n\u001b[0;32m--> 181\u001b[0;31m         \u001b[0maccessor_obj\u001b[0m \u001b[0;34m=\u001b[0m \u001b[0mself\u001b[0m\u001b[0;34m.\u001b[0m\u001b[0m_accessor\u001b[0m\u001b[0;34m(\u001b[0m\u001b[0mobj\u001b[0m\u001b[0;34m)\u001b[0m\u001b[0;34m\u001b[0m\u001b[0;34m\u001b[0m\u001b[0m\n\u001b[0m\u001b[1;32m    182\u001b[0m         \u001b[0;31m# Replace the property with the accessor object. Inspired by:\u001b[0m\u001b[0;34m\u001b[0m\u001b[0;34m\u001b[0m\u001b[0m\n\u001b[1;32m    183\u001b[0m         \u001b[0;31m# https://www.pydanny.com/cached-property.html\u001b[0m\u001b[0;34m\u001b[0m\u001b[0;34m\u001b[0m\u001b[0m\n",
      "\u001b[0;32m~/miniconda3/envs/core/lib/python3.9/site-packages/pandas/core/strings/accessor.py\u001b[0m in \u001b[0;36m__init__\u001b[0;34m(self, data)\u001b[0m\n\u001b[1;32m    166\u001b[0m         \u001b[0;32mfrom\u001b[0m \u001b[0mpandas\u001b[0m\u001b[0;34m.\u001b[0m\u001b[0mcore\u001b[0m\u001b[0;34m.\u001b[0m\u001b[0marrays\u001b[0m\u001b[0;34m.\u001b[0m\u001b[0mstring_\u001b[0m \u001b[0;32mimport\u001b[0m \u001b[0mStringDtype\u001b[0m\u001b[0;34m\u001b[0m\u001b[0;34m\u001b[0m\u001b[0m\n\u001b[1;32m    167\u001b[0m \u001b[0;34m\u001b[0m\u001b[0m\n\u001b[0;32m--> 168\u001b[0;31m         \u001b[0mself\u001b[0m\u001b[0;34m.\u001b[0m\u001b[0m_inferred_dtype\u001b[0m \u001b[0;34m=\u001b[0m \u001b[0mself\u001b[0m\u001b[0;34m.\u001b[0m\u001b[0m_validate\u001b[0m\u001b[0;34m(\u001b[0m\u001b[0mdata\u001b[0m\u001b[0;34m)\u001b[0m\u001b[0;34m\u001b[0m\u001b[0;34m\u001b[0m\u001b[0m\n\u001b[0m\u001b[1;32m    169\u001b[0m         \u001b[0mself\u001b[0m\u001b[0;34m.\u001b[0m\u001b[0m_is_categorical\u001b[0m \u001b[0;34m=\u001b[0m \u001b[0mis_categorical_dtype\u001b[0m\u001b[0;34m(\u001b[0m\u001b[0mdata\u001b[0m\u001b[0;34m.\u001b[0m\u001b[0mdtype\u001b[0m\u001b[0;34m)\u001b[0m\u001b[0;34m\u001b[0m\u001b[0;34m\u001b[0m\u001b[0m\n\u001b[1;32m    170\u001b[0m         \u001b[0mself\u001b[0m\u001b[0;34m.\u001b[0m\u001b[0m_is_string\u001b[0m \u001b[0;34m=\u001b[0m \u001b[0misinstance\u001b[0m\u001b[0;34m(\u001b[0m\u001b[0mdata\u001b[0m\u001b[0;34m.\u001b[0m\u001b[0mdtype\u001b[0m\u001b[0;34m,\u001b[0m \u001b[0mStringDtype\u001b[0m\u001b[0;34m)\u001b[0m\u001b[0;34m\u001b[0m\u001b[0;34m\u001b[0m\u001b[0m\n",
      "\u001b[0;32m~/miniconda3/envs/core/lib/python3.9/site-packages/pandas/core/strings/accessor.py\u001b[0m in \u001b[0;36m_validate\u001b[0;34m(data)\u001b[0m\n\u001b[1;32m    223\u001b[0m \u001b[0;34m\u001b[0m\u001b[0m\n\u001b[1;32m    224\u001b[0m         \u001b[0;32mif\u001b[0m \u001b[0minferred_dtype\u001b[0m \u001b[0;32mnot\u001b[0m \u001b[0;32min\u001b[0m \u001b[0mallowed_types\u001b[0m\u001b[0;34m:\u001b[0m\u001b[0;34m\u001b[0m\u001b[0;34m\u001b[0m\u001b[0m\n\u001b[0;32m--> 225\u001b[0;31m             \u001b[0;32mraise\u001b[0m \u001b[0mAttributeError\u001b[0m\u001b[0;34m(\u001b[0m\u001b[0;34m\"Can only use .str accessor with string values!\"\u001b[0m\u001b[0;34m)\u001b[0m\u001b[0;34m\u001b[0m\u001b[0;34m\u001b[0m\u001b[0m\n\u001b[0m\u001b[1;32m    226\u001b[0m         \u001b[0;32mreturn\u001b[0m \u001b[0minferred_dtype\u001b[0m\u001b[0;34m\u001b[0m\u001b[0;34m\u001b[0m\u001b[0m\n\u001b[1;32m    227\u001b[0m \u001b[0;34m\u001b[0m\u001b[0m\n",
      "\u001b[0;31mAttributeError\u001b[0m: Can only use .str accessor with string values!"
     ]
    }
   ],
   "source": [
    "animales.str"
   ]
  },
  {
   "cell_type": "markdown",
   "id": "be93fe31",
   "metadata": {},
   "source": [
    "Si queremos encadenar métodos de los strings, debemos llamar a `str` todas las veces, pues cualquier método nos devolverá una serie tal cual"
   ]
  },
  {
   "cell_type": "code",
   "execution_count": 157,
   "id": "fd71cd6d",
   "metadata": {},
   "outputs": [
    {
     "data": {
      "text/plain": [
       "Index(['VAQUITA', 'SPIX'S MACAW', 'JAVAN RHINO', 'SUMATRAN RHINO',\n",
       "       'SUMATRAN TIg*ER', 'MOUNTAIN g*ORILLA', 'TAPANULI ORANg*UTAN', 'g*ATO',\n",
       "       'WILD BACTRIAN CAMEL', 'g*IANT PANDA'],\n",
       "      dtype='object')"
      ]
     },
     "execution_count": 157,
     "metadata": {},
     "output_type": "execute_result"
    }
   ],
   "source": [
    "animales.index.str.upper().str.replace(\"G\",\"g*\")"
   ]
  },
  {
   "cell_type": "markdown",
   "id": "a9462b85",
   "metadata": {},
   "source": [
    "### Filtering with a different Series\n",
    "\n",
    "Una cosa super guay es que podemos utilizar otra serie para filtrar la que queremos, desde que haya una coerencia entre los index:\n",
    "- Todos los index de la serie \"filtrada\" deben estar contenidos en la serie \"booleana\"\n",
    "- La serie \"booleana\" puede contener más indexes que la serie \"filtrada\""
   ]
  },
  {
   "cell_type": "code",
   "execution_count": 158,
   "id": "21dca1e9",
   "metadata": {},
   "outputs": [],
   "source": [
    "index=[\"Giant Panda\",\"Wild Bactrian Camel\", \"Mountain Gorilla\", \"Tapanuli Orangutan\", \"Sumatran Tiger\", \"Sumatran Rhino\", \"Javan Rhino\", \"Spix's Macaw\", \"Vaquita\", \"Alagoas Curassow\"]\n",
    "data=[\"Asia\", \"Asia\", \"Africa\", \"Asia\", \"Asia\", \"Asia\", \"Asia\", \"America\", \"America\", \"America\"]"
   ]
  },
  {
   "cell_type": "code",
   "execution_count": 159,
   "id": "e1491891",
   "metadata": {},
   "outputs": [],
   "source": [
    "habitat = pd.Series(name=\"Habitat\", data = data, index=index)"
   ]
  },
  {
   "cell_type": "code",
   "execution_count": 166,
   "id": "1a52eca9",
   "metadata": {},
   "outputs": [
    {
     "data": {
      "text/plain": [
       "Index(['Alagoas Curassow', 'Giant Panda', 'Javan Rhino', 'Mountain Gorilla',\n",
       "       'Spix's Macaw', 'Sumatran Rhino', 'Sumatran Tiger',\n",
       "       'Tapanuli Orangutan', 'Vaquita', 'Wild Bactrian Camel'],\n",
       "      dtype='object')"
      ]
     },
     "execution_count": 166,
     "metadata": {},
     "output_type": "execute_result"
    }
   ],
   "source": [
    "habitat.sort_index().index"
   ]
  },
  {
   "cell_type": "code",
   "execution_count": 167,
   "id": "fd9fce88",
   "metadata": {},
   "outputs": [
    {
     "data": {
      "text/plain": [
       "Index(['Gato', 'Giant Panda', 'Javan Rhino', 'Mountain Gorilla',\n",
       "       'Spix's Macaw', 'Sumatran Rhino', 'Sumatran Tiger',\n",
       "       'Tapanuli Orangutan', 'Vaquita', 'Wild Bactrian Camel'],\n",
       "      dtype='object')"
      ]
     },
     "execution_count": 167,
     "metadata": {},
     "output_type": "execute_result"
    }
   ],
   "source": [
    "animales.sort_index().index"
   ]
  },
  {
   "cell_type": "code",
   "execution_count": 168,
   "id": "3228c937",
   "metadata": {},
   "outputs": [],
   "source": [
    "animales = animales.append(pd.Series({\"Alagoas Curassow\":1028}))"
   ]
  },
  {
   "cell_type": "code",
   "execution_count": 169,
   "id": "e040f70f",
   "metadata": {},
   "outputs": [
    {
     "data": {
      "text/plain": [
       "Index(['Alagoas Curassow', 'Gato', 'Giant Panda', 'Javan Rhino',\n",
       "       'Mountain Gorilla', 'Spix's Macaw', 'Sumatran Rhino', 'Sumatran Tiger',\n",
       "       'Tapanuli Orangutan', 'Vaquita', 'Wild Bactrian Camel'],\n",
       "      dtype='object')"
      ]
     },
     "execution_count": 169,
     "metadata": {},
     "output_type": "execute_result"
    }
   ],
   "source": [
    "animales.sort_index().index"
   ]
  },
  {
   "cell_type": "code",
   "execution_count": 171,
   "id": "c048d063",
   "metadata": {},
   "outputs": [
    {
     "data": {
      "text/plain": [
       "Vaquita                False\n",
       "Spix's Macaw           False\n",
       "Javan Rhino            False\n",
       "Sumatran Rhino         False\n",
       "Sumatran Tiger         False\n",
       "Mountain Gorilla        True\n",
       "Tapanuli Orangutan      True\n",
       "Gato                    True\n",
       "Wild Bactrian Camel     True\n",
       "Giant Panda             True\n",
       "Alagoas Curassow        True\n",
       "dtype: bool"
      ]
     },
     "execution_count": 171,
     "metadata": {},
     "output_type": "execute_result"
    }
   ],
   "source": [
    "animales>500"
   ]
  },
  {
   "cell_type": "code",
   "execution_count": 170,
   "id": "1c3bc894",
   "metadata": {},
   "outputs": [
    {
     "data": {
      "text/plain": [
       "Giant Panda               Asia\n",
       "Wild Bactrian Camel       Asia\n",
       "Mountain Gorilla        Africa\n",
       "Tapanuli Orangutan        Asia\n",
       "Alagoas Curassow       America\n",
       "Name: Habitat, dtype: object"
      ]
     },
     "execution_count": 170,
     "metadata": {},
     "output_type": "execute_result"
    }
   ],
   "source": [
    "habitat[animales>500]"
   ]
  },
  {
   "cell_type": "markdown",
   "id": "4d427e06",
   "metadata": {},
   "source": [
    "### Multiple conditions\n",
    "\n",
    "En el caso de querer utilizar multiples condicionales, no podemos operar con ellos utilizando `and`, `or` o `not`, pues esos 3 operadores consideran la serie como un todo y no elemento a elemento.\n",
    "\n",
    "Hay operadores especiales para esos casos, los llamados `bitwise operators` que consideran los elementos uno a uno.\n",
    "\n",
    "- and : `&`\n",
    "- or  : `|`\n",
    "- not : `~`"
   ]
  },
  {
   "cell_type": "code",
   "execution_count": 172,
   "id": "c86add6f",
   "metadata": {},
   "outputs": [
    {
     "data": {
      "text/plain": [
       "Vaquita                False\n",
       "Spix's Macaw           False\n",
       "Javan Rhino            False\n",
       "Sumatran Rhino         False\n",
       "Sumatran Tiger         False\n",
       "Mountain Gorilla        True\n",
       "Tapanuli Orangutan      True\n",
       "Gato                    True\n",
       "Wild Bactrian Camel     True\n",
       "Giant Panda             True\n",
       "Alagoas Curassow        True\n",
       "dtype: bool"
      ]
     },
     "execution_count": 172,
     "metadata": {},
     "output_type": "execute_result"
    }
   ],
   "source": [
    "animales > 500"
   ]
  },
  {
   "cell_type": "code",
   "execution_count": 173,
   "id": "3bba4779",
   "metadata": {},
   "outputs": [
    {
     "data": {
      "text/plain": [
       "Vaquita                 True\n",
       "Spix's Macaw            True\n",
       "Javan Rhino             True\n",
       "Sumatran Rhino          True\n",
       "Sumatran Tiger          True\n",
       "Mountain Gorilla        True\n",
       "Tapanuli Orangutan      True\n",
       "Gato                   False\n",
       "Wild Bactrian Camel    False\n",
       "Giant Panda            False\n",
       "Alagoas Curassow       False\n",
       "dtype: bool"
      ]
     },
     "execution_count": 173,
     "metadata": {},
     "output_type": "execute_result"
    }
   ],
   "source": [
    "animales < 1000"
   ]
  },
  {
   "cell_type": "code",
   "execution_count": 178,
   "id": "41b77663",
   "metadata": {},
   "outputs": [
    {
     "ename": "ValueError",
     "evalue": "The truth value of a Series is ambiguous. Use a.empty, a.bool(), a.item(), a.any() or a.all().",
     "output_type": "error",
     "traceback": [
      "\u001b[0;31m---------------------------------------------------------------------------\u001b[0m",
      "\u001b[0;31mValueError\u001b[0m                                Traceback (most recent call last)",
      "\u001b[0;32m/var/folders/gd/w3m3w_td6cldhkn58qwx7mtm0000gn/T/ipykernel_4442/4146659623.py\u001b[0m in \u001b[0;36m<module>\u001b[0;34m\u001b[0m\n\u001b[0;32m----> 1\u001b[0;31m \u001b[0;34m(\u001b[0m\u001b[0manimales\u001b[0m \u001b[0;34m>\u001b[0m \u001b[0;36m500\u001b[0m\u001b[0;34m)\u001b[0m \u001b[0;32mand\u001b[0m \u001b[0;34m(\u001b[0m\u001b[0manimales\u001b[0m \u001b[0;34m<\u001b[0m \u001b[0;36m1000\u001b[0m\u001b[0;34m)\u001b[0m\u001b[0;34m\u001b[0m\u001b[0;34m\u001b[0m\u001b[0m\n\u001b[0m",
      "\u001b[0;32m~/miniconda3/envs/core/lib/python3.9/site-packages/pandas/core/generic.py\u001b[0m in \u001b[0;36m__nonzero__\u001b[0;34m(self)\u001b[0m\n\u001b[1;32m   1535\u001b[0m     \u001b[0;34m@\u001b[0m\u001b[0mfinal\u001b[0m\u001b[0;34m\u001b[0m\u001b[0;34m\u001b[0m\u001b[0m\n\u001b[1;32m   1536\u001b[0m     \u001b[0;32mdef\u001b[0m \u001b[0m__nonzero__\u001b[0m\u001b[0;34m(\u001b[0m\u001b[0mself\u001b[0m\u001b[0;34m)\u001b[0m\u001b[0;34m:\u001b[0m\u001b[0;34m\u001b[0m\u001b[0;34m\u001b[0m\u001b[0m\n\u001b[0;32m-> 1537\u001b[0;31m         raise ValueError(\n\u001b[0m\u001b[1;32m   1538\u001b[0m             \u001b[0;34mf\"The truth value of a {type(self).__name__} is ambiguous. \"\u001b[0m\u001b[0;34m\u001b[0m\u001b[0;34m\u001b[0m\u001b[0m\n\u001b[1;32m   1539\u001b[0m             \u001b[0;34m\"Use a.empty, a.bool(), a.item(), a.any() or a.all().\"\u001b[0m\u001b[0;34m\u001b[0m\u001b[0;34m\u001b[0m\u001b[0m\n",
      "\u001b[0;31mValueError\u001b[0m: The truth value of a Series is ambiguous. Use a.empty, a.bool(), a.item(), a.any() or a.all()."
     ]
    }
   ],
   "source": [
    "(animales > 500) and (animales < 1000)"
   ]
  },
  {
   "cell_type": "code",
   "execution_count": 177,
   "id": "e2facf9e",
   "metadata": {},
   "outputs": [
    {
     "data": {
      "text/plain": [
       "Vaquita                  30\n",
       "Spix's Macaw             58\n",
       "Javan Rhino              68\n",
       "Sumatran Rhino           85\n",
       "Sumatran Tiger          400\n",
       "Mountain Gorilla        800\n",
       "Tapanuli Orangutan      800\n",
       "Gato                   1002\n",
       "Wild Bactrian Camel    1400\n",
       "Giant Panda            1864\n",
       "Alagoas Curassow       1028\n",
       "dtype: int64"
      ]
     },
     "execution_count": 177,
     "metadata": {},
     "output_type": "execute_result"
    }
   ],
   "source": [
    "animales"
   ]
  },
  {
   "cell_type": "code",
   "execution_count": 180,
   "id": "7ee7e91d",
   "metadata": {},
   "outputs": [
    {
     "data": {
      "text/plain": [
       "Mountain Gorilla      800\n",
       "Tapanuli Orangutan    800\n",
       "dtype: int64"
      ]
     },
     "execution_count": 180,
     "metadata": {},
     "output_type": "execute_result"
    }
   ],
   "source": [
    "animales[(animales > 500) & (animales < 1000)]"
   ]
  },
  {
   "cell_type": "code",
   "execution_count": 181,
   "id": "62a9d0c3",
   "metadata": {},
   "outputs": [
    {
     "data": {
      "text/plain": [
       "Vaquita                  30\n",
       "Spix's Macaw             58\n",
       "Javan Rhino              68\n",
       "Sumatran Rhino           85\n",
       "Sumatran Tiger          400\n",
       "Mountain Gorilla        800\n",
       "Tapanuli Orangutan      800\n",
       "Gato                   1002\n",
       "Wild Bactrian Camel    1400\n",
       "Giant Panda            1864\n",
       "Alagoas Curassow       1028\n",
       "dtype: int64"
      ]
     },
     "execution_count": 181,
     "metadata": {},
     "output_type": "execute_result"
    }
   ],
   "source": [
    "animales[(animales > 500) | (animales < 1000)]"
   ]
  },
  {
   "cell_type": "code",
   "execution_count": 184,
   "id": "b7800a4a",
   "metadata": {},
   "outputs": [
    {
     "data": {
      "text/plain": [
       "Vaquita            30\n",
       "Spix's Macaw       58\n",
       "Javan Rhino        68\n",
       "Sumatran Rhino     85\n",
       "Sumatran Tiger    400\n",
       "dtype: int64"
      ]
     },
     "execution_count": 184,
     "metadata": {},
     "output_type": "execute_result"
    }
   ],
   "source": [
    "animales[~(animales>=500)]"
   ]
  },
  {
   "cell_type": "markdown",
   "id": "525d90d9",
   "metadata": {},
   "source": [
    "## 2 DataFrame\n",
    "Una vez vistas las Series, los DataFrames son exactamente lo mismo, pero con una dimensión más, o sea, una matriz. Cada fila y cada columna de un DataFrame es una Serie, por lo tanto las operaciones que podemos realizar siguen la misma sintáxis."
   ]
  },
  {
   "cell_type": "code",
   "execution_count": 185,
   "id": "a56aec22",
   "metadata": {},
   "outputs": [],
   "source": [
    "df = pd.DataFrame({\"Poblacion\":animales, \"Habitat\":habitat})"
   ]
  },
  {
   "cell_type": "code",
   "execution_count": 186,
   "id": "3b52e220",
   "metadata": {},
   "outputs": [
    {
     "name": "stdout",
     "output_type": "stream",
     "text": [
      "                     Poblacion  Habitat\n",
      "Alagoas Curassow          1028  America\n",
      "Gato                      1002      NaN\n",
      "Giant Panda               1864     Asia\n",
      "Javan Rhino                 68     Asia\n",
      "Mountain Gorilla           800   Africa\n",
      "Spix's Macaw                58  America\n",
      "Sumatran Rhino              85     Asia\n",
      "Sumatran Tiger             400     Asia\n",
      "Tapanuli Orangutan         800     Asia\n",
      "Vaquita                     30  America\n",
      "Wild Bactrian Camel       1400     Asia\n"
     ]
    }
   ],
   "source": [
    "print(df)"
   ]
  },
  {
   "cell_type": "code",
   "execution_count": 187,
   "id": "edfebaea",
   "metadata": {},
   "outputs": [
    {
     "data": {
      "text/html": [
       "<div>\n",
       "<style scoped>\n",
       "    .dataframe tbody tr th:only-of-type {\n",
       "        vertical-align: middle;\n",
       "    }\n",
       "\n",
       "    .dataframe tbody tr th {\n",
       "        vertical-align: top;\n",
       "    }\n",
       "\n",
       "    .dataframe thead th {\n",
       "        text-align: right;\n",
       "    }\n",
       "</style>\n",
       "<table border=\"1\" class=\"dataframe\">\n",
       "  <thead>\n",
       "    <tr style=\"text-align: right;\">\n",
       "      <th></th>\n",
       "      <th>Poblacion</th>\n",
       "      <th>Habitat</th>\n",
       "    </tr>\n",
       "  </thead>\n",
       "  <tbody>\n",
       "    <tr>\n",
       "      <th>Alagoas Curassow</th>\n",
       "      <td>1028</td>\n",
       "      <td>America</td>\n",
       "    </tr>\n",
       "    <tr>\n",
       "      <th>Gato</th>\n",
       "      <td>1002</td>\n",
       "      <td>NaN</td>\n",
       "    </tr>\n",
       "    <tr>\n",
       "      <th>Giant Panda</th>\n",
       "      <td>1864</td>\n",
       "      <td>Asia</td>\n",
       "    </tr>\n",
       "    <tr>\n",
       "      <th>Javan Rhino</th>\n",
       "      <td>68</td>\n",
       "      <td>Asia</td>\n",
       "    </tr>\n",
       "    <tr>\n",
       "      <th>Mountain Gorilla</th>\n",
       "      <td>800</td>\n",
       "      <td>Africa</td>\n",
       "    </tr>\n",
       "    <tr>\n",
       "      <th>Spix's Macaw</th>\n",
       "      <td>58</td>\n",
       "      <td>America</td>\n",
       "    </tr>\n",
       "    <tr>\n",
       "      <th>Sumatran Rhino</th>\n",
       "      <td>85</td>\n",
       "      <td>Asia</td>\n",
       "    </tr>\n",
       "    <tr>\n",
       "      <th>Sumatran Tiger</th>\n",
       "      <td>400</td>\n",
       "      <td>Asia</td>\n",
       "    </tr>\n",
       "    <tr>\n",
       "      <th>Tapanuli Orangutan</th>\n",
       "      <td>800</td>\n",
       "      <td>Asia</td>\n",
       "    </tr>\n",
       "    <tr>\n",
       "      <th>Vaquita</th>\n",
       "      <td>30</td>\n",
       "      <td>America</td>\n",
       "    </tr>\n",
       "    <tr>\n",
       "      <th>Wild Bactrian Camel</th>\n",
       "      <td>1400</td>\n",
       "      <td>Asia</td>\n",
       "    </tr>\n",
       "  </tbody>\n",
       "</table>\n",
       "</div>"
      ],
      "text/plain": [
       "                     Poblacion  Habitat\n",
       "Alagoas Curassow          1028  America\n",
       "Gato                      1002      NaN\n",
       "Giant Panda               1864     Asia\n",
       "Javan Rhino                 68     Asia\n",
       "Mountain Gorilla           800   Africa\n",
       "Spix's Macaw                58  America\n",
       "Sumatran Rhino              85     Asia\n",
       "Sumatran Tiger             400     Asia\n",
       "Tapanuli Orangutan         800     Asia\n",
       "Vaquita                     30  America\n",
       "Wild Bactrian Camel       1400     Asia"
      ]
     },
     "metadata": {},
     "output_type": "display_data"
    }
   ],
   "source": [
    "display(df)"
   ]
  },
  {
   "cell_type": "code",
   "execution_count": 188,
   "id": "8afc07ce",
   "metadata": {},
   "outputs": [
    {
     "data": {
      "text/html": [
       "<div>\n",
       "<style scoped>\n",
       "    .dataframe tbody tr th:only-of-type {\n",
       "        vertical-align: middle;\n",
       "    }\n",
       "\n",
       "    .dataframe tbody tr th {\n",
       "        vertical-align: top;\n",
       "    }\n",
       "\n",
       "    .dataframe thead th {\n",
       "        text-align: right;\n",
       "    }\n",
       "</style>\n",
       "<table border=\"1\" class=\"dataframe\">\n",
       "  <thead>\n",
       "    <tr style=\"text-align: right;\">\n",
       "      <th></th>\n",
       "      <th>Poblacion</th>\n",
       "      <th>Habitat</th>\n",
       "    </tr>\n",
       "  </thead>\n",
       "  <tbody>\n",
       "    <tr>\n",
       "      <th>Alagoas Curassow</th>\n",
       "      <td>1028</td>\n",
       "      <td>America</td>\n",
       "    </tr>\n",
       "    <tr>\n",
       "      <th>Gato</th>\n",
       "      <td>1002</td>\n",
       "      <td>NaN</td>\n",
       "    </tr>\n",
       "    <tr>\n",
       "      <th>Giant Panda</th>\n",
       "      <td>1864</td>\n",
       "      <td>Asia</td>\n",
       "    </tr>\n",
       "    <tr>\n",
       "      <th>Javan Rhino</th>\n",
       "      <td>68</td>\n",
       "      <td>Asia</td>\n",
       "    </tr>\n",
       "    <tr>\n",
       "      <th>Mountain Gorilla</th>\n",
       "      <td>800</td>\n",
       "      <td>Africa</td>\n",
       "    </tr>\n",
       "    <tr>\n",
       "      <th>Spix's Macaw</th>\n",
       "      <td>58</td>\n",
       "      <td>America</td>\n",
       "    </tr>\n",
       "    <tr>\n",
       "      <th>Sumatran Rhino</th>\n",
       "      <td>85</td>\n",
       "      <td>Asia</td>\n",
       "    </tr>\n",
       "    <tr>\n",
       "      <th>Sumatran Tiger</th>\n",
       "      <td>400</td>\n",
       "      <td>Asia</td>\n",
       "    </tr>\n",
       "    <tr>\n",
       "      <th>Tapanuli Orangutan</th>\n",
       "      <td>800</td>\n",
       "      <td>Asia</td>\n",
       "    </tr>\n",
       "    <tr>\n",
       "      <th>Vaquita</th>\n",
       "      <td>30</td>\n",
       "      <td>America</td>\n",
       "    </tr>\n",
       "    <tr>\n",
       "      <th>Wild Bactrian Camel</th>\n",
       "      <td>1400</td>\n",
       "      <td>Asia</td>\n",
       "    </tr>\n",
       "  </tbody>\n",
       "</table>\n",
       "</div>"
      ],
      "text/plain": [
       "                     Poblacion  Habitat\n",
       "Alagoas Curassow          1028  America\n",
       "Gato                      1002      NaN\n",
       "Giant Panda               1864     Asia\n",
       "Javan Rhino                 68     Asia\n",
       "Mountain Gorilla           800   Africa\n",
       "Spix's Macaw                58  America\n",
       "Sumatran Rhino              85     Asia\n",
       "Sumatran Tiger             400     Asia\n",
       "Tapanuli Orangutan         800     Asia\n",
       "Vaquita                     30  America\n",
       "Wild Bactrian Camel       1400     Asia"
      ]
     },
     "execution_count": 188,
     "metadata": {},
     "output_type": "execute_result"
    }
   ],
   "source": [
    "df"
   ]
  },
  {
   "cell_type": "markdown",
   "id": "c27d5246",
   "metadata": {},
   "source": [
    "### Two Dimensions .loc and .iloc"
   ]
  },
  {
   "cell_type": "code",
   "execution_count": 191,
   "id": "7954db57",
   "metadata": {},
   "outputs": [
    {
     "data": {
      "text/plain": [
       "nan"
      ]
     },
     "execution_count": 191,
     "metadata": {},
     "output_type": "execute_result"
    }
   ],
   "source": [
    "df.loc[\"Gato\"][\"Habitat\"]"
   ]
  },
  {
   "cell_type": "code",
   "execution_count": 198,
   "id": "5bb6561c",
   "metadata": {},
   "outputs": [
    {
     "data": {
      "text/plain": [
       "'America'"
      ]
     },
     "execution_count": 198,
     "metadata": {},
     "output_type": "execute_result"
    }
   ],
   "source": [
    "df.iloc[0,1]"
   ]
  },
  {
   "cell_type": "code",
   "execution_count": 201,
   "id": "5440d91a",
   "metadata": {},
   "outputs": [
    {
     "data": {
      "text/plain": [
       "nan"
      ]
     },
     "execution_count": 201,
     "metadata": {},
     "output_type": "execute_result"
    }
   ],
   "source": [
    "df.loc[\"Gato\",\"Habitat\"]"
   ]
  },
  {
   "cell_type": "code",
   "execution_count": 203,
   "id": "0da0e4a5",
   "metadata": {},
   "outputs": [
    {
     "data": {
      "text/plain": [
       "Alagoas Curassow       1028\n",
       "Gato                   1002\n",
       "Giant Panda            1864\n",
       "Javan Rhino              68\n",
       "Mountain Gorilla        800\n",
       "Spix's Macaw             58\n",
       "Sumatran Rhino           85\n",
       "Sumatran Tiger          400\n",
       "Tapanuli Orangutan      800\n",
       "Vaquita                  30\n",
       "Wild Bactrian Camel    1400\n",
       "Name: Poblacion, dtype: int64"
      ]
     },
     "execution_count": 203,
     "metadata": {},
     "output_type": "execute_result"
    }
   ],
   "source": [
    "df.loc[:,\"Poblacion\"]"
   ]
  },
  {
   "cell_type": "code",
   "execution_count": 204,
   "id": "74bd4c3d",
   "metadata": {},
   "outputs": [
    {
     "data": {
      "text/plain": [
       "Poblacion    1002\n",
       "Habitat       NaN\n",
       "Name: Gato, dtype: object"
      ]
     },
     "execution_count": 204,
     "metadata": {},
     "output_type": "execute_result"
    }
   ],
   "source": [
    "df.loc[\"Gato\",:]"
   ]
  },
  {
   "cell_type": "markdown",
   "id": "d7f6d861",
   "metadata": {},
   "source": [
    "### What is [NaN](https://en.wikipedia.org/wiki/NaN)?\n",
    "\n",
    "![](img/nan.jpeg)"
   ]
  },
  {
   "cell_type": "markdown",
   "id": "78a1ff1a",
   "metadata": {},
   "source": [
    "### Checking for nulls"
   ]
  },
  {
   "cell_type": "code",
   "execution_count": 205,
   "id": "ae731931",
   "metadata": {},
   "outputs": [
    {
     "data": {
      "text/html": [
       "<div>\n",
       "<style scoped>\n",
       "    .dataframe tbody tr th:only-of-type {\n",
       "        vertical-align: middle;\n",
       "    }\n",
       "\n",
       "    .dataframe tbody tr th {\n",
       "        vertical-align: top;\n",
       "    }\n",
       "\n",
       "    .dataframe thead th {\n",
       "        text-align: right;\n",
       "    }\n",
       "</style>\n",
       "<table border=\"1\" class=\"dataframe\">\n",
       "  <thead>\n",
       "    <tr style=\"text-align: right;\">\n",
       "      <th></th>\n",
       "      <th>Poblacion</th>\n",
       "      <th>Habitat</th>\n",
       "    </tr>\n",
       "  </thead>\n",
       "  <tbody>\n",
       "    <tr>\n",
       "      <th>Alagoas Curassow</th>\n",
       "      <td>False</td>\n",
       "      <td>False</td>\n",
       "    </tr>\n",
       "    <tr>\n",
       "      <th>Gato</th>\n",
       "      <td>False</td>\n",
       "      <td>True</td>\n",
       "    </tr>\n",
       "    <tr>\n",
       "      <th>Giant Panda</th>\n",
       "      <td>False</td>\n",
       "      <td>False</td>\n",
       "    </tr>\n",
       "    <tr>\n",
       "      <th>Javan Rhino</th>\n",
       "      <td>False</td>\n",
       "      <td>False</td>\n",
       "    </tr>\n",
       "    <tr>\n",
       "      <th>Mountain Gorilla</th>\n",
       "      <td>False</td>\n",
       "      <td>False</td>\n",
       "    </tr>\n",
       "    <tr>\n",
       "      <th>Spix's Macaw</th>\n",
       "      <td>False</td>\n",
       "      <td>False</td>\n",
       "    </tr>\n",
       "    <tr>\n",
       "      <th>Sumatran Rhino</th>\n",
       "      <td>False</td>\n",
       "      <td>False</td>\n",
       "    </tr>\n",
       "    <tr>\n",
       "      <th>Sumatran Tiger</th>\n",
       "      <td>False</td>\n",
       "      <td>False</td>\n",
       "    </tr>\n",
       "    <tr>\n",
       "      <th>Tapanuli Orangutan</th>\n",
       "      <td>False</td>\n",
       "      <td>False</td>\n",
       "    </tr>\n",
       "    <tr>\n",
       "      <th>Vaquita</th>\n",
       "      <td>False</td>\n",
       "      <td>False</td>\n",
       "    </tr>\n",
       "    <tr>\n",
       "      <th>Wild Bactrian Camel</th>\n",
       "      <td>False</td>\n",
       "      <td>False</td>\n",
       "    </tr>\n",
       "  </tbody>\n",
       "</table>\n",
       "</div>"
      ],
      "text/plain": [
       "                     Poblacion  Habitat\n",
       "Alagoas Curassow         False    False\n",
       "Gato                     False     True\n",
       "Giant Panda              False    False\n",
       "Javan Rhino              False    False\n",
       "Mountain Gorilla         False    False\n",
       "Spix's Macaw             False    False\n",
       "Sumatran Rhino           False    False\n",
       "Sumatran Tiger           False    False\n",
       "Tapanuli Orangutan       False    False\n",
       "Vaquita                  False    False\n",
       "Wild Bactrian Camel      False    False"
      ]
     },
     "execution_count": 205,
     "metadata": {},
     "output_type": "execute_result"
    }
   ],
   "source": [
    "df.isna()"
   ]
  },
  {
   "cell_type": "code",
   "execution_count": 206,
   "id": "1a08c2f3",
   "metadata": {},
   "outputs": [
    {
     "data": {
      "text/plain": [
       "Poblacion    0\n",
       "Habitat      1\n",
       "dtype: int64"
      ]
     },
     "execution_count": 206,
     "metadata": {},
     "output_type": "execute_result"
    }
   ],
   "source": [
    "df.isna().sum()"
   ]
  },
  {
   "cell_type": "code",
   "execution_count": 211,
   "id": "6fbcd12d",
   "metadata": {},
   "outputs": [
    {
     "data": {
      "text/html": [
       "<div>\n",
       "<style scoped>\n",
       "    .dataframe tbody tr th:only-of-type {\n",
       "        vertical-align: middle;\n",
       "    }\n",
       "\n",
       "    .dataframe tbody tr th {\n",
       "        vertical-align: top;\n",
       "    }\n",
       "\n",
       "    .dataframe thead th {\n",
       "        text-align: right;\n",
       "    }\n",
       "</style>\n",
       "<table border=\"1\" class=\"dataframe\">\n",
       "  <thead>\n",
       "    <tr style=\"text-align: right;\">\n",
       "      <th></th>\n",
       "      <th>Poblacion</th>\n",
       "      <th>Habitat</th>\n",
       "    </tr>\n",
       "  </thead>\n",
       "  <tbody>\n",
       "    <tr>\n",
       "      <th>Gato</th>\n",
       "      <td>1002</td>\n",
       "      <td>NaN</td>\n",
       "    </tr>\n",
       "  </tbody>\n",
       "</table>\n",
       "</div>"
      ],
      "text/plain": [
       "      Poblacion Habitat\n",
       "Gato       1002     NaN"
      ]
     },
     "execution_count": 211,
     "metadata": {},
     "output_type": "execute_result"
    }
   ],
   "source": [
    "df[df.isna()[\"Habitat\"]]"
   ]
  },
  {
   "cell_type": "code",
   "execution_count": 217,
   "id": "72384da8",
   "metadata": {},
   "outputs": [],
   "source": [
    "df.loc[\"Gato\",\"Habitat\"] = np.nan\n",
    "df.loc[\"Vaquita\",\"Habitat\"] = np.nan\n",
    "df.loc[\"Mointain Gorilla\",\"Habitat\"] = np.nan"
   ]
  },
  {
   "cell_type": "code",
   "execution_count": 218,
   "id": "994b91d3",
   "metadata": {},
   "outputs": [
    {
     "data": {
      "text/html": [
       "<div>\n",
       "<style scoped>\n",
       "    .dataframe tbody tr th:only-of-type {\n",
       "        vertical-align: middle;\n",
       "    }\n",
       "\n",
       "    .dataframe tbody tr th {\n",
       "        vertical-align: top;\n",
       "    }\n",
       "\n",
       "    .dataframe thead th {\n",
       "        text-align: right;\n",
       "    }\n",
       "</style>\n",
       "<table border=\"1\" class=\"dataframe\">\n",
       "  <thead>\n",
       "    <tr style=\"text-align: right;\">\n",
       "      <th></th>\n",
       "      <th>Poblacion</th>\n",
       "      <th>Habitat</th>\n",
       "    </tr>\n",
       "  </thead>\n",
       "  <tbody>\n",
       "    <tr>\n",
       "      <th>Alagoas Curassow</th>\n",
       "      <td>1028.0</td>\n",
       "      <td>America</td>\n",
       "    </tr>\n",
       "    <tr>\n",
       "      <th>Gato</th>\n",
       "      <td>1002.0</td>\n",
       "      <td>NaN</td>\n",
       "    </tr>\n",
       "    <tr>\n",
       "      <th>Giant Panda</th>\n",
       "      <td>1864.0</td>\n",
       "      <td>Asia</td>\n",
       "    </tr>\n",
       "    <tr>\n",
       "      <th>Javan Rhino</th>\n",
       "      <td>68.0</td>\n",
       "      <td>Asia</td>\n",
       "    </tr>\n",
       "    <tr>\n",
       "      <th>Mountain Gorilla</th>\n",
       "      <td>800.0</td>\n",
       "      <td>Africa</td>\n",
       "    </tr>\n",
       "    <tr>\n",
       "      <th>Spix's Macaw</th>\n",
       "      <td>58.0</td>\n",
       "      <td>America</td>\n",
       "    </tr>\n",
       "    <tr>\n",
       "      <th>Sumatran Rhino</th>\n",
       "      <td>85.0</td>\n",
       "      <td>Asia</td>\n",
       "    </tr>\n",
       "    <tr>\n",
       "      <th>Sumatran Tiger</th>\n",
       "      <td>400.0</td>\n",
       "      <td>Asia</td>\n",
       "    </tr>\n",
       "    <tr>\n",
       "      <th>Tapanuli Orangutan</th>\n",
       "      <td>800.0</td>\n",
       "      <td>Asia</td>\n",
       "    </tr>\n",
       "    <tr>\n",
       "      <th>Vaquita</th>\n",
       "      <td>30.0</td>\n",
       "      <td>NaN</td>\n",
       "    </tr>\n",
       "    <tr>\n",
       "      <th>Wild Bactrian Camel</th>\n",
       "      <td>1400.0</td>\n",
       "      <td>Asia</td>\n",
       "    </tr>\n",
       "    <tr>\n",
       "      <th>Mointain Gorilla</th>\n",
       "      <td>NaN</td>\n",
       "      <td>NaN</td>\n",
       "    </tr>\n",
       "  </tbody>\n",
       "</table>\n",
       "</div>"
      ],
      "text/plain": [
       "                     Poblacion  Habitat\n",
       "Alagoas Curassow        1028.0  America\n",
       "Gato                    1002.0      NaN\n",
       "Giant Panda             1864.0     Asia\n",
       "Javan Rhino               68.0     Asia\n",
       "Mountain Gorilla         800.0   Africa\n",
       "Spix's Macaw              58.0  America\n",
       "Sumatran Rhino            85.0     Asia\n",
       "Sumatran Tiger           400.0     Asia\n",
       "Tapanuli Orangutan       800.0     Asia\n",
       "Vaquita                   30.0      NaN\n",
       "Wild Bactrian Camel     1400.0     Asia\n",
       "Mointain Gorilla           NaN      NaN"
      ]
     },
     "execution_count": 218,
     "metadata": {},
     "output_type": "execute_result"
    }
   ],
   "source": [
    "df"
   ]
  },
  {
   "cell_type": "code",
   "execution_count": 226,
   "id": "39d1e0c7",
   "metadata": {},
   "outputs": [],
   "source": [
    "def sust_null(data):\n",
    "    if str(data) == \"nan\":\n",
    "        return \"Not exists\"\n",
    "    return data"
   ]
  },
  {
   "cell_type": "code",
   "execution_count": 229,
   "id": "f532e411",
   "metadata": {},
   "outputs": [],
   "source": [
    "df[\"Habitat\"] = df[\"Habitat\"].apply(sust_null)"
   ]
  },
  {
   "cell_type": "code",
   "execution_count": 230,
   "id": "d2c9b502",
   "metadata": {},
   "outputs": [
    {
     "data": {
      "text/html": [
       "<div>\n",
       "<style scoped>\n",
       "    .dataframe tbody tr th:only-of-type {\n",
       "        vertical-align: middle;\n",
       "    }\n",
       "\n",
       "    .dataframe tbody tr th {\n",
       "        vertical-align: top;\n",
       "    }\n",
       "\n",
       "    .dataframe thead th {\n",
       "        text-align: right;\n",
       "    }\n",
       "</style>\n",
       "<table border=\"1\" class=\"dataframe\">\n",
       "  <thead>\n",
       "    <tr style=\"text-align: right;\">\n",
       "      <th></th>\n",
       "      <th>Poblacion</th>\n",
       "      <th>Habitat</th>\n",
       "    </tr>\n",
       "  </thead>\n",
       "  <tbody>\n",
       "    <tr>\n",
       "      <th>Alagoas Curassow</th>\n",
       "      <td>1028.0</td>\n",
       "      <td>America</td>\n",
       "    </tr>\n",
       "    <tr>\n",
       "      <th>Gato</th>\n",
       "      <td>1002.0</td>\n",
       "      <td>Not exists</td>\n",
       "    </tr>\n",
       "    <tr>\n",
       "      <th>Giant Panda</th>\n",
       "      <td>1864.0</td>\n",
       "      <td>Asia</td>\n",
       "    </tr>\n",
       "    <tr>\n",
       "      <th>Javan Rhino</th>\n",
       "      <td>68.0</td>\n",
       "      <td>Asia</td>\n",
       "    </tr>\n",
       "    <tr>\n",
       "      <th>Mountain Gorilla</th>\n",
       "      <td>800.0</td>\n",
       "      <td>Africa</td>\n",
       "    </tr>\n",
       "    <tr>\n",
       "      <th>Spix's Macaw</th>\n",
       "      <td>58.0</td>\n",
       "      <td>America</td>\n",
       "    </tr>\n",
       "    <tr>\n",
       "      <th>Sumatran Rhino</th>\n",
       "      <td>85.0</td>\n",
       "      <td>Asia</td>\n",
       "    </tr>\n",
       "    <tr>\n",
       "      <th>Sumatran Tiger</th>\n",
       "      <td>400.0</td>\n",
       "      <td>Asia</td>\n",
       "    </tr>\n",
       "    <tr>\n",
       "      <th>Tapanuli Orangutan</th>\n",
       "      <td>800.0</td>\n",
       "      <td>Asia</td>\n",
       "    </tr>\n",
       "    <tr>\n",
       "      <th>Vaquita</th>\n",
       "      <td>30.0</td>\n",
       "      <td>Not exists</td>\n",
       "    </tr>\n",
       "    <tr>\n",
       "      <th>Wild Bactrian Camel</th>\n",
       "      <td>1400.0</td>\n",
       "      <td>Asia</td>\n",
       "    </tr>\n",
       "    <tr>\n",
       "      <th>Mointain Gorilla</th>\n",
       "      <td>NaN</td>\n",
       "      <td>Not exists</td>\n",
       "    </tr>\n",
       "  </tbody>\n",
       "</table>\n",
       "</div>"
      ],
      "text/plain": [
       "                     Poblacion     Habitat\n",
       "Alagoas Curassow        1028.0     America\n",
       "Gato                    1002.0  Not exists\n",
       "Giant Panda             1864.0        Asia\n",
       "Javan Rhino               68.0        Asia\n",
       "Mountain Gorilla         800.0      Africa\n",
       "Spix's Macaw              58.0     America\n",
       "Sumatran Rhino            85.0        Asia\n",
       "Sumatran Tiger           400.0        Asia\n",
       "Tapanuli Orangutan       800.0        Asia\n",
       "Vaquita                   30.0  Not exists\n",
       "Wild Bactrian Camel     1400.0        Asia\n",
       "Mointain Gorilla           NaN  Not exists"
      ]
     },
     "execution_count": 230,
     "metadata": {},
     "output_type": "execute_result"
    }
   ],
   "source": [
    "df"
   ]
  },
  {
   "cell_type": "code",
   "execution_count": 231,
   "id": "e82f6190",
   "metadata": {},
   "outputs": [
    {
     "data": {
      "text/html": [
       "<div>\n",
       "<style scoped>\n",
       "    .dataframe tbody tr th:only-of-type {\n",
       "        vertical-align: middle;\n",
       "    }\n",
       "\n",
       "    .dataframe tbody tr th {\n",
       "        vertical-align: top;\n",
       "    }\n",
       "\n",
       "    .dataframe thead th {\n",
       "        text-align: right;\n",
       "    }\n",
       "</style>\n",
       "<table border=\"1\" class=\"dataframe\">\n",
       "  <thead>\n",
       "    <tr style=\"text-align: right;\">\n",
       "      <th></th>\n",
       "      <th>0</th>\n",
       "      <th>1</th>\n",
       "    </tr>\n",
       "  </thead>\n",
       "  <tbody>\n",
       "    <tr>\n",
       "      <th>0</th>\n",
       "      <td>a</td>\n",
       "      <td>b</td>\n",
       "    </tr>\n",
       "    <tr>\n",
       "      <th>1</th>\n",
       "      <td>3</td>\n",
       "      <td>4</td>\n",
       "    </tr>\n",
       "  </tbody>\n",
       "</table>\n",
       "</div>"
      ],
      "text/plain": [
       "   0  1\n",
       "0  a  b\n",
       "1  3  4"
      ]
     },
     "execution_count": 231,
     "metadata": {},
     "output_type": "execute_result"
    }
   ],
   "source": [
    "mini = pd.DataFrame([[\"a\",\"b\"],[3,4]])\n",
    "mini"
   ]
  },
  {
   "cell_type": "code",
   "execution_count": 233,
   "id": "d6a81e4f",
   "metadata": {},
   "outputs": [],
   "source": [
    "df.loc[\"Gato\",\"Habitat\"] = mini"
   ]
  },
  {
   "cell_type": "code",
   "execution_count": 234,
   "id": "267ef1c4",
   "metadata": {},
   "outputs": [
    {
     "data": {
      "text/html": [
       "<div>\n",
       "<style scoped>\n",
       "    .dataframe tbody tr th:only-of-type {\n",
       "        vertical-align: middle;\n",
       "    }\n",
       "\n",
       "    .dataframe tbody tr th {\n",
       "        vertical-align: top;\n",
       "    }\n",
       "\n",
       "    .dataframe thead th {\n",
       "        text-align: right;\n",
       "    }\n",
       "</style>\n",
       "<table border=\"1\" class=\"dataframe\">\n",
       "  <thead>\n",
       "    <tr style=\"text-align: right;\">\n",
       "      <th></th>\n",
       "      <th>Poblacion</th>\n",
       "      <th>Habitat</th>\n",
       "    </tr>\n",
       "  </thead>\n",
       "  <tbody>\n",
       "    <tr>\n",
       "      <th>Alagoas Curassow</th>\n",
       "      <td>1028.0</td>\n",
       "      <td>America</td>\n",
       "    </tr>\n",
       "    <tr>\n",
       "      <th>Gato</th>\n",
       "      <td>1002.0</td>\n",
       "      <td>NaN</td>\n",
       "    </tr>\n",
       "    <tr>\n",
       "      <th>Giant Panda</th>\n",
       "      <td>1864.0</td>\n",
       "      <td>Asia</td>\n",
       "    </tr>\n",
       "    <tr>\n",
       "      <th>Javan Rhino</th>\n",
       "      <td>68.0</td>\n",
       "      <td>Asia</td>\n",
       "    </tr>\n",
       "    <tr>\n",
       "      <th>Mountain Gorilla</th>\n",
       "      <td>800.0</td>\n",
       "      <td>Africa</td>\n",
       "    </tr>\n",
       "    <tr>\n",
       "      <th>Spix's Macaw</th>\n",
       "      <td>58.0</td>\n",
       "      <td>America</td>\n",
       "    </tr>\n",
       "    <tr>\n",
       "      <th>Sumatran Rhino</th>\n",
       "      <td>85.0</td>\n",
       "      <td>Asia</td>\n",
       "    </tr>\n",
       "    <tr>\n",
       "      <th>Sumatran Tiger</th>\n",
       "      <td>400.0</td>\n",
       "      <td>Asia</td>\n",
       "    </tr>\n",
       "    <tr>\n",
       "      <th>Tapanuli Orangutan</th>\n",
       "      <td>800.0</td>\n",
       "      <td>Asia</td>\n",
       "    </tr>\n",
       "    <tr>\n",
       "      <th>Vaquita</th>\n",
       "      <td>30.0</td>\n",
       "      <td>Not exists</td>\n",
       "    </tr>\n",
       "    <tr>\n",
       "      <th>Wild Bactrian Camel</th>\n",
       "      <td>1400.0</td>\n",
       "      <td>Asia</td>\n",
       "    </tr>\n",
       "    <tr>\n",
       "      <th>Mointain Gorilla</th>\n",
       "      <td>NaN</td>\n",
       "      <td>Not exists</td>\n",
       "    </tr>\n",
       "  </tbody>\n",
       "</table>\n",
       "</div>"
      ],
      "text/plain": [
       "                     Poblacion     Habitat\n",
       "Alagoas Curassow        1028.0     America\n",
       "Gato                    1002.0         NaN\n",
       "Giant Panda             1864.0        Asia\n",
       "Javan Rhino               68.0        Asia\n",
       "Mountain Gorilla         800.0      Africa\n",
       "Spix's Macaw              58.0     America\n",
       "Sumatran Rhino            85.0        Asia\n",
       "Sumatran Tiger           400.0        Asia\n",
       "Tapanuli Orangutan       800.0        Asia\n",
       "Vaquita                   30.0  Not exists\n",
       "Wild Bactrian Camel     1400.0        Asia\n",
       "Mointain Gorilla           NaN  Not exists"
      ]
     },
     "execution_count": 234,
     "metadata": {},
     "output_type": "execute_result"
    }
   ],
   "source": [
    "df"
   ]
  },
  {
   "cell_type": "code",
   "execution_count": 236,
   "id": "b2b02c17",
   "metadata": {},
   "outputs": [],
   "source": [
    "df.loc[\"Gato\",\"Habitat\"] = str([1,2,3,4,5])"
   ]
  },
  {
   "cell_type": "code",
   "execution_count": 237,
   "id": "6c4f57fa",
   "metadata": {},
   "outputs": [
    {
     "data": {
      "text/html": [
       "<div>\n",
       "<style scoped>\n",
       "    .dataframe tbody tr th:only-of-type {\n",
       "        vertical-align: middle;\n",
       "    }\n",
       "\n",
       "    .dataframe tbody tr th {\n",
       "        vertical-align: top;\n",
       "    }\n",
       "\n",
       "    .dataframe thead th {\n",
       "        text-align: right;\n",
       "    }\n",
       "</style>\n",
       "<table border=\"1\" class=\"dataframe\">\n",
       "  <thead>\n",
       "    <tr style=\"text-align: right;\">\n",
       "      <th></th>\n",
       "      <th>Poblacion</th>\n",
       "      <th>Habitat</th>\n",
       "    </tr>\n",
       "  </thead>\n",
       "  <tbody>\n",
       "    <tr>\n",
       "      <th>Alagoas Curassow</th>\n",
       "      <td>1028.0</td>\n",
       "      <td>America</td>\n",
       "    </tr>\n",
       "    <tr>\n",
       "      <th>Gato</th>\n",
       "      <td>1002.0</td>\n",
       "      <td>[1, 2, 3, 4, 5]</td>\n",
       "    </tr>\n",
       "    <tr>\n",
       "      <th>Giant Panda</th>\n",
       "      <td>1864.0</td>\n",
       "      <td>Asia</td>\n",
       "    </tr>\n",
       "    <tr>\n",
       "      <th>Javan Rhino</th>\n",
       "      <td>68.0</td>\n",
       "      <td>Asia</td>\n",
       "    </tr>\n",
       "    <tr>\n",
       "      <th>Mountain Gorilla</th>\n",
       "      <td>800.0</td>\n",
       "      <td>Africa</td>\n",
       "    </tr>\n",
       "    <tr>\n",
       "      <th>Spix's Macaw</th>\n",
       "      <td>58.0</td>\n",
       "      <td>America</td>\n",
       "    </tr>\n",
       "    <tr>\n",
       "      <th>Sumatran Rhino</th>\n",
       "      <td>85.0</td>\n",
       "      <td>Asia</td>\n",
       "    </tr>\n",
       "    <tr>\n",
       "      <th>Sumatran Tiger</th>\n",
       "      <td>400.0</td>\n",
       "      <td>Asia</td>\n",
       "    </tr>\n",
       "    <tr>\n",
       "      <th>Tapanuli Orangutan</th>\n",
       "      <td>800.0</td>\n",
       "      <td>Asia</td>\n",
       "    </tr>\n",
       "    <tr>\n",
       "      <th>Vaquita</th>\n",
       "      <td>30.0</td>\n",
       "      <td>Not exists</td>\n",
       "    </tr>\n",
       "    <tr>\n",
       "      <th>Wild Bactrian Camel</th>\n",
       "      <td>1400.0</td>\n",
       "      <td>Asia</td>\n",
       "    </tr>\n",
       "    <tr>\n",
       "      <th>Mointain Gorilla</th>\n",
       "      <td>NaN</td>\n",
       "      <td>Not exists</td>\n",
       "    </tr>\n",
       "  </tbody>\n",
       "</table>\n",
       "</div>"
      ],
      "text/plain": [
       "                     Poblacion          Habitat\n",
       "Alagoas Curassow        1028.0          America\n",
       "Gato                    1002.0  [1, 2, 3, 4, 5]\n",
       "Giant Panda             1864.0             Asia\n",
       "Javan Rhino               68.0             Asia\n",
       "Mountain Gorilla         800.0           Africa\n",
       "Spix's Macaw              58.0          America\n",
       "Sumatran Rhino            85.0             Asia\n",
       "Sumatran Tiger           400.0             Asia\n",
       "Tapanuli Orangutan       800.0             Asia\n",
       "Vaquita                   30.0       Not exists\n",
       "Wild Bactrian Camel     1400.0             Asia\n",
       "Mointain Gorilla           NaN       Not exists"
      ]
     },
     "execution_count": 237,
     "metadata": {},
     "output_type": "execute_result"
    }
   ],
   "source": [
    "df"
   ]
  },
  {
   "cell_type": "code",
   "execution_count": 241,
   "id": "3ae0ed7d",
   "metadata": {},
   "outputs": [
    {
     "data": {
      "text/plain": [
       "Alagoas Curassow       0\n",
       "Gato                   0\n",
       "Giant Panda            0\n",
       "Javan Rhino            0\n",
       "Mountain Gorilla       0\n",
       "Spix's Macaw           0\n",
       "Sumatran Rhino         0\n",
       "Sumatran Tiger         0\n",
       "Tapanuli Orangutan     0\n",
       "Vaquita                0\n",
       "Wild Bactrian Camel    0\n",
       "Mointain Gorilla       1\n",
       "dtype: int64"
      ]
     },
     "execution_count": 241,
     "metadata": {},
     "output_type": "execute_result"
    }
   ],
   "source": [
    "df.isna().sum(axis=1)"
   ]
  },
  {
   "cell_type": "code",
   "execution_count": 254,
   "id": "a7ca1f9b",
   "metadata": {},
   "outputs": [],
   "source": [
    "df = df.append(pd.Series({\"Poblacion\":1294, \"Habitat\":None}, name=\"Nuevo Registro 2\"))"
   ]
  },
  {
   "cell_type": "code",
   "execution_count": 255,
   "id": "d2662c43",
   "metadata": {},
   "outputs": [
    {
     "data": {
      "text/html": [
       "<div>\n",
       "<style scoped>\n",
       "    .dataframe tbody tr th:only-of-type {\n",
       "        vertical-align: middle;\n",
       "    }\n",
       "\n",
       "    .dataframe tbody tr th {\n",
       "        vertical-align: top;\n",
       "    }\n",
       "\n",
       "    .dataframe thead th {\n",
       "        text-align: right;\n",
       "    }\n",
       "</style>\n",
       "<table border=\"1\" class=\"dataframe\">\n",
       "  <thead>\n",
       "    <tr style=\"text-align: right;\">\n",
       "      <th></th>\n",
       "      <th>Poblacion</th>\n",
       "      <th>Habitat</th>\n",
       "    </tr>\n",
       "  </thead>\n",
       "  <tbody>\n",
       "    <tr>\n",
       "      <th>Alagoas Curassow</th>\n",
       "      <td>1028.0</td>\n",
       "      <td>America</td>\n",
       "    </tr>\n",
       "    <tr>\n",
       "      <th>Gato</th>\n",
       "      <td>1002.0</td>\n",
       "      <td>[1, 2, 3, 4, 5]</td>\n",
       "    </tr>\n",
       "    <tr>\n",
       "      <th>Giant Panda</th>\n",
       "      <td>1864.0</td>\n",
       "      <td>Asia</td>\n",
       "    </tr>\n",
       "    <tr>\n",
       "      <th>Javan Rhino</th>\n",
       "      <td>68.0</td>\n",
       "      <td>Asia</td>\n",
       "    </tr>\n",
       "    <tr>\n",
       "      <th>Mountain Gorilla</th>\n",
       "      <td>800.0</td>\n",
       "      <td>Africa</td>\n",
       "    </tr>\n",
       "    <tr>\n",
       "      <th>Spix's Macaw</th>\n",
       "      <td>58.0</td>\n",
       "      <td>America</td>\n",
       "    </tr>\n",
       "    <tr>\n",
       "      <th>Sumatran Rhino</th>\n",
       "      <td>85.0</td>\n",
       "      <td>Asia</td>\n",
       "    </tr>\n",
       "    <tr>\n",
       "      <th>Sumatran Tiger</th>\n",
       "      <td>400.0</td>\n",
       "      <td>Asia</td>\n",
       "    </tr>\n",
       "    <tr>\n",
       "      <th>Tapanuli Orangutan</th>\n",
       "      <td>800.0</td>\n",
       "      <td>Asia</td>\n",
       "    </tr>\n",
       "    <tr>\n",
       "      <th>Vaquita</th>\n",
       "      <td>30.0</td>\n",
       "      <td>Not exists</td>\n",
       "    </tr>\n",
       "    <tr>\n",
       "      <th>Wild Bactrian Camel</th>\n",
       "      <td>1400.0</td>\n",
       "      <td>Asia</td>\n",
       "    </tr>\n",
       "    <tr>\n",
       "      <th>Mointain Gorilla</th>\n",
       "      <td>NaN</td>\n",
       "      <td>Not exists</td>\n",
       "    </tr>\n",
       "    <tr>\n",
       "      <th>Nuevo Registro</th>\n",
       "      <td>1294.0</td>\n",
       "      <td>Spain</td>\n",
       "    </tr>\n",
       "    <tr>\n",
       "      <th>Nuevo Registro 2</th>\n",
       "      <td>1294.0</td>\n",
       "      <td>NaN</td>\n",
       "    </tr>\n",
       "  </tbody>\n",
       "</table>\n",
       "</div>"
      ],
      "text/plain": [
       "                     Poblacion          Habitat\n",
       "Alagoas Curassow        1028.0          America\n",
       "Gato                    1002.0  [1, 2, 3, 4, 5]\n",
       "Giant Panda             1864.0             Asia\n",
       "Javan Rhino               68.0             Asia\n",
       "Mountain Gorilla         800.0           Africa\n",
       "Spix's Macaw              58.0          America\n",
       "Sumatran Rhino            85.0             Asia\n",
       "Sumatran Tiger           400.0             Asia\n",
       "Tapanuli Orangutan       800.0             Asia\n",
       "Vaquita                   30.0       Not exists\n",
       "Wild Bactrian Camel     1400.0             Asia\n",
       "Mointain Gorilla           NaN       Not exists\n",
       "Nuevo Registro          1294.0            Spain\n",
       "Nuevo Registro 2        1294.0              NaN"
      ]
     },
     "execution_count": 255,
     "metadata": {},
     "output_type": "execute_result"
    }
   ],
   "source": [
    "df"
   ]
  },
  {
   "cell_type": "markdown",
   "id": "72fb1d9f",
   "metadata": {},
   "source": [
    "### The axis parameter\n",
    "\n",
    "Como ahora ya no tenemos apenas una serie como un array de una dimensión, sino que un array de 2 dimensiones, un parámetro que empieza a surgir es `axis` el eje por el cual se realiza la operación. El `axis=0` corresponde a los index, o sea, la operación se realiza sobre cada una de las columnas. Su opuesto, el `axis=1` corresponde a las columnas, operando sobre cada una de las filas "
   ]
  },
  {
   "cell_type": "code",
   "execution_count": 284,
   "id": "83dc0b9f",
   "metadata": {},
   "outputs": [
    {
     "name": "stdout",
     "output_type": "stream",
     "text": [
      "Alagoas Curassow       1028.0\n",
      "Gato                   1002.0\n",
      "Giant Panda            1864.0\n",
      "Javan Rhino              68.0\n",
      "Mountain Gorilla        800.0\n",
      "Spix's Macaw             58.0\n",
      "Sumatran Rhino           85.0\n",
      "Sumatran Tiger          400.0\n",
      "Tapanuli Orangutan      800.0\n",
      "Vaquita                  30.0\n",
      "Wild Bactrian Camel    1400.0\n",
      "Mointain Gorilla          NaN\n",
      "Nuevo Registro         1294.0\n",
      "Nuevo Registro 2       1294.0\n",
      "Name: Poblacion, dtype: float64 <class 'pandas.core.series.Series'> \n",
      "--------------------------------------------------\n",
      "Alagoas Curassow               America\n",
      "Gato                   [1, 2, 3, 4, 5]\n",
      "Giant Panda                       Asia\n",
      "Javan Rhino                       Asia\n",
      "Mountain Gorilla                Africa\n",
      "Spix's Macaw                   America\n",
      "Sumatran Rhino                    Asia\n",
      "Sumatran Tiger                    Asia\n",
      "Tapanuli Orangutan                Asia\n",
      "Vaquita                     Not exists\n",
      "Wild Bactrian Camel               Asia\n",
      "Mointain Gorilla            Not exists\n",
      "Nuevo Registro                   Spain\n",
      "Nuevo Registro 2                   NaN\n",
      "Name: Habitat, dtype: object <class 'pandas.core.series.Series'> \n",
      "--------------------------------------------------\n"
     ]
    },
    {
     "data": {
      "text/plain": [
       "Poblacion    None\n",
       "Habitat      None\n",
       "dtype: object"
      ]
     },
     "execution_count": 284,
     "metadata": {},
     "output_type": "execute_result"
    }
   ],
   "source": [
    "df.apply(lambda col: print(col, type(col), \"\\n\"+\"-\"*50), axis=0)"
   ]
  },
  {
   "cell_type": "code",
   "execution_count": 243,
   "id": "843c54c5",
   "metadata": {},
   "outputs": [
    {
     "name": "stdout",
     "output_type": "stream",
     "text": [
      "Poblacion     1028.0\n",
      "Habitat      America\n",
      "Name: Alagoas Curassow, dtype: object <class 'pandas.core.series.Series'> \n",
      "--------------------------------------------------\n",
      "Poblacion             1002.0\n",
      "Habitat      [1, 2, 3, 4, 5]\n",
      "Name: Gato, dtype: object <class 'pandas.core.series.Series'> \n",
      "--------------------------------------------------\n",
      "Poblacion    1864.0\n",
      "Habitat        Asia\n",
      "Name: Giant Panda, dtype: object <class 'pandas.core.series.Series'> \n",
      "--------------------------------------------------\n",
      "Poblacion    68.0\n",
      "Habitat      Asia\n",
      "Name: Javan Rhino, dtype: object <class 'pandas.core.series.Series'> \n",
      "--------------------------------------------------\n",
      "Poblacion     800.0\n",
      "Habitat      Africa\n",
      "Name: Mountain Gorilla, dtype: object <class 'pandas.core.series.Series'> \n",
      "--------------------------------------------------\n",
      "Poblacion       58.0\n",
      "Habitat      America\n",
      "Name: Spix's Macaw, dtype: object <class 'pandas.core.series.Series'> \n",
      "--------------------------------------------------\n",
      "Poblacion    85.0\n",
      "Habitat      Asia\n",
      "Name: Sumatran Rhino, dtype: object <class 'pandas.core.series.Series'> \n",
      "--------------------------------------------------\n",
      "Poblacion    400.0\n",
      "Habitat       Asia\n",
      "Name: Sumatran Tiger, dtype: object <class 'pandas.core.series.Series'> \n",
      "--------------------------------------------------\n",
      "Poblacion    800.0\n",
      "Habitat       Asia\n",
      "Name: Tapanuli Orangutan, dtype: object <class 'pandas.core.series.Series'> \n",
      "--------------------------------------------------\n",
      "Poblacion          30.0\n",
      "Habitat      Not exists\n",
      "Name: Vaquita, dtype: object <class 'pandas.core.series.Series'> \n",
      "--------------------------------------------------\n",
      "Poblacion    1400.0\n",
      "Habitat        Asia\n",
      "Name: Wild Bactrian Camel, dtype: object <class 'pandas.core.series.Series'> \n",
      "--------------------------------------------------\n",
      "Poblacion           NaN\n",
      "Habitat      Not exists\n",
      "Name: Mointain Gorilla, dtype: object <class 'pandas.core.series.Series'> \n",
      "--------------------------------------------------\n"
     ]
    },
    {
     "data": {
      "text/plain": [
       "Alagoas Curassow       None\n",
       "Gato                   None\n",
       "Giant Panda            None\n",
       "Javan Rhino            None\n",
       "Mountain Gorilla       None\n",
       "Spix's Macaw           None\n",
       "Sumatran Rhino         None\n",
       "Sumatran Tiger         None\n",
       "Tapanuli Orangutan     None\n",
       "Vaquita                None\n",
       "Wild Bactrian Camel    None\n",
       "Mointain Gorilla       None\n",
       "dtype: object"
      ]
     },
     "execution_count": 243,
     "metadata": {},
     "output_type": "execute_result"
    }
   ],
   "source": [
    "df.apply(lambda col: print(col, type(col), \"\\n\"+\"-\"*50), axis=1)"
   ]
  },
  {
   "cell_type": "markdown",
   "id": "7f54844f",
   "metadata": {},
   "source": [
    "### Rolling on the River\n",
    "\n",
    "Podemos dar la vuelta a nuestro DataFrame, o mejor, transponerle llamando al método `T`."
   ]
  },
  {
   "cell_type": "code",
   "execution_count": 245,
   "id": "cf23375b",
   "metadata": {},
   "outputs": [
    {
     "data": {
      "text/html": [
       "<div>\n",
       "<style scoped>\n",
       "    .dataframe tbody tr th:only-of-type {\n",
       "        vertical-align: middle;\n",
       "    }\n",
       "\n",
       "    .dataframe tbody tr th {\n",
       "        vertical-align: top;\n",
       "    }\n",
       "\n",
       "    .dataframe thead th {\n",
       "        text-align: right;\n",
       "    }\n",
       "</style>\n",
       "<table border=\"1\" class=\"dataframe\">\n",
       "  <thead>\n",
       "    <tr style=\"text-align: right;\">\n",
       "      <th></th>\n",
       "      <th>Alagoas Curassow</th>\n",
       "      <th>Gato</th>\n",
       "      <th>Giant Panda</th>\n",
       "      <th>Javan Rhino</th>\n",
       "      <th>Mountain Gorilla</th>\n",
       "      <th>Spix's Macaw</th>\n",
       "      <th>Sumatran Rhino</th>\n",
       "      <th>Sumatran Tiger</th>\n",
       "      <th>Tapanuli Orangutan</th>\n",
       "      <th>Vaquita</th>\n",
       "      <th>Wild Bactrian Camel</th>\n",
       "      <th>Mointain Gorilla</th>\n",
       "    </tr>\n",
       "  </thead>\n",
       "  <tbody>\n",
       "    <tr>\n",
       "      <th>Poblacion</th>\n",
       "      <td>1028.0</td>\n",
       "      <td>1002.0</td>\n",
       "      <td>1864.0</td>\n",
       "      <td>68.0</td>\n",
       "      <td>800.0</td>\n",
       "      <td>58.0</td>\n",
       "      <td>85.0</td>\n",
       "      <td>400.0</td>\n",
       "      <td>800.0</td>\n",
       "      <td>30.0</td>\n",
       "      <td>1400.0</td>\n",
       "      <td>NaN</td>\n",
       "    </tr>\n",
       "    <tr>\n",
       "      <th>Habitat</th>\n",
       "      <td>America</td>\n",
       "      <td>[1, 2, 3, 4, 5]</td>\n",
       "      <td>Asia</td>\n",
       "      <td>Asia</td>\n",
       "      <td>Africa</td>\n",
       "      <td>America</td>\n",
       "      <td>Asia</td>\n",
       "      <td>Asia</td>\n",
       "      <td>Asia</td>\n",
       "      <td>Not exists</td>\n",
       "      <td>Asia</td>\n",
       "      <td>Not exists</td>\n",
       "    </tr>\n",
       "  </tbody>\n",
       "</table>\n",
       "</div>"
      ],
      "text/plain": [
       "          Alagoas Curassow             Gato Giant Panda Javan Rhino  \\\n",
       "Poblacion           1028.0           1002.0      1864.0        68.0   \n",
       "Habitat            America  [1, 2, 3, 4, 5]        Asia        Asia   \n",
       "\n",
       "          Mountain Gorilla Spix's Macaw Sumatran Rhino Sumatran Tiger  \\\n",
       "Poblacion            800.0         58.0           85.0          400.0   \n",
       "Habitat             Africa      America           Asia           Asia   \n",
       "\n",
       "          Tapanuli Orangutan     Vaquita Wild Bactrian Camel Mointain Gorilla  \n",
       "Poblacion              800.0        30.0              1400.0              NaN  \n",
       "Habitat                 Asia  Not exists                Asia       Not exists  "
      ]
     },
     "execution_count": 245,
     "metadata": {},
     "output_type": "execute_result"
    }
   ],
   "source": [
    "df.T"
   ]
  },
  {
   "cell_type": "markdown",
   "id": "539d100d",
   "metadata": {},
   "source": [
    "### Getting information on the DataFrame"
   ]
  },
  {
   "cell_type": "code",
   "execution_count": 258,
   "id": "058f8ebd",
   "metadata": {},
   "outputs": [
    {
     "name": "stdout",
     "output_type": "stream",
     "text": [
      "<class 'pandas.core.frame.DataFrame'>\n",
      "Index: 14 entries, Alagoas Curassow to Nuevo Registro 2\n",
      "Data columns (total 2 columns):\n",
      " #   Column     Non-Null Count  Dtype  \n",
      "---  ------     --------------  -----  \n",
      " 0   Poblacion  13 non-null     float64\n",
      " 1   Habitat    13 non-null     object \n",
      "dtypes: float64(1), object(1)\n",
      "memory usage: 336.0+ bytes\n"
     ]
    }
   ],
   "source": [
    "df.info()"
   ]
  },
  {
   "cell_type": "code",
   "execution_count": 260,
   "id": "2dba4868",
   "metadata": {},
   "outputs": [
    {
     "data": {
      "text/html": [
       "<div>\n",
       "<style scoped>\n",
       "    .dataframe tbody tr th:only-of-type {\n",
       "        vertical-align: middle;\n",
       "    }\n",
       "\n",
       "    .dataframe tbody tr th {\n",
       "        vertical-align: top;\n",
       "    }\n",
       "\n",
       "    .dataframe thead th {\n",
       "        text-align: right;\n",
       "    }\n",
       "</style>\n",
       "<table border=\"1\" class=\"dataframe\">\n",
       "  <thead>\n",
       "    <tr style=\"text-align: right;\">\n",
       "      <th></th>\n",
       "      <th>Poblacion</th>\n",
       "    </tr>\n",
       "  </thead>\n",
       "  <tbody>\n",
       "    <tr>\n",
       "      <th>count</th>\n",
       "      <td>13.000000</td>\n",
       "    </tr>\n",
       "    <tr>\n",
       "      <th>mean</th>\n",
       "      <td>778.692308</td>\n",
       "    </tr>\n",
       "    <tr>\n",
       "      <th>std</th>\n",
       "      <td>606.737640</td>\n",
       "    </tr>\n",
       "    <tr>\n",
       "      <th>min</th>\n",
       "      <td>30.000000</td>\n",
       "    </tr>\n",
       "    <tr>\n",
       "      <th>25%</th>\n",
       "      <td>85.000000</td>\n",
       "    </tr>\n",
       "    <tr>\n",
       "      <th>50%</th>\n",
       "      <td>800.000000</td>\n",
       "    </tr>\n",
       "    <tr>\n",
       "      <th>75%</th>\n",
       "      <td>1294.000000</td>\n",
       "    </tr>\n",
       "    <tr>\n",
       "      <th>max</th>\n",
       "      <td>1864.000000</td>\n",
       "    </tr>\n",
       "  </tbody>\n",
       "</table>\n",
       "</div>"
      ],
      "text/plain": [
       "         Poblacion\n",
       "count    13.000000\n",
       "mean    778.692308\n",
       "std     606.737640\n",
       "min      30.000000\n",
       "25%      85.000000\n",
       "50%     800.000000\n",
       "75%    1294.000000\n",
       "max    1864.000000"
      ]
     },
     "execution_count": 260,
     "metadata": {},
     "output_type": "execute_result"
    }
   ],
   "source": [
    "df.describe()"
   ]
  },
  {
   "cell_type": "code",
   "execution_count": 267,
   "id": "1aa8eae0",
   "metadata": {},
   "outputs": [
    {
     "data": {
      "text/html": [
       "<div>\n",
       "<style scoped>\n",
       "    .dataframe tbody tr th:only-of-type {\n",
       "        vertical-align: middle;\n",
       "    }\n",
       "\n",
       "    .dataframe tbody tr th {\n",
       "        vertical-align: top;\n",
       "    }\n",
       "\n",
       "    .dataframe thead th {\n",
       "        text-align: right;\n",
       "    }\n",
       "</style>\n",
       "<table border=\"1\" class=\"dataframe\">\n",
       "  <thead>\n",
       "    <tr style=\"text-align: right;\">\n",
       "      <th></th>\n",
       "      <th>Poblacion</th>\n",
       "      <th>Habitat</th>\n",
       "    </tr>\n",
       "  </thead>\n",
       "  <tbody>\n",
       "    <tr>\n",
       "      <th>count</th>\n",
       "      <td>13.000000</td>\n",
       "      <td>13</td>\n",
       "    </tr>\n",
       "    <tr>\n",
       "      <th>unique</th>\n",
       "      <td>NaN</td>\n",
       "      <td>6</td>\n",
       "    </tr>\n",
       "    <tr>\n",
       "      <th>top</th>\n",
       "      <td>NaN</td>\n",
       "      <td>Asia</td>\n",
       "    </tr>\n",
       "    <tr>\n",
       "      <th>freq</th>\n",
       "      <td>NaN</td>\n",
       "      <td>6</td>\n",
       "    </tr>\n",
       "    <tr>\n",
       "      <th>mean</th>\n",
       "      <td>778.692308</td>\n",
       "      <td>NaN</td>\n",
       "    </tr>\n",
       "    <tr>\n",
       "      <th>std</th>\n",
       "      <td>606.737640</td>\n",
       "      <td>NaN</td>\n",
       "    </tr>\n",
       "    <tr>\n",
       "      <th>min</th>\n",
       "      <td>30.000000</td>\n",
       "      <td>NaN</td>\n",
       "    </tr>\n",
       "    <tr>\n",
       "      <th>25%</th>\n",
       "      <td>85.000000</td>\n",
       "      <td>NaN</td>\n",
       "    </tr>\n",
       "    <tr>\n",
       "      <th>50%</th>\n",
       "      <td>800.000000</td>\n",
       "      <td>NaN</td>\n",
       "    </tr>\n",
       "    <tr>\n",
       "      <th>75%</th>\n",
       "      <td>1294.000000</td>\n",
       "      <td>NaN</td>\n",
       "    </tr>\n",
       "    <tr>\n",
       "      <th>max</th>\n",
       "      <td>1864.000000</td>\n",
       "      <td>NaN</td>\n",
       "    </tr>\n",
       "  </tbody>\n",
       "</table>\n",
       "</div>"
      ],
      "text/plain": [
       "          Poblacion Habitat\n",
       "count     13.000000      13\n",
       "unique          NaN       6\n",
       "top             NaN    Asia\n",
       "freq            NaN       6\n",
       "mean     778.692308     NaN\n",
       "std      606.737640     NaN\n",
       "min       30.000000     NaN\n",
       "25%       85.000000     NaN\n",
       "50%      800.000000     NaN\n",
       "75%     1294.000000     NaN\n",
       "max     1864.000000     NaN"
      ]
     },
     "execution_count": 267,
     "metadata": {},
     "output_type": "execute_result"
    }
   ],
   "source": [
    "df.describe(include=\"all\")"
   ]
  },
  {
   "cell_type": "markdown",
   "id": "6e0f0d76",
   "metadata": {},
   "source": [
    "### Concat\n",
    "\n",
    "La acción de concatenar dos matrices es la unión espacial entre ellas, sea en el eje 0 (vertical) o en el eje 1 (horizontal). "
   ]
  },
  {
   "cell_type": "code",
   "execution_count": 268,
   "id": "6810688e",
   "metadata": {},
   "outputs": [],
   "source": [
    "a = [[1,2,3],\n",
    "     [4,5,6],\n",
    "     [7,8,9]]\n",
    "b = [[\"🐼\",\"🐍\",\"🦔\"],\n",
    "     [\"🐸\",\"🐳\",\"🐶\"],\n",
    "     [\"🦉\",\"🐿\",\"🦥\"]]\n",
    "a,b = pd.DataFrame(a),pd.DataFrame(b)"
   ]
  },
  {
   "cell_type": "code",
   "execution_count": 269,
   "id": "931129b3",
   "metadata": {},
   "outputs": [
    {
     "data": {
      "text/html": [
       "<div>\n",
       "<style scoped>\n",
       "    .dataframe tbody tr th:only-of-type {\n",
       "        vertical-align: middle;\n",
       "    }\n",
       "\n",
       "    .dataframe tbody tr th {\n",
       "        vertical-align: top;\n",
       "    }\n",
       "\n",
       "    .dataframe thead th {\n",
       "        text-align: right;\n",
       "    }\n",
       "</style>\n",
       "<table border=\"1\" class=\"dataframe\">\n",
       "  <thead>\n",
       "    <tr style=\"text-align: right;\">\n",
       "      <th></th>\n",
       "      <th>0</th>\n",
       "      <th>1</th>\n",
       "      <th>2</th>\n",
       "    </tr>\n",
       "  </thead>\n",
       "  <tbody>\n",
       "    <tr>\n",
       "      <th>0</th>\n",
       "      <td>1</td>\n",
       "      <td>2</td>\n",
       "      <td>3</td>\n",
       "    </tr>\n",
       "    <tr>\n",
       "      <th>1</th>\n",
       "      <td>4</td>\n",
       "      <td>5</td>\n",
       "      <td>6</td>\n",
       "    </tr>\n",
       "    <tr>\n",
       "      <th>2</th>\n",
       "      <td>7</td>\n",
       "      <td>8</td>\n",
       "      <td>9</td>\n",
       "    </tr>\n",
       "  </tbody>\n",
       "</table>\n",
       "</div>"
      ],
      "text/plain": [
       "   0  1  2\n",
       "0  1  2  3\n",
       "1  4  5  6\n",
       "2  7  8  9"
      ]
     },
     "metadata": {},
     "output_type": "display_data"
    },
    {
     "data": {
      "text/html": [
       "<div>\n",
       "<style scoped>\n",
       "    .dataframe tbody tr th:only-of-type {\n",
       "        vertical-align: middle;\n",
       "    }\n",
       "\n",
       "    .dataframe tbody tr th {\n",
       "        vertical-align: top;\n",
       "    }\n",
       "\n",
       "    .dataframe thead th {\n",
       "        text-align: right;\n",
       "    }\n",
       "</style>\n",
       "<table border=\"1\" class=\"dataframe\">\n",
       "  <thead>\n",
       "    <tr style=\"text-align: right;\">\n",
       "      <th></th>\n",
       "      <th>0</th>\n",
       "      <th>1</th>\n",
       "      <th>2</th>\n",
       "    </tr>\n",
       "  </thead>\n",
       "  <tbody>\n",
       "    <tr>\n",
       "      <th>0</th>\n",
       "      <td>🐼</td>\n",
       "      <td>🐍</td>\n",
       "      <td>🦔</td>\n",
       "    </tr>\n",
       "    <tr>\n",
       "      <th>1</th>\n",
       "      <td>🐸</td>\n",
       "      <td>🐳</td>\n",
       "      <td>🐶</td>\n",
       "    </tr>\n",
       "    <tr>\n",
       "      <th>2</th>\n",
       "      <td>🦉</td>\n",
       "      <td>🐿</td>\n",
       "      <td>🦥</td>\n",
       "    </tr>\n",
       "  </tbody>\n",
       "</table>\n",
       "</div>"
      ],
      "text/plain": [
       "   0  1  2\n",
       "0  🐼  🐍  🦔\n",
       "1  🐸  🐳  🐶\n",
       "2  🦉  🐿  🦥"
      ]
     },
     "metadata": {},
     "output_type": "display_data"
    }
   ],
   "source": [
    "display(a)\n",
    "display(b)"
   ]
  },
  {
   "cell_type": "code",
   "execution_count": 271,
   "id": "3f80a232",
   "metadata": {},
   "outputs": [
    {
     "data": {
      "text/html": [
       "<div>\n",
       "<style scoped>\n",
       "    .dataframe tbody tr th:only-of-type {\n",
       "        vertical-align: middle;\n",
       "    }\n",
       "\n",
       "    .dataframe tbody tr th {\n",
       "        vertical-align: top;\n",
       "    }\n",
       "\n",
       "    .dataframe thead th {\n",
       "        text-align: right;\n",
       "    }\n",
       "</style>\n",
       "<table border=\"1\" class=\"dataframe\">\n",
       "  <thead>\n",
       "    <tr style=\"text-align: right;\">\n",
       "      <th></th>\n",
       "      <th>0</th>\n",
       "      <th>1</th>\n",
       "      <th>2</th>\n",
       "    </tr>\n",
       "  </thead>\n",
       "  <tbody>\n",
       "    <tr>\n",
       "      <th>0</th>\n",
       "      <td>1</td>\n",
       "      <td>2</td>\n",
       "      <td>3</td>\n",
       "    </tr>\n",
       "    <tr>\n",
       "      <th>1</th>\n",
       "      <td>4</td>\n",
       "      <td>5</td>\n",
       "      <td>6</td>\n",
       "    </tr>\n",
       "    <tr>\n",
       "      <th>2</th>\n",
       "      <td>7</td>\n",
       "      <td>8</td>\n",
       "      <td>9</td>\n",
       "    </tr>\n",
       "    <tr>\n",
       "      <th>0</th>\n",
       "      <td>🐼</td>\n",
       "      <td>🐍</td>\n",
       "      <td>🦔</td>\n",
       "    </tr>\n",
       "    <tr>\n",
       "      <th>1</th>\n",
       "      <td>🐸</td>\n",
       "      <td>🐳</td>\n",
       "      <td>🐶</td>\n",
       "    </tr>\n",
       "    <tr>\n",
       "      <th>2</th>\n",
       "      <td>🦉</td>\n",
       "      <td>🐿</td>\n",
       "      <td>🦥</td>\n",
       "    </tr>\n",
       "  </tbody>\n",
       "</table>\n",
       "</div>"
      ],
      "text/plain": [
       "   0  1  2\n",
       "0  1  2  3\n",
       "1  4  5  6\n",
       "2  7  8  9\n",
       "0  🐼  🐍  🦔\n",
       "1  🐸  🐳  🐶\n",
       "2  🦉  🐿  🦥"
      ]
     },
     "execution_count": 271,
     "metadata": {},
     "output_type": "execute_result"
    }
   ],
   "source": [
    "pd.concat([a,b])"
   ]
  },
  {
   "cell_type": "code",
   "execution_count": 272,
   "id": "43c7c051",
   "metadata": {},
   "outputs": [
    {
     "data": {
      "text/html": [
       "<div>\n",
       "<style scoped>\n",
       "    .dataframe tbody tr th:only-of-type {\n",
       "        vertical-align: middle;\n",
       "    }\n",
       "\n",
       "    .dataframe tbody tr th {\n",
       "        vertical-align: top;\n",
       "    }\n",
       "\n",
       "    .dataframe thead th {\n",
       "        text-align: right;\n",
       "    }\n",
       "</style>\n",
       "<table border=\"1\" class=\"dataframe\">\n",
       "  <thead>\n",
       "    <tr style=\"text-align: right;\">\n",
       "      <th></th>\n",
       "      <th>0</th>\n",
       "      <th>1</th>\n",
       "      <th>2</th>\n",
       "    </tr>\n",
       "  </thead>\n",
       "  <tbody>\n",
       "    <tr>\n",
       "      <th>0</th>\n",
       "      <td>1</td>\n",
       "      <td>2</td>\n",
       "      <td>3</td>\n",
       "    </tr>\n",
       "    <tr>\n",
       "      <th>1</th>\n",
       "      <td>4</td>\n",
       "      <td>5</td>\n",
       "      <td>6</td>\n",
       "    </tr>\n",
       "    <tr>\n",
       "      <th>2</th>\n",
       "      <td>7</td>\n",
       "      <td>8</td>\n",
       "      <td>9</td>\n",
       "    </tr>\n",
       "    <tr>\n",
       "      <th>3</th>\n",
       "      <td>🐼</td>\n",
       "      <td>🐍</td>\n",
       "      <td>🦔</td>\n",
       "    </tr>\n",
       "    <tr>\n",
       "      <th>4</th>\n",
       "      <td>🐸</td>\n",
       "      <td>🐳</td>\n",
       "      <td>🐶</td>\n",
       "    </tr>\n",
       "    <tr>\n",
       "      <th>5</th>\n",
       "      <td>🦉</td>\n",
       "      <td>🐿</td>\n",
       "      <td>🦥</td>\n",
       "    </tr>\n",
       "  </tbody>\n",
       "</table>\n",
       "</div>"
      ],
      "text/plain": [
       "   0  1  2\n",
       "0  1  2  3\n",
       "1  4  5  6\n",
       "2  7  8  9\n",
       "3  🐼  🐍  🦔\n",
       "4  🐸  🐳  🐶\n",
       "5  🦉  🐿  🦥"
      ]
     },
     "execution_count": 272,
     "metadata": {},
     "output_type": "execute_result"
    }
   ],
   "source": [
    "pd.concat([a,b], ignore_index=True)"
   ]
  },
  {
   "cell_type": "code",
   "execution_count": 274,
   "id": "3da5ea67",
   "metadata": {},
   "outputs": [
    {
     "data": {
      "text/html": [
       "<div>\n",
       "<style scoped>\n",
       "    .dataframe tbody tr th:only-of-type {\n",
       "        vertical-align: middle;\n",
       "    }\n",
       "\n",
       "    .dataframe tbody tr th {\n",
       "        vertical-align: top;\n",
       "    }\n",
       "\n",
       "    .dataframe thead th {\n",
       "        text-align: right;\n",
       "    }\n",
       "</style>\n",
       "<table border=\"1\" class=\"dataframe\">\n",
       "  <thead>\n",
       "    <tr style=\"text-align: right;\">\n",
       "      <th></th>\n",
       "      <th>0</th>\n",
       "      <th>1</th>\n",
       "      <th>2</th>\n",
       "      <th>3</th>\n",
       "      <th>4</th>\n",
       "      <th>5</th>\n",
       "    </tr>\n",
       "  </thead>\n",
       "  <tbody>\n",
       "    <tr>\n",
       "      <th>0</th>\n",
       "      <td>1</td>\n",
       "      <td>2</td>\n",
       "      <td>3</td>\n",
       "      <td>🐼</td>\n",
       "      <td>🐍</td>\n",
       "      <td>🦔</td>\n",
       "    </tr>\n",
       "    <tr>\n",
       "      <th>1</th>\n",
       "      <td>4</td>\n",
       "      <td>5</td>\n",
       "      <td>6</td>\n",
       "      <td>🐸</td>\n",
       "      <td>🐳</td>\n",
       "      <td>🐶</td>\n",
       "    </tr>\n",
       "    <tr>\n",
       "      <th>2</th>\n",
       "      <td>7</td>\n",
       "      <td>8</td>\n",
       "      <td>9</td>\n",
       "      <td>🦉</td>\n",
       "      <td>🐿</td>\n",
       "      <td>🦥</td>\n",
       "    </tr>\n",
       "  </tbody>\n",
       "</table>\n",
       "</div>"
      ],
      "text/plain": [
       "   0  1  2  3  4  5\n",
       "0  1  2  3  🐼  🐍  🦔\n",
       "1  4  5  6  🐸  🐳  🐶\n",
       "2  7  8  9  🦉  🐿  🦥"
      ]
     },
     "execution_count": 274,
     "metadata": {},
     "output_type": "execute_result"
    }
   ],
   "source": [
    "pd.concat([a,b], axis=1, ignore_index=True)"
   ]
  },
  {
   "cell_type": "markdown",
   "id": "2b2d6e37",
   "metadata": {},
   "source": [
    "En el caso de que columnas o filas compartan nombre entre los dos DataFrames, esas filas o columnas (segun el eje en que se concatene) coinciran en el resultado final. Pero en el otro eje, no habrá coincidencia y podemos tener indexes o columnas repetidos."
   ]
  },
  {
   "cell_type": "code",
   "execution_count": 275,
   "id": "f4fa4fd0",
   "metadata": {},
   "outputs": [
    {
     "data": {
      "text/html": [
       "<div>\n",
       "<style scoped>\n",
       "    .dataframe tbody tr th:only-of-type {\n",
       "        vertical-align: middle;\n",
       "    }\n",
       "\n",
       "    .dataframe tbody tr th {\n",
       "        vertical-align: top;\n",
       "    }\n",
       "\n",
       "    .dataframe thead th {\n",
       "        text-align: right;\n",
       "    }\n",
       "</style>\n",
       "<table border=\"1\" class=\"dataframe\">\n",
       "  <thead>\n",
       "    <tr style=\"text-align: right;\">\n",
       "      <th></th>\n",
       "      <th>0</th>\n",
       "      <th>1</th>\n",
       "      <th>2</th>\n",
       "    </tr>\n",
       "  </thead>\n",
       "  <tbody>\n",
       "    <tr>\n",
       "      <th>0</th>\n",
       "      <td>1</td>\n",
       "      <td>2</td>\n",
       "      <td>3</td>\n",
       "    </tr>\n",
       "    <tr>\n",
       "      <th>1</th>\n",
       "      <td>4</td>\n",
       "      <td>5</td>\n",
       "      <td>6</td>\n",
       "    </tr>\n",
       "    <tr>\n",
       "      <th>2</th>\n",
       "      <td>7</td>\n",
       "      <td>8</td>\n",
       "      <td>9</td>\n",
       "    </tr>\n",
       "  </tbody>\n",
       "</table>\n",
       "</div>"
      ],
      "text/plain": [
       "   0  1  2\n",
       "0  1  2  3\n",
       "1  4  5  6\n",
       "2  7  8  9"
      ]
     },
     "metadata": {},
     "output_type": "display_data"
    },
    {
     "data": {
      "text/html": [
       "<div>\n",
       "<style scoped>\n",
       "    .dataframe tbody tr th:only-of-type {\n",
       "        vertical-align: middle;\n",
       "    }\n",
       "\n",
       "    .dataframe tbody tr th {\n",
       "        vertical-align: top;\n",
       "    }\n",
       "\n",
       "    .dataframe thead th {\n",
       "        text-align: right;\n",
       "    }\n",
       "</style>\n",
       "<table border=\"1\" class=\"dataframe\">\n",
       "  <thead>\n",
       "    <tr style=\"text-align: right;\">\n",
       "      <th></th>\n",
       "      <th>3</th>\n",
       "      <th>2</th>\n",
       "      <th>1</th>\n",
       "    </tr>\n",
       "  </thead>\n",
       "  <tbody>\n",
       "    <tr>\n",
       "      <th>3</th>\n",
       "      <td>🐼</td>\n",
       "      <td>🐍</td>\n",
       "      <td>🦔</td>\n",
       "    </tr>\n",
       "    <tr>\n",
       "      <th>2</th>\n",
       "      <td>🐸</td>\n",
       "      <td>🐳</td>\n",
       "      <td>🐶</td>\n",
       "    </tr>\n",
       "    <tr>\n",
       "      <th>1</th>\n",
       "      <td>🦉</td>\n",
       "      <td>🐿</td>\n",
       "      <td>🦥</td>\n",
       "    </tr>\n",
       "  </tbody>\n",
       "</table>\n",
       "</div>"
      ],
      "text/plain": [
       "   3  2  1\n",
       "3  🐼  🐍  🦔\n",
       "2  🐸  🐳  🐶\n",
       "1  🦉  🐿  🦥"
      ]
     },
     "metadata": {},
     "output_type": "display_data"
    }
   ],
   "source": [
    "b.columns = b.index = [3,2,1]\n",
    "display(a)\n",
    "display(b)"
   ]
  },
  {
   "cell_type": "code",
   "execution_count": 276,
   "id": "6e3941ef",
   "metadata": {},
   "outputs": [
    {
     "data": {
      "text/html": [
       "<div>\n",
       "<style scoped>\n",
       "    .dataframe tbody tr th:only-of-type {\n",
       "        vertical-align: middle;\n",
       "    }\n",
       "\n",
       "    .dataframe tbody tr th {\n",
       "        vertical-align: top;\n",
       "    }\n",
       "\n",
       "    .dataframe thead th {\n",
       "        text-align: right;\n",
       "    }\n",
       "</style>\n",
       "<table border=\"1\" class=\"dataframe\">\n",
       "  <thead>\n",
       "    <tr style=\"text-align: right;\">\n",
       "      <th></th>\n",
       "      <th>0</th>\n",
       "      <th>1</th>\n",
       "      <th>2</th>\n",
       "      <th>3</th>\n",
       "    </tr>\n",
       "  </thead>\n",
       "  <tbody>\n",
       "    <tr>\n",
       "      <th>0</th>\n",
       "      <td>1.0</td>\n",
       "      <td>2</td>\n",
       "      <td>3</td>\n",
       "      <td>NaN</td>\n",
       "    </tr>\n",
       "    <tr>\n",
       "      <th>1</th>\n",
       "      <td>4.0</td>\n",
       "      <td>5</td>\n",
       "      <td>6</td>\n",
       "      <td>NaN</td>\n",
       "    </tr>\n",
       "    <tr>\n",
       "      <th>2</th>\n",
       "      <td>7.0</td>\n",
       "      <td>8</td>\n",
       "      <td>9</td>\n",
       "      <td>NaN</td>\n",
       "    </tr>\n",
       "    <tr>\n",
       "      <th>3</th>\n",
       "      <td>NaN</td>\n",
       "      <td>🦔</td>\n",
       "      <td>🐍</td>\n",
       "      <td>🐼</td>\n",
       "    </tr>\n",
       "    <tr>\n",
       "      <th>2</th>\n",
       "      <td>NaN</td>\n",
       "      <td>🐶</td>\n",
       "      <td>🐳</td>\n",
       "      <td>🐸</td>\n",
       "    </tr>\n",
       "    <tr>\n",
       "      <th>1</th>\n",
       "      <td>NaN</td>\n",
       "      <td>🦥</td>\n",
       "      <td>🐿</td>\n",
       "      <td>🦉</td>\n",
       "    </tr>\n",
       "  </tbody>\n",
       "</table>\n",
       "</div>"
      ],
      "text/plain": [
       "     0  1  2    3\n",
       "0  1.0  2  3  NaN\n",
       "1  4.0  5  6  NaN\n",
       "2  7.0  8  9  NaN\n",
       "3  NaN  🦔  🐍    🐼\n",
       "2  NaN  🐶  🐳    🐸\n",
       "1  NaN  🦥  🐿    🦉"
      ]
     },
     "execution_count": 276,
     "metadata": {},
     "output_type": "execute_result"
    }
   ],
   "source": [
    "pd.concat([a,b])"
   ]
  },
  {
   "cell_type": "code",
   "execution_count": 277,
   "id": "4b95f4aa",
   "metadata": {},
   "outputs": [
    {
     "data": {
      "text/html": [
       "<div>\n",
       "<style scoped>\n",
       "    .dataframe tbody tr th:only-of-type {\n",
       "        vertical-align: middle;\n",
       "    }\n",
       "\n",
       "    .dataframe tbody tr th {\n",
       "        vertical-align: top;\n",
       "    }\n",
       "\n",
       "    .dataframe thead th {\n",
       "        text-align: right;\n",
       "    }\n",
       "</style>\n",
       "<table border=\"1\" class=\"dataframe\">\n",
       "  <thead>\n",
       "    <tr style=\"text-align: right;\">\n",
       "      <th></th>\n",
       "      <th>0</th>\n",
       "      <th>1</th>\n",
       "      <th>2</th>\n",
       "      <th>3</th>\n",
       "      <th>2</th>\n",
       "      <th>1</th>\n",
       "    </tr>\n",
       "  </thead>\n",
       "  <tbody>\n",
       "    <tr>\n",
       "      <th>0</th>\n",
       "      <td>1.0</td>\n",
       "      <td>2.0</td>\n",
       "      <td>3.0</td>\n",
       "      <td>NaN</td>\n",
       "      <td>NaN</td>\n",
       "      <td>NaN</td>\n",
       "    </tr>\n",
       "    <tr>\n",
       "      <th>1</th>\n",
       "      <td>4.0</td>\n",
       "      <td>5.0</td>\n",
       "      <td>6.0</td>\n",
       "      <td>🦉</td>\n",
       "      <td>🐿</td>\n",
       "      <td>🦥</td>\n",
       "    </tr>\n",
       "    <tr>\n",
       "      <th>2</th>\n",
       "      <td>7.0</td>\n",
       "      <td>8.0</td>\n",
       "      <td>9.0</td>\n",
       "      <td>🐸</td>\n",
       "      <td>🐳</td>\n",
       "      <td>🐶</td>\n",
       "    </tr>\n",
       "    <tr>\n",
       "      <th>3</th>\n",
       "      <td>NaN</td>\n",
       "      <td>NaN</td>\n",
       "      <td>NaN</td>\n",
       "      <td>🐼</td>\n",
       "      <td>🐍</td>\n",
       "      <td>🦔</td>\n",
       "    </tr>\n",
       "  </tbody>\n",
       "</table>\n",
       "</div>"
      ],
      "text/plain": [
       "     0    1    2    3    2    1\n",
       "0  1.0  2.0  3.0  NaN  NaN  NaN\n",
       "1  4.0  5.0  6.0    🦉    🐿    🦥\n",
       "2  7.0  8.0  9.0    🐸    🐳    🐶\n",
       "3  NaN  NaN  NaN    🐼    🐍    🦔"
      ]
     },
     "execution_count": 277,
     "metadata": {},
     "output_type": "execute_result"
    }
   ],
   "source": [
    "pd.concat([a,b], axis=1)"
   ]
  },
  {
   "cell_type": "markdown",
   "id": "ec2aac6c",
   "metadata": {},
   "source": [
    "### Merge\n",
    "\n",
    "El merge en pandas es como el `JOIN` en SQL, una unión con una lógica. Eligiremos una columna para el df `left` y otra para el df `right`. Los tipos de merge siguen la misma nomenclatura de SQL.\n",
    "\n",
    "Para ese tipo de operación no hay parámetro `axis`, al final se supone que estamos uniendo atributos de entidades con alguna relación."
   ]
  },
  {
   "cell_type": "code",
   "execution_count": 278,
   "id": "e917b2f5",
   "metadata": {},
   "outputs": [
    {
     "data": {
      "text/html": [
       "<div>\n",
       "<style scoped>\n",
       "    .dataframe tbody tr th:only-of-type {\n",
       "        vertical-align: middle;\n",
       "    }\n",
       "\n",
       "    .dataframe tbody tr th {\n",
       "        vertical-align: top;\n",
       "    }\n",
       "\n",
       "    .dataframe thead th {\n",
       "        text-align: right;\n",
       "    }\n",
       "</style>\n",
       "<table border=\"1\" class=\"dataframe\">\n",
       "  <thead>\n",
       "    <tr style=\"text-align: right;\">\n",
       "      <th></th>\n",
       "      <th>0</th>\n",
       "      <th>1</th>\n",
       "      <th>2</th>\n",
       "      <th>common</th>\n",
       "    </tr>\n",
       "  </thead>\n",
       "  <tbody>\n",
       "    <tr>\n",
       "      <th>0</th>\n",
       "      <td>1</td>\n",
       "      <td>2</td>\n",
       "      <td>3</td>\n",
       "      <td>0</td>\n",
       "    </tr>\n",
       "    <tr>\n",
       "      <th>1</th>\n",
       "      <td>4</td>\n",
       "      <td>5</td>\n",
       "      <td>6</td>\n",
       "      <td>1</td>\n",
       "    </tr>\n",
       "    <tr>\n",
       "      <th>2</th>\n",
       "      <td>7</td>\n",
       "      <td>8</td>\n",
       "      <td>9</td>\n",
       "      <td>2</td>\n",
       "    </tr>\n",
       "  </tbody>\n",
       "</table>\n",
       "</div>"
      ],
      "text/plain": [
       "   0  1  2  common\n",
       "0  1  2  3       0\n",
       "1  4  5  6       1\n",
       "2  7  8  9       2"
      ]
     },
     "metadata": {},
     "output_type": "display_data"
    },
    {
     "data": {
      "text/html": [
       "<div>\n",
       "<style scoped>\n",
       "    .dataframe tbody tr th:only-of-type {\n",
       "        vertical-align: middle;\n",
       "    }\n",
       "\n",
       "    .dataframe tbody tr th {\n",
       "        vertical-align: top;\n",
       "    }\n",
       "\n",
       "    .dataframe thead th {\n",
       "        text-align: right;\n",
       "    }\n",
       "</style>\n",
       "<table border=\"1\" class=\"dataframe\">\n",
       "  <thead>\n",
       "    <tr style=\"text-align: right;\">\n",
       "      <th></th>\n",
       "      <th>3</th>\n",
       "      <th>2</th>\n",
       "      <th>1</th>\n",
       "      <th>ground</th>\n",
       "    </tr>\n",
       "  </thead>\n",
       "  <tbody>\n",
       "    <tr>\n",
       "      <th>3</th>\n",
       "      <td>🐼</td>\n",
       "      <td>🐍</td>\n",
       "      <td>🦔</td>\n",
       "      <td>2</td>\n",
       "    </tr>\n",
       "    <tr>\n",
       "      <th>2</th>\n",
       "      <td>🐸</td>\n",
       "      <td>🐳</td>\n",
       "      <td>🐶</td>\n",
       "      <td>3</td>\n",
       "    </tr>\n",
       "    <tr>\n",
       "      <th>1</th>\n",
       "      <td>🦉</td>\n",
       "      <td>🐿</td>\n",
       "      <td>🦥</td>\n",
       "      <td>4</td>\n",
       "    </tr>\n",
       "  </tbody>\n",
       "</table>\n",
       "</div>"
      ],
      "text/plain": [
       "   3  2  1  ground\n",
       "3  🐼  🐍  🦔       2\n",
       "2  🐸  🐳  🐶       3\n",
       "1  🦉  🐿  🦥       4"
      ]
     },
     "metadata": {},
     "output_type": "display_data"
    }
   ],
   "source": [
    "a[\"common\"] = [0,1,2]\n",
    "b[\"ground\"] = [2,3,4]\n",
    "display(a)\n",
    "display(b)"
   ]
  },
  {
   "cell_type": "code",
   "execution_count": 279,
   "id": "7acb1eea",
   "metadata": {},
   "outputs": [
    {
     "data": {
      "text/html": [
       "<div>\n",
       "<style scoped>\n",
       "    .dataframe tbody tr th:only-of-type {\n",
       "        vertical-align: middle;\n",
       "    }\n",
       "\n",
       "    .dataframe tbody tr th {\n",
       "        vertical-align: top;\n",
       "    }\n",
       "\n",
       "    .dataframe thead th {\n",
       "        text-align: right;\n",
       "    }\n",
       "</style>\n",
       "<table border=\"1\" class=\"dataframe\">\n",
       "  <thead>\n",
       "    <tr style=\"text-align: right;\">\n",
       "      <th></th>\n",
       "      <th>0</th>\n",
       "      <th>1_x</th>\n",
       "      <th>2_x</th>\n",
       "      <th>common</th>\n",
       "      <th>3</th>\n",
       "      <th>2_y</th>\n",
       "      <th>1_y</th>\n",
       "      <th>ground</th>\n",
       "    </tr>\n",
       "  </thead>\n",
       "  <tbody>\n",
       "    <tr>\n",
       "      <th>0</th>\n",
       "      <td>7</td>\n",
       "      <td>8</td>\n",
       "      <td>9</td>\n",
       "      <td>2</td>\n",
       "      <td>🐼</td>\n",
       "      <td>🐍</td>\n",
       "      <td>🦔</td>\n",
       "      <td>2</td>\n",
       "    </tr>\n",
       "  </tbody>\n",
       "</table>\n",
       "</div>"
      ],
      "text/plain": [
       "   0  1_x  2_x  common  3 2_y 1_y  ground\n",
       "0  7    8    9       2  🐼   🐍   🦔       2"
      ]
     },
     "execution_count": 279,
     "metadata": {},
     "output_type": "execute_result"
    }
   ],
   "source": [
    "a.merge(b, left_on=\"common\", right_on=\"ground\")"
   ]
  },
  {
   "cell_type": "code",
   "execution_count": 280,
   "id": "5c3ba67f",
   "metadata": {},
   "outputs": [
    {
     "name": "stdout",
     "output_type": "stream",
     "text": [
      "~~~~~~~~~~~~INNER~~~~~~~~~~~~~\n"
     ]
    },
    {
     "data": {
      "text/html": [
       "<div>\n",
       "<style scoped>\n",
       "    .dataframe tbody tr th:only-of-type {\n",
       "        vertical-align: middle;\n",
       "    }\n",
       "\n",
       "    .dataframe tbody tr th {\n",
       "        vertical-align: top;\n",
       "    }\n",
       "\n",
       "    .dataframe thead th {\n",
       "        text-align: right;\n",
       "    }\n",
       "</style>\n",
       "<table border=\"1\" class=\"dataframe\">\n",
       "  <thead>\n",
       "    <tr style=\"text-align: right;\">\n",
       "      <th></th>\n",
       "      <th>0</th>\n",
       "      <th>1_x</th>\n",
       "      <th>2_x</th>\n",
       "      <th>common</th>\n",
       "      <th>3</th>\n",
       "      <th>2_y</th>\n",
       "      <th>1_y</th>\n",
       "      <th>ground</th>\n",
       "    </tr>\n",
       "  </thead>\n",
       "  <tbody>\n",
       "    <tr>\n",
       "      <th>0</th>\n",
       "      <td>7</td>\n",
       "      <td>8</td>\n",
       "      <td>9</td>\n",
       "      <td>2</td>\n",
       "      <td>🐼</td>\n",
       "      <td>🐍</td>\n",
       "      <td>🦔</td>\n",
       "      <td>2</td>\n",
       "    </tr>\n",
       "  </tbody>\n",
       "</table>\n",
       "</div>"
      ],
      "text/plain": [
       "   0  1_x  2_x  common  3 2_y 1_y  ground\n",
       "0  7    8    9       2  🐼   🐍   🦔       2"
      ]
     },
     "metadata": {},
     "output_type": "display_data"
    },
    {
     "name": "stdout",
     "output_type": "stream",
     "text": [
      "~~~~~~~~~~~~~LEFT~~~~~~~~~~~~~\n"
     ]
    },
    {
     "data": {
      "text/html": [
       "<div>\n",
       "<style scoped>\n",
       "    .dataframe tbody tr th:only-of-type {\n",
       "        vertical-align: middle;\n",
       "    }\n",
       "\n",
       "    .dataframe tbody tr th {\n",
       "        vertical-align: top;\n",
       "    }\n",
       "\n",
       "    .dataframe thead th {\n",
       "        text-align: right;\n",
       "    }\n",
       "</style>\n",
       "<table border=\"1\" class=\"dataframe\">\n",
       "  <thead>\n",
       "    <tr style=\"text-align: right;\">\n",
       "      <th></th>\n",
       "      <th>0</th>\n",
       "      <th>1_x</th>\n",
       "      <th>2_x</th>\n",
       "      <th>common</th>\n",
       "      <th>3</th>\n",
       "      <th>2_y</th>\n",
       "      <th>1_y</th>\n",
       "      <th>ground</th>\n",
       "    </tr>\n",
       "  </thead>\n",
       "  <tbody>\n",
       "    <tr>\n",
       "      <th>0</th>\n",
       "      <td>1</td>\n",
       "      <td>2</td>\n",
       "      <td>3</td>\n",
       "      <td>0</td>\n",
       "      <td>NaN</td>\n",
       "      <td>NaN</td>\n",
       "      <td>NaN</td>\n",
       "      <td>NaN</td>\n",
       "    </tr>\n",
       "    <tr>\n",
       "      <th>1</th>\n",
       "      <td>4</td>\n",
       "      <td>5</td>\n",
       "      <td>6</td>\n",
       "      <td>1</td>\n",
       "      <td>NaN</td>\n",
       "      <td>NaN</td>\n",
       "      <td>NaN</td>\n",
       "      <td>NaN</td>\n",
       "    </tr>\n",
       "    <tr>\n",
       "      <th>2</th>\n",
       "      <td>7</td>\n",
       "      <td>8</td>\n",
       "      <td>9</td>\n",
       "      <td>2</td>\n",
       "      <td>🐼</td>\n",
       "      <td>🐍</td>\n",
       "      <td>🦔</td>\n",
       "      <td>2.0</td>\n",
       "    </tr>\n",
       "  </tbody>\n",
       "</table>\n",
       "</div>"
      ],
      "text/plain": [
       "   0  1_x  2_x  common    3  2_y  1_y  ground\n",
       "0  1    2    3       0  NaN  NaN  NaN     NaN\n",
       "1  4    5    6       1  NaN  NaN  NaN     NaN\n",
       "2  7    8    9       2    🐼    🐍    🦔     2.0"
      ]
     },
     "metadata": {},
     "output_type": "display_data"
    },
    {
     "name": "stdout",
     "output_type": "stream",
     "text": [
      "~~~~~~~~~~~~RIGHT~~~~~~~~~~~~~\n"
     ]
    },
    {
     "data": {
      "text/html": [
       "<div>\n",
       "<style scoped>\n",
       "    .dataframe tbody tr th:only-of-type {\n",
       "        vertical-align: middle;\n",
       "    }\n",
       "\n",
       "    .dataframe tbody tr th {\n",
       "        vertical-align: top;\n",
       "    }\n",
       "\n",
       "    .dataframe thead th {\n",
       "        text-align: right;\n",
       "    }\n",
       "</style>\n",
       "<table border=\"1\" class=\"dataframe\">\n",
       "  <thead>\n",
       "    <tr style=\"text-align: right;\">\n",
       "      <th></th>\n",
       "      <th>0</th>\n",
       "      <th>1_x</th>\n",
       "      <th>2_x</th>\n",
       "      <th>common</th>\n",
       "      <th>3</th>\n",
       "      <th>2_y</th>\n",
       "      <th>1_y</th>\n",
       "      <th>ground</th>\n",
       "    </tr>\n",
       "  </thead>\n",
       "  <tbody>\n",
       "    <tr>\n",
       "      <th>0</th>\n",
       "      <td>7.0</td>\n",
       "      <td>8.0</td>\n",
       "      <td>9.0</td>\n",
       "      <td>2.0</td>\n",
       "      <td>🐼</td>\n",
       "      <td>🐍</td>\n",
       "      <td>🦔</td>\n",
       "      <td>2</td>\n",
       "    </tr>\n",
       "    <tr>\n",
       "      <th>1</th>\n",
       "      <td>NaN</td>\n",
       "      <td>NaN</td>\n",
       "      <td>NaN</td>\n",
       "      <td>NaN</td>\n",
       "      <td>🐸</td>\n",
       "      <td>🐳</td>\n",
       "      <td>🐶</td>\n",
       "      <td>3</td>\n",
       "    </tr>\n",
       "    <tr>\n",
       "      <th>2</th>\n",
       "      <td>NaN</td>\n",
       "      <td>NaN</td>\n",
       "      <td>NaN</td>\n",
       "      <td>NaN</td>\n",
       "      <td>🦉</td>\n",
       "      <td>🐿</td>\n",
       "      <td>🦥</td>\n",
       "      <td>4</td>\n",
       "    </tr>\n",
       "  </tbody>\n",
       "</table>\n",
       "</div>"
      ],
      "text/plain": [
       "     0  1_x  2_x  common  3 2_y 1_y  ground\n",
       "0  7.0  8.0  9.0     2.0  🐼   🐍   🦔       2\n",
       "1  NaN  NaN  NaN     NaN  🐸   🐳   🐶       3\n",
       "2  NaN  NaN  NaN     NaN  🦉   🐿   🦥       4"
      ]
     },
     "metadata": {},
     "output_type": "display_data"
    },
    {
     "name": "stdout",
     "output_type": "stream",
     "text": [
      "~~~~~~~~~~~~OUTER~~~~~~~~~~~~~\n"
     ]
    },
    {
     "data": {
      "text/html": [
       "<div>\n",
       "<style scoped>\n",
       "    .dataframe tbody tr th:only-of-type {\n",
       "        vertical-align: middle;\n",
       "    }\n",
       "\n",
       "    .dataframe tbody tr th {\n",
       "        vertical-align: top;\n",
       "    }\n",
       "\n",
       "    .dataframe thead th {\n",
       "        text-align: right;\n",
       "    }\n",
       "</style>\n",
       "<table border=\"1\" class=\"dataframe\">\n",
       "  <thead>\n",
       "    <tr style=\"text-align: right;\">\n",
       "      <th></th>\n",
       "      <th>0</th>\n",
       "      <th>1_x</th>\n",
       "      <th>2_x</th>\n",
       "      <th>common</th>\n",
       "      <th>3</th>\n",
       "      <th>2_y</th>\n",
       "      <th>1_y</th>\n",
       "      <th>ground</th>\n",
       "    </tr>\n",
       "  </thead>\n",
       "  <tbody>\n",
       "    <tr>\n",
       "      <th>0</th>\n",
       "      <td>1.0</td>\n",
       "      <td>2.0</td>\n",
       "      <td>3.0</td>\n",
       "      <td>0.0</td>\n",
       "      <td>NaN</td>\n",
       "      <td>NaN</td>\n",
       "      <td>NaN</td>\n",
       "      <td>NaN</td>\n",
       "    </tr>\n",
       "    <tr>\n",
       "      <th>1</th>\n",
       "      <td>4.0</td>\n",
       "      <td>5.0</td>\n",
       "      <td>6.0</td>\n",
       "      <td>1.0</td>\n",
       "      <td>NaN</td>\n",
       "      <td>NaN</td>\n",
       "      <td>NaN</td>\n",
       "      <td>NaN</td>\n",
       "    </tr>\n",
       "    <tr>\n",
       "      <th>2</th>\n",
       "      <td>7.0</td>\n",
       "      <td>8.0</td>\n",
       "      <td>9.0</td>\n",
       "      <td>2.0</td>\n",
       "      <td>🐼</td>\n",
       "      <td>🐍</td>\n",
       "      <td>🦔</td>\n",
       "      <td>2.0</td>\n",
       "    </tr>\n",
       "    <tr>\n",
       "      <th>3</th>\n",
       "      <td>NaN</td>\n",
       "      <td>NaN</td>\n",
       "      <td>NaN</td>\n",
       "      <td>NaN</td>\n",
       "      <td>🐸</td>\n",
       "      <td>🐳</td>\n",
       "      <td>🐶</td>\n",
       "      <td>3.0</td>\n",
       "    </tr>\n",
       "    <tr>\n",
       "      <th>4</th>\n",
       "      <td>NaN</td>\n",
       "      <td>NaN</td>\n",
       "      <td>NaN</td>\n",
       "      <td>NaN</td>\n",
       "      <td>🦉</td>\n",
       "      <td>🐿</td>\n",
       "      <td>🦥</td>\n",
       "      <td>4.0</td>\n",
       "    </tr>\n",
       "  </tbody>\n",
       "</table>\n",
       "</div>"
      ],
      "text/plain": [
       "     0  1_x  2_x  common    3  2_y  1_y  ground\n",
       "0  1.0  2.0  3.0     0.0  NaN  NaN  NaN     NaN\n",
       "1  4.0  5.0  6.0     1.0  NaN  NaN  NaN     NaN\n",
       "2  7.0  8.0  9.0     2.0    🐼    🐍    🦔     2.0\n",
       "3  NaN  NaN  NaN     NaN    🐸    🐳    🐶     3.0\n",
       "4  NaN  NaN  NaN     NaN    🦉    🐿    🦥     4.0"
      ]
     },
     "metadata": {},
     "output_type": "display_data"
    }
   ],
   "source": [
    "for how in [\"inner\",\"left\",\"right\",\"outer\"]:\n",
    "    print(how.upper().center(30,\"~\"))\n",
    "    display(a.merge(b, left_on=\"common\", right_on=\"ground\", how=how))"
   ]
  },
  {
   "cell_type": "markdown",
   "id": "7b1c3024",
   "metadata": {},
   "source": [
    "## Join\n",
    "\n",
    "La funcionalidad del join es muy parecida a la del merge, con dos excepciones:\n",
    "- Puedes hacer un join con más de 2 DataFrames de una sola vez (si uniendo por los index)\n",
    "- La columna en comun de los diferentes DataFrames deben tener el mismo nombre (solo 2 DataFrames)"
   ]
  },
  {
   "cell_type": "code",
   "execution_count": 281,
   "id": "487831e6",
   "metadata": {},
   "outputs": [
    {
     "data": {
      "text/html": [
       "<div>\n",
       "<style scoped>\n",
       "    .dataframe tbody tr th:only-of-type {\n",
       "        vertical-align: middle;\n",
       "    }\n",
       "\n",
       "    .dataframe tbody tr th {\n",
       "        vertical-align: top;\n",
       "    }\n",
       "\n",
       "    .dataframe thead th {\n",
       "        text-align: right;\n",
       "    }\n",
       "</style>\n",
       "<table border=\"1\" class=\"dataframe\">\n",
       "  <thead>\n",
       "    <tr style=\"text-align: right;\">\n",
       "      <th></th>\n",
       "      <th>letters</th>\n",
       "      <th>symbols</th>\n",
       "    </tr>\n",
       "  </thead>\n",
       "  <tbody>\n",
       "    <tr>\n",
       "      <th>0</th>\n",
       "      <td>a</td>\n",
       "      <td>@</td>\n",
       "    </tr>\n",
       "    <tr>\n",
       "      <th>1</th>\n",
       "      <td>b</td>\n",
       "      <td>#</td>\n",
       "    </tr>\n",
       "    <tr>\n",
       "      <th>2</th>\n",
       "      <td>c</td>\n",
       "      <td>$</td>\n",
       "    </tr>\n",
       "    <tr>\n",
       "      <th>3</th>\n",
       "      <td>d</td>\n",
       "      <td>%</td>\n",
       "    </tr>\n",
       "    <tr>\n",
       "      <th>4</th>\n",
       "      <td>e</td>\n",
       "      <td>€</td>\n",
       "    </tr>\n",
       "  </tbody>\n",
       "</table>\n",
       "</div>"
      ],
      "text/plain": [
       "  letters symbols\n",
       "0       a       @\n",
       "1       b       #\n",
       "2       c       $\n",
       "3       d       %\n",
       "4       e       €"
      ]
     },
     "execution_count": 281,
     "metadata": {},
     "output_type": "execute_result"
    }
   ],
   "source": [
    "a.columns = [\"#1\",\"#2\",\"#3\", \"common\"]\n",
    "b.columns = [\"emoji_1\",\"emoji_2\",\"emoji_3\", \"ground\"]\n",
    "c = pd.DataFrame({\"letters\":[*\"abcde\"], \"symbols\":[*\"@#$%€\"]})\n",
    "c"
   ]
  },
  {
   "cell_type": "code",
   "execution_count": 282,
   "id": "9a46192c",
   "metadata": {},
   "outputs": [
    {
     "data": {
      "text/html": [
       "<div>\n",
       "<style scoped>\n",
       "    .dataframe tbody tr th:only-of-type {\n",
       "        vertical-align: middle;\n",
       "    }\n",
       "\n",
       "    .dataframe tbody tr th {\n",
       "        vertical-align: top;\n",
       "    }\n",
       "\n",
       "    .dataframe thead th {\n",
       "        text-align: right;\n",
       "    }\n",
       "</style>\n",
       "<table border=\"1\" class=\"dataframe\">\n",
       "  <thead>\n",
       "    <tr style=\"text-align: right;\">\n",
       "      <th></th>\n",
       "      <th>#1</th>\n",
       "      <th>#2</th>\n",
       "      <th>#3</th>\n",
       "      <th>common</th>\n",
       "      <th>emoji_1</th>\n",
       "      <th>emoji_2</th>\n",
       "      <th>emoji_3</th>\n",
       "      <th>ground</th>\n",
       "      <th>letters</th>\n",
       "      <th>symbols</th>\n",
       "    </tr>\n",
       "  </thead>\n",
       "  <tbody>\n",
       "    <tr>\n",
       "      <th>0</th>\n",
       "      <td>1.0</td>\n",
       "      <td>2.0</td>\n",
       "      <td>3.0</td>\n",
       "      <td>0.0</td>\n",
       "      <td>NaN</td>\n",
       "      <td>NaN</td>\n",
       "      <td>NaN</td>\n",
       "      <td>NaN</td>\n",
       "      <td>a</td>\n",
       "      <td>@</td>\n",
       "    </tr>\n",
       "    <tr>\n",
       "      <th>1</th>\n",
       "      <td>4.0</td>\n",
       "      <td>5.0</td>\n",
       "      <td>6.0</td>\n",
       "      <td>1.0</td>\n",
       "      <td>🦉</td>\n",
       "      <td>🐿</td>\n",
       "      <td>🦥</td>\n",
       "      <td>4.0</td>\n",
       "      <td>b</td>\n",
       "      <td>#</td>\n",
       "    </tr>\n",
       "    <tr>\n",
       "      <th>2</th>\n",
       "      <td>7.0</td>\n",
       "      <td>8.0</td>\n",
       "      <td>9.0</td>\n",
       "      <td>2.0</td>\n",
       "      <td>🐸</td>\n",
       "      <td>🐳</td>\n",
       "      <td>🐶</td>\n",
       "      <td>3.0</td>\n",
       "      <td>c</td>\n",
       "      <td>$</td>\n",
       "    </tr>\n",
       "    <tr>\n",
       "      <th>3</th>\n",
       "      <td>NaN</td>\n",
       "      <td>NaN</td>\n",
       "      <td>NaN</td>\n",
       "      <td>NaN</td>\n",
       "      <td>🐼</td>\n",
       "      <td>🐍</td>\n",
       "      <td>🦔</td>\n",
       "      <td>2.0</td>\n",
       "      <td>d</td>\n",
       "      <td>%</td>\n",
       "    </tr>\n",
       "    <tr>\n",
       "      <th>4</th>\n",
       "      <td>NaN</td>\n",
       "      <td>NaN</td>\n",
       "      <td>NaN</td>\n",
       "      <td>NaN</td>\n",
       "      <td>NaN</td>\n",
       "      <td>NaN</td>\n",
       "      <td>NaN</td>\n",
       "      <td>NaN</td>\n",
       "      <td>e</td>\n",
       "      <td>€</td>\n",
       "    </tr>\n",
       "  </tbody>\n",
       "</table>\n",
       "</div>"
      ],
      "text/plain": [
       "    #1   #2   #3  common emoji_1 emoji_2 emoji_3  ground letters symbols\n",
       "0  1.0  2.0  3.0     0.0     NaN     NaN     NaN     NaN       a       @\n",
       "1  4.0  5.0  6.0     1.0       🦉       🐿       🦥     4.0       b       #\n",
       "2  7.0  8.0  9.0     2.0       🐸       🐳       🐶     3.0       c       $\n",
       "3  NaN  NaN  NaN     NaN       🐼       🐍       🦔     2.0       d       %\n",
       "4  NaN  NaN  NaN     NaN     NaN     NaN     NaN     NaN       e       €"
      ]
     },
     "execution_count": 282,
     "metadata": {},
     "output_type": "execute_result"
    }
   ],
   "source": [
    "a.join((b,c), how=\"outer\")"
   ]
  },
  {
   "cell_type": "code",
   "execution_count": 283,
   "id": "ebce4b6e",
   "metadata": {},
   "outputs": [
    {
     "data": {
      "text/html": [
       "<div>\n",
       "<style scoped>\n",
       "    .dataframe tbody tr th:only-of-type {\n",
       "        vertical-align: middle;\n",
       "    }\n",
       "\n",
       "    .dataframe tbody tr th {\n",
       "        vertical-align: top;\n",
       "    }\n",
       "\n",
       "    .dataframe thead th {\n",
       "        text-align: right;\n",
       "    }\n",
       "</style>\n",
       "<table border=\"1\" class=\"dataframe\">\n",
       "  <thead>\n",
       "    <tr style=\"text-align: right;\">\n",
       "      <th></th>\n",
       "      <th>#1</th>\n",
       "      <th>#2</th>\n",
       "      <th>#3</th>\n",
       "      <th>common</th>\n",
       "      <th>emoji_1</th>\n",
       "      <th>emoji_2</th>\n",
       "      <th>emoji_3</th>\n",
       "      <th>ground</th>\n",
       "      <th>letters</th>\n",
       "      <th>symbols</th>\n",
       "    </tr>\n",
       "  </thead>\n",
       "  <tbody>\n",
       "    <tr>\n",
       "      <th>0</th>\n",
       "      <td>1.0</td>\n",
       "      <td>2.0</td>\n",
       "      <td>3.0</td>\n",
       "      <td>0.0</td>\n",
       "      <td>NaN</td>\n",
       "      <td>NaN</td>\n",
       "      <td>NaN</td>\n",
       "      <td>NaN</td>\n",
       "      <td>a</td>\n",
       "      <td>@</td>\n",
       "    </tr>\n",
       "    <tr>\n",
       "      <th>1</th>\n",
       "      <td>4.0</td>\n",
       "      <td>5.0</td>\n",
       "      <td>6.0</td>\n",
       "      <td>1.0</td>\n",
       "      <td>🦉</td>\n",
       "      <td>🐿</td>\n",
       "      <td>🦥</td>\n",
       "      <td>4.0</td>\n",
       "      <td>b</td>\n",
       "      <td>#</td>\n",
       "    </tr>\n",
       "    <tr>\n",
       "      <th>2</th>\n",
       "      <td>7.0</td>\n",
       "      <td>8.0</td>\n",
       "      <td>9.0</td>\n",
       "      <td>2.0</td>\n",
       "      <td>🐸</td>\n",
       "      <td>🐳</td>\n",
       "      <td>🐶</td>\n",
       "      <td>3.0</td>\n",
       "      <td>c</td>\n",
       "      <td>$</td>\n",
       "    </tr>\n",
       "    <tr>\n",
       "      <th>3</th>\n",
       "      <td>NaN</td>\n",
       "      <td>NaN</td>\n",
       "      <td>NaN</td>\n",
       "      <td>NaN</td>\n",
       "      <td>🐼</td>\n",
       "      <td>🐍</td>\n",
       "      <td>🦔</td>\n",
       "      <td>2.0</td>\n",
       "      <td>d</td>\n",
       "      <td>%</td>\n",
       "    </tr>\n",
       "    <tr>\n",
       "      <th>4</th>\n",
       "      <td>NaN</td>\n",
       "      <td>NaN</td>\n",
       "      <td>NaN</td>\n",
       "      <td>NaN</td>\n",
       "      <td>NaN</td>\n",
       "      <td>NaN</td>\n",
       "      <td>NaN</td>\n",
       "      <td>NaN</td>\n",
       "      <td>e</td>\n",
       "      <td>€</td>\n",
       "    </tr>\n",
       "  </tbody>\n",
       "</table>\n",
       "</div>"
      ],
      "text/plain": [
       "    #1   #2   #3  common emoji_1 emoji_2 emoji_3  ground letters symbols\n",
       "0  1.0  2.0  3.0     0.0     NaN     NaN     NaN     NaN       a       @\n",
       "1  4.0  5.0  6.0     1.0       🦉       🐿       🦥     4.0       b       #\n",
       "2  7.0  8.0  9.0     2.0       🐸       🐳       🐶     3.0       c       $\n",
       "3  NaN  NaN  NaN     NaN       🐼       🐍       🦔     2.0       d       %\n",
       "4  NaN  NaN  NaN     NaN     NaN     NaN     NaN     NaN       e       €"
      ]
     },
     "execution_count": 283,
     "metadata": {},
     "output_type": "execute_result"
    }
   ],
   "source": [
    "a.merge(b, left_index=True, right_index=True, how=\"outer\").merge(c, left_index=True, right_index=True, how=\"outer\")"
   ]
  },
  {
   "cell_type": "code",
   "execution_count": null,
   "id": "86f98cd1",
   "metadata": {},
   "outputs": [],
   "source": []
  }
 ],
 "metadata": {
  "kernelspec": {
   "display_name": "Python 3 (ipykernel)",
   "language": "python",
   "name": "python3"
  },
  "language_info": {
   "codemirror_mode": {
    "name": "ipython",
    "version": 3
   },
   "file_extension": ".py",
   "mimetype": "text/x-python",
   "name": "python",
   "nbconvert_exporter": "python",
   "pygments_lexer": "ipython3",
   "version": "3.9.7"
  },
  "toc": {
   "base_numbering": 1,
   "nav_menu": {},
   "number_sections": false,
   "sideBar": true,
   "skip_h1_title": true,
   "title_cell": "Table of Contents",
   "title_sidebar": "Contents",
   "toc_cell": true,
   "toc_position": {
    "height": "calc(100% - 180px)",
    "left": "10px",
    "top": "150px",
    "width": "338.391px"
   },
   "toc_section_display": true,
   "toc_window_display": false
  }
 },
 "nbformat": 4,
 "nbformat_minor": 5
}
