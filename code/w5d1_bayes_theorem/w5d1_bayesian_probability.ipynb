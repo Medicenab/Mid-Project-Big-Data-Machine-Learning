{
 "cells": [
  {
   "cell_type": "markdown",
   "id": "168daf2c",
   "metadata": {},
   "source": [
    "![](https://api.brandy.run/core/core-logo-wide)\n",
    "\n",
    "# Bayesian Probability"
   ]
  },
  {
   "cell_type": "markdown",
   "id": "f3ce43cf",
   "metadata": {},
   "source": [
    "## 1 Probability\n",
    "El estudio de las probabilidades es una rama de las matemáticas en que se busca cantificar la certidumbre de que ocurra un determinado evento aleatório. \n",
    "\n",
    "### 1.1 Why?\n",
    "¿Por qué es importante conocer los fundamentos de la probabilidad para el Machine Learning? La probabilidad es uno de los fundamentos del Machine Learning y en diferentes etapas del proceso:\n",
    "\n",
    "- Los algoritmos de clasificación calculan la probabilidad de que se pertenezca a una clase.\n",
    "- Hay algoritmos diseñados usando probabilidad (e.g.: Naive Bayes)\n",
    "- Los modelos \"aprenden\" a hacer decisiones usando probabilidad.\n",
    "- Se entrenan los modelos utilizando parámetros probabilísticos (e.g.: maximum likelihood, log loss, cross entropy)\n",
    "- Se usan herramientas probabilísticas para optimizar y valorar algoritmos. (e.g.: ROC curve)\n",
    "\n",
    "### 1.2 Sample Space\n",
    "El espacio muestral, o espacio de la muestra, son todas las posibilidades que pueden ocurrir en un determinado experimento. Ej.:\n",
    "- En el lanzamiento de un dado: {1,2,3,4,5,6}\n",
    "- Carta de una baraja: {las 52 cartas}\n",
    "- etc.\n",
    "\n",
    "### 1.3 Probability of event A\n",
    "Se define como $P(A)$ la probabilidad de que ocurra el evento `A`. Se calcula ese valor como:\n",
    "\n",
    "$$\n",
    "P(A) = \\frac{\\text{número de exitos A en el espacio muestral}}{\\text{número total de resultados en el espacio muestral}}\n",
    "$$\n",
    "\n",
    "### 1.4 $[0,1]$ interval\n",
    "La probabilidad de cualquier evento siempre se encuentra en el intervalo $[0,1]$, i.e. $0 \\leq P(A) \\leq 1$.\n",
    "Una probabilidad de 0 significa un evento imposíble de ocurrir, mientras una probabilidad de 1 representa un evento de éxito seguro.\n",
    "\n",
    "La probabilidad de un evento `Q` es complementaria a la probabilidad que `NO` ocurra `Q`. \n",
    "\n",
    "$$\n",
    "P(Q) = 1 - P(Q')\n",
    "$$\n",
    "\n",
    "### 1.5 Coins, Dice and Cards\n",
    "Dadas las definiciones anteriores podemos calcular diferentes probabilidades de eventos aleatorios."
   ]
  },
  {
   "cell_type": "code",
   "execution_count": 1,
   "id": "66355da5",
   "metadata": {},
   "outputs": [],
   "source": [
    "resultados_tirar_moneda = {\"C\",\"X\"}"
   ]
  },
  {
   "cell_type": "code",
   "execution_count": 2,
   "id": "c568fd68",
   "metadata": {},
   "outputs": [],
   "source": [
    "ss = {x+y+k for x in \"CX\" for y in \"CX\" for k in \"CX\"}"
   ]
  },
  {
   "cell_type": "code",
   "execution_count": 3,
   "id": "44acc34a",
   "metadata": {},
   "outputs": [
    {
     "data": {
      "text/plain": [
       "{'CCC', 'CCX', 'CXC', 'CXX', 'XCC', 'XCX', 'XXC', 'XXX'}"
      ]
     },
     "execution_count": 3,
     "metadata": {},
     "output_type": "execute_result"
    }
   ],
   "source": [
    "ss"
   ]
  },
  {
   "cell_type": "code",
   "execution_count": 4,
   "id": "3e7515b2",
   "metadata": {},
   "outputs": [],
   "source": [
    "evento_cara = {\"CCC\"}\n",
    "evento = len(evento_cara & ss)"
   ]
  },
  {
   "cell_type": "code",
   "execution_count": 5,
   "id": "79c558a3",
   "metadata": {},
   "outputs": [
    {
     "data": {
      "text/plain": [
       "{'CCC', 'XXX'}"
      ]
     },
     "execution_count": 5,
     "metadata": {},
     "output_type": "execute_result"
    }
   ],
   "source": [
    "{\"CCC\",\"XXX\",\"CCCX\"} & ss"
   ]
  },
  {
   "cell_type": "code",
   "execution_count": 6,
   "id": "9ef98f22",
   "metadata": {},
   "outputs": [
    {
     "data": {
      "text/plain": [
       "0.375"
      ]
     },
     "execution_count": 6,
     "metadata": {},
     "output_type": "execute_result"
    }
   ],
   "source": [
    "3/len(ss)"
   ]
  },
  {
   "cell_type": "code",
   "execution_count": 7,
   "id": "67ae38e5",
   "metadata": {},
   "outputs": [
    {
     "data": {
      "text/plain": [
       "0.125"
      ]
     },
     "execution_count": 7,
     "metadata": {},
     "output_type": "execute_result"
    }
   ],
   "source": [
    "p_ccc = evento/len(ss)\n",
    "p_ccc"
   ]
  },
  {
   "cell_type": "markdown",
   "id": "6c078e2b",
   "metadata": {},
   "source": [
    "La probabilidad de que al tirar 2 dados, la suma de los numeros sea 8"
   ]
  },
  {
   "cell_type": "code",
   "execution_count": 8,
   "id": "5b408011",
   "metadata": {},
   "outputs": [],
   "source": [
    "ss = [(x,y) for x in range(1,7) for y in range(1,7)]"
   ]
  },
  {
   "cell_type": "code",
   "execution_count": 9,
   "id": "44392077",
   "metadata": {},
   "outputs": [
    {
     "data": {
      "text/plain": [
       "[0, 1, 2, 3, 4, 5, 6, 7, 8, 9]"
      ]
     },
     "execution_count": 9,
     "metadata": {},
     "output_type": "execute_result"
    }
   ],
   "source": [
    "list(range(10))"
   ]
  },
  {
   "cell_type": "code",
   "execution_count": 10,
   "id": "7406f307",
   "metadata": {},
   "outputs": [
    {
     "data": {
      "text/plain": [
       "[(2, 6), (3, 5), (4, 4), (5, 3), (6, 2)]"
      ]
     },
     "execution_count": 10,
     "metadata": {},
     "output_type": "execute_result"
    }
   ],
   "source": [
    "[dices for dices in ss if sum(dices)==8]"
   ]
  },
  {
   "cell_type": "code",
   "execution_count": 11,
   "id": "c2fcde25",
   "metadata": {},
   "outputs": [
    {
     "data": {
      "text/plain": [
       "0.1388888888888889"
      ]
     },
     "execution_count": 11,
     "metadata": {},
     "output_type": "execute_result"
    }
   ],
   "source": [
    "p_eight = 5/len(ss)\n",
    "p_eight"
   ]
  },
  {
   "cell_type": "markdown",
   "id": "327b50c3",
   "metadata": {},
   "source": [
    "### 1.6 Rule of Sum and Rule of Multiplication\n",
    "Puede ser que no siempre sea tan directo calcular los espacios muestrales (ej.: 36 Caras en 50 tiradas de moneda, etc.)\n",
    "\n",
    "Pero, con suerte, podemos calcular esa probabilidad a partir de probabilidades más sencillas de calcular usando dos reglas, la de la suma y la de la multiplicación.\n",
    "\n",
    ">#### 1.6.1 Adición\n",
    ">Si queremos descubrir la probabilidad de que ocurra un evento A `ò` un evento B, considerando que A y B sean eventos mutuamente excluyentes, tenemos el mismo espacio muestral, pero contamos como sucessos las ocurrencias de A y de B."
   ]
  },
  {
   "cell_type": "code",
   "execution_count": 12,
   "id": "e39f5626",
   "metadata": {},
   "outputs": [],
   "source": [
    "# Probabilidad de sacar Corazones ó Picas\n",
    "suits = '♥♠♦♣'\n",
    "ranks = 'A23456789TJQK'\n",
    "baraja = [r+s for r in ranks for s in suits]"
   ]
  },
  {
   "cell_type": "code",
   "execution_count": 13,
   "id": "38229719",
   "metadata": {},
   "outputs": [],
   "source": [
    "p_corazones = 13/len(baraja)"
   ]
  },
  {
   "cell_type": "code",
   "execution_count": 14,
   "id": "dde77119",
   "metadata": {},
   "outputs": [],
   "source": [
    "p_picas = 13/len(baraja)"
   ]
  },
  {
   "cell_type": "code",
   "execution_count": 15,
   "id": "7a38aad0",
   "metadata": {},
   "outputs": [],
   "source": [
    "p_corazones_o_picas = p_corazones+p_picas"
   ]
  },
  {
   "cell_type": "code",
   "execution_count": 16,
   "id": "5d46eb68",
   "metadata": {},
   "outputs": [
    {
     "data": {
      "text/plain": [
       "0.5"
      ]
     },
     "execution_count": 16,
     "metadata": {},
     "output_type": "execute_result"
    }
   ],
   "source": [
    "p_corazones_o_picas"
   ]
  },
  {
   "cell_type": "code",
   "execution_count": 17,
   "id": "00274f32",
   "metadata": {},
   "outputs": [],
   "source": [
    "# Probabilidad de sacar Corazones ó probabilidad de sacar K"
   ]
  },
  {
   "cell_type": "code",
   "execution_count": 18,
   "id": "7d748c3f",
   "metadata": {},
   "outputs": [],
   "source": [
    "p_corazones = 13/52\n",
    "p_k = 4/52"
   ]
  },
  {
   "cell_type": "code",
   "execution_count": 19,
   "id": "87089328",
   "metadata": {},
   "outputs": [],
   "source": [
    "p_corazones_o_k = (13+4)/52"
   ]
  },
  {
   "cell_type": "code",
   "execution_count": 20,
   "id": "187446e3",
   "metadata": {},
   "outputs": [
    {
     "data": {
      "text/plain": [
       "0.3269230769230769"
      ]
     },
     "execution_count": 20,
     "metadata": {},
     "output_type": "execute_result"
    }
   ],
   "source": [
    "# Esta probabilidad es erronea\n",
    "p_corazones_o_k"
   ]
  },
  {
   "cell_type": "markdown",
   "id": "944d7b60",
   "metadata": {},
   "source": [
    "Si $A \\cap B = \\emptyset$ (A y B son mutuamente excluyentes), entonces\n",
    "\n",
    "$$\n",
    "P(A\\cup B) = P(A) + P(B)\n",
    "$$"
   ]
  },
  {
   "cell_type": "markdown",
   "id": "d1a6ec0f",
   "metadata": {},
   "source": [
    "Si, entretanto, A y B no son mutuamente excluyentes, i.e.: $A \\cap B \\ne\\emptyset$, y queremos saber la probabilidad de A o B, debemos subtraer la probabilidad de A y B, para no considerar esa possibilidad dos veces..\n",
    "\n",
    "$$\n",
    "P(A\\cup B) = P(A) + P(B) - P(A\\cap B)\n",
    "$$"
   ]
  },
  {
   "cell_type": "code",
   "execution_count": 21,
   "id": "faa4b8dc",
   "metadata": {},
   "outputs": [
    {
     "data": {
      "text/plain": [
       "['A♥',\n",
       " 'A♠',\n",
       " 'A♦',\n",
       " 'A♣',\n",
       " '2♥',\n",
       " '2♠',\n",
       " '2♦',\n",
       " '2♣',\n",
       " '3♥',\n",
       " '3♠',\n",
       " '3♦',\n",
       " '3♣',\n",
       " '4♥',\n",
       " '4♠',\n",
       " '4♦',\n",
       " '4♣',\n",
       " '5♥',\n",
       " '5♠',\n",
       " '5♦',\n",
       " '5♣',\n",
       " '6♥',\n",
       " '6♠',\n",
       " '6♦',\n",
       " '6♣',\n",
       " '7♥',\n",
       " '7♠',\n",
       " '7♦',\n",
       " '7♣',\n",
       " '8♥',\n",
       " '8♠',\n",
       " '8♦',\n",
       " '8♣',\n",
       " '9♥',\n",
       " '9♠',\n",
       " '9♦',\n",
       " '9♣',\n",
       " 'T♥',\n",
       " 'T♠',\n",
       " 'T♦',\n",
       " 'T♣',\n",
       " 'J♥',\n",
       " 'J♠',\n",
       " 'J♦',\n",
       " 'J♣',\n",
       " 'Q♥',\n",
       " 'Q♠',\n",
       " 'Q♦',\n",
       " 'Q♣',\n",
       " 'K♥',\n",
       " 'K♠',\n",
       " 'K♦',\n",
       " 'K♣']"
      ]
     },
     "execution_count": 21,
     "metadata": {},
     "output_type": "execute_result"
    }
   ],
   "source": [
    "baraja"
   ]
  },
  {
   "cell_type": "code",
   "execution_count": 22,
   "id": "20d5dd68",
   "metadata": {},
   "outputs": [],
   "source": [
    "corazones = {carta for carta in baraja if \"♥\" in carta}"
   ]
  },
  {
   "cell_type": "code",
   "execution_count": 23,
   "id": "62c0dfb8",
   "metadata": {},
   "outputs": [
    {
     "data": {
      "text/plain": [
       "{'2♥', '3♥', '4♥', '5♥', '6♥', '7♥', '8♥', '9♥', 'A♥', 'J♥', 'K♥', 'Q♥', 'T♥'}"
      ]
     },
     "execution_count": 23,
     "metadata": {},
     "output_type": "execute_result"
    }
   ],
   "source": [
    "corazones"
   ]
  },
  {
   "cell_type": "code",
   "execution_count": 24,
   "id": "340cf2fe",
   "metadata": {},
   "outputs": [
    {
     "data": {
      "text/plain": [
       "{'K♠', 'K♣', 'K♥', 'K♦'}"
      ]
     },
     "execution_count": 24,
     "metadata": {},
     "output_type": "execute_result"
    }
   ],
   "source": [
    "k = {carta for carta in baraja if \"K\" in carta}\n",
    "k"
   ]
  },
  {
   "cell_type": "code",
   "execution_count": 25,
   "id": "1ac2e282",
   "metadata": {},
   "outputs": [
    {
     "data": {
      "text/plain": [
       "0.25"
      ]
     },
     "execution_count": 25,
     "metadata": {},
     "output_type": "execute_result"
    }
   ],
   "source": [
    "p_corazones = len(corazones)/len(baraja)\n",
    "p_corazones"
   ]
  },
  {
   "cell_type": "code",
   "execution_count": 26,
   "id": "1b1855e0",
   "metadata": {},
   "outputs": [
    {
     "data": {
      "text/plain": [
       "0.25"
      ]
     },
     "execution_count": 26,
     "metadata": {},
     "output_type": "execute_result"
    }
   ],
   "source": [
    "13/52"
   ]
  },
  {
   "cell_type": "code",
   "execution_count": 27,
   "id": "8a5e2758",
   "metadata": {},
   "outputs": [
    {
     "data": {
      "text/plain": [
       "0.07692307692307693"
      ]
     },
     "execution_count": 27,
     "metadata": {},
     "output_type": "execute_result"
    }
   ],
   "source": [
    "p_k = len(k)/len(baraja)\n",
    "p_k"
   ]
  },
  {
   "cell_type": "code",
   "execution_count": 28,
   "id": "8a6f22e7",
   "metadata": {},
   "outputs": [
    {
     "data": {
      "text/plain": [
       "0.07692307692307693"
      ]
     },
     "execution_count": 28,
     "metadata": {},
     "output_type": "execute_result"
    }
   ],
   "source": [
    "4/52"
   ]
  },
  {
   "cell_type": "code",
   "execution_count": 29,
   "id": "17a4dced",
   "metadata": {},
   "outputs": [
    {
     "data": {
      "text/plain": [
       "{'K♥'}"
      ]
     },
     "execution_count": 29,
     "metadata": {},
     "output_type": "execute_result"
    }
   ],
   "source": [
    "# P A&B\n",
    "corazones & k"
   ]
  },
  {
   "cell_type": "code",
   "execution_count": 30,
   "id": "c91b7686",
   "metadata": {},
   "outputs": [
    {
     "data": {
      "text/plain": [
       "0.3076923076923077"
      ]
     },
     "execution_count": 30,
     "metadata": {},
     "output_type": "execute_result"
    }
   ],
   "source": [
    "13/52+4/52-1/52"
   ]
  },
  {
   "cell_type": "code",
   "execution_count": 31,
   "id": "13b8b355",
   "metadata": {},
   "outputs": [
    {
     "data": {
      "text/plain": [
       "0.3076923076923077"
      ]
     },
     "execution_count": 31,
     "metadata": {},
     "output_type": "execute_result"
    }
   ],
   "source": [
    "16/52"
   ]
  },
  {
   "cell_type": "markdown",
   "id": "bcbad342",
   "metadata": {},
   "source": [
    "\n",
    "\n",
    "Imaginemos 2 características físicas representadas por un par de genes con caráter recesivo, por ejemplo ojos azules y pelo rúbio. Un padre de ojos y pelo castaños y una madre de ojos castaños y pelo rúbio tienen las siguientes posibilidades de pasar sus genes a sus hijos segun las tablas abajo. Calcularemos la probabilidad de que un hijo tenga ojos azules `o` pelo rúbio, pero no ambos.\n",
    "\n",
    "blue_eye_gene | B  | b  |\n",
    "--------------|----|----|\n",
    "B             | BB | Bb |\n",
    "b             | Bb | bb |\n",
    "\n",
    "blond_hair_gene | F  | f  |\n",
    "----------------|----|----|\n",
    "f               | Ff | ff |\n",
    "f               | Ff | ff |"
   ]
  },
  {
   "cell_type": "code",
   "execution_count": 32,
   "id": "836fd3d1",
   "metadata": {},
   "outputs": [
    {
     "data": {
      "text/plain": [
       "['BBFf',\n",
       " 'BBff',\n",
       " 'BBFf',\n",
       " 'BBff',\n",
       " 'BbFf',\n",
       " 'Bbff',\n",
       " 'BbFf',\n",
       " 'Bbff',\n",
       " 'BbFf',\n",
       " 'Bbff',\n",
       " 'BbFf',\n",
       " 'Bbff',\n",
       " 'bbFf',\n",
       " 'bbff',\n",
       " 'bbFf',\n",
       " 'bbff']"
      ]
     },
     "execution_count": 32,
     "metadata": {},
     "output_type": "execute_result"
    }
   ],
   "source": [
    "ss = [b+f for b in [\"BB\",\"Bb\",\"Bb\",\"bb\"] for f in [\"Ff\", \"ff\", \"Ff\", \"ff\"]]\n",
    "ss"
   ]
  },
  {
   "cell_type": "code",
   "execution_count": 33,
   "id": "efb0897f",
   "metadata": {},
   "outputs": [],
   "source": [
    "p_bb = 1/4\n",
    "p_ff = 2/4"
   ]
  },
  {
   "cell_type": "code",
   "execution_count": 34,
   "id": "9114116f",
   "metadata": {},
   "outputs": [],
   "source": [
    "p_bb_AND_ff = p_bb*p_ff"
   ]
  },
  {
   "cell_type": "code",
   "execution_count": 35,
   "id": "9796ef59",
   "metadata": {},
   "outputs": [
    {
     "data": {
      "text/plain": [
       "(0.125, 0.25, 0.5)"
      ]
     },
     "execution_count": 35,
     "metadata": {},
     "output_type": "execute_result"
    }
   ],
   "source": [
    "p_bb_AND_ff, p_bb, p_ff"
   ]
  },
  {
   "cell_type": "code",
   "execution_count": 36,
   "id": "57165bc6",
   "metadata": {},
   "outputs": [],
   "source": [
    "p_bb_OR_ff = p_bb+p_ff - p_bb_AND_ff"
   ]
  },
  {
   "cell_type": "code",
   "execution_count": 37,
   "id": "76245042",
   "metadata": {},
   "outputs": [
    {
     "data": {
      "text/plain": [
       "0.625"
      ]
     },
     "execution_count": 37,
     "metadata": {},
     "output_type": "execute_result"
    }
   ],
   "source": [
    "p_bb_OR_ff"
   ]
  },
  {
   "cell_type": "markdown",
   "id": "562bcb41",
   "metadata": {},
   "source": [
    ">#### 1.6.2 Multiplicación\n",
    ">Para descubrir la posibilidad del evento A `Y` el evento B, i.e. $P(A\\cap B)$, podemos también calcular en función de $P(A)$ y $P(B)$.\n",
    "\n",
    "Si A y B son eventos independientes:\n",
    "\n",
    "$$\n",
    "P(A\\cap B) = P(A)P(B)\n",
    "$$\n",
    "\n",
    "Entretanto, si A y B son dependientes, debemos calcularlo como:\n",
    "\n",
    "$$\n",
    "P(A\\cap B) = P(A)P(B|A)\n",
    "$$\n",
    "\n",
    "Donde $P(B|A)$ es la probabilidad de que pase el evento B una vez que se haya verificado el suceso del evento A."
   ]
  },
  {
   "cell_type": "code",
   "execution_count": 38,
   "id": "0ec43630",
   "metadata": {},
   "outputs": [],
   "source": [
    "# Probabilidad de sacar 4 Ases"
   ]
  },
  {
   "cell_type": "code",
   "execution_count": 39,
   "id": "1ca3d1bb",
   "metadata": {},
   "outputs": [],
   "source": [
    "p_1a = 4/52\n",
    "p_2a = 3/51\n",
    "p_3a = 2/50\n",
    "p_4a = 1/49"
   ]
  },
  {
   "cell_type": "code",
   "execution_count": 40,
   "id": "20aefbba",
   "metadata": {},
   "outputs": [
    {
     "data": {
      "text/plain": [
       "3.6937852063902484e-06"
      ]
     },
     "execution_count": 40,
     "metadata": {},
     "output_type": "execute_result"
    }
   ],
   "source": [
    "p_4A = (4*3*2*1)/(52*51*50*49)\n",
    "p_4A"
   ]
  },
  {
   "cell_type": "markdown",
   "id": "b350a1dc",
   "metadata": {},
   "source": [
    "## 2 Combination and Permutation\n",
    "Muchas veces para calcular una probabilidad, tenemos que conocer el espacio muestral, lo que no es siempre tan directo. Podemos para eso utilizar herramientas para calcular combinaciones y permutaciones.\n",
    "\n",
    "### 2.1 Combination\n",
    "Cuando calculamos el numero de combinaciones posibles, no nos importa el orden en que se organizaron los elementos, solo nos importa que elementos son parte del conjunto final.\n",
    "\n",
    "Número de combinaciones posibles de `r` elementos retirados de un grupo de `n`.\n",
    "$$\n",
    "C(n,r) = \\frac{n!}{r!(n-r)!}\n",
    "$$"
   ]
  },
  {
   "cell_type": "code",
   "execution_count": 41,
   "id": "e5953db3",
   "metadata": {},
   "outputs": [],
   "source": [
    "from math import factorial"
   ]
  },
  {
   "cell_type": "code",
   "execution_count": 42,
   "id": "6e7ce691",
   "metadata": {},
   "outputs": [],
   "source": [
    "def comb(n,r):\n",
    "    return factorial(n)/( factorial(r) * factorial(n-r) )"
   ]
  },
  {
   "cell_type": "code",
   "execution_count": 43,
   "id": "ec202b11",
   "metadata": {},
   "outputs": [],
   "source": [
    "from itertools import combinations, permutations"
   ]
  },
  {
   "cell_type": "code",
   "execution_count": 44,
   "id": "a01c093e",
   "metadata": {},
   "outputs": [
    {
     "data": {
      "text/plain": [
       "270725.0"
      ]
     },
     "execution_count": 44,
     "metadata": {},
     "output_type": "execute_result"
    }
   ],
   "source": [
    "comb(len(baraja), 4)"
   ]
  },
  {
   "cell_type": "code",
   "execution_count": 45,
   "id": "d58c1c0d",
   "metadata": {},
   "outputs": [
    {
     "data": {
      "text/plain": [
       "3.6937852063902484e-06"
      ]
     },
     "execution_count": 45,
     "metadata": {},
     "output_type": "execute_result"
    }
   ],
   "source": [
    "1/comb(len(baraja), 4)"
   ]
  },
  {
   "cell_type": "code",
   "execution_count": 46,
   "id": "3002ae1d",
   "metadata": {},
   "outputs": [],
   "source": [
    "all_combination = list(map(\" \".join, combinations(baraja, 4)))"
   ]
  },
  {
   "cell_type": "code",
   "execution_count": 47,
   "id": "7e4e5301",
   "metadata": {},
   "outputs": [
    {
     "data": {
      "text/plain": [
       "['A♥ A♠ A♦ A♣']"
      ]
     },
     "execution_count": 47,
     "metadata": {},
     "output_type": "execute_result"
    }
   ],
   "source": [
    "[mano for mano in all_combination if mano.count(\"A\")==4]"
   ]
  },
  {
   "cell_type": "markdown",
   "id": "13a2099b",
   "metadata": {},
   "source": [
    "### 2.2 Permutation\n",
    "Si, entretanto, nos importa el orden en que los elementos están, debemos calcular las posibles permutaciones:\n",
    "\n",
    "Posibles permutaciones de `r` elementos retirados de un conjunto original de `n`. No hay repeticiones\n",
    "$$\n",
    "P(n,r) = \\frac{n!}{(n-r)!}\n",
    "$$\n",
    "\n",
    "Para permutaciones con repetición de elementos:\n",
    "\n",
    "$$\n",
    "P(n,r) = n^r\n",
    "$$"
   ]
  },
  {
   "cell_type": "code",
   "execution_count": 48,
   "id": "3b4b05df",
   "metadata": {},
   "outputs": [],
   "source": [
    "def perm(n,r):\n",
    "    return factorial(n) / factorial(n-r)"
   ]
  },
  {
   "cell_type": "code",
   "execution_count": 49,
   "id": "16408030",
   "metadata": {},
   "outputs": [
    {
     "data": {
      "text/plain": [
       "24.0"
      ]
     },
     "execution_count": 49,
     "metadata": {},
     "output_type": "execute_result"
    }
   ],
   "source": [
    "perm(4,4)"
   ]
  },
  {
   "cell_type": "code",
   "execution_count": 50,
   "id": "77e303b9",
   "metadata": {},
   "outputs": [
    {
     "data": {
      "text/plain": [
       "24"
      ]
     },
     "execution_count": 50,
     "metadata": {},
     "output_type": "execute_result"
    }
   ],
   "source": [
    "len(list(permutations(['A♥','A♠','A♦','A♣'], 4)))"
   ]
  },
  {
   "cell_type": "code",
   "execution_count": 51,
   "id": "4541f8a2",
   "metadata": {},
   "outputs": [
    {
     "data": {
      "text/plain": [
       "['A♥ A♠ A♦ A♣']"
      ]
     },
     "execution_count": 51,
     "metadata": {},
     "output_type": "execute_result"
    }
   ],
   "source": [
    "[mano for mano in all_combination if mano.count(\"A\")==4]"
   ]
  },
  {
   "cell_type": "code",
   "execution_count": 52,
   "id": "e6997f0a",
   "metadata": {},
   "outputs": [
    {
     "data": {
      "text/plain": [
       "[('A♥', 'A♠', 'A♦', 'A♣'),\n",
       " ('A♥', 'A♠', 'A♣', 'A♦'),\n",
       " ('A♥', 'A♦', 'A♠', 'A♣'),\n",
       " ('A♥', 'A♦', 'A♣', 'A♠'),\n",
       " ('A♥', 'A♣', 'A♠', 'A♦'),\n",
       " ('A♥', 'A♣', 'A♦', 'A♠'),\n",
       " ('A♠', 'A♥', 'A♦', 'A♣'),\n",
       " ('A♠', 'A♥', 'A♣', 'A♦'),\n",
       " ('A♠', 'A♦', 'A♥', 'A♣'),\n",
       " ('A♠', 'A♦', 'A♣', 'A♥'),\n",
       " ('A♠', 'A♣', 'A♥', 'A♦'),\n",
       " ('A♠', 'A♣', 'A♦', 'A♥'),\n",
       " ('A♦', 'A♥', 'A♠', 'A♣'),\n",
       " ('A♦', 'A♥', 'A♣', 'A♠'),\n",
       " ('A♦', 'A♠', 'A♥', 'A♣'),\n",
       " ('A♦', 'A♠', 'A♣', 'A♥'),\n",
       " ('A♦', 'A♣', 'A♥', 'A♠'),\n",
       " ('A♦', 'A♣', 'A♠', 'A♥'),\n",
       " ('A♣', 'A♥', 'A♠', 'A♦'),\n",
       " ('A♣', 'A♥', 'A♦', 'A♠'),\n",
       " ('A♣', 'A♠', 'A♥', 'A♦'),\n",
       " ('A♣', 'A♠', 'A♦', 'A♥'),\n",
       " ('A♣', 'A♦', 'A♥', 'A♠'),\n",
       " ('A♣', 'A♦', 'A♠', 'A♥')]"
      ]
     },
     "execution_count": 52,
     "metadata": {},
     "output_type": "execute_result"
    }
   ],
   "source": [
    "list(permutations(['A♥','A♠','A♦','A♣'], 4))"
   ]
  },
  {
   "cell_type": "code",
   "execution_count": 53,
   "id": "86c7552e",
   "metadata": {},
   "outputs": [
    {
     "data": {
      "text/plain": [
       "6497400"
      ]
     },
     "execution_count": 53,
     "metadata": {},
     "output_type": "execute_result"
    }
   ],
   "source": [
    "len(list(permutations(baraja, 4)))"
   ]
  },
  {
   "cell_type": "code",
   "execution_count": 54,
   "id": "3415a726",
   "metadata": {},
   "outputs": [
    {
     "data": {
      "text/plain": [
       "270725"
      ]
     },
     "execution_count": 54,
     "metadata": {},
     "output_type": "execute_result"
    }
   ],
   "source": [
    "len(list(combinations(baraja, 4)))"
   ]
  },
  {
   "cell_type": "code",
   "execution_count": 55,
   "id": "71a34e97",
   "metadata": {},
   "outputs": [
    {
     "data": {
      "text/plain": [
       "24"
      ]
     },
     "execution_count": 55,
     "metadata": {},
     "output_type": "execute_result"
    }
   ],
   "source": [
    "len(list(permutations(['A♥','A♠','A♦','A♣'], 4)))"
   ]
  },
  {
   "cell_type": "code",
   "execution_count": 56,
   "id": "9010a29b",
   "metadata": {},
   "outputs": [
    {
     "data": {
      "text/plain": [
       "3.6937852063902484e-06"
      ]
     },
     "execution_count": 56,
     "metadata": {},
     "output_type": "execute_result"
    }
   ],
   "source": [
    "len(list(permutations(['A♥','A♠','A♦','A♣'], 4)))/len(list(permutations(baraja, 4)))"
   ]
  },
  {
   "cell_type": "code",
   "execution_count": 57,
   "id": "2a98afd1",
   "metadata": {},
   "outputs": [
    {
     "data": {
      "text/plain": [
       "6.4128215388719585e-09"
      ]
     },
     "execution_count": 57,
     "metadata": {},
     "output_type": "execute_result"
    }
   ],
   "source": [
    "1/len(list(permutations(['A♥','A♠','A♦','A♣'], 4)))/len(list(permutations(baraja, 4)))"
   ]
  },
  {
   "cell_type": "code",
   "execution_count": 58,
   "id": "34ce9e63",
   "metadata": {},
   "outputs": [],
   "source": [
    "# Probabilidad de que selecionando 11 letras al azar \n",
    "# escriban la palabra `shakespeare`"
   ]
  },
  {
   "cell_type": "code",
   "execution_count": 59,
   "id": "c5be9430",
   "metadata": {},
   "outputs": [
    {
     "name": "stdout",
     "output_type": "stream",
     "text": [
      "0.0000000000000001798865092451430058153641420415514623011885253457339817195759223977802321314811706543\n"
     ]
    }
   ],
   "source": [
    "print(format(1/27**len('shakespeare'), \".100f\"))"
   ]
  },
  {
   "cell_type": "markdown",
   "id": "3b1ab913",
   "metadata": {},
   "source": [
    "![](img/monkey.jpeg)\n",
    "\n",
    "Considerando que un mono tiene la misma probabilidad de pulsar cualquer tecla de un teclado que contiene las 27 letras del castellano y el espacio, ¿cual es la probabilidad de que dentre 100 monos, cada uno haciendo 20_000 pulsaciones, alguno de ellos genere la frase `hola soy un mono`?"
   ]
  },
  {
   "cell_type": "code",
   "execution_count": 60,
   "id": "88614153",
   "metadata": {},
   "outputs": [],
   "source": [
    "frase = \"hola soy un mono\""
   ]
  },
  {
   "cell_type": "code",
   "execution_count": 61,
   "id": "a55c6fcf",
   "metadata": {},
   "outputs": [
    {
     "data": {
      "text/plain": [
       "16"
      ]
     },
     "execution_count": 61,
     "metadata": {},
     "output_type": "execute_result"
    }
   ],
   "source": [
    "len(frase)"
   ]
  },
  {
   "cell_type": "code",
   "execution_count": 62,
   "id": "18dc9333",
   "metadata": {},
   "outputs": [],
   "source": [
    "#Probabilidad de escribir la frase bien a la primera\n",
    "p = (27+1)**len(frase)"
   ]
  },
  {
   "cell_type": "code",
   "execution_count": 63,
   "id": "3951773f",
   "metadata": {},
   "outputs": [
    {
     "data": {
      "text/plain": [
       "7.006022028850074e-24"
      ]
     },
     "execution_count": 63,
     "metadata": {},
     "output_type": "execute_result"
    }
   ],
   "source": [
    "1/p"
   ]
  },
  {
   "cell_type": "code",
   "execution_count": 64,
   "id": "2eaf1592",
   "metadata": {},
   "outputs": [
    {
     "data": {
      "text/plain": [
       "1.4000834422453987e-19"
      ]
     },
     "execution_count": 64,
     "metadata": {},
     "output_type": "execute_result"
    }
   ],
   "source": [
    "(20_000-len(frase))*1/p # Probabilidad de que la frase haya sido escrita bien 1 vez entre las 20_000 pulsaciones"
   ]
  },
  {
   "cell_type": "code",
   "execution_count": 65,
   "id": "33ac02bf",
   "metadata": {},
   "outputs": [
    {
     "name": "stdout",
     "output_type": "stream",
     "text": [
      "0.0000000000000000140008344224539865336780390178374561641487865105374505114710359521268401294946670532\n"
     ]
    }
   ],
   "source": [
    "print(format(100*(20_000-len(frase))*1/p, \".100f\"))"
   ]
  },
  {
   "cell_type": "markdown",
   "id": "0862ceda",
   "metadata": {},
   "source": [
    "## 3 Bayes Theorem\n",
    "![](img/theorem.jpeg)\n",
    "\n",
    "Hasta el momento hemos visto la probabilidad de eventos independientes, pero como podemos calcular la probabilidad condicional? Para eso usaremos el teorema de Bayes. \n",
    "\n",
    "$$\n",
    "P(A|B) = \\frac{P(B|A)P(A)}{P(B)}\n",
    "$$\n",
    "\n",
    "- Visualization: http://setosa.io/conditional/\n",
    "\n",
    "Donde:\n",
    "- P(A) y P(B) son las probabilidades a priori de ambos los eventos\n",
    "- P(B|A) es la probabilidad condicional de B en la hipotesis A.\n",
    "- P(A|B) es la probabilidad de A dado que es conocido el resultado B.\n"
   ]
  },
  {
   "cell_type": "markdown",
   "id": "2ded8be2",
   "metadata": {},
   "source": [
    "- Ejemplo 1\n",
    "\n",
    "Probabilidade de sacar un 6 seguido de un 4 al tirar dos veces un dado. "
   ]
  },
  {
   "cell_type": "code",
   "execution_count": 66,
   "id": "74e4fa60",
   "metadata": {},
   "outputs": [
    {
     "data": {
      "text/plain": [
       "0.16666666666666666"
      ]
     },
     "execution_count": 66,
     "metadata": {},
     "output_type": "execute_result"
    }
   ],
   "source": [
    "# P_A -> Probabilidad de sacar un 6\n",
    "# P_B -> Probabilidad de sacar un 4\n",
    "# P_BA -> Probabilidad de sacar un 4 sabiendo que se ha sacado un 6\n",
    "# P_AB -> Probabilidad de sacar un 6 sabiendo que se ha sacado un 4\n",
    "\n",
    "p_a = 1/6\n",
    "p_b = 1/6\n",
    "p_ba = 1/6\n",
    "p_ab = (p_a*p_ba)/p_b\n",
    "p_ab"
   ]
  },
  {
   "cell_type": "code",
   "execution_count": 67,
   "id": "1c3b54d7",
   "metadata": {},
   "outputs": [
    {
     "data": {
      "text/plain": [
       "0.16666666666666666"
      ]
     },
     "execution_count": 67,
     "metadata": {},
     "output_type": "execute_result"
    }
   ],
   "source": [
    "1/6"
   ]
  },
  {
   "cell_type": "code",
   "execution_count": 68,
   "id": "85ba7d10",
   "metadata": {},
   "outputs": [],
   "source": [
    "# Se han tirado dos dados. Cual es la probabilidad de haber sumado 9 si se ha sacado un 4\n",
    "# A -> Sumar 9\n",
    "# B -> Sacar un 4\n",
    "# B|A -> Sacar un 4 sabiendo que la suma es 9\n",
    "# A|B -> Sumar 9 habiendo sacado un 4"
   ]
  },
  {
   "cell_type": "code",
   "execution_count": 69,
   "id": "3b4369c4",
   "metadata": {},
   "outputs": [],
   "source": [
    "ss = [(d1,d2) for d1 in range(1,7) for d2 in range(1,7)]"
   ]
  },
  {
   "cell_type": "code",
   "execution_count": 70,
   "id": "5bdedacd",
   "metadata": {},
   "outputs": [
    {
     "data": {
      "text/plain": [
       "[(3, 6), (4, 5), (5, 4), (6, 3)]"
      ]
     },
     "execution_count": 70,
     "metadata": {},
     "output_type": "execute_result"
    }
   ],
   "source": [
    "[dices for dices in ss if sum(dices)==9]"
   ]
  },
  {
   "cell_type": "code",
   "execution_count": 71,
   "id": "73f0f3d6",
   "metadata": {},
   "outputs": [
    {
     "data": {
      "text/plain": [
       "0.1111111111111111"
      ]
     },
     "execution_count": 71,
     "metadata": {},
     "output_type": "execute_result"
    }
   ],
   "source": [
    "p_a = len([dices for dices in ss if sum(dices)==9])/len(ss)\n",
    "p_a"
   ]
  },
  {
   "cell_type": "code",
   "execution_count": 72,
   "id": "deddd2d2",
   "metadata": {},
   "outputs": [],
   "source": [
    "p_b = 1/6 # Sacar un 4"
   ]
  },
  {
   "cell_type": "code",
   "execution_count": 73,
   "id": "06d6bf08",
   "metadata": {},
   "outputs": [],
   "source": [
    "p_ba = 2/4"
   ]
  },
  {
   "cell_type": "code",
   "execution_count": 74,
   "id": "7f1a70e5",
   "metadata": {},
   "outputs": [
    {
     "data": {
      "text/plain": [
       "0.5"
      ]
     },
     "execution_count": 74,
     "metadata": {},
     "output_type": "execute_result"
    }
   ],
   "source": [
    "p_ba"
   ]
  },
  {
   "cell_type": "code",
   "execution_count": 75,
   "id": "8944e2b7",
   "metadata": {},
   "outputs": [
    {
     "data": {
      "text/plain": [
       "0.3333333333333333"
      ]
     },
     "execution_count": 75,
     "metadata": {},
     "output_type": "execute_result"
    }
   ],
   "source": [
    "p_ab = (p_a*p_ba)/p_b\n",
    "p_ab"
   ]
  },
  {
   "cell_type": "markdown",
   "id": "2f0b54d8",
   "metadata": {},
   "source": [
    "$P(A|B)$ es $P(A)$, 1/6, pues ambos eventos son independientes (una tirada de dado no afecta la otra).\n",
    "\n",
    "- Ejemplo 2\n",
    "\n",
    "En una caja, A, hay 10 diamantes verdaderos y 20 diamantes falsos. En otra caja, B, hay 5 diamantes verdaderos y 35 falsos. Tienes la oportunidad de eligir una piedra de una caja eligida al azar.\n",
    "\n",
    "Si el diamante que obtienes es verdadero, ¿cual es la probabilidad de que vino de la caja A?"
   ]
  },
  {
   "cell_type": "code",
   "execution_count": 76,
   "id": "4c043357",
   "metadata": {},
   "outputs": [],
   "source": [
    "# P_A -> Probabilidad de venir de la caja A\n",
    "# P_B -> Probablidad de que el diamante sea verdadero (sea de la caja A o de la B)\n",
    "# P_B|A -> Probabilidad de que sea verdadero sabiendo que viene de la caja A\n",
    "# P_A|B -> Probabilidad de que vino de la caja A sabiendo que es verdadero"
   ]
  },
  {
   "cell_type": "code",
   "execution_count": 77,
   "id": "139a70dc",
   "metadata": {},
   "outputs": [
    {
     "data": {
      "text/plain": [
       "0.42857142857142855"
      ]
     },
     "execution_count": 77,
     "metadata": {},
     "output_type": "execute_result"
    }
   ],
   "source": [
    "p_a = (10+20) / (10+20 + 5+35)\n",
    "p_a"
   ]
  },
  {
   "cell_type": "code",
   "execution_count": 78,
   "id": "2375749b",
   "metadata": {},
   "outputs": [
    {
     "data": {
      "text/plain": [
       "0.21428571428571427"
      ]
     },
     "execution_count": 78,
     "metadata": {},
     "output_type": "execute_result"
    }
   ],
   "source": [
    "p_b = (10+5) / (10+20 + 5+35)\n",
    "p_b"
   ]
  },
  {
   "cell_type": "code",
   "execution_count": 79,
   "id": "78ad0606",
   "metadata": {},
   "outputs": [
    {
     "data": {
      "text/plain": [
       "0.3333333333333333"
      ]
     },
     "execution_count": 79,
     "metadata": {},
     "output_type": "execute_result"
    }
   ],
   "source": [
    "p_ba = 10/30\n",
    "p_ba"
   ]
  },
  {
   "cell_type": "code",
   "execution_count": 80,
   "id": "81d72f2a",
   "metadata": {},
   "outputs": [
    {
     "data": {
      "text/plain": [
       "0.6666666666666666"
      ]
     },
     "execution_count": 80,
     "metadata": {},
     "output_type": "execute_result"
    }
   ],
   "source": [
    "p_ab = (p_a*p_ba)/p_b\n",
    "p_ab"
   ]
  },
  {
   "cell_type": "code",
   "execution_count": 81,
   "id": "5fca59de",
   "metadata": {},
   "outputs": [],
   "source": [
    "cajas = {\n",
    "    \"A\": [True]*10 + [False]*20,\n",
    "    \"B\": [True]*5 + [False]*35\n",
    "}\n",
    "\n",
    "ss = [(caja, diamante) for caja in cajas.keys() for diamante in cajas[caja]]"
   ]
  },
  {
   "cell_type": "code",
   "execution_count": 82,
   "id": "abf0bb57",
   "metadata": {},
   "outputs": [
    {
     "data": {
      "text/plain": [
       "0.42857142857142855"
      ]
     },
     "execution_count": 82,
     "metadata": {},
     "output_type": "execute_result"
    }
   ],
   "source": [
    "# P_A -> Probabilidad de venir de la caja A\n",
    "caja_A = [pair for pair in ss if \"A\" in pair]\n",
    "len(caja_A)/len(ss)"
   ]
  },
  {
   "cell_type": "code",
   "execution_count": 83,
   "id": "ab6b7470",
   "metadata": {},
   "outputs": [
    {
     "data": {
      "text/plain": [
       "0.21428571428571427"
      ]
     },
     "execution_count": 83,
     "metadata": {},
     "output_type": "execute_result"
    }
   ],
   "source": [
    "# P_B -> Probablidad de que el diamante sea verdadero (sea de la caja A o de la B)\n",
    "diamante_verdadero = [pair for pair in ss if True in pair]\n",
    "len(diamante_verdadero)/len(ss)"
   ]
  },
  {
   "cell_type": "code",
   "execution_count": 84,
   "id": "1aef6274",
   "metadata": {},
   "outputs": [
    {
     "data": {
      "text/plain": [
       "0.3333333333333333"
      ]
     },
     "execution_count": 84,
     "metadata": {},
     "output_type": "execute_result"
    }
   ],
   "source": [
    "# P_BA -> Probabilidad de que sea verdadero sabiendo que viene de la caja A\n",
    "diamantes_caja_A = [pair for pair in caja_A if True in pair]\n",
    "len(diamantes_caja_A)/len(caja_A)"
   ]
  },
  {
   "cell_type": "code",
   "execution_count": 85,
   "id": "1a647f70",
   "metadata": {},
   "outputs": [
    {
     "data": {
      "text/plain": [
       "0.6666666666666666"
      ]
     },
     "execution_count": 85,
     "metadata": {},
     "output_type": "execute_result"
    }
   ],
   "source": [
    "# P_A|B -> Probabilidad de que vino de la caja A sabiendo que es verdadero\n",
    "caja_A_verdadero = [pair for pair in diamante_verdadero if \"A\" in pair]\n",
    "len(caja_A_verdadero)/len(diamante_verdadero)"
   ]
  },
  {
   "cell_type": "markdown",
   "id": "f4ed3d9a",
   "metadata": {},
   "source": [
    "- Ejemplo 3\n",
    "\n",
    "Hay una enfermedad que afecta a 0.1% de la población. Hay un examen que es 99% efectivo en detectar una persona infectada, pero que dá un resultado falso positivo en 0.5% de los casos.\n",
    "\n",
    "¿Cual es la probabilidad de tener la enfermedad si el resultado del test fué positivo?"
   ]
  },
  {
   "cell_type": "code",
   "execution_count": 86,
   "id": "0d00a6ee",
   "metadata": {},
   "outputs": [],
   "source": [
    "# P_A -> Probabilidad de tener la enfermedad\n",
    "# P_B -> Probabilidad de test positivo\n",
    "# P_B|A -> Probabilidad de test positivo dado que tiene la enfermedad\n",
    "# P_A|B -> La probabilidad de tener la enfermedad dado que el resultado del test fué positivo"
   ]
  },
  {
   "cell_type": "code",
   "execution_count": 87,
   "id": "7f93be9c",
   "metadata": {},
   "outputs": [],
   "source": [
    "p_a = 0.001"
   ]
  },
  {
   "cell_type": "code",
   "execution_count": 88,
   "id": "5e717cc3",
   "metadata": {},
   "outputs": [
    {
     "data": {
      "text/plain": [
       "0.005985000000000001"
      ]
     },
     "execution_count": 88,
     "metadata": {},
     "output_type": "execute_result"
    }
   ],
   "source": [
    "p_b = (0.99*0.001) + (0.005*(1-p_a))  # test * %enfermo + test_falso_positivo * %gente_sana\n",
    "p_b"
   ]
  },
  {
   "cell_type": "code",
   "execution_count": 89,
   "id": "b8335b83",
   "metadata": {},
   "outputs": [
    {
     "data": {
      "text/plain": [
       "0.99"
      ]
     },
     "execution_count": 89,
     "metadata": {},
     "output_type": "execute_result"
    }
   ],
   "source": [
    "p_ba = 0.99   # El test se realiza sobre las personas infectadas, no sobre el 100% de la poblacion. Por eso no se\n",
    "              # multiplica por 0.001, el cual es el porcentaje de personas infectadas con la enfermedad.\n",
    "p_ba"
   ]
  },
  {
   "cell_type": "code",
   "execution_count": 90,
   "id": "4430dced",
   "metadata": {},
   "outputs": [
    {
     "data": {
      "text/plain": [
       "16.541353383458645"
      ]
     },
     "execution_count": 90,
     "metadata": {},
     "output_type": "execute_result"
    }
   ],
   "source": [
    "p_ab = (p_a*p_ba)/p_b\n",
    "p_ab*100"
   ]
  },
  {
   "cell_type": "markdown",
   "id": "68385616",
   "metadata": {},
   "source": [
    "## 4 Monty Hall example\n",
    "![](img/monty.png)\n",
    "\n",
    "En un famoso programa norteamericano había un concurso en que el presentador le enseñaba 3 puertas al participante, que debería eligir una de ellas para conseguir un gran premio. Una vez eligida su puerta, de las 2 restantes, el presentador abriría una para enseñar que allí no había premio, sino que una cabra. 🐐\n",
    "\n",
    "En ese momento el participante podía eligir permanecer con su elección inicial o cambiar de puerta. ¿Que harías tu?"
   ]
  },
  {
   "cell_type": "code",
   "execution_count": 91,
   "id": "a358217d",
   "metadata": {},
   "outputs": [],
   "source": [
    "# Elegimos la puerta 3"
   ]
  },
  {
   "cell_type": "code",
   "execution_count": 92,
   "id": "3889e287",
   "metadata": {},
   "outputs": [
    {
     "data": {
      "text/plain": [
       "0.3333333333333333"
      ]
     },
     "execution_count": 92,
     "metadata": {},
     "output_type": "execute_result"
    }
   ],
   "source": [
    "# P_A = Coche en la puerta 3 🤩\n",
    "# P_B = El presentador abre la puerta 1 🐐\n",
    "\n",
    "p_a = 1/3   # Elegimos una puerta entre las 3 puertas disponibles\n",
    "p_b = 1/2   # El presentador puede elegir una de las 2 puertas que quedan\n",
    "p_ba = 1/2  # El presentador puede abrir cualquiera de las 2 puertas, ya que son cabras 🐐\n",
    "\n",
    "p_ab = p_a*p_ba/p_b\n",
    "p_ab"
   ]
  },
  {
   "cell_type": "code",
   "execution_count": 93,
   "id": "e559535e",
   "metadata": {},
   "outputs": [
    {
     "data": {
      "text/plain": [
       "0.0"
      ]
     },
     "execution_count": 93,
     "metadata": {},
     "output_type": "execute_result"
    }
   ],
   "source": [
    "# P_A = Coche en la puerta 1 😱\n",
    "# P_B = El presentador abre la puerta 1 ⁉️\n",
    "\n",
    "p_a = 1/3   # Elegimos una puerta entre las 3 puertas disponibles\n",
    "p_b = 1/2   # El presentador puede elegir una de las 2 puertas que quedan\n",
    "p_ba = 0    # No va a abrir la puerta que contiene el coche (Probabilidad de que abra la puerta 1 dado que contiene el coche)\n",
    "\n",
    "p_ab = p_a*p_ba/p_b\n",
    "p_ab"
   ]
  },
  {
   "cell_type": "code",
   "execution_count": 94,
   "id": "49a7ec35",
   "metadata": {},
   "outputs": [
    {
     "data": {
      "text/plain": [
       "0.6666666666666666"
      ]
     },
     "execution_count": 94,
     "metadata": {},
     "output_type": "execute_result"
    }
   ],
   "source": [
    "# P_A = Coche en puerta 2 😱\n",
    "# P_B = El presentador abre la puerta 1 🐐\n",
    "\n",
    "p_a = 1/3   # Elegimos una puerta entre las 3 puertas disponibles\n",
    "p_b = 1/2   # El presentador puede elegir una de las 2 puertas que quedan\n",
    "p_ba = 1    # El presentador solo puede elegit la puerta 1, ya que en la puerta 2 está el coche\n",
    "\n",
    "p_ab = p_a*p_ba/p_b\n",
    "p_ab"
   ]
  },
  {
   "cell_type": "markdown",
   "id": "5c5a4f78",
   "metadata": {},
   "source": [
    "Video explicativo 🤓 [Date un blog](https://www.youtube.com/watch?v=1BpTBzDQuRE)"
   ]
  }
 ],
 "metadata": {
  "kernelspec": {
   "display_name": "Python 3 (ipykernel)",
   "language": "python",
   "name": "python3"
  },
  "language_info": {
   "codemirror_mode": {
    "name": "ipython",
    "version": 3
   },
   "file_extension": ".py",
   "mimetype": "text/x-python",
   "name": "python",
   "nbconvert_exporter": "python",
   "pygments_lexer": "ipython3",
   "version": "3.9.7"
  },
  "toc": {
   "base_numbering": 1,
   "nav_menu": {},
   "number_sections": false,
   "sideBar": true,
   "skip_h1_title": true,
   "title_cell": "Table of Contents",
   "title_sidebar": "Contents",
   "toc_cell": true,
   "toc_position": {
    "height": "calc(100% - 180px)",
    "left": "10px",
    "top": "150px",
    "width": "288px"
   },
   "toc_section_display": true,
   "toc_window_display": false
  }
 },
 "nbformat": 4,
 "nbformat_minor": 5
}
