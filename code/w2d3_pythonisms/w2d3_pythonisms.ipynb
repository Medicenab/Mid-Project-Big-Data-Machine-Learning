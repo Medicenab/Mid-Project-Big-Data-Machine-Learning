{
 "cells": [
  {
   "cell_type": "markdown",
   "id": "3b8bd523",
   "metadata": {},
   "source": [
    "![](https://api.brandy.run/core/core-logo-wide)\n",
    "\n",
    "# Python Basics"
   ]
  },
  {
   "cell_type": "markdown",
   "id": "75f010dc",
   "metadata": {},
   "source": [
    "## Contenedores\n",
    "\n",
    "Algunos tipos de variables no son un único dato, sino que contenedores de otros tipos de datos, como es el caso de `tuple`, `list`, `set` and `dict`.\n",
    "\n",
    "Esos tipos se representan con los caracteres `()`, `[]`, `{}` y `{:}`\n",
    "\n",
    "### Tuplas y Listas\n",
    "\n",
    "Dos tipos de contendores muy parecidos son las tuplas y las listas, ambos secuencias ordenadas de valores. Tal cual las variables, las tuplas y listas pueden contener cualquier tipo de objeto, incluso las proprias listas y tuplas.\n",
    "\n",
    "La diferencia entre ellos es que las listas son elementos mutables, mientras las tuplas no lo son. Eso permite que posamos insertar, cambiar y remover elementos de las listas."
   ]
  },
  {
   "cell_type": "code",
   "execution_count": 22,
   "id": "dc53cd4e-6ccc-4e66-b4a8-3baa6e6ee4fb",
   "metadata": {},
   "outputs": [],
   "source": [
    "lst = [1,print,[1,2,3],(1,2,3),\"aso\", True, {1:1}, {1,23,4}]"
   ]
  },
  {
   "cell_type": "code",
   "execution_count": 23,
   "id": "b859ee02-38c5-416a-96a5-05297852d58c",
   "metadata": {},
   "outputs": [],
   "source": [
    "tup = (1,print,[1,2,3],(1,2,3),\"aso\", True, {1:1}, {1,23,4})"
   ]
  },
  {
   "cell_type": "code",
   "execution_count": 25,
   "id": "0ee071ad-3176-41fd-90eb-da49db36fd01",
   "metadata": {},
   "outputs": [],
   "source": [
    "lst[1] = \"Hola\""
   ]
  },
  {
   "cell_type": "code",
   "execution_count": 26,
   "id": "3d5f48b0-41b2-4c6b-ad59-b3ef645d41dd",
   "metadata": {},
   "outputs": [
    {
     "data": {
      "text/plain": [
       "[1, 'Hola', [1, 2, 3], (1, 2, 3), 'aso', True, {1: 1}, {1, 4, 23}]"
      ]
     },
     "execution_count": 26,
     "metadata": {},
     "output_type": "execute_result"
    }
   ],
   "source": [
    "lst"
   ]
  },
  {
   "cell_type": "code",
   "execution_count": 28,
   "id": "9f002c5a-1595-41ce-9b84-3ecbe35b17a6",
   "metadata": {},
   "outputs": [
    {
     "ename": "TypeError",
     "evalue": "'tuple' object does not support item assignment",
     "output_type": "error",
     "traceback": [
      "\u001b[0;31m---------------------------------------------------------------------------\u001b[0m",
      "\u001b[0;31mTypeError\u001b[0m                                 Traceback (most recent call last)",
      "\u001b[0;32m/var/folders/gd/w3m3w_td6cldhkn58qwx7mtm0000gn/T/ipykernel_2441/4001525452.py\u001b[0m in \u001b[0;36m<module>\u001b[0;34m\u001b[0m\n\u001b[0;32m----> 1\u001b[0;31m \u001b[0mtup\u001b[0m\u001b[0;34m[\u001b[0m\u001b[0;36m1\u001b[0m\u001b[0;34m]\u001b[0m\u001b[0;34m=\u001b[0m\u001b[0;34m\"Hola\"\u001b[0m\u001b[0;34m\u001b[0m\u001b[0;34m\u001b[0m\u001b[0m\n\u001b[0m",
      "\u001b[0;31mTypeError\u001b[0m: 'tuple' object does not support item assignment"
     ]
    }
   ],
   "source": [
    "tup[1]=\"Hola\""
   ]
  },
  {
   "cell_type": "code",
   "execution_count": 29,
   "id": "967c788d-ca35-47f2-891e-84374896c75a",
   "metadata": {},
   "outputs": [
    {
     "data": {
      "text/plain": [
       "['append',\n",
       " 'clear',\n",
       " 'copy',\n",
       " 'count',\n",
       " 'extend',\n",
       " 'index',\n",
       " 'insert',\n",
       " 'pop',\n",
       " 'remove',\n",
       " 'reverse',\n",
       " 'sort']"
      ]
     },
     "execution_count": 29,
     "metadata": {},
     "output_type": "execute_result"
    }
   ],
   "source": [
    "[att for att in dir(list) if not att.startswith(\"_\")]"
   ]
  },
  {
   "cell_type": "code",
   "execution_count": 31,
   "id": "ea3b6012-de6d-4057-bbfc-ae82a7a38bad",
   "metadata": {},
   "outputs": [
    {
     "data": {
      "text/plain": [
       "['count', 'index']"
      ]
     },
     "execution_count": 31,
     "metadata": {},
     "output_type": "execute_result"
    }
   ],
   "source": [
    "[att for att in dir(tuple) if not att.startswith(\"_\")]"
   ]
  },
  {
   "cell_type": "markdown",
   "id": "b7f772e6",
   "metadata": {},
   "source": [
    "### ¿Pero y (1,2,3) +(4,) ?\n",
    "\n",
    "Si ejecutamos el codigo abajo, todo parece funcionar bien y no hay errores. ¿Son las tuplas tan inmutables así?"
   ]
  },
  {
   "cell_type": "code",
   "execution_count": 32,
   "id": "e3984fca-7ffd-4446-ba66-bf5321895c6f",
   "metadata": {},
   "outputs": [
    {
     "ename": "AttributeError",
     "evalue": "'tuple' object has no attribute 'add'",
     "output_type": "error",
     "traceback": [
      "\u001b[0;31m---------------------------------------------------------------------------\u001b[0m",
      "\u001b[0;31mAttributeError\u001b[0m                            Traceback (most recent call last)",
      "\u001b[0;32m/var/folders/gd/w3m3w_td6cldhkn58qwx7mtm0000gn/T/ipykernel_2441/572019089.py\u001b[0m in \u001b[0;36m<module>\u001b[0;34m\u001b[0m\n\u001b[0;32m----> 1\u001b[0;31m \u001b[0mtup\u001b[0m\u001b[0;34m.\u001b[0m\u001b[0madd\u001b[0m\u001b[0;34m(\u001b[0m\u001b[0;36m1\u001b[0m\u001b[0;34m)\u001b[0m\u001b[0;34m\u001b[0m\u001b[0;34m\u001b[0m\u001b[0m\n\u001b[0m",
      "\u001b[0;31mAttributeError\u001b[0m: 'tuple' object has no attribute 'add'"
     ]
    }
   ],
   "source": [
    "tup.add(1)"
   ]
  },
  {
   "cell_type": "code",
   "execution_count": 34,
   "id": "7a26bcd0-ebd6-4278-963a-21e9a7eac777",
   "metadata": {},
   "outputs": [
    {
     "data": {
      "text/plain": [
       "(1,\n",
       " <function print>,\n",
       " [1, 2, 3],\n",
       " (1, 2, 3),\n",
       " 'aso',\n",
       " True,\n",
       " {1: 1},\n",
       " {1, 4, 23},\n",
       " 'Hola')"
      ]
     },
     "execution_count": 34,
     "metadata": {},
     "output_type": "execute_result"
    }
   ],
   "source": [
    "tup + (\"Hola\",)"
   ]
  },
  {
   "cell_type": "markdown",
   "id": "e7026052",
   "metadata": {},
   "source": [
    "Investiguemos.\n",
    "\n",
    "La función `id` devuelve un numero que representa la dirección de memoria donde se almacena un determinado objeto. Ese numero es un identificador unico de ese objeto."
   ]
  },
  {
   "cell_type": "code",
   "execution_count": 35,
   "id": "ba6f89ae-6418-4f8d-ad38-9b97ae7522eb",
   "metadata": {},
   "outputs": [],
   "source": [
    "d = {\"a\":1, \"b\":2}"
   ]
  },
  {
   "cell_type": "code",
   "execution_count": 37,
   "id": "2076460d-6d9c-498b-a7c8-2a92b7cba8fb",
   "metadata": {},
   "outputs": [
    {
     "data": {
      "text/plain": [
       "1"
      ]
     },
     "execution_count": 37,
     "metadata": {},
     "output_type": "execute_result"
    }
   ],
   "source": [
    "d[\"a\"]"
   ]
  },
  {
   "cell_type": "code",
   "execution_count": 42,
   "id": "cf0d7c66-25d3-456f-86d8-ebbfbe4f397e",
   "metadata": {},
   "outputs": [
    {
     "ename": "TypeError",
     "evalue": "unhashable type: 'dict'",
     "output_type": "error",
     "traceback": [
      "\u001b[0;31m---------------------------------------------------------------------------\u001b[0m",
      "\u001b[0;31mTypeError\u001b[0m                                 Traceback (most recent call last)",
      "\u001b[0;32m/var/folders/gd/w3m3w_td6cldhkn58qwx7mtm0000gn/T/ipykernel_2441/1417707573.py\u001b[0m in \u001b[0;36m<module>\u001b[0;34m\u001b[0m\n\u001b[0;32m----> 1\u001b[0;31m \u001b[0md\u001b[0m \u001b[0;34m=\u001b[0m  \u001b[0;34m{\u001b[0m\u001b[0;34m\"a\"\u001b[0m\u001b[0;34m:\u001b[0m\u001b[0;36m1\u001b[0m\u001b[0;34m,\u001b[0m \u001b[0;34m\"b\"\u001b[0m\u001b[0;34m:\u001b[0m\u001b[0;36m2\u001b[0m\u001b[0;34m,\u001b[0m \u001b[0;36m6\u001b[0m\u001b[0;34m:\u001b[0m\u001b[0;34m\"Hola\"\u001b[0m\u001b[0;34m,\u001b[0m \u001b[0;34m(\u001b[0m\u001b[0;36m1\u001b[0m\u001b[0;34m,\u001b[0m\u001b[0;36m2\u001b[0m\u001b[0;34m,\u001b[0m\u001b[0;36m3\u001b[0m\u001b[0;34m)\u001b[0m\u001b[0;34m:\u001b[0m\u001b[0;34m\"Hola\"\u001b[0m\u001b[0;34m,\u001b[0m \u001b[0;34m{\u001b[0m\u001b[0;36m1\u001b[0m\u001b[0;34m:\u001b[0m\u001b[0;36m2\u001b[0m\u001b[0;34m}\u001b[0m\u001b[0;34m:\u001b[0m \u001b[0;34m\"Adios\"\u001b[0m\u001b[0;34m}\u001b[0m\u001b[0;34m\u001b[0m\u001b[0;34m\u001b[0m\u001b[0m\n\u001b[0m",
      "\u001b[0;31mTypeError\u001b[0m: unhashable type: 'dict'"
     ]
    }
   ],
   "source": [
    "d =  {\"a\":1, \"b\":2, 6:\"Hola\", (1,2,3):\"Hola\", {1:2}: \"Adios\"}"
   ]
  },
  {
   "cell_type": "code",
   "execution_count": 44,
   "id": "125cbafa-81f4-4030-b685-3244c6eb6d5a",
   "metadata": {},
   "outputs": [],
   "source": [
    "a = \"Hola\""
   ]
  },
  {
   "cell_type": "code",
   "execution_count": 47,
   "id": "1e2d850a-222e-49ad-9e09-de0e71c0c0ba",
   "metadata": {},
   "outputs": [
    {
     "ename": "TypeError",
     "evalue": "'str' object does not support item assignment",
     "output_type": "error",
     "traceback": [
      "\u001b[0;31m---------------------------------------------------------------------------\u001b[0m",
      "\u001b[0;31mTypeError\u001b[0m                                 Traceback (most recent call last)",
      "\u001b[0;32m/var/folders/gd/w3m3w_td6cldhkn58qwx7mtm0000gn/T/ipykernel_2441/3374102968.py\u001b[0m in \u001b[0;36m<module>\u001b[0;34m\u001b[0m\n\u001b[0;32m----> 1\u001b[0;31m \u001b[0ma\u001b[0m\u001b[0;34m[\u001b[0m\u001b[0;36m1\u001b[0m\u001b[0;34m]\u001b[0m\u001b[0;34m=\u001b[0m\u001b[0;34m\"H\"\u001b[0m\u001b[0;34m\u001b[0m\u001b[0;34m\u001b[0m\u001b[0m\n\u001b[0m",
      "\u001b[0;31mTypeError\u001b[0m: 'str' object does not support item assignment"
     ]
    }
   ],
   "source": [
    "a[1]=\"H\""
   ]
  },
  {
   "cell_type": "code",
   "execution_count": 45,
   "id": "adba4fa6-fb59-42e2-9f71-a9f0baa017ed",
   "metadata": {},
   "outputs": [
    {
     "data": {
      "text/plain": [
       "4633956528"
      ]
     },
     "execution_count": 45,
     "metadata": {},
     "output_type": "execute_result"
    }
   ],
   "source": [
    "id(a)"
   ]
  },
  {
   "cell_type": "code",
   "execution_count": 48,
   "id": "da1e4a99-ae27-485b-8905-c4ab1c45fbf2",
   "metadata": {},
   "outputs": [],
   "source": [
    "lst = [1,2,3,4]"
   ]
  },
  {
   "cell_type": "code",
   "execution_count": 49,
   "id": "a5651b97-a776-4f2c-ab24-e8b3491b7265",
   "metadata": {},
   "outputs": [
    {
     "data": {
      "text/plain": [
       "4634906816"
      ]
     },
     "execution_count": 49,
     "metadata": {},
     "output_type": "execute_result"
    }
   ],
   "source": [
    "id(lst)"
   ]
  },
  {
   "cell_type": "code",
   "execution_count": 50,
   "id": "a2171f4f-1444-4573-9e14-5e9853f6775d",
   "metadata": {},
   "outputs": [],
   "source": [
    "lst.append(5)"
   ]
  },
  {
   "cell_type": "code",
   "execution_count": 51,
   "id": "0257fa48-0cf2-4317-807e-039209367b81",
   "metadata": {},
   "outputs": [
    {
     "data": {
      "text/plain": [
       "4634906816"
      ]
     },
     "execution_count": 51,
     "metadata": {},
     "output_type": "execute_result"
    }
   ],
   "source": [
    "id(lst)"
   ]
  },
  {
   "cell_type": "code",
   "execution_count": 52,
   "id": "5d31f860-1cfc-4d89-9c41-65fabfb04732",
   "metadata": {},
   "outputs": [],
   "source": [
    "tup = (1,2,3)"
   ]
  },
  {
   "cell_type": "code",
   "execution_count": 53,
   "id": "423ff7df-4438-48c8-9e26-7012a1bf122d",
   "metadata": {},
   "outputs": [
    {
     "data": {
      "text/plain": [
       "4633638976"
      ]
     },
     "execution_count": 53,
     "metadata": {},
     "output_type": "execute_result"
    }
   ],
   "source": [
    "id(tup)"
   ]
  },
  {
   "cell_type": "code",
   "execution_count": 54,
   "id": "909776a5-6948-42bd-938a-76837b7430b4",
   "metadata": {},
   "outputs": [],
   "source": [
    "tup = tup + (1,)"
   ]
  },
  {
   "cell_type": "code",
   "execution_count": 55,
   "id": "18d4b108-efcc-43d9-b70e-1b3bd1969131",
   "metadata": {},
   "outputs": [
    {
     "data": {
      "text/plain": [
       "(1, 2, 3, 1)"
      ]
     },
     "execution_count": 55,
     "metadata": {},
     "output_type": "execute_result"
    }
   ],
   "source": [
    "tup"
   ]
  },
  {
   "cell_type": "code",
   "execution_count": 56,
   "id": "f79a042e-f8b6-404c-9f70-9b8d3dc27ed2",
   "metadata": {},
   "outputs": [
    {
     "data": {
      "text/plain": [
       "4635720656"
      ]
     },
     "execution_count": 56,
     "metadata": {},
     "output_type": "execute_result"
    }
   ],
   "source": [
    "id(tup)"
   ]
  },
  {
   "cell_type": "markdown",
   "id": "9eef97da",
   "metadata": {},
   "source": [
    "Aunque cambiamos la lista, su identificador permanece el mismo, y por lo tanto, sigue siendo el `mismo` objeto. Por otro lado, el cambio en la tupla significa que estamos asignando una `nueva` tupla a la misma variable. \n",
    "\n",
    "### Sets y Diccionarios: Hash\n",
    "\n",
    "La inmutabilidad de un objeto está directamente relacionada con su posibilidad de `hash`, lo que está relacionado con los otros tipos de contenedores, sets y dicionarios.\n",
    "\n",
    "Como son mutables, las listas `NO` pueden ser elementos de sets. Pero las tuplas sí pueden."
   ]
  },
  {
   "cell_type": "code",
   "execution_count": 64,
   "id": "06a4d5f5-b7be-454f-8160-b78fc2ec6365",
   "metadata": {},
   "outputs": [
    {
     "ename": "TypeError",
     "evalue": "unhashable type: 'list'",
     "output_type": "error",
     "traceback": [
      "\u001b[0;31m---------------------------------------------------------------------------\u001b[0m",
      "\u001b[0;31mTypeError\u001b[0m                                 Traceback (most recent call last)",
      "\u001b[0;32m/var/folders/gd/w3m3w_td6cldhkn58qwx7mtm0000gn/T/ipykernel_2441/2165678901.py\u001b[0m in \u001b[0;36m<module>\u001b[0;34m\u001b[0m\n\u001b[0;32m----> 1\u001b[0;31m \u001b[0;34m{\u001b[0m\u001b[0;34m[\u001b[0m\u001b[0;36m1\u001b[0m\u001b[0;34m,\u001b[0m\u001b[0;36m2\u001b[0m\u001b[0;34m,\u001b[0m\u001b[0;36m3\u001b[0m\u001b[0;34m]\u001b[0m\u001b[0;34m,\u001b[0m \u001b[0;34m[\u001b[0m\u001b[0;36m4\u001b[0m\u001b[0;34m,\u001b[0m\u001b[0;36m5\u001b[0m\u001b[0;34m,\u001b[0m\u001b[0;36m6\u001b[0m\u001b[0;34m]\u001b[0m\u001b[0;34m}\u001b[0m\u001b[0;34m\u001b[0m\u001b[0;34m\u001b[0m\u001b[0m\n\u001b[0m",
      "\u001b[0;31mTypeError\u001b[0m: unhashable type: 'list'"
     ]
    }
   ],
   "source": [
    "{[1,2,3], [4,5,6]}"
   ]
  },
  {
   "cell_type": "code",
   "execution_count": 65,
   "id": "cd997536-7bfc-449c-b8a2-014006fc795f",
   "metadata": {},
   "outputs": [
    {
     "data": {
      "text/plain": [
       "-5361696901264649034"
      ]
     },
     "execution_count": 65,
     "metadata": {},
     "output_type": "execute_result"
    }
   ],
   "source": [
    "hash(\"hola\")"
   ]
  },
  {
   "cell_type": "code",
   "execution_count": 66,
   "id": "345448bb-427d-462e-99b0-2a9d3af0033c",
   "metadata": {},
   "outputs": [
    {
     "data": {
      "text/plain": [
       "8765016034690658087"
      ]
     },
     "execution_count": 66,
     "metadata": {},
     "output_type": "execute_result"
    }
   ],
   "source": [
    "hash(\"Adios\")"
   ]
  },
  {
   "cell_type": "markdown",
   "id": "7a12402c",
   "metadata": {},
   "source": [
    "Igualmente, las listas `NO` pueden ser `keys` de un dicionário, pero si pueden ser sus values."
   ]
  },
  {
   "cell_type": "markdown",
   "id": "b53d86c4",
   "metadata": {},
   "source": [
    "El motivo para esa separación es muy claro. Si crearamos un set de objetos mutables, tendríamos que verificar que son unicos constantemente pues a cada momento podrían haber cambiado.\n",
    "\n",
    "Lo mismo para los diccionários. Si una key puediera cambiar, seria más complicado referenciarla a un valor pues su identificación no seria siempre la misma. \n",
    "\n",
    "Es como si imaginaramos enviar una carta a alguién, pero su dirección cambia constantemente."
   ]
  },
  {
   "cell_type": "markdown",
   "id": "e05848f0",
   "metadata": {},
   "source": [
    "### Subscriptability\n",
    "La otra característica de listas, tuplas y strings es que sean ordenadas. Eso significa que se pueden selecionar elementos y slices utilizando sus indices numericos.\n",
    "\n",
    "`Note: Los indices siempre empiezan en 0.`\n",
    "\n",
    "Hay 3 partes en el index, separadas por `:`.\n",
    "\n",
    "```\n",
    "[start:end:step]\n",
    "```"
   ]
  },
  {
   "cell_type": "code",
   "execution_count": 71,
   "id": "0dc0ba8a-4a38-4bd8-be77-32140f877ec6",
   "metadata": {},
   "outputs": [
    {
     "data": {
      "text/plain": [
       "[1, 3, 5]"
      ]
     },
     "execution_count": 71,
     "metadata": {},
     "output_type": "execute_result"
    }
   ],
   "source": [
    "lst[::2]"
   ]
  },
  {
   "cell_type": "code",
   "execution_count": 74,
   "id": "a391fd29-c6ba-4225-b657-9c2439fd1655",
   "metadata": {},
   "outputs": [
    {
     "data": {
      "text/plain": [
       "1"
      ]
     },
     "execution_count": 74,
     "metadata": {},
     "output_type": "execute_result"
    }
   ],
   "source": [
    "tup[0]"
   ]
  },
  {
   "cell_type": "markdown",
   "id": "7c2bf3ab",
   "metadata": {},
   "source": [
    "Diccionários y Sets, que son no ordenados no poseen la misma posibilidad."
   ]
  },
  {
   "cell_type": "code",
   "execution_count": 75,
   "id": "c915ee36-4add-434e-b6e4-18871a4fb43e",
   "metadata": {},
   "outputs": [
    {
     "name": "stderr",
     "output_type": "stream",
     "text": [
      "<>:1: SyntaxWarning: 'set' object is not subscriptable; perhaps you missed a comma?\n",
      "<>:1: SyntaxWarning: 'set' object is not subscriptable; perhaps you missed a comma?\n",
      "/var/folders/gd/w3m3w_td6cldhkn58qwx7mtm0000gn/T/ipykernel_2441/1418336839.py:1: SyntaxWarning: 'set' object is not subscriptable; perhaps you missed a comma?\n",
      "  {1,2,3,4}[0]\n"
     ]
    },
    {
     "ename": "TypeError",
     "evalue": "'set' object is not subscriptable",
     "output_type": "error",
     "traceback": [
      "\u001b[0;31m---------------------------------------------------------------------------\u001b[0m",
      "\u001b[0;31mTypeError\u001b[0m                                 Traceback (most recent call last)",
      "\u001b[0;32m/var/folders/gd/w3m3w_td6cldhkn58qwx7mtm0000gn/T/ipykernel_2441/1418336839.py\u001b[0m in \u001b[0;36m<module>\u001b[0;34m\u001b[0m\n\u001b[0;32m----> 1\u001b[0;31m \u001b[0;34m{\u001b[0m\u001b[0;36m1\u001b[0m\u001b[0;34m,\u001b[0m\u001b[0;36m2\u001b[0m\u001b[0;34m,\u001b[0m\u001b[0;36m3\u001b[0m\u001b[0;34m,\u001b[0m\u001b[0;36m4\u001b[0m\u001b[0;34m}\u001b[0m\u001b[0;34m[\u001b[0m\u001b[0;36m0\u001b[0m\u001b[0;34m]\u001b[0m\u001b[0;34m\u001b[0m\u001b[0;34m\u001b[0m\u001b[0m\n\u001b[0m",
      "\u001b[0;31mTypeError\u001b[0m: 'set' object is not subscriptable"
     ]
    }
   ],
   "source": [
    "{1,2,3,4}[0]"
   ]
  },
  {
   "cell_type": "markdown",
   "id": "40103b63",
   "metadata": {},
   "source": [
    "## Paso por valor y paso por referencia\n",
    "\n",
    "Cuando asignamos una variable, dependiendo de su tipo y su mutabilidad, la estaremos asignando através de paso por valor o referencia. Veamos que significa eso."
   ]
  },
  {
   "cell_type": "code",
   "execution_count": 76,
   "id": "81eeaf75-37a2-4db9-b414-53acfe8e4eed",
   "metadata": {},
   "outputs": [],
   "source": [
    "a = 5"
   ]
  },
  {
   "cell_type": "code",
   "execution_count": 77,
   "id": "ceb19237-dcee-4fe1-8d1a-bf717643a152",
   "metadata": {},
   "outputs": [],
   "source": [
    "b = a"
   ]
  },
  {
   "cell_type": "code",
   "execution_count": 78,
   "id": "de4abc7f-d22a-43da-989b-0ad4f09f105d",
   "metadata": {},
   "outputs": [
    {
     "data": {
      "text/plain": [
       "5"
      ]
     },
     "execution_count": 78,
     "metadata": {},
     "output_type": "execute_result"
    }
   ],
   "source": [
    "b"
   ]
  },
  {
   "cell_type": "code",
   "execution_count": 79,
   "id": "c5c26e02-e49e-4d2b-9511-a641da515ebc",
   "metadata": {},
   "outputs": [],
   "source": [
    "a = 7"
   ]
  },
  {
   "cell_type": "code",
   "execution_count": 80,
   "id": "07cf751b-7aad-483f-adac-e55c814e229f",
   "metadata": {},
   "outputs": [
    {
     "data": {
      "text/plain": [
       "5"
      ]
     },
     "execution_count": 80,
     "metadata": {},
     "output_type": "execute_result"
    }
   ],
   "source": [
    "b"
   ]
  },
  {
   "cell_type": "code",
   "execution_count": 81,
   "id": "d78c92c2-3396-4b19-bf2e-d11347685833",
   "metadata": {},
   "outputs": [
    {
     "data": {
      "text/plain": [
       "[1, 2, 3, 4, 5]"
      ]
     },
     "execution_count": 81,
     "metadata": {},
     "output_type": "execute_result"
    }
   ],
   "source": [
    "lst"
   ]
  },
  {
   "cell_type": "code",
   "execution_count": 82,
   "id": "83c2c94a-cdb8-4b25-9c3e-648aef8f1bdf",
   "metadata": {},
   "outputs": [],
   "source": [
    "c = lst"
   ]
  },
  {
   "cell_type": "code",
   "execution_count": 83,
   "id": "3b0ef2ba-54eb-4f87-b87c-7970a4e1d53f",
   "metadata": {},
   "outputs": [
    {
     "data": {
      "text/plain": [
       "[1, 2, 3, 4, 5]"
      ]
     },
     "execution_count": 83,
     "metadata": {},
     "output_type": "execute_result"
    }
   ],
   "source": [
    "c"
   ]
  },
  {
   "cell_type": "code",
   "execution_count": 84,
   "id": "4c5b50eb-ea55-4b71-91ff-08ef3d71601b",
   "metadata": {},
   "outputs": [],
   "source": [
    "lst.append(6)"
   ]
  },
  {
   "cell_type": "code",
   "execution_count": 85,
   "id": "65a04d39-e903-4790-b7e8-9cc7ad3a211c",
   "metadata": {},
   "outputs": [
    {
     "data": {
      "text/plain": [
       "[1, 2, 3, 4, 5, 6]"
      ]
     },
     "execution_count": 85,
     "metadata": {},
     "output_type": "execute_result"
    }
   ],
   "source": [
    "lst"
   ]
  },
  {
   "cell_type": "code",
   "execution_count": 86,
   "id": "c2947a61-67d5-4344-9a6a-6aaab9cfa3c7",
   "metadata": {},
   "outputs": [
    {
     "data": {
      "text/plain": [
       "[1, 2, 3, 4, 5, 6]"
      ]
     },
     "execution_count": 86,
     "metadata": {},
     "output_type": "execute_result"
    }
   ],
   "source": [
    "c"
   ]
  },
  {
   "cell_type": "code",
   "execution_count": 92,
   "id": "9ce9a3de-2443-4fb9-a3f4-114f1a4e814a",
   "metadata": {},
   "outputs": [],
   "source": [
    "lst.append(1)"
   ]
  },
  {
   "cell_type": "code",
   "execution_count": 89,
   "id": "f1a00acf-cd77-4bd6-a009-0a0936fe8f5b",
   "metadata": {},
   "outputs": [
    {
     "data": {
      "text/plain": [
       "[1, 2, 3, 4, 5, 6, 1]"
      ]
     },
     "execution_count": 89,
     "metadata": {},
     "output_type": "execute_result"
    }
   ],
   "source": [
    "lst"
   ]
  },
  {
   "cell_type": "code",
   "execution_count": 90,
   "id": "f7e23c11-b18a-42a5-8159-7223e80b2477",
   "metadata": {},
   "outputs": [],
   "source": [
    "lst.sort()"
   ]
  },
  {
   "cell_type": "code",
   "execution_count": 91,
   "id": "6d0fb2e4-8d50-40ad-86e1-9dc9cca43d9b",
   "metadata": {},
   "outputs": [
    {
     "data": {
      "text/plain": [
       "[1, 1, 2, 3, 4, 5, 6]"
      ]
     },
     "execution_count": 91,
     "metadata": {},
     "output_type": "execute_result"
    }
   ],
   "source": [
    "lst"
   ]
  },
  {
   "cell_type": "code",
   "execution_count": 93,
   "id": "2ac691e2-881f-4cd1-aaed-315287866a97",
   "metadata": {},
   "outputs": [
    {
     "data": {
      "text/plain": [
       "[1, 1, 1, 2, 3, 4, 5, 6]"
      ]
     },
     "execution_count": 93,
     "metadata": {},
     "output_type": "execute_result"
    }
   ],
   "source": [
    "sorted(lst)"
   ]
  },
  {
   "cell_type": "code",
   "execution_count": 94,
   "id": "5d7a096d-4146-46fa-a5f9-660e57b3abed",
   "metadata": {},
   "outputs": [
    {
     "data": {
      "text/plain": [
       "[1, 1, 2, 3, 4, 5, 6, 1]"
      ]
     },
     "execution_count": 94,
     "metadata": {},
     "output_type": "execute_result"
    }
   ],
   "source": [
    "lst"
   ]
  },
  {
   "cell_type": "markdown",
   "id": "a4c8953b",
   "metadata": {},
   "source": [
    "Como los enteros `int` son objetos inmutables, al asignar `b=a`, estamos asignando a la variable b, el `valor` de a. Y por lo tanto, cambiar `b` no tiene ningún efecto sobre `a`."
   ]
  },
  {
   "cell_type": "markdown",
   "id": "ff41c561",
   "metadata": {},
   "source": [
    "Lo mismo `NO` pasa con las listas, que son mutables. Cuando asignamos `lst_b = lst_a` le estamos asignando la misma referencia a lst_b que tiene lst_a. Y ambos son exactamente el `mismo` objeto, por lo tanto cambiar a uno es cambiar al otro, pues son el mismo con dos diferentes nombres.\n",
    "\n",
    "Veamos un ejemplo más."
   ]
  },
  {
   "cell_type": "code",
   "execution_count": 99,
   "id": "82cd0c22-f3bd-48c1-90f8-415084a96ea1",
   "metadata": {},
   "outputs": [
    {
     "data": {
      "text/plain": [
       "{'a': 1, 'b': 2}"
      ]
     },
     "execution_count": 99,
     "metadata": {},
     "output_type": "execute_result"
    }
   ],
   "source": [
    "d"
   ]
  },
  {
   "cell_type": "code",
   "execution_count": 100,
   "id": "28dbeeb6-ccba-4c74-ade1-0f1dfd65fdb3",
   "metadata": {},
   "outputs": [
    {
     "name": "stdout",
     "output_type": "stream",
     "text": [
      "{'Nombre': 'jose', 'Edad': 24, 'Perros': ['Estrella', 'Eustaquio', 'Ramon'], 'd': {'a': 1, 'b': 2}}\n"
     ]
    }
   ],
   "source": [
    "name = \"jose\"\n",
    "edad = 24\n",
    "perros = [\"Estrella\", \"Eustaquio\", \"Ramon\"]\n",
    "\n",
    "log = {\n",
    "    \"Nombre\":name,\n",
    "    \"Edad\":edad,\n",
    "    \"Perros\":perros,\n",
    "    \"d\": d\n",
    "}\n",
    "print(log)"
   ]
  },
  {
   "cell_type": "code",
   "execution_count": 101,
   "id": "ccd2421d-0ffa-4151-9cd0-1e033e38ec31",
   "metadata": {},
   "outputs": [],
   "source": [
    "name = \"Jos\"\n",
    "edad = 40\n",
    "perros.append(\"Timoty\")\n",
    "d[\"c\"]=123"
   ]
  },
  {
   "cell_type": "code",
   "execution_count": 102,
   "id": "e22651c9-7e07-44c5-abc8-e15dc8c3f832",
   "metadata": {},
   "outputs": [
    {
     "name": "stdout",
     "output_type": "stream",
     "text": [
      "{'Nombre': 'jose', 'Edad': 24, 'Perros': ['Estrella', 'Eustaquio', 'Ramon', 'Timoty'], 'd': {'a': 1, 'b': 2, 'c': 123}}\n"
     ]
    }
   ],
   "source": [
    "print(log)"
   ]
  },
  {
   "cell_type": "markdown",
   "id": "4ba7a765",
   "metadata": {},
   "source": [
    "Los objetos inmutables permanecieron tal cual en el dicionário que les contenia, pero lo mismo no pasa con los tipos mutables, que se cambiaron también en el dicionario.\n",
    "\n",
    "Al escribir nuestro codigo debemos cuidar de la elección del tipo de variable para que sea apropriado para el tipo de dato que queremos guardar y las operaciones que se haran.\n",
    "\n",
    "Se puede, por supuesto, cambiar los valores dentro del dicionario, que es mutable."
   ]
  },
  {
   "cell_type": "code",
   "execution_count": 105,
   "id": "7938ba62-ec19-4c2d-b825-71dd6e7fbd7d",
   "metadata": {
    "tags": []
   },
   "outputs": [],
   "source": [
    "log[\"Nombre\"] = \"Jos\""
   ]
  },
  {
   "cell_type": "code",
   "execution_count": 106,
   "id": "3dc667d1-e021-4338-86fb-53eda6ffd7a7",
   "metadata": {},
   "outputs": [
    {
     "name": "stdout",
     "output_type": "stream",
     "text": [
      "{'Nombre': 'Jos', 'Edad': 24, 'Perros': ['Estrella', 'Eustaquio', 'Ramon', 'Timoty'], 'd': {'a': 1, 'b': 2, 'c': 123, 'Nombre': 'Jos'}}\n"
     ]
    }
   ],
   "source": [
    "print(log)"
   ]
  },
  {
   "cell_type": "markdown",
   "id": "c75aa932",
   "metadata": {},
   "source": [
    "O reasignar la nueva variable:"
   ]
  },
  {
   "cell_type": "code",
   "execution_count": 107,
   "id": "decc3882-a72f-4148-9d2d-a9e50d03bd6b",
   "metadata": {},
   "outputs": [
    {
     "name": "stdout",
     "output_type": "stream",
     "text": [
      "{'Nombre': 'Jos', 'Edad': 24, 'Perros': ['Estrella', 'Eustaquio', 'Ramon', 'Timoty'], 'd': {'a': 1, 'b': 2, 'c': 123, 'Nombre': 'Jos'}, 'Nueva variable': 1312312}\n"
     ]
    }
   ],
   "source": [
    "log[\"Nueva variable\"] = 1312312\n",
    "print(log)"
   ]
  },
  {
   "cell_type": "markdown",
   "id": "349de319",
   "metadata": {},
   "source": [
    "## Truthy and Falsey\n",
    "\n",
    "`True` y `False` son los dos valores posibles en python para el tipo `bool`, los booleanos. Siempre que utilizamos algun operador comparador en python, el resultado será de ese tipo."
   ]
  },
  {
   "cell_type": "code",
   "execution_count": 110,
   "id": "a4eeb89d-c05c-4349-bacb-521a5457badb",
   "metadata": {},
   "outputs": [],
   "source": [
    "a = \"\"\n",
    "if a:\n",
    "    print(\"Hola\")"
   ]
  },
  {
   "cell_type": "code",
   "execution_count": 112,
   "id": "e19da688-816c-4492-8ce3-e13fb571fcbc",
   "metadata": {},
   "outputs": [
    {
     "name": "stdout",
     "output_type": "stream",
     "text": [
      "Hola\n"
     ]
    }
   ],
   "source": [
    "if [1,2,3]:\n",
    "    print(\"Hola\")"
   ]
  },
  {
   "cell_type": "markdown",
   "id": "3ad147cf",
   "metadata": {},
   "source": [
    "Los valores booleanos son los que utilizamos con los `condicionales`, i.e.: con `if` y `while`. Pero, pensemos en la siguiente posibilidad:"
   ]
  },
  {
   "cell_type": "code",
   "execution_count": 108,
   "id": "47e44b12-882d-4152-9abd-161be71633b9",
   "metadata": {},
   "outputs": [
    {
     "name": "stdout",
     "output_type": "stream",
     "text": [
      "False\n"
     ]
    }
   ],
   "source": [
    "a = \"False\"\n",
    "if a:\n",
    "    print(a)"
   ]
  },
  {
   "cell_type": "markdown",
   "id": "934c7bef",
   "metadata": {},
   "source": [
    "Se imprimió y por lo tanto `a` es `True` o por lo menos se considera True. Seguramente habéis notado que `a` no es del tipo `bool`, sino que un string con la palabra \"False\". ¿Pero como un string puede ser `True`?"
   ]
  },
  {
   "cell_type": "code",
   "execution_count": 113,
   "id": "5ddbdd79-1a32-49e0-afab-9145a9df925e",
   "metadata": {},
   "outputs": [
    {
     "data": {
      "text/plain": [
       "True"
      ]
     },
     "execution_count": 113,
     "metadata": {},
     "output_type": "execute_result"
    }
   ],
   "source": [
    "bool(\"False\")"
   ]
  },
  {
   "cell_type": "code",
   "execution_count": 114,
   "id": "819c2b23-db92-413b-a055-288d7a2899ab",
   "metadata": {},
   "outputs": [
    {
     "data": {
      "text/plain": [
       "2"
      ]
     },
     "execution_count": 114,
     "metadata": {},
     "output_type": "execute_result"
    }
   ],
   "source": [
    "True + True"
   ]
  },
  {
   "cell_type": "code",
   "execution_count": 115,
   "id": "709ed9ed-11b1-44d4-85c9-86bc562fe0fa",
   "metadata": {},
   "outputs": [
    {
     "data": {
      "text/plain": [
       "1"
      ]
     },
     "execution_count": 115,
     "metadata": {},
     "output_type": "execute_result"
    }
   ],
   "source": [
    "False + True"
   ]
  },
  {
   "cell_type": "code",
   "execution_count": 116,
   "id": "27aec5ca-a665-4ce2-a657-98db61cf3c2a",
   "metadata": {},
   "outputs": [
    {
     "name": "stdout",
     "output_type": "stream",
     "text": [
      "Hola\n"
     ]
    }
   ],
   "source": [
    "if 1:\n",
    "    print(\"Hola\")"
   ]
  },
  {
   "cell_type": "markdown",
   "id": "14d0e3a6",
   "metadata": {},
   "source": [
    "Los objetos aunque no sean True o False se pueden convertir a bool y se pueden considerar `Truthy` y `Falsey`, podiendo ser utilizar en los condicionales. Pero cada tipo de objeto tiene sus reglas para considerar de esa manera."
   ]
  },
  {
   "cell_type": "code",
   "execution_count": 118,
   "id": "b5dcd886-37f3-4409-9708-483c29a0e1d2",
   "metadata": {},
   "outputs": [],
   "source": [
    "truthy = [3, \"e\", True, [1,2], {1,2}]"
   ]
  },
  {
   "cell_type": "code",
   "execution_count": 119,
   "id": "10b2926d-b80e-4bfd-9b52-9b6b967e29d5",
   "metadata": {},
   "outputs": [
    {
     "name": "stdout",
     "output_type": "stream",
     "text": [
      "Si\n",
      "Si\n",
      "Si\n",
      "Si\n",
      "Si\n"
     ]
    }
   ],
   "source": [
    "for el in truthy:\n",
    "    if el:\n",
    "        print(\"Si\")"
   ]
  },
  {
   "cell_type": "code",
   "execution_count": 120,
   "id": "47ea69ae",
   "metadata": {},
   "outputs": [],
   "source": [
    "import numpy as np"
   ]
  },
  {
   "cell_type": "code",
   "execution_count": 126,
   "id": "72984f79-2ff8-4ca5-ab13-e0b37c6b6af0",
   "metadata": {},
   "outputs": [
    {
     "name": "stdout",
     "output_type": "stream",
     "text": [
      "Impar -> 1\n",
      "Par ->10\n",
      "Impar -> 99\n",
      "Impar -> 39\n",
      "Impar -> 87\n",
      "Par ->2\n",
      "Par ->54\n",
      "Par ->42\n",
      "Par ->28\n",
      "Par ->70\n",
      "Impar -> 63\n",
      "Par ->90\n",
      "Impar -> 69\n",
      "Impar -> 53\n",
      "Impar -> 63\n",
      "Impar -> 91\n",
      "Impar -> 63\n",
      "Impar -> 95\n",
      "Impar -> 67\n",
      "Par ->86\n"
     ]
    }
   ],
   "source": [
    "numbers = np.random.randint(0, 100, 20)\n",
    "for number in numbers:\n",
    "    if not number%2:\n",
    "        print(f\"Par ->{number}\")\n",
    "    else:\n",
    "        print(f\"Impar -> {number}\")"
   ]
  },
  {
   "cell_type": "markdown",
   "id": "3b4e9313",
   "metadata": {},
   "source": [
    "Se consideran `Falsey`:\n",
    "- Numeros de valor 0\n",
    "- Strings vacios\n",
    "- Tuplas, listas, sets y dicionarios vacios"
   ]
  },
  {
   "cell_type": "markdown",
   "id": "2df22e81",
   "metadata": {},
   "source": [
    "Se consideran `Truthy`:\n",
    "- Numeros negativos\n",
    "- Numeros positivos\n",
    "- Strings de por lo menos un caracter, independiente de el caracter\n",
    "- Tuplas, listas, sets y dicionarios que contengan por lo menos un único elemento"
   ]
  },
  {
   "cell_type": "markdown",
   "id": "4a41d956",
   "metadata": {},
   "source": [
    "### Pythonistic style\n",
    "\n",
    "El uso de truthy and falsey es muy comun en el la escritura de codigo python y es parte del estilo `pythonistico`."
   ]
  },
  {
   "cell_type": "code",
   "execution_count": 130,
   "id": "b2367ca3",
   "metadata": {},
   "outputs": [
    {
     "name": "stdout",
     "output_type": "stream",
     "text": [
      "la lista no está vacia\n",
      "la lista no está vacia\n"
     ]
    }
   ],
   "source": [
    "# Si queremos verificar si una lista contiene algun elemento, lo podemos hacer de dos maneras diferentes\n",
    "lst = [1,2,3]\n",
    "if len(lst) > 0:\n",
    "    print(\"la lista no está vacia\")\n",
    "    \n",
    "# Alternativamente\n",
    "if lst:\n",
    "    print(\"la lista no está vacia\")"
   ]
  },
  {
   "cell_type": "markdown",
   "id": "967f042f",
   "metadata": {},
   "source": [
    "- if var == True  \n",
    "        - if var\n",
    "- if var == False \n",
    "        - if not var"
   ]
  },
  {
   "cell_type": "markdown",
   "id": "8db4e476",
   "metadata": {},
   "source": [
    "El resultado de `num % 2` será 0 (Falsey) cuando el numero sea par y 1 (Truthy) cuando sea impar."
   ]
  },
  {
   "cell_type": "markdown",
   "id": "264c0ea5",
   "metadata": {},
   "source": [
    "## Tuple Packing and Unpacking\n",
    "Las comas en python no representan solo la separación de elementos en los contenedores, sino que pueden tambien ser utilizadas fuera de ellos, para separar variables en un proceso de agrupación y separación."
   ]
  },
  {
   "cell_type": "code",
   "execution_count": 131,
   "id": "00717d26-c132-41fd-91b3-780685d4e685",
   "metadata": {},
   "outputs": [],
   "source": [
    "a = (1,2,3,4)"
   ]
  },
  {
   "cell_type": "code",
   "execution_count": 132,
   "id": "61461661-9218-4e54-871e-0362beb42adb",
   "metadata": {},
   "outputs": [],
   "source": [
    "b,c,d,e = a"
   ]
  },
  {
   "cell_type": "code",
   "execution_count": 135,
   "id": "5105ce8a-1a86-42ef-9397-3d61dca98e90",
   "metadata": {},
   "outputs": [
    {
     "data": {
      "text/plain": [
       "3"
      ]
     },
     "execution_count": 135,
     "metadata": {},
     "output_type": "execute_result"
    }
   ],
   "source": [
    "d"
   ]
  },
  {
   "cell_type": "markdown",
   "id": "2463bf1d",
   "metadata": {},
   "source": [
    "Cuando se asignan objetos a una misma variable separados por comas, en el llamado `tuple packing`, la variable contendrá una tupla con esos elementos.\n",
    "\n",
    "La magia empieza cuando hacemos lo contrario, asignamos a variables separadas por comas. 🤩"
   ]
  },
  {
   "cell_type": "code",
   "execution_count": 136,
   "id": "6ad3c880-340c-4a39-8183-e09d4c379a0d",
   "metadata": {},
   "outputs": [],
   "source": [
    "a = \"Madrid\", 1, print"
   ]
  },
  {
   "cell_type": "code",
   "execution_count": 137,
   "id": "1182bc67-0a09-4db1-b425-052b937a0678",
   "metadata": {},
   "outputs": [
    {
     "data": {
      "text/plain": [
       "('Madrid', 1, <function print>)"
      ]
     },
     "execution_count": 137,
     "metadata": {},
     "output_type": "execute_result"
    }
   ],
   "source": [
    "a"
   ]
  },
  {
   "cell_type": "code",
   "execution_count": 138,
   "id": "f13d931e-87d2-42f4-83b8-89767b5ed373",
   "metadata": {},
   "outputs": [
    {
     "data": {
      "text/plain": [
       "tuple"
      ]
     },
     "execution_count": 138,
     "metadata": {},
     "output_type": "execute_result"
    }
   ],
   "source": [
    "type(a)"
   ]
  },
  {
   "cell_type": "code",
   "execution_count": 139,
   "id": "c3ce14bc-00cb-457e-8aa6-d5fc774c0dfc",
   "metadata": {},
   "outputs": [],
   "source": [
    "a,b = \"Madrid\", \"Ciudad Real\""
   ]
  },
  {
   "cell_type": "code",
   "execution_count": 140,
   "id": "30ffad36-02be-41e4-b64a-4825c7d09013",
   "metadata": {},
   "outputs": [
    {
     "data": {
      "text/plain": [
       "'Madrid'"
      ]
     },
     "execution_count": 140,
     "metadata": {},
     "output_type": "execute_result"
    }
   ],
   "source": [
    "a"
   ]
  },
  {
   "cell_type": "code",
   "execution_count": 141,
   "id": "7888cccc",
   "metadata": {},
   "outputs": [
    {
     "data": {
      "text/plain": [
       "'Ciudad Real'"
      ]
     },
     "execution_count": 141,
     "metadata": {},
     "output_type": "execute_result"
    }
   ],
   "source": [
    "b"
   ]
  },
  {
   "cell_type": "code",
   "execution_count": 142,
   "id": "b03d2cac-e7b5-4d2b-96ea-e68d3f87bb9a",
   "metadata": {},
   "outputs": [],
   "source": [
    "ciudades = a,b,c = \"Madrid\", \"Cuenca\", \"Salamanca\""
   ]
  },
  {
   "cell_type": "code",
   "execution_count": 144,
   "id": "304eef48-c152-439b-a120-8408684487e0",
   "metadata": {},
   "outputs": [
    {
     "data": {
      "text/plain": [
       "('Madrid', 'Cuenca', 'Salamanca')"
      ]
     },
     "execution_count": 144,
     "metadata": {},
     "output_type": "execute_result"
    }
   ],
   "source": [
    "ciudades"
   ]
  },
  {
   "cell_type": "code",
   "execution_count": 145,
   "id": "522c9525-5c30-4e96-8b67-4647fc7962a2",
   "metadata": {},
   "outputs": [
    {
     "data": {
      "text/plain": [
       "'Madrid'"
      ]
     },
     "execution_count": 145,
     "metadata": {},
     "output_type": "execute_result"
    }
   ],
   "source": [
    "a"
   ]
  },
  {
   "cell_type": "code",
   "execution_count": 146,
   "id": "6e95f83f-16a9-442f-811e-77d19b44a417",
   "metadata": {},
   "outputs": [
    {
     "data": {
      "text/plain": [
       "'Cuenca'"
      ]
     },
     "execution_count": 146,
     "metadata": {},
     "output_type": "execute_result"
    }
   ],
   "source": [
    "b"
   ]
  },
  {
   "cell_type": "code",
   "execution_count": 147,
   "id": "d5f0f8f3-6d65-45dc-9cc1-95d2af5edf44",
   "metadata": {},
   "outputs": [
    {
     "data": {
      "text/plain": [
       "'Salamanca'"
      ]
     },
     "execution_count": 147,
     "metadata": {},
     "output_type": "execute_result"
    }
   ],
   "source": [
    "c"
   ]
  },
  {
   "cell_type": "code",
   "execution_count": 148,
   "id": "43870670-aab2-463a-b892-0f6a5292d683",
   "metadata": {},
   "outputs": [],
   "source": [
    "sett = set(np.random.randint(1,10_000,10_000))"
   ]
  },
  {
   "cell_type": "code",
   "execution_count": 150,
   "id": "ce5c7820-0138-4703-8a4c-454894e97e26",
   "metadata": {},
   "outputs": [],
   "source": [
    "lst = list(sett)"
   ]
  },
  {
   "cell_type": "code",
   "execution_count": 151,
   "id": "9d2076f7-5ef3-42dc-a940-13b62478fa99",
   "metadata": {},
   "outputs": [
    {
     "data": {
      "text/plain": [
       "(6372, 6372)"
      ]
     },
     "execution_count": 151,
     "metadata": {},
     "output_type": "execute_result"
    }
   ],
   "source": [
    "len(sett), len(lst)"
   ]
  },
  {
   "cell_type": "code",
   "execution_count": 152,
   "id": "b0a9aaca-5e01-445a-a24a-0ea69504b6ca",
   "metadata": {},
   "outputs": [
    {
     "name": "stdout",
     "output_type": "stream",
     "text": [
      "131 ns ± 1.38 ns per loop (mean ± std. dev. of 7 runs, 10000000 loops each)\n"
     ]
    }
   ],
   "source": [
    "%%timeit\n",
    "3542 in sett"
   ]
  },
  {
   "cell_type": "code",
   "execution_count": 153,
   "id": "05bcaf1d-20e6-4c47-9d23-fa258e7da6d7",
   "metadata": {},
   "outputs": [
    {
     "name": "stdout",
     "output_type": "stream",
     "text": [
      "230 µs ± 2.22 µs per loop (mean ± std. dev. of 7 runs, 1000 loops each)\n"
     ]
    }
   ],
   "source": [
    "%%timeit\n",
    "3542 in lst"
   ]
  }
 ],
 "metadata": {
  "kernelspec": {
   "display_name": "Python 3 (ipykernel)",
   "language": "python",
   "name": "python3"
  },
  "language_info": {
   "codemirror_mode": {
    "name": "ipython",
    "version": 3
   },
   "file_extension": ".py",
   "mimetype": "text/x-python",
   "name": "python",
   "nbconvert_exporter": "python",
   "pygments_lexer": "ipython3",
   "version": "3.9.7"
  },
  "toc": {
   "base_numbering": 1,
   "nav_menu": {},
   "number_sections": true,
   "sideBar": true,
   "skip_h1_title": true,
   "title_cell": "Table of Contents",
   "title_sidebar": "Contents",
   "toc_cell": true,
   "toc_position": {},
   "toc_section_display": true,
   "toc_window_display": false
  }
 },
 "nbformat": 4,
 "nbformat_minor": 5
}
