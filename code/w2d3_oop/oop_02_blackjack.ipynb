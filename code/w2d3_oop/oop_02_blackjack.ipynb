{
 "cells": [
  {
   "cell_type": "markdown",
   "metadata": {},
   "source": [
    "![](https://api.brandy.run/core/core-logo-wide)\n",
    "\n",
    "# Object Oriented Programming:  Practical Example\n",
    "\n",
    "En esa lección veremos un ejemplo practico del uso de los conceptos de Object Oriented Programming, creando diferentes clases y interactuando entre los objetos para programar un juego simples de [Blackjack](https://en.wikipedia.org/wiki/Blackjack)."
   ]
  },
  {
   "cell_type": "code",
   "execution_count": 2,
   "metadata": {},
   "outputs": [],
   "source": [
    "# Import libraries\n",
    "from numpy import random"
   ]
  },
  {
   "cell_type": "markdown",
   "metadata": {},
   "source": [
    "## Card\n",
    "\n",
    "Vamos empezar nuestro codigo programando el primer de los elementos, una única carta. Esos objetos deben contener 2 atributos minimamente, el valor y el palo. Según vayamos avanzando y programando otros objetos, tendremos que volver hacia atrás para añadir o cambiar atributos o metodos de esa clase."
   ]
  },
  {
   "cell_type": "code",
   "execution_count": 159,
   "metadata": {},
   "outputs": [],
   "source": [
    "class Card:\n",
    "    def __init__(self, value, suit):\n",
    "        self.value = value\n",
    "        self.suit = suit\n",
    "        vals = {\"J\":10,\"Q\":10,\"K\":10,\"A\":1}\n",
    "        self.actual_value = value if isinstance(value,int) else vals.get(value)\n",
    "        \n",
    "    def __repr__(self):\n",
    "        if self.suit in [\"♥\",\"♦\"]:\n",
    "            return f\"\\x1b[31m{str(self.value).rjust(2,' ')}{self.suit}\\x1b[0m\"\n",
    "        return f\"{str(self.value).rjust(2,' ')}{self.suit}\"\n",
    "    \n",
    "    def __str__(self):\n",
    "        return f\"┌───┐\\n|{self.__repr__()}|\\n└───┘\"\n",
    "    \n",
    "    def __add__(self, other):\n",
    "        return self.actual_value + other\n",
    "    \n",
    "    def __radd__(self, other):\n",
    "        return self.actual_value + other\n",
    "    \n",
    "    def __lt__(self, other):\n",
    "        return self.actual_value < other\n",
    "    \n",
    "    def __gt__(self, other):\n",
    "        return self.actual_value > other\n",
    "    \n",
    "    def __eq__(self, other):\n",
    "        if isinstance(other,int):\n",
    "            return self.actual_value == other\n",
    "        elif isinstance(other,Card):\n",
    "            return self.actual_value == other.actual_value"
   ]
  },
  {
   "cell_type": "code",
   "execution_count": 52,
   "metadata": {},
   "outputs": [],
   "source": [
    "c = Card(\"J\",\"♥\")"
   ]
  },
  {
   "cell_type": "code",
   "execution_count": 53,
   "metadata": {},
   "outputs": [
    {
     "data": {
      "text/plain": [
       "\u001b[31m J♥\u001b[0m"
      ]
     },
     "execution_count": 53,
     "metadata": {},
     "output_type": "execute_result"
    }
   ],
   "source": [
    "c"
   ]
  },
  {
   "cell_type": "code",
   "execution_count": 54,
   "metadata": {},
   "outputs": [
    {
     "name": "stdout",
     "output_type": "stream",
     "text": [
      "┌───┐\n",
      "|\u001b[31m J♥\u001b[0m|\n",
      "└───┘\n"
     ]
    }
   ],
   "source": [
    "print(c)"
   ]
  },
  {
   "cell_type": "code",
   "execution_count": 55,
   "metadata": {},
   "outputs": [
    {
     "data": {
      "text/plain": [
       "('J', '♥')"
      ]
     },
     "execution_count": 55,
     "metadata": {},
     "output_type": "execute_result"
    }
   ],
   "source": [
    "c.value, c.suit"
   ]
  },
  {
   "cell_type": "code",
   "execution_count": 56,
   "metadata": {},
   "outputs": [
    {
     "data": {
      "text/plain": [
       "10"
      ]
     },
     "execution_count": 56,
     "metadata": {},
     "output_type": "execute_result"
    }
   ],
   "source": [
    "c.actual_value"
   ]
  },
  {
   "cell_type": "code",
   "execution_count": 57,
   "metadata": {},
   "outputs": [
    {
     "data": {
      "text/plain": [
       "\u001b[31m 3♥\u001b[0m"
      ]
     },
     "execution_count": 57,
     "metadata": {},
     "output_type": "execute_result"
    }
   ],
   "source": [
    "c_2 = Card(3,\"♥\")\n",
    "c_2"
   ]
  },
  {
   "cell_type": "code",
   "execution_count": 58,
   "metadata": {},
   "outputs": [
    {
     "data": {
      "text/plain": [
       "13"
      ]
     },
     "execution_count": 58,
     "metadata": {},
     "output_type": "execute_result"
    }
   ],
   "source": [
    "c + c_2"
   ]
  },
  {
   "cell_type": "code",
   "execution_count": 59,
   "metadata": {},
   "outputs": [
    {
     "data": {
      "text/plain": [
       "17"
      ]
     },
     "execution_count": 59,
     "metadata": {},
     "output_type": "execute_result"
    }
   ],
   "source": [
    "c + 7"
   ]
  },
  {
   "cell_type": "markdown",
   "metadata": {},
   "source": [
    "## Dunder methods\n",
    "Las clases en python poséen algunos métodos especiales, llamados `dunder` o `magic` methods. La palabra `dunder` es abreviatura de `double underscore`, pues esos métodos se identifican por sus nombres empezaren y terminaren con dos barras bajas (`_`).\n",
    "\n",
    "Los métodos con ese nombre tienen una característica especial, se relacionan con funciones y operadores `externos` a la clase. El más conocido de eses métodos és el `__init__`, que al contrário de otros métodos, raramente llamamos segun la sintáxis normal, i.e.: `Class.method()`. Salvo en casos en que usamos el `super()` o estamos programando detalles internos de una clase, no llamaremos `Class.__init__()`.\n",
    "\n",
    "El método constructor se llama cuando sintaticamente usamos una clase como si fuera una función.\n",
    "\n",
    "```python\n",
    "object = Class()\n",
    "```\n",
    "\n",
    "Python internamente sabe que si estamos llamando a una clase como si fuera a una función, nos estamos referiendo en verdad al método `__init__`, y esa conexión se hace automaticamente. Otros `dunder methods` nos permiten conectar con otras funciones y operadores de python. Por ejemplo:\n",
    "\n",
    "- `__str__` : Se relaciona con el casting a `str()` y por consecuencia con la función `print`.\n",
    "- `__len__` : Con la función de mismo nombre, `len()`\n",
    "- `__gt__`, `__lt__` : Con los operadores `>` y `<` respectivamente.\n",
    "- [etc...](https://docs.python.org/3/reference/datamodel.html#special-method-names)"
   ]
  },
  {
   "cell_type": "markdown",
   "metadata": {},
   "source": [
    "## Deck\n",
    "Si los primeros elementos fueran las cartas, el segundo debe ser la baraja para contenerles. 🃏\n",
    "\n",
    "Al contrário de las cartas, no necesitamos parámetros para la creación de las barajas, siempre se crearan con todas las 52 cartas. Necesitamos programar un método `shuffle` para barajar y otro `draw` para sacar una siguiente carta."
   ]
  },
  {
   "cell_type": "code",
   "execution_count": 174,
   "metadata": {},
   "outputs": [],
   "source": [
    "class Deck:\n",
    "    def __init__(self):\n",
    "        self.cards = [Card(value,suit)\\\n",
    "                      for suit in [\"♠\",\"♥\",\"♦\",\"♣\"]\\\n",
    "                      for value in [\"A\",2,3,4,5,6,7,8,9,10,\"J\",\"Q\",\"K\"]]\n",
    "    \n",
    "    def shuffle(self):\n",
    "        random.shuffle(self.cards)\n",
    "    \n",
    "    def draw(self):\n",
    "        if self.cards:\n",
    "            return self.cards.pop(0)\n",
    "        else:\n",
    "            return \"No more cards\"\n",
    "        \n",
    "    def remove(self, card):\n",
    "        if card in self.cards:\n",
    "            self.cards.remove(card)\n",
    "            \n",
    "    def __iter__(self):\n",
    "        return iter(self.cards)\n",
    "    \n",
    "    def __len__(self):\n",
    "        return len(self.cards)"
   ]
  },
  {
   "cell_type": "code",
   "execution_count": 118,
   "metadata": {},
   "outputs": [],
   "source": [
    "baraja = Deck()"
   ]
  },
  {
   "cell_type": "code",
   "execution_count": 119,
   "metadata": {},
   "outputs": [
    {
     "data": {
      "text/plain": [
       "[ A♠,  2♠,  3♠]"
      ]
     },
     "execution_count": 119,
     "metadata": {},
     "output_type": "execute_result"
    }
   ],
   "source": [
    "baraja.cards[:3]"
   ]
  },
  {
   "cell_type": "code",
   "execution_count": 120,
   "metadata": {},
   "outputs": [],
   "source": [
    "baraja.shuffle()"
   ]
  },
  {
   "cell_type": "code",
   "execution_count": 121,
   "metadata": {},
   "outputs": [
    {
     "data": {
      "text/plain": [
       "[ A♠, \u001b[31m 5♥\u001b[0m,  4♠]"
      ]
     },
     "execution_count": 121,
     "metadata": {},
     "output_type": "execute_result"
    }
   ],
   "source": [
    "baraja.cards[:3]"
   ]
  },
  {
   "cell_type": "code",
   "execution_count": null,
   "metadata": {},
   "outputs": [],
   "source": []
  },
  {
   "cell_type": "code",
   "execution_count": null,
   "metadata": {},
   "outputs": [],
   "source": []
  },
  {
   "cell_type": "markdown",
   "metadata": {},
   "source": [
    "## Player\n",
    "¡Tenemos ya una baraja de cartas! ¿Pero quien va a jugar? \n",
    "Pues vamos hacer un objeto Player para controlar lo que hacen los diferentes jugadores, que cartas tienen y si quieren una carta nueva a cada ronda o no.\n",
    "\n",
    "Seguiremos usando los dunder methods que hemos visto antes para la representación de los objetos."
   ]
  },
  {
   "cell_type": "code",
   "execution_count": 137,
   "metadata": {},
   "outputs": [],
   "source": [
    "class Player:\n",
    "    def __init__(self, name=\"Player\"):\n",
    "        self.name = name\n",
    "        self.hand = []\n",
    "    \n",
    "    def take_card(self,card):\n",
    "        self.hand.append(card)\n",
    "        \n",
    "    def hit(self):\n",
    "        hit = input(f\"{self.name}, do you want another card? [y|n] \")\n",
    "        if hit == \"y\":\n",
    "            return True\n",
    "        elif hit == \"n\":\n",
    "            return False\n",
    "        else:\n",
    "            print(\"Wrong input. Try y or n\")\n",
    "            return self.hit()"
   ]
  },
  {
   "cell_type": "code",
   "execution_count": 138,
   "metadata": {},
   "outputs": [],
   "source": [
    "p = Player(\"Pepe\")\n",
    "baraja = Deck()"
   ]
  },
  {
   "cell_type": "code",
   "execution_count": 139,
   "metadata": {},
   "outputs": [],
   "source": [
    "baraja.shuffle()"
   ]
  },
  {
   "cell_type": "code",
   "execution_count": 145,
   "metadata": {},
   "outputs": [
    {
     "name": "stdout",
     "output_type": "stream",
     "text": [
      "Pepe, do you want another card? [y|n] vfsdgsfgsg\n",
      "Wrong input. Try y or n\n",
      "Pepe, do you want another card? [y|n] fsfgsfg\n",
      "Wrong input. Try y or n\n",
      "Pepe, do you want another card? [y|n] sgsf\n",
      "Wrong input. Try y or n\n",
      "Pepe, do you want another card? [y|n] y\n"
     ]
    }
   ],
   "source": [
    "if p.hit():\n",
    "    p.take_card(baraja.draw())"
   ]
  },
  {
   "cell_type": "code",
   "execution_count": 146,
   "metadata": {},
   "outputs": [
    {
     "data": {
      "text/plain": [
       "[\u001b[31m 6♦\u001b[0m,  7♠]"
      ]
     },
     "execution_count": 146,
     "metadata": {},
     "output_type": "execute_result"
    }
   ],
   "source": [
    "p.hand"
   ]
  },
  {
   "cell_type": "code",
   "execution_count": 155,
   "metadata": {},
   "outputs": [],
   "source": [
    "p_1,p_2 = Player(\"Pepe\"),Player(\"Paco\")\n",
    "deck = Deck()\n",
    "deck.shuffle()\n",
    "for _ in range(2):\n",
    "    p_1.take_card(deck.draw())\n",
    "    p_2.take_card(deck.draw())"
   ]
  },
  {
   "cell_type": "code",
   "execution_count": 156,
   "metadata": {},
   "outputs": [
    {
     "data": {
      "text/plain": [
       "[\u001b[31m K♦\u001b[0m,  A♠]"
      ]
     },
     "execution_count": 156,
     "metadata": {},
     "output_type": "execute_result"
    }
   ],
   "source": [
    "p_1.hand"
   ]
  },
  {
   "cell_type": "code",
   "execution_count": 157,
   "metadata": {},
   "outputs": [
    {
     "data": {
      "text/plain": [
       "[\u001b[31m 6♥\u001b[0m,  2♠]"
      ]
     },
     "execution_count": 157,
     "metadata": {},
     "output_type": "execute_result"
    }
   ],
   "source": [
    "p_2.hand"
   ]
  },
  {
   "cell_type": "markdown",
   "metadata": {},
   "source": [
    "## CPU\n",
    "\n",
    "Nosotros vamos a jugar, ¿pero contra quien? Vamos a crear un tipo de Player especial llamado `CPU`. Para eso, usaremos de la herencia para aprovechar al maximo todo lo que ya hemos hecho en la clase anterior. La diferencia es que los `CPU` necesitaran un mecanismo para que jueguen solos. Construiremos una inteligencia artificial basada en la probabilidad y el conteo de cartas. \n",
    "\n",
    "No os preocupéis, aseguraremosnos de que la CPU no haga trampas y no sea capaz de ver nuestra carta oculta."
   ]
  },
  {
   "cell_type": "code",
   "execution_count": 170,
   "metadata": {},
   "outputs": [],
   "source": [
    "class CPU(Player):\n",
    "    def __init__(self,name=\"CPU\"):\n",
    "        super().__init__(name)\n",
    "        self.card_counting = Deck()\n",
    "    \n",
    "    def count_card(self, game):\n",
    "        for card in self.hand:\n",
    "            self.card_counting.remove(card)\n",
    "        for player in game.players:\n",
    "            for card in player.hand[1:]:\n",
    "                self.card_counting.remove(card)\n",
    "                \n",
    "    def prob(self):\n",
    "        target = 21 - sum(self.hand)\n",
    "        self.probabilities = {\n",
    "            21 : len([card for card in self.card_counting if card == target])\\\n",
    "                 /(len(self.card_counting)-1),\n",
    "            \"under\":len([card for card in self.card_counting if card < target])\\\n",
    "                 /(len(self.card_counting)-1),\n",
    "            \"over\":len([card for card in self.card_counting if card > target])\\\n",
    "                 /(len(self.card_counting)-1)\n",
    "        }\n",
    "        \n",
    "    def hit(self):\n",
    "        print(f\"{self.name}, do you want another card? [y|n]\")\n",
    "        self.prob()\n",
    "        pros = self.probabilities[21]+self.probabilities[\"under\"]\n",
    "        cons = self.probabilities[\"over\"]\n",
    "        if pros > cons:\n",
    "            print(\"Yes\")\n",
    "            return True\n",
    "        else:\n",
    "            print(\"No\")\n",
    "            return False"
   ]
  },
  {
   "cell_type": "markdown",
   "metadata": {},
   "source": [
    "# Game\n",
    "\n",
    "Parece que ya tenemos todos los elementos necesarios para echar un partido. Pero en el espíritu de la Programación Orientada a Objetos, el partido también será un tipo de objeto que utilizará todos los otros. 😎"
   ]
  },
  {
   "cell_type": "code",
   "execution_count": 180,
   "metadata": {},
   "outputs": [],
   "source": [
    "class Game:\n",
    "    def __init__(self, list_players):\n",
    "        self.players = list_players\n",
    "        self.deck = Deck()\n",
    "        self.deck.shuffle()\n",
    "        self.deal()\n",
    "        \n",
    "        \n",
    "    def deal(self):\n",
    "        for _ in range(2):\n",
    "            for player in self.players:\n",
    "                player.take_card(self.deck.draw())\n",
    "                \n",
    "    def round_p(self):\n",
    "        for player in self.players:\n",
    "            print(player.hand)\n",
    "            if isinstance(player,CPU):\n",
    "                player.count_card(self)\n",
    "                if player.hit():\n",
    "                    player.take_card(self.deck.draw())\n",
    "            else:\n",
    "                if player.hit():\n",
    "                    player.take_card(self.deck.draw())"
   ]
  },
  {
   "cell_type": "markdown",
   "metadata": {},
   "source": [
    "## Play!\n",
    "\n",
    "Ya está todo listo y podemos jugar.\n",
    "\n",
    "Como preparamos de antemano todos los objetos para que se comporten como esperamos, el script en si que pone el partido en marcha será muy sencillo."
   ]
  },
  {
   "cell_type": "code",
   "execution_count": 181,
   "metadata": {},
   "outputs": [],
   "source": [
    "players = [Player(\"Pepe\"), CPU()]\n",
    "game = Game(players)"
   ]
  },
  {
   "cell_type": "code",
   "execution_count": 182,
   "metadata": {},
   "outputs": [
    {
     "data": {
      "text/plain": [
       "[[ Q♣, \u001b[31m 2♦\u001b[0m], [ 8♠,  4♣]]"
      ]
     },
     "execution_count": 182,
     "metadata": {},
     "output_type": "execute_result"
    }
   ],
   "source": [
    "[p.hand for p in players]"
   ]
  },
  {
   "cell_type": "code",
   "execution_count": 183,
   "metadata": {},
   "outputs": [
    {
     "name": "stdout",
     "output_type": "stream",
     "text": [
      "[ Q♣, \u001b[31m 2♦\u001b[0m]\n",
      "Pepe, do you want another card? [y|n] y\n",
      "[ 8♠,  4♣]\n",
      "CPU, do you want another card? [y|n]\n",
      "Yes\n"
     ]
    }
   ],
   "source": [
    "game.round_p()"
   ]
  },
  {
   "cell_type": "code",
   "execution_count": 184,
   "metadata": {},
   "outputs": [
    {
     "data": {
      "text/plain": [
       "[[ Q♣, \u001b[31m 2♦\u001b[0m,  2♣], [ 8♠,  4♣, \u001b[31m 6♥\u001b[0m]]"
      ]
     },
     "execution_count": 184,
     "metadata": {},
     "output_type": "execute_result"
    }
   ],
   "source": [
    "[p.hand for p in game.players]"
   ]
  },
  {
   "cell_type": "code",
   "execution_count": 185,
   "metadata": {},
   "outputs": [
    {
     "name": "stdout",
     "output_type": "stream",
     "text": [
      "[ Q♣, \u001b[31m 2♦\u001b[0m,  2♣]\n",
      "Pepe, do you want another card? [y|n] y\n",
      "[ 8♠,  4♣, \u001b[31m 6♥\u001b[0m]\n",
      "CPU, do you want another card? [y|n]\n",
      "No\n"
     ]
    }
   ],
   "source": [
    "game.round_p()"
   ]
  },
  {
   "cell_type": "code",
   "execution_count": 186,
   "metadata": {},
   "outputs": [
    {
     "data": {
      "text/plain": [
       "[[ Q♣, \u001b[31m 2♦\u001b[0m,  2♣, \u001b[31m 4♦\u001b[0m], [ 8♠,  4♣, \u001b[31m 6♥\u001b[0m]]"
      ]
     },
     "execution_count": 186,
     "metadata": {},
     "output_type": "execute_result"
    }
   ],
   "source": [
    "[p.hand for p in game.players]"
   ]
  },
  {
   "cell_type": "code",
   "execution_count": null,
   "metadata": {},
   "outputs": [],
   "source": []
  }
 ],
 "metadata": {
  "kernelspec": {
   "display_name": "Python 3 (ipykernel)",
   "language": "python",
   "name": "python3"
  },
  "language_info": {
   "codemirror_mode": {
    "name": "ipython",
    "version": 3
   },
   "file_extension": ".py",
   "mimetype": "text/x-python",
   "name": "python",
   "nbconvert_exporter": "python",
   "pygments_lexer": "ipython3",
   "version": "3.9.6"
  },
  "toc": {
   "base_numbering": 1,
   "nav_menu": {},
   "number_sections": true,
   "sideBar": true,
   "skip_h1_title": true,
   "title_cell": "Table of Contents",
   "title_sidebar": "Contents",
   "toc_cell": false,
   "toc_position": {
    "height": "calc(100% - 180px)",
    "left": "10px",
    "top": "150px",
    "width": "165px"
   },
   "toc_section_display": true,
   "toc_window_display": false
  }
 },
 "nbformat": 4,
 "nbformat_minor": 4
}
