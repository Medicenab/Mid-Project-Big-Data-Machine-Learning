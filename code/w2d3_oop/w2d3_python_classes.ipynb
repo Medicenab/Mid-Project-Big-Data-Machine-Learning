{
 "cells": [
  {
   "cell_type": "markdown",
   "id": "9faab746",
   "metadata": {},
   "source": [
    "![](https://api.brandy.run/core/core-logo-wide)\n",
    "\n",
    "# Object Oriented Programming"
   ]
  },
  {
   "cell_type": "markdown",
   "id": "08dd5569",
   "metadata": {},
   "source": [
    "## Programming Paradigms\n",
    "Aunque hayan muchos diferentes tipos de [paradigmas de programación](https://en.wikipedia.org/wiki/Programming_paradigm), como Python es un lenguaje multi-paradigma, no tenemos que limitarmos a uno, sino que podemos eligir cual seguir dependiendo de la situación.\n",
    "\n",
    "Empezamos a ver ya las funciones, que son el elemento basico de la programación funcional. Veremos ahora como se compara ese con un otro paradigma muy popular, la `Programación Orientada a Objeto`.\n",
    "\n",
    "![](img/fp_oop.png)"
   ]
  },
  {
   "cell_type": "code",
   "execution_count": 22,
   "id": "19f06420-b5e0-46a7-b92d-45575cc199e5",
   "metadata": {},
   "outputs": [
    {
     "name": "stdout",
     "output_type": "stream",
     "text": [
      "6\n"
     ]
    }
   ],
   "source": [
    "input_ = [1,2,3]\n",
    "output = sum(input_)\n",
    "print(output)"
   ]
  },
  {
   "cell_type": "markdown",
   "id": "1f68620a",
   "metadata": {},
   "source": [
    "Cuando hablamos de la programación funcional, tenemos dos elementos, las variables y las funciones. En ese paradigma trabajamos bajo el concepto de datos inmutables. Por lo tanto, la `FP` se basa en funciones puras, que reciben variables a las cuales la función no altera.\n",
    "\n",
    "En la `OOP`, tenemos el concepto de encapsulación de datos y funciones (métodos) y se usan datos mutables. Los métodos cambian el `estado` de un objeto y sus variables.\n",
    "\n",
    "Los mismos resultados se pueden alcanzar por una via u otra, dependiendo de las características del problema, las capacidades y gustos del programador. Pero por más que haya discusiones eternas entre desarolladores, no tenemos que eligir una posición única. Lo bueno de python es esa flexibilidad."
   ]
  },
  {
   "cell_type": "markdown",
   "id": "ee171120",
   "metadata": {},
   "source": [
    "## OOP concepts"
   ]
  },
  {
   "cell_type": "markdown",
   "id": "a1043758",
   "metadata": {},
   "source": [
    "### Abstraction\n",
    "Así como en las funciones, en la programación orientada a objeto también usamos la abstracción a nuestro favor. A pensar la cantidad de métodos de diferentes tipos que hemos utilizado sin conocer sus pormenores. \n",
    "\n",
    "En la OOP, como la información va contenida en el objeto, se dice que hay abstracción de los datos."
   ]
  },
  {
   "cell_type": "markdown",
   "id": "4f6ac1fd",
   "metadata": {},
   "source": [
    "### Encapsulation\n",
    "Diferente de la programación funcional, donde tenemos una separación entre procedimientos (funciones) y datos (variables), en la `oop` tenemos ambos datos y funciones bajo una misma capsula, el tipo o objeto.\n",
    "\n",
    "Si pensamos en cuando hacemos una tarta, en la programación funcional tenemos por un lado la dispensa de donde sacamos los ingredientes (variables) y ejecutamos una serie de acciones (funciones) como medir, pesar, mezclar, calentar, etc. para crear un nuevo objeto tarta cuando el proceso todo esté hecho.\n",
    "\n",
    "![](img/cake.jpeg)\n",
    "\n",
    "|DATA|BEHAVIOUR|\n",
    "|----|---------|\n",
    "|**Variables**|**Functions**|\n",
    "|eggs| measure |\n",
    "|flour| weight |\n",
    "|milk| mix |\n",
    "|chocolate powder| beat |\n",
    "|sugar| sprinkle |\n",
    "|etc| bake |\n",
    "\n",
    "En la programación orientada a objeto, es como si tuvieramos un unico objeto, una caja de mezcla para tarta hecha, con las instrucciones (métodos) directamente en el paquete. Todo se ejecuta dentro de esa misma capsula y los ingredientes tal cual ya no existen después de la transformación.\n",
    "\n",
    "|Object|\n",
    "|------|\n",
    "|Cake|\n",
    "\n",
    "![](img/cake_mix.jpg)"
   ]
  },
  {
   "cell_type": "markdown",
   "id": "8512c85f",
   "metadata": {},
   "source": [
    "## Creating a Class\n",
    "\n",
    "Para poder llegar a crear nuestros objetos, necesitamos antes definir la `classe` (tipo) al cual ese objeto pertenencerá. La clase es la plantilla de un tipo de objeto, la idea de esos objetos.\n",
    "\n",
    "|Class|Object|\n",
    "|-----|------|\n",
    "|**type**|**instance**|\n",
    "|Generic | Specific |\n",
    "|Species| Specimen| \n",
    "\n",
    "<img src=img/class.png width=600/>"
   ]
  },
  {
   "cell_type": "markdown",
   "id": "01a54bf3",
   "metadata": {},
   "source": [
    "### Constructor method\n",
    "Para definir una nueva clase en python, usaremos la palabra `class` seguida del nombre que queremos dar a esa clase. Por convención, nombramos a las clases siempre con la primera letra en mayúscula. En seguida tendremos un bloque de codigo identado (como en una función) donde definiremos el codigo interno de esa clase.\n",
    "\n",
    "El primer método que veremos y escribiremos será el método constructor, responsable por generar los nuevos objetos de esa clase y asignarle sus atributos iniciales (si hay). El método constructor debe tener un nombre muy específico: `__init__`. Ya veremos más adelante por que algunos métodos llevan los doble barra bajas en sus nombres."
   ]
  },
  {
   "cell_type": "code",
   "execution_count": 23,
   "id": "1f8bfcbc-bc5e-41f1-b556-a7a259909d67",
   "metadata": {},
   "outputs": [],
   "source": [
    "class Cat:\n",
    "    pass"
   ]
  },
  {
   "cell_type": "code",
   "execution_count": 24,
   "id": "b555fa8b-3b26-4e37-ba50-dbfb37f56df9",
   "metadata": {},
   "outputs": [],
   "source": [
    "garfield = Cat()"
   ]
  },
  {
   "cell_type": "code",
   "execution_count": 26,
   "id": "b17d4bb8-630c-4083-8962-76084c9082c5",
   "metadata": {},
   "outputs": [
    {
     "data": {
      "text/plain": [
       "__main__.Cat"
      ]
     },
     "execution_count": 26,
     "metadata": {},
     "output_type": "execute_result"
    }
   ],
   "source": [
    "type(Cat())"
   ]
  },
  {
   "cell_type": "code",
   "execution_count": 28,
   "id": "cf650b55-5fb6-4b89-9f3d-fb1538de3d71",
   "metadata": {},
   "outputs": [
    {
     "data": {
      "text/plain": [
       "type"
      ]
     },
     "execution_count": 28,
     "metadata": {},
     "output_type": "execute_result"
    }
   ],
   "source": [
    "type(Cat)"
   ]
  },
  {
   "cell_type": "code",
   "execution_count": 29,
   "id": "7dc5a892-2300-4cef-8a47-f535e3c04637",
   "metadata": {},
   "outputs": [
    {
     "data": {
      "text/plain": [
       "type"
      ]
     },
     "execution_count": 29,
     "metadata": {},
     "output_type": "execute_result"
    }
   ],
   "source": [
    "type(str)"
   ]
  },
  {
   "cell_type": "code",
   "execution_count": 30,
   "id": "b2b58b65-6c25-4809-8907-2dfc4fde0cad",
   "metadata": {},
   "outputs": [
    {
     "data": {
      "text/plain": [
       "type"
      ]
     },
     "execution_count": 30,
     "metadata": {},
     "output_type": "execute_result"
    }
   ],
   "source": [
    "type(int)"
   ]
  },
  {
   "cell_type": "code",
   "execution_count": 31,
   "id": "040ade9f-0ac5-450c-937f-2c0bede9aebb",
   "metadata": {},
   "outputs": [
    {
     "data": {
      "text/plain": [
       "type"
      ]
     },
     "execution_count": 31,
     "metadata": {},
     "output_type": "execute_result"
    }
   ],
   "source": [
    "type(list)"
   ]
  },
  {
   "cell_type": "code",
   "execution_count": 32,
   "id": "3ec3dd58-e454-4f63-959a-41bddbcf5cf6",
   "metadata": {},
   "outputs": [
    {
     "data": {
      "text/plain": [
       "['__add__',\n",
       " '__class__',\n",
       " '__class_getitem__',\n",
       " '__contains__',\n",
       " '__delattr__',\n",
       " '__delitem__',\n",
       " '__dir__',\n",
       " '__doc__',\n",
       " '__eq__',\n",
       " '__format__',\n",
       " '__ge__',\n",
       " '__getattribute__',\n",
       " '__getitem__',\n",
       " '__gt__',\n",
       " '__hash__',\n",
       " '__iadd__',\n",
       " '__imul__',\n",
       " '__init__',\n",
       " '__init_subclass__',\n",
       " '__iter__',\n",
       " '__le__',\n",
       " '__len__',\n",
       " '__lt__',\n",
       " '__mul__',\n",
       " '__ne__',\n",
       " '__new__',\n",
       " '__reduce__',\n",
       " '__reduce_ex__',\n",
       " '__repr__',\n",
       " '__reversed__',\n",
       " '__rmul__',\n",
       " '__setattr__',\n",
       " '__setitem__',\n",
       " '__sizeof__',\n",
       " '__str__',\n",
       " '__subclasshook__',\n",
       " 'append',\n",
       " 'clear',\n",
       " 'copy',\n",
       " 'count',\n",
       " 'extend',\n",
       " 'index',\n",
       " 'insert',\n",
       " 'pop',\n",
       " 'remove',\n",
       " 'reverse',\n",
       " 'sort']"
      ]
     },
     "execution_count": 32,
     "metadata": {},
     "output_type": "execute_result"
    }
   ],
   "source": [
    "dir(list)"
   ]
  },
  {
   "cell_type": "code",
   "execution_count": 33,
   "id": "85f6b379-a4d3-429d-8ea7-7ee027624f4b",
   "metadata": {},
   "outputs": [],
   "source": [
    "class Cat:\n",
    "    def __init__(self, nombre, edad, peso):\n",
    "        self.nombre = nombre\n",
    "        self.edad = edad\n",
    "        self.peso = peso\n",
    "        "
   ]
  },
  {
   "cell_type": "code",
   "execution_count": 34,
   "id": "72f8b5fe-3e60-4e3c-bbb3-bd7cf597fa3c",
   "metadata": {},
   "outputs": [],
   "source": [
    "garfield = Cat(\"Garfield\", 12, 30)"
   ]
  },
  {
   "cell_type": "code",
   "execution_count": 35,
   "id": "38b241df-4583-4f58-aecc-9a8008b7f461",
   "metadata": {},
   "outputs": [
    {
     "data": {
      "text/plain": [
       "['__class__',\n",
       " '__delattr__',\n",
       " '__dict__',\n",
       " '__dir__',\n",
       " '__doc__',\n",
       " '__eq__',\n",
       " '__format__',\n",
       " '__ge__',\n",
       " '__getattribute__',\n",
       " '__gt__',\n",
       " '__hash__',\n",
       " '__init__',\n",
       " '__init_subclass__',\n",
       " '__le__',\n",
       " '__lt__',\n",
       " '__module__',\n",
       " '__ne__',\n",
       " '__new__',\n",
       " '__reduce__',\n",
       " '__reduce_ex__',\n",
       " '__repr__',\n",
       " '__setattr__',\n",
       " '__sizeof__',\n",
       " '__str__',\n",
       " '__subclasshook__',\n",
       " '__weakref__',\n",
       " 'edad',\n",
       " 'nombre',\n",
       " 'peso']"
      ]
     },
     "execution_count": 35,
     "metadata": {},
     "output_type": "execute_result"
    }
   ],
   "source": [
    "dir(garfield)"
   ]
  },
  {
   "cell_type": "code",
   "execution_count": 38,
   "id": "c33b3c22-b5c5-42eb-9962-da0145b99256",
   "metadata": {},
   "outputs": [
    {
     "data": {
      "text/plain": [
       "12"
      ]
     },
     "execution_count": 38,
     "metadata": {},
     "output_type": "execute_result"
    }
   ],
   "source": [
    "garfield.edad"
   ]
  },
  {
   "cell_type": "code",
   "execution_count": 39,
   "id": "a48439fc-eb0f-480a-9ee7-281266719b21",
   "metadata": {},
   "outputs": [
    {
     "data": {
      "text/plain": [
       "'Garfield'"
      ]
     },
     "execution_count": 39,
     "metadata": {},
     "output_type": "execute_result"
    }
   ],
   "source": [
    "garfield.nombre"
   ]
  },
  {
   "cell_type": "code",
   "execution_count": 40,
   "id": "b2fabb07-6205-4a1e-83b7-a2f5a8cd7066",
   "metadata": {},
   "outputs": [
    {
     "data": {
      "text/plain": [
       "30"
      ]
     },
     "execution_count": 40,
     "metadata": {},
     "output_type": "execute_result"
    }
   ],
   "source": [
    "garfield.peso"
   ]
  },
  {
   "cell_type": "code",
   "execution_count": 51,
   "id": "cfec6394-02bb-44d0-87d4-38a164b614a2",
   "metadata": {},
   "outputs": [],
   "source": [
    "class Cat:\n",
    "    def __init__(self, nombre, edad, peso):\n",
    "        self.nombre = nombre\n",
    "        self.edad = edad\n",
    "        self.peso = peso\n",
    "    def maullar(self):\n",
    "        return f\"Miau, {self.dame_nombre()}\"\n",
    "    def dame_nombre(self):\n",
    "        return self.nombre"
   ]
  },
  {
   "cell_type": "code",
   "execution_count": 55,
   "id": "eb4b0fc2-9766-493e-afb1-08d2d1138ab8",
   "metadata": {},
   "outputs": [],
   "source": [
    "garfield = Cat(\"Garfield\", 12, 30)"
   ]
  },
  {
   "cell_type": "code",
   "execution_count": 53,
   "id": "57c1a024-7514-42da-ba64-dcc241e4a229",
   "metadata": {},
   "outputs": [
    {
     "data": {
      "text/plain": [
       "'Miau, Garfield'"
      ]
     },
     "execution_count": 53,
     "metadata": {},
     "output_type": "execute_result"
    }
   ],
   "source": [
    "garfield.maullar()"
   ]
  },
  {
   "cell_type": "markdown",
   "id": "c25a8c5b",
   "metadata": {},
   "source": [
    "Como vemos arriba, para crear un objetivo de la clase `Cat`, llamamos a la clase como si fuera una función. Eso es, no llamamos directamente a la función `__init__` por su nombre. \n",
    "\n",
    "Además le pasamos los parámetros que toque. En ese caso `name` y `color`. Pero como podéis notar, hay un parámetro que no le estamos pasando."
   ]
  },
  {
   "cell_type": "markdown",
   "id": "4543232d",
   "metadata": {},
   "source": [
    "### El parámetro self\n",
    "Los métodos son funciones que pertenencen y se definen dentro de una determinada clase. Pero cuando llamamos a uno de esos métodos, no es el método de la clase al cual llamamos, sino que de un objeto en concreto que pertenezca a esa clase. Para que eso pueda funcionar y los métodos se refieran siempre a esa misma instancia (sinonimo de objeto), el primer parámetro de todo método debe ser esa propria instancia, que se pone al declarar la función, pero no al llamarla.\n",
    "\n",
    "Por convención, utilizamos la palabra `self` para indicar el proprio objeto. También necesitamos utilizar de ese recurso cuando queremos definir los atributos, variables que sean accesibles en todo el `scope` de un objeto\n",
    "\n",
    ">Todos los métodos de una clase deben tener `self` como su primer parámetro.\n",
    "\n",
    "El `self` también será el objeto que usaremos dentro de la definición de una clase para referirnos a cualquier atributo o método de ese objeto."
   ]
  },
  {
   "cell_type": "code",
   "execution_count": 79,
   "id": "d7e5f686-cbdc-4d97-b48b-dca37e05a03b",
   "metadata": {},
   "outputs": [],
   "source": [
    "class Animal:\n",
    "    def __init__(self, especie, tamano, peso):\n",
    "        self.tipo=especie\n",
    "        self.size = tamano\n",
    "        self.peso = peso\n",
    "    \n",
    "    def andar(self, metros):\n",
    "        return f\"El animal {self.tipo} andó {metros} metros\"\n",
    "    \n",
    "    def reinicializar(self, especie, tamano, peso):\n",
    "        self.tipo=especie\n",
    "        self.size = tamano\n",
    "        self.peso = peso\n",
    "        \n",
    "    def otra(self, especie, tamano, peso):\n",
    "        self.__init__(especie, tamano, peso)\n",
    "        \n",
    "    def descendencia(self, tipo, tamano, peso):\n",
    "        return Animal(tipo, tamano, peso)"
   ]
  },
  {
   "cell_type": "code",
   "execution_count": 80,
   "id": "27096a75-a3e4-4a91-84e8-47069215fb57",
   "metadata": {},
   "outputs": [],
   "source": [
    "a = Animal(\"Trige\", 50, 80)"
   ]
  },
  {
   "cell_type": "code",
   "execution_count": 72,
   "id": "0ac5a284-c7e8-432a-a90c-cfa486a9e978",
   "metadata": {},
   "outputs": [
    {
     "data": {
      "text/plain": [
       "'El animal Trige andó 50 metros'"
      ]
     },
     "execution_count": 72,
     "metadata": {},
     "output_type": "execute_result"
    }
   ],
   "source": [
    "a.andar(50)"
   ]
  },
  {
   "cell_type": "code",
   "execution_count": 73,
   "id": "2f6dbfdb-47ef-48f0-8cac-1cc8290c2f25",
   "metadata": {},
   "outputs": [],
   "source": [
    "a.reinicializar(\"abc\",1,2)"
   ]
  },
  {
   "cell_type": "code",
   "execution_count": 74,
   "id": "d1e0ded1-89a3-44f2-a0fc-8b37137e8474",
   "metadata": {},
   "outputs": [
    {
     "data": {
      "text/plain": [
       "'abc'"
      ]
     },
     "execution_count": 74,
     "metadata": {},
     "output_type": "execute_result"
    }
   ],
   "source": [
    "a.tipo"
   ]
  },
  {
   "cell_type": "code",
   "execution_count": 75,
   "id": "2542b252-c7d8-46d8-accc-85bf5cf6d219",
   "metadata": {},
   "outputs": [
    {
     "data": {
      "text/plain": [
       "2"
      ]
     },
     "execution_count": 75,
     "metadata": {},
     "output_type": "execute_result"
    }
   ],
   "source": [
    "a.peso"
   ]
  },
  {
   "cell_type": "code",
   "execution_count": 76,
   "id": "b0391320-70ff-4bed-aa89-cc3c24597bde",
   "metadata": {},
   "outputs": [
    {
     "data": {
      "text/plain": [
       "1"
      ]
     },
     "execution_count": 76,
     "metadata": {},
     "output_type": "execute_result"
    }
   ],
   "source": [
    "a.size"
   ]
  },
  {
   "cell_type": "code",
   "execution_count": 77,
   "id": "567631da-982e-404b-898b-50dc117a337d",
   "metadata": {},
   "outputs": [],
   "source": [
    "a.otra(\"Pepe\", 80,50)"
   ]
  },
  {
   "cell_type": "code",
   "execution_count": 78,
   "id": "f3762134-ebb1-40cf-99cc-38dd8b4bf161",
   "metadata": {},
   "outputs": [
    {
     "data": {
      "text/plain": [
       "'Pepe'"
      ]
     },
     "execution_count": 78,
     "metadata": {},
     "output_type": "execute_result"
    }
   ],
   "source": [
    "a.tipo"
   ]
  },
  {
   "cell_type": "code",
   "execution_count": 82,
   "id": "6f247003-e36f-4399-be32-cd1f9d07918c",
   "metadata": {},
   "outputs": [],
   "source": [
    "des = a.descendencia(\"Jjuan\", 80,90)"
   ]
  },
  {
   "cell_type": "code",
   "execution_count": 83,
   "id": "854ca6fe",
   "metadata": {},
   "outputs": [
    {
     "data": {
      "text/plain": [
       "['__class__',\n",
       " '__delattr__',\n",
       " '__dict__',\n",
       " '__dir__',\n",
       " '__doc__',\n",
       " '__eq__',\n",
       " '__format__',\n",
       " '__ge__',\n",
       " '__getattribute__',\n",
       " '__gt__',\n",
       " '__hash__',\n",
       " '__init__',\n",
       " '__init_subclass__',\n",
       " '__le__',\n",
       " '__lt__',\n",
       " '__module__',\n",
       " '__ne__',\n",
       " '__new__',\n",
       " '__reduce__',\n",
       " '__reduce_ex__',\n",
       " '__repr__',\n",
       " '__setattr__',\n",
       " '__sizeof__',\n",
       " '__str__',\n",
       " '__subclasshook__',\n",
       " '__weakref__',\n",
       " 'andar',\n",
       " 'descendencia',\n",
       " 'otra',\n",
       " 'peso',\n",
       " 'reinicializar',\n",
       " 'size',\n",
       " 'tipo']"
      ]
     },
     "execution_count": 83,
     "metadata": {},
     "output_type": "execute_result"
    }
   ],
   "source": [
    "dir(des)"
   ]
  },
  {
   "cell_type": "markdown",
   "id": "f37eecfe",
   "metadata": {},
   "source": [
    "## More OOP concepts"
   ]
  },
  {
   "cell_type": "markdown",
   "id": "1de72ec2",
   "metadata": {},
   "source": [
    "### Polymorphism\n",
    "El polimorfismo, cuando hablamos de objetos significa que los objetos pueden tener diferentes formas a depender de un contexto. Por ejemplo, el cursor de el raton que puede ser una flecha, una linea, una cruz, diferentes manos a depender de el contexto.\n",
    "\n",
    "<img src=img/cursor.jpeg width=600/>\n",
    "\n",
    "En python, el polimorfismo significa basicamente que diferentes objetos de diferentes tipos pueden tener métodos con el mismo nombre, de forma que podamos tratar objetos de tipos diferentes de una forma genérica."
   ]
  },
  {
   "cell_type": "code",
   "execution_count": 89,
   "id": "a7b903c1-123c-4594-bfee-1dfb2af42e80",
   "metadata": {},
   "outputs": [],
   "source": [
    "class Perro:\n",
    "    def __init__(self):\n",
    "        pass\n",
    "    def andar(self, distancia):\n",
    "        return f\"El perro andó {distancia}m\""
   ]
  },
  {
   "cell_type": "code",
   "execution_count": 90,
   "id": "36e11716-3fb4-4d90-8ac5-5c42a146cc84",
   "metadata": {},
   "outputs": [],
   "source": [
    "class Gato:\n",
    "    def __init__(self):\n",
    "        pass\n",
    "    def andar(self, distancia):\n",
    "        return f\"El gato andó {distancia}m\"\n",
    "    \n",
    "class Pajaro:\n",
    "    def __init__(self):\n",
    "        pass\n",
    "    def andar(self, distancia):\n",
    "        return f\"El pajaro andó {distancia}m\""
   ]
  },
  {
   "cell_type": "code",
   "execution_count": 91,
   "id": "dc66e13c-300d-4005-8776-05dd773222fc",
   "metadata": {},
   "outputs": [],
   "source": [
    "import numpy as np"
   ]
  },
  {
   "cell_type": "code",
   "execution_count": 92,
   "id": "af48b4df-df32-4127-a797-948aae4824bd",
   "metadata": {},
   "outputs": [
    {
     "name": "stdout",
     "output_type": "stream",
     "text": [
      "El perro andó 1m\n",
      "El gato andó 7m\n",
      "El pajaro andó 3m\n"
     ]
    }
   ],
   "source": [
    "for c in [Perro(), Gato(), Pajaro()]:\n",
    "    print(c.andar(np.random.randint(10)))"
   ]
  },
  {
   "cell_type": "markdown",
   "id": "0353814a",
   "metadata": {},
   "source": [
    "### Inheritance\n",
    "La herencia es una propriedad de las clases que permiten crear una clase derivada (`Child Class`) a partir de una clase base (`Parent Class`) de la cual hereda todos sus atributos y métodos.\n",
    "\n",
    "Indicamos la clase base entre parentesis en la definición de la clase."
   ]
  },
  {
   "cell_type": "code",
   "execution_count": 141,
   "id": "00b181e6-73b8-4939-9104-766d77fa4a49",
   "metadata": {},
   "outputs": [],
   "source": [
    "class Animal:\n",
    "    def __init__(self, peso, tipo):\n",
    "        self.tipo = tipo\n",
    "        self.peso = peso\n",
    "        \n",
    "    def hace_ruido(self):\n",
    "        return \"RUIDO!!!!!\""
   ]
  },
  {
   "cell_type": "code",
   "execution_count": 149,
   "id": "9a41454b-bad6-4c8f-ac19-c0c5c9dc1378",
   "metadata": {},
   "outputs": [],
   "source": [
    "a = Animal(45, \"Salvaje\")"
   ]
  },
  {
   "cell_type": "code",
   "execution_count": 155,
   "id": "25e05018-22de-4aa6-963a-4bb8b89b7de2",
   "metadata": {},
   "outputs": [
    {
     "data": {
      "text/plain": [
       "'RUIDO!!!!!'"
      ]
     },
     "execution_count": 155,
     "metadata": {},
     "output_type": "execute_result"
    }
   ],
   "source": [
    "a.hace_ruido()"
   ]
  },
  {
   "cell_type": "code",
   "execution_count": 151,
   "id": "6fffbc09-47a6-4fbc-ae08-fdab1e646419",
   "metadata": {},
   "outputs": [],
   "source": [
    "class Perro(Animal):        \n",
    "    def ladrar(self):\n",
    "        return f\"Guau {self.tipo}\""
   ]
  },
  {
   "cell_type": "code",
   "execution_count": 152,
   "id": "cd1c1b6f-dc60-43ac-b621-38e7160796f0",
   "metadata": {},
   "outputs": [],
   "source": [
    "scooby = Perro(50, \"Dog\")"
   ]
  },
  {
   "cell_type": "code",
   "execution_count": 153,
   "id": "8234b886-b265-485e-811d-fd834ba47285",
   "metadata": {},
   "outputs": [
    {
     "data": {
      "text/plain": [
       "'Guau Dog'"
      ]
     },
     "execution_count": 153,
     "metadata": {},
     "output_type": "execute_result"
    }
   ],
   "source": [
    "scooby.ladrar()"
   ]
  },
  {
   "cell_type": "code",
   "execution_count": 154,
   "id": "20c1c282-facf-4154-adfe-d330c2efd6e6",
   "metadata": {},
   "outputs": [
    {
     "data": {
      "text/plain": [
       "'RUIDO!!!!!'"
      ]
     },
     "execution_count": 154,
     "metadata": {},
     "output_type": "execute_result"
    }
   ],
   "source": [
    "scooby.hace_ruido()"
   ]
  },
  {
   "cell_type": "code",
   "execution_count": 145,
   "id": "b33fe915-6fed-43be-9a77-9743065a1b87",
   "metadata": {},
   "outputs": [
    {
     "data": {
      "text/plain": [
       "['__class__',\n",
       " '__delattr__',\n",
       " '__dict__',\n",
       " '__dir__',\n",
       " '__doc__',\n",
       " '__eq__',\n",
       " '__format__',\n",
       " '__ge__',\n",
       " '__getattribute__',\n",
       " '__gt__',\n",
       " '__hash__',\n",
       " '__init__',\n",
       " '__init_subclass__',\n",
       " '__le__',\n",
       " '__lt__',\n",
       " '__module__',\n",
       " '__ne__',\n",
       " '__new__',\n",
       " '__reduce__',\n",
       " '__reduce_ex__',\n",
       " '__repr__',\n",
       " '__setattr__',\n",
       " '__sizeof__',\n",
       " '__str__',\n",
       " '__subclasshook__',\n",
       " '__weakref__',\n",
       " 'hace_ruido',\n",
       " 'ladrar',\n",
       " 'peso',\n",
       " 'tipo']"
      ]
     },
     "execution_count": 145,
     "metadata": {},
     "output_type": "execute_result"
    }
   ],
   "source": [
    "dir(scooby)"
   ]
  },
  {
   "cell_type": "code",
   "execution_count": 122,
   "id": "5800cab6-9beb-47ba-a589-7b4c57c17b1a",
   "metadata": {},
   "outputs": [
    {
     "data": {
      "text/plain": [
       "'RUIDO!!!!!'"
      ]
     },
     "execution_count": 122,
     "metadata": {},
     "output_type": "execute_result"
    }
   ],
   "source": [
    "scooby.hace_ruido()"
   ]
  },
  {
   "cell_type": "code",
   "execution_count": 123,
   "id": "dc8675fe-7e8c-45e0-9b2b-6a40921a0f17",
   "metadata": {},
   "outputs": [
    {
     "data": {
      "text/plain": [
       "'Dog'"
      ]
     },
     "execution_count": 123,
     "metadata": {},
     "output_type": "execute_result"
    }
   ],
   "source": [
    "scooby.tipo"
   ]
  },
  {
   "cell_type": "code",
   "execution_count": 124,
   "id": "e87f18df-55df-4780-8954-aca643a9bfca",
   "metadata": {},
   "outputs": [
    {
     "data": {
      "text/plain": [
       "57"
      ]
     },
     "execution_count": 124,
     "metadata": {},
     "output_type": "execute_result"
    }
   ],
   "source": [
    "scooby.peso"
   ]
  },
  {
   "cell_type": "markdown",
   "id": "d2796918",
   "metadata": {},
   "source": [
    "### Heredar sin ninguna modificación\n",
    "Podemos heredar de una clase sin hacer ningún tipo de modificación a la clase base. En ese caso ambas las clases seran exactamnente iguales."
   ]
  },
  {
   "cell_type": "code",
   "execution_count": 156,
   "id": "4a36137d-a21b-484d-b570-57d62639fc90",
   "metadata": {},
   "outputs": [],
   "source": [
    "class Gato(Animal):\n",
    "    pass"
   ]
  },
  {
   "cell_type": "code",
   "execution_count": 158,
   "id": "b468d392-958e-4c9e-94a2-171a43268583",
   "metadata": {},
   "outputs": [],
   "source": [
    "g = Gato(10, \"Cat\")"
   ]
  },
  {
   "cell_type": "code",
   "execution_count": 162,
   "id": "da6bfc5f-c780-447e-8031-d9471d9ae5a6",
   "metadata": {},
   "outputs": [
    {
     "data": {
      "text/plain": [
       "'RUIDO!!!!!'"
      ]
     },
     "execution_count": 162,
     "metadata": {},
     "output_type": "execute_result"
    }
   ],
   "source": [
    "g.hace_ruido()"
   ]
  },
  {
   "cell_type": "code",
   "execution_count": 160,
   "id": "194d52c0-f540-42b9-aa17-fe9522acce20",
   "metadata": {},
   "outputs": [
    {
     "data": {
      "text/plain": [
       "'Cat'"
      ]
     },
     "execution_count": 160,
     "metadata": {},
     "output_type": "execute_result"
    }
   ],
   "source": [
    "g.tipo"
   ]
  },
  {
   "cell_type": "code",
   "execution_count": 161,
   "id": "9c886a58-bca2-4b37-8e4e-15e7f5436702",
   "metadata": {},
   "outputs": [
    {
     "data": {
      "text/plain": [
       "10"
      ]
     },
     "execution_count": 161,
     "metadata": {},
     "output_type": "execute_result"
    }
   ],
   "source": [
    "g.peso"
   ]
  },
  {
   "cell_type": "markdown",
   "id": "79425754",
   "metadata": {},
   "source": [
    "### Heredar, añadir y sobrescribir métodos\n",
    "\n",
    "Más comunmente vamos heredar de una clase para aprovechar características suyas, pero añadiendo particularidades de la clase hija. Para añadir un método nuevo solo tenemos que definirle. \n",
    "\n",
    "Para sobrescribir un método con una nueva función, exactamente lo mismo. No hace falta nada más. Eso es válido para cualquier método, incluso el `__init__`."
   ]
  },
  {
   "cell_type": "code",
   "execution_count": 195,
   "id": "fa373de3-80a8-42c9-a7c1-80ab30b952f0",
   "metadata": {},
   "outputs": [],
   "source": [
    "class Gamusino(Animal):\n",
    "    def __init__(self, velocidad):\n",
    "        self.velocidad = velocidad\n",
    "    def volar(self, distancia):\n",
    "        return f\"Vuela {distancia}m: El gamusino\""
   ]
  },
  {
   "cell_type": "code",
   "execution_count": 168,
   "id": "c345e0a6-5b14-4ad6-a530-c2d03f1dc536",
   "metadata": {},
   "outputs": [],
   "source": [
    "gam = Gamusino(45)"
   ]
  },
  {
   "cell_type": "code",
   "execution_count": 169,
   "id": "d7e922c2-6afb-4c54-a43d-7a2fdba25556",
   "metadata": {},
   "outputs": [
    {
     "data": {
      "text/plain": [
       "'RUIDO!!!!!'"
      ]
     },
     "execution_count": 169,
     "metadata": {},
     "output_type": "execute_result"
    }
   ],
   "source": [
    "gam.hace_ruido()"
   ]
  },
  {
   "cell_type": "code",
   "execution_count": 170,
   "id": "d17c4f86-2751-40f3-a2f9-1cdd78f29ea8",
   "metadata": {},
   "outputs": [
    {
     "ename": "AttributeError",
     "evalue": "'Gamusino' object has no attribute 'tipo'",
     "output_type": "error",
     "traceback": [
      "\u001b[0;31m---------------------------------------------------------------------------\u001b[0m",
      "\u001b[0;31mAttributeError\u001b[0m                            Traceback (most recent call last)",
      "\u001b[0;32m/var/folders/gd/w3m3w_td6cldhkn58qwx7mtm0000gn/T/ipykernel_2209/2316092912.py\u001b[0m in \u001b[0;36m<module>\u001b[0;34m\u001b[0m\n\u001b[0;32m----> 1\u001b[0;31m \u001b[0mgam\u001b[0m\u001b[0;34m.\u001b[0m\u001b[0mtipo\u001b[0m\u001b[0;34m\u001b[0m\u001b[0;34m\u001b[0m\u001b[0m\n\u001b[0m",
      "\u001b[0;31mAttributeError\u001b[0m: 'Gamusino' object has no attribute 'tipo'"
     ]
    }
   ],
   "source": [
    "gam.tipo"
   ]
  },
  {
   "cell_type": "code",
   "execution_count": 172,
   "id": "4dd2bc3b-688d-4f1a-8c95-ae04feb3c0a9",
   "metadata": {},
   "outputs": [
    {
     "data": {
      "text/plain": [
       "'Vuela 10m'"
      ]
     },
     "execution_count": 172,
     "metadata": {},
     "output_type": "execute_result"
    }
   ],
   "source": [
    "gam.volar(10)"
   ]
  },
  {
   "cell_type": "code",
   "execution_count": 175,
   "id": "3a1f75de-0af1-4982-a350-6a4a36d0e709",
   "metadata": {},
   "outputs": [
    {
     "data": {
      "text/plain": [
       "__main__.Animal"
      ]
     },
     "execution_count": 175,
     "metadata": {},
     "output_type": "execute_result"
    }
   ],
   "source": [
    "type(a)"
   ]
  },
  {
   "cell_type": "code",
   "execution_count": 177,
   "id": "b8547c8b-4dd4-477c-b9a9-3e4b01e64319",
   "metadata": {},
   "outputs": [
    {
     "data": {
      "text/plain": [
       "True"
      ]
     },
     "execution_count": 177,
     "metadata": {},
     "output_type": "execute_result"
    }
   ],
   "source": [
    "isinstance(scooby, Animal)"
   ]
  },
  {
   "cell_type": "code",
   "execution_count": 180,
   "id": "ac38773d-df4a-42d9-b350-28c4cc0c6fc0",
   "metadata": {},
   "outputs": [
    {
     "data": {
      "text/plain": [
       "True"
      ]
     },
     "execution_count": 180,
     "metadata": {},
     "output_type": "execute_result"
    }
   ],
   "source": [
    "isinstance(gam, Animal)"
   ]
  },
  {
   "cell_type": "code",
   "execution_count": 182,
   "id": "d1a7ce9f-77c7-4fc0-a101-b8d3e7895d18",
   "metadata": {},
   "outputs": [
    {
     "data": {
      "text/plain": [
       "False"
      ]
     },
     "execution_count": 182,
     "metadata": {},
     "output_type": "execute_result"
    }
   ],
   "source": [
    "isinstance(scooby, Gamusino)"
   ]
  },
  {
   "cell_type": "markdown",
   "id": "f201d1a9",
   "metadata": {},
   "source": [
    "### Extra: Métodos estáticos y de classe\n",
    "\n",
    "Un método estático es un método que \"desconoce\" el estado del objeto al cual pertenece, y por lo tanto no puede acceder ni alterar a ninguno de sus atributos. Los métodos estáticos no reciben el parámetro implícito `self` y se marcan con un `decorador`:  `@staticmethod`.\n",
    "\n",
    "Hay un decorador similar `@classmethod` que permite que un método tenga acceso a la clase (general) del objeto, pero no al estado de ese objeto en particular. Tal cual `self` apunta al proprio objeto, usamos `cls` para indicar un parámetro que apunta a la propria clase. Veremos un ejemplo a seguir. "
   ]
  },
  {
   "cell_type": "markdown",
   "id": "cd08b834",
   "metadata": {},
   "source": [
    "### Heredar, cambiar método aprovechando método original\n",
    "\n",
    "Otra posibilidad al heredar un método es que queramos aprovechar lo que hacia su método anterior. Podemos hacerlo, pero para eso necesitamos llamar al método de la clase padre utilizando la función `super()` en lugar de el `self`.\n",
    "\n",
    "> Super refierese a la clase superior, por lo tanto la clase padre."
   ]
  },
  {
   "cell_type": "code",
   "execution_count": 196,
   "id": "27611853-d79d-4017-b272-59554e51fd5a",
   "metadata": {},
   "outputs": [],
   "source": [
    "class Pajaro(Gamusino):\n",
    "    def __init__(self, color):\n",
    "        self.color = color\n",
    "        \n",
    "    def volar(self, velocidad):\n",
    "        return f\"El pajaro -> {super().volar(velocidad)}\""
   ]
  },
  {
   "cell_type": "code",
   "execution_count": 197,
   "id": "0de8d383-8cf4-4f7b-a12c-610ea5652f90",
   "metadata": {},
   "outputs": [],
   "source": [
    "p = Pajaro(\"rojo\")"
   ]
  },
  {
   "cell_type": "code",
   "execution_count": 198,
   "id": "4792f0de-a54a-4bc8-bb4f-83f212a0ddc6",
   "metadata": {},
   "outputs": [
    {
     "data": {
      "text/plain": [
       "'El pajaro -> Vuela 20m: El gamusino'"
      ]
     },
     "execution_count": 198,
     "metadata": {},
     "output_type": "execute_result"
    }
   ],
   "source": [
    "p.volar(20)"
   ]
  },
  {
   "cell_type": "markdown",
   "id": "532de3fc",
   "metadata": {},
   "source": [
    "## Dunder methods\n",
    "\n",
    "Double Underline (Doble Barra Baja)"
   ]
  },
  {
   "cell_type": "code",
   "execution_count": 199,
   "id": "969d06f2-3c82-4c76-b3b7-a28dd3195fce",
   "metadata": {},
   "outputs": [
    {
     "data": {
      "text/plain": [
       "['__class__',\n",
       " '__delattr__',\n",
       " '__dict__',\n",
       " '__dir__',\n",
       " '__doc__',\n",
       " '__eq__',\n",
       " '__format__',\n",
       " '__ge__',\n",
       " '__getattribute__',\n",
       " '__gt__',\n",
       " '__hash__',\n",
       " '__init__',\n",
       " '__init_subclass__',\n",
       " '__le__',\n",
       " '__lt__',\n",
       " '__module__',\n",
       " '__ne__',\n",
       " '__new__',\n",
       " '__reduce__',\n",
       " '__reduce_ex__',\n",
       " '__repr__',\n",
       " '__setattr__',\n",
       " '__sizeof__',\n",
       " '__str__',\n",
       " '__subclasshook__',\n",
       " '__weakref__',\n",
       " 'hace_ruido',\n",
       " 'volar']"
      ]
     },
     "execution_count": 199,
     "metadata": {},
     "output_type": "execute_result"
    }
   ],
   "source": [
    "dir(Pajaro)"
   ]
  },
  {
   "cell_type": "code",
   "execution_count": 200,
   "id": "c74d771b-e15f-4b35-9325-732ed35cca81",
   "metadata": {},
   "outputs": [
    {
     "ename": "TypeError",
     "evalue": "object of type 'Pajaro' has no len()",
     "output_type": "error",
     "traceback": [
      "\u001b[0;31m---------------------------------------------------------------------------\u001b[0m",
      "\u001b[0;31mTypeError\u001b[0m                                 Traceback (most recent call last)",
      "\u001b[0;32m/var/folders/gd/w3m3w_td6cldhkn58qwx7mtm0000gn/T/ipykernel_2209/3448527608.py\u001b[0m in \u001b[0;36m<module>\u001b[0;34m\u001b[0m\n\u001b[0;32m----> 1\u001b[0;31m \u001b[0mlen\u001b[0m\u001b[0;34m(\u001b[0m\u001b[0mp\u001b[0m\u001b[0;34m)\u001b[0m\u001b[0;34m\u001b[0m\u001b[0;34m\u001b[0m\u001b[0m\n\u001b[0m",
      "\u001b[0;31mTypeError\u001b[0m: object of type 'Pajaro' has no len()"
     ]
    }
   ],
   "source": [
    "len(p)"
   ]
  },
  {
   "cell_type": "code",
   "execution_count": 255,
   "id": "003283d1-83d2-4bff-91a5-75a41054c495",
   "metadata": {},
   "outputs": [],
   "source": [
    "class Pajaro(Gamusino):\n",
    "    def __init__(self, color):\n",
    "        self.color = color\n",
    "        self.lista=[color]\n",
    "    def volar(self, velocidad):\n",
    "        return f\"El pajaro -> {super().volar(velocidad)}\"\n",
    "    def __len__(self):\n",
    "        return 2389237492374\n",
    "    def __add__(self, other):\n",
    "        return True\n",
    "    def __iter__(self):\n",
    "        yield self.lista"
   ]
  },
  {
   "cell_type": "code",
   "execution_count": 256,
   "id": "a58cc7e1-bb39-4370-bbce-b363bbcc1986",
   "metadata": {},
   "outputs": [],
   "source": [
    "p = Pajaro(\"Azul\")"
   ]
  },
  {
   "cell_type": "code",
   "execution_count": 257,
   "id": "e588fb22-8403-473a-8784-c7fb8faf88ac",
   "metadata": {},
   "outputs": [
    {
     "data": {
      "text/plain": [
       "2389237492374"
      ]
     },
     "execution_count": 257,
     "metadata": {},
     "output_type": "execute_result"
    }
   ],
   "source": [
    "len(p)"
   ]
  },
  {
   "cell_type": "code",
   "execution_count": 258,
   "id": "cb69b148-d270-40af-a87b-3f1ce235bd72",
   "metadata": {},
   "outputs": [
    {
     "data": {
      "text/plain": [
       "True"
      ]
     },
     "execution_count": 258,
     "metadata": {},
     "output_type": "execute_result"
    }
   ],
   "source": [
    "p+5"
   ]
  },
  {
   "cell_type": "code",
   "execution_count": 259,
   "id": "ccb99f3d-e26e-4d9f-bf2e-7fe23106b364",
   "metadata": {},
   "outputs": [
    {
     "name": "stdout",
     "output_type": "stream",
     "text": [
      "['Azul']\n"
     ]
    }
   ],
   "source": [
    "for i in p:\n",
    "    print(i)"
   ]
  },
  {
   "cell_type": "code",
   "execution_count": 203,
   "id": "2e580ad3-1bdc-4b4e-adcd-a5a24220e21e",
   "metadata": {},
   "outputs": [
    {
     "data": {
      "text/plain": [
       "['__add__',\n",
       " '__class__',\n",
       " '__class_getitem__',\n",
       " '__contains__',\n",
       " '__delattr__',\n",
       " '__delitem__',\n",
       " '__dir__',\n",
       " '__doc__',\n",
       " '__eq__',\n",
       " '__format__',\n",
       " '__ge__',\n",
       " '__getattribute__',\n",
       " '__getitem__',\n",
       " '__gt__',\n",
       " '__hash__',\n",
       " '__iadd__',\n",
       " '__imul__',\n",
       " '__init__',\n",
       " '__init_subclass__',\n",
       " '__iter__',\n",
       " '__le__',\n",
       " '__len__',\n",
       " '__lt__',\n",
       " '__mul__',\n",
       " '__ne__',\n",
       " '__new__',\n",
       " '__reduce__',\n",
       " '__reduce_ex__',\n",
       " '__repr__',\n",
       " '__reversed__',\n",
       " '__rmul__',\n",
       " '__setattr__',\n",
       " '__setitem__',\n",
       " '__sizeof__',\n",
       " '__str__',\n",
       " '__subclasshook__',\n",
       " 'append',\n",
       " 'clear',\n",
       " 'copy',\n",
       " 'count',\n",
       " 'extend',\n",
       " 'index',\n",
       " 'insert',\n",
       " 'pop',\n",
       " 'remove',\n",
       " 'reverse',\n",
       " 'sort']"
      ]
     },
     "execution_count": 203,
     "metadata": {},
     "output_type": "execute_result"
    }
   ],
   "source": [
    "dir(list)"
   ]
  },
  {
   "cell_type": "code",
   "execution_count": null,
   "id": "4a4637f0-c0f1-41a7-ade0-5e566880c0b5",
   "metadata": {},
   "outputs": [],
   "source": []
  }
 ],
 "metadata": {
  "kernelspec": {
   "display_name": "Python 3 (ipykernel)",
   "language": "python",
   "name": "python3"
  },
  "language_info": {
   "codemirror_mode": {
    "name": "ipython",
    "version": 3
   },
   "file_extension": ".py",
   "mimetype": "text/x-python",
   "name": "python",
   "nbconvert_exporter": "python",
   "pygments_lexer": "ipython3",
   "version": "3.9.7"
  },
  "toc": {
   "base_numbering": 1,
   "nav_menu": {},
   "number_sections": true,
   "sideBar": true,
   "skip_h1_title": true,
   "title_cell": "Table of Contents",
   "title_sidebar": "Contents",
   "toc_cell": true,
   "toc_position": {},
   "toc_section_display": true,
   "toc_window_display": false
  }
 },
 "nbformat": 4,
 "nbformat_minor": 5
}
