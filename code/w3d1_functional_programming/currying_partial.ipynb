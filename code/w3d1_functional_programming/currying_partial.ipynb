{
 "cells": [
  {
   "cell_type": "markdown",
   "id": "ef41bc6e",
   "metadata": {},
   "source": [
    "![](https://api.brandy.run/core/core-logo-wide)\n",
    "\n",
    "## Partial and currying"
   ]
  },
  {
   "cell_type": "markdown",
   "id": "bcec0c64",
   "metadata": {},
   "source": [
    "El objetivo del paradigma de programacion funcional es tener, no una unica funcion de grandes proporciones y complejidad, sino muchas funciones, extremadamente simples. Estas funciones deben resolver partes de un problema más global, y los parametros que deben recibir deben de ser los minimos posibles, es decir, deben apuntar a tener una **Aridad unitaria**.\n",
    "\n",
    "Las ventajas de tener multiples funciones, frete a una sola función, es que permite tener \"modularidad\", ya que al tener funciones que resuelven partes del problema, se pueden aplicar a multiples problemas unicamente teniendo que cambiar/añadir funciones para que actuen correctamente en el nuevo contexto.\n",
    "\n",
    "Esta situacion, para las funciones unicas de gran tamaño, supone un problema, ya que habría que buscar por todo su codigo, aquella parte de él que ha dejado de funcionar y \"arreglarla\" para el nuevo contexto, lo que haría que dejase de funcionar para el contexto anterior."
   ]
  },
  {
   "cell_type": "markdown",
   "id": "69fc881e",
   "metadata": {},
   "source": [
    "A continuacion, vamos a simular una conexion a una BBDD para obtener algun tipo de información."
   ]
  },
  {
   "cell_type": "code",
   "execution_count": 1,
   "id": "d42c7ea6",
   "metadata": {},
   "outputs": [],
   "source": [
    "def connection(bbdd):\n",
    "    print(f\"Conectandose a la bbdd {bbdd} ....\\n...\")\n",
    "    return bbdd\n",
    "\n",
    "def connected(table, bbdd):\n",
    "    print(f\"Se ha conectado a la coleccion {table} de {bbdd}.\\n...\")\n",
    "    return True\n",
    "\n",
    "def read(conexion):\n",
    "    data = {\"Name\":\"Pepe\", \"Age\":40, \"Place\":\"Madrid\"}\n",
    "    print(f\"Se han encontrado los siguientes datos en la tabla:\")\n",
    "    for key,value in data.items():\n",
    "        print(f\"   {key}:{value}\")\n",
    "    print(\"\")\n",
    "    return data\n",
    "\n",
    "def data(data, feature):\n",
    "    print(f\"Buscando por {feature} ...\")\n",
    "    return data[feature]"
   ]
  },
  {
   "cell_type": "markdown",
   "id": "7453a313",
   "metadata": {},
   "source": [
    "Para poder conectarse a la BBDD y obtener la informacion debemos segir el siguiente flujo de ejecucion"
   ]
  },
  {
   "cell_type": "code",
   "execution_count": 2,
   "id": "31f00031",
   "metadata": {},
   "outputs": [
    {
     "name": "stdout",
     "output_type": "stream",
     "text": [
      "Conectandose a la bbdd Bootcamp ....\n",
      "...\n",
      "Se ha conectado a la coleccion Alumnos de Bootcamp.\n",
      "...\n",
      "Se han encontrado los siguientes datos en la tabla:\n",
      "   Name:Pepe\n",
      "   Age:40\n",
      "   Place:Madrid\n",
      "\n",
      "Buscando por Name ...\n",
      "Pepe\n"
     ]
    }
   ],
   "source": [
    "bbdd = connection(\"Bootcamp\")\n",
    "conexion = connected(\"Alumnos\", bbdd)\n",
    "data_bbdd = read(conexion)\n",
    "print(data(data_bbdd, \"Name\"))"
   ]
  },
  {
   "cell_type": "markdown",
   "id": "95042644",
   "metadata": {},
   "source": [
    "Si utilizamos una funcion que componga todas estas funciones, podemos separar la intruduccion de las funciones y la introduccion de los datos:"
   ]
  },
  {
   "cell_type": "code",
   "execution_count": 3,
   "id": "8956c558",
   "metadata": {},
   "outputs": [],
   "source": [
    "def connection_process(connection, connected, read, data):\n",
    "    return lambda table, bbdd, feature: data(read(connected(table, connection(bbdd))),feature)"
   ]
  },
  {
   "cell_type": "code",
   "execution_count": 4,
   "id": "21c1ad04",
   "metadata": {},
   "outputs": [
    {
     "name": "stdout",
     "output_type": "stream",
     "text": [
      "Conectandose a la bbdd Core ....\n",
      "...\n",
      "Se ha conectado a la coleccion Alumnos de Core.\n",
      "...\n",
      "Se han encontrado los siguientes datos en la tabla:\n",
      "   Name:Pepe\n",
      "   Age:40\n",
      "   Place:Madrid\n",
      "\n",
      "Buscando por Name ...\n"
     ]
    },
    {
     "data": {
      "text/plain": [
       "'Pepe'"
      ]
     },
     "execution_count": 4,
     "metadata": {},
     "output_type": "execute_result"
    }
   ],
   "source": [
    "connection_process(connection, connected, read, data)(\"Alumnos\",\"Core\",\"Name\")"
   ]
  },
  {
   "cell_type": "markdown",
   "id": "f1efda18",
   "metadata": {},
   "source": [
    "De esta forma, hemos separado el proceso en dos. Por un lado, se establece la conexion a la bbdd. Por otro lado, se le indica de donde se quieren obtener los metodos. Debido a como funciona `python`, podemos almacenar parte del proceso en una variable, lo que nos ahorraria tener que estar llamando en todo momento a la totalidad de la funcion."
   ]
  },
  {
   "cell_type": "code",
   "execution_count": 5,
   "id": "a635754a",
   "metadata": {},
   "outputs": [
    {
     "name": "stdout",
     "output_type": "stream",
     "text": [
      "Conectandose a la bbdd Core ....\n",
      "...\n",
      "Se ha conectado a la coleccion Alumnos de Core.\n",
      "...\n",
      "Se han encontrado los siguientes datos en la tabla:\n",
      "   Name:Pepe\n",
      "   Age:40\n",
      "   Place:Madrid\n",
      "\n",
      "Buscando por Name ...\n"
     ]
    },
    {
     "data": {
      "text/plain": [
       "'Pepe'"
      ]
     },
     "execution_count": 5,
     "metadata": {},
     "output_type": "execute_result"
    }
   ],
   "source": [
    "conexion = connection_process(connection, connected, read, data)\n",
    "conexion(\"Alumnos\",\"Core\",\"Name\")"
   ]
  },
  {
   "cell_type": "markdown",
   "id": "8415c9b1",
   "metadata": {},
   "source": [
    "Se ha acortado el codigo, pero ahora es algo mas complejo de leer. Se puede saber que es una composicion de una conexion, una confirmacion, una lectura de los datos de la bbd y por ultimo, el dato que queremos sacar"
   ]
  },
  {
   "cell_type": "markdown",
   "id": "5cebcd5b",
   "metadata": {},
   "source": [
    "Con Currying, podemos simplificar esto algo más"
   ]
  },
  {
   "cell_type": "code",
   "execution_count": 6,
   "id": "e9a1336f",
   "metadata": {},
   "outputs": [],
   "source": [
    "def full_connection(connection):\n",
    "    def connect_f(connect):\n",
    "        def table_to_connect(table):\n",
    "            def bbdd_to_connect(bbdd):\n",
    "                c = connection(bbdd)\n",
    "                established_connection = connect(table, c)\n",
    "                return established_connection\n",
    "            return bbdd_to_connect\n",
    "        return table_to_connect\n",
    "    return connect_f"
   ]
  },
  {
   "cell_type": "code",
   "execution_count": 7,
   "id": "d4a86a6f",
   "metadata": {},
   "outputs": [
    {
     "name": "stdout",
     "output_type": "stream",
     "text": [
      "Conectandose a la bbdd Bootcamp ....\n",
      "...\n",
      "Se ha conectado a la coleccion Alumnos de Bootcamp.\n",
      "...\n"
     ]
    }
   ],
   "source": [
    "full_connection(connection)(connected)(\"Alumnos\")(\"Bootcamp\")\n",
    "conexion = full_connection(connection)(connected)"
   ]
  },
  {
   "cell_type": "code",
   "execution_count": 8,
   "id": "55d39096",
   "metadata": {},
   "outputs": [
    {
     "name": "stdout",
     "output_type": "stream",
     "text": [
      "Conectandose a la bbdd Bootcamp ....\n",
      "...\n",
      "Se ha conectado a la coleccion Alumno de Bootcamp.\n",
      "...\n"
     ]
    }
   ],
   "source": [
    "conexion_stablished = conexion(\"Alumno\")(\"Bootcamp\")"
   ]
  },
  {
   "cell_type": "code",
   "execution_count": 9,
   "id": "c8bbc1eb",
   "metadata": {},
   "outputs": [],
   "source": [
    "def curry_get_data(read):\n",
    "    def get_data_of(connexion):\n",
    "        def get_data(data):\n",
    "            def by_feature(feature):\n",
    "                lectura = read(connexion)\n",
    "                return data(lectura,feature)\n",
    "            return by_feature\n",
    "        return get_data\n",
    "    return get_data_of"
   ]
  },
  {
   "cell_type": "code",
   "execution_count": 10,
   "id": "f4066673",
   "metadata": {},
   "outputs": [
    {
     "name": "stdout",
     "output_type": "stream",
     "text": [
      "Se han encontrado los siguientes datos en la tabla:\n",
      "   Name:Pepe\n",
      "   Age:40\n",
      "   Place:Madrid\n",
      "\n",
      "Buscando por Name ...\n"
     ]
    },
    {
     "data": {
      "text/plain": [
       "'Pepe'"
      ]
     },
     "execution_count": 10,
     "metadata": {},
     "output_type": "execute_result"
    }
   ],
   "source": [
    " curry_get_data(read)(conexion_stablished)(data)(\"Name\")"
   ]
  },
  {
   "cell_type": "markdown",
   "id": "1dbb50b7",
   "metadata": {},
   "source": [
    "Aqui, se está haciendo bastante dificil, ya que tengo funciones con una aridad mayor que 1, y estoy necesitando pasarle hasta 4 parametros, lo que implica hacer hasta 4 definiciones de funcion dentro de la composición. La mayor ventaja del currying es que me permite declarar atajos para una parte de la composicion de la funcion. Estos atajos luego se pueden modificar más tarde en el codigo.\n",
    "\n",
    "La verdadera complicacion del currying (o en donde se encuentra su mayor dificultad), es en la definicion del return \"más\" profundo. Esto se debe a que debemos empezar a devolver (incluir en el return) las llamadas de las funciones en orden inverso, es decir, empezando desde el final hasta el principio.\n",
    "\n",
    "En este ultimo ejemplo, la funcion `data` es la que devuelve los datos que queremos obtener, por lo tanto debe ser la funcion que se encuentre más a la izquierda. A partir de ahi, solo hayq eu ver que parametro neesita recibir y quien se lo puede proporcionar. Pasa a ser simplemente un \"juego\" de ver que funcion proporciona dicho valor.\n",
    "\n",
    "El currying nos puede ser de gran utilidad para la composicion de funciones, pero el proceso del currying puede ser algo confuso de hacer y relativamente facil de equivocarte en el orden de las funciones. Es por eso que, por suerte, ya existen funciones que nos permiten hacer es currying mucho más rapido y sencillo."
   ]
  },
  {
   "cell_type": "markdown",
   "id": "7ef731d3",
   "metadata": {},
   "source": [
    "Estas funciones las importamos de la libreria `functools`. La funcion que usaremos de esta libreria será `partials`"
   ]
  },
  {
   "cell_type": "code",
   "execution_count": 11,
   "id": "a5a4209e",
   "metadata": {},
   "outputs": [],
   "source": [
    "from functools import partial"
   ]
  },
  {
   "cell_type": "code",
   "execution_count": 12,
   "id": "c1072910",
   "metadata": {},
   "outputs": [
    {
     "name": "stdout",
     "output_type": "stream",
     "text": [
      "Conectandose a la bbdd Core ....\n",
      "...\n",
      "Se ha conectado a la coleccion Alumnos de Core.\n",
      "...\n",
      "Se han encontrado los siguientes datos en la tabla:\n",
      "   Name:Pepe\n",
      "   Age:40\n",
      "   Place:Madrid\n",
      "\n",
      "Buscando por Name ...\n"
     ]
    },
    {
     "data": {
      "text/plain": [
       "'Pepe'"
      ]
     },
     "execution_count": 12,
     "metadata": {},
     "output_type": "execute_result"
    }
   ],
   "source": [
    " connection_process(connection, connected, read, data)(\"Alumnos\",\"Core\",\"Name\")"
   ]
  },
  {
   "cell_type": "markdown",
   "id": "034ed82f",
   "metadata": {},
   "source": [
    "Con partial, podemos dar un valor determinado a los parametros de una funcion. A continuacion, podemos ver una llamada a una funcion la cual necesita 4 y 3 parametros:\n",
    "```python\n",
    "connection_process(connection, connected, read, data)(\"Alumnos\",\"Core\",\"Name\")\n",
    "```\n",
    "\n",
    "Con los partial, podemos predefinir los parametros `connection` y `connected`"
   ]
  },
  {
   "cell_type": "code",
   "execution_count": 13,
   "id": "1f81f1d3",
   "metadata": {},
   "outputs": [],
   "source": [
    "conexion = partial(connection_process, connection, connected)"
   ]
  },
  {
   "cell_type": "code",
   "execution_count": 17,
   "id": "b3e99573",
   "metadata": {},
   "outputs": [],
   "source": [
    "conexion_and_data = conexion(read, data)"
   ]
  },
  {
   "cell_type": "code",
   "execution_count": 18,
   "id": "c8072b11",
   "metadata": {},
   "outputs": [
    {
     "name": "stdout",
     "output_type": "stream",
     "text": [
      "Conectandose a la bbdd Core ....\n",
      "...\n",
      "Se ha conectado a la coleccion Alumnos de Core.\n",
      "...\n",
      "Se han encontrado los siguientes datos en la tabla:\n",
      "   Name:Pepe\n",
      "   Age:40\n",
      "   Place:Madrid\n",
      "\n",
      "Buscando por Name ...\n"
     ]
    },
    {
     "data": {
      "text/plain": [
       "'Pepe'"
      ]
     },
     "execution_count": 18,
     "metadata": {},
     "output_type": "execute_result"
    }
   ],
   "source": [
    "conexion_and_data(\"Alumnos\",\"Core\",\"Name\")"
   ]
  },
  {
   "cell_type": "markdown",
   "id": "e217e12b",
   "metadata": {},
   "source": [
    "Sin el partial, no se podría hacer esto ya que nos daría error porque la funciones estaría esperando los 4 parametros y solo le estaríamos definiendo 2.\n",
    "\n",
    "Ni siquiera, pasandole los parametros como posicionales, podriamos hacerlo."
   ]
  },
  {
   "cell_type": "code",
   "execution_count": 20,
   "id": "d52157d0",
   "metadata": {},
   "outputs": [
    {
     "ename": "TypeError",
     "evalue": "connection_process() missing 2 required positional arguments: 'read' and 'data'",
     "output_type": "error",
     "traceback": [
      "\u001b[0;31m---------------------------------------------------------------------------\u001b[0m",
      "\u001b[0;31mTypeError\u001b[0m                                 Traceback (most recent call last)",
      "\u001b[0;32m/var/folders/gd/w3m3w_td6cldhkn58qwx7mtm0000gn/T/ipykernel_20669/1394628507.py\u001b[0m in \u001b[0;36m<module>\u001b[0;34m\u001b[0m\n\u001b[0;32m----> 1\u001b[0;31m \u001b[0mc2\u001b[0m \u001b[0;34m=\u001b[0m \u001b[0mconnection_process\u001b[0m\u001b[0;34m(\u001b[0m\u001b[0mconnection\u001b[0m\u001b[0;34m=\u001b[0m\u001b[0mconnection\u001b[0m\u001b[0;34m,\u001b[0m \u001b[0mconnected\u001b[0m\u001b[0;34m=\u001b[0m\u001b[0mconnected\u001b[0m\u001b[0;34m)\u001b[0m\u001b[0;34m\u001b[0m\u001b[0;34m\u001b[0m\u001b[0m\n\u001b[0m",
      "\u001b[0;31mTypeError\u001b[0m: connection_process() missing 2 required positional arguments: 'read' and 'data'"
     ]
    }
   ],
   "source": [
    "c2 = connection_process(connection=connection, connected=connected)"
   ]
  },
  {
   "cell_type": "markdown",
   "id": "6dc8c62e",
   "metadata": {},
   "source": [
    "La forma de hacerlo, sería con una funcion `lambda` de la siguiente forma."
   ]
  },
  {
   "cell_type": "code",
   "execution_count": null,
   "id": "92ac6300",
   "metadata": {},
   "outputs": [],
   "source": [
    "c2 =  lambda read, data, feature: connection_process(connection, connected, read, data, feature)"
   ]
  },
  {
   "cell_type": "code",
   "execution_count": null,
   "id": "9634a6b6",
   "metadata": {},
   "outputs": [],
   "source": [
    "c2(read, data, \"Name\")"
   ]
  }
 ],
 "metadata": {
  "kernelspec": {
   "display_name": "Python 3 (ipykernel)",
   "language": "python",
   "name": "python3"
  },
  "language_info": {
   "codemirror_mode": {
    "name": "ipython",
    "version": 3
   },
   "file_extension": ".py",
   "mimetype": "text/x-python",
   "name": "python",
   "nbconvert_exporter": "python",
   "pygments_lexer": "ipython3",
   "version": "3.9.7"
  }
 },
 "nbformat": 4,
 "nbformat_minor": 5
}
