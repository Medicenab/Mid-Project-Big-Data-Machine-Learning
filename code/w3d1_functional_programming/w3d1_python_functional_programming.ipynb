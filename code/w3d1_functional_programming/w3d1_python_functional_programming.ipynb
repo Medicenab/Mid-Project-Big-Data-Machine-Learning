{
 "cells": [
  {
   "cell_type": "markdown",
   "metadata": {},
   "source": [
    "![](https://api.brandy.run/core/core-logo-wide)\n",
    "\n",
    "# Programación funcional\n",
    "\n",
    "\n",
    "**Linus Torvalds:** \n",
    "\n",
    "\"Bad programmers worry about the code. Good programmers worry about data structures and their relationships.\" ✅\n",
    "\n",
    "\n",
    "Libros:\n",
    "- https://mostly-adequate.gitbook.io/mostly-adequate-guide/"
   ]
  },
  {
   "cell_type": "markdown",
   "metadata": {},
   "source": [
    "## en: `Arity`, es:`Aridad`\n",
    "\n",
    "En lógica, matematicas y ciencias de la computación, la aridad de una función u operación es el numero de argumentos o operandos que la función toma en su entrada. El término esta relacionado de palabras como: `unario`,`binario`,`ternario`, etc.\n",
    "\n",
    "https://math.wikia.org/wiki/Arity"
   ]
  },
  {
   "cell_type": "code",
   "execution_count": 1,
   "metadata": {},
   "outputs": [],
   "source": [
    "def suma(a,b):\n",
    "    return a+b"
   ]
  },
  {
   "cell_type": "markdown",
   "metadata": {},
   "source": [
    "## Callback pattern \n",
    "\n",
    "En el patrón de programación `callback` pasamos una función como parámetro a otra función."
   ]
  },
  {
   "cell_type": "code",
   "execution_count": 2,
   "metadata": {},
   "outputs": [
    {
     "data": {
      "text/plain": [
       "builtin_function_or_method"
      ]
     },
     "execution_count": 2,
     "metadata": {},
     "output_type": "execute_result"
    }
   ],
   "source": [
    "type(print)"
   ]
  },
  {
   "cell_type": "code",
   "execution_count": 3,
   "metadata": {},
   "outputs": [],
   "source": [
    "def calculadora(fn, a, b):\n",
    "    return fn(a,b)"
   ]
  },
  {
   "cell_type": "code",
   "execution_count": 4,
   "metadata": {},
   "outputs": [
    {
     "data": {
      "text/plain": [
       "11"
      ]
     },
     "execution_count": 4,
     "metadata": {},
     "output_type": "execute_result"
    }
   ],
   "source": [
    "suma(3,8)"
   ]
  },
  {
   "cell_type": "code",
   "execution_count": 5,
   "metadata": {},
   "outputs": [
    {
     "data": {
      "text/plain": [
       "11"
      ]
     },
     "execution_count": 5,
     "metadata": {},
     "output_type": "execute_result"
    }
   ],
   "source": [
    "calculadora(suma, 3,8)"
   ]
  },
  {
   "cell_type": "code",
   "execution_count": 6,
   "metadata": {},
   "outputs": [],
   "source": [
    "def es_multiplo(numerador, denominador):\n",
    "    if numerador%denominador==0:\n",
    "        return True\n",
    "    else:\n",
    "        return False"
   ]
  },
  {
   "cell_type": "code",
   "execution_count": 7,
   "metadata": {},
   "outputs": [
    {
     "data": {
      "text/plain": [
       "True"
      ]
     },
     "execution_count": 7,
     "metadata": {},
     "output_type": "execute_result"
    }
   ],
   "source": [
    "es_multiplo(15,3)"
   ]
  },
  {
   "cell_type": "code",
   "execution_count": 8,
   "metadata": {},
   "outputs": [
    {
     "data": {
      "text/plain": [
       "False"
      ]
     },
     "execution_count": 8,
     "metadata": {},
     "output_type": "execute_result"
    }
   ],
   "source": [
    "es_multiplo(16,3)"
   ]
  },
  {
   "cell_type": "markdown",
   "metadata": {},
   "source": [
    "Para probar la función anterior vamos a generar datos de test.\n",
    "Usando el módulo de numeros aleatorios ya incorporado por defecto en python `random`, generamos una lista de 20 números escogidos aleatoriamente del conjunto de números entre 1 y 100.\n",
    "\n",
    "Doc oficial: https://docs.python.org/3/library/random.html"
   ]
  },
  {
   "cell_type": "code",
   "execution_count": 9,
   "metadata": {},
   "outputs": [],
   "source": [
    "import numpy as np"
   ]
  },
  {
   "cell_type": "code",
   "execution_count": 10,
   "metadata": {},
   "outputs": [],
   "source": [
    "lst = np.random.randint(1,101, 20)"
   ]
  },
  {
   "cell_type": "code",
   "execution_count": 11,
   "metadata": {},
   "outputs": [
    {
     "data": {
      "text/plain": [
       "array([14, 53, 27, 28, 90, 70, 53, 68, 95, 22, 18, 73, 59, 85, 97, 56, 41,\n",
       "       61, 51, 94])"
      ]
     },
     "execution_count": 11,
     "metadata": {},
     "output_type": "execute_result"
    }
   ],
   "source": [
    "lst"
   ]
  },
  {
   "cell_type": "code",
   "execution_count": 12,
   "metadata": {},
   "outputs": [
    {
     "name": "stdout",
     "output_type": "stream",
     "text": [
      "False\n",
      "False\n",
      "False\n",
      "True\n",
      "False\n",
      "False\n",
      "False\n",
      "True\n",
      "False\n",
      "False\n",
      "False\n",
      "False\n",
      "False\n",
      "False\n",
      "False\n",
      "True\n",
      "False\n",
      "False\n",
      "False\n",
      "False\n"
     ]
    }
   ],
   "source": [
    "for num in lst:\n",
    "    print(es_multiplo(num, 4))"
   ]
  },
  {
   "cell_type": "code",
   "execution_count": 13,
   "metadata": {},
   "outputs": [
    {
     "data": {
      "text/plain": [
       "[False,\n",
       " False,\n",
       " False,\n",
       " True,\n",
       " False,\n",
       " False,\n",
       " False,\n",
       " True,\n",
       " False,\n",
       " False,\n",
       " False,\n",
       " False,\n",
       " False,\n",
       " False,\n",
       " False,\n",
       " True,\n",
       " False,\n",
       " False,\n",
       " False,\n",
       " False]"
      ]
     },
     "execution_count": 13,
     "metadata": {},
     "output_type": "execute_result"
    }
   ],
   "source": [
    "[es_multiplo(num, 4)for num in lst]"
   ]
  },
  {
   "cell_type": "code",
   "execution_count": 14,
   "metadata": {},
   "outputs": [],
   "source": [
    "def multiplo_3(num):\n",
    "    return es_multiplo(num, 4)"
   ]
  },
  {
   "cell_type": "code",
   "execution_count": 15,
   "metadata": {},
   "outputs": [],
   "source": [
    "mult_3 = lambda x: es_multiplo(x, 3)"
   ]
  },
  {
   "cell_type": "code",
   "execution_count": 16,
   "metadata": {},
   "outputs": [
    {
     "data": {
      "text/plain": [
       "[False,\n",
       " False,\n",
       " False,\n",
       " True,\n",
       " False,\n",
       " False,\n",
       " False,\n",
       " True,\n",
       " False,\n",
       " False,\n",
       " False,\n",
       " False,\n",
       " False,\n",
       " False,\n",
       " False,\n",
       " True,\n",
       " False,\n",
       " False,\n",
       " False,\n",
       " False]"
      ]
     },
     "execution_count": 16,
     "metadata": {},
     "output_type": "execute_result"
    }
   ],
   "source": [
    "[multiplo_3(num)for num in lst]"
   ]
  },
  {
   "cell_type": "markdown",
   "metadata": {},
   "source": [
    "Podemos calcular si los numeros son múltiplos de `15` recorriendo la lista con una comprehension list y ejecutando la función correspondiente"
   ]
  },
  {
   "cell_type": "code",
   "execution_count": 17,
   "metadata": {},
   "outputs": [],
   "source": [
    "def operar(fn, contenedora):\n",
    "    return [fn(num)for num in contenedora]"
   ]
  },
  {
   "cell_type": "code",
   "execution_count": 18,
   "metadata": {},
   "outputs": [
    {
     "data": {
      "text/plain": [
       "[False,\n",
       " False,\n",
       " True,\n",
       " False,\n",
       " True,\n",
       " False,\n",
       " False,\n",
       " False,\n",
       " False,\n",
       " False,\n",
       " True,\n",
       " False,\n",
       " False,\n",
       " False,\n",
       " False,\n",
       " False,\n",
       " False,\n",
       " False,\n",
       " True,\n",
       " False]"
      ]
     },
     "execution_count": 18,
     "metadata": {},
     "output_type": "execute_result"
    }
   ],
   "source": [
    "operar(mult_3,lst)"
   ]
  },
  {
   "cell_type": "code",
   "execution_count": 19,
   "metadata": {},
   "outputs": [
    {
     "data": {
      "text/plain": [
       "[196,\n",
       " 2809,\n",
       " 729,\n",
       " 784,\n",
       " 8100,\n",
       " 4900,\n",
       " 2809,\n",
       " 4624,\n",
       " 9025,\n",
       " 484,\n",
       " 324,\n",
       " 5329,\n",
       " 3481,\n",
       " 7225,\n",
       " 9409,\n",
       " 3136,\n",
       " 1681,\n",
       " 3721,\n",
       " 2601,\n",
       " 8836]"
      ]
     },
     "execution_count": 19,
     "metadata": {},
     "output_type": "execute_result"
    }
   ],
   "source": [
    "operar(lambda x: x**2, lst)"
   ]
  },
  {
   "cell_type": "code",
   "execution_count": 20,
   "metadata": {},
   "outputs": [
    {
     "data": {
      "text/plain": [
       "['🔥14🔥',\n",
       " '🔥53🔥',\n",
       " '🔥27🔥',\n",
       " '🔥28🔥',\n",
       " '🔥90🔥',\n",
       " '🔥70🔥',\n",
       " '🔥53🔥',\n",
       " '🔥68🔥',\n",
       " '🔥95🔥',\n",
       " '🔥22🔥',\n",
       " '🔥18🔥',\n",
       " '🔥73🔥',\n",
       " '🔥59🔥',\n",
       " '🔥85🔥',\n",
       " '🔥97🔥',\n",
       " '🔥56🔥',\n",
       " '🔥41🔥',\n",
       " '🔥61🔥',\n",
       " '🔥51🔥',\n",
       " '🔥94🔥']"
      ]
     },
     "execution_count": 20,
     "metadata": {},
     "output_type": "execute_result"
    }
   ],
   "source": [
    "operar(lambda x: f\"🔥{x}🔥\", lst)"
   ]
  },
  {
   "cell_type": "markdown",
   "metadata": {},
   "source": [
    "No obstante, las comprehension lists no es la única manera de realizar dicha tarea en python, ya que el hecho de recorrer una lista y transformar sus elementos ya está programado en la función `map`. Esta función es una de las `built-in` functions proporcionadas por defecto en python \n",
    "\n",
    "* La función `map`: https://docs.python.org/3/library/functions.html#map\n",
    "* Todas las `built-in` functions: https://docs.python.org/3/library/functions.html "
   ]
  },
  {
   "cell_type": "code",
   "execution_count": 21,
   "metadata": {},
   "outputs": [
    {
     "ename": "TypeError",
     "evalue": "es_multiplo() missing 1 required positional argument: 'denominador'",
     "output_type": "error",
     "traceback": [
      "\u001b[0;31m---------------------------------------------------------------------------\u001b[0m",
      "\u001b[0;31mTypeError\u001b[0m                                 Traceback (most recent call last)",
      "\u001b[0;32m/var/folders/gd/w3m3w_td6cldhkn58qwx7mtm0000gn/T/ipykernel_4197/3433949445.py\u001b[0m in \u001b[0;36m<module>\u001b[0;34m\u001b[0m\n\u001b[0;32m----> 1\u001b[0;31m \u001b[0mlist\u001b[0m\u001b[0;34m(\u001b[0m\u001b[0mmap\u001b[0m\u001b[0;34m(\u001b[0m\u001b[0mes_multiplo\u001b[0m\u001b[0;34m,\u001b[0m \u001b[0mlst\u001b[0m\u001b[0;34m)\u001b[0m\u001b[0;34m)\u001b[0m\u001b[0;34m\u001b[0m\u001b[0;34m\u001b[0m\u001b[0m\n\u001b[0m",
      "\u001b[0;31mTypeError\u001b[0m: es_multiplo() missing 1 required positional argument: 'denominador'"
     ]
    }
   ],
   "source": [
    "list(map(es_multiplo, lst))"
   ]
  },
  {
   "cell_type": "code",
   "execution_count": 22,
   "metadata": {},
   "outputs": [
    {
     "data": {
      "text/plain": [
       "[False,\n",
       " False,\n",
       " True,\n",
       " False,\n",
       " True,\n",
       " False,\n",
       " False,\n",
       " False,\n",
       " False,\n",
       " False,\n",
       " True,\n",
       " False,\n",
       " False,\n",
       " False,\n",
       " False,\n",
       " False,\n",
       " False,\n",
       " False,\n",
       " True,\n",
       " False]"
      ]
     },
     "execution_count": 22,
     "metadata": {},
     "output_type": "execute_result"
    }
   ],
   "source": [
    "list(map(lambda x: es_multiplo(x,3), lst))"
   ]
  },
  {
   "cell_type": "markdown",
   "metadata": {},
   "source": [
    "En este ejemplo, estamos usando una función lambda para adaptar la especificación del callback que espera la función `map` con`arity=1` a la llamada a nuestra función `es_multiplo_de` con `arity=2`. \n",
    "\n",
    "Las `lambda` pueden ser de mucha ayuda a la hora de escribir código rápido, ya que nos permiten realizar la declaración de la funcion en la misma línea que la própia llamada a `map` sin tener que declarar una función previamente con `def`, quedando un código mas largo."
   ]
  },
  {
   "cell_type": "markdown",
   "metadata": {},
   "source": [
    "# Documentando una función\n",
    "\n",
    "Para documentar una función seguiremos el estándar python `PEP-257` que define las convenciones de las `docstring`. Estas son unas cadenas de texto que se añaden a las funciones documentando su uso. Se puede acceder a la docstring con la doucmentación de una función o método mediante el uso de la built-in function `help`.\n",
    "\n",
    "* https://www.python.org/dev/peps/pep-0257/\n",
    "\n",
    "En general, en **CORE Code School** seguimos la guia de estilo de `Google` que detalla de manera mas específica el uso de las docstrings:\n",
    "\n",
    "* https://google.github.io/styleguide/pyguide.html\n",
    "\n",
    "Es importante que al presentar código en tus ejercicios, revises que este sigue la guia de estilo. En un entorno profesional, es comun no aceptar pull requests que no sigan dicha guía.\n",
    "\n",
    "\n",
    "Por suerte, en la mayoría de lenguages de amplio uso existen los `linters`, dedicados a validar que tu código cumple una guia de estilo determinada. En el caso de python tenemos `pylint`\n",
    "\n",
    "* http://pylint.pycqa.org/en/latest/"
   ]
  },
  {
   "cell_type": "code",
   "execution_count": 23,
   "metadata": {},
   "outputs": [
    {
     "name": "stdout",
     "output_type": "stream",
     "text": [
      "Help on built-in function randint:\n",
      "\n",
      "randint(...) method of numpy.random.mtrand.RandomState instance\n",
      "    randint(low, high=None, size=None, dtype=int)\n",
      "    \n",
      "    Return random integers from `low` (inclusive) to `high` (exclusive).\n",
      "    \n",
      "    Return random integers from the \"discrete uniform\" distribution of\n",
      "    the specified dtype in the \"half-open\" interval [`low`, `high`). If\n",
      "    `high` is None (the default), then results are from [0, `low`).\n",
      "    \n",
      "    .. note::\n",
      "        New code should use the ``integers`` method of a ``default_rng()``\n",
      "        instance instead; please see the :ref:`random-quick-start`.\n",
      "    \n",
      "    Parameters\n",
      "    ----------\n",
      "    low : int or array-like of ints\n",
      "        Lowest (signed) integers to be drawn from the distribution (unless\n",
      "        ``high=None``, in which case this parameter is one above the\n",
      "        *highest* such integer).\n",
      "    high : int or array-like of ints, optional\n",
      "        If provided, one above the largest (signed) integer to be drawn\n",
      "        from the distribution (see above for behavior if ``high=None``).\n",
      "        If array-like, must contain integer values\n",
      "    size : int or tuple of ints, optional\n",
      "        Output shape.  If the given shape is, e.g., ``(m, n, k)``, then\n",
      "        ``m * n * k`` samples are drawn.  Default is None, in which case a\n",
      "        single value is returned.\n",
      "    dtype : dtype, optional\n",
      "        Desired dtype of the result. Byteorder must be native.\n",
      "        The default value is int.\n",
      "    \n",
      "        .. versionadded:: 1.11.0\n",
      "    \n",
      "    Returns\n",
      "    -------\n",
      "    out : int or ndarray of ints\n",
      "        `size`-shaped array of random integers from the appropriate\n",
      "        distribution, or a single such random int if `size` not provided.\n",
      "    \n",
      "    See Also\n",
      "    --------\n",
      "    random_integers : similar to `randint`, only for the closed\n",
      "        interval [`low`, `high`], and 1 is the lowest value if `high` is\n",
      "        omitted.\n",
      "    Generator.integers: which should be used for new code.\n",
      "    \n",
      "    Examples\n",
      "    --------\n",
      "    >>> np.random.randint(2, size=10)\n",
      "    array([1, 0, 0, 0, 1, 1, 0, 0, 1, 0]) # random\n",
      "    >>> np.random.randint(1, size=10)\n",
      "    array([0, 0, 0, 0, 0, 0, 0, 0, 0, 0])\n",
      "    \n",
      "    Generate a 2 x 4 array of ints between 0 and 4, inclusive:\n",
      "    \n",
      "    >>> np.random.randint(5, size=(2, 4))\n",
      "    array([[4, 0, 2, 1], # random\n",
      "           [3, 2, 2, 0]])\n",
      "    \n",
      "    Generate a 1 x 3 array with 3 different upper bounds\n",
      "    \n",
      "    >>> np.random.randint(1, [3, 5, 10])\n",
      "    array([2, 2, 9]) # random\n",
      "    \n",
      "    Generate a 1 by 3 array with 3 different lower bounds\n",
      "    \n",
      "    >>> np.random.randint([1, 5, 7], 10)\n",
      "    array([9, 8, 7]) # random\n",
      "    \n",
      "    Generate a 2 by 4 array using broadcasting with dtype of uint8\n",
      "    \n",
      "    >>> np.random.randint([1, 3, 5, 7], [[10], [20]], dtype=np.uint8)\n",
      "    array([[ 8,  6,  9,  7], # random\n",
      "           [ 1, 16,  9, 12]], dtype=uint8)\n",
      "\n"
     ]
    }
   ],
   "source": [
    "help(np.random.randint)"
   ]
  },
  {
   "cell_type": "code",
   "execution_count": 24,
   "metadata": {},
   "outputs": [
    {
     "name": "stdout",
     "output_type": "stream",
     "text": [
      "Help on function suma in module __main__:\n",
      "\n",
      "suma(a, b)\n",
      "\n"
     ]
    }
   ],
   "source": [
    "help(suma)"
   ]
  },
  {
   "cell_type": "code",
   "execution_count": 25,
   "metadata": {},
   "outputs": [],
   "source": [
    "def calcular_precio(ingredientes, values, peso):\n",
    "    \"\"\"\n",
    "    Esta funcion calcula el peso de los ingredientes pasados por parametro y devuelve el valor final\n",
    "    Args:\n",
    "        ingredientes: Un diccionario con los ingredientes que se han comprado\n",
    "        values: Un diccionario con el precio de 1kg para cada ingrediente\n",
    "        peso: El numero de kg comprados para cada ingrediente\n",
    "    Return:\n",
    "        El precio final de la compra\n",
    "    \"\"\"\n",
    "    resultado = 0\n",
    "    for ing in ingredientes:\n",
    "        resultado = values[ing]*peso\n",
    "    return resultado"
   ]
  },
  {
   "cell_type": "code",
   "execution_count": 26,
   "metadata": {},
   "outputs": [
    {
     "name": "stdout",
     "output_type": "stream",
     "text": [
      "Help on function calcular_precio in module __main__:\n",
      "\n",
      "calcular_precio(ingredientes, values, peso)\n",
      "    Esta funcion calcula el peso de los ingredientes pasados por parametro y devuelve el valor final\n",
      "    Args:\n",
      "        ingredientes: Un diccionario con los ingredientes que se han comprado\n",
      "        values: Un diccionario con el precio de 1kg para cada ingrediente\n",
      "        peso: El numero de kg comprados para cada ingrediente\n",
      "    Return:\n",
      "        El precio final de la compra\n",
      "\n"
     ]
    }
   ],
   "source": [
    "help(calcular_precio)"
   ]
  },
  {
   "cell_type": "markdown",
   "metadata": {},
   "source": [
    "## Anotaciones de tipo\n",
    "\n",
    "El runtime de python no fuerza el tipado de funciones y variables pese a estar anotadas. Estas pueden ser usadas por editores y linters para realizar comprobaciones estáticas de código.\n",
    "\n",
    "* https://docs.python.org/3/library/typing.html\n",
    "* https://www.python.org/dev/peps/pep-0484/"
   ]
  },
  {
   "cell_type": "code",
   "execution_count": 27,
   "metadata": {},
   "outputs": [],
   "source": [
    "def calcular_precio(ingredientes:list, values:dict, peso:int) -> float:\n",
    "    \"\"\"\n",
    "    Esta funcion calcula el peso de los ingredientes pasados por parametro y devuelve el valor final\n",
    "    Args:\n",
    "        ingredientes: Un diccionario con los ingredientes que se han comprado\n",
    "        values: Un diccionario con el precio de 1kg para cada ingrediente\n",
    "        peso: El numero de kg comprados para cada ingrediente\n",
    "    Return:\n",
    "        El precio final de la compra\n",
    "    \"\"\"\n",
    "    resultado = 0\n",
    "    for ing in ingredientes:\n",
    "        resultado = values[ing]*peso\n",
    "    return resultado"
   ]
  },
  {
   "cell_type": "code",
   "execution_count": 28,
   "metadata": {},
   "outputs": [
    {
     "name": "stdout",
     "output_type": "stream",
     "text": [
      "Help on function calcular_precio in module __main__:\n",
      "\n",
      "calcular_precio(ingredientes: list, values: dict, peso: int) -> float\n",
      "    Esta funcion calcula el peso de los ingredientes pasados por parametro y devuelve el valor final\n",
      "    Args:\n",
      "        ingredientes: Un diccionario con los ingredientes que se han comprado\n",
      "        values: Un diccionario con el precio de 1kg para cada ingrediente\n",
      "        peso: El numero de kg comprados para cada ingrediente\n",
      "    Return:\n",
      "        El precio final de la compra\n",
      "\n"
     ]
    }
   ],
   "source": [
    "help(calcular_precio)"
   ]
  },
  {
   "cell_type": "code",
   "execution_count": 29,
   "metadata": {},
   "outputs": [
    {
     "ename": "KeyError",
     "evalue": "'P'",
     "output_type": "error",
     "traceback": [
      "\u001b[0;31m---------------------------------------------------------------------------\u001b[0m",
      "\u001b[0;31mKeyError\u001b[0m                                  Traceback (most recent call last)",
      "\u001b[0;32m/var/folders/gd/w3m3w_td6cldhkn58qwx7mtm0000gn/T/ipykernel_4197/3853678796.py\u001b[0m in \u001b[0;36m<module>\u001b[0;34m\u001b[0m\n\u001b[0;32m----> 1\u001b[0;31m \u001b[0mcalcular_precio\u001b[0m\u001b[0;34m(\u001b[0m\u001b[0;34m\"Patata\"\u001b[0m\u001b[0;34m,\u001b[0m \u001b[0;34m{\u001b[0m\u001b[0;34m\"Patata\"\u001b[0m\u001b[0;34m:\u001b[0m\u001b[0;36m5\u001b[0m\u001b[0;34m}\u001b[0m\u001b[0;34m,\u001b[0m \u001b[0;36m8.9\u001b[0m\u001b[0;34m)\u001b[0m\u001b[0;34m\u001b[0m\u001b[0;34m\u001b[0m\u001b[0m\n\u001b[0m",
      "\u001b[0;32m/var/folders/gd/w3m3w_td6cldhkn58qwx7mtm0000gn/T/ipykernel_4197/169285489.py\u001b[0m in \u001b[0;36mcalcular_precio\u001b[0;34m(ingredientes, values, peso)\u001b[0m\n\u001b[1;32m     11\u001b[0m     \u001b[0mresultado\u001b[0m \u001b[0;34m=\u001b[0m \u001b[0;36m0\u001b[0m\u001b[0;34m\u001b[0m\u001b[0;34m\u001b[0m\u001b[0m\n\u001b[1;32m     12\u001b[0m     \u001b[0;32mfor\u001b[0m \u001b[0ming\u001b[0m \u001b[0;32min\u001b[0m \u001b[0mingredientes\u001b[0m\u001b[0;34m:\u001b[0m\u001b[0;34m\u001b[0m\u001b[0;34m\u001b[0m\u001b[0m\n\u001b[0;32m---> 13\u001b[0;31m         \u001b[0mresultado\u001b[0m \u001b[0;34m=\u001b[0m \u001b[0mvalues\u001b[0m\u001b[0;34m[\u001b[0m\u001b[0ming\u001b[0m\u001b[0;34m]\u001b[0m\u001b[0;34m*\u001b[0m\u001b[0mpeso\u001b[0m\u001b[0;34m\u001b[0m\u001b[0;34m\u001b[0m\u001b[0m\n\u001b[0m\u001b[1;32m     14\u001b[0m     \u001b[0;32mreturn\u001b[0m \u001b[0mresultado\u001b[0m\u001b[0;34m\u001b[0m\u001b[0;34m\u001b[0m\u001b[0m\n",
      "\u001b[0;31mKeyError\u001b[0m: 'P'"
     ]
    }
   ],
   "source": [
    "calcular_precio(\"Patata\", {\"Patata\":5}, 8.9)"
   ]
  },
  {
   "cell_type": "code",
   "execution_count": 30,
   "metadata": {},
   "outputs": [],
   "source": [
    "def calcular_precio(ingredientes:list, values:dict, peso:int=0) -> float:\n",
    "    \"\"\"\n",
    "    Esta funcion calcula el peso de los ingredientes pasados por parametro y devuelve el valor final\n",
    "    Args:\n",
    "        ingredientes: Un diccionario con los ingredientes que se han comprado\n",
    "        values: Un diccionario con el precio de 1kg para cada ingrediente\n",
    "        peso: El numero de kg comprados para cada ingrediente\n",
    "    Return:\n",
    "        El precio final de la compra\n",
    "    \"\"\"\n",
    "    if isinstance(ingredientes, list) and isinstance(values, dict) and isinstance(peso, int):\n",
    "        resultado = 0\n",
    "        for ing in ingredientes:\n",
    "            resultado = values[ing]*peso\n",
    "        return resultado\n",
    "    else:\n",
    "        raise TypeError(\"No es el tipo correcto\")"
   ]
  },
  {
   "cell_type": "code",
   "execution_count": 31,
   "metadata": {},
   "outputs": [
    {
     "data": {
      "text/plain": [
       "40"
      ]
     },
     "execution_count": 31,
     "metadata": {},
     "output_type": "execute_result"
    }
   ],
   "source": [
    "calcular_precio([\"Patata\"], {\"Patata\":5}, 8)"
   ]
  },
  {
   "cell_type": "markdown",
   "metadata": {},
   "source": [
    "### El módulo `inspect`\n",
    "\n",
    "* Official docs: https://docs.python.org/3/library/inspect.html\n",
    "* How to find function arity: https://stackoverflow.com/questions/990016/how-to-find-out-the-arity-of-a-method-in-python"
   ]
  },
  {
   "cell_type": "code",
   "execution_count": 32,
   "metadata": {},
   "outputs": [],
   "source": [
    "import inspect"
   ]
  },
  {
   "cell_type": "code",
   "execution_count": 33,
   "metadata": {},
   "outputs": [
    {
     "data": {
      "text/plain": [
       "FullArgSpec(args=['ingredientes', 'values', 'peso'], varargs=None, varkw=None, defaults=(0,), kwonlyargs=[], kwonlydefaults=None, annotations={'return': <class 'float'>, 'ingredientes': <class 'list'>, 'values': <class 'dict'>, 'peso': <class 'int'>})"
      ]
     },
     "execution_count": 33,
     "metadata": {},
     "output_type": "execute_result"
    }
   ],
   "source": [
    "inspect.getfullargspec(calcular_precio)"
   ]
  },
  {
   "cell_type": "code",
   "execution_count": 34,
   "metadata": {},
   "outputs": [],
   "source": [
    "def calcular_precio(ingredientes:list, values:dict, peso:int=0) -> float:\n",
    "    \"\"\"\n",
    "    Esta funcion calcula el peso de los ingredientes pasados por parametro y devuelve el valor final\n",
    "    Args:\n",
    "        ingredientes: Un diccionario con los ingredientes que se han comprado\n",
    "        values: Un diccionario con el precio de 1kg para cada ingrediente\n",
    "        peso: El numero de kg comprados para cada ingrediente\n",
    "    Return:\n",
    "        El precio final de la compra\n",
    "    \"\"\"\n",
    "    \n",
    "    local = locals()\n",
    "    insp = inspect.getfullargspec(calcular_precio)\n",
    "    print(ingredientes, values, peso)\n",
    "    for name in insp.args:\n",
    "        print(\"1\")\n",
    "        if isinstance(local[name], insp.annotations[name]):\n",
    "            resultado = 0\n",
    "            for ing in ingredientes:\n",
    "                resultado = values[ing]*peso\n",
    "            return resultado\n",
    "        else:\n",
    "            print(\"Error\")\n",
    "            raise TypeError(\"El tipo no es correcto\")"
   ]
  },
  {
   "cell_type": "code",
   "execution_count": 35,
   "metadata": {},
   "outputs": [
    {
     "data": {
      "text/plain": [
       "True"
      ]
     },
     "execution_count": 35,
     "metadata": {},
     "output_type": "execute_result"
    }
   ],
   "source": [
    "isinstance([], list)"
   ]
  },
  {
   "cell_type": "code",
   "execution_count": 36,
   "metadata": {},
   "outputs": [
    {
     "name": "stdout",
     "output_type": "stream",
     "text": [
      "['Patata'] {'Patata': 5} 8\n",
      "1\n"
     ]
    },
    {
     "data": {
      "text/plain": [
       "40"
      ]
     },
     "execution_count": 36,
     "metadata": {},
     "output_type": "execute_result"
    }
   ],
   "source": [
    "calcular_precio([\"Patata\"], {\"Patata\":5}, 8)"
   ]
  },
  {
   "cell_type": "markdown",
   "metadata": {},
   "source": [
    "# Función de Composición\n",
    "\n",
    "\n",
    "La composición de dos funciones devuelve una nueva función. En nuestra definición de composición la función `g` se ejecutará antes que la función `g`. Creando un **flujo de datos de izquierda a derecha**.\n"
   ]
  },
  {
   "cell_type": "code",
   "execution_count": 37,
   "metadata": {},
   "outputs": [],
   "source": [
    "\n",
    "def compose(f,g):\n",
    "     return lambda x : f(g(x))"
   ]
  },
  {
   "cell_type": "markdown",
   "metadata": {},
   "source": [
    "En este ejemplo `f` y `g` son funciones, mientras que `x` es el valor pasado entre ellas. Veamos un ejemplo:"
   ]
  },
  {
   "cell_type": "code",
   "execution_count": 38,
   "metadata": {},
   "outputs": [],
   "source": [
    "f = lambda x: x.lower()"
   ]
  },
  {
   "cell_type": "code",
   "execution_count": 39,
   "metadata": {},
   "outputs": [],
   "source": [
    "g = lambda x: f\"🔥{x}❄️\""
   ]
  },
  {
   "cell_type": "code",
   "execution_count": 40,
   "metadata": {},
   "outputs": [
    {
     "data": {
      "text/plain": [
       "'pepe'"
      ]
     },
     "execution_count": 40,
     "metadata": {},
     "output_type": "execute_result"
    }
   ],
   "source": [
    "f(\"PEPE\")"
   ]
  },
  {
   "cell_type": "code",
   "execution_count": 41,
   "metadata": {},
   "outputs": [
    {
     "data": {
      "text/plain": [
       "'🔥PEPE❄️'"
      ]
     },
     "execution_count": 41,
     "metadata": {},
     "output_type": "execute_result"
    }
   ],
   "source": [
    "g(\"PEPE\")"
   ]
  },
  {
   "cell_type": "code",
   "execution_count": 42,
   "metadata": {},
   "outputs": [
    {
     "data": {
      "text/plain": [
       "'🔥pepe❄️'"
      ]
     },
     "execution_count": 42,
     "metadata": {},
     "output_type": "execute_result"
    }
   ],
   "source": [
    "f(g(\"PEPE\"))"
   ]
  },
  {
   "cell_type": "code",
   "execution_count": 43,
   "metadata": {},
   "outputs": [
    {
     "data": {
      "text/plain": [
       "'🔥pepe❄️'"
      ]
     },
     "execution_count": 43,
     "metadata": {},
     "output_type": "execute_result"
    }
   ],
   "source": [
    "g(f(\"PEPE\"))"
   ]
  },
  {
   "cell_type": "code",
   "execution_count": 44,
   "metadata": {},
   "outputs": [
    {
     "data": {
      "text/plain": [
       "'🔥pepe❄️'"
      ]
     },
     "execution_count": 44,
     "metadata": {},
     "output_type": "execute_result"
    }
   ],
   "source": [
    "compose(f,g)(\"PEPE\")"
   ]
  },
  {
   "cell_type": "markdown",
   "metadata": {},
   "source": [
    "El orden de composición es importante a tener en cuenta"
   ]
  },
  {
   "cell_type": "markdown",
   "metadata": {},
   "source": [
    "\n",
    "\n",
    "## Functional Programming is the way to go\n",
    "\n",
    "\n",
    "La programación funcional es un paradigma de programación donde los programas se construyen mediante la aplicación y composición de funciones. \n",
    "\n",
    "\n",
    "**En la programación funcional, las funciones se tratan como objetos de primer nivel, eso implica que pueden ser asignadas a variables, pasadas como parámetro o devueltas por otra función.**\n",
    "\n",
    "`Python` es un lenguage multiparadigma por tanto el paradigma de la programación funcional esta dentro de los posibles paradigmas que podemos usar al desarrollar código en el lenguaje. Por ejemplo, otro paradigma en \n",
    "el que podíamos desarrollar código es `programación orientada a objetos`.\n",
    "\n",
    "\n",
    "En general la **programación funcional** versa en gran parte sobre objetos y estructuras de datos inmutables y funciones libres de side-effects.\n"
   ]
  },
  {
   "cell_type": "markdown",
   "metadata": {},
   "source": [
    "## Currificación o `Currying` de funciones\n",
    "\n",
    "https://en.wikipedia.org/wiki/Currying\n",
    "\n",
    "El proposito de aplicar `currying` a una función es extraer funciones específicas de una función mas general previamente definida.\n",
    "\n",
    "\n",
    "```python\n",
    "def simple_function(a):\n",
    "    def line(b=0):\n",
    "        def compute(x):\n",
    "            return [a+b * xi for xi in x]\n",
    "        return compute\n",
    "    return line\n",
    "\n",
    "x = range(-4, 4, 1)\n",
    "print('x {}'.format(list(x)))\n",
    "print('constant {}'.format(simple_function(3)()(x)))\n",
    "print('line {}'.format(simple_function(3)(-2)(x)))\n",
    "```\n",
    "\n",
    "El proceso de realiar un `currying` es convertir una función de `n` argumentos de entrada en `n` funciones `unarias` o de un unico argumento de entrada.\n",
    "\n",
    "### Ejemplo\n",
    "\n",
    "Por ejemplo, la siguiente funcion compuesta:\n",
    "\n",
    "`function f(x,y,z) { z(x(y)) }`\n",
    "\n",
    "al ser `currificada` se convierte en;\n",
    "\n",
    "`function f(x) { lambda(y) { lambda(z) { z(x(y)); } } }`\n",
    "\n",
    "Por tanto, para poder realizar la llamada completa a la función:\n",
    "- `f(x,y,z)`\n",
    "\n",
    "deberíamos realizar la siguiente llamada:\n",
    "\n",
    "- `f(x)(y)(z)`\n",
    "\n",
    "### Ejemplo práctico"
   ]
  },
  {
   "cell_type": "code",
   "execution_count": 45,
   "metadata": {},
   "outputs": [],
   "source": [
    "def saluda(name):\n",
    "    return f\"Hola {name}\""
   ]
  },
  {
   "cell_type": "code",
   "execution_count": 46,
   "metadata": {},
   "outputs": [
    {
     "data": {
      "text/plain": [
       "'Hola Jose'"
      ]
     },
     "execution_count": 46,
     "metadata": {},
     "output_type": "execute_result"
    }
   ],
   "source": [
    "saluda(\"Jose\")"
   ]
  },
  {
   "cell_type": "code",
   "execution_count": 47,
   "metadata": {},
   "outputs": [],
   "source": [
    "def modification(fn):\n",
    "    return lambda x: fn(x)[::-1]"
   ]
  },
  {
   "cell_type": "code",
   "execution_count": 48,
   "metadata": {},
   "outputs": [
    {
     "data": {
      "text/plain": [
       "'esoJ aloH'"
      ]
     },
     "execution_count": 48,
     "metadata": {},
     "output_type": "execute_result"
    }
   ],
   "source": [
    "modification(saluda)(\"Jose\")"
   ]
  },
  {
   "cell_type": "markdown",
   "metadata": {},
   "source": [
    "**Haciendo currying la función quedaría de la siguiente manera**"
   ]
  },
  {
   "cell_type": "code",
   "execution_count": 49,
   "metadata": {},
   "outputs": [],
   "source": [
    "def mutation(modificacion):\n",
    "    def modific(fn):\n",
    "        def datos(*name):\n",
    "            return modificacion(fn(*name))\n",
    "        return datos\n",
    "    return modific"
   ]
  },
  {
   "cell_type": "code",
   "execution_count": 50,
   "metadata": {},
   "outputs": [],
   "source": [
    "def div(a,b):\n",
    "    return a/b"
   ]
  },
  {
   "cell_type": "code",
   "execution_count": 51,
   "metadata": {},
   "outputs": [
    {
     "data": {
      "text/plain": [
       "1.2"
      ]
     },
     "execution_count": 51,
     "metadata": {},
     "output_type": "execute_result"
    }
   ],
   "source": [
    "div(6,5)"
   ]
  },
  {
   "cell_type": "code",
   "execution_count": 52,
   "metadata": {},
   "outputs": [
    {
     "data": {
      "text/plain": [
       "'4333333333333338.0🔥'"
      ]
     },
     "execution_count": 52,
     "metadata": {},
     "output_type": "execute_result"
    }
   ],
   "source": [
    "mutation(lambda name: f\"🔥{name}\"[::-1])(div)(5,6)"
   ]
  },
  {
   "cell_type": "markdown",
   "metadata": {},
   "source": [
    "Lo interesante es que al estar la función `currificada` podemos especializar la función sin tener que redefinir la estructura completa"
   ]
  },
  {
   "cell_type": "code",
   "execution_count": 53,
   "metadata": {},
   "outputs": [],
   "source": [
    "temp = np.random.randint(15,30, 25)"
   ]
  },
  {
   "cell_type": "code",
   "execution_count": 54,
   "metadata": {},
   "outputs": [
    {
     "data": {
      "text/plain": [
       "array([29, 21, 24, 20, 18, 20, 19, 17, 29, 17, 18, 25, 21, 19, 23, 19, 16,\n",
       "       20, 17, 17, 25, 20, 18, 29, 17])"
      ]
     },
     "execution_count": 54,
     "metadata": {},
     "output_type": "execute_result"
    }
   ],
   "source": [
    "temp"
   ]
  },
  {
   "cell_type": "code",
   "execution_count": 55,
   "metadata": {},
   "outputs": [
    {
     "data": {
      "text/plain": [
       "20.72"
      ]
     },
     "execution_count": 55,
     "metadata": {},
     "output_type": "execute_result"
    }
   ],
   "source": [
    "sum(temp)/len(temp)"
   ]
  },
  {
   "cell_type": "code",
   "execution_count": 56,
   "metadata": {},
   "outputs": [],
   "source": [
    "def procesamiento(modification):\n",
    "    def operacion(operar):\n",
    "        def fn_datos(datos):\n",
    "            return modification(operar(datos))\n",
    "        return fn_datos\n",
    "    return operacion"
   ]
  },
  {
   "cell_type": "code",
   "execution_count": 57,
   "metadata": {},
   "outputs": [
    {
     "data": {
      "text/plain": [
       "29"
      ]
     },
     "execution_count": 57,
     "metadata": {},
     "output_type": "execute_result"
    }
   ],
   "source": [
    "procesamiento(lambda x: x)(lambda x: max(x))(temp)"
   ]
  },
  {
   "cell_type": "code",
   "execution_count": null,
   "metadata": {},
   "outputs": [],
   "source": []
  }
 ],
 "metadata": {
  "kernelspec": {
   "display_name": "Python 3 (ipykernel)",
   "language": "python",
   "name": "python3"
  },
  "language_info": {
   "codemirror_mode": {
    "name": "ipython",
    "version": 3
   },
   "file_extension": ".py",
   "mimetype": "text/x-python",
   "name": "python",
   "nbconvert_exporter": "python",
   "pygments_lexer": "ipython3",
   "version": "3.9.7"
  },
  "toc": {
   "base_numbering": 1,
   "nav_menu": {},
   "number_sections": false,
   "sideBar": true,
   "skip_h1_title": false,
   "title_cell": "Table of Contents",
   "title_sidebar": "Contents",
   "toc_cell": false,
   "toc_position": {},
   "toc_section_display": true,
   "toc_window_display": false
  }
 },
 "nbformat": 4,
 "nbformat_minor": 4
}
