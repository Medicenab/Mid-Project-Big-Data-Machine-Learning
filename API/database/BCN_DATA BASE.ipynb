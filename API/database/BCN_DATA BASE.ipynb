{
 "cells": [
  {
   "cell_type": "code",
   "execution_count": null,
   "id": "13a9a9b3",
   "metadata": {},
   "outputs": [],
   "source": [
    "import pandas as pd\n",
    "from pymongo import MongoClient\n",
    "import os\n",
    "from dotenv import load_dotenv\n",
    "load_dotenv()"
   ]
  },
  {
   "cell_type": "code",
   "execution_count": null,
   "id": "7433a436",
   "metadata": {},
   "outputs": [],
   "source": [
    "url = os.getenv(\"url\")"
   ]
  },
  {
   "cell_type": "code",
   "execution_count": null,
   "id": "9b9387f0",
   "metadata": {},
   "outputs": [],
   "source": [
    "url"
   ]
  },
  {
   "cell_type": "code",
   "execution_count": null,
   "id": "c2b62d95",
   "metadata": {},
   "outputs": [],
   "source": [
    "client = MongoClient(url)"
   ]
  },
  {
   "cell_type": "code",
   "execution_count": null,
   "id": "53d42b1b",
   "metadata": {},
   "outputs": [],
   "source": [
    "client"
   ]
  },
  {
   "cell_type": "code",
   "execution_count": null,
   "id": "c6f5146c",
   "metadata": {},
   "outputs": [],
   "source": [
    "db = client.get_database(\"BCN\")"
   ]
  },
  {
   "cell_type": "code",
   "execution_count": null,
   "id": "7e2463f6",
   "metadata": {},
   "outputs": [],
   "source": [
    "inm_nat= list(db[\"INM.NATIONALITY\"].find({}))\n",
    "data_inm_nat= pd.DataFrame(data = inm_nat)"
   ]
  },
  {
   "cell_type": "code",
   "execution_count": null,
   "id": "ea489df6",
   "metadata": {},
   "outputs": [],
   "source": [
    "data_inm_nat"
   ]
  },
  {
   "cell_type": "code",
   "execution_count": null,
   "id": "13a70a34",
   "metadata": {},
   "outputs": [],
   "source": [
    "data_inm_nat = data_inm_nat.drop(columns=[\"_id\",\"Neighborhood Code\",\"District Code\"])"
   ]
  },
  {
   "cell_type": "code",
   "execution_count": null,
   "id": "2af913e8",
   "metadata": {},
   "outputs": [],
   "source": [
    "data_inm_nat.isnull().sum()"
   ]
  },
  {
   "cell_type": "code",
   "execution_count": null,
   "id": "e821fc9c",
   "metadata": {},
   "outputs": [],
   "source": [
    "data_inm_nat[\"Nationality\"]==\"No information\""
   ]
  },
  {
   "cell_type": "code",
   "execution_count": null,
   "id": "6dc02a1c",
   "metadata": {},
   "outputs": [],
   "source": [
    "data_inm_nat[data_inm_nat[\"Nationality\"]==\"No information\"]\n"
   ]
  },
  {
   "cell_type": "code",
   "execution_count": null,
   "id": "3bfbfd23",
   "metadata": {},
   "outputs": [],
   "source": [
    "data_inm_nat.drop(data_inm_nat[data_inm_nat[\"Nationality\"]==\"No information\"].index, inplace=True)"
   ]
  },
  {
   "cell_type": "code",
   "execution_count": null,
   "id": "3b04c3bf",
   "metadata": {},
   "outputs": [],
   "source": [
    "data_inm_nat[data_inm_nat[\"District Name\"]==\"No consta\"]"
   ]
  },
  {
   "cell_type": "code",
   "execution_count": null,
   "id": "fe402982",
   "metadata": {},
   "outputs": [],
   "source": [
    "data_inm_nat.drop(data_inm_nat[data_inm_nat[\"District Name\"]==\"No consta\"].index, inplace=True)"
   ]
  },
  {
   "cell_type": "code",
   "execution_count": null,
   "id": "e2034164",
   "metadata": {},
   "outputs": [],
   "source": [
    "data_inm_nat=data_inm_nat.groupby(by=[\"Year\",\"District Code\",\"District Name\",\"Nationality\"], as_index=False)[\"Number\"].sum\n"
   ]
  },
  {
   "cell_type": "code",
   "execution_count": null,
   "id": "984dcc01",
   "metadata": {},
   "outputs": [],
   "source": [
    "inm_nat_clean = data_inm_nat.to_dict('records')"
   ]
  },
  {
   "cell_type": "code",
   "execution_count": null,
   "id": "333c1222",
   "metadata": {},
   "outputs": [],
   "source": [
    "inm_nat=list(db[\"INM.NATION\"].find({}))"
   ]
  },
  {
   "cell_type": "code",
   "execution_count": null,
   "id": "bf6adf42",
   "metadata": {},
   "outputs": [],
   "source": [
    "x = inm_nat.insert_many(inm_nat_clean)"
   ]
  }
 ],
 "metadata": {
  "kernelspec": {
   "display_name": "Python 3 (ipykernel)",
   "language": "python",
   "name": "python3"
  },
  "language_info": {
   "codemirror_mode": {
    "name": "ipython",
    "version": 3
   },
   "file_extension": ".py",
   "mimetype": "text/x-python",
   "name": "python",
   "nbconvert_exporter": "python",
   "pygments_lexer": "ipython3",
   "version": "3.9.12"
  }
 },
 "nbformat": 4,
 "nbformat_minor": 5
}
