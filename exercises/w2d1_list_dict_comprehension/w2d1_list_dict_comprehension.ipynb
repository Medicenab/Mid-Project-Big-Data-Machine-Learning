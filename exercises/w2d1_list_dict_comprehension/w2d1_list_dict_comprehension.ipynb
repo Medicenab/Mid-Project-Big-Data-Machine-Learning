{
 "cells": [
  {
   "cell_type": "markdown",
   "id": "d9d7404a",
   "metadata": {},
   "source": [
    "![](https://api.brandy.run/core/core-logo-wide)\n",
    "\n",
    "## List & Dict Comprenhension\n",
    "\n",
    "### Prime Numbers\n",
    "\n",
    "Los numeros primos es algo que siempre suele dar dolores de cabeza a las personas, y más aun cuando nos piden que comprobemos si un número es primo o no. Nosotros vamos a facilitarles la vida a aquellos que quieren saber si el numero es primo. ¿Como?, creando una lista con los numeros primos del 1 al 100. Una buena forma de hacer que dejen de preguntarnos.\n",
    "\n",
    "Crea una lista con los numeros primos del 1 al 100. Debes utilizar dict comprehension (una sola linea)."
   ]
  },
  {
   "cell_type": "code",
   "execution_count": null,
   "id": "19da5c6c",
   "metadata": {},
   "outputs": [],
   "source": []
  },
  {
   "cell_type": "markdown",
   "id": "c676fcc5",
   "metadata": {},
   "source": [
    "### Highest divisor"
   ]
  },
  {
   "cell_type": "markdown",
   "id": "8a535f98",
   "metadata": {},
   "source": [
    "La cosa no ha salido tal y como esperabamos. A las personas que nos preguntaron por los números primos les ha encantado nuestro codigo, y ahora nos han pedido un diccionario con el numero y su maximo divisor (sin considerar el propio número). Según lo que nos han dicho: *`Ya que has hecho esto, ¿Puedes hacer una tabla en donde aparezca el número y su máximo divisor? Si el numero es primo, el maximo divisor es él mismo, si no es primo, su maximo divisor NO puede ser él mismo`*.\n",
    "```\n",
    "1:1, 2:2, 3:3, 4:2, 5:5 ...\n",
    "\n",
    "El formato es --> número:divisor\n",
    "```\n",
    "Es bastante obvio cual es el maximo divisor de un número si no contamos al propio numero cuando este no sea primo, pero igualmente nos han insistido en que lo hagamos. Esperemos que no pidan nada más despues..."
   ]
  },
  {
   "cell_type": "code",
   "execution_count": null,
   "id": "4ca35e5c",
   "metadata": {},
   "outputs": [],
   "source": []
  },
  {
   "cell_type": "markdown",
   "id": "605b479c",
   "metadata": {},
   "source": [
    "### Number of lettters\n",
    "Un concursante de cierto programa español nos ha contratado porque nunca consigue ganar. En este programa, a los concursantes se les muestra una pantalla con una frase oculta, la cual tienen que averiguar diciendo las posibles letras que puede contener dicha frase.\n",
    "\n",
    "Nuestro cliente siempre falla al adivinar que letras hay dentro de la frase. Lo que vamos a hacer para ayudarlo es, dado un texto, contar cuantas veces aparece cada letra. Sabiendo esto, podremos deducir la frecuencia en la que aparecen cada una de las letras y ayudar a nuestro cliente a incrementar sus posibilidades de ganar.\n",
    "\n",
    "Tu objetivo, como parte de este proyecto, es generar un diccionario con las letras y el numero de veces que aparecen en el texto. Al igual que en el programa, nos da igual se la letra esta en mayusculas o minusculas.\n",
    "\n",
    "Debido al bajo presupuesto, solo disponemos de una linea de codigo para hacerlo 😱"
   ]
  },
  {
   "cell_type": "code",
   "execution_count": 1,
   "id": "1f4c27e0",
   "metadata": {},
   "outputs": [],
   "source": [
    "texto = \"En un lugar de la Mancha, de cuyo nombre no quiero acordarme, no ha mucho tiempo que vivia un hidalgo de los de lanza en astillero, adarga antigua, rocin flaco y galgo corredor. Una olla de algo mas vaca que carnero, salpicon las mas noches, duelos y quebrantos los sabados, lantejas los viernes, algun palomino de anadidura los domingos, consumian las tres partes de su hacienda. El resto della concluian sayo de velarte, calzas de velludo para las fiestas, con sus pantuflos de lo mesmo, y los dias de entresemana se honraba con su vellori de lo mas fino. Tenia en su casa una ama que pasaba de los cuarenta y una sobrina que no llegaba a los veinte, y un mozo de campo y plaza que asi ensillaba el rocin como tomaba la podadera. Frisaba la edad de nuestro hidalgo con los cincuenta anos. Era de complexion recia, seco de carnes, enjuto de rostro, gran madrugador y amigo de la caza. Quieren decir que tenia el sobrenombre de <<Quijada>>, o <<Quesada>>, que en esto hay alguna diferencia en los autores que deste caso escriben, aunque por conjeturas verisimilesII se deja entender que se llamaba <<Quijana>>III, . Pero esto importa poco a nuestro cuento: basta que en la narracion del no se salga un punto de la verdad.Es, pues, de saber que este sobredicho hidalgo, los ratos que estaba ocioso --que eran los mas del ano--, se daba a leer libros de caballerias, con tanta aficion y gusto, que olvido casi de todo punto el ejercicio de la caza y aun la administracion de su hacienda; y llego a tanto su curiosidad y desatino en esto, que vendio muchas hanegas de tierra de sembradura para comprar libros de caballerias en queIV leer, y, asi, llevo a su casa todos cuantos pudo haber dellos; y, de todos, ningunos le parecian tan bienV como los que compuso el famoso Feliciano de Silva, porque la claridad de su prosa y aquellas entricadas razones suyas le parecian de perlas, y mas cuando llegaba a leer aquellos requiebros y cartas de desafios, donde en muchas partes hallaba escrito: <<La razon de la sinrazon que a mi razon se hace, de tal manera mi razon enflaquece, que con razon me quejo de la vuestra fermosura>>. Y tambien cuando leia: <<Los altos cielos que de vuestra divinidad divinamente con las estrellas os fortifican y os hacen merecedora del merecimiento que merece la vuestra grandeza...>>Con estas razones perdia el pobre caballero el juicio, y desvelabase por entenderlas y desentranarles el sentido, que no se lo sacara ni las entendiera el mesmo Aristoteles, si resucitara para solo ello. No estaba muy bien con las heridas que don Belianis daba y recebia, porque se imaginaba que, por grandes maestros que le hubiesen curado, no dejaria de tener el rostro y todo el cuerpo lleno de cicatrices y senales. Pero, con todo, alababa en su autor aquel acabar su libro con la promesa de aquella inacabable aventura, y muchas veces le vino deseo de tomar la pluma y dalle fin al pie de la letra como alli se promete; y sin duda alguna lo hiciera, y aun saliera con ello, si otros mayores y continuos pensamientos no se lo estorbaran. Tuvo muchas veces competencia con el cura de su lugar --que era hombre docto, graduado en Ciguenza-- sobre cual habia sido mejor caballero: Palmerin de Ingalaterra o Amadis de Gaula; mas maese Nicolas, barbero del mesmo pueblo, decia que ninguno llegaba al Caballero del Febo, y que si alguno se le podia comparar era don Galaor, hermano de Amadis de Gaula, porque tenia muy acomodada condicion para todo, que no era caballero melindroso, ni tan lloron como su hermano, y que en lo de la valentia no le iba en zaga.En resolucion, el se enfrasco tanto en su letura, que se le pasaban las noches leyendo de claro en claro, y los dias de turbio en turbio; y asi, del poco dormir y del mucho leer, se le seco el celebro de manera que vino a perder el juicio. Llenosele la fantasia de todo aquello que leia en los libros, asi de encantamentos como de pendencias, batallas, desafios, heridas, requiebros, amores, tormentas y disparates imposibles; y asentosele de tal modo en la imaginacion que era verdad toda aquella maquina de aquellas sonadas invencionesVI que leia, que para el no habia otra historia mas cierta en el mundo. Decia el que el Cid Ruy Diaz habia sido muy buen caballero, pero que no tenia que ver con el Caballero de la Ardiente Espada, que de solo un reves habia partido por medio dos fieros y descomunales gigantes. Mejor estaba con Bernardo del Carpio, porque en Roncesvalles habia muerto a Roldan, el encantado, valiendose de la industria de Hercules, cuando ahogo a AnteoVII, el hijo de la Tierra, entre los brazos. Decia mucho bien del gigante Morgante, porque, con ser de aquella generacion gigantea, que todos son soberbios y descomedidos, el solo era afable y bien criado. Pero, sobre todos, estaba bien con Reinaldos de Montalban, y mas cuando le veia salir de su castillo y robar cuantos topaba, y cuando en allende robo aquel idolo de Mahoma que era todo de oro, segun dice su historia. Diera el, por dar una mano de coces al traidor de Galalon, al ama que tenia, y aun a su sobrina de anadidura.\""
   ]
  },
  {
   "cell_type": "code",
   "execution_count": null,
   "id": "3ac74c2b-aa9b-4850-a549-e8939ef0cd36",
   "metadata": {},
   "outputs": [],
   "source": []
  },
  {
   "cell_type": "markdown",
   "id": "c4cec44a",
   "metadata": {},
   "source": [
    "### Check repeated words"
   ]
  },
  {
   "cell_type": "markdown",
   "id": "4a45ab8b",
   "metadata": {},
   "source": [
    "En nuestro idioma, el Español, tenemos 5 vocales y 22 consonantes. Gracias a combinaciones de estas podemos comunicarnos con otras personas. \n",
    "\n",
    "\n",
    "Antonio tiene un amigo lingüista al cual le lleva rondado por la cabeza una pregunta sobre nuestro idioma. El español, tiene 5 vocales y 22 consonantes. La pregunta que le lleva rondando la cabeza es: \n",
    "- ¿Cuantas palabras habra en el Español que no contengan ninguna vocal repetida?\n",
    "\n",
    "No nos es posible analizar TODO el Español para obtener una respuesta exacta. Una solucion que tenemos es analizar un texto largo y suponer que la proporción se mantiene. A continuación vamos a analizar el discurso de una pelicula famosa y vamos a suponer que la proporcion se mantiene. ¡Dale una respuesta al amigo de Antonio!"
   ]
  },
  {
   "cell_type": "code",
   "execution_count": 2,
   "id": "a41e3a2c",
   "metadata": {},
   "outputs": [],
   "source": [
    "discurso = \"Lo siento, pero yo no quiero ser emperador; ese no es mi oficio. No quiero gobernar ni conquistar a nadie, sino ayudar a todos si fuera posible. Judios y gentiles, blancos o negros.Tenemos que ayudarnos unos a otros. Los seres humanos somos asi. Queremos hacer felices a los demas, no hacerlos desgraciados. No queremos odiar ni despreciar a nadie. En este mundo hay sitio para todos. La Tierra es rica y puede alimentar a todos los seres.El camino de la vida puede ser libre y hermoso, pero lo hemos perdido. La codicia ha envenenado las almas. Ha levantado barreras de odio. Nos ha empujado hacia la miseria y las matanzas.Hemos progresado muy deprisa, pero nos hemos encarcelado nosotros. El maquinismo, que crea abundancia, nos deja en la necesidad. Nuestro conocimiento nos ha hecho cinicos. Nuestra inteligencia, duros y secos. Pensamos demasiado y sentimos muy poco.Mas que maquinas, necesitamos humanidad. Mas que inteligencia, tener bondad y dulzura. Sin estas cualidades, la vida sera violenta. Se perdera todo.Los aviones y la radio nos hacen sentirnos mas cercanos. La verdadera naturaleza de estos inventos exige bondad humana. Exige la hermandad universal que nos una a todos nosotros. Ahora mismo mi voz llega a millones de seres en todo el mundo, a millones de hombres desesperados, mujeres y ninos. Victimas de un sistema que hace torturar a los hombres y encarcelar a gentes inocentes.A los que puedan oirme, les digo: no desespereis. La desdicha que padecemos no es mas que la pasajera codicia y la amargura de hombres que temen seguir el camino del progreso humano. El odio de los hombres pasara. Y caeran los dictadores. Y el poder que le quitaron al pueblo, se le reintegrara al pueblo. Y asi, mientras el hombre exista, la libertad no perecera.!Soldados, no os rindais a esos hombres! que en realidad os desprecian, os esclavizan, reglamentan vuestras vidas y os dicen lo que teneis que hacer, que pensar y que sentir. Os barren el cerebro, os ceban, os tratan como a ganado. Y como a carne de canon.No os entregueis a esos individuos inhumanos, hombres maquinas, con cerebros y corazones de maquinas. Vosotros no sois maquinas; no sois ganado. Sois hombres. Llevais el amor de la humanidad en vuestros corazones. No el odio. Solo los que no aman, odian. Los que no aman y los inhumanos.!Soldados, no lucheis por la esclavitud, sino por la libertad! En el capitulo XVII de San Lucas se lee: el reino de Dios esta dentro del hombre. No de un hombre ni de un grupo de hombres, sino de todos los hombres. En vosotros.Vosotros, el pueblo, teneis el poder. El poder de crear maquinas, el poder de crear felicidad. Vosotros, el pueblo, teneis el poder de hacer esta vida libre y hermosa. De convertirla en una maravillosa aventura.En nombre de la democracia, utilicemos ese poder actuando todos unidos. Luchemos por un mundo nuevo, digno y noble, que garantice a los hombres trabajo. Y de a la juventud un futuro. Y a la vejez, seguridad.Con la promesa de esas cosas, las fieras alcanzaron el poder. Pero mintieron. No han cumplido sus promesas ni nunca las cumpliran. Los dictadores son libres, solo ellos. Pero esclavizan al pueblo. Luchemos ahora para hacer nosotros realidad lo prometido. Todos a luchar para libertar al mundo. Para derribar barreras nacionales. Para eliminar la ambicion, el odio y la intolerancia. Luchemos por el mundo de la razon. Un mundo donde la ciencia, donde el progreso, nos conduzca a todos a la felicidad.!Soldados, en nombre de la democracia, debemos unirnos todos!\""
   ]
  },
  {
   "cell_type": "code",
   "execution_count": null,
   "id": "d07ccee6",
   "metadata": {},
   "outputs": [],
   "source": []
  },
  {
   "cell_type": "markdown",
   "id": "fb7bc396",
   "metadata": {},
   "source": [
    "### Secret Message"
   ]
  },
  {
   "cell_type": "markdown",
   "id": "ba96bad3",
   "metadata": {},
   "source": [
    "Fernando tiene un amigo que ha empezado un curso de \"Ciberseguridad\" y, debido a una apuesta, le ha tocado ayudarle en un ejercicio que le han mandado en este curso.\n",
    "\n",
    "El algoritmo de ciberseguridad es muy sencillo, segun le ha explicado, consiste simplemente en intercambiar cada una de las letras de una palabra por la letra que se encuentra **`n`** posiciones más adelante en el abecedario.\n",
    "\n",
    "Cuando la letra que se quiere codificar se \"sale\" del abecedario al aplicarle el algoritmo, se vuelve a empezar desde el principio:\n",
    "- Para n = 1, al codificar la `z`, el resultado es la `a`\n",
    "\n",
    "- Para n = 2, al codificar la `z`, el resultado es la `b`\n",
    "\n",
    "- Para n = 2, al codificar la `y`, el resultado es la `a`\n",
    "\n",
    "Ayuda a Fernando a codificar los mensajes de su amigo. Hay muchas formas de resolver este problema. Si necesitas ayuda, puedes mirar la pista que hay justo debajo, pero lo ideal sería que investigases por tu cuenta para resolver el problema.\n",
    "\n",
    "Tienes que tener cuidado con los signos de puntuación. A estos no se les puede aplicar el algoritmo. El amigo de Fernando ha sido lo suficientemente amable para separar las comas de las palabras y quitar los acentos. Esto debería facilitar el aplicar el algoritmo.\n",
    "\n",
    "Busca para `n` = 8\n",
    "\n",
    "<details close>\n",
    "    <summary><strong>Hint</strong></summary>\n",
    "    <a href=\"https://elcodigoascii.com.ar\">ASCII</a>: Solo nos interesa la tabla\n",
    "    <details close>\n",
    "        <summary><strong>Hint 2</strong></summary>\n",
    "        Existen funciones en python para transformar una letra a número y viceversa"
   ]
  },
  {
   "cell_type": "code",
   "execution_count": 3,
   "id": "76478857",
   "metadata": {},
   "outputs": [],
   "source": [
    "messages = [\n",
    "    \"Entiende y acepta que cometeras errores\", \n",
    "    \"Tu no eres tu codigo\", \n",
    "    \"No reescribas codigo sin consultar\", \n",
    "    \"Trata a la gente que sabe menos que tu con respeto , deferencia y paciencia\",\n",
    "    \"La unica constante en el mundo es el cambio\",\n",
    "    \"La unica autoridad verdadera proviene del conocimiento , no de la posicion\",\n",
    "    \"No seas el programador en la esquina\",\n",
    "    \"Critica al código en lugar de la persona - Se amable con el programador pero no con el codigo\"\n",
    "]"
   ]
  },
  {
   "cell_type": "code",
   "execution_count": null,
   "id": "10fd0a6b",
   "metadata": {},
   "outputs": [],
   "source": []
  }
 ],
 "metadata": {
  "kernelspec": {
   "display_name": "Python 3 (ipykernel)",
   "language": "python",
   "name": "python3"
  },
  "language_info": {
   "codemirror_mode": {
    "name": "ipython",
    "version": 3
   },
   "file_extension": ".py",
   "mimetype": "text/x-python",
   "name": "python",
   "nbconvert_exporter": "python",
   "pygments_lexer": "ipython3",
   "version": "3.9.7"
  }
 },
 "nbformat": 4,
 "nbformat_minor": 5
}
