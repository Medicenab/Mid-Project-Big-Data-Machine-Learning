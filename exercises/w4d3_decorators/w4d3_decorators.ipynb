{
 "cells": [
  {
   "cell_type": "markdown",
   "id": "23c6fc20",
   "metadata": {},
   "source": [
    "![](https://api.brandy.run/core/core-logo-wide)\n",
    "\n",
    "# Error Handling and Decorators Exercises"
   ]
  },
  {
   "cell_type": "markdown",
   "id": "0d9305ee",
   "metadata": {},
   "source": [
    "## 1 Bold decorator\n",
    "\n",
    "En ese ejercicio, vamos crear un decorador que prepare el output de cualquier función para ser en negrita, i.e: El output de la función decorada debe ser encapsulado entre `<b>` y `</b>`.\n",
    "\n",
    "Prueba tu decorador con la función `hello`, el output debería ser `'<b>Hello,World</b>'`"
   ]
  },
  {
   "cell_type": "code",
   "execution_count": null,
   "id": "ab582717",
   "metadata": {},
   "outputs": [],
   "source": [
    "def bold():\n",
    "    pass\n",
    "\n",
    "\n",
    "@bold\n",
    "def hello():\n",
    "    return \"Hello,World\"\n",
    "\n",
    "hello()"
   ]
  },
  {
   "cell_type": "markdown",
   "id": "da95bff2",
   "metadata": {},
   "source": [
    "## 2 Casting to float\n",
    "\n",
    "Crea el decorador `float_cast` que convierta todos los inputs de la función decorada a float.\n",
    "\n",
    "Eso debe permitir que la siguiente llamada a la función `average` funcione."
   ]
  },
  {
   "cell_type": "code",
   "execution_count": null,
   "id": "ac074441",
   "metadata": {},
   "outputs": [],
   "source": [
    "def float_cast():\n",
    "    pass\n",
    "\n",
    "@float_cast\n",
    "def average(*nums):\n",
    "    return sum(nums)/len(nums)\n",
    "\n",
    "average(\"99\",7,8.6,\"42\",\"22\",\"-8\",3.14)"
   ]
  },
  {
   "cell_type": "markdown",
   "id": "0233bf0e",
   "metadata": {},
   "source": [
    "## 3 Setting unit\n",
    "\n",
    "Escribe el decorador `unit` que reciba un parámetro, un string con una unidad de medida, la respuesta de la función decorada debe recibir esa unidad de medida al final. Por ejemplo, si el output de la función `circle_area` es `14` y la unidad es `m^2`, el output de la función decorada debe ser `'14 m^2'`"
   ]
  },
  {
   "cell_type": "code",
   "execution_count": null,
   "id": "220b5dc6",
   "metadata": {},
   "outputs": [],
   "source": [
    "from numpy import pi\n",
    "def unit():\n",
    "    pass\n",
    "\n",
    "@unit(\"m^2\")\n",
    "def circle_area(r):\n",
    "    return pi*(r**2)\n",
    "\n",
    "@unit(\"km/h\")\n",
    "def speed(distance,time):\n",
    "    return round(distance/time,2)\n",
    "\n",
    "print(circle_area(4))\n",
    "print(speed(120,1.5))"
   ]
  },
  {
   "cell_type": "markdown",
   "id": "3e7fefa8",
   "metadata": {},
   "source": [
    "## 4 Time it\n",
    "Escribe el decorador `timing` que imprima el tiempo de ejecución de una función y devuelva su resultado.\n",
    "\n",
    "Use la función `datetime.now()` que devuelve el momento en que le llama como un objeto datetime."
   ]
  },
  {
   "cell_type": "code",
   "execution_count": null,
   "id": "8f66dadd",
   "metadata": {},
   "outputs": [],
   "source": [
    "from datetime import datetime\n",
    "from numpy import random"
   ]
  },
  {
   "cell_type": "code",
   "execution_count": null,
   "id": "d27c089d",
   "metadata": {},
   "outputs": [],
   "source": [
    "# Example of calculating duration with datetime.now()\n",
    "from time import sleep\n",
    "bef = datetime.now()\n",
    "sleep(2.3)\n",
    "aft = datetime.now()\n",
    "print(aft-bef)"
   ]
  },
  {
   "cell_type": "code",
   "execution_count": null,
   "id": "3cac6d7c",
   "metadata": {},
   "outputs": [],
   "source": [
    "def timing():\n",
    "    pass\n",
    "\n",
    "#@timing\n",
    "def bubble_sort(array):\n",
    "    n = len(array)\n",
    "    for i in range(n):\n",
    "        already_sorted = True\n",
    "        for j in range(n - i - 1):\n",
    "            if array[j] > array[j + 1]:\n",
    "                array[j], array[j + 1] = array[j + 1], array[j]\n",
    "                already_sorted = False\n",
    "        if already_sorted:\n",
    "            break\n",
    "    return array"
   ]
  },
  {
   "cell_type": "code",
   "execution_count": null,
   "id": "ba731c07",
   "metadata": {},
   "outputs": [],
   "source": [
    "bubble_sort(random.randint(1,10000,8000))[:10]"
   ]
  }
 ],
 "metadata": {
  "kernelspec": {
   "display_name": "Python 3 (ipykernel)",
   "language": "python",
   "name": "python3"
  },
  "language_info": {
   "codemirror_mode": {
    "name": "ipython",
    "version": 3
   },
   "file_extension": ".py",
   "mimetype": "text/x-python",
   "name": "python",
   "nbconvert_exporter": "python",
   "pygments_lexer": "ipython3",
   "version": "3.9.7"
  },
  "toc": {
   "base_numbering": 1,
   "nav_menu": {},
   "number_sections": false,
   "sideBar": true,
   "skip_h1_title": true,
   "title_cell": "Table of Contents",
   "title_sidebar": "Contents",
   "toc_cell": true,
   "toc_position": {},
   "toc_section_display": true,
   "toc_window_display": false
  }
 },
 "nbformat": 4,
 "nbformat_minor": 5
}
