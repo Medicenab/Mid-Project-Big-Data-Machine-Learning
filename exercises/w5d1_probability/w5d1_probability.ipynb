{
 "cells": [
  {
   "cell_type": "markdown",
   "id": "c6cb9f97",
   "metadata": {},
   "source": [
    "![](https://api.brandy.run/core/core-logo-wide)\n",
    "\n",
    "# Probability Distribution"
   ]
  },
  {
   "cell_type": "markdown",
   "id": "0b89c89c",
   "metadata": {},
   "source": [
    "## 1 Probability of failure\n",
    "\n",
    "Una fábrica de fuegos artificiales está muy preocupada con la calidad de su producto. Han descubierto que la probabilidad de que un petardo falle es 1.7%.\n",
    "\n",
    "Si venden cajas de 20, 100 y 200 petardos. ¿Cuál es la probabilidad de que todos los petardos fallen en cada una de las cajas?"
   ]
  },
  {
   "cell_type": "code",
   "execution_count": null,
   "id": "a63006f5",
   "metadata": {},
   "outputs": [],
   "source": []
  },
  {
   "cell_type": "markdown",
   "id": "7cc9d4d2",
   "metadata": {},
   "source": [
    "## 2 Probability of accident\n",
    "\n",
    "Considerando los datos de la siguiente tabla que relacionan rangos de edad con números de accidentes, calcula las siguientes probabilidades de un conductor elegido aleatoriamente:\n",
    "\n",
    "- Tener 18-25 años y 0-1 accidentes\n",
    "- Tener 26-39 años si tuvo más de 3 accidentes\n",
    "- Tener 2-3 accidentes si tiene 18-25 años\n",
    "- Tener 55+ años si tuvo 2-3 accidentes"
   ]
  },
  {
   "cell_type": "code",
   "execution_count": 1,
   "id": "c67576f6",
   "metadata": {},
   "outputs": [],
   "source": [
    "import pandas as pd"
   ]
  },
  {
   "cell_type": "code",
   "execution_count": 2,
   "id": "3898cb67",
   "metadata": {},
   "outputs": [
    {
     "data": {
      "text/html": [
       "<div>\n",
       "<style scoped>\n",
       "    .dataframe tbody tr th:only-of-type {\n",
       "        vertical-align: middle;\n",
       "    }\n",
       "\n",
       "    .dataframe tbody tr th {\n",
       "        vertical-align: top;\n",
       "    }\n",
       "\n",
       "    .dataframe thead th {\n",
       "        text-align: right;\n",
       "    }\n",
       "</style>\n",
       "<table border=\"1\" class=\"dataframe\">\n",
       "  <thead>\n",
       "    <tr style=\"text-align: right;\">\n",
       "      <th></th>\n",
       "      <th>18-25</th>\n",
       "      <th>26-39</th>\n",
       "      <th>40-55</th>\n",
       "      <th>55+</th>\n",
       "      <th>Total</th>\n",
       "    </tr>\n",
       "  </thead>\n",
       "  <tbody>\n",
       "    <tr>\n",
       "      <th>0-1 accidents</th>\n",
       "      <td>100</td>\n",
       "      <td>150</td>\n",
       "      <td>250</td>\n",
       "      <td>75</td>\n",
       "      <td>575</td>\n",
       "    </tr>\n",
       "    <tr>\n",
       "      <th>2-3 accidents</th>\n",
       "      <td>150</td>\n",
       "      <td>25</td>\n",
       "      <td>125</td>\n",
       "      <td>25</td>\n",
       "      <td>325</td>\n",
       "    </tr>\n",
       "    <tr>\n",
       "      <th>3+ accidents</th>\n",
       "      <td>50</td>\n",
       "      <td>25</td>\n",
       "      <td>25</td>\n",
       "      <td>0</td>\n",
       "      <td>100</td>\n",
       "    </tr>\n",
       "    <tr>\n",
       "      <th>Total</th>\n",
       "      <td>300</td>\n",
       "      <td>200</td>\n",
       "      <td>400</td>\n",
       "      <td>100</td>\n",
       "      <td>1000</td>\n",
       "    </tr>\n",
       "  </tbody>\n",
       "</table>\n",
       "</div>"
      ],
      "text/plain": [
       "               18-25  26-39  40-55  55+  Total\n",
       "0-1 accidents    100    150    250   75    575\n",
       "2-3 accidents    150     25    125   25    325\n",
       "3+ accidents      50     25     25    0    100\n",
       "Total            300    200    400  100   1000"
      ]
     },
     "execution_count": 2,
     "metadata": {},
     "output_type": "execute_result"
    }
   ],
   "source": [
    "df = pd.DataFrame(\n",
    "[[100,150,250,75,575],\n",
    " [150,25,125,25,325],\n",
    " [50,25,25,0,100],\n",
    " [300,200,400,100,1000]],\n",
    "columns=[\"18-25\",\"26-39\",\"40-55\",\"55+\", \"Total\"],\n",
    "index=[\"0-1 accidents\",\"2-3 accidents\",\"3+ accidents\",\"Total\"])\n",
    "df"
   ]
  },
  {
   "cell_type": "code",
   "execution_count": null,
   "id": "f6600feb",
   "metadata": {},
   "outputs": [],
   "source": []
  },
  {
   "cell_type": "markdown",
   "id": "2dfeada0",
   "metadata": {},
   "source": [
    "## 3 Defective products\n",
    "\n",
    "Una empresa envía 30% de sus productos al cliente A y 70% al cliente B. El cliente A reporta que 5% de los productos son defectuosos, mientras el cliente B reporta 4% de defectuosos. Cuáles son las probabilidades de que: \n",
    "\n",
    "- Se envíe un producto a la empresa A y sea defectuoso\n",
    "- Se envíe un producto a la empresa A y no sea defectuoso\n",
    "- Un producto haya sido enviado a la empresa B dado que es defectuoso\n",
    "- Un producto sea defectuoso dado que se ha enviado a la empresa B."
   ]
  },
  {
   "cell_type": "code",
   "execution_count": null,
   "id": "666ec6a5",
   "metadata": {},
   "outputs": [],
   "source": []
  },
  {
   "cell_type": "markdown",
   "id": "6ebbf63c",
   "metadata": {},
   "source": [
    "## 4 Employee Happiness\n",
    "\n",
    "Una encuesta reveló que 75% de los empleados de una empresa se consideran felices en el puesto, mientras 25% se considera infeliz. Un 80% de los empleados que se consideran felices tenían experiencia previa en sus puestos y un 15% de los empleados infelices no tenía esa experiencia. Calcula la probabilidad de que una persona con experiencia previa sea un empleado infeliz."
   ]
  },
  {
   "cell_type": "code",
   "execution_count": null,
   "id": "a00e3d64",
   "metadata": {},
   "outputs": [],
   "source": []
  },
  {
   "cell_type": "markdown",
   "id": "00c62819",
   "metadata": {},
   "source": [
    "# 5 Basketball\n",
    "\n",
    "En un torneo, cada equipo juega dos partidos. La probabilidad de ganar el primero es de 0.1, pero la probabilidad de ganar el segundo es de 0.15 si el primero también fué vitorioso o 0.25 en el caso contrario. ¿Cuál es la probabilidad de que un equipo tenga ganado el primer partido si perdió el segundo?"
   ]
  },
  {
   "cell_type": "code",
   "execution_count": null,
   "id": "b6fab10a",
   "metadata": {},
   "outputs": [],
   "source": []
  },
  {
   "cell_type": "markdown",
   "id": "c6ad2b5e",
   "metadata": {},
   "source": [
    "## Bonus: Probability of two people having the same birthday\n",
    "\n",
    "En un grupo de n personas, ¿Cuál es la probabilidad de que por lo menos 2 tengan el mismo día de cumpleaños?\n",
    "\n",
    "Considerad que los años tienen 365 días e ignorad los bisiestos\n",
    "\n",
    "\n",
    "> _HINT: La probabilidad de que por lo menos 2 tengan el mismo cumpleaños es `p = 1 - q`._\n",
    "> Donde p(q) es la probabilidad de que nadie comparta cumpleaños. Esa probabilidad es más fácil de calcular.\n",
    "\n",
    "Prueba n=10, n=23, n=50."
   ]
  },
  {
   "cell_type": "code",
   "execution_count": null,
   "id": "9d74e6d2",
   "metadata": {},
   "outputs": [],
   "source": []
  }
 ],
 "metadata": {
  "kernelspec": {
   "display_name": "Python 3 (ipykernel)",
   "language": "python",
   "name": "python3"
  },
  "language_info": {
   "codemirror_mode": {
    "name": "ipython",
    "version": 3
   },
   "file_extension": ".py",
   "mimetype": "text/x-python",
   "name": "python",
   "nbconvert_exporter": "python",
   "pygments_lexer": "ipython3",
   "version": "3.9.7"
  },
  "toc": {
   "base_numbering": 1,
   "nav_menu": {},
   "number_sections": false,
   "sideBar": true,
   "skip_h1_title": true,
   "title_cell": "Table of Contents",
   "title_sidebar": "Contents",
   "toc_cell": true,
   "toc_position": {
    "height": "calc(100% - 180px)",
    "left": "10px",
    "top": "150px",
    "width": "190.075px"
   },
   "toc_section_display": true,
   "toc_window_display": false
  }
 },
 "nbformat": 4,
 "nbformat_minor": 5
}
