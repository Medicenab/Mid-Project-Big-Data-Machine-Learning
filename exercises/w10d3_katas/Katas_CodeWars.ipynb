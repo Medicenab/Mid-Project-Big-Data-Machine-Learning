{
 "cells": [
  {
   "cell_type": "markdown",
   "id": "8da1b898",
   "metadata": {},
   "source": [
    "# Katas"
   ]
  },
  {
   "cell_type": "markdown",
   "id": "49ebb7f6",
   "metadata": {},
   "source": [
    "[Find the odd int](https://www.codewars.com/kata/54da5a58ea159efa38000836/python)"
   ]
  },
  {
   "cell_type": "code",
   "execution_count": null,
   "id": "0a543014",
   "metadata": {},
   "outputs": [],
   "source": [
    "# Tu codigo aqui"
   ]
  },
  {
   "cell_type": "markdown",
   "id": "3a4a9c3e",
   "metadata": {},
   "source": [
    "[Sum of Digits / Digital Root](https://www.codewars.com/kata/541c8630095125aba6000c00/python)"
   ]
  },
  {
   "cell_type": "code",
   "execution_count": null,
   "id": "1685aa44",
   "metadata": {},
   "outputs": [],
   "source": [
    "# Tu codigo aqui"
   ]
  },
  {
   "cell_type": "markdown",
   "id": "b68eedc1",
   "metadata": {},
   "source": [
    "[Simple Pig Latin](https://www.codewars.com/kata/520b9d2ad5c005041100000f/python)"
   ]
  },
  {
   "cell_type": "code",
   "execution_count": null,
   "id": "fc746ffc",
   "metadata": {},
   "outputs": [],
   "source": [
    "# Tu codigo aqui"
   ]
  }
 ],
 "metadata": {
  "kernelspec": {
   "display_name": "Python 3 (ipykernel)",
   "language": "python",
   "name": "python3"
  },
  "language_info": {
   "codemirror_mode": {
    "name": "ipython",
    "version": 3
   },
   "file_extension": ".py",
   "mimetype": "text/x-python",
   "name": "python",
   "nbconvert_exporter": "python",
   "pygments_lexer": "ipython3",
   "version": "3.9.7"
  }
 },
 "nbformat": 4,
 "nbformat_minor": 5
}
