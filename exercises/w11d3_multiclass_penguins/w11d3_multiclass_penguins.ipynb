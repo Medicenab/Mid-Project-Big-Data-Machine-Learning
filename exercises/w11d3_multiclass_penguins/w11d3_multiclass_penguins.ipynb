{
 "cells": [
  {
   "cell_type": "markdown",
   "id": "f53cb3ca",
   "metadata": {},
   "source": [
    "![](https://api.brandy.run/core/core-logo-wide)\n",
    "\n",
    "# Supervised Learning: Multiclass Penguin Species Identifier\n",
    "\n",
    "En ese ejercicio, pondremos en practica los conceptos de Machine Learning y Clasificación que hemos visto."
   ]
  },
  {
   "cell_type": "code",
   "execution_count": 2,
   "id": "45f25da3",
   "metadata": {},
   "outputs": [],
   "source": [
    "import pandas as pd"
   ]
  },
  {
   "cell_type": "code",
   "execution_count": 3,
   "id": "558747db",
   "metadata": {},
   "outputs": [
    {
     "data": {
      "text/html": [
       "<div>\n",
       "<style scoped>\n",
       "    .dataframe tbody tr th:only-of-type {\n",
       "        vertical-align: middle;\n",
       "    }\n",
       "\n",
       "    .dataframe tbody tr th {\n",
       "        vertical-align: top;\n",
       "    }\n",
       "\n",
       "    .dataframe thead th {\n",
       "        text-align: right;\n",
       "    }\n",
       "</style>\n",
       "<table border=\"1\" class=\"dataframe\">\n",
       "  <thead>\n",
       "    <tr style=\"text-align: right;\">\n",
       "      <th></th>\n",
       "      <th>species</th>\n",
       "      <th>island</th>\n",
       "      <th>culmen_length_mm</th>\n",
       "      <th>culmen_depth_mm</th>\n",
       "      <th>flipper_length_mm</th>\n",
       "      <th>body_mass_g</th>\n",
       "      <th>sex</th>\n",
       "    </tr>\n",
       "  </thead>\n",
       "  <tbody>\n",
       "    <tr>\n",
       "      <th>0</th>\n",
       "      <td>Adelie</td>\n",
       "      <td>Torgersen</td>\n",
       "      <td>39.1</td>\n",
       "      <td>18.7</td>\n",
       "      <td>181.0</td>\n",
       "      <td>3750.0</td>\n",
       "      <td>MALE</td>\n",
       "    </tr>\n",
       "    <tr>\n",
       "      <th>1</th>\n",
       "      <td>Adelie</td>\n",
       "      <td>Torgersen</td>\n",
       "      <td>39.5</td>\n",
       "      <td>17.4</td>\n",
       "      <td>186.0</td>\n",
       "      <td>3800.0</td>\n",
       "      <td>FEMALE</td>\n",
       "    </tr>\n",
       "    <tr>\n",
       "      <th>2</th>\n",
       "      <td>Adelie</td>\n",
       "      <td>Torgersen</td>\n",
       "      <td>40.3</td>\n",
       "      <td>18.0</td>\n",
       "      <td>195.0</td>\n",
       "      <td>3250.0</td>\n",
       "      <td>FEMALE</td>\n",
       "    </tr>\n",
       "    <tr>\n",
       "      <th>3</th>\n",
       "      <td>Adelie</td>\n",
       "      <td>Torgersen</td>\n",
       "      <td>NaN</td>\n",
       "      <td>NaN</td>\n",
       "      <td>NaN</td>\n",
       "      <td>NaN</td>\n",
       "      <td>NaN</td>\n",
       "    </tr>\n",
       "    <tr>\n",
       "      <th>4</th>\n",
       "      <td>Adelie</td>\n",
       "      <td>Torgersen</td>\n",
       "      <td>36.7</td>\n",
       "      <td>19.3</td>\n",
       "      <td>193.0</td>\n",
       "      <td>3450.0</td>\n",
       "      <td>FEMALE</td>\n",
       "    </tr>\n",
       "  </tbody>\n",
       "</table>\n",
       "</div>"
      ],
      "text/plain": [
       "  species     island  culmen_length_mm  culmen_depth_mm  flipper_length_mm  \\\n",
       "0  Adelie  Torgersen              39.1             18.7              181.0   \n",
       "1  Adelie  Torgersen              39.5             17.4              186.0   \n",
       "2  Adelie  Torgersen              40.3             18.0              195.0   \n",
       "3  Adelie  Torgersen               NaN              NaN                NaN   \n",
       "4  Adelie  Torgersen              36.7             19.3              193.0   \n",
       "\n",
       "   body_mass_g     sex  \n",
       "0       3750.0    MALE  \n",
       "1       3800.0  FEMALE  \n",
       "2       3250.0  FEMALE  \n",
       "3          NaN     NaN  \n",
       "4       3450.0  FEMALE  "
      ]
     },
     "execution_count": 3,
     "metadata": {},
     "output_type": "execute_result"
    }
   ],
   "source": [
    "df = pd.read_csv(\"./penguins.csv\")\n",
    "df.head()"
   ]
  },
  {
   "cell_type": "markdown",
   "id": "e6adbfbf",
   "metadata": {},
   "source": [
    "## Step 1. Data Preparation \n",
    "\n",
    "Como podemos ver, hay elementos `NaN` en ese dataset. Investiga la presencia de esos elementos y ejecuta las acciones necesárias para poder seguir. Una fila como la `#3`, en que todos los elementos son nulos puede ser borrada. En el caso de que apenas una feature fuera nula, además de borrar tambien se puede imputar valores como la media o la mediana, en el caso de features numericas. En el caso de columnas categóricas, la moda o podemos dejar `NaN` como una categoria própria."
   ]
  },
  {
   "cell_type": "code",
   "execution_count": null,
   "id": "ed404459",
   "metadata": {},
   "outputs": [],
   "source": []
  },
  {
   "cell_type": "markdown",
   "id": "d90a74d8",
   "metadata": {},
   "source": [
    "También debemos preparar los datos categóricos para uso en un modelo. Utiliza una de las estratégias vistas para eso."
   ]
  },
  {
   "cell_type": "code",
   "execution_count": null,
   "id": "b41235fb",
   "metadata": {},
   "outputs": [],
   "source": []
  },
  {
   "cell_type": "markdown",
   "id": "41b8fd6f",
   "metadata": {},
   "source": [
    "Entrenaremos un modelo para predecir las especies de los pinguinos, por lo cual debemos separar en `X` y `y` nuestros datos."
   ]
  },
  {
   "cell_type": "code",
   "execution_count": null,
   "id": "bf79e2b5",
   "metadata": {},
   "outputs": [],
   "source": []
  },
  {
   "cell_type": "markdown",
   "id": "1e95f002",
   "metadata": {},
   "source": [
    "Además, como una práctica recorriente en Machine Learning, separamos el dataset en dos unidades: Train y Test."
   ]
  },
  {
   "cell_type": "code",
   "execution_count": null,
   "id": "e77c6078",
   "metadata": {},
   "outputs": [],
   "source": []
  },
  {
   "cell_type": "markdown",
   "id": "ea5019ea",
   "metadata": {},
   "source": [
    "## Step 2. Proving models\n",
    "\n",
    "Nuestro problema és multiclass, pues hay 3 diferentes espécies de pinguinos. Debemos eligir algoritmos que sean compatibles con ese tipo de problema. Entrena un modelo KNN con n_neighbors=5, el parámetro por defecto de sklearn."
   ]
  },
  {
   "cell_type": "code",
   "execution_count": null,
   "id": "c0adb1fe",
   "metadata": {},
   "outputs": [],
   "source": []
  },
  {
   "cell_type": "markdown",
   "id": "a594ceaf",
   "metadata": {},
   "source": [
    "Cuales son las diferentes métricas que podemos calcular? Que representa cada una de ellas?"
   ]
  },
  {
   "cell_type": "code",
   "execution_count": null,
   "id": "96641ba4",
   "metadata": {},
   "outputs": [],
   "source": []
  },
  {
   "cell_type": "code",
   "execution_count": null,
   "id": "a2ecaf69",
   "metadata": {},
   "outputs": [],
   "source": []
  },
  {
   "cell_type": "code",
   "execution_count": null,
   "id": "1ec8385d",
   "metadata": {},
   "outputs": [],
   "source": []
  },
  {
   "cell_type": "code",
   "execution_count": null,
   "id": "d6273e9b",
   "metadata": {},
   "outputs": [],
   "source": []
  },
  {
   "cell_type": "markdown",
   "id": "a52c7c18",
   "metadata": {},
   "source": [
    "En algoritmos que dependen de parámetros (llamados hiperparámetros) como el caso de n_neighbors, debemos eligir un valor pará él. Utiliza Cross Validation para probar diferentes valores para `n` y eligir el valor que consideres optimo. \n",
    "\n",
    "`Hint: Puedes representar una función de perdida para los diferentes n.`"
   ]
  },
  {
   "cell_type": "code",
   "execution_count": null,
   "id": "1bf1d2b7",
   "metadata": {},
   "outputs": [],
   "source": []
  },
  {
   "cell_type": "markdown",
   "id": "e6c9148a",
   "metadata": {},
   "source": [
    "No nos basta apenas un modelo, vamos compararle con algunos otros. Escribe código para entrenar y sacar métricas para los siguientes diferentes modelos, además del KNN:\n",
    "\n",
    "- SGDClassifier\n",
    "- LogisticRegression\n",
    "- RandomForestClassifier\n",
    "\n",
    "Usa tambien la herramienta de [Pipeline](https://scikit-learn.org/stable/modules/generated/sklearn.pipeline.Pipeline.html) para entrenar también `SGDClassifier` y `LogisticRegression` con los datos estandarizados. La estandarización cambia el las metricas obtenidas?\n",
    "\n",
    "Puedes investigar otros [modelos](https://scikit-learn.org/stable/supervised_learning.html) que quieras."
   ]
  },
  {
   "cell_type": "code",
   "execution_count": null,
   "id": "f65f271f",
   "metadata": {},
   "outputs": [],
   "source": []
  },
  {
   "cell_type": "code",
   "execution_count": null,
   "id": "99ea3f8e",
   "metadata": {},
   "outputs": [],
   "source": []
  },
  {
   "cell_type": "code",
   "execution_count": null,
   "id": "6654c5d8",
   "metadata": {},
   "outputs": [],
   "source": []
  },
  {
   "cell_type": "markdown",
   "id": "e31c390a",
   "metadata": {},
   "source": [
    "## Step 3. Choosing Model\n",
    "\n",
    "Ya tenemos bastante información para eligir el modelo que mejor nos sirva. Basado en las métricas recogidas anteriormente, cual modelo eligirias?\n",
    "\n",
    "¡Enhorabuena al entrenar tu primer clasificador de pinguinos!"
   ]
  },
  {
   "cell_type": "code",
   "execution_count": null,
   "id": "a8294095",
   "metadata": {},
   "outputs": [],
   "source": []
  },
  {
   "cell_type": "code",
   "execution_count": null,
   "id": "cf9264fe",
   "metadata": {},
   "outputs": [],
   "source": []
  }
 ],
 "metadata": {
  "kernelspec": {
   "display_name": "Python 3 (ipykernel)",
   "language": "python",
   "name": "python3"
  },
  "language_info": {
   "codemirror_mode": {
    "name": "ipython",
    "version": 3
   },
   "file_extension": ".py",
   "mimetype": "text/x-python",
   "name": "python",
   "nbconvert_exporter": "python",
   "pygments_lexer": "ipython3",
   "version": "3.9.7"
  },
  "toc": {
   "base_numbering": 1,
   "nav_menu": {},
   "number_sections": true,
   "sideBar": true,
   "skip_h1_title": true,
   "title_cell": "Table of Contents",
   "title_sidebar": "Contents",
   "toc_cell": false,
   "toc_position": {
    "height": "calc(100% - 180px)",
    "left": "10px",
    "top": "150px",
    "width": "288px"
   },
   "toc_section_display": true,
   "toc_window_display": false
  }
 },
 "nbformat": 4,
 "nbformat_minor": 5
}
