{
 "cells": [
  {
   "cell_type": "markdown",
   "id": "1f8f4c43",
   "metadata": {},
   "source": [
    "![](https://api.brandy.run/core/core-logo-wide)\n",
    "\n",
    "# Exercise: Map, Filter, Reduce"
   ]
  },
  {
   "cell_type": "markdown",
   "id": "34ef7863",
   "metadata": {},
   "source": [
    "## Ejercicio 1: Transform Authors' names\n",
    "\n",
    "<img src=\"img/books.png\" width=\"200\">\n",
    "\n",
    "En el esfuerzo de mejor organizar una libreria, su mantenedor decide cambiar el orden en que los libros están dispuestos. Hasta el momento se hacia el orden alfabético por `\"Nombre Apellido_1 Apellido_2\"` de cada autor. Ahora se ha eligido tenerles en el siguiente formato `\"{APELLIDO_2}, {Nombre} {Apellido_1}\"`. ¿Puedes hacerlo utilizando las herramientas que conoces para toda esa lista de autores?\n",
    "\n",
    "Hay authores con menos o más de 2 palabras en sus apellidos, o nombre compuesto. En todos los casos, la última palabra deve ser la trasladada al princípio y capitalizada.\n",
    "\n",
    "Ej.:\n",
    "```\n",
    "Federico Garcia Lorca ---> LORCA, Federico Garcia\n",
    "Franz Kafka           ---> KAFKA, Franz\n",
    "```"
   ]
  },
  {
   "cell_type": "code",
   "execution_count": 15,
   "id": "7ed44a29",
   "metadata": {},
   "outputs": [],
   "source": [
    "authors = ['Agatha Christie', 'Benito Pérez Galdós', 'Calderón de la Barca', 'Charles Dickens', \n",
    "           'Clarice Lispector', 'Dante Alighieri', 'Edgar Allan Poe', 'Federico Garcia Lorca', \n",
    "           'Fernando Pessoa', 'Franz Kafka', 'Fyodor Dostoyevsky', 'Gabriel García Márquez', \n",
    "           'George Orwell', 'Herman Melville', 'Hermann Hesse', 'James Joyce', 'Jane Austen', \n",
    "           'Johann Wolfgang von Goethe', 'Julio Cortázar', 'Lewis Carroll', 'Marcel Proust', \n",
    "           'Mario Vargas Llosa', 'Miguel de Cervantes', 'Ortega y Gasset', 'Oscar Wilde', \n",
    "           'Pablo Neruda', 'Pío Baroja', 'Ramón María del Valle-Inclán', 'Victor Hugo', \n",
    "           'Virginia Woolf', 'William Shakespeare']"
   ]
  },
  {
   "cell_type": "markdown",
   "id": "9009f35b",
   "metadata": {},
   "source": [
    "## Ejercicio 2: Temperature conversion\n",
    "\n",
    "<img src=\"img/temp.jpeg\" width=\"200\">\n",
    "\n",
    "En una estación meteorológica se coletan datos de las temperaturas (máxima y mínima) al largo de un año. Esos datos serán disponibilizados a un grupo de científicos, pero tienen que ser convertidos a °C, una vez que fueron medidos en °F."
   ]
  },
  {
   "cell_type": "code",
   "execution_count": 16,
   "id": "57f992f5",
   "metadata": {},
   "outputs": [],
   "source": [
    "max_min_temp = [(24,8),(29,13),(41,24),(58,37),(69,49),(79,59),\n",
    "                (83,64),(81,62),(72,52),(58,40),(41,26),(27,12)]"
   ]
  },
  {
   "cell_type": "markdown",
   "id": "a11b8b92",
   "metadata": {},
   "source": [
    "## Ejercicio 3: Circle areas\n",
    "\n",
    "<img src=\"img/circle.jpeg\" width=\"200\">\n",
    "\n",
    "A partir del `range(1,101)`, calcula el área de circulos con radio igual a cada uno de los elementos de ese range."
   ]
  },
  {
   "cell_type": "code",
   "execution_count": null,
   "id": "dcf1aef4",
   "metadata": {},
   "outputs": [],
   "source": []
  },
  {
   "cell_type": "markdown",
   "id": "949b4bae",
   "metadata": {},
   "source": [
    "## Ejercicio 4: Sorting Sorteds\n",
    "\n",
    "Filtra la lista de listas abajo para incluir solo las listas en que los 3 elementos estén ordenados ascendientemente."
   ]
  },
  {
   "cell_type": "code",
   "execution_count": 1,
   "id": "38e7051f",
   "metadata": {},
   "outputs": [],
   "source": [
    "import numpy as np\n",
    "lst = np.random.randint(1,101,(100,3))"
   ]
  },
  {
   "cell_type": "code",
   "execution_count": 2,
   "id": "696d7760",
   "metadata": {},
   "outputs": [
    {
     "data": {
      "text/plain": [
       "array([[68, 38, 50],\n",
       "       [93, 35, 88],\n",
       "       [92, 56, 96],\n",
       "       [61, 69, 77],\n",
       "       [49, 99, 90]])"
      ]
     },
     "execution_count": 2,
     "metadata": {},
     "output_type": "execute_result"
    }
   ],
   "source": [
    "lst[:5]"
   ]
  },
  {
   "cell_type": "markdown",
   "id": "46116ab0",
   "metadata": {},
   "source": [
    "## Ejercicio 5: Letter order\n",
    "\n",
    "<img src=\"img/letters.jpeg\" width=\"200\">\n",
    "\n",
    "Recentemente has encontrado la lista abajo que contiene las 100 palabras más utilizadas en el inglés. Decides investigar algunas cosas sobre esa lista.\n",
    "- Primero, separa solo las palabras que poséen por lo menos 2 vocales.\n",
    "- De el listaje anterior, elimina cualquier palabra cuyas vocales no estén en el orden alfabético"
   ]
  },
  {
   "cell_type": "code",
   "execution_count": 17,
   "id": "3f3ea558",
   "metadata": {},
   "outputs": [],
   "source": [
    "words = [\"a\",\"ability\",\"able\",\"about\",\"above\",\"accept\",\"according\",\"account\",\"across\",\"act\",\"action\",\"activity\",\"actually\",\"add\",\"address\",\"administration\",\"admit\",\"adult\",\"affect\",\"after\",\"again\",\"against\",\"age\",\"agency\",\"agent\",\"ago\",\"agree\",\"agreement\",\"ahead\",\"air\",\"all\",\"allow\",\"almost\",\"alone\",\"along\",\"already\",\"also\",\"although\",\"always\",\"American\",\"among\",\"amount\",\"analysis\",\"and\",\"animal\",\"another\",\"answer\",\"any\",\"anyone\",\"anything\",\"appear\",\"apply\",\"approach\",\"area\",\"argue\",\"arm\",\"around\",\"arrive\",\"art\",\"article\",\"artist\",\"as\",\"ask\",\"assume\",\"at\",\"attack\",\"attention\",\"attorney\",\"audience\",\"author\",\"authority\",\"available\",\"avoid\",\"away\",\"baby\",\"back\",\"bad\",\"bag\",\"ball\",\"bank\",\"bar\",\"base\",\"be\",\"beat\",\"beautiful\",\"because\",\"become\",\"bed\",\"before\",\"begin\",\"behavior\",\"behind\",\"believe\",\"benefit\",\"best\",\"better\",\"between\",\"beyond\",\"big\",\"bill\",\"billion\",\"bit\",\"black\",\"blood\",\"blue\",\"board\",\"body\",\"book\",\"born\",\"both\",\"box\",\"boy\",\"break\",\"bring\",\"brother\",\"budget\",\"build\",\"building\",\"business\",\"but\",\"buy\",\"by\",\"call\",\"camera\",\"campaign\",\"can\",\"cancer\",\"candidate\",\"capital\",\"car\",\"card\",\"care\",\"career\",\"carry\",\"case\",\"catch\",\"cause\",\"cell\",\"center\",\"central\",\"century\",\"certain\",\"certainly\",\"chair\",\"challenge\",\"chance\",\"change\",\"character\",\"charge\",\"check\",\"child\",\"choice\",\"choose\",\"church\",\"citizen\",\"city\",\"civil\",\"claim\",\"class\",\"clear\",\"clearly\",\"close\",\"coach\",\"cold\",\"collection\",\"college\",\"color\",\"come\",\"commercial\",\"common\",\"community\",\"company\",\"compare\",\"computer\",\"concern\",\"condition\",\"conference\",\"Congress\",\"consider\",\"consumer\",\"contain\",\"continue\",\"control\",\"cost\",\"could\",\"country\",\"couple\",\"course\",\"court\",\"cover\",\"create\",\"crime\",\"cultural\",\"culture\",\"cup\",\"current\",\"customer\",\"cut\",\"dark\",\"data\",\"daughter\",\"day\",\"dead\",\"deal\",\"death\",\"debate\",\"decade\",\"decide\",\"decision\",\"deep\",\"defense\",\"degree\",\"Democrat\",\"democratic\",\"describe\",\"design\",\"despite\",\"detail\",\"determine\",\"develop\",\"development\",\"die\",\"difference\",\"different\",\"difficult\",\"dinner\",\"direction\",\"director\",\"discover\",\"discuss\",\"discussion\",\"disease\",\"do\",\"doctor\",\"dog\",\"door\",\"down\",\"draw\",\"dream\",\"drive\",\"drop\",\"drug\",\"during\",\"each\",\"early\",\"east\",\"easy\",\"eat\",\"economic\",\"economy\",\"edge\",\"education\",\"effect\",\"effort\",\"eight\",\"either\",\"election\",\"else\",\"employee\",\"end\",\"energy\",\"enjoy\",\"enough\",\"enter\",\"entire\",\"environment\",\"environmental\",\"especially\",\"establish\",\"even\",\"evening\",\"event\",\"ever\",\"every\",\"everybody\",\"everyone\",\"everything\",\"evidence\",\"exactly\",\"example\",\"executive\",\"exist\",\"expect\",\"experience\",\"expert\",\"explain\",\"eye\",\"face\",\"fact\",\"factor\",\"fail\",\"fall\",\"family\",\"far\",\"fast\",\"father\",\"fear\",\"federal\",\"feel\",\"feeling\",\"few\",\"field\",\"fight\",\"figure\",\"fill\",\"film\",\"final\",\"finally\",\"financial\",\"find\",\"fine\",\"finger\",\"finish\",\"fire\",\"firm\",\"first\",\"fish\",\"five\",\"floor\",\"fly\",\"focus\",\"follow\",\"food\",\"foot\",\"for\",\"force\",\"foreign\",\"forget\",\"form\",\"former\",\"forward\",\"four\",\"free\",\"friend\",\"from\",\"front\",\"full\",\"fund\",\"future\",\"game\",\"garden\",\"gas\",\"general\",\"generation\",\"get\",\"girl\",\"give\",\"glass\",\"go\",\"goal\",\"good\",\"government\",\"great\",\"green\",\"ground\",\"group\",\"grow\",\"growth\",\"guess\",\"gun\",\"guy\",\"hair\",\"half\",\"hand\",\"hang\",\"happen\",\"happy\",\"hard\",\"have\",\"he\",\"head\",\"health\",\"hear\",\"heart\",\"heat\",\"heavy\",\"help\",\"her\",\"here\",\"herself\",\"high\",\"him\",\"himself\",\"his\",\"history\",\"hit\",\"hold\",\"home\",\"hope\",\"hospital\",\"hot\",\"hotel\",\"hour\",\"house\",\"how\",\"however\",\"huge\",\"human\",\"hundred\",\"husband\",\"I\",\"idea\",\"identify\",\"if\",\"image\",\"imagine\",\"impact\",\"important\",\"improve\",\"in\",\"include\",\"including\",\"increase\",\"indeed\",\"indicate\",\"individual\",\"industry\",\"information\",\"inside\",\"instead\",\"institution\",\"interest\",\"interesting\",\"international\",\"interview\",\"into\",\"investment\",\"involve\",\"issue\",\"it\",\"item\",\"its\",\"itself\",\"job\",\"join\",\"just\",\"keep\",\"key\",\"kid\",\"kill\",\"kind\",\"kitchen\",\"know\",\"knowledge\",\"land\",\"language\",\"large\",\"last\",\"late\",\"later\",\"laugh\",\"law\",\"lawyer\",\"lay\",\"lead\",\"leader\",\"learn\",\"least\",\"leave\",\"left\",\"leg\",\"legal\",\"less\",\"let\",\"letter\",\"level\",\"lie\",\"life\",\"light\",\"like\",\"likely\",\"line\",\"list\",\"listen\",\"little\",\"live\",\"local\",\"long\",\"look\",\"lose\",\"loss\",\"lot\",\"love\",\"low\",\"machine\",\"magazine\",\"main\",\"maintain\",\"major\",\"majority\",\"make\",\"man\",\"manage\",\"management\",\"manager\",\"many\",\"market\",\"marriage\",\"material\",\"matter\",\"may\",\"maybe\",\"me\",\"mean\",\"measure\",\"media\",\"medical\",\"meet\",\"meeting\",\"member\",\"memory\",\"mention\",\"message\",\"method\",\"middle\",\"might\",\"military\",\"million\",\"mind\",\"minute\",\"miss\",\"mission\",\"model\",\"modern\",\"moment\",\"money\",\"month\",\"more\",\"morning\",\"most\",\"mother\",\"mouth\",\"move\",\"movement\",\"movie\",\"Mr\",\"Mrs\",\"much\",\"music\",\"must\",\"my\",\"myself\",\"name\",\"nation\",\"national\",\"natural\",\"nature\",\"near\",\"nearly\",\"necessary\",\"need\",\"network\",\"never\",\"new\",\"news\",\"newspaper\",\"next\",\"nice\",\"night\",\"no\",\"none\",\"nor\",\"north\",\"not\",\"note\",\"nothing\",\"notice\",\"now\",\"n't\",\"number\",\"occur\",\"of\",\"off\",\"offer\",\"office\",\"officer\",\"official\",\"often\",\"oh\",\"oil\",\"ok\",\"old\",\"on\",\"once\",\"one\",\"only\",\"onto\",\"open\",\"operation\",\"opportunity\",\"option\",\"or\",\"order\",\"organization\",\"other\",\"others\",\"our\",\"out\",\"outside\",\"over\",\"own\",\"owner\",\"page\",\"pain\",\"painting\",\"paper\",\"parent\",\"part\",\"participant\",\"particular\",\"particularly\",\"partner\",\"party\",\"pass\",\"past\",\"patient\",\"pattern\",\"pay\",\"peace\",\"people\",\"per\",\"perform\",\"performance\",\"perhaps\",\"period\",\"person\",\"personal\",\"phone\",\"physical\",\"pick\",\"picture\",\"piece\",\"place\",\"plan\",\"plant\",\"play\",\"player\",\"PM\",\"point\",\"police\",\"policy\",\"political\",\"politics\",\"poor\",\"popular\",\"population\",\"position\",\"positive\",\"possible\",\"power\",\"practice\",\"prepare\",\"present\",\"president\",\"pressure\",\"pretty\",\"prevent\",\"price\",\"private\",\"probably\",\"problem\",\"process\",\"produce\",\"product\",\"production\",\"professional\",\"professor\",\"program\",\"project\",\"property\",\"protect\",\"prove\",\"provide\",\"public\",\"pull\",\"purpose\",\"push\",\"put\",\"quality\",\"question\",\"quickly\",\"quite\",\"race\",\"radio\",\"raise\",\"range\",\"rate\",\"rather\",\"reach\",\"read\",\"ready\",\"real\",\"reality\",\"realize\",\"really\",\"reason\",\"receive\",\"recent\",\"recently\",\"recognize\",\"record\",\"red\",\"reduce\",\"reflect\",\"region\",\"relate\",\"relationship\",\"religious\",\"remain\",\"remember\",\"remove\",\"report\",\"represent\",\"Republican\",\"require\",\"research\",\"resource\",\"respond\",\"response\",\"responsibility\",\"rest\",\"result\",\"return\",\"reveal\",\"rich\",\"right\",\"rise\",\"risk\",\"road\",\"rock\",\"role\",\"room\",\"rule\",\"run\",\"safe\",\"same\",\"save\",\"say\",\"scene\",\"school\",\"science\",\"scientist\",\"score\",\"sea\",\"season\",\"seat\",\"second\",\"section\",\"security\",\"see\",\"seek\",\"seem\",\"sell\",\"send\",\"senior\",\"sense\",\"series\",\"serious\",\"serve\",\"service\",\"set\",\"seven\",\"several\",\"sex\",\"sexual\",\"shake\",\"share\",\"she\",\"shoot\",\"short\",\"shot\",\"should\",\"shoulder\",\"show\",\"side\",\"sign\",\"significant\",\"similar\",\"simple\",\"simply\",\"since\",\"sing\",\"single\",\"sister\",\"sit\",\"site\",\"situation\",\"six\",\"size\",\"skill\",\"skin\",\"small\",\"smile\",\"so\",\"social\",\"society\",\"soldier\",\"some\",\"somebody\",\"someone\",\"something\",\"sometimes\",\"son\",\"song\",\"soon\",\"sort\",\"sound\",\"source\",\"south\",\"southern\",\"space\",\"speak\",\"special\",\"specific\",\"speech\",\"spend\",\"sport\",\"spring\",\"staff\",\"stage\",\"stand\",\"standard\",\"star\",\"start\",\"state\",\"statement\",\"station\",\"stay\",\"step\",\"still\",\"stock\",\"stop\",\"store\",\"story\",\"strategy\",\"street\",\"strong\",\"structure\",\"student\",\"study\",\"stuff\",\"style\",\"subject\",\"success\",\"successful\",\"such\",\"suddenly\",\"suffer\",\"suggest\",\"summer\",\"support\",\"sure\",\"surface\",\"system\",\"table\",\"take\",\"talk\",\"task\",\"tax\",\"teach\",\"teacher\",\"team\",\"technology\",\"television\",\"tell\",\"ten\",\"tend\",\"term\",\"test\",\"than\",\"thank\",\"that\",\"the\",\"their\",\"them\",\"themselves\",\"then\",\"theory\",\"there\",\"these\",\"they\",\"thing\",\"think\",\"third\",\"this\",\"those\",\"though\",\"thought\",\"thousand\",\"threat\",\"three\",\"through\",\"throughout\",\"throw\",\"thus\",\"time\",\"to\",\"today\",\"together\",\"tonight\",\"too\",\"top\",\"total\",\"tough\",\"toward\",\"town\",\"trade\",\"traditional\",\"training\",\"travel\",\"treat\",\"treatment\",\"tree\",\"trial\",\"trip\",\"trouble\",\"true\",\"truth\",\"try\",\"turn\",\"TV\",\"two\",\"type\",\"under\",\"understand\",\"unit\",\"until\",\"up\",\"upon\",\"us\",\"use\",\"usually\",\"value\",\"various\",\"very\",\"victim\",\"view\",\"violence\",\"visit\",\"voice\",\"vote\",\"wait\",\"walk\",\"wall\",\"want\",\"war\",\"watch\",\"water\",\"way\",\"we\",\"weapon\",\"wear\",\"week\",\"weight\",\"well\",\"west\",\"western\",\"what\",\"whatever\",\"when\",\"where\",\"whether\",\"which\",\"while\",\"white\",\"who\",\"whole\",\"whom\",\"whose\",\"why\",\"wide\",\"wife\",\"will\",\"win\",\"wind\",\"window\",\"wish\",\"with\",\"within\",\"without\",\"woman\",\"wonder\",\"word\",\"work\",\"worker\",\"world\",\"worry\",\"would\",\"write\",\"writer\",\"wrong\",\"yard\",\"yeah\",\"year\",\"yes\",\"yet\",\"you\",\"young\",\"your\",\"yourself\"]"
   ]
  },
  {
   "cell_type": "markdown",
   "id": "07c14925",
   "metadata": {},
   "source": [
    "## Ejercicio 6 (Bonus): Code your own `map` `filter` and `reduce` implementations. \n",
    "\n",
    "<img src=\"img/higher_order.jpeg\" width=\"400\">\n",
    "\n",
    "Hemos utilizado las funciones `map`, `filter` y `reduce` en los ejercícios anteriores. ¿Serías capaz de implementarlas si no existieran?\n",
    "En ese ejercício debes definir las 3 funciones `my_map`, `my_filter` y `my_reduce`."
   ]
  },
  {
   "cell_type": "code",
   "execution_count": null,
   "id": "66626efe",
   "metadata": {},
   "outputs": [],
   "source": [
    "def my_map(func, arr):\n",
    "    pass\n",
    "def my_filter(func, arr):\n",
    "    pass\n",
    "def my_reduce(func, arr, initiallizer):\n",
    "    pass"
   ]
  },
  {
   "cell_type": "markdown",
   "id": "eda938ed",
   "metadata": {},
   "source": [
    "## Ejercicio 7 (Bonus): Fibonacci HARD 🔥\n",
    "\n",
    "Solo con `reduce` y un `lambda`, ¿puedes producir la secuencia de Fibonacci?\n",
    "\n",
    "- https://en.wikipedia.org/wiki/Fibonacci_number"
   ]
  },
  {
   "cell_type": "code",
   "execution_count": null,
   "id": "39bc14eb",
   "metadata": {},
   "outputs": [],
   "source": []
  }
 ],
 "metadata": {
  "kernelspec": {
   "display_name": "Python 3 (ipykernel)",
   "language": "python",
   "name": "python3"
  },
  "language_info": {
   "codemirror_mode": {
    "name": "ipython",
    "version": 3
   },
   "file_extension": ".py",
   "mimetype": "text/x-python",
   "name": "python",
   "nbconvert_exporter": "python",
   "pygments_lexer": "ipython3",
   "version": "3.9.6"
  },
  "toc": {
   "base_numbering": 1,
   "nav_menu": {},
   "number_sections": true,
   "sideBar": true,
   "skip_h1_title": true,
   "title_cell": "Table of Contents",
   "title_sidebar": "Contents",
   "toc_cell": true,
   "toc_position": {},
   "toc_section_display": true,
   "toc_window_display": true
  }
 },
 "nbformat": 4,
 "nbformat_minor": 5
}
