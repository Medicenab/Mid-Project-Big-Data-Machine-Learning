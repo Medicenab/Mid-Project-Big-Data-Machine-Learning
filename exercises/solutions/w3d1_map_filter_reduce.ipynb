{
 "cells": [
  {
   "cell_type": "markdown",
   "id": "1f8f4c43",
   "metadata": {},
   "source": [
    "![](https://api.brandy.run/core/core-logo-wide)\n",
    "\n",
    "# Exercise: Map, Filter, Reduce"
   ]
  },
  {
   "cell_type": "markdown",
   "id": "34ef7863",
   "metadata": {},
   "source": [
    "## Ejercicio 1: Transform Authors' names\n",
    "\n",
    "<img src=\"img/books.png\" width=\"200\">\n",
    "\n",
    "En el esfuerzo de mejor organizar una libreria, su mantenedor decide cambiar el orden en que los libros están dispuestos. Hasta el momento se hacia el orden alfabético por `\"Nombre Apellido_1 Apellido_2\"` de cada autor. Ahora se ha eligido tenerles en el siguiente formato `\"{APELLIDO_2}, {Nombre} {Apellido_1}\"`. ¿Puedes hacerlo utilizando las herramientas que conoces para toda esa lista de autores?\n",
    "\n",
    "Hay authores con menos o más de 2 palabras en sus apellidos, o nombre compuesto. En todos los casos, la última palabra deve ser la trasladada al princípio y capitalizada.\n",
    "\n",
    "Ej.:\n",
    "```\n",
    "Federico Garcia Lorca ---> LORCA, Federico Garcia\n",
    "Franz Kafka           ---> KAFKA, Franz\n",
    "```"
   ]
  },
  {
   "cell_type": "code",
   "execution_count": 1,
   "id": "7ed44a29",
   "metadata": {},
   "outputs": [],
   "source": [
    "authors = ['Agatha Christie', 'Benito Pérez Galdós', 'Calderón de la Barca', 'Charles Dickens', \n",
    "           'Clarice Lispector', 'Dante Alighieri', 'Edgar Allan Poe', 'Federico Garcia Lorca', \n",
    "           'Fernando Pessoa', 'Franz Kafka', 'Fyodor Dostoyevsky', 'Gabriel García Márquez', \n",
    "           'George Orwell', 'Herman Melville', 'Hermann Hesse', 'James Joyce', 'Jane Austen', \n",
    "           'Johann Wolfgang von Goethe', 'Julio Cortázar', 'Lewis Carroll', 'Marcel Proust', \n",
    "           'Mario Vargas Llosa', 'Miguel de Cervantes', 'Ortega y Gasset', 'Oscar Wilde', \n",
    "           'Pablo Neruda', 'Pío Baroja', 'Ramón María del Valle-Inclán', 'Victor Hugo', \n",
    "           'Virginia Woolf', 'William Shakespeare']"
   ]
  },
  {
   "cell_type": "code",
   "execution_count": 2,
   "id": "89ddb561",
   "metadata": {},
   "outputs": [
    {
     "data": {
      "text/plain": [
       "'Calderón de la Barca'"
      ]
     },
     "execution_count": 2,
     "metadata": {},
     "output_type": "execute_result"
    }
   ],
   "source": [
    "'Agatha Christie'\n",
    "'Calderón de la Barca'"
   ]
  },
  {
   "cell_type": "code",
   "execution_count": 3,
   "id": "1f943c1d",
   "metadata": {},
   "outputs": [],
   "source": [
    "def modificacion_nombre(nombre):\n",
    "    lst = nombre.split()\n",
    "    return f\"{lst[-1].upper()}, {' '.join(lst[:-1])}\""
   ]
  },
  {
   "cell_type": "code",
   "execution_count": 4,
   "id": "8c69898f",
   "metadata": {},
   "outputs": [
    {
     "data": {
      "text/plain": [
       "'CHRISTIE, Agatha'"
      ]
     },
     "execution_count": 4,
     "metadata": {},
     "output_type": "execute_result"
    }
   ],
   "source": [
    "modificacion_nombre('Agatha Christie')"
   ]
  },
  {
   "cell_type": "code",
   "execution_count": 5,
   "id": "227f6028",
   "metadata": {},
   "outputs": [
    {
     "data": {
      "text/plain": [
       "['CHRISTIE, Agatha',\n",
       " 'GALDÓS, Benito Pérez',\n",
       " 'BARCA, Calderón de la',\n",
       " 'DICKENS, Charles',\n",
       " 'LISPECTOR, Clarice',\n",
       " 'ALIGHIERI, Dante',\n",
       " 'POE, Edgar Allan',\n",
       " 'LORCA, Federico Garcia',\n",
       " 'PESSOA, Fernando',\n",
       " 'KAFKA, Franz',\n",
       " 'DOSTOYEVSKY, Fyodor',\n",
       " 'MÁRQUEZ, Gabriel García',\n",
       " 'ORWELL, George',\n",
       " 'MELVILLE, Herman',\n",
       " 'HESSE, Hermann',\n",
       " 'JOYCE, James',\n",
       " 'AUSTEN, Jane',\n",
       " 'GOETHE, Johann Wolfgang von',\n",
       " 'CORTÁZAR, Julio',\n",
       " 'CARROLL, Lewis',\n",
       " 'PROUST, Marcel',\n",
       " 'LLOSA, Mario Vargas',\n",
       " 'CERVANTES, Miguel de',\n",
       " 'GASSET, Ortega y',\n",
       " 'WILDE, Oscar',\n",
       " 'NERUDA, Pablo',\n",
       " 'BAROJA, Pío',\n",
       " 'VALLE-INCLÁN, Ramón María del',\n",
       " 'HUGO, Victor',\n",
       " 'WOOLF, Virginia',\n",
       " 'SHAKESPEARE, William']"
      ]
     },
     "execution_count": 5,
     "metadata": {},
     "output_type": "execute_result"
    }
   ],
   "source": [
    "list(map(modificacion_nombre, authors))"
   ]
  },
  {
   "cell_type": "markdown",
   "id": "9009f35b",
   "metadata": {},
   "source": [
    "## Ejercicio 2: Temperature conversion\n",
    "\n",
    "<img src=\"img/temp.jpeg\" width=\"200\">\n",
    "\n",
    "En una estación meteorológica se coletan datos de las temperaturas (máxima y mínima) al largo de un año. Esos datos serán entregados a un grupo de científicos, pero tienen que ser convertidos a °C, una vez que fueron medidos en °F."
   ]
  },
  {
   "cell_type": "code",
   "execution_count": 6,
   "id": "57f992f5",
   "metadata": {},
   "outputs": [],
   "source": [
    "max_min_temp = [(24,8),(29,13),(41,24),(58,37),(69,49),(79,59),\n",
    "                (83,64),(81,62),(72,52),(58,40),(41,26),(27,12)]"
   ]
  },
  {
   "cell_type": "code",
   "execution_count": 7,
   "id": "f697b93d",
   "metadata": {},
   "outputs": [],
   "source": [
    "# -32 * 5/9"
   ]
  },
  {
   "cell_type": "code",
   "execution_count": 8,
   "id": "d730e093",
   "metadata": {},
   "outputs": [],
   "source": [
    "t = (\"Madrid\",19,\"Antonio\")"
   ]
  },
  {
   "cell_type": "code",
   "execution_count": 9,
   "id": "3d85709b",
   "metadata": {},
   "outputs": [],
   "source": [
    "Ciudad, edad, nombre = t"
   ]
  },
  {
   "cell_type": "code",
   "execution_count": 10,
   "id": "e0499e27",
   "metadata": {},
   "outputs": [
    {
     "name": "stdout",
     "output_type": "stream",
     "text": [
      "Madrid 19 Antonio\n"
     ]
    }
   ],
   "source": [
    "print( Ciudad, edad, nombre,)"
   ]
  },
  {
   "cell_type": "code",
   "execution_count": 11,
   "id": "55f0a1f6",
   "metadata": {},
   "outputs": [],
   "source": [
    "agrupacion = Ciudad, edad, nombre, \"España\""
   ]
  },
  {
   "cell_type": "code",
   "execution_count": 12,
   "id": "d00f009d",
   "metadata": {},
   "outputs": [
    {
     "data": {
      "text/plain": [
       "('Madrid', 19, 'Antonio', 'España')"
      ]
     },
     "execution_count": 12,
     "metadata": {},
     "output_type": "execute_result"
    }
   ],
   "source": [
    "agrupacion"
   ]
  },
  {
   "cell_type": "code",
   "execution_count": 13,
   "id": "efcf2a58",
   "metadata": {},
   "outputs": [],
   "source": [
    "def convert_to_c(max_min):\n",
    "    maxima, minima = max_min\n",
    "    maxima = (maxima - 32) * 5/9\n",
    "    minima = (minima - 32) * 5/9\n",
    "    return maxima,minima"
   ]
  },
  {
   "cell_type": "code",
   "execution_count": 14,
   "id": "86ce8102",
   "metadata": {},
   "outputs": [],
   "source": [
    "def convert_to_c(max_min):\n",
    "    return (max_min[0] - 32) * 5/9, (max_min[1] - 32) * 5/9"
   ]
  },
  {
   "cell_type": "code",
   "execution_count": 15,
   "id": "16db5c80",
   "metadata": {},
   "outputs": [
    {
     "data": {
      "text/plain": [
       "(-4.444444444444445, -13.333333333333334)"
      ]
     },
     "execution_count": 15,
     "metadata": {},
     "output_type": "execute_result"
    }
   ],
   "source": [
    "convert_to_c((24,8))"
   ]
  },
  {
   "cell_type": "code",
   "execution_count": 16,
   "id": "f02e4284",
   "metadata": {},
   "outputs": [
    {
     "data": {
      "text/plain": [
       "[(-4.444444444444445, -13.333333333333334),\n",
       " (-1.6666666666666667, -10.555555555555555),\n",
       " (5.0, -4.444444444444445),\n",
       " (14.444444444444445, 2.7777777777777777),\n",
       " (20.555555555555557, 9.444444444444445),\n",
       " (26.11111111111111, 15.0),\n",
       " (28.333333333333332, 17.77777777777778),\n",
       " (27.22222222222222, 16.666666666666668),\n",
       " (22.22222222222222, 11.11111111111111),\n",
       " (14.444444444444445, 4.444444444444445),\n",
       " (5.0, -3.3333333333333335),\n",
       " (-2.7777777777777777, -11.11111111111111)]"
      ]
     },
     "execution_count": 16,
     "metadata": {},
     "output_type": "execute_result"
    }
   ],
   "source": [
    "list(map(convert_to_c, max_min_temp))"
   ]
  },
  {
   "cell_type": "markdown",
   "id": "a11b8b92",
   "metadata": {},
   "source": [
    "## Ejercicio 3: Circle areas\n",
    "\n",
    "<img src=\"img/circle.jpeg\" width=\"200\">\n",
    "\n",
    "A partir del `range(1,101)`, calcula el área de circulos con radio igual a cada uno de los elementos de ese range."
   ]
  },
  {
   "cell_type": "code",
   "execution_count": 17,
   "id": "41f146ec",
   "metadata": {},
   "outputs": [],
   "source": [
    "from math import pi"
   ]
  },
  {
   "cell_type": "code",
   "execution_count": 18,
   "id": "dcf1aef4",
   "metadata": {},
   "outputs": [],
   "source": [
    "# pi * r**2"
   ]
  },
  {
   "cell_type": "code",
   "execution_count": 19,
   "id": "cbef4397",
   "metadata": {},
   "outputs": [],
   "source": [
    "def area(r):\n",
    "    return pi * (r**2)"
   ]
  },
  {
   "cell_type": "code",
   "execution_count": 20,
   "id": "8e030080",
   "metadata": {},
   "outputs": [
    {
     "data": {
      "text/plain": [
       "28.274333882308138"
      ]
     },
     "execution_count": 20,
     "metadata": {},
     "output_type": "execute_result"
    }
   ],
   "source": [
    "area(3)"
   ]
  },
  {
   "cell_type": "code",
   "execution_count": 21,
   "id": "ba3c51ea",
   "metadata": {},
   "outputs": [
    {
     "data": {
      "text/plain": [
       "[3.141592653589793,\n",
       " 12.566370614359172,\n",
       " 28.274333882308138,\n",
       " 50.26548245743669,\n",
       " 78.53981633974483]"
      ]
     },
     "execution_count": 21,
     "metadata": {},
     "output_type": "execute_result"
    }
   ],
   "source": [
    "list(map(area, range(1,101)))[:5]"
   ]
  },
  {
   "cell_type": "code",
   "execution_count": 22,
   "id": "5ba5e31a",
   "metadata": {},
   "outputs": [
    {
     "data": {
      "text/plain": [
       "[3.141592653589793,\n",
       " 12.566370614359172,\n",
       " 28.274333882308138,\n",
       " 50.26548245743669,\n",
       " 78.53981633974483]"
      ]
     },
     "execution_count": 22,
     "metadata": {},
     "output_type": "execute_result"
    }
   ],
   "source": [
    "list(map(lambda r: pi * (r**2), range(1,101)))[:5]"
   ]
  },
  {
   "cell_type": "markdown",
   "id": "949b4bae",
   "metadata": {},
   "source": [
    "## Ejercicio 4: Sorting Sorteds\n",
    "\n",
    "Filtra la lista de listas abajo para incluir solo las listas en que los 3 elementos estén ordenados ascendientemente."
   ]
  },
  {
   "cell_type": "code",
   "execution_count": 23,
   "id": "38e7051f",
   "metadata": {},
   "outputs": [],
   "source": [
    "import numpy as np\n",
    "lst = np.random.randint(1,101,(100,3))"
   ]
  },
  {
   "cell_type": "code",
   "execution_count": 24,
   "id": "696d7760",
   "metadata": {},
   "outputs": [
    {
     "data": {
      "text/plain": [
       "array([[66, 80, 99],\n",
       "       [69, 53, 27],\n",
       "       [ 2,  3, 38],\n",
       "       [37, 22, 98],\n",
       "       [38, 98, 76]])"
      ]
     },
     "execution_count": 24,
     "metadata": {},
     "output_type": "execute_result"
    }
   ],
   "source": [
    "lst[:5]"
   ]
  },
  {
   "cell_type": "code",
   "execution_count": 25,
   "id": "b94e3a3f",
   "metadata": {},
   "outputs": [
    {
     "data": {
      "text/plain": [
       "[1, 2, 3, 4, 5, 1, 2, 3, 4, 5, 1, 2, 3, 4, 5, 1, 2, 3, 4, 5, 1, 2, 3, 4, 5]"
      ]
     },
     "execution_count": 25,
     "metadata": {},
     "output_type": "execute_result"
    }
   ],
   "source": [
    "[1,2,3,4,5]*5"
   ]
  },
  {
   "cell_type": "code",
   "execution_count": 26,
   "id": "0558d3fe",
   "metadata": {},
   "outputs": [
    {
     "data": {
      "text/plain": [
       "array([ 5, 10, 15, 20, 25])"
      ]
     },
     "execution_count": 26,
     "metadata": {},
     "output_type": "execute_result"
    }
   ],
   "source": [
    "np.array([1,2,3,4,5])*5"
   ]
  },
  {
   "cell_type": "code",
   "execution_count": 27,
   "id": "cc8b2ea4",
   "metadata": {},
   "outputs": [],
   "source": [
    "def ordenados(lista):\n",
    "    if all(lista==sorted(lista)):\n",
    "        return True\n",
    "    else:\n",
    "        return False"
   ]
  },
  {
   "cell_type": "code",
   "execution_count": 28,
   "id": "d5f9c9e6",
   "metadata": {},
   "outputs": [
    {
     "data": {
      "text/plain": [
       "True"
      ]
     },
     "execution_count": 28,
     "metadata": {},
     "output_type": "execute_result"
    }
   ],
   "source": [
    "ordenados(np.array([6, 27, 92]))"
   ]
  },
  {
   "cell_type": "code",
   "execution_count": 29,
   "id": "80d3fea5",
   "metadata": {},
   "outputs": [
    {
     "data": {
      "text/plain": [
       "[array([66, 80, 99]),\n",
       " array([ 2,  3, 38]),\n",
       " array([29, 88, 89]),\n",
       " array([ 5, 21, 61]),\n",
       " array([ 6, 31, 44]),\n",
       " array([ 9, 10, 74]),\n",
       " array([22, 24, 82]),\n",
       " array([21, 54, 58]),\n",
       " array([ 2, 42, 57]),\n",
       " array([25, 31, 70]),\n",
       " array([ 2, 62, 94]),\n",
       " array([66, 80, 86]),\n",
       " array([ 8, 37, 71]),\n",
       " array([26, 33, 95]),\n",
       " array([ 8, 28, 82]),\n",
       " array([25, 43, 60]),\n",
       " array([ 3, 39, 94])]"
      ]
     },
     "execution_count": 29,
     "metadata": {},
     "output_type": "execute_result"
    }
   ],
   "source": [
    "list(filter(ordenados, lst))"
   ]
  },
  {
   "cell_type": "code",
   "execution_count": 30,
   "id": "d92e5e5b",
   "metadata": {},
   "outputs": [
    {
     "data": {
      "text/plain": [
       "[array([66, 80, 99]),\n",
       " array([ 2,  3, 38]),\n",
       " array([29, 88, 89]),\n",
       " array([ 5, 21, 61]),\n",
       " array([ 6, 31, 44]),\n",
       " array([ 9, 10, 74]),\n",
       " array([22, 24, 82]),\n",
       " array([21, 54, 58]),\n",
       " array([ 2, 42, 57]),\n",
       " array([25, 31, 70]),\n",
       " array([ 2, 62, 94]),\n",
       " array([66, 80, 86]),\n",
       " array([ 8, 37, 71]),\n",
       " array([26, 33, 95]),\n",
       " array([ 8, 28, 82]),\n",
       " array([25, 43, 60]),\n",
       " array([ 3, 39, 94])]"
      ]
     },
     "execution_count": 30,
     "metadata": {},
     "output_type": "execute_result"
    }
   ],
   "source": [
    "list(filter(lambda x: x[0] <= x[1] and x[1] <= x[2], lst))"
   ]
  },
  {
   "cell_type": "markdown",
   "id": "46116ab0",
   "metadata": {},
   "source": [
    "## Ejercicio 5: Letter order\n",
    "\n",
    "<img src=\"img/letters.jpeg\" width=\"200\">\n",
    "\n",
    "Recentemente has encontrado la lista abajo que contiene las 100 palabras más utilizadas en el inglés. Decides investigar algunas cosas sobre esa lista.\n",
    "- Primero, separa solo las palabras que poséen por lo menos 2 vocales.\n",
    "- De el listaje anterior, elimina cualquier palabra cuyas vocales no estén en el orden alfabético"
   ]
  },
  {
   "cell_type": "code",
   "execution_count": 31,
   "id": "3f3ea558",
   "metadata": {},
   "outputs": [],
   "source": [
    "words = [\"a\",\"ability\",\"able\",\"about\",\"above\",\"accept\",\"according\",\"account\",\"across\",\"act\",\"action\",\"activity\",\"actually\",\"add\",\"address\",\"administration\",\"admit\",\"adult\",\"affect\",\"after\",\"again\",\"against\",\"age\",\"agency\",\"agent\",\"ago\",\"agree\",\"agreement\",\"ahead\",\"air\",\"all\",\"allow\",\"almost\",\"alone\",\"along\",\"already\",\"also\",\"although\",\"always\",\"American\",\"among\",\"amount\",\"analysis\",\"and\",\"animal\",\"another\",\"answer\",\"any\",\"anyone\",\"anything\",\"appear\",\"apply\",\"approach\",\"area\",\"argue\",\"arm\",\"around\",\"arrive\",\"art\",\"article\",\"artist\",\"as\",\"ask\",\"assume\",\"at\",\"attack\",\"attention\",\"attorney\",\"audience\",\"author\",\"authority\",\"available\",\"avoid\",\"away\",\"baby\",\"back\",\"bad\",\"bag\",\"ball\",\"bank\",\"bar\",\"base\",\"be\",\"beat\",\"beautiful\",\"because\",\"become\",\"bed\",\"before\",\"begin\",\"behavior\",\"behind\",\"believe\",\"benefit\",\"best\",\"better\",\"between\",\"beyond\",\"big\",\"bill\",\"billion\",\"bit\",\"black\",\"blood\",\"blue\",\"board\",\"body\",\"book\",\"born\",\"both\",\"box\",\"boy\",\"break\",\"bring\",\"brother\",\"budget\",\"build\",\"building\",\"business\",\"but\",\"buy\",\"by\",\"call\",\"camera\",\"campaign\",\"can\",\"cancer\",\"candidate\",\"capital\",\"car\",\"card\",\"care\",\"career\",\"carry\",\"case\",\"catch\",\"cause\",\"cell\",\"center\",\"central\",\"century\",\"certain\",\"certainly\",\"chair\",\"challenge\",\"chance\",\"change\",\"character\",\"charge\",\"check\",\"child\",\"choice\",\"choose\",\"church\",\"citizen\",\"city\",\"civil\",\"claim\",\"class\",\"clear\",\"clearly\",\"close\",\"coach\",\"cold\",\"collection\",\"college\",\"color\",\"come\",\"commercial\",\"common\",\"community\",\"company\",\"compare\",\"computer\",\"concern\",\"condition\",\"conference\",\"Congress\",\"consider\",\"consumer\",\"contain\",\"continue\",\"control\",\"cost\",\"could\",\"country\",\"couple\",\"course\",\"court\",\"cover\",\"create\",\"crime\",\"cultural\",\"culture\",\"cup\",\"current\",\"customer\",\"cut\",\"dark\",\"data\",\"daughter\",\"day\",\"dead\",\"deal\",\"death\",\"debate\",\"decade\",\"decide\",\"decision\",\"deep\",\"defense\",\"degree\",\"Democrat\",\"democratic\",\"describe\",\"design\",\"despite\",\"detail\",\"determine\",\"develop\",\"development\",\"die\",\"difference\",\"different\",\"difficult\",\"dinner\",\"direction\",\"director\",\"discover\",\"discuss\",\"discussion\",\"disease\",\"do\",\"doctor\",\"dog\",\"door\",\"down\",\"draw\",\"dream\",\"drive\",\"drop\",\"drug\",\"during\",\"each\",\"early\",\"east\",\"easy\",\"eat\",\"economic\",\"economy\",\"edge\",\"education\",\"effect\",\"effort\",\"eight\",\"either\",\"election\",\"else\",\"employee\",\"end\",\"energy\",\"enjoy\",\"enough\",\"enter\",\"entire\",\"environment\",\"environmental\",\"especially\",\"establish\",\"even\",\"evening\",\"event\",\"ever\",\"every\",\"everybody\",\"everyone\",\"everything\",\"evidence\",\"exactly\",\"example\",\"executive\",\"exist\",\"expect\",\"experience\",\"expert\",\"explain\",\"eye\",\"face\",\"fact\",\"factor\",\"fail\",\"fall\",\"family\",\"far\",\"fast\",\"father\",\"fear\",\"federal\",\"feel\",\"feeling\",\"few\",\"field\",\"fight\",\"figure\",\"fill\",\"film\",\"final\",\"finally\",\"financial\",\"find\",\"fine\",\"finger\",\"finish\",\"fire\",\"firm\",\"first\",\"fish\",\"five\",\"floor\",\"fly\",\"focus\",\"follow\",\"food\",\"foot\",\"for\",\"force\",\"foreign\",\"forget\",\"form\",\"former\",\"forward\",\"four\",\"free\",\"friend\",\"from\",\"front\",\"full\",\"fund\",\"future\",\"game\",\"garden\",\"gas\",\"general\",\"generation\",\"get\",\"girl\",\"give\",\"glass\",\"go\",\"goal\",\"good\",\"government\",\"great\",\"green\",\"ground\",\"group\",\"grow\",\"growth\",\"guess\",\"gun\",\"guy\",\"hair\",\"half\",\"hand\",\"hang\",\"happen\",\"happy\",\"hard\",\"have\",\"he\",\"head\",\"health\",\"hear\",\"heart\",\"heat\",\"heavy\",\"help\",\"her\",\"here\",\"herself\",\"high\",\"him\",\"himself\",\"his\",\"history\",\"hit\",\"hold\",\"home\",\"hope\",\"hospital\",\"hot\",\"hotel\",\"hour\",\"house\",\"how\",\"however\",\"huge\",\"human\",\"hundred\",\"husband\",\"I\",\"idea\",\"identify\",\"if\",\"image\",\"imagine\",\"impact\",\"important\",\"improve\",\"in\",\"include\",\"including\",\"increase\",\"indeed\",\"indicate\",\"individual\",\"industry\",\"information\",\"inside\",\"instead\",\"institution\",\"interest\",\"interesting\",\"international\",\"interview\",\"into\",\"investment\",\"involve\",\"issue\",\"it\",\"item\",\"its\",\"itself\",\"job\",\"join\",\"just\",\"keep\",\"key\",\"kid\",\"kill\",\"kind\",\"kitchen\",\"know\",\"knowledge\",\"land\",\"language\",\"large\",\"last\",\"late\",\"later\",\"laugh\",\"law\",\"lawyer\",\"lay\",\"lead\",\"leader\",\"learn\",\"least\",\"leave\",\"left\",\"leg\",\"legal\",\"less\",\"let\",\"letter\",\"level\",\"lie\",\"life\",\"light\",\"like\",\"likely\",\"line\",\"list\",\"listen\",\"little\",\"live\",\"local\",\"long\",\"look\",\"lose\",\"loss\",\"lot\",\"love\",\"low\",\"machine\",\"magazine\",\"main\",\"maintain\",\"major\",\"majority\",\"make\",\"man\",\"manage\",\"management\",\"manager\",\"many\",\"market\",\"marriage\",\"material\",\"matter\",\"may\",\"maybe\",\"me\",\"mean\",\"measure\",\"media\",\"medical\",\"meet\",\"meeting\",\"member\",\"memory\",\"mention\",\"message\",\"method\",\"middle\",\"might\",\"military\",\"million\",\"mind\",\"minute\",\"miss\",\"mission\",\"model\",\"modern\",\"moment\",\"money\",\"month\",\"more\",\"morning\",\"most\",\"mother\",\"mouth\",\"move\",\"movement\",\"movie\",\"Mr\",\"Mrs\",\"much\",\"music\",\"must\",\"my\",\"myself\",\"name\",\"nation\",\"national\",\"natural\",\"nature\",\"near\",\"nearly\",\"necessary\",\"need\",\"network\",\"never\",\"new\",\"news\",\"newspaper\",\"next\",\"nice\",\"night\",\"no\",\"none\",\"nor\",\"north\",\"not\",\"note\",\"nothing\",\"notice\",\"now\",\"n't\",\"number\",\"occur\",\"of\",\"off\",\"offer\",\"office\",\"officer\",\"official\",\"often\",\"oh\",\"oil\",\"ok\",\"old\",\"on\",\"once\",\"one\",\"only\",\"onto\",\"open\",\"operation\",\"opportunity\",\"option\",\"or\",\"order\",\"organization\",\"other\",\"others\",\"our\",\"out\",\"outside\",\"over\",\"own\",\"owner\",\"page\",\"pain\",\"painting\",\"paper\",\"parent\",\"part\",\"participant\",\"particular\",\"particularly\",\"partner\",\"party\",\"pass\",\"past\",\"patient\",\"pattern\",\"pay\",\"peace\",\"people\",\"per\",\"perform\",\"performance\",\"perhaps\",\"period\",\"person\",\"personal\",\"phone\",\"physical\",\"pick\",\"picture\",\"piece\",\"place\",\"plan\",\"plant\",\"play\",\"player\",\"PM\",\"point\",\"police\",\"policy\",\"political\",\"politics\",\"poor\",\"popular\",\"population\",\"position\",\"positive\",\"possible\",\"power\",\"practice\",\"prepare\",\"present\",\"president\",\"pressure\",\"pretty\",\"prevent\",\"price\",\"private\",\"probably\",\"problem\",\"process\",\"produce\",\"product\",\"production\",\"professional\",\"professor\",\"program\",\"project\",\"property\",\"protect\",\"prove\",\"provide\",\"public\",\"pull\",\"purpose\",\"push\",\"put\",\"quality\",\"question\",\"quickly\",\"quite\",\"race\",\"radio\",\"raise\",\"range\",\"rate\",\"rather\",\"reach\",\"read\",\"ready\",\"real\",\"reality\",\"realize\",\"really\",\"reason\",\"receive\",\"recent\",\"recently\",\"recognize\",\"record\",\"red\",\"reduce\",\"reflect\",\"region\",\"relate\",\"relationship\",\"religious\",\"remain\",\"remember\",\"remove\",\"report\",\"represent\",\"Republican\",\"require\",\"research\",\"resource\",\"respond\",\"response\",\"responsibility\",\"rest\",\"result\",\"return\",\"reveal\",\"rich\",\"right\",\"rise\",\"risk\",\"road\",\"rock\",\"role\",\"room\",\"rule\",\"run\",\"safe\",\"same\",\"save\",\"say\",\"scene\",\"school\",\"science\",\"scientist\",\"score\",\"sea\",\"season\",\"seat\",\"second\",\"section\",\"security\",\"see\",\"seek\",\"seem\",\"sell\",\"send\",\"senior\",\"sense\",\"series\",\"serious\",\"serve\",\"service\",\"set\",\"seven\",\"several\",\"sex\",\"sexual\",\"shake\",\"share\",\"she\",\"shoot\",\"short\",\"shot\",\"should\",\"shoulder\",\"show\",\"side\",\"sign\",\"significant\",\"similar\",\"simple\",\"simply\",\"since\",\"sing\",\"single\",\"sister\",\"sit\",\"site\",\"situation\",\"six\",\"size\",\"skill\",\"skin\",\"small\",\"smile\",\"so\",\"social\",\"society\",\"soldier\",\"some\",\"somebody\",\"someone\",\"something\",\"sometimes\",\"son\",\"song\",\"soon\",\"sort\",\"sound\",\"source\",\"south\",\"southern\",\"space\",\"speak\",\"special\",\"specific\",\"speech\",\"spend\",\"sport\",\"spring\",\"staff\",\"stage\",\"stand\",\"standard\",\"star\",\"start\",\"state\",\"statement\",\"station\",\"stay\",\"step\",\"still\",\"stock\",\"stop\",\"store\",\"story\",\"strategy\",\"street\",\"strong\",\"structure\",\"student\",\"study\",\"stuff\",\"style\",\"subject\",\"success\",\"successful\",\"such\",\"suddenly\",\"suffer\",\"suggest\",\"summer\",\"support\",\"sure\",\"surface\",\"system\",\"table\",\"take\",\"talk\",\"task\",\"tax\",\"teach\",\"teacher\",\"team\",\"technology\",\"television\",\"tell\",\"ten\",\"tend\",\"term\",\"test\",\"than\",\"thank\",\"that\",\"the\",\"their\",\"them\",\"themselves\",\"then\",\"theory\",\"there\",\"these\",\"they\",\"thing\",\"think\",\"third\",\"this\",\"those\",\"though\",\"thought\",\"thousand\",\"threat\",\"three\",\"through\",\"throughout\",\"throw\",\"thus\",\"time\",\"to\",\"today\",\"together\",\"tonight\",\"too\",\"top\",\"total\",\"tough\",\"toward\",\"town\",\"trade\",\"traditional\",\"training\",\"travel\",\"treat\",\"treatment\",\"tree\",\"trial\",\"trip\",\"trouble\",\"true\",\"truth\",\"try\",\"turn\",\"TV\",\"two\",\"type\",\"under\",\"understand\",\"unit\",\"until\",\"up\",\"upon\",\"us\",\"use\",\"usually\",\"value\",\"various\",\"very\",\"victim\",\"view\",\"violence\",\"visit\",\"voice\",\"vote\",\"wait\",\"walk\",\"wall\",\"want\",\"war\",\"watch\",\"water\",\"way\",\"we\",\"weapon\",\"wear\",\"week\",\"weight\",\"well\",\"west\",\"western\",\"what\",\"whatever\",\"when\",\"where\",\"whether\",\"which\",\"while\",\"white\",\"who\",\"whole\",\"whom\",\"whose\",\"why\",\"wide\",\"wife\",\"will\",\"win\",\"wind\",\"window\",\"wish\",\"with\",\"within\",\"without\",\"woman\",\"wonder\",\"word\",\"work\",\"worker\",\"world\",\"worry\",\"would\",\"write\",\"writer\",\"wrong\",\"yard\",\"yeah\",\"year\",\"yes\",\"yet\",\"you\",\"young\",\"your\",\"yourself\"]"
   ]
  },
  {
   "cell_type": "code",
   "execution_count": 32,
   "id": "36dd4646",
   "metadata": {},
   "outputs": [],
   "source": [
    "def at_leats_two_vocals(word):\n",
    "    vocals = \"aeiou\"\n",
    "    vocals_found = 0\n",
    "    for vocal in vocals:\n",
    "        if word.count(vocal) > 0:\n",
    "            #print(vocal)\n",
    "            vocals_found += 1\n",
    "    if vocals_found > 1:\n",
    "        return True\n",
    "    else:\n",
    "        return False\n",
    "    "
   ]
  },
  {
   "cell_type": "code",
   "execution_count": 33,
   "id": "0fc12515",
   "metadata": {},
   "outputs": [
    {
     "data": {
      "text/plain": [
       "True"
      ]
     },
     "execution_count": 33,
     "metadata": {},
     "output_type": "execute_result"
    }
   ],
   "source": [
    "at_leats_two_vocals(\"ability\")"
   ]
  },
  {
   "cell_type": "code",
   "execution_count": 34,
   "id": "37fa8c2f",
   "metadata": {},
   "outputs": [],
   "source": [
    "primera_parte = list(filter(at_leats_two_vocals, words))"
   ]
  },
  {
   "cell_type": "code",
   "execution_count": 35,
   "id": "f0b72859",
   "metadata": {},
   "outputs": [
    {
     "data": {
      "text/plain": [
       "['ability',\n",
       " 'able',\n",
       " 'about',\n",
       " 'above',\n",
       " 'accept',\n",
       " 'according',\n",
       " 'account',\n",
       " 'across',\n",
       " 'action',\n",
       " 'activity']"
      ]
     },
     "execution_count": 35,
     "metadata": {},
     "output_type": "execute_result"
    }
   ],
   "source": [
    "primera_parte[:10]"
   ]
  },
  {
   "cell_type": "code",
   "execution_count": 36,
   "id": "2d17f438",
   "metadata": {},
   "outputs": [],
   "source": [
    "def alpha_order(word):\n",
    "    vocales = \"aeiou\"\n",
    "    res = \"\"\n",
    "    for character in word:\n",
    "        if character in vocales:\n",
    "            res+=character\n",
    "    #print(res, \"\".join(sorted(res)))\n",
    "    if res == \"\".join(sorted(res)):\n",
    "        return True\n",
    "    else:\n",
    "        return False"
   ]
  },
  {
   "cell_type": "code",
   "execution_count": 37,
   "id": "b02cc67e",
   "metadata": {},
   "outputs": [],
   "source": [
    "word = \"administration\""
   ]
  },
  {
   "cell_type": "code",
   "execution_count": 38,
   "id": "67ca9a24",
   "metadata": {},
   "outputs": [
    {
     "data": {
      "text/plain": [
       "False"
      ]
     },
     "execution_count": 38,
     "metadata": {},
     "output_type": "execute_result"
    }
   ],
   "source": [
    "alpha_order(word)"
   ]
  },
  {
   "cell_type": "code",
   "execution_count": 39,
   "id": "2a6ec302",
   "metadata": {},
   "outputs": [],
   "source": [
    "final = list(filter(alpha_order, primera_parte))"
   ]
  },
  {
   "cell_type": "code",
   "execution_count": 40,
   "id": "2772727d",
   "metadata": {},
   "outputs": [
    {
     "data": {
      "text/plain": [
       "['ability',\n",
       " 'able',\n",
       " 'about',\n",
       " 'accept',\n",
       " 'account',\n",
       " 'across',\n",
       " 'action',\n",
       " 'activity',\n",
       " 'address',\n",
       " 'admit']"
      ]
     },
     "execution_count": 40,
     "metadata": {},
     "output_type": "execute_result"
    }
   ],
   "source": [
    "final[:10]"
   ]
  },
  {
   "cell_type": "markdown",
   "id": "07c14925",
   "metadata": {},
   "source": [
    "## Ejercicio 6 (Bonus): Code your own `map` `filter` and `reduce` implementations. \n",
    "\n",
    "<img src=\"img/higher_order.jpeg\" width=\"400\">\n",
    "\n",
    "Hemos utilizado las funciones `map`, `filter` y `reduce` en los ejercícios anteriores. ¿Serías capaz de implementarlas si no existieran?\n",
    "En ese ejercício debes definir las 3 funciones `my_map`, `my_filter` y `my_reduce`."
   ]
  },
  {
   "cell_type": "code",
   "execution_count": 41,
   "id": "66626efe",
   "metadata": {},
   "outputs": [],
   "source": [
    "def my_map(func, arr):\n",
    "    res = []\n",
    "    for el in arr:\n",
    "        res.append(func(el))\n",
    "    return res\n",
    "        \n",
    "def my_filter(func, arr):\n",
    "    res = []\n",
    "    for el in arr:\n",
    "        if func(el):\n",
    "            res.append(el)\n",
    "    return res\n",
    "\n",
    "def my_reduce(func, arr, initiallizer):\n",
    "    resultado = initiallizer\n",
    "    segundo = arr[0]\n",
    "    arr = arr[1:]\n",
    "    resultado = func(resultado, segundo)\n",
    "    for el in arr:\n",
    "        resultado = func(resultado, el)\n",
    "    return resultado"
   ]
  },
  {
   "cell_type": "code",
   "execution_count": 42,
   "id": "27185219",
   "metadata": {},
   "outputs": [
    {
     "data": {
      "text/plain": [
       "[3.141592653589793,\n",
       " 12.566370614359172,\n",
       " 28.274333882308138,\n",
       " 50.26548245743669,\n",
       " 78.53981633974483]"
      ]
     },
     "execution_count": 42,
     "metadata": {},
     "output_type": "execute_result"
    }
   ],
   "source": [
    "my_map(lambda r: pi * (r**2), range(1,101))[:5]"
   ]
  },
  {
   "cell_type": "code",
   "execution_count": 43,
   "id": "1d614d90",
   "metadata": {},
   "outputs": [],
   "source": [
    "f2 = my_filter(alpha_order, primera_parte)"
   ]
  },
  {
   "cell_type": "code",
   "execution_count": 44,
   "id": "e15174e5",
   "metadata": {},
   "outputs": [
    {
     "data": {
      "text/plain": [
       "True"
      ]
     },
     "execution_count": 44,
     "metadata": {},
     "output_type": "execute_result"
    }
   ],
   "source": [
    "final == f2"
   ]
  },
  {
   "cell_type": "code",
   "execution_count": 45,
   "id": "ee7b5545",
   "metadata": {},
   "outputs": [],
   "source": [
    "from functools import reduce"
   ]
  },
  {
   "cell_type": "code",
   "execution_count": 46,
   "id": "b117ce41",
   "metadata": {},
   "outputs": [
    {
     "data": {
      "text/plain": [
       "40"
      ]
     },
     "execution_count": 46,
     "metadata": {},
     "output_type": "execute_result"
    }
   ],
   "source": [
    "reduce(lambda p,s:p if p>s else s, [1,2,4,1,12,3,5,6,21,4,2,3,5], 40)"
   ]
  },
  {
   "cell_type": "code",
   "execution_count": 47,
   "id": "be1950ec",
   "metadata": {},
   "outputs": [
    {
     "data": {
      "text/plain": [
       "40"
      ]
     },
     "execution_count": 47,
     "metadata": {},
     "output_type": "execute_result"
    }
   ],
   "source": [
    "my_reduce(lambda p,s:p if p>s else s, [1,2,4,1,12,3,5,6,21,4,2,3,5], 40)"
   ]
  },
  {
   "cell_type": "markdown",
   "id": "eda938ed",
   "metadata": {},
   "source": [
    "## Ejercicio 7 (Bonus): Fibonacci HARD 🔥\n",
    "\n",
    "Solo con `reduce` y un `lambda`, ¿puedes producir la secuencia de Fibonacci?\n",
    "\n",
    "- https://en.wikipedia.org/wiki/Fibonacci_number"
   ]
  },
  {
   "cell_type": "code",
   "execution_count": 48,
   "id": "7e9ad61c",
   "metadata": {},
   "outputs": [
    {
     "data": {
      "text/plain": [
       "[1, 2, 3, 6]"
      ]
     },
     "execution_count": 48,
     "metadata": {},
     "output_type": "execute_result"
    }
   ],
   "source": [
    "[1,2]+[3]+[6]"
   ]
  },
  {
   "cell_type": "code",
   "execution_count": 49,
   "id": "b0ca016a",
   "metadata": {},
   "outputs": [
    {
     "data": {
      "text/plain": [
       "3"
      ]
     },
     "execution_count": 49,
     "metadata": {},
     "output_type": "execute_result"
    }
   ],
   "source": [
    "sum([1,2])"
   ]
  },
  {
   "cell_type": "code",
   "execution_count": 50,
   "id": "39bc14eb",
   "metadata": {},
   "outputs": [
    {
     "data": {
      "text/plain": [
       "[0, 1, 1, 2, 3, 5, 8, 13, 21, 34, 55, 89, 144]"
      ]
     },
     "execution_count": 50,
     "metadata": {},
     "output_type": "execute_result"
    }
   ],
   "source": [
    "reduce(lambda arr, _ : arr + [ sum(arr[-2:]) ], range(11), [0,1])"
   ]
  }
 ],
 "metadata": {
  "kernelspec": {
   "display_name": "Python 3 (ipykernel)",
   "language": "python",
   "name": "python3"
  },
  "language_info": {
   "codemirror_mode": {
    "name": "ipython",
    "version": 3
   },
   "file_extension": ".py",
   "mimetype": "text/x-python",
   "name": "python",
   "nbconvert_exporter": "python",
   "pygments_lexer": "ipython3",
   "version": "3.9.7"
  },
  "toc": {
   "base_numbering": 1,
   "nav_menu": {},
   "number_sections": true,
   "sideBar": true,
   "skip_h1_title": true,
   "title_cell": "Table of Contents",
   "title_sidebar": "Contents",
   "toc_cell": true,
   "toc_position": {},
   "toc_section_display": true,
   "toc_window_display": true
  }
 },
 "nbformat": 4,
 "nbformat_minor": 5
}
