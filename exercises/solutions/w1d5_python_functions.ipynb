{
 "cells": [
  {
   "cell_type": "markdown",
   "metadata": {},
   "source": [
    "![](https://api.brandy.run/core/core-logo-wide)\n",
    "\n",
    "# Python Functions\n",
    "\n",
    "En este ejercicio te toca programar, intenta escribir las funciones propuestas en cada uno de los enunciados.\n",
    "\n",
    "**NOTA:** Intenta no usar funciones auxiliares como `len`,`count`,`sum`,`max`,`min`,`in`,`etc`. Siempre puedes usar otras funciones disponibles directamente sin importar ninguna librería (built-in) https://docs.python.org/3/library/functions.html\n",
    "\n",
    "Este ejercicio usa `tests` unitarios para comprobar que el código que escribes es correcto.\n",
    "\n",
    "La celda siguiente a cada ejercicio contiene la llamada a la función propuesta encapsulada en una función que la testea, validando así que tu solución es correcta (recuerda: hay mil soluciones posibles, buscamos una válida 😇)\n",
    "\n",
    "Ejecuta los tests y comprueba que el resultado es correcto."
   ]
  },
  {
   "cell_type": "code",
   "execution_count": 1,
   "metadata": {},
   "outputs": [],
   "source": [
    "from checks import check"
   ]
  },
  {
   "cell_type": "markdown",
   "metadata": {},
   "source": [
    "## 1. Escribe una función que devuelva el máximo de dos valores"
   ]
  },
  {
   "cell_type": "code",
   "execution_count": 2,
   "metadata": {},
   "outputs": [],
   "source": [
    "def mayor(a,b):\n",
    "    if a > b:\n",
    "        return a\n",
    "    else:\n",
    "        return b"
   ]
  },
  {
   "cell_type": "code",
   "execution_count": 3,
   "metadata": {},
   "outputs": [
    {
     "name": "stderr",
     "output_type": "stream",
     "text": [
      "....................................................................................................\n",
      "----------------------------------------------------------------------\n",
      "Ran 100 tests in 0.051s\n",
      "\n",
      "OK\n"
     ]
    }
   ],
   "source": [
    "check.test_mayor(mayor)"
   ]
  },
  {
   "cell_type": "markdown",
   "metadata": {},
   "source": [
    "## 2. Una función que devuelve el elemento máximo de una lista"
   ]
  },
  {
   "cell_type": "code",
   "execution_count": 4,
   "metadata": {},
   "outputs": [],
   "source": [
    "def maximo(lst):\n",
    "    maximo = lst[0]\n",
    "    for elemento in lst[1:]:\n",
    "        if elemento > maximo:\n",
    "            maximo = elemento\n",
    "    return maximo"
   ]
  },
  {
   "cell_type": "code",
   "execution_count": 5,
   "metadata": {},
   "outputs": [
    {
     "name": "stderr",
     "output_type": "stream",
     "text": [
      "....................................................................................................\n",
      "----------------------------------------------------------------------\n",
      "Ran 100 tests in 0.039s\n",
      "\n",
      "OK\n"
     ]
    }
   ],
   "source": [
    "check.test_maximo(maximo)"
   ]
  },
  {
   "cell_type": "markdown",
   "metadata": {},
   "source": [
    "## 3. Escribe una función que sume todos los elementos en una lista"
   ]
  },
  {
   "cell_type": "code",
   "execution_count": 6,
   "metadata": {},
   "outputs": [],
   "source": [
    "def suma_lista(lst):\n",
    "    suma = 0\n",
    "    for elemento in lst:\n",
    "        suma += elemento\n",
    "    return suma"
   ]
  },
  {
   "cell_type": "code",
   "execution_count": 7,
   "metadata": {},
   "outputs": [
    {
     "name": "stderr",
     "output_type": "stream",
     "text": [
      "....................................................................................................\n",
      "----------------------------------------------------------------------\n",
      "Ran 100 tests in 0.042s\n",
      "\n",
      "OK\n"
     ]
    }
   ],
   "source": [
    "check.test_suma_lista(suma_lista)"
   ]
  },
  {
   "cell_type": "markdown",
   "metadata": {},
   "source": [
    "## 4. Escribe una función que multiplique todos los elementos de una lista"
   ]
  },
  {
   "cell_type": "code",
   "execution_count": 8,
   "metadata": {},
   "outputs": [],
   "source": [
    "def multiplica_lista(lst):\n",
    "    multiplicacion = 1\n",
    "    for elemento in lst:\n",
    "        multiplicacion *= elemento\n",
    "    return multiplicacion"
   ]
  },
  {
   "cell_type": "code",
   "execution_count": 9,
   "metadata": {},
   "outputs": [
    {
     "name": "stderr",
     "output_type": "stream",
     "text": [
      "....................................................................................................\n",
      "----------------------------------------------------------------------\n",
      "Ran 100 tests in 0.045s\n",
      "\n",
      "OK\n"
     ]
    }
   ],
   "source": [
    "check.test_multiplica_lista(multiplica_lista)"
   ]
  },
  {
   "cell_type": "markdown",
   "metadata": {},
   "source": [
    "## 5. Combina las funciones anteriores en una nueva función que recibe una lista, un operador `+` o `*` y devuelve el resultado\n",
    "\n",
    "Vamos a mejorar y combinar las funciones anteriores en una nueva función, abstrayendo la funcionalidad usando un operador como parámetro que decida a que función llamar."
   ]
  },
  {
   "cell_type": "code",
   "execution_count": 17,
   "metadata": {},
   "outputs": [],
   "source": [
    "def opera_lista(lst, op):\n",
    "    if op == '+':\n",
    "        return suma_lista(lst)\n",
    "    else:\n",
    "        return multiplica_lista(lst)"
   ]
  },
  {
   "cell_type": "code",
   "execution_count": 18,
   "metadata": {},
   "outputs": [
    {
     "name": "stderr",
     "output_type": "stream",
     "text": [
      "....................................................................................................\n",
      "----------------------------------------------------------------------\n",
      "Ran 100 tests in 0.038s\n",
      "\n",
      "OK\n"
     ]
    }
   ],
   "source": [
    "check.test_opera_lista(opera_lista)"
   ]
  },
  {
   "cell_type": "markdown",
   "metadata": {},
   "source": [
    "## 6. Escribe una función que devuelva el factorial de un número"
   ]
  },
  {
   "cell_type": "code",
   "execution_count": 23,
   "metadata": {},
   "outputs": [],
   "source": [
    "def factorial(n):\n",
    "    multiplicacion = 1\n",
    "    for numero in range(1,n+1):\n",
    "        multiplicacion *=numero\n",
    "    return multiplicacion"
   ]
  },
  {
   "cell_type": "code",
   "execution_count": 24,
   "metadata": {},
   "outputs": [
    {
     "name": "stderr",
     "output_type": "stream",
     "text": [
      "....................................................................................................\n",
      "----------------------------------------------------------------------\n",
      "Ran 100 tests in 0.046s\n",
      "\n",
      "OK\n"
     ]
    }
   ],
   "source": [
    "check.test_factorial(factorial)"
   ]
  },
  {
   "cell_type": "code",
   "execution_count": 25,
   "metadata": {},
   "outputs": [],
   "source": [
    "def factorial(n):\n",
    "    return multiplica_lista(range(1,n+1))"
   ]
  },
  {
   "cell_type": "code",
   "execution_count": 26,
   "metadata": {},
   "outputs": [
    {
     "name": "stderr",
     "output_type": "stream",
     "text": [
      "....................................................................................................\n",
      "----------------------------------------------------------------------\n",
      "Ran 100 tests in 0.042s\n",
      "\n",
      "OK\n"
     ]
    }
   ],
   "source": [
    "check.test_factorial(factorial)"
   ]
  },
  {
   "cell_type": "markdown",
   "metadata": {},
   "source": [
    "## 7. Escribe una función que recibe una lista y devuelve una lista con los valores únicos de esta\n",
    "\n",
    "⚠️ IMPORTANTE: No puedes usar `set()`"
   ]
  },
  {
   "cell_type": "code",
   "execution_count": 27,
   "metadata": {},
   "outputs": [],
   "source": [
    "def unicos(lst):\n",
    "    unicos = []\n",
    "    for elemento in lst:\n",
    "        if not elemento in unicos:\n",
    "            unicos.append(elemento)\n",
    "    return unicos"
   ]
  },
  {
   "cell_type": "code",
   "execution_count": 28,
   "metadata": {},
   "outputs": [
    {
     "name": "stderr",
     "output_type": "stream",
     "text": [
      "....................................................................................................\n",
      "----------------------------------------------------------------------\n",
      "Ran 100 tests in 0.107s\n",
      "\n",
      "OK\n"
     ]
    }
   ],
   "source": [
    "check.test_unicos(unicos)"
   ]
  },
  {
   "cell_type": "code",
   "execution_count": 29,
   "metadata": {},
   "outputs": [],
   "source": [
    "def unicos(lst):\n",
    "    unicos = []\n",
    "    for elemento in lst:\n",
    "        found = False\n",
    "        for elem_dos in unicos:\n",
    "            if elemento == elem_dos:\n",
    "                found = True\n",
    "                break\n",
    "        if found == False:\n",
    "            unicos.append(elemento)\n",
    "    return unicos"
   ]
  },
  {
   "cell_type": "code",
   "execution_count": 30,
   "metadata": {},
   "outputs": [
    {
     "name": "stderr",
     "output_type": "stream",
     "text": [
      "....................................................................................................\n",
      "----------------------------------------------------------------------\n",
      "Ran 100 tests in 0.217s\n",
      "\n",
      "OK\n"
     ]
    }
   ],
   "source": [
    "check.test_unicos(unicos)"
   ]
  },
  {
   "cell_type": "markdown",
   "metadata": {},
   "source": [
    "## 8. Escribe una función que devuelva la `moda` de una lista. Es decir, el elemento que mas veces aparece.\n",
    "\n",
    "Aquí tienes +info: https://es.wikipedia.org/wiki/Moda_(estad%C3%ADstica)\n",
    "\n",
    "⚠️IMPORTANTE: No deberías usar `count()`...😏🧐"
   ]
  },
  {
   "cell_type": "code",
   "execution_count": 43,
   "metadata": {},
   "outputs": [],
   "source": [
    "def calcula_moda(lst):\n",
    "    log = {}\n",
    "    for elemento in lst:\n",
    "        if elemento in log.keys():\n",
    "            log[elemento] += 1\n",
    "        else:\n",
    "            log[elemento] = 1\n",
    "    \n",
    "    numero_mayor, num_apariciones = 120, -1\n",
    "    for numero, apariciones in log.items():\n",
    "        if apariciones > num_apariciones:\n",
    "            numero_mayor = numero\n",
    "            num_apariciones = apariciones\n",
    "    return numero_mayor"
   ]
  },
  {
   "cell_type": "code",
   "execution_count": 44,
   "metadata": {},
   "outputs": [
    {
     "name": "stderr",
     "output_type": "stream",
     "text": [
      "....................................................................................................\n",
      "----------------------------------------------------------------------\n",
      "Ran 100 tests in 0.045s\n",
      "\n",
      "OK\n"
     ]
    }
   ],
   "source": [
    "check.test_calcula_moda(calcula_moda)"
   ]
  },
  {
   "cell_type": "markdown",
   "metadata": {},
   "source": [
    "## 9. Escribe una función que calcule la desviación típica de una lista. \n",
    "(STD o standard deviation es su traducción en inglés)\n",
    "\n",
    "- https://es.wikipedia.org/wiki/Desviaci%C3%B3n_t%C3%ADpica\n",
    "\n",
    "⚠️IMPORTANTE: No uses librerías para realizar el cálculo, aunque puedes usarlas para comprobar que el resultado es correcto.\n",
    "\n",
    "Aquí tienes la documentación oficial del módulo de estadística de python:\n",
    "- https://docs.python.org/3/library/statistics.html"
   ]
  },
  {
   "cell_type": "code",
   "execution_count": 47,
   "metadata": {},
   "outputs": [],
   "source": [
    "from statistics import stdev\n",
    "\n",
    "def st_dev(arr):\n",
    "    sumatorio = 0\n",
    "    num_elementos = 0\n",
    "    #Calculo la media\n",
    "    for numero in arr:\n",
    "        sumatorio += numero\n",
    "        num_elementos +=1\n",
    "    media = sumatorio/num_elementos\n",
    "    \n",
    "    # sumatorio de la diferencia del numero - media elevado al cuadrado\n",
    "    res = 0\n",
    "    for numero in arr:\n",
    "        res += (numero-media)**2\n",
    "        \n",
    "    # Resultado dividido entre N-1 elevado a 1/2 (raiz cuadrada)\n",
    "    res = (res/(num_elementos-1))**0.5\n",
    "    \n",
    "    return res"
   ]
  },
  {
   "cell_type": "code",
   "execution_count": 48,
   "metadata": {},
   "outputs": [
    {
     "name": "stderr",
     "output_type": "stream",
     "text": [
      "....................................................................................................\n",
      "----------------------------------------------------------------------\n",
      "Ran 100 tests in 0.050s\n",
      "\n",
      "OK\n"
     ]
    }
   ],
   "source": [
    "check.test_stdev(st_dev)"
   ]
  },
  {
   "cell_type": "markdown",
   "metadata": {},
   "source": [
    "## 10. Escribe una función que compruebe si una cadena de texto es un pangrama.\n",
    "\n",
    "- https://es.wikipedia.org/wiki/Pangrama\n",
    "\n",
    "Ejemplo: Es un pangrama si contiene todas las letras del alfabeto como mínimo una vez. \n",
    "\n",
    "OJO: Las cadenas de texto pueden contener carácteres que no sean letras. "
   ]
  },
  {
   "cell_type": "code",
   "execution_count": 68,
   "metadata": {},
   "outputs": [],
   "source": [
    "def pangram(s):\n",
    "    abc= \"abcdefghijklmnopqrstuvwxyz\"\n",
    "    for word in abc:\n",
    "        if word not in s.lower():\n",
    "            return False\n",
    "        \n",
    "    return True"
   ]
  },
  {
   "cell_type": "code",
   "execution_count": 69,
   "metadata": {},
   "outputs": [
    {
     "name": "stderr",
     "output_type": "stream",
     "text": [
      "........................................................................................................................\n",
      "----------------------------------------------------------------------\n",
      "Ran 120 tests in 0.053s\n",
      "\n",
      "OK\n"
     ]
    }
   ],
   "source": [
    "check.test_pangram(pangram)"
   ]
  },
  {
   "cell_type": "markdown",
   "metadata": {},
   "source": [
    "## 11. Escribe una función que recibe una cadena de texto de palabras separadas por el caracter coma `,` y devuelve una cadena de texto con las mismas palabras separadas por coma `,`, pero ordenadas alfabeticamente."
   ]
  },
  {
   "cell_type": "code",
   "execution_count": 88,
   "metadata": {},
   "outputs": [],
   "source": [
    "def sort_alpha(x):\n",
    "    lst = []\n",
    "    word = \"\"\n",
    "    longitud = 0\n",
    "    \n",
    "    # Guardo en una lista las palabras de la cadena de caracteres\n",
    "    for character in x:\n",
    "        if character != ',':\n",
    "            word += character\n",
    "        else:\n",
    "            lst.append(word)\n",
    "            longitud +=1\n",
    "            word = \"\"\n",
    "    lst = x.split(\",\")\n",
    "    \n",
    "    # Inserto una palabra en mi lista ordenada\n",
    "    order_list = [lst[0]]\n",
    "    # Para cada palabra de la lista generada anteriormente:\n",
    "    for word in lst[1:]:\n",
    "        index ,inserted = 0, False\n",
    "        while index < len(order_list):\n",
    "            # Compruebo si va antes que la palabra en la posicion 'index' de mi lista ordenada\n",
    "            if word < order_list[index]:\n",
    "                order_list.insert(index, word)\n",
    "                inserted = True\n",
    "                break\n",
    "            index += 1\n",
    "        # Si no he insertado la palabra, la añado al final de la lista\n",
    "        if inserted == False:\n",
    "            order_list.append(word)\n",
    "            \n",
    "    # Le vuelvo a dar forma de cadena de caracteres separada por comas\n",
    "    return \",\".join(order_list)"
   ]
  },
  {
   "cell_type": "code",
   "execution_count": 89,
   "metadata": {},
   "outputs": [
    {
     "name": "stderr",
     "output_type": "stream",
     "text": [
      "....................................................................................................\n",
      "----------------------------------------------------------------------\n",
      "Ran 100 tests in 0.047s\n",
      "\n",
      "OK\n"
     ]
    }
   ],
   "source": [
    "check.test_alpha(sort_alpha)"
   ]
  },
  {
   "cell_type": "markdown",
   "metadata": {},
   "source": [
    "## 12. Escribe una función que compruebe si un determinado password es suficientemente seguro, sigue las reglas proporcionadas:\n",
    "\n",
    "Reglas:\n",
    "- Como mínimo 8 caracteres\n",
    "- Como mínimo una mayúscula\n",
    "- Como mínimo un número\n",
    "- Como mínimo un caracter especial\n",
    "\n",
    "\n",
    "Caracteres especiales válidos: `# @ ! $ % & ( ) ^ * [ ] { }`\n",
    "\n",
    "⚠️**IMPORTANTE: Debe devolver `True` si la contraseña es segura y `False` en caso contrario**\n"
   ]
  },
  {
   "cell_type": "code",
   "execution_count": 90,
   "metadata": {},
   "outputs": [],
   "source": [
    "def check_pass(x):\n",
    "    l = 0\n",
    "    upper = False\n",
    "    num = False\n",
    "    special = False\n",
    "\n",
    "    for ch in x:\n",
    "        l += 1\n",
    "        if ch.isupper():\n",
    "            upper = True\n",
    "        if ch.isnumeric():\n",
    "            num = True\n",
    "        for sp in \"#@!$%&()^*[]{}\":\n",
    "            if ch == sp:\n",
    "                special = True\n",
    "    return (l>=8) and upper and num and special"
   ]
  },
  {
   "cell_type": "code",
   "execution_count": 91,
   "metadata": {},
   "outputs": [
    {
     "name": "stderr",
     "output_type": "stream",
     "text": [
      "....................................................................................................\n",
      "----------------------------------------------------------------------\n",
      "Ran 100 tests in 0.047s\n",
      "\n",
      "OK\n"
     ]
    }
   ],
   "source": [
    "check.test_passwd(check_pass)"
   ]
  },
  {
   "cell_type": "markdown",
   "metadata": {},
   "source": [
    "## 🥳 ¡¡¡Enhorabuena,  has terminado!!! 🔥🔥🔥"
   ]
  }
 ],
 "metadata": {
  "kernelspec": {
   "display_name": "Python 3 (ipykernel)",
   "language": "python",
   "name": "python3"
  },
  "language_info": {
   "codemirror_mode": {
    "name": "ipython",
    "version": 3
   },
   "file_extension": ".py",
   "mimetype": "text/x-python",
   "name": "python",
   "nbconvert_exporter": "python",
   "pygments_lexer": "ipython3",
   "version": "3.9.7"
  },
  "toc": {
   "base_numbering": 1,
   "nav_menu": {},
   "number_sections": false,
   "sideBar": true,
   "skip_h1_title": true,
   "title_cell": "Table of Contents",
   "title_sidebar": "Contents",
   "toc_cell": false,
   "toc_position": {
    "height": "calc(100% - 180px)",
    "left": "10px",
    "top": "150px",
    "width": "284px"
   },
   "toc_section_display": true,
   "toc_window_display": false
  }
 },
 "nbformat": 4,
 "nbformat_minor": 4
}
