{
 "cells": [
  {
   "cell_type": "markdown",
   "id": "1f8f4c43",
   "metadata": {},
   "source": [
    "![](https://api.brandy.run/core/core-logo-wide)\n",
    "\n",
    "# Generator and Higher-Order Functions  Exercises"
   ]
  },
  {
   "cell_type": "markdown",
   "id": "6b0c7b23",
   "metadata": {},
   "source": [
    "## Generator Functions\n",
    "### Halley's Comet\n",
    "\n",
    "![](img/halley.jpeg)\n",
    "\n",
    "El [cometa Halley ☄️ ](https://en.wikipedia.org/wiki/Halley%27s_Comet) es sin duda el más famoso de todos los cometas. Ese cuerpo celeste es el único cometa de período corto conocído que es visible desde la Tierra. Por su período de $\\approx 75$ años permite que algunas personas lo vean 2 veces en su vida!\n",
    "\n",
    "Sabiendo que la última vez que se pudo ver ese cometa fué en el año 1986, escriba una función generadora `halley` que reciba dos parámetros: un año y un número entero `n`. La función debe generar las `n` siguientes pasajes del cometa Halley. Si el año pasado por parametro es un año de pasaje del cometa, ese debe ser el primer valor generado."
   ]
  },
  {
   "cell_type": "code",
   "execution_count": 1,
   "id": "7b80193b",
   "metadata": {},
   "outputs": [
    {
     "name": "stdout",
     "output_type": "stream",
     "text": [
      "steps = 0   ---   year = 1986\n",
      "1986\n"
     ]
    },
    {
     "data": {
      "text/plain": [
       "[1986, 2061, 2136, 2211]"
      ]
     },
     "execution_count": 1,
     "metadata": {},
     "output_type": "execute_result"
    }
   ],
   "source": [
    "def halley(year,n):\n",
    "    steps = (year - 1986)//75  # Obtengo cuantas veces hay que multiplicar 75 para obtener la fecha del cometa\n",
    "    print(f\"{steps = }   ---   {year = }\")\n",
    "    \n",
    "    comet_year = 1986 + steps*75 # Calculo el año del cometa anterior a la fecha pasada por parametro\n",
    "    print(comet_year)\n",
    "    \n",
    "    for i in range(n):\n",
    "        yield comet_year + i * 75\n",
    "\n",
    "list(halley(1986,4))"
   ]
  },
  {
   "cell_type": "markdown",
   "id": "5e0638fd",
   "metadata": {},
   "source": [
    "### Prime Numbers\n",
    "![](img/primes.png)\n",
    "Los números primos son aquellos que no son divisibles por ningun otro, salvo si mismo y $1$. Escriba una función generadora `primes` que reciba un parámetro `n` y genere infinitamente los primos mayores o iguales a `n`."
   ]
  },
  {
   "cell_type": "code",
   "execution_count": 2,
   "id": "dd50cb59",
   "metadata": {},
   "outputs": [
    {
     "name": "stdout",
     "output_type": "stream",
     "text": [
      "2\n",
      "3\n",
      "5\n",
      "7\n",
      "11\n",
      "13\n",
      "17\n"
     ]
    }
   ],
   "source": [
    "# Creo una funcion que me diga si un numero es primo o no lo es\n",
    "def is_prime(n):\n",
    "    if n <= 1:\n",
    "        return False\n",
    "    for div in range(2,(n//2)+1):  # Intento dividir al numero n entre todos los numeros desde el 2 hasta n/2\n",
    "        if n%div == 0:  # Si encuentro un divisor de n, devuelvo False. El numero no es primo\n",
    "            return False\n",
    "    return True\n",
    "\n",
    "def primes(n=0):\n",
    "    while True:\n",
    "        if is_prime(n):  # Si el numero es primo, lo devuelvo con el yield\n",
    "            yield n\n",
    "        n+=1  # Como tengo que devolver primos infinitamente, incremento el numero para la siguiente iteracion\n",
    "    \n",
    "prime_numbers = primes()\n",
    "for _ in range(7):\n",
    "    print(next(prime_numbers))"
   ]
  },
  {
   "cell_type": "markdown",
   "id": "d4e8851c",
   "metadata": {},
   "source": [
    "### Infinite iteration\n",
    "<a href=\"https://open.spotify.com/album/1VjP9cxJA3lD6oPsV8WqYf?si=O5Pf6NCpScevROA99YcgiA&dl_branch=1\"><img src=\"img/ouroboros.png\"/></a>\n",
    "En ese ejercicio, deberás crear una funcion generadora `cyclic_iter` que recibe una iterable (lista, etc.) y permita iterar sobre ella ciclicamente. Cuando la iteración llegue al ultimo elemento, debe volver al primero.\n",
    "\n",
    "Ej:\n",
    "\n",
    "```python\n",
    "lst = [1,2,3]\n",
    "it = cyclic_iter(lst)\n",
    "for _ in range(5):\n",
    "    print(next(it))\n",
    "```\n",
    "output:\n",
    "```\n",
    "1\n",
    "2\n",
    "3\n",
    "1\n",
    "2\n",
    "```"
   ]
  },
  {
   "cell_type": "code",
   "execution_count": 3,
   "id": "84420d2f",
   "metadata": {},
   "outputs": [
    {
     "name": "stdout",
     "output_type": "stream",
     "text": [
      "1\n",
      "2\n",
      "3\n",
      "1\n",
      "2\n",
      "3\n"
     ]
    }
   ],
   "source": [
    "def cyclic_iter(iterable):\n",
    "    while True:\n",
    "        num = iterable.pop(0) # Quito el primer numero de la lista\n",
    "        yield num  # Devuelvo el numero\n",
    "        iterable.append(num)  # Lo añado al final de la lista\n",
    "        \n",
    "inf_list = cyclic_iter([1,2,3])\n",
    "for _ in range(6):\n",
    "    print(next(inf_list))"
   ]
  },
  {
   "cell_type": "markdown",
   "id": "f7509055",
   "metadata": {},
   "source": [
    "### Fibonacci\n",
    "\n",
    "![](img/fibonacci.png)\n",
    "Escriba la función generadora `fibonacci` que genere los numeros de la secuencia de Fibonacci:\n",
    "```\n",
    "1 .. 1 .. 2 .. 3 .. 5 .. 8 .. 13 .. 21 .. 34 ..\n",
    "```"
   ]
  },
  {
   "cell_type": "code",
   "execution_count": 4,
   "id": "bafa67e4",
   "metadata": {},
   "outputs": [
    {
     "name": "stdout",
     "output_type": "stream",
     "text": [
      "1\n",
      "1\n",
      "2\n",
      "3\n",
      "5\n",
      "8\n"
     ]
    }
   ],
   "source": [
    "def fibonacci():\n",
    "    a,b = 0,1 # Necesito los dos primeros numeros de fibonacci para poder generar la secuencia\n",
    "    while True:\n",
    "        aux = a+b # Genero el siguiente número de la secuencia\n",
    "        a = b \n",
    "        b = aux  # b pasa a ser el ultimo numero generado de la secuencia\n",
    "        yield a\n",
    "\n",
    "fib = fibonacci()\n",
    "for _ in range(6):\n",
    "    print(next(fib))"
   ]
  },
  {
   "cell_type": "markdown",
   "id": "0ba4159d",
   "metadata": {},
   "source": [
    "### Morse translator\n",
    "![](img/morse.jpeg)\n",
    "\n",
    "Utilizando el diccionario disponibilizado, escriba las dos siguientes funciones generadoras:\n",
    "\n",
    "- morse_encoder\n",
    "\n",
    "Esa función debe recibir un string de texto (mayúsculas y minúsculas) y generar caracter a caracter la codificación del mensaje a código Morse. Los espacios deben ser generados como un espacio tal cual (`\" \"`) para indicar la separación de dos palabras.\n",
    "\n",
    "- morse_decoder\n",
    "\n",
    "Esa función debe hacer el proceso reverso, recibir un mensaje en morse y generar caracter a caracter la decodificación. Los diferentes caracteres estarán separados por un espacio (`\" \"`) y las diferentes palabras están separadas por trés espacios (`\"   \"`), que deberá ser representado como un espacio entre las palabras.\n",
    "\n",
    "En ambos los casos cualquier caracter no presente en el diccionario deberá ser traducido a `X` o `-..-`, su equivalente en morse."
   ]
  },
  {
   "cell_type": "code",
   "execution_count": 5,
   "id": "3d0cc40c",
   "metadata": {},
   "outputs": [],
   "source": [
    "MORSE_CODE = { 'A':'.-', 'B':'-...',\n",
    "               'C':'-.-.', 'D':'-..', 'E':'.',\n",
    "               'F':'..-.', 'G':'--.', 'H':'....',\n",
    "               'I':'..', 'J':'.---', 'K':'-.-',\n",
    "               'L':'.-..', 'M':'--', 'N':'-.',\n",
    "               'O':'---', 'P':'.--.', 'Q':'--.-',\n",
    "               'R':'.-.', 'S':'...', 'T':'-',\n",
    "               'U':'..-', 'V':'...-', 'W':'.--',\n",
    "               'X':'-..-', 'Y':'-.--', 'Z':'--..',\n",
    "               '1':'.----', '2':'..---', '3':'...--',\n",
    "               '4':'....-', '5':'.....', '6':'-....',\n",
    "               '7':'--...', '8':'---..', '9':'----.',\n",
    "               '0':'-----', ',':'--..--', '.':'.-.-.-',\n",
    "               '?':'..--..', '/':'-..-.', '-':'-....-',\n",
    "               '(':'-.--.', ')':'-.--.-'}\n",
    "\n",
    "def morse_encoder(string):\n",
    "    for letter in string:\n",
    "        letter = letter.upper()\n",
    "        yield MORSE_CODE.get(letter,{\" \":\" \"}.get(letter,MORSE_CODE.get(\"X\")))\n",
    "\n",
    "# Genero un diccionario identico a MORSE_CODE pero invertidas las keys y los values\n",
    "# Esto me facilita resolver la funcion `morse_decoder`\n",
    "MORSE_REVERSE = {v:k for k,v in MORSE_CODE.items()}\n",
    "\n",
    "def morse_decoder(string):\n",
    "    string = string.replace(\" \"*3,\" space \")  # Sustituyo los 3 espacios entre palabras por la palabra `space` \n",
    "                                              #y un espacio a cada lado para que el split funcione\n",
    "    for letter in string.split():\n",
    "        print(letter)\n",
    "        # Compruebo si el codigo morse del caracter está en el diccionario\n",
    "        if letter in MORSE_REVERSE.keys():\n",
    "            yield MORSE_REVERSE[letter]\n",
    "        elif letter == \"space\": # Si es la palabra space, devuelvo un espacio\n",
    "            yield \" \"\n",
    "        else:\n",
    "            yield \"X\""
   ]
  },
  {
   "cell_type": "code",
   "execution_count": 6,
   "id": "4bae1f75",
   "metadata": {},
   "outputs": [
    {
     "data": {
      "text/plain": [
       "'.... . .-.. .-.. ---   .-- --- .-. .-.. -.. -..- -..- -..-'"
      ]
     },
     "execution_count": 6,
     "metadata": {},
     "output_type": "execute_result"
    }
   ],
   "source": [
    "\" \".join(morse_encoder(\"Hello World&&&\"))"
   ]
  },
  {
   "cell_type": "code",
   "execution_count": 7,
   "id": "a607008f",
   "metadata": {},
   "outputs": [
    {
     "name": "stdout",
     "output_type": "stream",
     "text": [
      "....\n",
      ".\n",
      ".-..\n",
      ".-..\n",
      "---\n",
      "space\n",
      ".--\n",
      "---\n",
      ".-.\n",
      ".-..\n",
      "-..\n",
      "-------------\n",
      "&&&&\n"
     ]
    },
    {
     "data": {
      "text/plain": [
       "'HELLO WORLDXX'"
      ]
     },
     "execution_count": 7,
     "metadata": {},
     "output_type": "execute_result"
    }
   ],
   "source": [
    "\"\".join(morse_decoder('.... . .-.. .-.. ---   .-- --- .-. .-.. -.. ------------- &&&&'))"
   ]
  },
  {
   "cell_type": "code",
   "execution_count": null,
   "id": "5a05018d",
   "metadata": {},
   "outputs": [],
   "source": []
  }
 ],
 "metadata": {
  "kernelspec": {
   "display_name": "Python 3 (ipykernel)",
   "language": "python",
   "name": "python3"
  },
  "language_info": {
   "codemirror_mode": {
    "name": "ipython",
    "version": 3
   },
   "file_extension": ".py",
   "mimetype": "text/x-python",
   "name": "python",
   "nbconvert_exporter": "python",
   "pygments_lexer": "ipython3",
   "version": "3.9.7"
  },
  "toc": {
   "base_numbering": 1,
   "nav_menu": {},
   "number_sections": true,
   "sideBar": true,
   "skip_h1_title": true,
   "title_cell": "Table of Contents",
   "title_sidebar": "Contents",
   "toc_cell": true,
   "toc_position": {},
   "toc_section_display": true,
   "toc_window_display": false
  }
 },
 "nbformat": 4,
 "nbformat_minor": 5
}
