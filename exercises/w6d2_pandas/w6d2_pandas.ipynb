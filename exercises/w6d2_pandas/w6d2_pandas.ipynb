{
 "cells": [
  {
   "cell_type": "markdown",
   "id": "e2791b6e",
   "metadata": {},
   "source": [
    "![](https://api.brandy.run/core/core-logo-wide)\n",
    "\n",
    "# Pandas Exercise\n",
    "\n",
    "En ese ejercicio haremos un pequeño análisis exploratorio y limpieza de datos. Carga el dataframe abajo e\n",
    "investiga su contenido."
   ]
  },
  {
   "cell_type": "code",
   "execution_count": 1,
   "id": "c7848b77",
   "metadata": {},
   "outputs": [],
   "source": [
    "import pandas as pd\n",
    "df = pd.read_csv(\"../../data/cars_messy.csv\")"
   ]
  },
  {
   "cell_type": "code",
   "execution_count": 2,
   "id": "a8093a50",
   "metadata": {},
   "outputs": [
    {
     "data": {
      "text/html": [
       "<div>\n",
       "<style scoped>\n",
       "    .dataframe tbody tr th:only-of-type {\n",
       "        vertical-align: middle;\n",
       "    }\n",
       "\n",
       "    .dataframe tbody tr th {\n",
       "        vertical-align: top;\n",
       "    }\n",
       "\n",
       "    .dataframe thead th {\n",
       "        text-align: right;\n",
       "    }\n",
       "</style>\n",
       "<table border=\"1\" class=\"dataframe\">\n",
       "  <thead>\n",
       "    <tr style=\"text-align: right;\">\n",
       "      <th></th>\n",
       "      <th>make</th>\n",
       "      <th>model</th>\n",
       "      <th>year</th>\n",
       "      <th>engine displacement</th>\n",
       "      <th>cylinders</th>\n",
       "      <th>transmission</th>\n",
       "      <th>drivetrain</th>\n",
       "      <th>vehicle class</th>\n",
       "      <th>fuel type</th>\n",
       "      <th>fuel barrels/year</th>\n",
       "      <th>city mpg</th>\n",
       "      <th>highway mpg</th>\n",
       "      <th>combined mpg</th>\n",
       "      <th>co2 emission grams/mile</th>\n",
       "      <th>fuel cost/year</th>\n",
       "    </tr>\n",
       "  </thead>\n",
       "  <tbody>\n",
       "    <tr>\n",
       "      <th>0</th>\n",
       "      <td>Alfa Romeo</td>\n",
       "      <td>Spider Veloce 2000</td>\n",
       "      <td>1985</td>\n",
       "      <td>2.0</td>\n",
       "      <td>4.0</td>\n",
       "      <td>Manual 5-spd</td>\n",
       "      <td>Rear-Wheel Drive</td>\n",
       "      <td>Two Seaters</td>\n",
       "      <td>Regular</td>\n",
       "      <td>15.695714</td>\n",
       "      <td>19</td>\n",
       "      <td>25</td>\n",
       "      <td>21</td>\n",
       "      <td>-1</td>\n",
       "      <td>1600</td>\n",
       "    </tr>\n",
       "    <tr>\n",
       "      <th>1</th>\n",
       "      <td>Ferrari</td>\n",
       "      <td>Testarossa</td>\n",
       "      <td>1985</td>\n",
       "      <td>4.9</td>\n",
       "      <td>12.0</td>\n",
       "      <td>Manual 5-spd</td>\n",
       "      <td>Rear-Wheel Drive</td>\n",
       "      <td>Two Seaters</td>\n",
       "      <td>Regular</td>\n",
       "      <td>29.964545</td>\n",
       "      <td>9</td>\n",
       "      <td>14</td>\n",
       "      <td>11</td>\n",
       "      <td>-1</td>\n",
       "      <td>3050</td>\n",
       "    </tr>\n",
       "    <tr>\n",
       "      <th>2</th>\n",
       "      <td>Dodge</td>\n",
       "      <td>Charger</td>\n",
       "      <td>1985</td>\n",
       "      <td>2.2</td>\n",
       "      <td>4.0</td>\n",
       "      <td>Manual 5-spd</td>\n",
       "      <td>Front-Wheel Drive</td>\n",
       "      <td>Subcompact Cars</td>\n",
       "      <td>Regular</td>\n",
       "      <td>12.207778</td>\n",
       "      <td>23</td>\n",
       "      <td>33</td>\n",
       "      <td>27</td>\n",
       "      <td>-1</td>\n",
       "      <td>1250</td>\n",
       "    </tr>\n",
       "    <tr>\n",
       "      <th>3</th>\n",
       "      <td>Dodge</td>\n",
       "      <td>B150/B250 Wagon 2WD</td>\n",
       "      <td>1985</td>\n",
       "      <td>5.2</td>\n",
       "      <td>8.0</td>\n",
       "      <td>Automatic 3-spd</td>\n",
       "      <td>Rear-Wheel Drive</td>\n",
       "      <td>Vans</td>\n",
       "      <td>Regular</td>\n",
       "      <td>29.964545</td>\n",
       "      <td>10</td>\n",
       "      <td>12</td>\n",
       "      <td>11</td>\n",
       "      <td>-1</td>\n",
       "      <td>3050</td>\n",
       "    </tr>\n",
       "    <tr>\n",
       "      <th>4</th>\n",
       "      <td>Subaru</td>\n",
       "      <td>Legacy AWD Turbo</td>\n",
       "      <td>1993</td>\n",
       "      <td>2.2</td>\n",
       "      <td>4.0</td>\n",
       "      <td>Manual 5-spd</td>\n",
       "      <td>4-Wheel or All-Wheel Drive</td>\n",
       "      <td>Compact Cars</td>\n",
       "      <td>Premium</td>\n",
       "      <td>17.347895</td>\n",
       "      <td>17</td>\n",
       "      <td>23</td>\n",
       "      <td>19</td>\n",
       "      <td>-1</td>\n",
       "      <td>2150</td>\n",
       "    </tr>\n",
       "  </tbody>\n",
       "</table>\n",
       "</div>"
      ],
      "text/plain": [
       "         make                model  year  engine displacement  cylinders  \\\n",
       "0  Alfa Romeo   Spider Veloce 2000  1985                  2.0        4.0   \n",
       "1     Ferrari           Testarossa  1985                  4.9       12.0   \n",
       "2       Dodge              Charger  1985                  2.2        4.0   \n",
       "3       Dodge  B150/B250 Wagon 2WD  1985                  5.2        8.0   \n",
       "4      Subaru     Legacy AWD Turbo  1993                  2.2        4.0   \n",
       "\n",
       "      transmission                  drivetrain    vehicle class fuel type  \\\n",
       "0     Manual 5-spd            Rear-Wheel Drive      Two Seaters   Regular   \n",
       "1     Manual 5-spd            Rear-Wheel Drive      Two Seaters   Regular   \n",
       "2     Manual 5-spd           Front-Wheel Drive  Subcompact Cars   Regular   \n",
       "3  Automatic 3-spd            Rear-Wheel Drive             Vans   Regular   \n",
       "4     Manual 5-spd  4-Wheel or All-Wheel Drive     Compact Cars   Premium   \n",
       "\n",
       "   fuel barrels/year  city mpg  highway mpg  combined mpg  \\\n",
       "0          15.695714        19           25            21   \n",
       "1          29.964545         9           14            11   \n",
       "2          12.207778        23           33            27   \n",
       "3          29.964545        10           12            11   \n",
       "4          17.347895        17           23            19   \n",
       "\n",
       "   co2 emission grams/mile  fuel cost/year  \n",
       "0                       -1            1600  \n",
       "1                       -1            3050  \n",
       "2                       -1            1250  \n",
       "3                       -1            3050  \n",
       "4                       -1            2150  "
      ]
     },
     "execution_count": 2,
     "metadata": {},
     "output_type": "execute_result"
    }
   ],
   "source": [
    "df.head()"
   ]
  },
  {
   "cell_type": "markdown",
   "id": "8b326ed1",
   "metadata": {},
   "source": [
    "- ¿Cuántas columnas y filas hay en el dataframe?"
   ]
  },
  {
   "cell_type": "code",
   "execution_count": null,
   "id": "54b7e418",
   "metadata": {},
   "outputs": [],
   "source": []
  },
  {
   "cell_type": "markdown",
   "id": "25e604da",
   "metadata": {},
   "source": [
    "- ¿Hay duplicados? Si los hay, ¿cuántos? Elimina esos duplicados."
   ]
  },
  {
   "cell_type": "code",
   "execution_count": null,
   "id": "f5cdb43f",
   "metadata": {},
   "outputs": [],
   "source": []
  },
  {
   "cell_type": "markdown",
   "id": "7adc9b4e",
   "metadata": {},
   "source": [
    "- ¿Hay nulos? ¿Cuantos?"
   ]
  },
  {
   "cell_type": "code",
   "execution_count": null,
   "id": "4e14e557",
   "metadata": {},
   "outputs": [],
   "source": []
  },
  {
   "cell_type": "markdown",
   "id": "b7378b6c",
   "metadata": {},
   "source": [
    "- ¿Que porcentual de nulos tiene la columna con más nulos? ¿Te parece un valor muy significativo?"
   ]
  },
  {
   "cell_type": "code",
   "execution_count": null,
   "id": "cfac6699",
   "metadata": {},
   "outputs": [],
   "source": []
  },
  {
   "cell_type": "markdown",
   "id": "b2277f71",
   "metadata": {},
   "source": [
    "- ¿Los tipos de datos reconocidos por pandas para las columnas son coherentes con la información contenida en ellas?"
   ]
  },
  {
   "cell_type": "code",
   "execution_count": null,
   "id": "404fa5de",
   "metadata": {},
   "outputs": [],
   "source": []
  },
  {
   "cell_type": "markdown",
   "id": "f24ffe34",
   "metadata": {},
   "source": [
    "- ¿Cuáles son las columnas con valores numéricos y cuáles son las categóricas?"
   ]
  },
  {
   "cell_type": "code",
   "execution_count": null,
   "id": "8d479a72",
   "metadata": {},
   "outputs": [],
   "source": []
  },
  {
   "cell_type": "markdown",
   "id": "15a8f1b8",
   "metadata": {},
   "source": [
    "- Llama al método describe con apenas las columnas categóricas."
   ]
  },
  {
   "cell_type": "code",
   "execution_count": null,
   "id": "fb93ba3b",
   "metadata": {
    "scrolled": true
   },
   "outputs": [],
   "source": []
  },
  {
   "cell_type": "markdown",
   "id": "2a619bb9",
   "metadata": {},
   "source": [
    "En las columnas `transmission, drivetrain, vehicle class, fuel type`: \n",
    "- ¿hay valores incorrectamente marcados? \n",
    "- ¿Hay diferentes variaciones de escritura de un mismo valor?\n",
    "- ¿Hay alguna de esas columnas que consideres que contiene datos mejor representados en dos columnas diferentes?\n",
    "\n",
    "Utiliza las herramientas de pandas que conoces para arreglar esos problemas"
   ]
  },
  {
   "cell_type": "code",
   "execution_count": null,
   "id": "de8dcff9",
   "metadata": {},
   "outputs": [],
   "source": []
  },
  {
   "cell_type": "markdown",
   "id": "ca3bc38e",
   "metadata": {},
   "source": [
    "- Llama al método describe con apenas las columnas numéricas."
   ]
  },
  {
   "cell_type": "code",
   "execution_count": null,
   "id": "bf698e1a",
   "metadata": {
    "scrolled": true
   },
   "outputs": [],
   "source": []
  },
  {
   "cell_type": "markdown",
   "id": "e8f2f93c",
   "metadata": {},
   "source": [
    "Mirando la tabla del describe\n",
    "- ¿Hay alguna de las columnas que contiene valores equivocados?\n",
    "\n",
    "- Si sí, ¿cuáles? \n",
    "- ¿Como podrías arreglar esos datos?\n",
    "- ¿Alguna otra columna te da información relevante sobre esos datos?"
   ]
  },
  {
   "cell_type": "code",
   "execution_count": null,
   "id": "b1535a12",
   "metadata": {},
   "outputs": [],
   "source": []
  }
 ],
 "metadata": {
  "kernelspec": {
   "display_name": "Python 3 (ipykernel)",
   "language": "python",
   "name": "python3"
  },
  "language_info": {
   "codemirror_mode": {
    "name": "ipython",
    "version": 3
   },
   "file_extension": ".py",
   "mimetype": "text/x-python",
   "name": "python",
   "nbconvert_exporter": "python",
   "pygments_lexer": "ipython3",
   "version": "3.9.7"
  },
  "toc": {
   "base_numbering": 1,
   "nav_menu": {},
   "number_sections": false,
   "sideBar": true,
   "skip_h1_title": true,
   "title_cell": "Table of Contents",
   "title_sidebar": "Contents",
   "toc_cell": false,
   "toc_position": {},
   "toc_section_display": true,
   "toc_window_display": false
  }
 },
 "nbformat": 4,
 "nbformat_minor": 5
}
