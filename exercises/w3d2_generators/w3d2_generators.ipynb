{
 "cells": [
  {
   "cell_type": "markdown",
   "id": "1f8f4c43",
   "metadata": {},
   "source": [
    "![](https://api.brandy.run/core/core-logo-wide)\n",
    "\n",
    "# Exercise: Generator functions\n",
    "\n",
    "- https://realpython.com/introduction-to-python-generators/"
   ]
  },
  {
   "cell_type": "markdown",
   "id": "6b0c7b23",
   "metadata": {},
   "source": [
    "### Ejercicio 1: Halley's Comet\n",
    "\n",
    "<img src=\"img/halley.jpeg\" width=\"200\">\n",
    "\n",
    "El [cometa Halley ☄️ ](https://en.wikipedia.org/wiki/Halley%27s_Comet) es sin duda el más famoso de todos los cometas. Ese cuerpo celeste es el único cometa de período corto conocído que es visible desde la Tierra. Por su período de $\\approx 75$ años permite que algunas personas lo vean 2 veces en su vida!\n",
    "\n",
    "Sabiendo que la última vez que se pudo ver ese cometa fué en el año 1986, escriba una función generadora `halley` que reciba dos parámetros: un año y un número entero `n`. La función debe generar las `n` siguientes pasajes del cometa Halley. Si el año pasado por parametro es un año de pasaje del cometa, ese debe ser el primer valor generado."
   ]
  },
  {
   "cell_type": "code",
   "execution_count": null,
   "id": "7b80193b",
   "metadata": {},
   "outputs": [],
   "source": [
    "def halley(year,n):\n",
    "    pass"
   ]
  },
  {
   "cell_type": "markdown",
   "id": "5e0638fd",
   "metadata": {},
   "source": [
    "### Ejercicio 2: Prime Numbers\n",
    "\n",
    "<img src=\"img/primes.png\" width=\"200\">\n",
    "\n",
    "Los números primos son aquellos que no son divisibles por ningun otro, salvo si mismo y $1$. Escriba una función generadora `primes` que reciba un parámetro `n` y genere infinitamente los primos mayores o iguales a `n`."
   ]
  },
  {
   "cell_type": "code",
   "execution_count": 1,
   "id": "dd50cb59",
   "metadata": {},
   "outputs": [],
   "source": [
    "def primes(n):\n",
    "    pass"
   ]
  },
  {
   "cell_type": "markdown",
   "id": "d4e8851c",
   "metadata": {},
   "source": [
    "## Ejercicio 3: Infinite iteration\n",
    "\n",
    "<img src=\"img/ouroboros.png\" width=\"200\"/>\n",
    "\n",
    "En ese ejercicio, deberás crear una funcion generadora `cyclic_iter` que recibe una iterable (lista, etc.) y permita iterar sobre ella ciclicamente. Cuando la iteración llegue al ultimo elemento, debe volver al primero.\n",
    "\n",
    "\n",
    "```python\n",
    "# Ejemplo\n",
    "lst = [1,2,3]\n",
    "it = cyclic_iter(lst)\n",
    "for _ in range(5):\n",
    "    print(next(it))\n",
    "```\n",
    "\n",
    "```\n",
    "Output:\n",
    "1\n",
    "2\n",
    "3\n",
    "1\n",
    "2\n",
    "```"
   ]
  },
  {
   "cell_type": "code",
   "execution_count": 2,
   "id": "d1863a4e",
   "metadata": {},
   "outputs": [],
   "source": [
    "def cyclic_iter(iterable):\n",
    "    pass"
   ]
  },
  {
   "cell_type": "markdown",
   "id": "f7509055",
   "metadata": {},
   "source": [
    "## Ejercicio 4: Fibonacci con función generadora\n",
    "\n",
    "<img src=\"img/fibonacci.png\" width=\"200\">\n",
    "\n",
    "Genera usando una función generadora la secuencia de `fibonacci`. Imprime los primeros 30 numeros de la misma usando la función que has creado.\n",
    "\n",
    "```\n",
    "Ejemplo\n",
    "1, 1, 2, 3, 5, 8, 13, 21, 34, etc\n",
    "```"
   ]
  },
  {
   "cell_type": "code",
   "execution_count": null,
   "id": "bafa67e4",
   "metadata": {},
   "outputs": [],
   "source": [
    "def fibonacci():\n",
    "    pass"
   ]
  },
  {
   "cell_type": "markdown",
   "id": "0ba4159d",
   "metadata": {},
   "source": [
    "## Ejercicio 5: Morse translator\n",
    "\n",
    "<img src=\"img/morse.jpeg\" width=\"200\">\n",
    "\n",
    "Utilizando el diccionario que te dejamos a continuación, escribe las dos siguientes funciones generadoras:\n",
    "\n",
    "- `morse_encoder()`: Esa función debe recibir un string de texto (mayúsculas y minúsculas) y generar caracter a caracter la codificación del mensaje a código Morse. Los espacios deben ser generados como un espacio tal cual (`\" \"`) para indicar la separación de dos palabras.\n",
    "\n",
    "- `morse_decoder()`: Esa función debe hacer el proceso reverso, recibir un mensaje en morse y generar caracter a caracter la decodificación. Los diferentes caracteres estarán separados por un espacio (`\" \"`) y las diferentes palabras están separadas por trés espacios (`\"   \"`), que deberá ser representado como un espacio entre las palabras.\n",
    "\n",
    "En ambos los casos cualquier caracter no presente en el diccionario deberá ser traducido a `X` o `-..-`, su equivalente en morse."
   ]
  },
  {
   "cell_type": "code",
   "execution_count": 4,
   "id": "3d0cc40c",
   "metadata": {},
   "outputs": [],
   "source": [
    "MORSE_CODE = { 'A':'.-', 'B':'-...',\n",
    "               'C':'-.-.', 'D':'-..', 'E':'.',\n",
    "               'F':'..-.', 'G':'--.', 'H':'....',\n",
    "               'I':'..', 'J':'.---', 'K':'-.-',\n",
    "               'L':'.-..', 'M':'--', 'N':'-.',\n",
    "               'O':'---', 'P':'.--.', 'Q':'--.-',\n",
    "               'R':'.-.', 'S':'...', 'T':'-',\n",
    "               'U':'..-', 'V':'...-', 'W':'.--',\n",
    "               'X':'-..-', 'Y':'-.--', 'Z':'--..',\n",
    "               '1':'.----', '2':'..---', '3':'...--',\n",
    "               '4':'....-', '5':'.....', '6':'-....',\n",
    "               '7':'--...', '8':'---..', '9':'----.',\n",
    "               '0':'-----', ',':'--..--', '.':'.-.-.-',\n",
    "               '?':'..--..', '/':'-..-.', '-':'-....-',\n",
    "               '(':'-.--.', ')':'-.--.-'}\n",
    "\n",
    "def morse_encoder(string):\n",
    "    pass\n",
    "\n",
    "def morse_decoder(string):\n",
    "    pass"
   ]
  }
 ],
 "metadata": {
  "kernelspec": {
   "display_name": "Python 3 (ipykernel)",
   "language": "python",
   "name": "python3"
  },
  "language_info": {
   "codemirror_mode": {
    "name": "ipython",
    "version": 3
   },
   "file_extension": ".py",
   "mimetype": "text/x-python",
   "name": "python",
   "nbconvert_exporter": "python",
   "pygments_lexer": "ipython3",
   "version": "3.9.7"
  },
  "toc": {
   "base_numbering": 1,
   "nav_menu": {},
   "number_sections": true,
   "sideBar": true,
   "skip_h1_title": true,
   "title_cell": "Table of Contents",
   "title_sidebar": "Contents",
   "toc_cell": true,
   "toc_position": {},
   "toc_section_display": true,
   "toc_window_display": false
  }
 },
 "nbformat": 4,
 "nbformat_minor": 5
}
