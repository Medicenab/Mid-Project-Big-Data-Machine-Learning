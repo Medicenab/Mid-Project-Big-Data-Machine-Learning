{
 "cells": [
  {
   "cell_type": "markdown",
   "id": "23c6fc20",
   "metadata": {},
   "source": [
    "![](https://api.brandy.run/core/core-logo-wide)\n",
    "\n",
    "# Error Handling and Decorators Exercises"
   ]
  },
  {
   "cell_type": "markdown",
   "id": "d0ed9046",
   "metadata": {},
   "source": [
    "## 1 Checking usernames\n",
    "En ese ejercicio, crearemos la funcionalidad para registrar usuarios en un nuevo programa. Los nombres de usuario solo pueden contener letras mayúsculas y minúsculas, números y barra baja (`_`).\n",
    "\n",
    "En la celda abajo, crea el error `InvalidUsernameError`. Su constructor debe recibir `username` y el mensaje de error. El error debe contener el método `suggest`, que devuelve el username invalido con los espacios, puntos y guiones substituidos por barra_baja (`\" \",\".\",\"-\" ---> \"_\"`) y demás caracteres inválidos removidos.\n",
    "\n",
    "Escribe la función `check_username` que verifica si un username es válido y lanza el error `InvalidUsernameError` en caso de que no sea."
   ]
  },
  {
   "cell_type": "code",
   "execution_count": null,
   "id": "eb5e0b8f",
   "metadata": {},
   "outputs": [],
   "source": [
    "def check_username(username):\n",
    "    pass\n",
    "class InvalidUsernameError(Exception):\n",
    "    pass"
   ]
  },
  {
   "cell_type": "markdown",
   "id": "7296f34f",
   "metadata": {},
   "source": [
    "## 2 Checking availability\n",
    "Guardaremos los usuarios válidos en un fichero, `data/users`, en la celda abajo encontrarás las funciones para leer los usuarios y añadir nuevos usuarios a ese fichero.\n",
    "\n",
    "Implemente abajo la función `check_availability` que verifica si un username ya existe y si ya existe, debería lanzar un error `UserAlreadyExists` que también debes implementar. Ese error no necesita diferenciarse en nada de `Exception` base.  "
   ]
  },
  {
   "cell_type": "code",
   "execution_count": null,
   "id": "a095d5e9",
   "metadata": {},
   "outputs": [],
   "source": [
    "def get_users(filename):\n",
    "    with open(filename,\"r\") as f:\n",
    "        for user in f.readlines():\n",
    "            yield user.strip()\n",
    "def write_user(username,filename):\n",
    "    with open(filename,\"a\") as f:\n",
    "        f.write(f\"\\n{username}\")\n",
    "    return \"Success\""
   ]
  },
  {
   "cell_type": "code",
   "execution_count": null,
   "id": "759f4e14",
   "metadata": {},
   "outputs": [],
   "source": [
    "def check_availability(username):\n",
    "    pass\n",
    "class UserAlreadyExists:\n",
    "    pass"
   ]
  },
  {
   "cell_type": "markdown",
   "id": "06d54a27",
   "metadata": {},
   "source": [
    "## 3 Registering user\n",
    "Ahora ya podemos registrar los usuarios, lo que haremos con la función `register_user`. Mediante input del usuario, esa función debe verificar si el nombre de usuario es válido y si ya existe un usuario con ese nombre. Si no hay problema, usa la función `write_user` para añadir ese usuario al registro.\n",
    "\n",
    "En caso de que el nombre de usuario sea invalido, llama al método `suggest` del error y sugiere esa alternativa al usuario, pidiéndole un nuevo input.\n",
    "\n",
    "Si el usuario ya existe, imprime al usuario un mensaje y pídele un nuevo username."
   ]
  },
  {
   "cell_type": "code",
   "execution_count": null,
   "id": "e920295d",
   "metadata": {},
   "outputs": [],
   "source": [
    "def register_user():\n",
    "    pass"
   ]
  },
  {
   "cell_type": "markdown",
   "id": "5a634879",
   "metadata": {},
   "source": [
    "## 4 Checking password security\n",
    "Escribe la función `check_password` para verificar si un password es seguro o no. Los passwords seguros deben contener por lo menos 8 caracteres, por lo menos un número, por lo menos una letra mayúscula y por lo menos una letra minúscula.\n",
    "\n",
    "En el caso de que el password contenga algún carácter que no sea número o letra, lanza el error `InvalidCharacterError` y en caso de que no cumpla las condiciones de seguridad, lanza el error `NotSecureError`."
   ]
  },
  {
   "cell_type": "code",
   "execution_count": null,
   "id": "1ac44345",
   "metadata": {},
   "outputs": [],
   "source": [
    "def check_password(password):\n",
    "    pass\n",
    "class InvalidCharacterError:\n",
    "    pass\n",
    "class NotSecureError:\n",
    "    pass"
   ]
  },
  {
   "cell_type": "markdown",
   "id": "7d8d1aaf",
   "metadata": {},
   "source": [
    "## 5 Repeating password\n",
    "Ahora ha llegado la hora de registrar los passwords de los usuarios. Para eso tendremos que pedir 2 veces que nos digite su password. \n",
    "\n",
    "`NOTE: Para digitar el password, use 'getpass' y no 'input'.`\n",
    "\n",
    "En el caso de que haya un carácter invalido al digitar el password la primera vez imprima el mensaje `f\"Invalid Character: {char}\"`, donde `char` es el carácter invalido. En seguida iniciamos el proceso otra vez.\n",
    "\n",
    "En el caso de que el password no sea seguro, imprime un mensaje describiendo las 4 condiciones de seguridad y volvemos a repetir el proceso.\n",
    "\n",
    "Si el password escrito la segunda vez no coincide con el password digitado la primera vez, imprime un mensaje y empieza de nuevo el proceso.\n",
    "\n",
    "Si todo va bien, devolvemos el mensaje `Password successfully registered`"
   ]
  },
  {
   "cell_type": "code",
   "execution_count": null,
   "id": "931766ff",
   "metadata": {},
   "outputs": [],
   "source": [
    "from getpass import getpass\n",
    "def register_password():\n",
    "    pass"
   ]
  }
 ],
 "metadata": {
  "kernelspec": {
   "display_name": "Python 3 (ipykernel)",
   "language": "python",
   "name": "python3"
  },
  "language_info": {
   "codemirror_mode": {
    "name": "ipython",
    "version": 3
   },
   "file_extension": ".py",
   "mimetype": "text/x-python",
   "name": "python",
   "nbconvert_exporter": "python",
   "pygments_lexer": "ipython3",
   "version": "3.9.7"
  },
  "toc": {
   "base_numbering": 1,
   "nav_menu": {},
   "number_sections": false,
   "sideBar": true,
   "skip_h1_title": true,
   "title_cell": "Table of Contents",
   "title_sidebar": "Contents",
   "toc_cell": true,
   "toc_position": {},
   "toc_section_display": true,
   "toc_window_display": false
  }
 },
 "nbformat": 4,
 "nbformat_minor": 5
}
