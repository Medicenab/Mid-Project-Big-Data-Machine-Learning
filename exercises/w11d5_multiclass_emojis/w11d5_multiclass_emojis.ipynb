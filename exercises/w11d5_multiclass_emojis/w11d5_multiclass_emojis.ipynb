{
 "cells": [
  {
   "cell_type": "markdown",
   "id": "05761ff7-94d2-40cb-baa7-883b2e4e77a9",
   "metadata": {},
   "source": [
    "![](https://api.brandy.run/core/core-logo-wide)\n",
    "\n",
    "# Supervised Learning: Emojis Multiclass\n",
    "\n",
    "Vamos ver un ejemplo más complejo con un modelo del tipo multioutput, en que la respuesta de una predicción no es un único valor, sino que un vector. Te auxiliaremos con parte del processo. Todas las celdas que requieren que escribas algo de código están propriamente identificadas."
   ]
  },
  {
   "cell_type": "code",
   "execution_count": 1,
   "id": "0381d8a8-d67c-4c48-b512-7a0950a65e7c",
   "metadata": {},
   "outputs": [],
   "source": [
    "from PIL import Image\n",
    "import numpy as np\n",
    "from os import listdir\n",
    "from matplotlib import pyplot as plt\n",
    "import warnings\n",
    "warnings.filterwarnings('ignore')"
   ]
  },
  {
   "cell_type": "code",
   "execution_count": 2,
   "id": "9917a9ea-f07d-4109-be92-911ba972e955",
   "metadata": {},
   "outputs": [],
   "source": [
    "# Definimos una variable `size` que en lugar de escribirla en cada instancia en que sea necesaria. \n",
    "# Eso nos permite con mayor facilidad entrenar nuestro modelo con imagenes mayores o menores.\n",
    "# Puedes eligir y probar otros valores para ese parámetro. Las imagenes originales posén (72,72).\n",
    "# Acuerdate que más pixeles son más features y en ese caso más modelos, con lo cual subir mucho ese \n",
    "# valor puede resultar en modemos que tarden mucho en el entrenamiento.\n",
    "\n",
    "size = (24,24)\n",
    "pixels = size[0]*size[1]"
   ]
  },
  {
   "cell_type": "code",
   "execution_count": 4,
   "id": "d19a9999-8449-4fb4-a04a-0a77c193f5f6",
   "metadata": {},
   "outputs": [],
   "source": [
    "X, y = [], []\n",
    "for folder in [\"Google\",\"Facebook\",\"Apple\",\"Samsung\",\"Windows\"]:\n",
    "    files = listdir(f\"./emojis/{folder}\")\n",
    "    for file in files:\n",
    "        if file == \".DS_Store\":\n",
    "            continue\n",
    "        path = f\"./emojis/{folder}/{file}\"\n",
    "        \n",
    "        # Abrimos cada imagen, escalando su tamaño al `size` eligido y convertiendo a RGB.\n",
    "        # La conversión a RGB remueve la transparéncia\n",
    "        color = Image.open(path).resize(size).convert(\"RGB\")\n",
    "        \n",
    "        # También hacemos una copia en escale de gris del imagen.\n",
    "        b_n_w = color.convert(\"L\")\n",
    "        \n",
    "        # Por último añadimos las imagenes a nuestras variables X y y.\n",
    "        y.append(np.array(color))\n",
    "        X.append(np.array(b_n_w))\n",
    "X,y = np.array(X),np.array(y)"
   ]
  },
  {
   "cell_type": "code",
   "execution_count": 5,
   "id": "a6704c32-a67d-4d4d-b1c7-195ad35a7c0d",
   "metadata": {},
   "outputs": [
    {
     "data": {
      "image/png": "[encoded data removed]",
      "text/plain": [
       "<Figure size 432x288 with 2 Axes>"
      ]
     },
     "metadata": {
      "needs_background": "light"
     },
     "output_type": "display_data"
    }
   ],
   "source": [
    "emoji_number = 0\n",
    "\n",
    "plt.subplot(1,2,1)\n",
    "plt.imshow(X[emoji_number],cmap=\"gray\")\n",
    "plt.title(\"X\")\n",
    "plt.axis(\"off\")\n",
    "\n",
    "plt.subplot(1,2,2)\n",
    "plt.imshow(y[emoji_number])\n",
    "plt.title(\"y\")\n",
    "plt.axis(\"off\")\n",
    "\n",
    "plt.show()"
   ]
  },
  {
   "cell_type": "markdown",
   "id": "37ee964a-055c-44bd-8029-82b8ec5689fb",
   "metadata": {},
   "source": [
    "## Step 1. Preparing Data\n",
    "\n",
    "Como puedes ver por nuestra definición de X e y, intentaremos entrenar un modelo que sea capaz de colorear un emoji en blanco y negro."
   ]
  },
  {
   "cell_type": "code",
   "execution_count": 6,
   "id": "139c770f-9b83-4fda-a558-19b30c589b03",
   "metadata": {},
   "outputs": [
    {
     "data": {
      "text/plain": [
       "(2096, 24, 24)"
      ]
     },
     "execution_count": 6,
     "metadata": {},
     "output_type": "execute_result"
    }
   ],
   "source": [
    "X.shape"
   ]
  },
  {
   "cell_type": "code",
   "execution_count": 7,
   "id": "f4f49282-b863-404a-88ef-35b0acbdf075",
   "metadata": {},
   "outputs": [
    {
     "data": {
      "text/plain": [
       "(2096, 24, 24, 3)"
      ]
     },
     "execution_count": 7,
     "metadata": {},
     "output_type": "execute_result"
    }
   ],
   "source": [
    "y.shape"
   ]
  },
  {
   "cell_type": "markdown",
   "id": "e6854993-2c44-43bc-a4b6-b7a096249290",
   "metadata": {},
   "source": [
    "Según los shapes de nuestros datos, la X (imagenes en blanco y negro) tiene 3 dimensiones y la y (imagenes en color) tiene 4 (la última siendo los 3 canales RGB). Es necesário que sean matrices bi-dimensionales. Ejecuta un `.reshape` con X para que pase a ser una matriz con `2096` imagenes (filas) con el valor de cada pixel como suas features (columnas)"
   ]
  },
  {
   "cell_type": "code",
   "execution_count": 8,
   "id": "d90c10c4-2446-47cd-b4a6-a2d72cac319b",
   "metadata": {},
   "outputs": [],
   "source": [
    "### ~~~ Esa celda requiere tu atención ~~~\n",
    "X = X.reshape"
   ]
  },
  {
   "cell_type": "markdown",
   "id": "b880e197-c8db-4744-acea-fd80bd5fa1b8",
   "metadata": {},
   "source": [
    "Hazlo apenas para la X, en el caso de las imagenes en color, tendremos que separar los 3 canales y lo haremos despues del `train_test_split`."
   ]
  },
  {
   "cell_type": "code",
   "execution_count": 9,
   "id": "bd991a48-55b7-4e6c-8b8d-bd432e3eee68",
   "metadata": {},
   "outputs": [
    {
     "data": {
      "image/png": "[encoded data removed]",
      "text/plain": [
       "<Figure size 432x288 with 3 Axes>"
      ]
     },
     "metadata": {
      "needs_background": "light"
     },
     "output_type": "display_data"
    }
   ],
   "source": [
    "for channel, color in enumerate([\"red\",\"green\",\"blue\"]):\n",
    "    plt.subplot(1,3,channel+1)\n",
    "    single_channel_image = y[0,:,:,channel]\n",
    "    plt.imshow(single_channel_image, cmap=color.title()+\"s\")\n",
    "    plt.title(color)\n",
    "    plt.axis(\"off\")"
   ]
  },
  {
   "cell_type": "code",
   "execution_count": 10,
   "id": "e575f9b2-5f3c-4111-9085-f1a3b05207a1",
   "metadata": {},
   "outputs": [],
   "source": [
    "from sklearn.model_selection import train_test_split"
   ]
  },
  {
   "cell_type": "code",
   "execution_count": 12,
   "id": "f9da3982-c4e4-4608-b8b1-07511ba9447b",
   "metadata": {},
   "outputs": [
    {
     "ename": "TypeError",
     "evalue": "Singleton array array(<built-in method reshape of numpy.ndarray object at 0x7fe3a3f90bd0>,\n      dtype=object) cannot be considered a valid collection.",
     "output_type": "error",
     "traceback": [
      "\u001b[0;31m---------------------------------------------------------------------------\u001b[0m",
      "\u001b[0;31mTypeError\u001b[0m                                 Traceback (most recent call last)",
      "\u001b[0;32m<ipython-input-12-705915f25b8b>\u001b[0m in \u001b[0;36m<module>\u001b[0;34m\u001b[0m\n\u001b[0;32m----> 1\u001b[0;31m \u001b[0mX_train\u001b[0m\u001b[0;34m,\u001b[0m \u001b[0mX_test\u001b[0m\u001b[0;34m,\u001b[0m \u001b[0my_train\u001b[0m\u001b[0;34m,\u001b[0m \u001b[0my_test\u001b[0m \u001b[0;34m=\u001b[0m \u001b[0mtrain_test_split\u001b[0m\u001b[0;34m(\u001b[0m\u001b[0mX\u001b[0m\u001b[0;34m,\u001b[0m\u001b[0my\u001b[0m\u001b[0;34m)\u001b[0m\u001b[0;34m\u001b[0m\u001b[0;34m\u001b[0m\u001b[0m\n\u001b[0m",
      "\u001b[0;32m~/miniconda3/lib/python3.9/site-packages/sklearn/model_selection/_split.py\u001b[0m in \u001b[0;36mtrain_test_split\u001b[0;34m(test_size, train_size, random_state, shuffle, stratify, *arrays)\u001b[0m\n\u001b[1;32m   2415\u001b[0m         \u001b[0;32mraise\u001b[0m \u001b[0mValueError\u001b[0m\u001b[0;34m(\u001b[0m\u001b[0;34m\"At least one array required as input\"\u001b[0m\u001b[0;34m)\u001b[0m\u001b[0;34m\u001b[0m\u001b[0;34m\u001b[0m\u001b[0m\n\u001b[1;32m   2416\u001b[0m \u001b[0;34m\u001b[0m\u001b[0m\n\u001b[0;32m-> 2417\u001b[0;31m     \u001b[0marrays\u001b[0m \u001b[0;34m=\u001b[0m \u001b[0mindexable\u001b[0m\u001b[0;34m(\u001b[0m\u001b[0;34m*\u001b[0m\u001b[0marrays\u001b[0m\u001b[0;34m)\u001b[0m\u001b[0;34m\u001b[0m\u001b[0;34m\u001b[0m\u001b[0m\n\u001b[0m\u001b[1;32m   2418\u001b[0m \u001b[0;34m\u001b[0m\u001b[0m\n\u001b[1;32m   2419\u001b[0m     \u001b[0mn_samples\u001b[0m \u001b[0;34m=\u001b[0m \u001b[0m_num_samples\u001b[0m\u001b[0;34m(\u001b[0m\u001b[0marrays\u001b[0m\u001b[0;34m[\u001b[0m\u001b[0;36m0\u001b[0m\u001b[0;34m]\u001b[0m\u001b[0;34m)\u001b[0m\u001b[0;34m\u001b[0m\u001b[0;34m\u001b[0m\u001b[0m\n",
      "\u001b[0;32m~/miniconda3/lib/python3.9/site-packages/sklearn/utils/validation.py\u001b[0m in \u001b[0;36mindexable\u001b[0;34m(*iterables)\u001b[0m\n\u001b[1;32m    376\u001b[0m \u001b[0;34m\u001b[0m\u001b[0m\n\u001b[1;32m    377\u001b[0m     \u001b[0mresult\u001b[0m \u001b[0;34m=\u001b[0m \u001b[0;34m[\u001b[0m\u001b[0m_make_indexable\u001b[0m\u001b[0;34m(\u001b[0m\u001b[0mX\u001b[0m\u001b[0;34m)\u001b[0m \u001b[0;32mfor\u001b[0m \u001b[0mX\u001b[0m \u001b[0;32min\u001b[0m \u001b[0miterables\u001b[0m\u001b[0;34m]\u001b[0m\u001b[0;34m\u001b[0m\u001b[0;34m\u001b[0m\u001b[0m\n\u001b[0;32m--> 378\u001b[0;31m     \u001b[0mcheck_consistent_length\u001b[0m\u001b[0;34m(\u001b[0m\u001b[0;34m*\u001b[0m\u001b[0mresult\u001b[0m\u001b[0;34m)\u001b[0m\u001b[0;34m\u001b[0m\u001b[0;34m\u001b[0m\u001b[0m\n\u001b[0m\u001b[1;32m    379\u001b[0m     \u001b[0;32mreturn\u001b[0m \u001b[0mresult\u001b[0m\u001b[0;34m\u001b[0m\u001b[0;34m\u001b[0m\u001b[0m\n\u001b[1;32m    380\u001b[0m \u001b[0;34m\u001b[0m\u001b[0m\n",
      "\u001b[0;32m~/miniconda3/lib/python3.9/site-packages/sklearn/utils/validation.py\u001b[0m in \u001b[0;36mcheck_consistent_length\u001b[0;34m(*arrays)\u001b[0m\n\u001b[1;32m    327\u001b[0m     \"\"\"\n\u001b[1;32m    328\u001b[0m \u001b[0;34m\u001b[0m\u001b[0m\n\u001b[0;32m--> 329\u001b[0;31m     \u001b[0mlengths\u001b[0m \u001b[0;34m=\u001b[0m \u001b[0;34m[\u001b[0m\u001b[0m_num_samples\u001b[0m\u001b[0;34m(\u001b[0m\u001b[0mX\u001b[0m\u001b[0;34m)\u001b[0m \u001b[0;32mfor\u001b[0m \u001b[0mX\u001b[0m \u001b[0;32min\u001b[0m \u001b[0marrays\u001b[0m \u001b[0;32mif\u001b[0m \u001b[0mX\u001b[0m \u001b[0;32mis\u001b[0m \u001b[0;32mnot\u001b[0m \u001b[0;32mNone\u001b[0m\u001b[0;34m]\u001b[0m\u001b[0;34m\u001b[0m\u001b[0;34m\u001b[0m\u001b[0m\n\u001b[0m\u001b[1;32m    330\u001b[0m     \u001b[0muniques\u001b[0m \u001b[0;34m=\u001b[0m \u001b[0mnp\u001b[0m\u001b[0;34m.\u001b[0m\u001b[0munique\u001b[0m\u001b[0;34m(\u001b[0m\u001b[0mlengths\u001b[0m\u001b[0;34m)\u001b[0m\u001b[0;34m\u001b[0m\u001b[0;34m\u001b[0m\u001b[0m\n\u001b[1;32m    331\u001b[0m     \u001b[0;32mif\u001b[0m \u001b[0mlen\u001b[0m\u001b[0;34m(\u001b[0m\u001b[0muniques\u001b[0m\u001b[0;34m)\u001b[0m \u001b[0;34m>\u001b[0m \u001b[0;36m1\u001b[0m\u001b[0;34m:\u001b[0m\u001b[0;34m\u001b[0m\u001b[0;34m\u001b[0m\u001b[0m\n",
      "\u001b[0;32m~/miniconda3/lib/python3.9/site-packages/sklearn/utils/validation.py\u001b[0m in \u001b[0;36m<listcomp>\u001b[0;34m(.0)\u001b[0m\n\u001b[1;32m    327\u001b[0m     \"\"\"\n\u001b[1;32m    328\u001b[0m \u001b[0;34m\u001b[0m\u001b[0m\n\u001b[0;32m--> 329\u001b[0;31m     \u001b[0mlengths\u001b[0m \u001b[0;34m=\u001b[0m \u001b[0;34m[\u001b[0m\u001b[0m_num_samples\u001b[0m\u001b[0;34m(\u001b[0m\u001b[0mX\u001b[0m\u001b[0;34m)\u001b[0m \u001b[0;32mfor\u001b[0m \u001b[0mX\u001b[0m \u001b[0;32min\u001b[0m \u001b[0marrays\u001b[0m \u001b[0;32mif\u001b[0m \u001b[0mX\u001b[0m \u001b[0;32mis\u001b[0m \u001b[0;32mnot\u001b[0m \u001b[0;32mNone\u001b[0m\u001b[0;34m]\u001b[0m\u001b[0;34m\u001b[0m\u001b[0;34m\u001b[0m\u001b[0m\n\u001b[0m\u001b[1;32m    330\u001b[0m     \u001b[0muniques\u001b[0m \u001b[0;34m=\u001b[0m \u001b[0mnp\u001b[0m\u001b[0;34m.\u001b[0m\u001b[0munique\u001b[0m\u001b[0;34m(\u001b[0m\u001b[0mlengths\u001b[0m\u001b[0;34m)\u001b[0m\u001b[0;34m\u001b[0m\u001b[0;34m\u001b[0m\u001b[0m\n\u001b[1;32m    331\u001b[0m     \u001b[0;32mif\u001b[0m \u001b[0mlen\u001b[0m\u001b[0;34m(\u001b[0m\u001b[0muniques\u001b[0m\u001b[0;34m)\u001b[0m \u001b[0;34m>\u001b[0m \u001b[0;36m1\u001b[0m\u001b[0;34m:\u001b[0m\u001b[0;34m\u001b[0m\u001b[0;34m\u001b[0m\u001b[0m\n",
      "\u001b[0;32m~/miniconda3/lib/python3.9/site-packages/sklearn/utils/validation.py\u001b[0m in \u001b[0;36m_num_samples\u001b[0;34m(x)\u001b[0m\n\u001b[1;32m    267\u001b[0m     \u001b[0;32mif\u001b[0m \u001b[0mhasattr\u001b[0m\u001b[0;34m(\u001b[0m\u001b[0mx\u001b[0m\u001b[0;34m,\u001b[0m \u001b[0;34m\"shape\"\u001b[0m\u001b[0;34m)\u001b[0m \u001b[0;32mand\u001b[0m \u001b[0mx\u001b[0m\u001b[0;34m.\u001b[0m\u001b[0mshape\u001b[0m \u001b[0;32mis\u001b[0m \u001b[0;32mnot\u001b[0m \u001b[0;32mNone\u001b[0m\u001b[0;34m:\u001b[0m\u001b[0;34m\u001b[0m\u001b[0;34m\u001b[0m\u001b[0m\n\u001b[1;32m    268\u001b[0m         \u001b[0;32mif\u001b[0m \u001b[0mlen\u001b[0m\u001b[0;34m(\u001b[0m\u001b[0mx\u001b[0m\u001b[0;34m.\u001b[0m\u001b[0mshape\u001b[0m\u001b[0;34m)\u001b[0m \u001b[0;34m==\u001b[0m \u001b[0;36m0\u001b[0m\u001b[0;34m:\u001b[0m\u001b[0;34m\u001b[0m\u001b[0;34m\u001b[0m\u001b[0m\n\u001b[0;32m--> 269\u001b[0;31m             raise TypeError(\n\u001b[0m\u001b[1;32m    270\u001b[0m                 \u001b[0;34m\"Singleton array %r cannot be considered a valid collection.\"\u001b[0m \u001b[0;34m%\u001b[0m \u001b[0mx\u001b[0m\u001b[0;34m\u001b[0m\u001b[0;34m\u001b[0m\u001b[0m\n\u001b[1;32m    271\u001b[0m             )\n",
      "\u001b[0;31mTypeError\u001b[0m: Singleton array array(<built-in method reshape of numpy.ndarray object at 0x7fe3a3f90bd0>,\n      dtype=object) cannot be considered a valid collection."
     ]
    }
   ],
   "source": [
    "X_train, X_test, y_train, y_test = train_test_split(X,y)"
   ]
  },
  {
   "cell_type": "markdown",
   "id": "137712b7-0250-472f-a55c-9d0e2a9756e1",
   "metadata": {},
   "source": [
    "Ahora que tenemos los datos divididos en Train y Test, debemos separar los canales de cada imagen (como hizo el el plot arriba para ilustrar la decomposición). Escribe el código necesário para que las variables `y_train` e `y_test` tengan el formato ilustrado abajo, donde cada lista vacia es un numpy array con la misma cantidad de imagenes (1572 en train, 524 en test) y los pixeles como columnas. Pero que cada value del diccionario tenga apenas los valores del canal correspondiente.\n",
    "\n",
    "```python\n",
    "y_train = {\n",
    "    \"red\": [],\n",
    "    \"blue\": [],\n",
    "    \"green\": []\n",
    "}\n",
    "\n",
    "y_test = {\n",
    "    \"red\": [],\n",
    "    \"blue\": [],\n",
    "    \"green\": []\n",
    "}\n",
    "```\n"
   ]
  },
  {
   "cell_type": "markdown",
   "id": "e3e64bcd-f4b8-4e7c-8109-4a68d57f0dfe",
   "metadata": {},
   "source": [
    "## Step 2. Training Model\n",
    "\n",
    "Tenemos un problema del tipo multioutput, pero el modelo que vamos utilizar es la Regresión Lineal, que no es directamente competible con ese tipo de problema. Para eso usaremos el `MultiOutputRegressor`. "
   ]
  },
  {
   "cell_type": "code",
   "execution_count": null,
   "id": "c703497f-e634-426f-a35c-44fdcc71c445",
   "metadata": {},
   "outputs": [],
   "source": [
    "from sklearn.multioutput import MultiOutputRegressor\n",
    "from sklearn.linear_model import LinearRegression"
   ]
  },
  {
   "cell_type": "code",
   "execution_count": null,
   "id": "9906e611-53ed-4b4e-8e65-b1ceac8d12f9",
   "metadata": {},
   "outputs": [],
   "source": [
    "# Utilizaremos 3 modelos, uno para cada canal.\n",
    "# El parámetro `n_jobs` indica cuantos nucleos de cpu se deben utilizar para entrenar y predecir. \n",
    "# Si le definimos como -1 se usaran todos que estén disponíbles\n",
    "\n",
    "model = {channel:MultiOutputRegressor(LinearRegression(), n_jobs=-1) for channel in [\"red\",\"green\",\"blue\"]}"
   ]
  },
  {
   "cell_type": "markdown",
   "id": "309f51e0-abd8-46b0-bd24-08584a4e8976",
   "metadata": {},
   "source": [
    "Escribe un bucle para entrenar cada modelo con los datos apropriados!\n",
    "\n",
    "Todos utilizaran la misma X, pero cada uno tendrá su `y` especifica, guardada en el dicionário que definimos previamente."
   ]
  },
  {
   "cell_type": "code",
   "execution_count": null,
   "id": "a5efff51-cb5e-43e5-b434-80885006019f",
   "metadata": {},
   "outputs": [],
   "source": [
    "### ~~~ Esa celda requiere tu atención ~~~\n",
    "\n",
    "# Train model here"
   ]
  },
  {
   "cell_type": "markdown",
   "id": "90113858-5d58-4633-be6a-e8b0886e7eef",
   "metadata": {},
   "source": [
    "## Step 3. Predicting\n",
    "\n",
    "A partir de aqui puedes simplemente ejecutar las celdas y disfrutar. Investiga el codigo y como funciona cada celda! Toca y prueba. \n",
    "\n",
    "Como tenemos 3 modelos entrenados separadamente para los 3 canales, también tendremos que hacer 3 prediciones y recomponerles en una única imagen."
   ]
  },
  {
   "cell_type": "code",
   "execution_count": null,
   "id": "cdacd2fd-f0cc-472c-9f99-0b28d4f7b2fc",
   "metadata": {},
   "outputs": [],
   "source": [
    "im_pred = {\n",
    "    channel : model[channel].predict(X_test).reshape(X_test.shape[0],*size) for channel in [\"red\",\"green\",\"blue\"]\n",
    "}"
   ]
  },
  {
   "cell_type": "code",
   "execution_count": null,
   "id": "e9969056-fac9-492b-984f-7dc6fe5770a3",
   "metadata": {},
   "outputs": [],
   "source": [
    "def compose_picture(r,g,b):\n",
    "    image = np.stack([r,g,b], axis = -1) \n",
    "    # We change negative pixel values into 0. Negatives come from the prediction\n",
    "    image = np.where(image < 0, 0, image)\n",
    "    # We make it so individual pixel values are between 0 and 1\n",
    "    image = image/image.max()\n",
    "    return image"
   ]
  },
  {
   "cell_type": "markdown",
   "id": "b337f5d7-9a3e-4a3d-938a-cc3bf03cd9c5",
   "metadata": {},
   "source": [
    "## Printing One Example"
   ]
  },
  {
   "cell_type": "code",
   "execution_count": null,
   "id": "6462a0d9-2f37-402c-8812-b93a2f60e853",
   "metadata": {},
   "outputs": [],
   "source": [
    "image_number = 0\n",
    "\n",
    "plt.figure(figsize=(8,6))\n",
    "plt.subplot(1,6,1)\n",
    "plt.imshow(X_test[image_number].reshape(*size), cmap=\"gray\")\n",
    "plt.title(\"X_test\")\n",
    "plt.axis(\"off\")\n",
    "\n",
    "for i, channel in enumerate([\"red\",\"green\",\"blue\"]):\n",
    "    plt.subplot(1,6,i+2)\n",
    "    plt.imshow(im_pred[channel][image_number].reshape(*size), cmap=channel.title()+\"s\")\n",
    "    plt.title(f\"pred_{channel}\")\n",
    "    plt.axis(\"off\")\n",
    "    \n",
    "plt.subplot(1,6,5)\n",
    "composed_image = compose_picture(*[im_pred[channel][image_number].reshape(*size) for channel in [\"red\",\"green\",\"blue\"]])\n",
    "plt.imshow(composed_image)\n",
    "plt.title(\"pred_comp\")\n",
    "plt.axis(\"off\")\n",
    "\n",
    "plt.subplot(1,6,6)\n",
    "original_image = compose_picture(*[y_test[channel][image_number].reshape(*size) for channel in [\"red\",\"green\",\"blue\"]])\n",
    "plt.imshow(original_image)\n",
    "plt.title(\"original\")\n",
    "plt.axis(\"off\")\n",
    "\n",
    "plt.show()"
   ]
  },
  {
   "cell_type": "markdown",
   "id": "5c2e0584-ba16-4a42-9b14-6753f08a3615",
   "metadata": {},
   "source": [
    "## Printing some more examples"
   ]
  },
  {
   "cell_type": "code",
   "execution_count": null,
   "id": "9e6e917e-a115-4a56-ae1b-b9d66889f012",
   "metadata": {},
   "outputs": [],
   "source": [
    "images_X = X_test.reshape(X_test.shape[0],*size)\n",
    "images_y = [compose_picture(*[y_test[channel][i].reshape(*size) for channel in [\"red\",\"green\",\"blue\"]]) for i in range(y_test[\"red\"].shape[0])]\n",
    "images_pred = [compose_picture(*[im_pred[channel][i].reshape(*size) for channel in [\"red\",\"green\",\"blue\"]]) for i in range(im_pred[\"red\"].shape[0])]"
   ]
  },
  {
   "cell_type": "code",
   "execution_count": null,
   "id": "bc986b7b-37b5-4b3c-9692-476817609789",
   "metadata": {},
   "outputs": [],
   "source": [
    "n_images = 10\n",
    "\n",
    "plt.figure(figsize=(4,5*n_images))\n",
    "images = [im for tup in (zip(images_X,images_y,images_pred)) for im in tup]\n",
    "titles = [\"Gray\", \"Original\", \"Predicted\"]*n_images\n",
    "for i in range(n_images*3):\n",
    "    plt.subplot(n_images*3,3,i+1)\n",
    "    if titles[i] == \"Gray\":\n",
    "        plt.imshow(images[i], cmap=\"gray\")\n",
    "    else:\n",
    "        plt.imshow(images[i])\n",
    "    plt.title(titles[i])\n",
    "    plt.axis(\"off\")"
   ]
  },
  {
   "cell_type": "markdown",
   "id": "7f4508a7-6cb3-4324-bc7f-8a44f5c05bc4",
   "metadata": {},
   "source": [
    "## Step 4. Predicting with images from a different source\n",
    "\n",
    "Ahora es donde verdaderamente testeamos nuestro modelo! Vamos cargar imagenes que el nunca vió y además no tienen el mismo origen que el dataset de train y test."
   ]
  },
  {
   "cell_type": "code",
   "execution_count": null,
   "id": "823e2fe0-0c8d-4a9f-b405-444c7653391a",
   "metadata": {},
   "outputs": [],
   "source": [
    "def predict_images(models, X):\n",
    "    im_pred = {\n",
    "    channel : models[channel].predict(X).reshape(X.shape[0],*size) for channel in [\"red\",\"green\",\"blue\"]\n",
    "}\n",
    "    return np.array([compose_picture(*[im_pred[channel][i].reshape(*size) for channel in [\"red\",\"green\",\"blue\"]]) for i in range(im_pred[\"red\"].shape[0])])"
   ]
  },
  {
   "cell_type": "code",
   "execution_count": null,
   "id": "2ae1acbf-ed2e-490d-8a42-7453fcbaa5c8",
   "metadata": {},
   "outputs": [],
   "source": [
    "path = \"./test_images\"\n",
    "images = np.array([np.array(Image.open(f\"{path}/{image}.png\").resize(size).convert(\"L\")) for image in range(1,5)])"
   ]
  },
  {
   "cell_type": "code",
   "execution_count": null,
   "id": "e489412d-5e85-4c9b-8020-227958582490",
   "metadata": {},
   "outputs": [],
   "source": [
    "for i in range(len(images)):\n",
    "    plt.subplot(1,len(images),i+1)\n",
    "    plt.imshow(images[i], cmap=\"gray\")\n",
    "    plt.axis(\"off\")"
   ]
  },
  {
   "cell_type": "code",
   "execution_count": null,
   "id": "1c582237-62a3-44af-bee0-b1fa9f01d4d0",
   "metadata": {},
   "outputs": [],
   "source": [
    "predicted = predict_images(model, images.reshape(len(images),pixels))"
   ]
  },
  {
   "cell_type": "code",
   "execution_count": null,
   "id": "8e6044ed-bed9-4db1-9e9d-4a898f436c25",
   "metadata": {},
   "outputs": [],
   "source": [
    "for i in range(len(predicted)):\n",
    "    plt.subplot(1,len(predicted),i+1)\n",
    "    plt.imshow(predicted[i], cmap=\"gray\")\n",
    "    plt.axis(\"off\")"
   ]
  },
  {
   "cell_type": "markdown",
   "id": "018dc6b9-dea5-48de-bdac-1c2e2a86943f",
   "metadata": {},
   "source": [
    "## Keep on Coding!\n",
    "\n",
    "Espero que hayas disfrutado de esa experiencia por el Machine Learning y que veas que simples regresiones lineales pueden abrir las puertas para cosas bastante guays si utilizamos bien las herramientas.\n",
    "\n",
    "Limitamos el dataset en ese ejemplo a emojis que contengan algun tipo de cara, sea de personaje humano o animal. Si quieres, puedes probarlo con todos los emojis. Los datos pueden ser encontrados [aqui.](https://www.kaggle.com/subinium/emojiimage-dataset)"
   ]
  }
 ],
 "metadata": {
  "kernelspec": {
   "display_name": "Python 3",
   "language": "python",
   "name": "python3"
  },
  "language_info": {
   "codemirror_mode": {
    "name": "ipython",
    "version": 3
   },
   "file_extension": ".py",
   "mimetype": "text/x-python",
   "name": "python",
   "nbconvert_exporter": "python",
   "pygments_lexer": "ipython3",
   "version": "3.9.5"
  }
 },
 "nbformat": 4,
 "nbformat_minor": 5
}
