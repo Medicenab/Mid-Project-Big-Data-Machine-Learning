{
 "cells": [
  {
   "cell_type": "markdown",
   "id": "5e86a688",
   "metadata": {},
   "source": [
    "![](https://api.brandy.run/core/core-logo-wide)\n",
    "\n",
    "# Web Scraping Exercise\n",
    "\n",
    "En ese ejercício practicaremos como extraer datos de páginas web por webscraping"
   ]
  },
  {
   "cell_type": "code",
   "execution_count": 1,
   "id": "3c7f972c",
   "metadata": {},
   "outputs": [],
   "source": [
    "import requests\n",
    "from bs4 import BeautifulSoup"
   ]
  },
  {
   "cell_type": "markdown",
   "id": "87c4b5b4",
   "metadata": {},
   "source": [
    "## 1 Hacker News\n",
    "\n",
    "Visite el link abajo y reuna en un dataframe el nombre, autor, cantidad de puntos y el elace para la notícia de las 200 primeras notícias en `https://news.ycombinator.com/`"
   ]
  },
  {
   "cell_type": "code",
   "execution_count": 2,
   "id": "86aaf0d6",
   "metadata": {},
   "outputs": [],
   "source": [
    "url = \"https://news.ycombinator.com/\""
   ]
  },
  {
   "cell_type": "code",
   "execution_count": null,
   "id": "9814f447",
   "metadata": {},
   "outputs": [],
   "source": []
  },
  {
   "cell_type": "markdown",
   "id": "c3df626c",
   "metadata": {},
   "source": [
    "## 2 Births and Deaths\n",
    "Con un parámetro `year` y la url de wikipedia referiente a ese año, extrae la el listado de todas las personas que hayan nacido o muerto en ese año, con las respectivas fechas. \n",
    "\n",
    "`HINT: Es mejor hacerlo primero para uno (muertes o nacimientos) y después para el otro.`"
   ]
  },
  {
   "cell_type": "code",
   "execution_count": 3,
   "id": "4a61525f",
   "metadata": {},
   "outputs": [],
   "source": [
    "year = 1983\n",
    "url = f\"https://en.wikipedia.org/wiki/{year}\""
   ]
  },
  {
   "cell_type": "code",
   "execution_count": null,
   "id": "7b7dc425",
   "metadata": {},
   "outputs": [],
   "source": []
  },
  {
   "cell_type": "markdown",
   "id": "3644ca9c",
   "metadata": {},
   "source": [
    "## 3.1 Top 250 movies\n",
    "Recorra la lista de las 250 mejores películas segun IMDb y recopile los títulos y enlaces para cada una de las películas."
   ]
  },
  {
   "cell_type": "code",
   "execution_count": 4,
   "id": "bf21b9e5",
   "metadata": {},
   "outputs": [],
   "source": [
    "url = \"https://www.imdb.com/chart/top/?ref_=nv_mv_250\""
   ]
  },
  {
   "cell_type": "code",
   "execution_count": null,
   "id": "026ab072",
   "metadata": {},
   "outputs": [],
   "source": []
  },
  {
   "cell_type": "markdown",
   "id": "7f893fb9",
   "metadata": {},
   "source": [
    "## 3.2 Top 250 movies data\n",
    "\n",
    "Para cada uno de los enlaces recogidos en el ejercício anterior (ejemplo: `https://www.imdb.com/title/tt0111161/`), escrapee de la página de la película el título, año de lanzamiento, tiempo de duración, el nombre de los actores citados en `Top Cast`, director y escritores.\n",
    "\n",
    "Guarde toda la información en una colección en MongoDB donde cada documento sea como el siguiente ejemplo:\n",
    "\n",
    "```javascript\n",
    "{\n",
    "    'title':'The Shawshank Redemption',\n",
    "    'year':1994,\n",
    "    'duration':'2h 22min',\n",
    "    'cast':['Tim Robbins',\n",
    "            'Morgan Freeman',\n",
    "            'Bob Gunton',\n",
    "            'William Sadler',\n",
    "            'Clancy Brown',\n",
    "            'Gil Bellows',\n",
    "            'Mark Rolston',\n",
    "            'James Whitmore',\n",
    "            'Jeffrey DeMunn',\n",
    "            'Larry Brandenburg',\n",
    "            'Neil Giuntoli',\n",
    "            'Brian Libby',\n",
    "            'David Proval',\n",
    "            'Joseph Ragno',\n",
    "            'Jude Ciccolella',\n",
    "            'Paul McCrane',\n",
    "            'Renee Blaine',\n",
    "            'Scott Mann'],\n",
    "    'directors':['Frank Darabont'],\n",
    "    'writers':['Stephen King', 'Frank Darabont']\n",
    "}\n",
    "```"
   ]
  },
  {
   "cell_type": "code",
   "execution_count": null,
   "id": "86a82e9b",
   "metadata": {},
   "outputs": [],
   "source": []
  }
 ],
 "metadata": {
  "kernelspec": {
   "display_name": "Python 3 (ipykernel)",
   "language": "python",
   "name": "python3"
  },
  "language_info": {
   "codemirror_mode": {
    "name": "ipython",
    "version": 3
   },
   "file_extension": ".py",
   "mimetype": "text/x-python",
   "name": "python",
   "nbconvert_exporter": "python",
   "pygments_lexer": "ipython3",
   "version": "3.9.7"
  },
  "toc": {
   "base_numbering": 1,
   "nav_menu": {},
   "number_sections": false,
   "sideBar": true,
   "skip_h1_title": true,
   "title_cell": "Table of Contents",
   "title_sidebar": "Contents",
   "toc_cell": true,
   "toc_position": {
    "height": "807px",
    "left": "85px",
    "top": "110px",
    "width": "212px"
   },
   "toc_section_display": true,
   "toc_window_display": false
  }
 },
 "nbformat": 4,
 "nbformat_minor": 5
}
