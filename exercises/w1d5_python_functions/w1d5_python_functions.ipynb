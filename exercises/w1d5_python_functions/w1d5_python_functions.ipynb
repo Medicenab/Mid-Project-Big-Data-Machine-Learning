{
 "cells": [
  {
   "cell_type": "markdown",
   "metadata": {},
   "source": [
    "![](https://api.brandy.run/core/core-logo-wide)\n",
    "\n",
    "# Python Functions\n",
    "\n",
    "En este ejercicio te toca programar, intenta escribir las funciones propuestas en cada uno de los enunciados.\n",
    "\n",
    "**NOTA:** Intenta no usar funciones auxiliares como `len`,`count`,`sum`,`max`,`min`,`in`,`etc`. Siempre puedes usar otras funciones disponibles directamente sin importar ninguna librería (built-in) https://docs.python.org/3/library/functions.html\n",
    "\n",
    "Este ejercicio usa `tests` unitarios para comprobar que el código que escribes es correcto.\n",
    "\n",
    "La celda siguiente a cada ejercicio contiene la llamada a la función propuesta encapsulada en una función que la testea, validando así que tu solución es correcta (recuerda: hay mil soluciones posibles, buscamos una válida 😇)\n",
    "\n",
    "Ejecuta los tests y comprueba que el resultado es correcto."
   ]
  },
  {
   "cell_type": "code",
   "execution_count": null,
   "metadata": {},
   "outputs": [],
   "source": [
    "from checks import check"
   ]
  },
  {
   "cell_type": "markdown",
   "metadata": {},
   "source": [
    "## 1. Escribe una función que devuelva el máximo de dos valores"
   ]
  },
  {
   "cell_type": "code",
   "execution_count": null,
   "metadata": {},
   "outputs": [],
   "source": [
    "def mayor(a,b):\n",
    "    if a > b:\n",
    "        return a\n",
    "    else:\n",
    "        return b"
   ]
  },
  {
   "cell_type": "code",
   "execution_count": null,
   "metadata": {},
   "outputs": [],
   "source": [
    "check.test_mayor(mayor)"
   ]
  },
  {
   "cell_type": "markdown",
   "metadata": {},
   "source": [
    "## 2. Una función que devuelve el elemento máximo de una lista"
   ]
  },
  {
   "cell_type": "code",
   "execution_count": null,
   "metadata": {},
   "outputs": [],
   "source": [
    "def maximo(lst):\n",
    "    pass"
   ]
  },
  {
   "cell_type": "code",
   "execution_count": null,
   "metadata": {},
   "outputs": [],
   "source": [
    "check.test_maximo(maximo)"
   ]
  },
  {
   "cell_type": "markdown",
   "metadata": {},
   "source": [
    "## 3. Escribe una función que sume todos los elementos en una lista"
   ]
  },
  {
   "cell_type": "code",
   "execution_count": null,
   "metadata": {},
   "outputs": [],
   "source": [
    "def suma_lista(lst):\n",
    "    pass"
   ]
  },
  {
   "cell_type": "code",
   "execution_count": null,
   "metadata": {},
   "outputs": [],
   "source": [
    "check.test_suma_lista(suma_lista)"
   ]
  },
  {
   "cell_type": "markdown",
   "metadata": {},
   "source": [
    "## 4. Escribe una función que multiplique todos los elementos de una lista"
   ]
  },
  {
   "cell_type": "code",
   "execution_count": null,
   "metadata": {},
   "outputs": [],
   "source": [
    "def multiplica_lista(lst):\n",
    "    pass"
   ]
  },
  {
   "cell_type": "code",
   "execution_count": null,
   "metadata": {},
   "outputs": [],
   "source": [
    "check.test_multiplica_lista(multiplica_lista)"
   ]
  },
  {
   "cell_type": "markdown",
   "metadata": {},
   "source": [
    "## 5. Combina las funciones anteriores en una nueva función que recibe una lista, un operador `+` o `*` y devuelve el resultado\n",
    "\n",
    "Vamos a mejorar y combinar las funciones anteriores en una nueva función, abstrayendo la funcionalidad usando un operador como parámetro que decida a que función llamar."
   ]
  },
  {
   "cell_type": "code",
   "execution_count": null,
   "metadata": {},
   "outputs": [],
   "source": [
    "def opera_lista(lst, op):\n",
    "    pass"
   ]
  },
  {
   "cell_type": "code",
   "execution_count": null,
   "metadata": {},
   "outputs": [],
   "source": [
    "check.test_opera_lista(opera_lista)"
   ]
  },
  {
   "cell_type": "markdown",
   "metadata": {},
   "source": [
    "## 6. Escribe una función que devuelva el factorial de un número"
   ]
  },
  {
   "cell_type": "code",
   "execution_count": null,
   "metadata": {},
   "outputs": [],
   "source": [
    "def factorial(n):\n",
    "    pass"
   ]
  },
  {
   "cell_type": "code",
   "execution_count": null,
   "metadata": {},
   "outputs": [],
   "source": [
    "check.test_factorial(factorial)"
   ]
  },
  {
   "cell_type": "markdown",
   "metadata": {},
   "source": [
    "## 7. Escribe una función que recibe una lista y devuelve una lista con los valores únicos de esta\n",
    "\n",
    "⚠️ IMPORTANTE: No puedes usar `set()`"
   ]
  },
  {
   "cell_type": "code",
   "execution_count": null,
   "metadata": {},
   "outputs": [],
   "source": [
    "def unicos(lst):\n",
    "    pass"
   ]
  },
  {
   "cell_type": "code",
   "execution_count": null,
   "metadata": {},
   "outputs": [],
   "source": [
    "check.test_unicos(unicos)"
   ]
  },
  {
   "cell_type": "markdown",
   "metadata": {},
   "source": [
    "## 8. Escribe una función que devuelva la `moda` de una lista. Es decir, el elemento que mas veces aparece.\n",
    "\n",
    "Aquí tienes +info: https://es.wikipedia.org/wiki/Moda_(estad%C3%ADstica)\n",
    "\n",
    "⚠️IMPORTANTE: No deberías usar `count()`...😏🧐"
   ]
  },
  {
   "cell_type": "code",
   "execution_count": null,
   "metadata": {},
   "outputs": [],
   "source": [
    "def calcula_moda(lst):\n",
    "    pass"
   ]
  },
  {
   "cell_type": "code",
   "execution_count": null,
   "metadata": {},
   "outputs": [],
   "source": [
    "check.test_calcula_moda(calcula_moda)"
   ]
  },
  {
   "cell_type": "markdown",
   "metadata": {},
   "source": [
    "## 9. Escribe una función que calcule la desviación típica de una lista. \n",
    "(STD o standard deviation es su traducción en inglés)\n",
    "\n",
    "- https://es.wikipedia.org/wiki/Desviaci%C3%B3n_t%C3%ADpica\n",
    "\n",
    "⚠️IMPORTANTE: No uses librerías para realizar el cálculo, aunque puedes usarlas para comprobar que el resultado es correcto.\n",
    "\n",
    "Aquí tienes la documentación oficial del módulo de estadística de python:\n",
    "- https://docs.python.org/3/library/statistics.html"
   ]
  },
  {
   "cell_type": "code",
   "execution_count": null,
   "metadata": {},
   "outputs": [],
   "source": [
    "from statistics import stdev\n",
    "\n",
    "def st_dev(arr):\n",
    "    pass"
   ]
  },
  {
   "cell_type": "code",
   "execution_count": null,
   "metadata": {},
   "outputs": [],
   "source": [
    "check.test_stdev(st_dev)"
   ]
  },
  {
   "cell_type": "markdown",
   "metadata": {},
   "source": [
    "## 10. Escribe una función que compruebe si una cadena de texto es un pangrama.\n",
    "\n",
    "- https://es.wikipedia.org/wiki/Pangrama\n",
    "\n",
    "Ejemplo: Es un pangrama si contiene todas las letras del alfabeto como mínimo una vez. \n",
    "\n",
    "OJO: Las cadenas de texto pueden contener carácteres que no sean letras. "
   ]
  },
  {
   "cell_type": "code",
   "execution_count": null,
   "metadata": {},
   "outputs": [],
   "source": [
    "def pangram(s):\n",
    "    pass"
   ]
  },
  {
   "cell_type": "code",
   "execution_count": null,
   "metadata": {},
   "outputs": [],
   "source": [
    "check.test_pangram(pangram)"
   ]
  },
  {
   "cell_type": "markdown",
   "metadata": {},
   "source": [
    "## 11. Escribe una función que recibe una cadena de texto de palabras separadas por el caracter coma `,` y devuelve una cadena de texto con las mismas palabras separadas por coma `,`, pero ordenadas alfabeticamente."
   ]
  },
  {
   "cell_type": "code",
   "execution_count": null,
   "metadata": {},
   "outputs": [],
   "source": [
    "def sort_alpha(x):\n",
    "    pass"
   ]
  },
  {
   "cell_type": "code",
   "execution_count": null,
   "metadata": {},
   "outputs": [],
   "source": [
    "check.test_alpha(sort_alpha)"
   ]
  },
  {
   "cell_type": "markdown",
   "metadata": {},
   "source": [
    "## 12. Escribe una función que compruebe si un determinado password es suficientemente seguro, sigue las reglas proporcionadas:\n",
    "\n",
    "Reglas:\n",
    "- Como mínimo 8 caracteres\n",
    "- Como mínimo una mayúscula\n",
    "- Como mínimo un número\n",
    "- Como mínimo un caracter especial\n",
    "\n",
    "\n",
    "Caracteres especiales válidos: `# @ ! $ % & ( ) ^ * [ ] { }`\n",
    "\n",
    "⚠️**IMPORTANTE: Debe devolver `True` si la contraseña es segura y `False` en caso contrario**\n"
   ]
  },
  {
   "cell_type": "code",
   "execution_count": null,
   "metadata": {},
   "outputs": [],
   "source": [
    "def check_pass(x):\n",
    "    pass"
   ]
  },
  {
   "cell_type": "code",
   "execution_count": null,
   "metadata": {},
   "outputs": [],
   "source": [
    "check.test_passwd(check_pass)"
   ]
  },
  {
   "cell_type": "markdown",
   "metadata": {},
   "source": [
    "## 🥳 ¡¡¡Enhorabuena,  has terminado!!! 🔥🔥🔥"
   ]
  }
 ],
 "metadata": {
  "kernelspec": {
   "display_name": "Python 3 (ipykernel)",
   "language": "python",
   "name": "python3"
  },
  "language_info": {
   "codemirror_mode": {
    "name": "ipython",
    "version": 3
   },
   "file_extension": ".py",
   "mimetype": "text/x-python",
   "name": "python",
   "nbconvert_exporter": "python",
   "pygments_lexer": "ipython3",
   "version": "3.9.7"
  },
  "toc": {
   "base_numbering": 1,
   "nav_menu": {},
   "number_sections": false,
   "sideBar": true,
   "skip_h1_title": true,
   "title_cell": "Table of Contents",
   "title_sidebar": "Contents",
   "toc_cell": false,
   "toc_position": {
    "height": "calc(100% - 180px)",
    "left": "10px",
    "top": "150px",
    "width": "284px"
   },
   "toc_section_display": true,
   "toc_window_display": false
  }
 },
 "nbformat": 4,
 "nbformat_minor": 4
}
